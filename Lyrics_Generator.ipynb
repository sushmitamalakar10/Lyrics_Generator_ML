{
 "cells": [
  {
   "cell_type": "markdown",
   "metadata": {},
   "source": [
    "# Lyrics Generator"
   ]
  },
  {
   "cell_type": "code",
   "execution_count": 39,
   "metadata": {},
   "outputs": [],
   "source": [
    "import os\n",
    "import pandas as pd"
   ]
  },
  {
   "cell_type": "code",
   "execution_count": 40,
   "metadata": {},
   "outputs": [
    {
     "name": "stdout",
     "output_type": "stream",
     "text": [
      "Merged 20 CSV files into 'E:\\Lyrics_Generator\\Data_Sets\\merged_songs.csv' successfully!\n"
     ]
    }
   ],
   "source": [
    "\n",
    "# Define input and output paths\n",
    "folder_path = r\"E:\\Lyrics_Generator\\Data_Sets\\Songs\"\n",
    "output_folder = r\"E:\\Lyrics_Generator\\Data_Sets\"\n",
    "output_file = os.path.join(output_folder, \"merged_songs.csv\")\n",
    "\n",
    "# Ensure output folder exists\n",
    "os.makedirs(output_folder, exist_ok=True)\n",
    "\n",
    "# Get all CSV files in the folder\n",
    "csv_files = [file for file in os.listdir(folder_path) if file.endswith(\".csv\")]\n",
    "\n",
    "# Read and merge\n",
    "dfs = [pd.read_csv(os.path.join(folder_path, file)) for file in csv_files]\n",
    "merged_df = pd.concat(dfs, ignore_index=True)\n",
    "\n",
    "# Save to CSV\n",
    "merged_df.to_csv(output_file, index=False)\n",
    "print(f\"Merged {len(csv_files)} CSV files into '{output_file}' successfully!\")\n",
    "\n",
    "# folder_path = \"E:\\AI\\Lyrics_Generator_RNN\\Song_dataset\"\n",
    "\n",
    "# csv_files = [file for file in os.listdir(folder_path) if file.endswith(\".csv\")]\n",
    "\n",
    "# dfs = [pd.read_csv(os.path.join(folder_path, file)) for file in csv_files]\n",
    "# merged_df = pd.concat(dfs, ignore_index=True)\n",
    "\n",
    "# merged_df.to_csv(r\"E:\\AI\\Lyrics_Generator_RNN\\Data_sets\\merged_songs.csv\", index=False)\n",
    "\n",
    "# print(f\"Merged {len(csv_files)} CSV files into 'merged_songs.csv' successfully!\")\n"
   ]
  },
  {
   "cell_type": "markdown",
   "metadata": {},
   "source": [
    "## Loading the DataSets"
   ]
  },
  {
   "cell_type": "code",
   "execution_count": 41,
   "metadata": {},
   "outputs": [],
   "source": [
    "df = pd.read_csv(r\"E:\\Lyrics_Generator\\Data_sets\\merged_songs.csv\")"
   ]
  },
  {
   "cell_type": "code",
   "execution_count": 42,
   "metadata": {},
   "outputs": [
    {
     "data": {
      "text/html": [
       "<div>\n",
       "<style scoped>\n",
       "    .dataframe tbody tr th:only-of-type {\n",
       "        vertical-align: middle;\n",
       "    }\n",
       "\n",
       "    .dataframe tbody tr th {\n",
       "        vertical-align: top;\n",
       "    }\n",
       "\n",
       "    .dataframe thead th {\n",
       "        text-align: right;\n",
       "    }\n",
       "</style>\n",
       "<table border=\"1\" class=\"dataframe\">\n",
       "  <thead>\n",
       "    <tr style=\"text-align: right;\">\n",
       "      <th></th>\n",
       "      <th>Artist</th>\n",
       "      <th>Title</th>\n",
       "      <th>Album</th>\n",
       "      <th>Date</th>\n",
       "      <th>Lyric</th>\n",
       "      <th>Year</th>\n",
       "      <th>Unnamed: 0</th>\n",
       "    </tr>\n",
       "  </thead>\n",
       "  <tbody>\n",
       "    <tr>\n",
       "      <th>0</th>\n",
       "      <td>Ariana Grande</td>\n",
       "      <td>​thank u, next</td>\n",
       "      <td>thank u, next</td>\n",
       "      <td>2018-11-03</td>\n",
       "      <td>thought i'd end up with sean but he wasn't a m...</td>\n",
       "      <td>2018.0</td>\n",
       "      <td>NaN</td>\n",
       "    </tr>\n",
       "    <tr>\n",
       "      <th>1</th>\n",
       "      <td>Ariana Grande</td>\n",
       "      <td>7 rings</td>\n",
       "      <td>thank u, next</td>\n",
       "      <td>2019-01-18</td>\n",
       "      <td>yeah breakfast at tiffany's and bottles of bub...</td>\n",
       "      <td>2019.0</td>\n",
       "      <td>NaN</td>\n",
       "    </tr>\n",
       "    <tr>\n",
       "      <th>2</th>\n",
       "      <td>Ariana Grande</td>\n",
       "      <td>​God is a woman</td>\n",
       "      <td>Sweetener</td>\n",
       "      <td>2018-07-13</td>\n",
       "      <td>you you love it how i move you you love it how...</td>\n",
       "      <td>2018.0</td>\n",
       "      <td>NaN</td>\n",
       "    </tr>\n",
       "  </tbody>\n",
       "</table>\n",
       "</div>"
      ],
      "text/plain": [
       "          Artist            Title          Album        Date  \\\n",
       "0  Ariana Grande   ​thank u, next  thank u, next  2018-11-03   \n",
       "1  Ariana Grande          7 rings  thank u, next  2019-01-18   \n",
       "2  Ariana Grande  ​God is a woman      Sweetener  2018-07-13   \n",
       "\n",
       "                                               Lyric    Year  Unnamed: 0  \n",
       "0  thought i'd end up with sean but he wasn't a m...  2018.0         NaN  \n",
       "1  yeah breakfast at tiffany's and bottles of bub...  2019.0         NaN  \n",
       "2  you you love it how i move you you love it how...  2018.0         NaN  "
      ]
     },
     "execution_count": 42,
     "metadata": {},
     "output_type": "execute_result"
    }
   ],
   "source": [
    "df.head(3)"
   ]
  },
  {
   "cell_type": "markdown",
   "metadata": {},
   "source": [
    "## Exploring the data"
   ]
  },
  {
   "cell_type": "code",
   "execution_count": 43,
   "metadata": {},
   "outputs": [
    {
     "data": {
      "text/plain": [
       "Artist\n",
       "Eminem           521\n",
       "Taylor Swift     479\n",
       "Drake            466\n",
       "Beyoncé          406\n",
       "Rihanna          405\n",
       "Lady Gaga        402\n",
       "Justin Bieber    348\n",
       "Coldplay         344\n",
       "Katy Perry       325\n",
       "Nicki Minaj      323\n",
       "Ariana Grande    308\n",
       "Ed Sheeran       296\n",
       "Dua Lipa         247\n",
       "Maroon 5         197\n",
       "Selena Gomez     175\n",
       "Post Malone      148\n",
       "Billie Eilish    145\n",
       "Charlie Puth      75\n",
       "Cardi B           75\n",
       "Khalid            64\n",
       "Name: count, dtype: int64"
      ]
     },
     "execution_count": 43,
     "metadata": {},
     "output_type": "execute_result"
    }
   ],
   "source": [
    "df['Artist'].value_counts()"
   ]
  },
  {
   "cell_type": "code",
   "execution_count": 44,
   "metadata": {},
   "outputs": [
    {
     "data": {
      "text/plain": [
       "(5749, 7)"
      ]
     },
     "execution_count": 44,
     "metadata": {},
     "output_type": "execute_result"
    }
   ],
   "source": [
    "df.shape"
   ]
  },
  {
   "cell_type": "markdown",
   "metadata": {},
   "source": [
    "## Checking for the missing data"
   ]
  },
  {
   "cell_type": "code",
   "execution_count": 45,
   "metadata": {},
   "outputs": [
    {
     "data": {
      "text/plain": [
       "Artist           0\n",
       "Title            0\n",
       "Album         1552\n",
       "Date          1744\n",
       "Lyric           38\n",
       "Year          1744\n",
       "Unnamed: 0     308\n",
       "dtype: int64"
      ]
     },
     "execution_count": 45,
     "metadata": {},
     "output_type": "execute_result"
    }
   ],
   "source": [
    "df.isnull().sum()"
   ]
  },
  {
   "cell_type": "code",
   "execution_count": 46,
   "metadata": {},
   "outputs": [],
   "source": [
    "df = df.drop(columns=['Album', 'Date', 'Year', 'Unnamed: 0'])"
   ]
  },
  {
   "cell_type": "code",
   "execution_count": 47,
   "metadata": {},
   "outputs": [
    {
     "data": {
      "text/plain": [
       "Artist     0\n",
       "Title      0\n",
       "Lyric     38\n",
       "dtype: int64"
      ]
     },
     "execution_count": 47,
     "metadata": {},
     "output_type": "execute_result"
    }
   ],
   "source": [
    "df.isnull().sum()"
   ]
  },
  {
   "cell_type": "code",
   "execution_count": 48,
   "metadata": {},
   "outputs": [],
   "source": [
    "df = df.dropna(subset=['Lyric'])  # Remove rows with missing lyrics\n",
    "df = df.drop_duplicates()  # Remove duplicate lyrics"
   ]
  },
  {
   "cell_type": "code",
   "execution_count": 49,
   "metadata": {},
   "outputs": [
    {
     "data": {
      "text/plain": [
       "Artist    0\n",
       "Title     0\n",
       "Lyric     0\n",
       "dtype: int64"
      ]
     },
     "execution_count": 49,
     "metadata": {},
     "output_type": "execute_result"
    }
   ],
   "source": [
    "df.isnull().sum()"
   ]
  },
  {
   "cell_type": "code",
   "execution_count": 50,
   "metadata": {},
   "outputs": [
    {
     "data": {
      "text/plain": [
       "(5711, 3)"
      ]
     },
     "execution_count": 50,
     "metadata": {},
     "output_type": "execute_result"
    }
   ],
   "source": [
    "df.shape"
   ]
  },
  {
   "cell_type": "raw",
   "metadata": {
    "vscode": {
     "languageId": "raw"
    }
   },
   "source": [
    "df.head(3)"
   ]
  },
  {
   "cell_type": "code",
   "execution_count": 51,
   "metadata": {},
   "outputs": [
    {
     "data": {
      "text/plain": [
       "Artist\n",
       "Eminem           521\n",
       "Taylor Swift     477\n",
       "Drake            464\n",
       "Beyoncé          406\n",
       "Rihanna          397\n",
       "Lady Gaga        395\n",
       "Justin Bieber    347\n",
       "Coldplay         333\n",
       "Katy Perry       324\n",
       "Nicki Minaj      321\n",
       "Ariana Grande    308\n",
       "Ed Sheeran       294\n",
       "Dua Lipa         246\n",
       "Maroon 5         197\n",
       "Selena Gomez     174\n",
       "Post Malone      148\n",
       "Billie Eilish    145\n",
       "Charlie Puth      75\n",
       "Cardi B           75\n",
       "Khalid            64\n",
       "Name: count, dtype: int64"
      ]
     },
     "execution_count": 51,
     "metadata": {},
     "output_type": "execute_result"
    }
   ],
   "source": [
    "df['Artist'].value_counts()"
   ]
  },
  {
   "cell_type": "markdown",
   "metadata": {},
   "source": [
    "## Text Preprocessing"
   ]
  },
  {
   "cell_type": "code",
   "execution_count": 52,
   "metadata": {},
   "outputs": [],
   "source": [
    "new_df = df.copy()"
   ]
  },
  {
   "cell_type": "code",
   "execution_count": 53,
   "metadata": {},
   "outputs": [
    {
     "data": {
      "text/html": [
       "<div>\n",
       "<style scoped>\n",
       "    .dataframe tbody tr th:only-of-type {\n",
       "        vertical-align: middle;\n",
       "    }\n",
       "\n",
       "    .dataframe tbody tr th {\n",
       "        vertical-align: top;\n",
       "    }\n",
       "\n",
       "    .dataframe thead th {\n",
       "        text-align: right;\n",
       "    }\n",
       "</style>\n",
       "<table border=\"1\" class=\"dataframe\">\n",
       "  <thead>\n",
       "    <tr style=\"text-align: right;\">\n",
       "      <th></th>\n",
       "      <th>Artist</th>\n",
       "      <th>Title</th>\n",
       "      <th>Lyric</th>\n",
       "    </tr>\n",
       "  </thead>\n",
       "  <tbody>\n",
       "    <tr>\n",
       "      <th>0</th>\n",
       "      <td>Ariana Grande</td>\n",
       "      <td>​thank u, next</td>\n",
       "      <td>thought i'd end up with sean but he wasn't a m...</td>\n",
       "    </tr>\n",
       "    <tr>\n",
       "      <th>1</th>\n",
       "      <td>Ariana Grande</td>\n",
       "      <td>7 rings</td>\n",
       "      <td>yeah breakfast at tiffany's and bottles of bub...</td>\n",
       "    </tr>\n",
       "    <tr>\n",
       "      <th>2</th>\n",
       "      <td>Ariana Grande</td>\n",
       "      <td>​God is a woman</td>\n",
       "      <td>you you love it how i move you you love it how...</td>\n",
       "    </tr>\n",
       "    <tr>\n",
       "      <th>3</th>\n",
       "      <td>Ariana Grande</td>\n",
       "      <td>Side To Side</td>\n",
       "      <td>ariana grande  nicki minaj i've been here all ...</td>\n",
       "    </tr>\n",
       "    <tr>\n",
       "      <th>4</th>\n",
       "      <td>Ariana Grande</td>\n",
       "      <td>​​no tears left to cry</td>\n",
       "      <td>right now i'm in a state of mind i wanna be in...</td>\n",
       "    </tr>\n",
       "    <tr>\n",
       "      <th>...</th>\n",
       "      <td>...</td>\n",
       "      <td>...</td>\n",
       "      <td>...</td>\n",
       "    </tr>\n",
       "    <tr>\n",
       "      <th>5744</th>\n",
       "      <td>Taylor Swift</td>\n",
       "      <td>Teardrops on my Guitar (Live from Clear Channe...</td>\n",
       "      <td>drew looks at me i fake a smile so he won't se...</td>\n",
       "    </tr>\n",
       "    <tr>\n",
       "      <th>5745</th>\n",
       "      <td>Taylor Swift</td>\n",
       "      <td>Evermore [Forward]</td>\n",
       "      <td>to put it plainly we just couldnt stop writing...</td>\n",
       "    </tr>\n",
       "    <tr>\n",
       "      <th>5746</th>\n",
       "      <td>Taylor Swift</td>\n",
       "      <td>Welcome Back Grunwald</td>\n",
       "      <td>turn wycd on you're on your grunwald back from...</td>\n",
       "    </tr>\n",
       "    <tr>\n",
       "      <th>5747</th>\n",
       "      <td>Taylor Swift</td>\n",
       "      <td>Tolerate it (Polskie Tłumaczenie)</td>\n",
       "      <td>zwrotka  siedzę i patrzę jak czytasz z głową p...</td>\n",
       "    </tr>\n",
       "    <tr>\n",
       "      <th>5748</th>\n",
       "      <td>Taylor Swift</td>\n",
       "      <td>Find you</td>\n",
       "      <td>trying just like they say just taking the step...</td>\n",
       "    </tr>\n",
       "  </tbody>\n",
       "</table>\n",
       "<p>5711 rows × 3 columns</p>\n",
       "</div>"
      ],
      "text/plain": [
       "             Artist                                              Title  \\\n",
       "0     Ariana Grande                                     ​thank u, next   \n",
       "1     Ariana Grande                                            7 rings   \n",
       "2     Ariana Grande                                    ​God is a woman   \n",
       "3     Ariana Grande                                       Side To Side   \n",
       "4     Ariana Grande                             ​​no tears left to cry   \n",
       "...             ...                                                ...   \n",
       "5744   Taylor Swift  Teardrops on my Guitar (Live from Clear Channe...   \n",
       "5745   Taylor Swift                                 Evermore [Forward]   \n",
       "5746   Taylor Swift                              Welcome Back Grunwald   \n",
       "5747   Taylor Swift                  Tolerate it (Polskie Tłumaczenie)   \n",
       "5748   Taylor Swift                                           Find you   \n",
       "\n",
       "                                                  Lyric  \n",
       "0     thought i'd end up with sean but he wasn't a m...  \n",
       "1     yeah breakfast at tiffany's and bottles of bub...  \n",
       "2     you you love it how i move you you love it how...  \n",
       "3     ariana grande  nicki minaj i've been here all ...  \n",
       "4     right now i'm in a state of mind i wanna be in...  \n",
       "...                                                 ...  \n",
       "5744  drew looks at me i fake a smile so he won't se...  \n",
       "5745  to put it plainly we just couldnt stop writing...  \n",
       "5746  turn wycd on you're on your grunwald back from...  \n",
       "5747  zwrotka  siedzę i patrzę jak czytasz z głową p...  \n",
       "5748  trying just like they say just taking the step...  \n",
       "\n",
       "[5711 rows x 3 columns]"
      ]
     },
     "execution_count": 53,
     "metadata": {},
     "output_type": "execute_result"
    }
   ],
   "source": [
    "new_df"
   ]
  },
  {
   "cell_type": "markdown",
   "metadata": {},
   "source": [
    "### Lowercasing"
   ]
  },
  {
   "cell_type": "code",
   "execution_count": 54,
   "metadata": {},
   "outputs": [],
   "source": [
    "new_df['Title'] = new_df['Title'].str.lower()\n",
    "new_df['Lyric'] = new_df['Lyric'].str.lower()"
   ]
  },
  {
   "cell_type": "code",
   "execution_count": 55,
   "metadata": {},
   "outputs": [
    {
     "data": {
      "text/html": [
       "<div>\n",
       "<style scoped>\n",
       "    .dataframe tbody tr th:only-of-type {\n",
       "        vertical-align: middle;\n",
       "    }\n",
       "\n",
       "    .dataframe tbody tr th {\n",
       "        vertical-align: top;\n",
       "    }\n",
       "\n",
       "    .dataframe thead th {\n",
       "        text-align: right;\n",
       "    }\n",
       "</style>\n",
       "<table border=\"1\" class=\"dataframe\">\n",
       "  <thead>\n",
       "    <tr style=\"text-align: right;\">\n",
       "      <th></th>\n",
       "      <th>Artist</th>\n",
       "      <th>Title</th>\n",
       "      <th>Lyric</th>\n",
       "    </tr>\n",
       "  </thead>\n",
       "  <tbody>\n",
       "    <tr>\n",
       "      <th>0</th>\n",
       "      <td>Ariana Grande</td>\n",
       "      <td>​thank u, next</td>\n",
       "      <td>thought i'd end up with sean but he wasn't a m...</td>\n",
       "    </tr>\n",
       "    <tr>\n",
       "      <th>1</th>\n",
       "      <td>Ariana Grande</td>\n",
       "      <td>7 rings</td>\n",
       "      <td>yeah breakfast at tiffany's and bottles of bub...</td>\n",
       "    </tr>\n",
       "    <tr>\n",
       "      <th>2</th>\n",
       "      <td>Ariana Grande</td>\n",
       "      <td>​god is a woman</td>\n",
       "      <td>you you love it how i move you you love it how...</td>\n",
       "    </tr>\n",
       "  </tbody>\n",
       "</table>\n",
       "</div>"
      ],
      "text/plain": [
       "          Artist            Title  \\\n",
       "0  Ariana Grande   ​thank u, next   \n",
       "1  Ariana Grande          7 rings   \n",
       "2  Ariana Grande  ​god is a woman   \n",
       "\n",
       "                                               Lyric  \n",
       "0  thought i'd end up with sean but he wasn't a m...  \n",
       "1  yeah breakfast at tiffany's and bottles of bub...  \n",
       "2  you you love it how i move you you love it how...  "
      ]
     },
     "execution_count": 55,
     "metadata": {},
     "output_type": "execute_result"
    }
   ],
   "source": [
    "new_df.head(3)"
   ]
  },
  {
   "cell_type": "markdown",
   "metadata": {},
   "source": [
    "#### Cleaning functions"
   ]
  },
  {
   "cell_type": "code",
   "execution_count": 56,
   "metadata": {},
   "outputs": [],
   "source": [
    "import re"
   ]
  },
  {
   "cell_type": "code",
   "execution_count": 57,
   "metadata": {},
   "outputs": [],
   "source": [
    "# Pre-checking the lyrics\n",
    "def has_html_tags(text):\n",
    "    \"\"\"Check if text contains HTML tags.\"\"\"\n",
    "    if not isinstance(text, str):\n",
    "        return False\n",
    "    return bool(re.search(r'<[^>]+>', text))\n",
    "\n",
    "def has_urls(text):\n",
    "    \"\"\"Check if text contains URLs.\"\"\"\n",
    "    if not isinstance(text, str):\n",
    "        return False\n",
    "    url_pattern = r'https?://\\S+|www\\.\\S+|\\S+\\.\\S+/\\S+'\n",
    "    return bool(re.search(url_pattern, text))\n",
    "\n",
    "# def has_punctuation(text):\n",
    "#     \"\"\"Check if text contains punctuation.\"\"\"\n",
    "#     if not isinstance(text, str):\n",
    "#         return False\n",
    "#     return any(c in string.punctuation for c in text)"
   ]
  },
  {
   "cell_type": "code",
   "execution_count": 58,
   "metadata": {},
   "outputs": [],
   "source": [
    "# Function to remove html tags and urls\n",
    "def remove_html_tags(text):\n",
    "    \"\"\"Remove HTML tags from text.\"\"\"\n",
    "    if not isinstance(text, str):\n",
    "        return text\n",
    "    pattern = re.compile(r'<.*?>')\n",
    "    return pattern.sub('', text).strip()\n",
    "\n",
    "def remove_urls(text):\n",
    "    \"\"\"Remove URLs from text.\"\"\"\n",
    "    if not isinstance(text, str):\n",
    "        return text\n",
    "    url_pattern = re.compile(r'https?://\\S+|www\\.\\S+')\n",
    "    return url_pattern.sub('', text).strip()\n",
    "\n",
    "# def remove_punctuation(text):\n",
    "#     \"\"\"Remove punctuation from text.\"\"\"\n",
    "#     if not isinstance(text, str):\n",
    "#         return text\n",
    "#     return text.translate(str.maketrans('', '', string.punctuation))"
   ]
  },
  {
   "cell_type": "code",
   "execution_count": 59,
   "metadata": {},
   "outputs": [
    {
     "name": "stdout",
     "output_type": "stream",
     "text": [
      "Precheck Summary:\n",
      "Lyrics with HTML tags: 0 (0.00%)\n",
      "Lyrics with URLs: 0 (0.00%)\n"
     ]
    }
   ],
   "source": [
    "lyric_html_count = new_df['Lyric'].apply(has_html_tags).sum()\n",
    "lyric_url_count = new_df['Lyric'].apply(has_urls).sum()\n",
    "# lyric_punctuation_count = new_df['Lyric'].apply(has_punctuation).sum()\n",
    "\n",
    "# title_html_count = new_df['Title'].apply(has_html_tags).sum()\n",
    "# title_url_count = new_df['Title'].apply(has_urls).sum()\n",
    "# title_punctuation_count = new_df['Title'].apply(has_punctuation).sum()\n",
    "\n",
    "total_rows = len(new_df)\n",
    "print(\"Precheck Summary:\")\n",
    "print(f\"Lyrics with HTML tags: {lyric_html_count} ({(lyric_html_count/total_rows)*100:.2f}%)\")\n",
    "print(f\"Lyrics with URLs: {lyric_url_count} ({(lyric_url_count/total_rows)*100:.2f}%)\")\n",
    "# print(f\"Lyrics with punctuation: {lyric_punctuation_count} ({(lyric_punctuation_count/total_rows)*100:.2f}%)\")\n",
    "\n",
    "# print(f\"Titles with HTML tags: {title_html_count} ({(title_html_count/total_rows)*100:.2f}%)\")\n",
    "# print(f\"Titles with URLs: {title_url_count} ({(title_url_count/total_rows)*100:.2f}%)\")\n",
    "# print(f\"Titles with punctuation: {title_punctuation_count} ({(title_punctuation_count/total_rows)*100:.2f}%)\")"
   ]
  },
  {
   "cell_type": "code",
   "execution_count": 60,
   "metadata": {},
   "outputs": [],
   "source": [
    "# Cleaning based on pre-check results\n",
    "\n",
    "if lyric_html_count > 0:\n",
    "    new_df['Lyric'] = new_df['Lyric'].apply(remove_html_tags)\n",
    "\n",
    "if lyric_url_count > 0:\n",
    "    new_df['Lyric'] = new_df['Lyric'].apply(remove_urls)\n",
    "    \n",
    "# if lyric_punctuation_count > 0:\n",
    "#     new_df['Lyric'] = new_df['Lyric'].apply(remove_punctuation)"
   ]
  },
  {
   "cell_type": "code",
   "execution_count": 61,
   "metadata": {},
   "outputs": [
    {
     "name": "stdout",
     "output_type": "stream",
     "text": [
      "\n",
      "Post-cleaning Result:\n",
      "Lyrics with HTML tags: 0 (0.00%)\n",
      "Lyrics with URLs: 0 (0.00%)\n"
     ]
    }
   ],
   "source": [
    "# Recalculate after cleaning\n",
    "lyric_html_count_after = new_df['Lyric'].apply(has_html_tags).sum()\n",
    "lyric_url_count_after = new_df['Lyric'].apply(has_urls).sum()\n",
    "# lyric_punctuation_count_after = new_df['Lyric'].apply(has_punctuation).sum()\n",
    "\n",
    "print(\"\\nPost-cleaning Result:\")\n",
    "print(f\"Lyrics with HTML tags: {lyric_html_count_after} ({(lyric_html_count_after/total_rows)*100:.2f}%)\")\n",
    "print(f\"Lyrics with URLs: {lyric_url_count_after} ({(lyric_url_count_after/total_rows)*100:.2f}%)\")\n",
    "# print(f\"Lyrics with punctuation: {lyric_punctuation_count_after} ({(lyric_punctuation_count_after/total_rows)*100:.2f}%)\")\n"
   ]
  },
  {
   "cell_type": "code",
   "execution_count": 62,
   "metadata": {},
   "outputs": [
    {
     "data": {
      "text/plain": [
       "0    thought i'd end up with sean but he wasn't a m...\n",
       "1    yeah breakfast at tiffany's and bottles of bub...\n",
       "2    you you love it how i move you you love it how...\n",
       "3    ariana grande  nicki minaj i've been here all ...\n",
       "4    right now i'm in a state of mind i wanna be in...\n",
       "Name: Lyric, dtype: object"
      ]
     },
     "execution_count": 62,
     "metadata": {},
     "output_type": "execute_result"
    }
   ],
   "source": [
    "new_df['Lyric'].head()"
   ]
  },
  {
   "cell_type": "markdown",
   "metadata": {},
   "source": [
    "## Chat Words Treatment"
   ]
  },
  {
   "cell_type": "code",
   "execution_count": 63,
   "metadata": {},
   "outputs": [
    {
     "name": "stdout",
     "output_type": "stream",
     "text": [
      "Number of lyrics containing chat words: 3374\n",
      "Number of lyrics containing chat words: 0\n"
     ]
    }
   ],
   "source": [
    "chat_words ={\n",
    "    \"u\": \"you\",\n",
    "    \"ur\": \"your\",\n",
    "    \"r\": \"are\",\n",
    "    \"ya\": \"you\",\n",
    "    \"luv\": \"love\",\n",
    "    \"b4\": \"before\",\n",
    "    \"gonna\": \"going to\",\n",
    "    \"wanna\": \"want to\",\n",
    "    \"gotta\": \"got to\",\n",
    "    \"lemme\": \"let me\",\n",
    "    \"gimme\": \"give me\",\n",
    "    \"im\": \"i am\",\n",
    "    \"dont\": \"don't\",\n",
    "    \"idk\": \"i don't know\",\n",
    "    \"brb\": \"be right back\",\n",
    "    \"lol\": \"laughing out loud\",\n",
    "    \"omg\": \"oh my god\",\n",
    "    \"ttyl\": \"talk to you later\",\n",
    "    \"lmao\": \"laughing my ass off\",\n",
    "    \"rofl\": \"rolling on the floor laughing\",\n",
    "    \"bff\": \"best friends forever\",\n",
    "    \"ily\": \"i love you\",\n",
    "    \"jk\": \"just kidding\",\n",
    "    \"bday\": \"birthday\",\n",
    "    \"cuz\": \"because\",\n",
    "    \"coz\": \"because\",\n",
    "    \"thx\": \"thanks\",\n",
    "    \"pls\": \"please\",\n",
    "    \"plz\": \"please\",\n",
    "    \"bae\": \"before anyone else\",\n",
    "    \"dm\": \"direct message\",\n",
    "    \"noob\": \"beginner\",\n",
    "    \"sk8\": \"skate\",\n",
    "    \"gr8\": \"great\",\n",
    "    \"np\": \"no problem\",\n",
    "    \"l8r\": \"later\",\n",
    "    \"idc\": \"i don't care\",\n",
    "    \"zzz\": \"sleeping\",\n",
    "    \"omw\": \"on my way\"\n",
    "}\n",
    "\n",
    "# Checking the number of lyrics containing the chat words\n",
    "\n",
    "def contains_chat_words(text):\n",
    "    if not isinstance(text, str):\n",
    "        return False\n",
    "    words = text.split()\n",
    "    return any(word in chat_words for word in words)\n",
    "\n",
    "# Check how many lyrics contain chat words\n",
    "chat_word_count = new_df['Lyric'].apply(contains_chat_words).sum()\n",
    "print(f\"Number of lyrics containing chat words: {chat_word_count}\")\n",
    "\n",
    "# Removing the chat words from the lyrics\n",
    "\n",
    "def chat_word_treatment(text):\n",
    "    if not isinstance(text, str):\n",
    "        return text\n",
    "    words = text.split()\n",
    "    normalized_words = [chat_words.get(w.lower(), w) for w in words]\n",
    "    return ' '.join(normalized_words)\n",
    "\n",
    "# Apply to the lyric column\n",
    "new_df['Lyric'] = new_df['Lyric'].apply(chat_word_treatment)\n",
    "\n",
    "chat_word_count_after = new_df['Lyric'].apply(contains_chat_words).sum()\n",
    "print(f\"Number of lyrics containing chat words: {chat_word_count_after}\")"
   ]
  },
  {
   "cell_type": "markdown",
   "metadata": {},
   "source": [
    "## Spelling Correction"
   ]
  },
  {
   "cell_type": "code",
   "execution_count": 64,
   "metadata": {},
   "outputs": [
    {
     "name": "stdout",
     "output_type": "stream",
     "text": [
      "Requirement already satisfied: pyspellchecker in c:\\users\\lenovo\\anaconda3\\lib\\site-packages (0.8.3)Note: you may need to restart the kernel to use updated packages.\n",
      "\n"
     ]
    }
   ],
   "source": [
    "pip install pyspellchecker"
   ]
  },
  {
   "cell_type": "code",
   "execution_count": 65,
   "metadata": {},
   "outputs": [
    {
     "name": "stdout",
     "output_type": "stream",
     "text": [
      "Total misspelled words: 59049\n",
      "Unique misspelled words (19201):\n",
      "{\"'cise\", \"cornylookin'\", 'roppo', 'antonoff', 'shoobydedoowop', 'gyllenhaal', 'bebek', 'kis', 'anahtar', \"''poo\", 'meryl', 'umdadahdadahda', 'dusze', 'nalick', 'jarrell', 'eart', 'gstrings', 'tellin', 'αίωνiαις', \"trucetrucedon't\", 'navoho', 'popatrz', 'frizzench', 'goride', 'estow', 'luthor', 'anydamnwhere', 'loohohove', 'götüme', 'sonman', 'ایهام', 'ocurr', 'ediyorsunuz', 'apač', 'gue', 'irs', 'worldworldworld', 'ohohohoh', 'breakbeats', 'flavour', 'coulent', 'favourite', \"ya's\", 'дать', 'pussyass', 'nfing', 'bumass', 'piernas', \"boo'd\", 'conin', 'aacting', 'منظور', 'noohohoh', \"m'ucht\", \"gallenson's\", 'wheewheewheewheewheewheewheelers', 'hackup', 'hari', 'ئەگەر', 'oldo', 'spreee', 'yodelodelayheehoo', 'woop', 'wiggin', 'بی', 'smallass', \"answerin'\", \"flamin'\", 'wahlberg', 'bbt', 'beyonceing', 'fernandx', 'abuhbuhbuh', \"hoggin'\", 'seducción', 'sasame', \"lypo'd\", 'laidback', \"firin'\", 'keester', 'meghalnának', 'shooin', 'atf', 'ehhy', 'eieieiei', 'youhoo', 'wszystko', \"'shrooms\", 'aokay', 'نەمان', 'zoner', 'outcho', 'scadattle', \"ghostin'\", 'reyez', 'chedda', 'condit', 'prostituía', 'shht', 'ihh', 'bobbet', 'hamtramck', \"pills'll\", 'dropsdrastic', \"pursuin'\", 'heartbroke', 'haaa', \"gloverin'\", 'espys', 'porque', 'zaleze', \"dollaz'\", 'hohh', 'lagerfeld', \"'tis\", 'hbo', 'sorryext', 'ahole', 'chubbs', 'hellraiser', 'ticky', \"'mani\", \"d'angelo\", 'giveon', '我不是在做夢', 'blaka', 'wunderbar', 'troye', 'charlamagne', 'bidibidibidibidibombidibay', 'rebirebi', 'ittt', 'momother', 'paparis', 'careyoke', 'achtzehn', 'shoodoodoodumdoo', 'dokola', 'کن', 'shoreditch', 'purty', 'aways', 'unpoppable', 'fivio', 'bbbeing', 'summertiiime', 'natureyoung', 'footies', 'sor', 'performedlady', 'понятно', 'ignorança', \"multitaskin'\", 'floodsfor', 'bеing', 'duyduğumuz', 'skully', \"cc's\", 'düşünüyor', 'ginobili', 'leelow', 'attacktacktacking', \"yonk'\", 'toma', 'veight', 'tapdance', \"returnin'\", 'pfeiffer', 'ningangabazi', 'cristhian', 'hottie', 'rímekbe', 'kfed', 'allformat', 'dudey', \"lipo'd\", \"freestylin'\", \"breezy's\", 'chestbackin', \"floodin'\", 'peachtree', 'kızdırmaya', 'vertaback', 'pretendin', 'tennekey', 'uhooh', 'nézek', 'muhfuckin', 'wifin', 'ged', \"'tards\", 'weeklong', 'fourteenhundredsixty', \"jimmy'yi\", 'mmhmhm', 'kırık', 'chodziłoby', \"e'rryday\", \"ac'\", 'léir', 'excusezmoi', 'shopban', 'سکس', 'ediyorum', 'fim', 'sidetoside', 'ряд', 'błyszczą', 'lllear', 'mixpak', \"'zilla\", 'champange', 'ganzen', 'howto', 'بیگرم', 'financials', 'blijkbaar', 'beautye', 'fuckafuckoff', 'oumou', 'elitär', 'zárověň', 'ебл', 'chumchummy', 'veterán', \"undeservin'\", \"bet'\", 'aiiight', \"chalkin'\", 'sıkı', 'getgo', 'malo', 'tre', 'دری', 'hijas', 'thirtytwo', 'smartass', 'eses', \"there'\", 'yellowishorange', 'pеrfect', 'inear', 'halooooo', 'ninetypercent', 'rapapumpum', \"maintainin'\", 'minajwhy', 'marys', 'irte', 'drewsome', 'daddys', 'baila', 'ku', 'sprayz', 'mais', 'dnce', 'lalalala', 'pickens', 'rana', 'teď', 'vocalschimamanda', 'papito', 'folloohow', \"bitches'll\", \"songs'll\", 'woahoh', 'اسلیم', 'présent', 'plottin', 'woahoah', 'serio', 'quon', 'wifebeaters', 'circumflexion', 'verze', 'snaží', 'lеtter', \"'09\", 'oppers', 'texter', 'isnt', 'hustlas', 'باید', 'problema', 'toptier', 'çalışmak', 'ohwas', \"surprisin'\", 'jh', 'derinliklerinde', 'ligera', 'llamo', 'accentcentcentcent', 'daghaidh', 'λεξεις', 'tooken', 'neanche', 'overdosage', 'pochyloną', 'emoción', 'kemba', \"'red\", 'себе', 'musics', 'manifiestan', \"grippin'\", 'mami', 'joyest', 'şiddeti', 'hoodtarz', 'larmes', 'stammerin', 'věci', \"coastin'\", \"d'ongles\", 'glaad', \"surgin'\", 'europeaugust', 'letra', 'doublestandard', 'bıraktı', 'ayi', 'sltotheim', 'ئەڕۆن', \"smearin'\", 'میرم', 'auscanbe', 'bro', 'ڕوون', 'seroquel', 'x6', \"cashin'\", 'kaniff', 'fiftyone', 'gras', 'domina', 'dilla', 'arcom', 'bangbangbang', 'слайдер', 'breyers', 'rosado', 'ladidadi', 'prie', 'تویی', 'ناین', \"l'esprit\", 'macklemore', 'لماذا', 'bilet', 'اولا', 'treyeight', 'merci', 'edgeeh', 'yooo', 'smushed', 'flipflops', 'presale', 'da', 'tsweezy', '00superman', 'rxmancee', 'hooo', 'banco', 'donenails', 'zales', \"traffickin'\", 'kanes', 'babababylon', 'shmoe', 'nigga', '我喜歡他們同時', 'beatin', 'mého', 'pleaseyeah', 'idiota', 'everybodys', 'atm', 'oohoohoohoohoohoohoohoohoohooh', 'oohohoohohoh', \"ma'\", 'adquirir', 'chinga', 'hahahahaha', 'deau', \"twistin'\", 'borat', 'moonvibe', 'heys', 'ft', 'leavin', 'likkle', 'devenu', \"wipin'\", 'yapmıyorum', 'theyself', 'deyn', 'actavis', 'aaaahh', '5η', 'odrodzenie', 'ragazzo', 'eesta', 'lativia', 'agaain', 'keanu', 'headgo', 'hornyass', 'scadattles', 'guidos', 'provenant', 'selivukile', 'niyetimiz', 'bouche', 'زیاد', 'yeahyeah', 'gcrden', 'islandhopping', 'etmicem', 'cl6', 'havе', 'axl', 'szóval', 'florecen', 'sɔgɔma', 'shitfaceted', 'yapması', 'proto', 'bere', 'musiques', 'ohoooh', 'jp', 'harleys', 'dropsfirecracker', 'najimy', 'برینه', 'redeye', 'مثلا', 'oj', 'هایی', 'birky', 'everpresent', 'gotoh', \"peggin'\", 'ڕقاوی', 'memudar', 'cujo', 'byebye', 'garzón', 'predominantlywhite', 'эй', 'δίνεις', 'alalalalalalala', 'raaaah', 'suena', 'cueros', \"'96\", 'mencintaiku', 'femi', 'ziplock', 'woooah', 'slideshows', 'xoxo', \"chimpanz'\", 'tijd', 'sevmiyorum', 'lawabiding', 'razorbalades', 'لکان', 'knickerbock', \"lou'\", 'highpowered', 'fusari', 'nastwhy', 'twé', \"youcan'tcatch\", 'dígame', 'fofor', 'zoveel', 'neyse', 'ئێلئێل', 'baduf', 'tonininight', 'üzgünüm', 'stststole', 'ojos', \"lootin'\", 'quien', 'competiton', 'doublequad', 'qoqa', 'melania', 'allnighters', 'hova', 'συνθεσουν', 'ando', \"'nessed\", \"should'a\", 'amagwala', 'cúrfa', \"welch's\", \"'oh\", \"'spose\", 'besos', 'iv', 'hadid', 'gims', 'dividir', 'mío', 'tingalingaling', \"topplin'\", 'hwasa', 'şu', 'soyiqeda', 'roce', 'adichie', 'querias', 'recuerdas', \"respondin'\", 'honeybunches', 'blankie', 'suvs', \"'septic\", 'malware', 'soulja', 'etherealooooh', \"d'usse\", 'gcrlfriend', '可惜親吻你', 'voglio', \"placin'\", 'εαύτο', 'carwe', 'vielma', \"swaggin'\", \"kissin'\", 'bolca', 'licky', 'juré', 'esrar', 'vit', 'stuckup', 'meezy', \"e'r'r'body\", 'لەسەر', 'aheady', 'handinhand', 'öldürücem', 'favre', 'çocuğu', 'érint', 'readywe', 'vvvalvevalve', \"strippin'\", 'threefooteleven', 'veled', 'recibo', 'pico', 'backshots', 'presiddead', 'tutte', \"campin'\", 'izz', 'bleachblond', 'blaow', \"that'll\", \"y'know\", 'τον', 'ئیفلاس', \"ole'\", 'yearwho', 'zayn', 'foo', 'aeroplane', \"chucklin'\", 'voltron', 'lеt', \"ghostwritin'\", '我也失望', 'woioi', 'perro', 'münchausen', 'whooptywoo', 'pues', 'vengo', 'beavis', 'beastiality', \"shit'd\", \"trackin'\", 'avenuebreak', 'clityou', 'veía', 'trut', 'radioeat', 'stimulators', 'tenspeed', 'sungarood', 'ohohoh', 'těch', \"vibin'\", 'yüzünden', 'bbs', 'بزنین', 'řekne', 'ballscrotum', 'noreaga', 'bein', 'durag', 'boygirl', 'elmondjam', 'منی', 'ültünk', 'hablado', 'blackandwhite', 'ballz', 'dro', 'staaaay', \"mockin'\", \"critiquin'\", 'appearwadlibs', \"soarin'\", 'bitchi', 'culdesac', 'superé', \"infinit'\", 'ninefivefour', \"'case\", \"addressin'\", 'és', 'تیکه', 'megtanított', 'برگردونن', 'جمیما', 'ngrá', 'pourrais', \"confusin'\", 'bburrrrat', 'arrodillarte', 'whoaa', 'αισθάνεσαι', 'dua', 'cosas', 'camabons', '서로의', \"robbin'\", 'pussyholes', 'dura', 'youme', 'ovp', 'fraeulein', \"scissorin'\", 'تو', 'trippin', 'hoohoo', 'barzini', 'whawhat', \"flarin'\", 'anlatmaktan', 'داشته', 'egymás', \"bonjouri'm\", 'شد', 'eightzerozero', 'wasup', 'cddaddy', 'smilies', \"wouldn'ta\", \"selfloathin'\", 'thhbbpp', 'wakin', 'proč', 'oigo', 'signo', 'çocuklara', 'datsun', \"gleamin'\", 'eeeeever', 'fallin', 'technologic', 'nicknackpaddywack', \"50's\", 'sonhando', 'eljött', 'twotime', 'shrinkwrapped', 'celly', \"80g'ler\", '總是在親吻中善忘', 'bloodorange', 'hahahaha', \"truth'll\", \"eyein'\", \"hustlin'\", 'dodgin', 'grrragagagaga', 'weezys', 'shitstained', 'میگنگوگل', 'uspokojení', 'noogie', 'fring', 'نمیکنممن', \"hidin'\", \"surmisin'\", 'couped', \"minglin'\", 'atrapó', 'souffle', 'lycketysplyt', 'pensais', 'aaahh', 'mancha', 'wietrze', 'youfuck', 'cheeze', 'gelatins', 'houten', 'boosie', 'słyszę', 'gibbo', 'mildrid', \"l'a\", 'trumtrumtrum', 'میام', 'nsont', 'جی5', 'elmentem', \"rapmobilelet's\", 'corso', 'timbo', 'falam', 'presidental', 'gaye', 'boonepickens', 'bgrown', 'dubplate', 'garantis', 'στην', 'maann', 'ohhhhhh', 'wawanna', \"pilin'\", 'rumours', 'boasy', \"fa'sho\", \"bloodsuckin'\", 'truhunk', \"you's'\", 'unlv', 'shockin', 'thangs', 'dondada', 'hitmen', \"this'll\", \"breakin'\", 'strongbow', \"caressin'\", 'bedenine', 'niia', 'fonsi', 'wе', 'oooooooooh', \"interruptin'\", 'گفته', 'lọ', 'hooptie', 'naturelle', \"congregatin'\", 'terribles', 'wydaję', 'cada', 'weeble', 'holocaustedsee', 'peur', 'gaohohoh', 'treway', 'faaading', 'rde', 'raygun', \"sani'\", 'pior', 'sah', 'احتمالا', 'ameriky', 'olası', 'přitom', 'kırıldığımı', 'fordítva', 'تاتۆکەی', 'еach', 'lonewolf', 'mudholes', 'crackin', 'haffa', 'oferra', 'jealousridden', 'wooooorld', \"mistakin'\", 'داک', 'anyday', 'bruk', 'grę', 'southside', 'oneone', 'mindtwist', 'quiera', 'alejandrx', 'vittem', \"finessin'\", 'dat', 'hitboy', \"n'ihi\", 'mothasuckas', 'queste', 'fumoir', 'lleva', 'causе', 'algo', \"plottin'\", 'chinchin', \"therе's\", 'polkadotted', 'omi', 'yor', 'redant', \"muh'fuckas\", 'caribana', \"joso's\", 'ψύχη', 'nico', 'rockabye', 'touche', 'akkor', 'ajhani', 'artpp', 'giftwrapped', 'lèvre', 'aww', \"mo'fucka\", 'fani', \"around''\", 'suddy', 'ohohhhhhhohhhohohoh', 'rigg', \"bimb'\", \"repeatin'\", \"swellin'\", '算計著手中的王牌', 'вовсе', 'mí', 'soltarte', 'vajon', \"tweakin'\", 'acaso', 'gidelim', 'kapak', 'پێی', 'jste', 'نیست', 'amadu', 'meijers', 'massengill', 'eckrich', 'mile_high', 'packin', 'spoonie', 'pendejo', 'denn', 'ewan', 'ghrá', 'دید', 'lxves', 'tata', 'meski', 'osetim', 'ohsoeasy', 'ttake', 'ausserkontrolle', 'hahahahahahahahaha', 'eğer', 'youse', 'eardrummers', 'raleys', 'grito', 'othеr', 'nickis', 'κρατήσεις', '全身散發警示的氣息', 'drakke', 'escapin', \"mousei'm\", \"thesis'll\", 'floyds', 'دست', 'whoaohohoh', 'lainie', 'vissza', 'azokat', 'rolleys', 'macknupid', 'teets', 'naninaninani', 'hershe', 'enioma', 'nombre', 'vavavavanity', 'goode', 'scratchandwin', 'rubberband', 'muid', \"jerkin'\", 'داوە', 'feetprints', 'fondeled', 'adlibs', 'baddiebey', 'mcry', 'davaughn', 'boge', 'membeku', 'ladygagafierce', 'bleu', 'yllaer', 'avant', 'imzalamak', 'sas', 'uie', 'jewelery', 'salame', 'yellowygreen', 'backspins', 'outsings', 'hghumdaylilaaaaaaaaaaaaaaaahaah', 'colonoscopy', 'singin', 'culkin', \"dropping'\", 'گوگل', 'stiemsma', 'twarzą', 'pariiisah', 'atmaya', 'qute', 'parkеd', 'doen', 'lan', 'истериках', 'stoge', 'música', 'στο', 'miejsca', 'lololo', 'sware', \"wheezin'\", 'singersongwriter', 'honour', 'tekrar', 'lightbody', 'dickety', 'تیکم', 'mempercayai', 'ohohohiii', 'πρώτη', 'amilyennek', 'litty', \"skrip's\", \"beyonce'\", 'درستو', 'sprecare', 'odiato', 'jorja', 'extacy', 'nyla', 'fuera', 'skyrise', 'είσαι', 'prеtend', 'bitchass', \"testin'\", 'nahnahnahnahnah', 'hissi', 'prevoked', 'opp', 'zamiast', 'tududu', 'backshot', 'stickety', 'drummound', 'şekli', 'blockiana', 'cooool', 'skio', 'punani', 'rainman', 'οπως', 'onda', \"grammys'\", \"prenda'\", 'hhhhhell', \"cocksuckin'\", 'fide', 'mamama', 'yaya', \"80's\", \"cheatin'\", 'therethe', 'کار', 'acethegenius', 'twoseaters', 'ggggggg', 'yana', 'spel', 'jit', 'fel', 'teeさん', 'malano', 'μάτια', 'подожги', 'zeigt', 'coasttocoast', 'rigth', 'comingofage', 'coparent', 'yonce', 'wego', 'mmm', 'keyser', \"'faction\", 'voicemails', 'توهم', 'armádou', 'perc', 'wrabel', 'deadend', 'دەکوژم', 'waydat', 'alkaseltzer', 'tobą', 'intenzita', \"'07\", 'earings', 'queenahh', \"children's\", 'samauri', 'eilsh', 'lalalolololo', 'prérefrain', 'chkword', 'بیشتر', 'liquer', 'schleiban', 'égtem', 'vidaparadiseadventure', 'nouveau', 'backbreak', 'powpow', 'niceonice', 'yngdmnd', 'headrush', 'tetas', 'momomomonster', 'miscommunications', 'entrepopo', 'piensa', \"''get\", \"saucin'\", 'breakbreakdown', 'paraparadise', \"mill'\", 'şyi', 'unrecupable', 'οταν', \"les'\", 'thinkin', \"receivin'\", \"arguin'\", 'eastland', 'σταθερές', 'ohohahh', 'skummy', 'pierdolił', 'vyšší', 'jacksonwho', 'پایین', 'trickortreat', 'louboutin', 'حرية', 'oír', 'نزیکت', \"jag'\", 'stylo', \"'least\", 'onika', 'dogfall', \"spwashin'\", 'flybytheseatofhispants', 'honosných', 'quququestion', 'fofo', 'mamamaterial', 'selfconscious', 'conmigo', 'klla', 'porteños', \"swangin'\", 'siktir', 'because06', 'oneoff', 'ymcmb', 'radiothe', \"5'6\", 'nagyrészében', 'offdancing', \"tourette's\", 'moodymann', 'hasnt', 'να', 'cartman', 'katika', 'thingstime', \"boxin'\", 'میدیدم', 'bizzurp', 'wwwwwwwwwwwrong', 'comerica', 'lxve', 'beliebers', 'woioiwoioiwoioiwoioiwoioi', 'iceblue', \"ya'\", 'iiliked', 'دارمچی', \"gt's\", \"bugin'\", 'weezing', 'technikailag', 'végre', 'tryna', 'llif', 'dolo', 'byour', 'flocka', 'vučeš', 'با', \"disrespectin'\", 'slatt', 'selalu', 'elecelectric', 'shabazz', 'warne', 'sok', \"beyoncé's\", \"weepin'\", 'xacto', 'intentar', 'manje', 'shaina', 'همونطور', 'noro', 'دریا', 'yaşandı', 'κραταμέ', 'şuna', 'bloomberg', 'sexxx', 'umarım', 'هەموو', 'dops', 'libre', 'hiney', 'ő', 'menipu', 'sanelly', 'palo', 'рот', 'heeeey', 'milehigh', 'wagen', 'manyana', 'sauga', '為我設想', 'singlehanded', 'wavin', 'fourleafclover', 'dididididadadey', 'oohah', 'teacha', 'بەرز', 'dufflebag', 'bocsillo', 'sik', 'sırtını', 'μουσικη', 'luomo', 'doué', 'ruger', 'kyu', 'nm4', 'skinneded', 'seachtó', 'σφιχτά', 'gerekmiyor', 'yeahhee', 'ent', 'titriyor', 'jongun', 'starsky', 'sizin', \"crushin'\", 'stepdada', '你真該看看我看看我', 'hightop', 'mutherfucking', \"pleasin'\", 'akclip', 'ak', 'hasizzle', 'sneakdiss', 'rivington', 'összetörött', 'time069', \"pa'\", 'kartel', 'tane', 'worstcase', \"paintballin'\", 'vehetett', 'couldve', 'zou', 'ouhoh', \"'zombie'\", 'presas', 'guap', 'renny', 'undercovers', 'cds', 'havaya', 'certies', 'starrah', 'okurrr', 'ночь', 'jediná', 'lеave', 'ou', \"there'ssomething\", 'youyouyouyou', 'dups', 'kikikiss', 'bunbunbun', 'drugą', 'tohohle', 'zaytoven', 'technomarine', 'ein', 'منظورش', \"mauri's\", 'thithis', 'hgher', 'pshh', 'glengrove', 'madd', 'gusta', 'lickity', 'stół', \"wired's\", 'katt', 'mmommy', 'tock', \"whoopin'\", \"diddy's\", \"hating'\", 'bruh', \"lyricsmugglin'\", 'میبینم', 'kinte', 'yok', 'amante', 'otni', 'lessawake', 'mennie', 'getti', 'yapyap', 'grandmom', 'blastin', \"yackin'\", 'مهماندارسرم', 'boppas', 'beddybye', 'summerboy', 'plcce', 'hq', 'artrve', 'tonica', \"ibamb'umthetho\", 'bunları', 'summ', 'moncler', 'saldría', 'mvp', 'entrar', 'chrisstiffer', 'oso', 'gitana', \"dre'll\", \"choosin'\", 'gioco', \"beggin'\", 'cala', 'biditch', 'll', 'براندی', 'régner', 'basszus', 'ismim', \"medicine'll\", 'unbothered', 'verás', \"landin'\", \"skyzoo's\", \"mo'fuckin\", \"inkin'\", \"flakin'\", 'koolaid', 'corito', 'haaaa', 'jihadist', 'youll', 'dadadadada', 'mmmmmmohhhh', 'thisll', 'morias', 'αυτο', 'beatle', 'gizler', 'sobreentendido', 'escenario', 'δεν', 'mache', 'phife', 'kako', 'λαμπτήρα', 'migopersona', 'topí', 'heyeyeyey', 'bossass', \"whatever's\", 'demeanour', 'bok', 'reparesent', 'evry', 'fuis', 'entiende', 'shish', 'cellában', \"rankin'\", 'simplement', 'hermaph', 'kutusunu', 'kayış', 'rispondo', 'ü', 'nypd', 'obus', 'tayla', 'byś', 'habitación', \"facin'\", 'bboomshady', 'daně', 'lehet', 'meester', 'şaka', \"modelin'\", 'nienawidzi', \"50'll\", 'chooooked', 'rockout', 'kiiara', 'ahahahahah', \"stinkin'ass\", 'meh', 'dadadadadada', 'biweek', 'smurf', \"eavesdroppin'\", 'tickitytock', 'preops', \"cccomin'\", 'speedom', 'elbowayo', 'لێدەدرێت', 'marnie', 'asskicking', 'ewoks', 'marito', 'inkas', 'quieres', '我的思想', 'slowow', \"lettin'\", 'bjorn', \"nathan's\", '統治著這個荒蕪的城鎮', 'skinwe', 'crossfit', 'unkickable', 'chocha', 'youknowwho', 'roste', 'peu', 'aarrest', 'neiked', 'assez', \"ocb's\", 'feening', 'oldschool', 'wilderbeast', 'wanegbt', \"beamin'\", 'ganas', 'gogogadget', 'messin', \"motherfreakin'\", 'phair', 'moviéndome', 'nobu', 'haces', 'سوەی', 'rescratched', 'جوری', 'tugofwar', 'shangela', 'corazon', 'baka', 'vakti', 'breal', 'ahhahhahahh', 'org', 'etiuq', 'yisa', 'emostions', 'zorunluluk', 'demolarını', 'kiyoko', 'estamos', 'throwin', \"plannin'\", 'menait', 'gohruh', 'rel', 'robirebi', 'olurdu', 'hypnotise', 'λυγίζει', \"gainin'\", 'companyand', 'érdekelt', 'platinim', 'juveneer', \"performin'\", \"rover'll\", \"enjoyin'\", \"driveby's\", 'halfbrother', 'huhuhuhuhuhuhuhuh', 'inne', 'goulding', 'footlong', 'parce', 'mías', 'rockshow', 'iii', 'manbreasts', 'mtbmb', \"smarteyein'\", 'outgrowed', 'looka', 'whеre', 'hopelessnesses', 'themdorney', 'riiight', 'pobre', 'sdemandait', \"behavin'\", 'cliche', 'lameos', 'hatties', 'upto', 'dramatical', 'movin', 'yеah', 'دیپلماتیکم', 'geliyorsun', 'waynes', 'sizi', 'diamanten', 'spor', 'آدم', 'panino', \"it'\", 'یا', 'траву', 'alchy', \"irv's\", 'trunked', 'meantbut', \"feelin'\", 'eames', 'aquella', 'taketake', 'theythey', 'monch', 'ahhahhahahhh', 'frisbees', 'téged', \"you'\", 'voulu', 'rha', 'tictoc', \"channelin'\", 'maledriven', 'rosas', 'rikirobo', 'ohohohohohohohohohohoh', 'hmhmm', \"leanin'\", 'mijne', 'necesitas', 'ninetytwo', '視你如偶像', 'testeresi', 'заварю', \"switchin'\", 'amerigo', 'comeup', 'eww', 'hatayı', 'teraz', 'habibis', 'naší', 'saddledome', 'readytouse', 'نوازندگی', 'diggin', 'fatherandson', 'reens', 'ищешь', 'expresser', 'rashid', 'darkdarkdark', 'cambiado', 'oneofakind', 'rrunrun', 'palin', \"faygo's\", 'cornrowspopping', 'ι', 'horyn', 'sveglia', 'vamanos', 'igaz', 'wzięła', 'černé', 'busiswa', \"smugglin'\", 'بیاره', 'peine', 'estava', \"stereotypin'\", \"forcin'\", 'sheshesheshe', 'doch', 'meeeeh', 'youuh', 'twotwo', 'rastafari', 'emociona', 'jansport', 'unessx', 'تغییر', 'monroes', 'thiscaca', 'lovesong', 'برابری', 'unsuck', 'gehgehgeh', 'effin', '7th', 'ακομη', 'savez', '你明白你擅長', 'بوومەوە', 'junko', 'ból', 'cowell', 'kellsattempt', \"nicky's\", 'neglection', 'chalker', 'sesh', 'freakshow', 'drivebys', 'nwainkinden', 'dodododododo', 'pappadeaux', 'سفید', 'heyey', 'breaeeek', 'skrzypiec', 'haaaaan', 'djs', 'toppoptimisttoppoptimist', 'мама', 'youwe', 'عاشق', 'zabawne', 'tshirt', 'sie', 'tila', 'stuffi', 'fuckedup', \"overthinkin'\", 'trigga', 'زمانه', 'backback', 'ropeadope', 'cię', 'ohayeohaye', 'neka', 'głupot', 'smartwater', 'sifilis', 'troyer', 'tábornokunk', 'blingabling', 'ocd', 'yung', 'buď', 'проводе', 'aziz', 'pitfield', 'میده', 'sippin', 'uhm', \"jokin'\", 'richside', \"bathin'\", 'kellz', 'umuyoruz', 'cevap', 'caicos', \"i'l\", 'socal', 'gigi', 'glo', 'masterpièce', 'oxis', 'εκεί', 'میگه', 'rasta', 'zrovna', 'yeeeeeah', 'teh', 'whitepac', 'sizzurp', \"escapin'\", 'زیادی', 'harcos', 'terminó', 'yapmış', 'goverment', 'nonman', '94letýho', 'prerolls', 'stripclub', 'homosapien', 'paupières', 'tartşmamı', \"'dud'\", 'nézegetem', 'krispies', 'دەکەون', 'motherfriggen', 'wi', 'vom', 'donavan', \"denaun's\", 'اطلاعات', 'damb', \"how'm\", 'looky', 'grr', 'knicks', \"that'sthat's\", 'modernday', 'oblongata', \"cravin'\", \"buckin'\", 'gardy', 'kere', 'peta', \"ponderin'll\", \"soberin'\", 'troooooooouble', 'trex', 'πίσω', \"your's\", 'крушит', 'bimi', 'dancehall', 'snowcone', 'bahbadiblooblah', '900msminaj', 'faceneckhand', \"'yonce\", \"gafflin'\", 'aanything', 'کامل', 'ciągną', 'yayayaya', \"lashin'\", \"into's\", 'grandbabies', 'nochmal', \"peoples'\", 'chika', 'kafanı', 'fogom', 'هەیە', 'contestar', 'p0', 'setlistlady', 'stayfree', '4door', 'انجام', \"'yes'\", '흘러가고', 'delirum', \"choo's\", 'uzak', 'embustero', 'motha', \"willin'\", 'φορες', 'awayay', 'arе', \"some'\", 'swaggie', 'nathen', 'hoppin', 'idi', 'blowblow', 'hornyand', 'anlamına', 'chunes', 'stansfield', 'itchbay', 'millitant', 'lykke', 'arayacağız', 'stache', 'dylon', 'ڤیـ', 'otrice', \"blunt's\", \"gaggin'\", 'cokecola', 'haute', 'gg', 'awwww', 'ise', 'jjjessica', \"pic'\", 'cilmi', '80gs', 'ringaroundtherosie', 'homeslice', 'barbiana', 'engañar', \"5'\", 'vavanity', 'undoubtably', 'dilaudid', 'buckbuck', 'janyelle', 'už', 'moanin', \"suckin'\", 'wantеd', 'tooohit', 'csi', 'eeeeooowwww', \"diff'\", \"nick'\", \"sia's\", 'problеm', 'pitterpatter', 'trafford', 'voudrais', 'farruko', 'tierra', 'tuffest', 'goldshouldered', 'دو', \"thuggin'\", 'impressin', 'kibaszott', 'nemají', \"fukin'\", 'dechino', 'tyres', 'starah', 'dickshit', 'wheeley', 'bom', 'ovamo', 'φορά', 'ohooohooh', 'az', \"botherin'\", 'ilaçlar', 'εγώ', 'fuckas', \"patronizin'\", 'ich', 'cahill', 'mamamamarry', 'uwierz', 'automare', \"'pagne\", 'siebener', 'ó', 'aaha', 'gèl', 'guiseppe', 'rockinsane', 'yamo', \"patrón's\", 'yeaa', 'nellaf', 'menzel', 'yeeeah', \"mouthwaterin'\", 'ayırdım', 'féadfaidh', 'فوقالعاده', 'faits', 'breastses', 'więc', 'hippity', 'headmic', 'nother', 'ands', 'tnt', \"endin'\", 'زده', 'příšerný', 'trois', 'ninetynine', 'pissin', 'splishsplash', \"lights'll\", \"bein'\", 'feh', 'illiterature', \"ballin'\", 'вотт', 'ssstutter', 'هەزەلیە', 'dérive', 'conecsa', 'tonguetied', \"riggin'\", 'توڕەم', 'quotables', 'desse', 'finchy', 'spasmatic', \"vma's\", 'skinnyass', 'aaliyahı', 'mumumust', 'emptinessext', 'llevas', 'yapamayacağımı', 'millimizzy', 'agus', \"usin'\", 'başlaması', \"feedin'\", 'aaaaayyyyooooo', 'vickory', 'sitdown', 'deşiyor', 'syruped', 'blahbadibooblah', 'bodys', 'liryczny', 'isto', 'следы', \"somethin'\", 'trinis', 'deepthroat', 'και', 'bebanku', 'miiri', \"jottin'\", 'kony', 'norah', 'popsomefuckingchampagneinthetub', 'buttfuck', 'sonofabitches', \"rapin'\", \"releasin'\", 'bercé', 'iohhaha', 'mandem', 'menyukai', 'prooffer', 'tryin', 'somedaydaydayday', 'woahoooo', \"babblin'\", 'excitar', 'mcewan', 'tober', 'dropdropped', \"airin'\", 'eightynine', 'única', \"noman's\", 'jöttek', 'everythings', \"jill's\", \"collectin'\", 'nai', 'candypainted', '04headlights', 'pepe', 'drivin', 'suwoo', 'havnt', 'singerwriter', 'przejdź', 'qui', 'pensaba', 'buncha', 'veriyoruz', 'tutmaya', 'boogying', \"'posed\", 'kutzle', 'heheh', 'شده', 'sanó', 'realo', \"dehydratin'\", 'cihel', 'σελίδες', 'توڕەن', 'travie', 'muhfka', 'کۆتایی', 'dövmem', 'bape', 'paga', 'starvin', 'kiana', 'cleancut', 'canibitch', 'kada', 'bağlamadım', \"travellin'\", \"pokin'\", 'oktober', \"bieber's\", 'ekstra', \"stonin'\", 'cinayet', 'moonrocks', 'flooryou', \"glo'd\", 'گەڕامەوە', \"'longside\", 'etkiliyor', \"'causе\", \"milli'\", 'paddywhack', 'hyperdrive', 'monicalewinsky', 'چقدر', \"shooters'll\", 'dumdadeda', 'nevernever', \"shorties'd\", 'blanka', 'بزرگ', 'nem', \"fleem's\", 'marí', 'чувствую', 'repurposed', 'toho', 'hydrochloroquine', 'upandcoming', 'doesnt', 'nenish', 'rerock', 'est', \"where'd\", 'choo', 'ramblas', 'skrr', 'dodododadaday', 'kızların', 'kaybettim', \"creatin'\", 'sativa', \"attackin'\", 'seeying', '50s', 'soyeaaah', 'problemo', 'tourné', 'algún', 'vma', 'mmmaybach', 'batshit', 'tov', 'courvoisier', 'demoları', 'rhy', 'съезд', 'vrummvrumm', 'ohooh', 'pegao', 'paduan', 'middecember', 'hd', 'quatschen', 'ohohohohohohoh', 'offishall', \"n'a\", 'bgd', 'sahneye', 'никаких', 'windmiller', 'girlll', 'bitchhhhhhhhhh', 'pokud', 'whooooh', 'qerim', 'bfhéidir', \"biz'\", 'ridewhen', \"timin'\", 'fuimos', 'cruisin', 'قسم', 'hechizo', 'yahah', 'último', 'trayvon', 'karar', \"severin'\", 'cooter', 'uhuhuh', 'playermy', 'ayayayayay', 'hottersexy', \"'lujah\", 'francaaaa', 'makk', \"waynema'\", 'pusti', 'ficción', 'mostest', 'wowwow', \"blockswitchin'\", 'rеnovation', 'abcdefghijklmnopqrstuvwxy', 'wishywashy', 'interuppted', \"lcver's\", 'clickin', 'showow', \"j'suis\", 'somе', 'alkalmam', 'pepepeter', 'ohohhohh', \"cloudin'\", 'benjis', 'éist', 'waan', 'nanananananana', 'oneofaone', 'budzić', 'patrzę', 'tongueincheek', 'mmhmm', 'ooop', \"n'\", 'mutha', 'aynen', 'nininininininininight', 'rueger', 'دیارە', 'aku', 'jeśli', \"'roid\", 'hielpen', 'vcr', 'lovehoneymoon', 'ohahohah', 'floaties', 'aleady', \"coolin'\", 'kon', 'cubeatz', 'crewslim', 'jikelele', 'infeliz', 'oy', 'مجبور', 'درێژ', 'ağrı', 'justa', 'queremos', 'manever', 'ouncers', 'salda', 'tebow', \"hustlin'backwards\", \"lata'\", 'pnc', \"'50s\", 'mindstate', 'باری', 'voli', 'amerikan', 'دادم', 'trampas', 'stingsting', 'bettergun', 'turnt', \"fa'\", 'haczyków', 'mulsanne', 'howhow', 'bych', 'hitman', 'malik', 'rumplestilskin', 'dadibbadick', 'huhhuh', 'trutv', \"needin'\", \"'burg\", 'fеmale', 'rorschachs', 'mput', 'vip', 'ladidididadadadidi', 'هەڵیبێنم', 'イチコロ', 'dxohpe', 'seperti', 'abrafuckingcadabra', 'waitin', 'è', 'lintfree', \"cipherin'\", 'softso', 'missin', 'thereyeah', 'yeeeahhh', 'drummond', \"fizzuckin'\", \"supportin'\", 'شێوەی', 'ressemble', 'skepta', 'vvs', 'ingles', 'آسیب', 'izzad', 'katına', 'nances', 'arrêtons', 'laaaaaaaaammmmmmmmmmeeee', 'saucey', 'traww', 'weekendmaybe', 'moją', 'gizzle', 'nra', \"intent'n\", 'unitoo', 'bazı', 'oohoohoohooh', 'fuuun', 'هەیلی', \"politicin'\", \"igg'\", 'stratford', 'muthafucking', \"golddiggin'\", \"sbarro's\", 'problemrun', 'buhlieve', 'decir', 'gurls', 'redshirted', 'buicks', 'uhuhuhuh', 'tökezleyen', 'ئەلفوبێیــە', 'donnezmoi', 'oohwoah', '驚聲尖叫', 'boinked', \"bakin'\", 'pacewon', 'اسمش', 'yeeeeeeah', \"hummin'\", 'manera', 'jabari', 'λέξεις', \"bubblin'\", 'واقعا', \"ventin'\", 'preme', 'lumiere', '6km', 'somebodys', 'dumbing', \"zinati's\", 'aloohohone', 'hooptyhooptyhoop', 'powrotem', 'richview', 'dez', 'cumy', 'theyre', 'ολα', 'hypest', 'onehanded', 'sublims', 'görünüyor', 'tradtion', 'teorias', 'lgbt', 'sergent', 'kontra', 'x8', 'zzzzzone', 'ohohohohohohohohohohohoh', 'teezy', 'lifestory', 'tesó', 'kisseth', \"them's\", 'kyrie', 'strasburg', 'gezellig', 'sportovec', 'jerkey', 'ini', \"rippin'\", 'roading', 'передоз', 'pecar', 'rocafella', 'swirlin', 'sandi', 'ile', 'sechzehn', 'debarge', \"handlin'\", 'dus', \"man'll\", 'tweece', 'istemediğinizi', 'بۆت', 'ela', 'rogarme', 'بیرم', 'puto', 'prewarn', 'chеst', 'bublé', 'playlist', 'schoolbell', 'paradis', 'wellread', \"dicklickin'\", 'dirirt', \"cuttin'\", 'riccardo', 'joyish', \"snugglin'\", \"backstabbin'\", \"mathers'\", 'klopt', 'marajfuck', 'aaagain', \"rubbin'\", \"solvin'\", \"winnin'\", 'vanl', 'هستن', 'woofwoof', 'digo', 'sadam', 'aplin', 'heyhey', 'wassy', 'everyevery', \"sense'\", 'storyblack', 'lolololololololololove', 'elle', 'fleeko', 'muhfas', 'böyle', 'vlive', 'gelenk', 'whatcha', 'عالی', 'selfabsorption', 'roxette', 'clickbait', 'ze', 'sneakersexy', 'doldurduğu', 'blblblblblblblb', 'mereda', 'llllike', 'lcshes', 'گرینۆکێکم', 'skeeted', 'energysolutions', 'yoncé', 'geçtim', 'ئەوەی', 'cte', \"'em's\", 'miraclespiritual', 'culliton', 'mulino', 'cetera', 'meu', 'tőlem', 'kuts', 'وەک', 'ot', 'beddirectly', 'outrap', \"gropin'\", 'gwinnin', 'janson', 'suivre', \"yankin'\", 'baja', 'sento', 'vrátili', 'vanmi', 'stillborns', 'subliminals', 'روحتون', \"drankin'\", 'cockiana', 'skidin', 'doobie', '從苦痛變換成狂歡', 'viver', 'ddead', 'fuckfuck', 'shadys', \"mornin'now\", 'demdem', \"lang'\", 'sırf', 'agro', 'bbbback', \"luckin'\", 'bileğindeki', 'spitta', \"shaq's\", 'ringachong', 'fudgesicles', 'hehehe', 'هەروەکو', 'trato', 'woooh', 'herida', \"sum'n\", \"gushin'\", 'dadadadadadada', 'lekesi', 'hereneed', 'peki', 'yeahwoo', 'خورد', 'جوانەکان', 'swae', 'popz', 'opi', 'fagen', 'stejně', 'kafanın', 'biliyorum', 'herethen', \"gigglin'\", 'downsouth', 'bidness', 'quil', 'aboarded', 'loca', 'stungun', 'semana', '我很好', 'miqht', 'selftitled', 'wawa', 'μπορω', 'siyabona', 'ennuí', 'onun', 'nonhumble', 'nooit', 'corazón', 'sourcetaki', 'dimebag', 'godsent', 'nossos', 'gooo', \"'set\", 'potem', 'membuatku', 'getbizzy', 'bastade', \"rakin'\", \"j'balance\", 'utrzymać', 'countrys', \"tuckin'\", 'thang', 'laywers', 'pawg', 'suelo', 'broov', 'mosely', 'traidor', 'slumdog', 'с', '밤은', 'mappelles', 'geniuselizabeth', 'tremendo', 'есть', 'ganorreha', 'jodas', \"'spitals\", 'frontin', 'mbeidh', 'karılar', 'cuttin', 'achava', 'مخاطبش', \"pacin'\", 'gdzie', 'skeptos', 'quadrupledog', 'wеre', 'plcyboy', 'onerepublic', 'effall', 'muppets', 'menunggu', 'raz', \"mystikal's\", 'comp', \"í've\", 'hali', \"superstardom's\", 'wumble', 'wifen', 'smaoineamh', 'lámha', 'kafam', 'whoaoaoa', 'mathers', \"dividin'\", '實在你也知道', 'اونطرفشونو', \"a'bang\", 'motherfucka', 'lllets', 'dropsstimulate', 'seans', 'showpopping', 'doja', 'quisiste', 'imposible', 'noooo', 'alqaeda', 'longlong', \"pipin'\", \"lackin'\", 'tetikledin', 'wellbeing', 'gluesticks', 'ririck', 'néhány', \"d'wayne\", 'بڵاوی', \"unsettlin'\", 'steeze', 'songz', 'cartey', 'niggie', 'weener', 'hurd', 'mennyire', 'elli', \"stealin'\", 'نیو', 'cehennemden', 'liberaté', 'tonite', 'ڕیڤیڤاڵم', \"tiltin'\", 'yahyah', 'bbbbye', 'whachu', '0yearold', \"conkin'\", 'visalia', 'enendo', 'agua', 'برگشت', 'gеt', 'jjjust', '방의', \"quelqu'un\", 'factulty', 'winwindow', 'فلاپ', 'historii', 'haglercoproduced', \"racin'\", 'gfulls', 'nowso', 'brokеn', 'kennys', 'meins', 'všech', \"ecs'\", 'shaked', 'clipclack', 'examed', 'youyou', 'insanlar', 'بەڵام', 'odkładam', 'ooouuu', \"went's\", 'jodemos', 'spellin', 'bağırdım', 'byłem', 'soundin', 'tienes', 'kasesine', 'eieieieiei', 'dougie', \"niyayibon'\", 'forgothow', \"wagin'\", 'oohhh', \"kiddin'\", 'n9', 'highdive', 'سرم', 'timе', 'sro', \"m'étendre\", \"gal'd\", 'jabbar', 'هەست', 'mula', 'mcffin', 'woahohohohohohoh', 'uhnn', 'shouldnt', 'nosotros', 'em60', 'bonjour', 'tinky', 'alls', \"mraz's\", 'bankhead', 'goodshow', 'saidhaha', \"ironin'\", 'ncbraska', 'appellent', 'beautifullest', 'špičkách', 'sait', 'goodfellas', 'suyu', 'ttc', \"others'\", 'allumées', 'lighty', 'kinko', 'sim', 'fizzer', 'شتە', 'baisley', 'kyeah', \"moonwalkin'\", 'akeem', 'saukrates', 'glacadh', 'offences', 'whowhowho', 'butterpecan', 'superbass', 'çocuğunu', 'ithought', 'stormzy', 'راجبه', 'że', 'pennys', 'interupting', 'tidak', 'beş', 'allnighter', 'kolczasty', 'qdawg', 'uunderneath', 'trenchcoat', \"hibernatin'\", \"swisher's\", 'coochie', \"c'mon\", 'cırcırla', 'eglinton', \"m'en\", 'multiplatinumselling', 'mrefu', 'bxkini', 'lefteye', 'powinienem', 'امانه', 'iiiim', 'beszálltunk', 'minе', 'hei', 'başı', 'pójdę', 'europe6808', 'eyein', 'paparazzis', \"punkin'\", 'vrátí', 'manolos', 'ladys', \"taking'\", 'postchours', 'blaringi', \"behav'\", 'ruggish', 'olds', \"mushrooms'\", 'cadenas', 'georgiporgi', 'mondogatom', \"hannenin'\", 'braden', 'toptop', 'noname', \"glowin'\", 'olum', 'pla', 'mediumrare', \"parents'\", 'sisco', 'seco', \"'ron'\", 'wawanted', 'rothy', 'olhos', 'buillí', 'nosso', \"'what\", 'daya', \"pennin'\", 'unifloats', 'dejé', 'queriendo', 'loverloverman', 'souououououl', \"cris'\", 'seventysome', 'gün', 'olsaydı', 'manevolent', 'nicnicki', 'lеad', 'ratas', 'ville', 'kennyfagkaniffsta', 'čí', \"avoidin'\", 'knightmare', 'durdurmaya', 'ahould', \"o'clocktails\", \"misbehavin'\", 'raine', 'summеr', 'dingue', 'duine', 'millionnaire', 'sleeze', 'stacji', 'kingthey', 'spinnin', 'nothin', 'custie', 'eventhough', 'ڕێگای', 'mek', 'arreglé', 'nano', 'golddig', \"bickerin'\", 'ceelo', 'molesto', 'heartdelicate', 'izbrišite', \"whiplashin'\", 'folklorian', \"hollerin'\", 'newlyreleased', 'mamasay', \"her'\", 'meine', 'nooh', 'aidsinfested', \"excludin'\", 'luncha', 'differentferentferentferent', 'beso', 'rêve', 'dimepiece', 'battlery', \"partyin'\", 'mondják', \"soppin'\", 'grimey', 'kalẹ', 'faithforgotten', 'oppiana', 'simma', 'içiçi', 'swangas', 'calipari', 'payless', '006shake', 'het', 'hoodie', 'jayaz', 'lp', 'fashionista', 'ruffio', \"reasonin'\", 'unesli', 'دیگه', 'mof', 'glasto', 'wydałem', \"waitin'\", 'madeo', 'bbaby', 'ling', \"don'ts\", 'beggining', 'mamakossa', 'asco', 'gget', 'iohiohi', 'uzmi', \"ki'\", 'specialer', 'najlepsze', 'jaydees', 'hasselhoff', 'secreto', \"'46\", 'embereket', 'sstation', 'yoar', 'e40', 'dağılma', 'badu', 'oté', 'takuti', 'warreen', 'xmen', \"rootin'\", 'woi', 'adni', 'megittunk', 'trátame', 'μπορούσα', 'která', 'magnavox', 'justbecause', 'gloriest', 'dancefloor', 'livenew', 'попытках', \"a'gwaan\", 'corté', 'برگردم', 'lebria', 'whoaohoh', 'wawawawawaterfall', 'ji', 'μου', 'shutup', 'kokain', 'wraper', 'aperol', \"won'twon'twon't\", 'caca', 'fanno', 'bizzy', 'icet', 'goodso', 'sona', 'zorunda', 'ahhahh', 'bling', 'acuestan', 'vocoder', 'streetball', 'shite', 'waterpark', 'emmitt', 'novio', \"'sup\", \"spoofin'\", 'zürafayı', 'verán', 'suttin', 'miseducated', 'eyeyes', 'muchisimas', 'reremember', 'skantless', 'mmark', 'tech', 'رو', 'mouthtomouth', 'ricken', 'bigdicked', \"kidnappin'\", 'şarkıları', 'fki', 'οχι', 'quence', 'parlotte', 'assholeeeeeeeeeeeee', 'я', 'coït', 'sizilethile', 'sano', 'мной', \"od'd\", 'nastyass', 'لعنتیو', 'caddycornered', 'będę', 'thingthing', \"trickin'\", 'mismo', 'kiálltál', \"d'avoir\", 'hcsh', 'چەنە', 'قبل', 'jahvon', \"startin's\", 'seatererer', 'twoyear', 'quoi', 'acabó', 'brignac', 'ohohohohohohohohohohohohohohohoh', 'καλα', \"taggin'\", 'heyah', 'kkiss', 'vicodins', 'zbytek', 'ڕێگا', \"movin'\", 'vannak', 'doğru', \"itwhy's\", 'photoshop', \"gunnin'\", 'matzahball', 'ateş', \"crippin'\", 'grrr', 'airconditioning', \"stalkin'\", 'chokehold', 'peaguts', 'ita', 'sentimento', 'imigrantů', 'smackin', 'childrеn', 'mothafckin', 'cien', \"abc's\", 'demasiado', \"leakin'\", 'dojde', 'makе', 'yasss', 'edosior', 'penali', 'pussin', 'knockknock', 'tv', 'openended', 'ghrisam', 'eeneemeeneemeinimo', \"cansao'\", 'izm', 'pthug', 'ookay', 'feketék', 'ohuhuhuhuhuhuhuh', 'korupci', '就像矛盾', 'gartens', 'godخدای', 'dadadadum', 'kesha', 'myon', 'jodye', '你能透視的目光', 'ik', 'نذاشتم', 'browneyed', 'swangin', \"pourin'\", 'daduhduhdada', 'eeeeeeee', 'kkc', 'buba', 'spunned', 'shihtzu', 'توسط', 'faktorů', 'abcs', 'holyfield', 'boyboyfriend', 'yadayada', 'dui', 'motorpoint', 'którą', 'dennetdennetdennetdennet', 'wth', 'assholeeeeeeeeeeeeeeeeeeeeeeeeeeeee', 'ürpertici', 'blahnik', 'tonk', 'eurgh', 'اجناس', \"churpin'\", 'tengo', 'obvi', 'splyt', 'lipschitz', 'piña', 'ninetythird', 'sssame', \"killin'\", 'sais', 'sendiri', 'hortons', 'hulu', 'snaz', 'fasolatidaso', 'elsétálhattunk', 'بەسەر', 'lickwood', 'yubba', \"gr's\", 'haah', 'ڕایانپەڕاندم', 'relaxin', 'atrapa', 'tonedeaf', 'hihigh', 'ncck', 'terk', 'сукам', 'heterophobic', 'دەنێم', 'ringsooh', 'uploadbanks', 'wasteman', 'mythe', 'lessonscut', \"'whats\", \"crankin'\", \"obie's\", \"attractin'\", 'delevingne', 'octomom', 'dcup', 'shola', 'crodie', \"frickin'\", 'rahmel', 'vzdát', \"reminiscin'\", \"sleepin'\", 'repente', 'makin', 'kabab', 'lada', 'kırdım', 'thefame', 'cardi', 'donalda', 'görüyorsun', 'çekerken', 'estce', 'itll', 'محدودیت', 'misma', '便自動勾起我幻想', 'badum', 'snížit', 'tou', 'frankensteined', '把錯誤都給遺忘', \"'i'm\", 'eliantte', 'поднимаюсь', \"smilin'\", 'koi', 'tryif', 'اینکهاشتباه', 'recieved', 'meapple', 'muggs', 'yellin', 'favour', 'eatin', \"peelin'\", 'jocking', 'تۆنە', 'pellegrino', 'خواننده', 'voiceovers', 'áll', 'tightlyworn', 'wwith', 'sintegrate', 'indir', 'olvidar', 'reair', 'bm', 'ungh', \"chasin'\", \"heartbreakin'\", \"mimickin'\", 'bhrí', 'punchin', 'sunkissed', 'barclays', 'bbbbeat', \"budgin'\", 'dans', 'firmati', \"suit'll\", 'férfi', 'milly', 'destin', \"''talking\", 'uważano', 'foie', 'slimshut', 'percaya', 'düştü', 'shoppin', 'بدم', 'tttell', 'hcg', 'اونو', 'mymymyself', 'catya', 'worldand', 'wwwwwwrong', 'tetris', 'olvida', 'ciężar', 'zyskać', 'payai', 'kaydı', \"travelin'\", 'unk', 'tysięcy', 'dreamsenchanted', 'interludeupgrade', \"ya'll\", 'cus', 'krills', 'uba', 'despedimos', 'دار', 'verdad', \"balancin'\", 'cuh', 'ڕێگایەکی', 'cracccccrazy', \"'gangsta\", 'idgaf', 'gaz', 'ii', 'tsu', 'lolook', 'denemesi', 'doorbrengen', 'yoo', \"rockin'\", 'علاقش', 'boğucam', 'polkadot', 'pretaped', 'politе', 'colbie', 'éramos', 'sonmai', 'doigts', 'huncho', 'haynie', 'certy', 'chukwu', 'bobounce', 'todavía', 'uhahem', 'kryptonite', \"molestin'\", 'día', \"sk's\", 'dadadooda', 'yahooohhh', \"applyin'\", \"name'll\", 'friеnd', \"steppin'\", 'administerer', 'bryans', 'theoh', 'lookie', 'elbisenin', 'személyhívónkat', 'gra', \"fantasizin'\", 'driiive', 'redenbach', 'eyelidsaha', 'discombobulatorboobulator', \"j'ai\", '네', 'softcore', 'chalmers', 'whewhewhewhewhe', 'چیە', 'póki', 'einfach', 'számunkra', \"unravellin'\", 'fahişe', 'buenos', \"challengin'\", 'мамок', 'slapandcry', \"bucklin'\", 'wetwet', 'enloquece', 'robo', 'js', 'supongo', 'uğraş', \"chron'\", 'frais', 'funyuns', 'kuti', 'wuf', 'beetlejuice', 'sikik', 'thurston', 'دەیگرم', 'lmfao', 'داد', 'dododododododo', 'queria', 'monie', \"'45\", 'نەوت', 'chickenheads', 'birini', 'grandi', 'ccan', 'switchin', 'chune', \"keke's\", \"clappin'\", 'bí', 'reat', 'mymyy', 'asist', \"pop'cause\", 'trainwrecks', 'zamek', 'zatracenej', 'supe', \"marchin'\", 'куплет', 'volim', 'ponětí', 'garlin', \"connor's\", \"michaels'\", 'brabbit', 'cahis', 'aucun', 'faots', 'festékpatronokkal', 'doublecup', 'timeif', 'duela', 'prenne', 'dürüst', \"lam'\", \"feingold's\", '你的沉默是我最愛的聲音', 'μαζι', 'tesók', 'unlight', 'lepszy', 'multiverse', 'mehr', \"coca'\", 'proprio', 'uhn', 'nightynighty', 'topy', 'appé', 'scammer', 'statik', 'crème', 'hookrihanna', 'selfaware', 'queenin', 'postdrop', 'چیآره', 'thenand', 'strada', 'ooooohuuu', 'jeera', \"'cause\", 'rodman', 'vere', 'hago', 'overtown', 'fortytwo', 'bzz', 'heyeh', 'wizzle', 'زنده', 'pushin', 'iiilove', \"wanderin'\", 'ribancok', 'empieza', 'myy', 'scaryen', 'hapı', 'queenie', 'cowabunga', 'izlemesini', 'dolusu', 'monét', 'özellikle', 'zvedněte', 'heh', 'firstglance', 'orderwhat', 'dinleyemem', 'dropsjealousy', 'vagy', \"leadin'\", 'siddity', 'damplified', \"complainin'\", 'saca', 'پێش', 'lightskinned', 'tiwwchnt', 'تاریک', 'ormanı', 'dancе', \"guzzlei'm\", 'yummyyummy', 'dulu', \"overachievin'\", 'debout', 'stade', 'steepy', 'manohman', 'youa', 'guapa', 'lovee', 'sneakapeek', 'ivanka', 'scrufizzer', 'giacca', 'reand', 'squeezy', 'ammunish', 'aduba', 'influencer', 'kenard', 'drexler', 'beteszem', \"timei'm\", 'ruess', 'intenciones', \"concealin'\", 'stinka', 'redemptionint', 'thеy', 'kkinda', 'весь', 'раз', 'chuckie', 'klinkt', \"havin'\", 'gebruiken', 'geto', 'reías', 'fictitional', 'scammers', 'tagteam', 'konstantinov', 'heyy', 'coulda', 'ئەلبوومێکی', 'durmuş', 'themba', 'epills', 'maybach', 'thaiweed', 'dünyayı', 'pyt', \"sleepwalkin'\", 'unsee', \"growin'\", 'checkin', \"haulin'\", 'favorte', 'hiçbirşeysin', 'niggasll', 'feledésbe', 'buscemis', \"trollin'\", \"'being\", 'greeco', 'tâche', 'kapri', 'wers', 'bbbbbb', 'nenever', 'suge', 'biddybyebye', 'noooooh', 'kruegar', 'eeheeheeh', 'ohh', 'aerosmith', 'ακομή', 'ation', 'ththese', 'shoty', 'در', 'mencintai', 'arsehole', 'maintenant', \"someone'd\", '69ed', 'sevengrams', 'hydroxycuts', 'setinin', 'hagas', 'triyn', 'klepto', 'shshake', 'sacha', 'nigganerve', \"d'phuzion\", 'lvs', \"frontin'\", 'kapa', 'kılıçtan', 'riddim', 'beerbong', \"you''gon\", 'youu', \"the'\", 'theeth', 'مەزنترین', 'میوزیکە', 'vo', \"onein'\", \"crist'\", 'vraiment', \"wan't\", 'careerdefining', 'ppparty', 'متحرک', 'μονο', 'shrody', 'igh', \"vacant's\", \"poppin'\", 'berb', \"wobblin'\", 'você', 'lembrei', 'yıkamadan', 'vea', 'πάντα', 'twoseater', 'savour', 'kristofferson', 'asitin', \"slidin'\", 'ayoow', \"s'engourdit\", 'potrzebuję', 'před', 'postafiókjaink', \"i'llliehere\", 'dari', 'ناحەزانیش', 'tanzaku', 'ruh', 'uness', 'φωνής', 'cubana', 'monstère', \"stuntin'\", 'freeforall', 'atención', 'halfassed', 'cameltoe', 'nonow', 'thrillin', 'yeaheah', '得你能透視至此', 'cantas', 'hhhim', 'mestab', 'doublecheek', 'umi', 'refrén', 'naquele', 'dernière', 'داری', 'openminded', \"dre's\", \"panickin'\", 'zitrone', 'nüksetmek', \"'your\", 'dododo', 'benimle', 'soo', 'crossfaded', 'vestiría', 'schémas', '9yearold', 'mcv', 'pooperscooper', 'thingso', 'gct', 'хочет', 'doodoodoo', 'siyavuma', \"discussin'\", 'forwardint', 'مردن', 'próbálja', 'hundredyard', \"shit'\", 'η', 'milhouse', 'cеnt', 'geriye', 'iç', 'jumbotron', 'системе', 'lavigne', 'sich', 'zıpladım', 'quand', \"dan'\", 'eevee', 'perce', 'twirk', \"jus'\", 'champú', 'noir', \"d'âme\", 'gulani', \"annoyin'\", 'synthroid', 'sile', 'πότε', \"comprehendin'\", \"strikin'\", 'szabadon', 'شدن', 'skeeza', 'rysując', 'hypnotised', 'könnycseppem', 'carin', 'hoohohohoh', 'neighbourhood', 'istemedim', 'strally', 'chonky', 'ovako', 'byyye', 'whalberg', 'unfadable', \"dressin'\", 'lowrider', 'drumrolls', 'inperson', 'sont', 'شروع', 'ooohoohoh', 'clearoh', 'biggz', 'sagrada', 'doinkdoinkdoink', 'tommorow', 'oro', 'promethazine', 'cootmore', 'writin', 'tasers', 'riddick', 'کەس', 'نزیکە', 'ποιητες', 'thugging', 'دەست', 'هەرگیز', \"bitches'\", 'listo', \"eggin'\", 'denzel', 'walkingdead', 'macking', \"shinin'\", 'uzun', 'americaworldhow', 'caylen', 'trugoy', 'بۆسەر', 'porshes', 'herringbones', 'sorryinabox', 'halfcock', 'butto', 'yai', 'fendi', 'uno', \"takin'\", 'liu', 'گایش', 'merain', 'hmmmmmmhmm', 'eurostep', 'coppin', 'foreverandaday', 'ahhhhh', 'babadabada', 'yrc', 'perdones', 'rapapampampampampampam', 'zbyt', 'playwithmypussy', 'mcgraw', 'auquel', 'زیاترە', 'weezyana', 'cueste', 'ahaahaahaahaahhafhaa', 'cheques', 'threepiece', 'bts', 'ohohohohohohohoh', 'childishlike', 'kas', 'buenas', 'vincentst', 'valahogyan', 'kaepernick', 'peau', \"truth'd\", 'آب', 'f5', 'montano', 'bllala', 'dès', 'cowsa', 'blowed', 'badipsa', 'ritorne', 'tekrarlıyor', 'durk', 'powiedzieli', 'bigbibibaby', 'fasta', \"'son\", 'etmek', 'deja', 'prez', 'umh', 'افراد', 'polow', 'mamaturn', \"tightenin'\", 'phatness', \"wetherspoon's\", 'milf', 'هیوای', 'forcefed', \"'jects\", \"pi'erre\", 'fedup', 'trophied', 'syksense', 'morder', 'hmmhmmhmmmmm', \"swarmin'\", 'evitar', 'lightyears', 'هوایی', 'tempah', \"that'sthat'sthat's\", 'liiie', 'laiqwan', 'draino', 'mexrdique', 'macavity', '消失智商', 'bareknuckles', 'czekam', 'rheon', 'akademiks', 'dadada', \"would''\", 'livs', \"blendin'\", 'vocial', \"vicodin's\", 'üstündeki', \"benji's\", 'artpop', 'pimper', 'cityscapes', 'philando', 'aimin', 'quos', 'lipgloss', 'sheeeit', 'rempy', 'tiempo', 'calle', \"wheeliein'\", 'selfreflections', 'liiii', \"'sposed\", 'خۆتان', 'kanyes', \"lookin'\", 'michelangclo', 'pammy', 'remi', 'crunked', 'noi', 'crotchless', 'ruce', 'ساڵ', 'mı', 'pearce', 'iyanla', 'wearme', 'bushwick', 'σελιδές', 'gitmeliyim', \"reloadin'\", 'driz', 'weedyeah', 'dahi', 'mmine', 'iin', 'kennedys', 'chica', 'δυσκολευομαστε', \"t'endors\", 'alealejandro', 'lv', 'yyyyou', 'داخلش', 'womenthey', 'götünden', 'ladadooladadada', 'meereen', 'obieval', '寶貝', 'shadia', 'peckerwood', \"iii'm\", 'jabronis', 'آوردم', 'prob', \"rape'\", 'unda', 'letourneau', 'doy', 'pak', 'mio', 'monstars', 'irie', 'پیدا', 'será', 'athis', 'anseo', \"spendin'\", 'prises', 'projects996infinite', 'öncesi', 'اشاره', 'youre', \"ahswag's\", 'ew', 'shshshshake', 'nada', 'tomé', \"growlin'\", \"signin'\", 'shmoney', \"ghetto'\", 'à', 'nessman', 'grier', 'exel', 'danceomatic', 'dwade', \"kanye's\", 'spokesmodel', 'ooon', 'sotto', 'jackboy', 'anyám', 'señor', 'justi', 'terminado', \"adat's\", 'نیستم', 'ohwe', 'jaevon', 'arrivo', 'ninonono', 'tooplus', 'kompai', 'gallardo', \"weddin'\", 'meechy', \"yellin'\", 'dpgc', 'aaass', 'lanzar', 'diggler', 'ποτε', 'moneygram', \"tannin'\", 'bbugs', 'yarby', 'muthaphuckkin', 'fini', 'chrissy', 'jammies', 'inchext', 'punked', 'najmniejszego', 'zeesa', 'skrt', \"'round's\", 'ozzfest', 'fortythousand', 'fcking', 'mineymotoeeniemeenie', 'manolo', 'zamanı', 'doorcome', 'kıçımı', 'bumstickitty', 'assalam', 'clickclackblaow', 'rincón', \"failin'\", 'lunchline', 'hree6ix5ive', 'mmmine', \"96'\", 'jakoś', 'söyleyecek', 'timbaland', 'revoir', 'nba', 'beaucoup', 'toc', 'hеy', \"cryin'\", 'oooooh', 'db9', 'dudecan', 'glisin', 'в', 'krijgen', \"preein'\", \"own's\", 'nowcan', 'gant', 'fernández', 'glistеn', 'hooder', 'backi', 'felvettem', 'zabs', \"cos'hai\", 'rolledup', 'mortis', 'هواپیمای', 'chestribsbacksamuel', 'muthafcking', 'budeš', 'évre', 'thicke', 'نیم', 'چون', 'mansa', 'dopustiću', 'autre', 'nevermetmyself', 'comprender', \"oliver's\", 'slimandtrim', \"thunderin'\", 'childs', 'blowin', 'پێنجدا', 'brethrens', 'agriculturals', \"bulgin'\", 'carlie', 'soir', 'où', 'fenkell', 'który', 'ittybitty', 'avec', 'oohhhh', 'anywhеre', 'história', 'érzelmeskedés', 'jonbenét', 'smithele', 'yakaladı', 'этой', 'freezed', 'cheeto', 'seps', 'tt', 'massoccur', 'deréon', 'adonde', 'درمان', 'ragedy', 'nj', 'lizzo', 'odstín', 'parro', 'frenchys', 'gwagon', 'pilati', 'bendel', 'buju', 'salva', 'mcnabbin', 'mujer', 'saquen', 'conozco', \"beatin'\", 'mommys', 'checkachickycheckachickycheckacheckachicka', 'smcke', 'douchebags', 'nasa', \"moppin'\", 'breakbeat', 'fuckinyouupshit', 'rajta', 'desistir', 'hunnids', 'boulangerie', \"ain'tyou\", 'iguodala', 'rusha', 'honeybun', \"qu'un\", 'ole', 'achar', 'v05', 'woooooooowoo', 'ayymalone', 'truthteller', \"vickin'\", 'istemiyorum', \"jugglin'\", 'stingaling', 'prends', 'swervin', 'vamos', 'beamen', 'redlight', 'σε', 'začít', 'miałbym', \"morn'\", 'trl', 'ribbit', 'everchanging', \"puffin'\", 'mcdaid', 'timewe', 'upsetget', 'ht', 'sacario', \"dees'\", 'yemi', 'becasue', 'bardzo', 'nefret', 'llamando', 'oohmymymy', 'capelloni', 'kadınları', 'quererte', 'bbk', 'hallhatod', 'dadidadaddadadida', 'charlemange', 'sididdy', 'fu', 'cmon', \"heatin'\", 'phatter', 'aahah', 'shittick', 'amore', 'همه', 'posto', 'ewww', 'skinnies', 'knowed', 'gogogogoddamn', \"babysittin'\", 'ceo', 'selfsabotage', 'theyll', \"'cept\", 'enredarme', 'partyin', 'هست', 'fucklike', 'samé', 'jde', '7up', \"he'\", 'vite', \"posse'd\", 'bcby', 'shanté', 'sufrir', 'konartist', 'dente', \"''we\", 'sms', 'midthirties', 'dirrty', 'sei', \"muh'fucka\", 'küvette', 'deet', 'sisiside', 'coldcocked', 'ohohohohohoh', 'chissà', 'conyou', 'fufufuck', 'mis', '이', 'saweetie', 'wintour', \"placere'\", 'voashes', '7yearold', 'wreckingball', \"cookin'\", 'syn', 'fiveyearold', 'cpt', \"fin'\", \"talki'll\", 'owa', 'campanas', 'jjust', 'millz', 'رادنی', 'shalalalalow', 'suwoop', \"'specially\", 'ventes', 'lordy', 'pppush', 'rosay', 'novacaine', \"meit's\", 'calmaneur', 'nich', 'reven', 'esham', 'hahah', 'soustředí', 'juul', 'یک', 'yooptictock', 'radość', 'هات', \"'gratulation\", 'malling', 'redbottom', 'trainor', \"retirin'\", \"boys'\", \"rubrubbin'\", 'çıkması', 'bırakmak', 'lindo', 'whoawhoa', 'tac', \"liftin'\", 'zedd', 'pppecking', 'rida', 'zrobić', 'onu', 'childrens', 'andas', \"'pendent\", 'dobtuk', 'caffè', '속마음', 'cllg', 'rcket', 'banyoda', 'zoet', 'گرامر', 'ahaahh', 'cantar', 'you4', 'nayhood', 'thistell', 'awooawooooo', 'ebayers', 'genеs', 'ganarás', 'beakartad', \"he've\", 'stoppin', \"whilin'\", 'percs', 'hickie', \"bettin'\", 'gggg', 'rara', \"lewinsky'd\", 'rien', 'ام', \"chillwhat's\", 'excitan', \"reclinin'\", 'longass', 'railiza', 'aidsli', 'cazan', 'tehetném', 'hmmoh', 'comme', 'theyve', 'adoras', \"ocd's\", 'blessin', 'puttputt', 'onstar', 'curr', 'muthafuckers', 'nwa', \"screwin'\", 'faceplants', 'winestained', 'one5808', \"hov'\", \"lickin'\", 'molliwopped', 'letzigrund', '是生還是死', 'müzik', \"qu'estce\", 'yeaaaaaaaaaaaaaaah', 'istiyorlar', \"hıçkıran'a\", 'میکنیayy', 'savaşacağım', 'blet', \"fiyaa''\", 'thereyou', 'swswswswinging', 'wifey', 'iyi', 'cashe', 'hellbound', 'bezos', 'ебал', 'botellas', 'nickelus', 'ziplocked', \"bustin'\", 'فهمید', 'numero', 'calimeros', 'courtside', 'blud', 'mally', 'predrop', 'megtalálta', 'caímos', \"peekin'\", \"fuckin'oh\", 'soulmate', 'chample', 'edimminem', \"exposin'\", 'papi', 'oliendo', 'öz', 'لێبدە', 'bajo', 'strugglers', 'ymb', \"mixin'\", 'tshirts', 'yemaya', 'idina', 'fleek', 'nighter', 'myaya', 'bazıları', 'bɛn', 'lifelove', 'breitling', 'wata', 'refind', 'megvolt', 'trumpe', 'sadity', \"'burb\", 'cc', 'tyga', 'indianstyle', \"byou're\", \"chubbs'll\", 'mıydın', 'hellraise', 'jetson', 'rushin', 'balmains', 'beckham', 'outkast', 'انجامش', 'everyones', 'sígame', 'djcom', 'χρυσος', 'خشک', \"streamin'\", 'moines', 'نیاز', 'enamórame', 'bastic', \"fox'll\", \"lamb'\", \"nuttin'\", 'pursuin', 'collegy', 'allwheeldrive', 'sikmemi', 'menyembunyikan', 'feefifidideeyay', 'sexo', 'sikimi', 'biscuts', 'dadadadaohhhh', 'amandla', 'zoë', 'skinfolk', 'craycray', 'shabba', 'unias', 'csak', 'redstate', 'swineeee', 'dadom', 'shaq', 'honnan', 'işte', 'woooooooooooooh', 'tascam', 'sideeffects', 'coro', 'vertigem', \"ve'et\", 'stargate', 'brioni', 'zamordować', 'poupons', 'sremmurd', 'preachin', 'falschheit', 'runitniggafast', \"umpirin'\", 'cuffin', 'propofol', 'badababadabada', \"hef'\", 'gwanin', 'alot', 'protože', \"'causes\", 'arkaya', 'haha', 'metrolyrics', 'alarma', 'آینده', 'nuair', 'عقب', 'peacockcockcock', 'biomorphic', 'collisionspoken', 'amil', 'lumières', 'rejuved', 'želiš', 'πληγώνεται', 'öğretmem', 'تی_مینوس', 'littlebitty', 'ladyya', 'carbone', \"envisionin'\", \"detroit'\", 'faszba', 'پەیوەندی', 'آشغالمولی', 'دارمەیتی', 'paraît', 'azycray', 'iverson', 'hunnidthousand', 'atl', 'macaiah', 'dollardollardollar', 'hhhands', 'igazság', \"no'\", \"debatin'\", 'reason4', 'sayang', 'linkin', 'wickwack', 'italt', 'kamenů', 'przypisy', 'dck', 'whitestrip', 'guessin', 'nawmean', 'actoryou', 'goldish', 'thethen', 'csapatunkat', 'yeh', 'benzinoshit', 'tinie', 'siente', 'servirai', 'canlı', \"iit's\", 'escalatedit', 'chewbacca', 'ryu', \"lightin'\", 'veut', 'dishwash', 'creekwater', 'neeks', 'lifes', \"loving'\", 'рискни', 'cullinan', 'všechno', 'هەندێک', 'هاپی', 'deebo', 'uğraşıyorum', 'pleeza', 'exquestion', 'handmedowns', 'خۆشیاندەوێم', 'ragadott', 'dphuzion', 'revisitation', 'yaptırdım', 'bombest', 'mě', 'spazz', 'differenze', 'kediyle', 'nizlopi', \"roundtrippin'\", 'two6008', 'خاص', 'hoohoohoohoohoo', \"'tll\", 'paddywagon', 'doubletap', 'warnerchappell', 'phrephrephresh', 'hívtuk', 'rezil', 'asmr', 'fromunda', 'chkitchkitchkitchkit', 'espero', 'winslow', 'knocc', 'marykate', 'تۆیە', 'shadea', 'elhinni', \"girls'll\", 'cesspoolers', 'scottrade', 'dipset', 'hbic', 'çocuk', 'cheddars', 'leanin', 'uhhu', 'gotgot', \"water'\", 'aftermizath', 'gass', 'danışmanına', 'estão', 'andor', 'دیسی', 'nutsack', 'نهند', 'runins', 'camoflague', 'oakwoods', 'eyewear', \"outrhymin'\", 'witchu', 'resteras', 'صمیم', '닫고', 'kaya', 'jameela', 'poza', \"lovers'\", 'promiscuité', 'preferencеs', \"tastin'\", 'significa', \"lelelet's\", 'fretta', 'zły', 'cigerette', 'dadadababadadada', 'blakey', 'παντα', 'zcp', \"fishin'\", \"told'em\", 'earnin', 'porteñas', 'cardiae', 'brang', 'grâce', 'jada', 'shahrzad', 'των', 'collina', 'besando', 'lahey', 'exfan', 'backfade', 'qujle', 'chinups', 'acreeping', 'rapup', 'makinene', 'αυτος', 'playboi', 'bada', \"buddha'd\", 'نبود', \"kriss'\", 'demarcus', 'chicachicachica', 'kala', 'symfonii', \"magnif'\", 'reggo', 'pazzo', 'freakum', 'ehh', 'yitadel', 'ей', 'bomboclat', 'arís', 'greatgreatgrandchildren', 'intriganti', 'awsè', 'sevilles', 'snoh', 'bartending', 'toottoot', 'hhow', 'može', 'stuy', 'interet', 'kekeep', 'applauseplause', 'gether', 'bla', \"slurpin'\", 'furniturе', 'pariis', 'enur', 'checka', 'teste', 'doooooll', 'queenstreet', 'blup', 'mirrorball', 'alalalollipop', \"asses'll\", 'handrolled', 'rosenburg', 'بشینم', 'dökün', 'لەوانەیە', 'arrêter', 'departеd', \"revolvin'\", 'kişiyi', 'hacha', 'hazelton', '5to9', 'ayyy', 'zonda', 'jackboys', 'mrchows', 'gıdıklayan', 'therell', 'multi', 'toolook', 'late6x', 'danananana', 'gonnuh', \"grunwald's\", 'rippin', 'mèt', 'oversaturated', 'گذشتهآره', \"provin'\", 'tadahda', 'whooptydo', 'manilow', 'plantiff', 'üste', 'twentysix', 'deterior', \"ain'ti\", 'machetteif', 'ajá', \"pawlin'\", 'eminemdoh', 'gravedigging', 'büyüdüm', 'jangalang', \"enterin'\", 'steeler', 'hablar', 'ritches', '하는', 'punchliner', 'kkkkiss', 'niente', 'burntdown', 'blendin', 'compris', 'ikumkani', 'chubbateletubby', \"deceivin'\", 'cuello', 'válečný', 'partna', 'agh', 'careyes', 'uzaktayken', 'donatella', 'arounds', 'livin', 'whi', 'dopeboy', 'youyouyou', 'hayıt', \"sinkin'\", 'aç', 'khalifa', 'ağırdır', 'καλιφορνιας', 'nineteen85', 'nisa', 'kaffee', 'yarrağı', 'siklemek', 'pada', 'wallabees', 'puerto', \"'lo\", \"'malis\", 'faulks', 'aaaalalalalalchemist', 'alarmpound', 'machuga', 'luni', 'parttime', 'lakers', \"throwin'\", 'solemnfaced', 'hisz', 'shedded', 'indawo', 'ohohohi', \"breaking'\", 'اذیتم', 'crackbag', 'songblank', 'poso', 'llmind', 'ngozi', \"bleachin'\", 'haaan', \"gettin'shmoney\", \"perpin'\", \"'this\", 'qc', 'twentythousand', 'lahmlahlah', 'congorock', 'qaeda', 'оценила', 'weinstein', 'stopresponse', 'coś', \"smckin'\", 'stoupá', 'боюсь', 'thisthisthisthisthis', 'fingaz', 'cmere', 'ciebie', 'lonsdale', 'bready', 'tailormade', 'vindata', 'nowow', \"lcvers'\", 'lawsons', 'ahaaha', 'bizzle', 'sikeyim', 'finninina', 'mybitch', 'pickpickpick', 'artık', '80yearold', 'muhfuckers', 'rothschilds', 'hassadiddy', 'melet', 'صادق', \"adrian's\", \"droppin'\", \"chubb's\", 'biraz', 'mâché', 'به', 'mimimimind', 'بەسە', \"happenin'\", \"must'a\", \"diggin'\", 'slizzel', 'nias', 'húsvétkor', 'doingmeandonlygodcanjudge', 'bboys', 'pelear', 'wikepidia', 'astros', 'seviyorum', 'zonday', 'buscas', \"bowin'\", 'gotcomeback', \"denyin'\", 'olor', 'benar', 'guapguap', 'wölfe', 'kdo', 'romanek', \"ii'm\", 'abc', 'parkolójában', 'oneonone', 'wellaware', \"cheerin'\", 'pattycake', 'skina', \"enablin'\", 'nummana', 'twoyearold', 'böl', 'woahho', 'ruinach', 'maniped', 'gameking', 'καρδία', 'doodoo', 'whoopsathatafuckingdaisy', \"motionin'\", 'espalda', 'paraparaparadise', 'sense8', 'ey', 'çekilişi', \"tat'\", 'biliyorsun', 'seanapaul', 'vacay', 'kookay', 'teşekkürler', 'khliad', 'فقر', 'feeny', '8th', 'swang', 'topfloor', 'lowlow', 'seventhirteen', 'espectáculo', 'meilleur', 'söylüyorsun', 'swt', 'tano', 'toniiiiiight', 'ferraris', 'serré', 'nonono', 'bude', 'kweb', 'prcstitcte', 'inyaface', \"satanworshippin'\", \"blushin'\", 'پنکیک', '888cutsomething', 'rexha', 'tampoco', \"times'\", 'ڕاکەن', 'nway', 'až', 'kissin', 'everytime', 'instagrammed', 'eightyyearold', 'قەحپە', 'modlit', 'бош', 'kesikler', 'ladadooladada', 'aand', 'erre', \"ja'll\", 'curtsi', 'tayk', \"rightin'\", 'mojitos', 'ménage', 'tteardrops', 'harhard', 'likörleri', 'ngizogobisa', 'madnesses', 'místo', \"children'\", 'orospu', 'çekil', \"bafflin'\", 'düşünmüyorum', 'janejane', 'diferente', 'oooohhh', 'نەفرەت', 'snuffleupagus', 'patra', 'rihrih', 'tentlike', 'bei', 'داشتن', 'izgalmak', 'togetherthis', 'wizzel', 'چونکە', 'saaaaved', 'megtaláltam', 'cataracs', 'shee', \"relaxin'\", \"causin'\", 'nuuh', \"lcve's\", 'cuchi', 'santigold', 'covеr', 'bottomend', 'omarion', 'jetskis', \"do'\", \"'n'\", 'shoutnow', 'рэкс', 'okreni', 'oooohooohooo', 'benden', 'skoolys', 'defenceless', 'carajo', '0berzerk', 'マジbeautiful', \"visitin'\", 'sacrafices', 'esophogus', 'coogis', 'garcelle', 'clashings', 'diamant', 'blackin', 'ediyor', 'فروشگاه', 'oohoohoohohoh', 'لعنتیمتو', \"snitchin'\", 'duppied', 'ηταν', 'cheesehead', 'instagramstancrew_', 'arada', 'ohi', 'mulai', 'egyszer', 'demek', 'всё', 'lyin', 'duffle', 'ozzy', 'tecavüz', 'extrañas', 'زودتر', 'rcveeeee', 'uglyomarosa', \"pistolwhippin'\", 'ibaka', 'هستمآرهسر', 'qrremember', \"seein'\", 'دەژمێرم', 'jordans', 'estado', \"eiffel's\", 'détestent', 'دەکرێ', 'doodoommm', 'dumdumdum', 'myvenom', 'peppersprayed', 'bonethugs', 'dadun', 'prebreak', 'chce', 'dungaroos', 'baf', 'trueblue', 'aroundouououound', 'çık', \"snatchin'\", 'bulleting', 'terrio', 'siedzę', 'riring', 'alejandrxooooh', 'ertert', \"rockstar's\", 'doubletime', 'amarás', 'toegther', \"flossin'\", 'istiyorsan', 'mám', 'rkelly', 'fedaisinden', 'selener', 'looki', 'aswangin', 'spiritalyou', 'katycats', 'biebs', 'مورد', \"l'oréal\", 'دەنگم', 'vrais', 'widescreen', \"funkin'\", 'yee', 'targa', 'icu', 'generación', 'firebrigade', 'massa', 'thiessen', 'dahmer', 'çıkış', 'oohho', 'cuervo', \"mars'\", 'rollohohoh', 'zaddy', \"cc'd\", 'داشتم', \"waxin'\", 'instores', 'bilmiyorum', 'romantical', \"workin'\", 'boogy', 'moderfucking', 'ohohwhoa', 'fieldbut', \"yo'\", 'youaim', 'üzerinden', 'uppaup', 'hogy', 'outchea', 'ketamine', \"intertwinin'\", 'gshock', 'mwah', 'oone', 'dropdrop', 'pendergrass', 'collabo', 'yackin', 'هێشتا', 'blblow', 'sexin', 'uhuhuhuhuhuhuh', 'jevo', 'frostsmack', 'posie', 'siempre', 'plivou', 'kingking', 'lptha', 'likeoh', 'karena', \"tun'\", 'fedexforum', \"dishin'\", \"sizin'\", 'hasta', 'wasser', \"relatin'\", 'αυτές', \"'cram\", 'şehvetlendirirsin', 'شەیدی', 'alonе', 'νυχτα', 'ririch', 'stunna', 'eyеs', \"gaspin'\", \"i'mmanna\", 'pokračuj', 'récolte', 'chihiro', \"death'll\", 'adamın', '相好那麼短', 'mmmaterial', 'moët', 'een', 'εαν', 'kross', 'dnice', \"luvin'\", 'lastall', 'крест', 'emoji', 'geliyor', 'غول', \"n'aurais\", 'andoyiki', 'بکەیت', 'öldürdüklerinde', 'wyjęła', 'jah', 'prеssure', 'jeremih', 'dddown', 'buttonups', \"lеt's\", 'oooooooh', 'waistdeep', 'shakeshake', 'mamamama', 'دەوڵەمەند', 'chillling', 'thedream', 'moshpit', 'oou', 'drumline', 'gaspin', 'پێویستم', 'partout', 'halffull', \"cheap''\", 'nenávidíme', 'frontdoor', 'itgo', 'wacked', 'skitbackground', 'nula', \"fugaz'\", 'rasheed', \"shockin'\", 'contrat', 'gagaaaahhh', 'angerext', 'moreestablished', 'retient', \"upthat's\", 'ohwoooh', 'šlic', 'nevermettheplugbutirapabouttheplug', 'presidentsdents', 'm5', 'γνωριζουμε', 'yutes', 'mortem', \"t'aimes\", 'exll', 'nsync', 'shippy', 'lonley', 'shalalala', 'jaz', \"circlin'\", 'lavoro', 'iller', 'ladykiller', 'kellett', 'dahdah', \"illin'\", \"guzzlin'\", 'opinon', 'ocho', 'tsa', \"hova's\", 'cnn', \"royce's\", 'peuvent', 'vert', 'jiwaku', 'biçimsiz', 'glowstick', 'signingbonus', \"shavin'\", 'takedown', \"we'rе\", 'statt', 'posty', 'oroboskibo', 'baratheon', \"plotin'\", 'souououound', 'alltime', 'ganked', \"fuckin'\", 'freakin', 'fortyeighted', 'قبضارو', 'questo', 'banna', 'ارزشگفتی', \"'97\", 'bem', 'bellys', 'sslim', 'gisselle', 'babys', 'fisted', 'anocht', 'életem', 'estmaos', 'akon', \"changin'\", 'mancuso', 'facking', \"chukwu'\", 'dabadadadida', 'sheeran', 'hailee', 'alarmalarmalarm', 'selfindulgent', \"scratchin'\", 'málaga', 'oczyma', 'avacado', \"accordin'\", 'legpeacock', 'haftada', 'vestes', 'hoohohoh', 'romo', \"haf'\", 'نمیکنه', 'pos', 'ballerines', 'bornana', \"l'autre\", 'sketels', 'kez', 'dougthepug', 'ورژن', 'ohmamama', 'addies', '_____es', 'ohhhohhh', \"disgustin'\", 'سرعت', 'rapi', 'siklemiyorum', \"'bob'\", 'کردییه', 'getcha', 'mayn', 'mazarati', 'phyphyphyphysical', 'nadie', 'losin', 'propre', 'trappin', 'limotinted', 'pablito', 'nene', 'sceemin', 'ئامادە', 'skeeby', \"judgin'\", 'mya', 'krayzie', 'yuh', 'göz', 'sesini', 'elen', 'fantano', 'měl', 'skratch', 'berninger', 'rückgrat', \"talking'\", 'pookie', 'arrowsmith', 'cansé', 'bbabe', 'iiiiii', 'tudom', \"thinkin'\", 'calogero', 'cantando', \"way'\", 'geri', 'پەسەندی', 'dreamgirls', 'vatreno', \"'tize'\", 'lonelyness', \"kushin'\", 'woooohoohooh', 'doodooroo', 'needa', 'tellem', 'viejo', 'coucou', \"a'int\", \"linen'd\", 'بکننپس', 'situationships', 'içkilerden', 'podnieś', 'querer', \"boardin'\", 'tonguelashing', \"iiii'm\", \"conjurin'\", 'lauguage', 'hopin', 'dippityhippity', 'jeepfull', 'beatminerz', 'apartup', 'eyekyu', 'anitta', 'maclaren', 'muggin', 'bisbal', 'sí', 'ninetyfive', 'içide', \"o'\", 'inna', 'دارم', \"drake'll\", 'perla', 'ببینمآره', 'gsc', 'jika', 'sandcastlespart', 'ganking', 'ödeme', 'blings', 'gggggunit', 'düşünürsün', 'لەبەر', 'رفتن', 'goshdamn', 'rightwing', 'frenchise', 'selfcontrol', 'andals', 'groundbreakin', 'morningside', \"motherfuck's\", 'gerbers', 'triky', 'yoou', 'vinn', 'cureoh', \"conversatin'\", 'bırakmaya', 'nondescripts', \"dyin'\", 'stracić', 'بخاطر', 'onenight', 'schováš', 'ohohahah', 'pěst', 'jеt', 'pejic', 'homex', '4x', 'yeaea', 'gle', 'فەشەلەی', 'subtweet', 'fearin', 'pago', \"pics'\", 'chromatica', 'leute', 'convay', 'grownass', 'ouuuuu', 'ahaah', 'sırtında', \"nwa's\", 'yooter', 'ryders', \"shiteatin'\", \"teenagers'\", 'tobacca', 'شدنه', 'scxy', 'closercloser', 'dеfense', 'lamby', \"manhandlin'\", 'oldfashioneds', \"rhyming's\", 'rothstein', 'był', 'twomile', 'refren', 'شه', 'pumba', 'punkpussy', 'thugz', 'ئێوە', 'buzzled', 'widout', 'chkitguess', 'erdi', 'kaopectate', \"don't'chyea\", \"huffin'\", 'sss', 'sigues', \"roughin'\", 'oturma', 'bassjackers', 'setlist', 'codecode', 'vape', 'freinds', 'situace', 'amar', 'atrox', 'mavi', 'کوول', 'huggers', 'baller', 'το', 'jesteś', 'marvclous', \"'mountin'\", 'tygatyga', 'doute', 'middleaged', 'oléoléolé', \"horsin'\", \"savin'\", 'badabing', 'hitlist', 'и', 'leway', \"'ass\", 'morningsiders', 'ohhoo', 'imprescindible', 'autopsyeminem', 'bently', 'rem', 'دا', 'yaptığımı', \"chilin'\", \"chattin'\", 'zedeledim', 'aşağıya', 'tranter', 'frodo', \"murderin'\", 'mcdreamy', 'koce', 'camoing', \"trackie'\", 'diventato', 'دادی', 'toandfro', 'vibranium', 'tomba', 'dangerom', \"backhandin'\", 'boostin', 'giyin', \"tumblin'\", 'jeepeta', 'trillest', \"noddin'\", 'goin', \"withholdin'\", 'gatman', 'rround', 'seconddegree', 'ndiyininja', 'dancin', 'atown', 'currencys', 'diggs', 'startshititis', 'soohoh', 'topm', 'thirtysomething', \"sittin'\", 'dessus', \"hafuckin'ha\", 'saludes', 'dejaste', 'fastforward', \"blackin'\", \"birkin'd\", 'refrein', 'pssy', 'jlo', '忘掉在溫馨中帶涼', 'aaaaah', 'parken', 'yyou', 'lgbtq', 'apeshit', 'dururken', 'ekledim', 'jumpin', 'باشبومایە', \"rememberin'\", 'customkitted', 'egy', 'bbbbible', 'taebo', 'retill', 'εσύ', \"bitchin'\", 'boğazını', 'straped', 'cockblock', 'patek', 'recordlabel', 'megszagoltam', \"'villians\", 'yüzden', 'obvio', \"featurin'\", 'lövést', 'hardwork', 'fingerlicking', 'mcnew', 'εμείς', 'kamikazе', 'любовь', 'znieść', 'singlehandedly', 'risperdal', 'nomore', 'fx', 'voy', 'myyy', 'とろけそうなkiss', 'greystone', 'wackyana', 'années', 'foward', 'furán', 'doublee', 'nizzle', 'pervertedest', 'propiamente', 'bebewould', 'nic', 'badingham', 'για', \"pleadin'\", '000the', 'ppop', 'hoochie', 'julkeyz', 'gcses', 'jorza', 'cheung', 'aber', 'béketeremtő', 'miłość', 'changó', 'mistakefree', 'searchin', 'dahasını', 'shiiit', 'jespère', 'weh', 'selfhatred', \"'dam\", \"stark's\", 'fräulein', 'leana', 'stairlift', \"sparkin'\", 'peli', \"curlin'\", 'کرده', 'georgie', 'wrispect', \"'zurp\", \"thankin'\", 'carbi', 'survivе', \"saggin'\", 'wristpect', 'selfloathing', \"s'quitter\", \"our's\", \"morphin'\", 'youngin', 'onefifty', 'esudd', 'dylann', 'silverstein', 'elrendeltetve', 'mos', 'facetoface', 'looseygoosey', 'تۆ', \"basquiat's\", 'dayold', 'rithimis', 'janky', 'mcclarens', 'shotsno', 'пьяной', 'pollo', 'boyboyboy', 'passando', 'bagnasciuga', 'fivestar', 'watchin', 'bébés', \"michael's\", \"'gnac\", 'aiko', 'وقت', 'caer', 'jammin', 'معادل', \"then'll\", 'twelvenoon', 'گرایەر', \"enemigo'\", \"beiber's\", 'thateh', 'sotomayar', 'kuk', 'prefiere', 'farrah', 'pegity', 'cuando', 'uhuhhh', 'görmek', 'ooooooooooooooooooh', 'olursan', 'entendre', \"thickenin'\", 'español', \"mashin'\", \"friggin'\", 'belaire', 'iğrenç', 'chapard', 'woahhh', 'może', 'oneway', 'jux', 'pac', 'ndamukong', 'tru', 'dermot', 'waypink', 'schneidet', \"follie's\", 'mustve', 'boca', \"tittyfuckin'\", 'کل', 'memorys', 'stretcha', 'narcos', 'oompaloompa', \"magazines'll\", 'hrdiny', 'propio', 'satmak', \"tearin'\", \"qu'être\", 'beatch', 'nickename', 'cheesesteak', 'dutches', 'voluntad', 'wir', 'lachey', 'glistenin', 'cn', 'paparrazi', 'tragédie', 'rosegold', 'des', 'threelegged', 'allout', 'chwyć', 'kalot', 'ضد', 'uhunk', 'tıkadı', 'ékszereid', 'شروعارو', 'bonsoir', \"hon'\", 'mempercayaiku', 'motherfuck', \"one'll\", 'λαμπει', 'chingy', 'juro', 'hatata', 'branson', 'yani', 'throop', 'toogoodformyowngood', '80s', \"risin'\", 'brightside', 'mano', 'leopardskin', 'bahbadadodedadaday', 'guh', 'ces', 'sixsixsix', 'hiçbir', 'kaybettiğim', 'mamamatter', 'assback', 'hе', 'youday', 'aroundcomes', 'tomayto', 'dum', \"includin'\", 'آره', 'ccatch', \"down''\", 'bigging', 'flav', \"mani's\", \"caput'cha\", 'ihtiyacımız', \"ignorin'\", 'kulture', 'izzon', 'jeder', 'riffy', 'terius', 'callcallcall', 'mjh', 'boink', 'dvsn', 'sе', '4rd', 'céanna', 'çalışıyorum', 'pubalic', 'midy', 'haterade', 'rawkus', 'judgе', 'mhmm', \"fishermans'\", 'handcuffin', 'animalsmals', 'brakin', 'errchickerr', 'espe', \"discouragin'\", 'estáis', 'liste', 'playas', 'hülye', 'ying', 'brrr', 'bien', 'aringing', 'معروف', 'vuittons', 'dissapoint', 'fallar', 'talmbout', 'کمپ', 'swallowin', 'warzone', 'quelques', \"spikin'\", \"preachin'\", 'soundbwoy', 'henn', \"k'an\", 'centurylink', \"leavin'\", 'ock', \"de'angelo\", 'oldass', 'wifed', 'öldürsen', 'jetts', \"keepin'\", 'wszystkiego', 'caindo', 'snitchall', 'shootin', 'miałem', 'tantas', 'krauss', 'mij', 'entero', 'unemploying', 'ahhhh', 'ko', 'آدمی', 'yessir', 'klosman', 'khloe', 'mamamagic', \"expressin'\", 'gotchu', 'hohohoholy', 'escucho', \"snakin'\", 'majid', \"met'cha\", \"mummra's\", \"rcmancin'\", 'curiouspause', '一目で招く', 'wewewe', 'chokin', 'sainttropez', \"crappin'\", 'milkbone', 'perdonar', \"finnickin'\", 'райдер', 'accroc', 'trix', 'سەرسام', 'anis0', 'bentayga', 'gallies', 'uckfay', \"s'est\", 'yeahhh', 'کلاب', 'munmunmuny', \"womens'\", 'ooooooh', 'singsing', 'youuuuuu', 'hahahahahahahaha', 'goodluck', 'vurulduğun', 'kimbo', 'somedays', 'powiedziano', 'galifianakis', 'radiofriendly', 'jem', \"mo'fuckers\", \"lotta'\", \"trappin'\", 'firstlast', 'shing', \"bashin'\", 'pizzelle', 'chuid', 'osorio', 'aprendí', 'untoppable', 'twoninetyfive', 'birinden', 'szarság', 'felching', \"interferin'\", 'overproof', 'bbj', 'thottery', \"curdlin'\", 'tyme', 'máshogyan', 'fiftiеs', 'menschkeit', \"other's\", 'fеlt', \"vackee's\", 'curiousity', \"shoppin'\", 'wooooo', 'nextofkin', 'micstand', 'postyah', 'πληγώνει', 'lookin', 'φωτογράφια', 'ladedahdah', 'слишком', \"zach's\", 'tititlerinin', 'było', \"squashin'\", 'kimmy', 'youpull', 'berkant', 'phoneix', 'φύγεις', 'noches', \"battin'\", 'روزی', 'sztylet', 'mikiyah', 'regalo', 'bebe', 'lword', \"mappin'\", 'quartercentury', 'hesaid', 'pra', 'سیاه', 'changin', \"u're\", 'leakin', 'frente', 'medellín', 'thottie', 'spesh', 'razy', 'serta', 'motel8', 'haihai', \"'melo\", 'matinee', \"braun's\", \"mothafuckin'\", 'giusuppes', 'attlas', '美麗的咒語', 'coheadlining', 'malachai', 'žil', 'bitchwar', \"ahoy'\", 'mahrum', 'dundun', 'xzibit', \"excitin'\", 'starspangled', 'çok', 'ariana', \"'venchy\", 'sssorry', 'dese', 'raton', 'يا', \"bodyin'\", 'shotget', 'fuckthis', 'پشیمون', 'daaark', 'twofaced', 'insaneness', 'iwhen', '逃れようとしても', 'havin', 'فعالیت', 'cafelotted', 'solamente', 'شێوەیە', 'bicurious', 'pemberton', 'letadla', 'uguali', 'substitue', 'targaryens', 'yoldan', 'levántate', \"toppin'\", 'umursamıyoruz', 'treach', 'girlirlirl', 'kiedy', 'وە', 'whoadies', 'prt', 'rerate', 'wie', 'buttnaked', \"shatterin'\", 'ustedes', 'hrr', 'incredibles', 'hai', 'amped', 'privilège', \"boomin'\", 'frikkifrikkifrik', 'θυμάμαι', 'fasho', \"o'neal\", 'paxils', 'quella', 'aisiesday', 'siento', 'southernplayalisticadillacmuzik', 'pissy', 'ancora', 'pickerupper', \"'84\", 'audemars', 'currentsounding', 'davul', \"ridin'ridin'\", 'bеtty', 'rupaul', 'alıp', \"strappin'\", \"n'ai\", 'oni', 'yacketyyack', 'soundbombing', 'hesney', 'lyte', 'ayobi', 'bedum', 'ahahahaaah', \"tanny's\", 'dumma', 'nevaljao', 'vídeos', 'vermek', 'doubleg', 'همین', 'typeo', 'coursecompliments', 'alors', 'crep', 'oldfashioned', 'wittle', 'پوشیدم', 'halftwisted', 'hazırım', 'siktiklerim', 'modellerin', 'hennessey', 'arichan', \"sho'\", 'mamita', 'مک', 'podría', 'babxy', \"gat'll\", 'whowho', 'cinderellaella', 'yoyo', 'blackcovered', 'whassap', 'oir', 'birkin', 'listеn', 'ausbe', 'middlebrook', 'eightpage', '수', 'место', 'nickiminajwikiacom', 'ju', 'napadá', 'estrella', 'haheheh', \"hov's\", 'انگار', 'screamin', 'emack', 'ehever', 'ludzi', 'megfogsz', 'basqui', \"makin'\", 'fitteds', '문을', \"shoutin'\", \"jusqu'au\", 'antibackstreet', 'rollies', 'meyou', 'wzbogacam', 'castaki', 'jongani', 'inschool', \"insha'allah\", 'ooou', 'смотри', 'fairlane', 'hilo', 'extendo', 'disfunction', 'کمتر', 'goines', 'držte', 'manicdepressed', 'chickenchicken', 'uklidní', \"jeal'\", \"l'activité\", 'způsobí', 'ihtimal', 'mafro', 'playin', 'ruido', 'orangeoh', 'alimentarnos', 'uhohuhoh', 'rajtad', 'بیغمی', 'چەنز', \"continuin'\", 'choosin', 'ای', 'fugazi', 'looooooooong', 'sonyatv', 'gon', 'destinys', 'mierda', 'guac', 'neverland', 'missoni', \"conectao'\", 'finna', 'boi', 'utfo', 'přijde', 'ohhhx', 'نهما', \"'05\", 'ڕوحەکان', 'spalding', 'rendre', 'yolo', 'todo', 'selfpromoters', 'chauffers', 'quelque', 'rocketship', 'nig', \"l'argent\", 'nickelette', 'hotová', 'nana', 'elphaba', 'túl', 'paketten', \"unforgivin'\", 'ئێستا', 'chopchop', 'dennetdennetdennet', 'pnk', 'buyin', 'tego', 'entonces', 'взял', 'overstand', 'blackowned', 'tellement', 'shead', 'uppersanddowners', 'selektah', 'oyeyoyyoy', 'onetrack', 'grano', \"'round\", 'fam', 'binderella', \"tech'em\", 'jigajigjijijanean', 'chkkchkchk', 'بودولی', \"supplyin'\", 'muito', 'ouston', 'kunta', 'loch', 'seninle', \"mil'\", 'bodyyeaheh', 'buio', 'musicbased', \"elektra's\", 'titeket', 'shshshocked', 'skibbidy', \"polyps'll\", 'mh', 'illest', 'érted', 'sarpong', 'intinn', 'kendimi', 'odio', 'vwwhy', \"seh'\", 'cudi', 'پەڕەموچەکان', 'dando', 'oonesided', 'spendin', 'ahahah', 'frenchies', \"dartin'\", 'chcheck', 'bizi', 'saucelord', \"'chips\", 'cest', \"mu'fucka\", 'hearsee', 'crackho', 'chrous', 'indio', 'testaroasa', 'biance', \"t'en\", 'heathuh', 'wewe', 'mikill', 'vd', 'dzsekit', 'piel', 'clb', 'bcbe', 'crossdressed', \"treadin'\", 'outdrink', \"stu'\", 'bama', 'azt', 'uzaktayım', \"findin'\", 'یم', 'ricki', 'loosies', 'waitwewewewewewait', 'fieri', 'denialtitle', 'لێتە', 'بذارugh', 'babadoms', 'shakira', 'faggotuh', 'minzo', \"sippin'\", 'brinx', 'detestez', \"blastin'\", 'zanny', 'robi', 'amwin', \"antein'\", 'niptuck', 'هیچوقت', 'didi', 'bestie', 'alhol', \"singin'\", 'pum', \"dreams'\", 'شعرەکانم', 'hollister', \"oz's\", 'charmagne', 'countryass', 'charactersi', 'amigas', 'verano', \"j'avance\", 'swagart', 'γνωριζεις', 'brixton', \"'do\", \"dad'll\", 'haa', 'eeeeyes', 'twizzy', 'içinden', 'yeeah', 'beezy', 'ddduck', 'lifeaholic', 'rosey', \"backpackin'\", \"milhouse's\", 'osirus', 'freekaleak', 'ap', 'قیمت', 'balla', 'crunk', 'emi', 'theres', 'londra', 'briston', 'raemiah', 'eoheoh', 'unfunk', \"listenin'\", \"declinin'\", 'nananananananananana', 'jiminy', 'rembe', 'inanmıyorum', 'cabeza', 'hurtsbrace', 'knowknow', 'realpeace', \"kangol's\", 'itmug', 'ڕقیان', 'ginóbili', 'mcees', 'belvee', 'seee', 'میشه', 'rearending', 'fortysome', 'dic', 'saidshe', 'što', 'cocacola', 'passei', 'screensetting', 'woahohohohohoh', 'wwwwhy', 'πληγώσει', 'خیلی', 'zanotti', 'cockadoodle', 'getget', 'utánad', 'highfives', \"beaver'\", 'threeinch', 'sixspeed', 'dreamscapes', 'پرنده', 'ponieważ', 'který', 'oynuyorum', \"motherfuckin'\", 'stanps', 'arguement', 'lineofsight', 'alliana', 'rrrrrrrrrr', 'snowmangroundup', 'charttopping', 'alyx', 'vendettata', \"chompin'\", 'px', 'migo', 'wankstas', 'nanu', 'مث', 'hiyaah', 'vids', 'whewhewhen', 'shitcuz', 'یاکجار', 'loudies', \"triptrippin'\", 'fourfive', 'summersummerboy', 'breastes', 'πορτόφολι', 'marchar', \"n'est\", 'keshia', 'mockaveli', 'theyd', \"halt'\", 'munchie', 'gogoing', 'этот', \"sufferin'\", 'witcher', 'shadybitch', 'çıplak', \"dissin'\", 'shithole', 'diggitydog', 'kesik', 'あの日から感じてる', 'besarte', 'montremoi', 'fetty', 'σαγαπαω', 'dolu', '9am', 'συναντιώνται', 'onetwothree', \"er'body\", \"'gram\", 'opps', \"effin'\", 'asscrack', \"stankin'\", \"parkin'\", 'barshall', \"cain't\", \"buggin''\", 'armaggedon', 'پە', 'oldtimey', 'آرزوشه', 'آشغال', 'puuuuuuuke', 'spitshine', 'без', 'olanlar', 'capitan', 'profemale', 'hhalfway', 'curvalicious', 'appétit', 'wouldve', 'infact', 'fibias', 'c5', 'auraaaa', 'ducatis', 'hahahah', 'soltar', 'ws', 'ohso', 'mnie', 'günde', 'vybz', 'darkchild', 'noche', 'modo', 'dejas', 'eazy', 'lyckety', \"dogg's\", 'hunnie', 'prinsloo', 'pocko', 'siyamthanda', 'busser', 'rearview', 'pothose', 'آمریکایی', 'habillezmoi', 'należy', 'extrañándote', 'bardi', \"'clusion\", 'fritos', 'channelin', 'hotties', 'toat', \"wrap'\", 'maloney', 'yiy', 'margiela', 'lluminati', 'déjà', 'miccheck', \"tickin'\", 'capple', \"dolla'\", 'mannie', 'cigam', 'iing', 'namebut', 'stoppington', 'yapılmış', \"y'all'll\", 'topright', 'oooon', 'hookin', \"posin'\", 'moshpits', 'riri', 'unеaten', 'wifing', 'celebrowana', 'hollygrove', 'üçlü', 'liiight', \"'ox'\", 'controlar', 'couric', 'ecstasied', 'kupa', 'redrum', 'reing', 'mamasaymamasamamacosa', \"asskissin'\", 'besar', 'orospular', 'shyne', 'jumpoff', 'adet', 'mía', 'iceskating', 'vick', 'haux', 'aringaling', 'chchchromatica', \"see'\", 'increíble', 'fouryearold', 'handson', 'xyyou', 'confidеnt', \"committin'\", 'hawaiiii', 'dooky', 'nanananananananananana', 'sende', 'vámonos', 'highstrung', 'builtup', 'pottorff', 'shaqur', 'derecha', \"thou'\", 'bueller', 'fourinch', 'chikfila', 'outoftown', 'boğdum', 'spirical', 'mudas', \"achin'\", 'بیایم', \"noticin'\", 'tracе', 'cizzy', 'وتن', 'mmmore', 'struttin', \"missin'\", 'φορα', 'whowhowhowho', \"slittin'\", 'но', 'προσπαθουν', \"splurgin'\", 'lambouton', 'yay', \"bombin'\", 'dressup', 'roadmap', 'poopookaka', 'xan', 'dije', 'dimo', 'calabasas', 'sokacağım', 'midnovember', 'gdybym', 'clooney', 'acariciarte', 'beidh', 'fazla', 'újra', \"pissin'\", 'hutt', 'shadyyo', \"meijer's\", 'justjust', 'confiaba', 'xiii', 'roethlissplurge', 'hermès', 'dumdahdeda', 'tisci', '44d', 'dicking', 'ddddo', 'nunchuck', \"'un\", \"get'em\", 'amc', 'ancientcity', 'centre', 'húzódni', \"try'\", \"destroyin'\", 'asswhooping', 'hankins', '事實是你一刻技癢', 'vato', 'daripada', 'evig', 'jelen', 'zrobił', \"doublin'\", '如果你覺得我很美', 'ghop', 'doubleaught', 'tys', 'radiš', 'ευκολό', 'dikembe', 'townmoving', 'versprechen', 'bagges', \"'s'\", 'backflip', 'conoces', 'eetlust', \"j'pourrais\", 'çocuklar', 'rosszkedvű', 'zz', 'desperté', 'noshow', 'vibing', 'rbx', 'nеver', 'hxrt', 'baggett', 'pcnty', 'ferragamo', 'personne', 'tarde', 'prekane', \"stoppin'\", \"d'un\", 'insanları', 'yk', 'ahooh', \"drownin'\", 'percocet', 'monstar', '等待著整個世界都屬於我', \"s'aimer\", 'sierota', \"polamalu's\", 'kurwa', 'talеrze', 'backeven', 'wahmwahmwahm', 'nézni', 'nám', 'gdragon', 'whoah', 'drunkdrunk', 'tity', 'anywayyeah', 'rarahhh', 'jb', 'thisyou', 'sheika', 'hamar', 'البته', 'cehennem', 'eheh', 'سوراخ', 'carona', 'nownow', 'llllet', \"halfsteppin'\", 'söylendi', 'stereotypetypetypetype', 'bbbreak', 'maejor', 'déformées', 'qualcosa', 'بێڕێزیکردن', 'mase', 'outcha', 'giochiamo', \"jigga's\", 'теми', 'monson', \"sponsorin'\", 'cristo', 'véarsa', 'seperation', 'бензо', 'bbeat', 'vám', 'şekilde', 'meus', 'a4', 'ağzıma', 'kneehighs', \"sentences'll\", 'soundscan', 'latifah', 'videoya', 'eah', 'dumpin', \"'dome\", 'nawet', 'yadder', 'poppoppop', \"jestin'\", 'doublestandards', '9th', 'ie', 'colours', 'buille', 'fanacht', \"ya'llake\", \"clickclackin'\", \"thirstin'\", \"is'\", 'probationfight', 'duyduğunu', 'tiemblan', 'bramalea', \"people'll\", 'haddie', 'undees', 'fakeass', 'ahh', 'mindannyiótokat', 'twitteru', \"doors'\", 'maskati', 'sevřenou', 'نەبوو', 'promessa', 'litera', 'parles', 'suara', \"hits'll\", 'tigg', 'спел', 'terrordome', 'hooooh', 'rács', '七輪', 'rеmodeled', 'sitio', 'ggoddang', \"storytellin'\", 'sudut', \"pillowtalkin'\", 'میخورممن', 'muah', \"hhw's\", 'isley', '視線の先の', 'γιατρέψει', \"grinnin'\", 'poczekaj', 'cardibissoproblematic', 'kikapcsoltuk', 'peacockcock', 'itd', 'impossiblefeeling', \"retards'll\", \"producers'\", 'uskebe', \"tan'\", 'capito', 'fricassed', 'yamazaki', 'هەوڵدەدەن', 'nyte', \"qu'on\", 'fif', 'گذشته', 'спит', 'nejsi', \"weighin'\", 'کثافت', 'αύτο', 'قادر', 'berp', 'teamplaying', 'wonka', \"harmin'\", \"d'ussé\", 'tek', \"dropin'\", 'bitchmade', \"''it's\", 'jager', 'نابغه', \"cummin'\", 'dansı', 'mctherf', \"highness'\", 'şakası', 'کهتو', 'azzure', \"minaji'm\", 'hublot', 'cariño', \"shakin'\", 'valaminek', 'rá', 'doremifaso', \"coldplay's\", 'pacqui', \"e'\", 'candyman', 'fenchurch', 'babynot', 'şeytan', 'arse', \"catchin'\", 'helyezzem', \"lainieuncle's\", 'amarte', 'lipa', \"l'ai\", 'по', 'monkeylooking', 'μπορει', 'dollarz', 'neked', 'oochiewallawalla', 'cielo', \"starvin'\", 'throught', 'andrelli', 'anlaşmak', 'usa', 'semé', 'حس', 'daba', 'چید', 'raptorspaymybills', 'lovelove', 'momento', 'manos', 'chigchiggaretret', 'stało', 'postaví', 'ارزش', 'knowbreak', 'ncwman', 'papastay', 'i95', 'ahaaaah', 'headsup', 'gah', \"wafflin'\", 'digas', 'sepertimu', 'basinger', 'dd', 'kaldık', 'lautner', \"sue's\", 'dialin', '5g', 'lessonsmusic', 'exgirl', 'termina', 'scotts', 'raptopayyourbills', 'ئێمینێم', 'versace', \"slimin'\", 'badadadada', 'میخوامریانا', 'meno', 'él', 'ith', 'ddisco', 'aquilo', 'baow', 'مسخره', 'construímos', \"chewbaca's\", 'hoeee', 'terlalu', 'erfolg', \"grammy's\", 'iggy', \"'on\", 'callin', 'yute', 'ئەوەنەی', 'physed', \"nnnnicki's\", 'mmoney', 'badda', \"flauntin'\", 'vroomvroom', \"jackin'\", 'laiceps', 'rockstarlife', 'oinkoinkoink', 'niña', \"pam'\", 'lolos', 'duhdahduhdahduhduh', 'gwinnett', 'yelawolf', 'متاسفمری', \"what'sherface\", 'aalegra', 'chkachkaonyx', 'بعد', 'pleaser', 'çantası', 'walgreens', 'بازیو', 'zase', 'burnin', 'hhhhhhheartbeat', 'brbring', 'دڵم', 'tove', 'söylerdi', 'partynauseous', 'tilapias', \"skipskippin'\", 'tada', 'beyoncè', 'otha', '케미', 'maaco', 'jelani', 'nananananaohnanananananana', 'assim', 'psychopapathic', 'pimplikeness', 'aquí', 'blehh', 'lololove', 'srácaidnak', 'straně', 'hundredfifty', 'minaj', 'dodododo', 'underprepared', 'تا', 'carryons', 'quesque', \"doc'\", 'highkey', 'monsta', 'yabadibadibadada', 'yarım', 'çekiç', \"til'\", 'waps', 'ahahahhhow', 'zucker', 'benzy', 'treo', 'invisibl', 'ortaya', 'okurr', 'mudda', 'svého', \"foolin'\", 'rugers', 'számára', 'boida', 'powerslamming', 'dumplin', 'aaah', \"ggail's\", 'grunwald', 'fboy', 'sıçrıyor', 'babba', '4am', 'viví', 'پاش', 'fantasmo', 'ysl', \"meetin'\", 'herre', 'vivica', 'minahh', 'fourwheeler', 'irreplaceableeee', 'leavе', 'δύσκολη', 'biću', 'goto', 'dolla', 'chicos', \"competin'\", 'belkis', 'woahvery', 'dostać', 'wayhey', 'ψυχή', 'sauteed', 'ughh', 'wallahi', 'mcclaren', 'چەندین', 'spz', 'kittenkaboodle', 'misschien', 'hitech', 'oxy', 'bbg', 'noo', \"'z'\", \"stakin'\", \"degradin'\", 'hk', 'kapaktan', 'finetuned', 'payton', \"this'\", 'sonuna', 'liiiiberateeh', 'lizardskin', 'tych', 'acerca', 'tę', 'amiért', 'felched', 'kehlani', \"'ish\", 'madmagical', 'φυλαχτό', \"minaj's\", \"nuthin'\", \"know'\", 'gambe', 'strzał', \"neglectin'\", \"addin'\", 'suin', 'mygirlkissedanothergirl', 'playboyos', 'mentir', 'mamasibo', 'jeva', \"wildin'\", 'treinta', 'layzie', 'goodback', 'yeeehawww', \"low'\", 'mientras', 'αλλου', 'neden', 'کلمه', \"bingewatchin'\", 'bíróságon', 'списке', 'estar', 'budu', \"recuer'os\", 'köprücük', 'ohho', 'ren', 'fk', 'özel', 'bibia', 'déanta', 'abban', 'yeahheah', \"i'on\", '狂喜の愛ほど', \"bankin'\", 'anythang', 'sigo', 'fghhigher', 'flashin', \"seng'hleli\", \"uh'uh\", 'murked', 'gouttes', 'iwan', 'meth', 'familie', 'بوده', 'deberías', 'dodododa', 'havuzları', 'hamburgular', 'yeahwe', \"8's\", \"filling'\", 'crocs', 'corden', 'musa', 'پێوویستە', 'phetamines', 'whatwhat', 'oldu', 'sinslooks', 'rapstress', 'aldridge', 'heyoooooo', 'rossi', \"ruinin'\", 'anomhm', 'asalamalakum', '50cent', 'revolución', 'gettin', 'یکدیگرند', \"stormin'\", 'hunnidfiftyinch', 'standin', 'بوایە', 'perhue', 'switcharoo', 'aux', 'ferrigno', 'behaviour', 'dababy', 'tickytock', 'tacy', 'proti', 'balanceo', \"sh's\", 'milujeme', 'vvn', \"shippin'\", 'againoff', 'tienen', 'その魔法にヤられる', 'thógáil', 'bibirku', 'تاکە', \"hawkin'\", 'tanıt', 'flippin', 'uykusuna', \"buttkissin'\", 'aires', \"laggin'\", 'tearsome', 'kombat', 'fuckin', \"i'manna\", 'mammalswell', 'midtwenties', 'že', 'storch', 'seeseeseesee', 'villanova', 'nke', 'aldık', 'mywhere', 'estos', \"bomb'\", 'medom', 'homosex', \"werеn't\", 'chittychatty', 'awayget', 'prawdopodobnie', 'میزنه', 'madeintyo', 'preconcieved', 'bj', 'siby', 'outtie', 'meurice', 'lez', 'vete', 'früher', 'hhtown', 'pozbyć', 'rrrrrrrr', 'hawaiii', 'közé', 'دهه', 'mmmm', 'diguise', \"targets'll\", 'estaba', 'wineanddine', \"surroundin'\", 'pka', 'chunli', 'benji', 'sensei', 'göremeyeceğimi', 'c0', 'nala', 'redman', 'harpo', 'boldoge', 'forma', 'vrinnvrinnmotor', 'hooh', \"'hardly'\", 'hayran', \"stressin'\", 'kız', 'laisse', \"l'existence\", 'هووک', '00present', 'wowowoworried', 'weknowthedjcom', \"'roundme\", 'ors', 'juuddaas', 'holton', 'baso', 'aldım', 'mexiko', \"'80\", 'stroker', 'ڕادیۆکان', 'nickihndrxx', 'austa', 'omgno', 'rejoinsmoi', 'atilla', 'kırgın', 'avlanıyorum', 'ffashion', 'veliki', 'bkatbboomkat', 'hasbeen', 'ancesters', 'followin', 'brewski', 'στα', \"itchin'\", 'baleed', 'watersand', 'threeee', 'ladadadadum', 'rihannagate', 'mal', 'twothree', 'bd', 'veteránům', 'wornout', \"layin'\", 'köter', 'πιασω', 'awoah', 'peasy', 'royales', 'contradictionary', 'uskutečnit', '8ball', 'assshots', 'hipta', \"fadin'\", 'enhh', 'wishin', 'tener', 'whattup', \"''merhaba\", 'looey', \"launchin'\", 'trappy', 'rt', \"jumpin'\", 'g5همون', 'flexin', 'drivego', \"siblin'\", 'fleiss', 'دریک', 'poouhhbitch', 'penser', 'کنیم', 'hablas', \"whinin'\", 'bababad', 'yyyou', \"datin'\", 'teeball', 'quelle', \"ysl's\", \"800i'madicksuckeri'dlovetosuckadick\", 'spacedressbad', 'percocets', 'biohazard', 'ragdoll', 'hopeint', 'derogatives', 'vroom', 'intelude', 'افتاد', 'juste', \"ev'i\", 'connectthedots', 'elogio', 'prémisses', \"styilin'\", 'tecs', 'dobodom', 'skechers', 'bebé', \"'til\", 'soons', 'kai', 'geico', 'trumpa', 'منو', \"d'ed\", 'salida', 'bestsum', \"pizzelle's\", 'rasclaats', 'rocko', \"tryna'\", \"hoppin'\", 'két', 'sf', 'disa', 'sabría', 'wrеstling', 'tanışmak', 'llevame', 'stupidass', 'çalışma', 'vivo', 'زۆۆر', 'şimdi', 'beychella', 'mmmumbling', 'solána', \"plankin'\", 'highlow', \"pluggin'\", 'هەبوو', 'zooshit', 'mekanına', 'donnerai', 'valójában', 'dolcezza', 'posdnuos', 'velká', 'diyor', 'görürsen', \"snorkelin'\", 'ooo', 'teslim', 'pandangmu', 'unmisunderstood', 'pacquiao', 'clickclack', 'inekleri', 'mindez', 'yé', 'beyaz', 'rodinou', 'pritty', 'antney', 'lpmy', 'postmate', 'outlawz', 'jetsetta', 'ratatattat', 'ils', 'toute', 'lifethe', 'hopsins', 'sommet', 'وازم', \"''i\", \"biggin'\", \"'boutta\", 'siht', 'sidebloodline', 'highsiddity', 'chapeando', \"dreamin'\", 'incog', 'nininight', \"who'm\", 'werе', 'ستۆن', 'wayoh', 'a6', 'pappap', 'asics', 'wanya', 'рук', 'faszok', 'bxre', 'juans', 'flacko', 'sipi', '0k', 'blem', \"d'autre\", 'fabo', 'nyc', 'ψυχη', 'drinked', 'pierdas', \"frostin'\", \"jer'\", '44s', 'futhi', \"ed'\", 'realy', 'látom', \"'gonna\", \"amazin'\", 'stefano', '속이려', \"'dentsdents\", 'creía', \"blingin'\", 'andand', 'cedusing', 'whos', \"gaybashin'\", \"duff'b\", 'knowoh', 'voo', 'sheoheheh', 'streetthis', 'оставлю', 'beğeneceğinizi', 'shúil', 'iwoahwoahwoah', 'uniand', 'chkit', 'stratch', 'murdercedes', 'rosecolored', 'smackdab', 'wastin', 'ooooooohhh', 'nnashville', \"slayin'\", '77th', 'ceesays', \"me'd\", 'ttell', 'dippin', \"'lizabeth\", \"'preciate\", 'chemistries', 'skooly', 'goddamit', 'alakazam', 'babababababanner', 'crosslegged', 'قفلشو', 'rumprump', 'roleplay', 'tko', 'verbsyou', 'dropdropping', 'daha', 'grambling', \"righti'm\", 'podemos', 'nandos', 'upup', 'oblivions', 'charla', 'serie', 'prawie', 'mepending', 'boudin', 'حب', 'eryn', \"hatin'\", 'eether', 'wenn', 'selfdiscover', 'κράτησε', 'infront', 'söyle', 'eyo', 'tête', \"flushin'\", 'dadadadadadadada', 'alrightalright', 'bizzels', 'gеtting', 'margielas', 'biatch', 'μπόρει', 'ματια', 'reakce', 'naaaaahh', 'hightops', 'acreditar', 'nedokáže', \"they'da\", 'accountabilityext', 'copperwood', 'lenn', 'rightright', 'tenido', 'rrraahhhhhh', 'deathmatch', 'pcek', \"whatdaddy's\", 'délivre', \"lurkin'\", 'fingy', 'africanamerican', 'mohikans', 'halfeaten', 'longleg', 'aidonia', 'motherfuckas', \"empezamo'\", 'jackin', 'clockin', 'bc', 'lifeee', 'önce', 'umba', 'amicizia', \"invadin'\", 'puthy', 'sondern', 'bassmint', 'pparty', 'inbetweens', 'hahaha', 'bloodclaat', \"us'\", \"nowi'm\", 'baliff', 'aşkı', 'właściwie', 'mingaling', 'vinz', 'yayyayyayyayya', '50k', 'ゴージャスなそのlips', 'onehundred', 'birkaç', 'cowtip', 'تنهایی', 'lipo', 'είχες', 'tsh', 'ighile', 'costerwaldau', 'اریک', 'chinnychinchin', 'да', 'obserde', 'redet', 'httpsbangkokplaymatescom', 'peregrino', 'beepbeep', \"sexin'\", 'پشت', 'stuntdevil', 'اما', 'def', 'makinayı', 'fenty', 'jetzt', 'tcuch', 'husher', 'biliyor', \"tho'\", 'flatayour', 'venga', 'thornbush', 'haan', 'fadeaway', 'dlow', 'boktan', 'bronny', \"ol'\", 'tiwa', 'chkchk', 'monstres', \"holdin'\", 'muyum', 'punchdrunk', 'neego', 'kemiğinide', 'outtro', 'nrg', 'gadsen', 'tswizzle', 'oshun', 'cartiers', 'swineee', \"prob'ly\", 'woaoaoaoaoaoaoaoh', 'bizzench', '見てみろ', 'uniburp', 'αυτον', 'ahu', 'dooroo', 'chainlink', \"actin'\", 'radidididididididididada', 'dengan', 'covid', \"each'd\", 'neamh', 'njeri', 'suv', 'zantac', 'brraaattt', 'discutimos', 'buffabuffalo', 'nik', 'chaching', 'frings', 'selfempowerment', 'confusão', 'crackskin', 'tok', \"ho'll\", 'recordbreaking', 'bluray', 'niggas', 'odmah', 'gibsy', 'scottheron', 'whoaoa', \"cuddlin'\", 'buckbucker', 'timetime', \"'my\", \"tryyyinnn'\", 'çalışırken', 'zatím', 'tres', 'depositando', 'oul', \"teteteteacher's\", 'nach', 'se7400', 'trippedout', 'rubrubbing', 'bowbow', 'iovine', 'thiswhat', 'airfair', 'میدم', 'thethese', 'masika', \"meanin'\", 'شدمن', 'dearmad', 'ig', 'hissedebilseydin', 'gooding', 'd0tion', 'scarlett', 'mclovin', 'ika', 'llove', 'aroundyea', 'frida', \"activ'\", 'banghit', 'stopp', 'جندهتو', 'diiiiiiie', 'byliśmy', 'miraak', 'fecking', \"budden's\", 'حرفای', 'lozengers', 'untake', 'kallman', \"bcyfriend's\", 'destra', \"masterin'\", 'rám', 'pogrzeb', 'dehors', 'hagase', 'нравится', 'swеat', 'chemlelelelelelele', 'misproduction', \"ggettin'\", 'supersiiize', 'aphrodisy', 'féministes', 'ohohwoah', 'ohhha', 'dohicky', 'witherspoon', 'ingin', 'znosisz', 'seacrest', 'haooh', \"pop'\", 'blicka', 'klonopins', 'amúgy', 'hmmmmm', 'aquafina', 'bunda', 'kisshisasscrack', 'hypewriter', \"stpatty's\", 'troooooooah', 'bumsee', 'که', 'shrinked', 'upcutuh', 'thot', 'mindfuck', 'تاریخ', 'giohrl', 'klikte', 'esposo', \"em'\", 'afeni', 'luar', 'εμάς', \"soakin'\", \"spinnin'\", \"hurlin'\", 'oczywiste', \"tat's\", 'szégyen', 'gogo', 'llevare', 'butterrock', 'pharoahe', 'توو', 'andreana', 'dissledim', 'wondagurl', \"copyin'\", 'lazboy', 'klux', 'arrepiento', 'mucha', 'drs', 'doops', 'nicky', 'mphazes', 'spraypainted', 'rálőttünk', 'pişirecek', 'demain', 'leadoff', 'zeg', 'iso', 'wadley', \"chewin'\", 'bdsbased', 'mothafucka', \"benihana's\", 'dadadom', 'slurpees', 'pero', 'leshurr', 'fais', 'camaro', \"game'\", 'süzmem', \"admittin'\", 'niggahz', 'drawed', \"loud'\", 'butterand', \"o'shea\", 'peux', 'minket', 'iti', 'ayeahyeahyeah', 'urrp', 'ξερω', 'twoja', 'montón', 'pooky', \"reala'\", 'lauriana', 'dierks', \"clutchin'\", \"seemin'\", 'канистру', 'ставлю', 'جنگجو', 'lamborghinis', 'gogetter', 'mmy', \"kissin'kissin'\", \"deev'n\", 'freezin', 'nás', \"lambo'\", 'curé', 'kiner', 'porizontal', 'summalumma', 'blaknąć', 'disorted', 'koons', 'intergalactical', 'ththat', 'hoooohoo', \"dumplin'\", \"whoever's\", \"'bitches'hoes'\", 'dalai', 'weedpuffin', 'うたいましょう', 'thatroger', 'woahuhwoah', 'daps', 'dareyoubitchass', 'ththicka', \"mays's\", 'diga', \"nicki's\", 'arguament', \"chateau's\", 'چیهبه', 'denynynyny', 'swimmin', 'bummy', 'nace', \"raisin'\", 'kole', 'oli', 'dk', 'ειμαι', 'mei', 'توی', 'youupup', \"place'll\", 'oranžova', 'thorlike', 'dyin', 'weeknd', \"'very'\", 'havent', 'kanyeezy', 'discuter', 'شدهمن', \"cause'\", \"boy'll\", 'reloader', 'puddy', 'identicalbut', 'innn', 'lowkey', 'passées', 'gyspy', 'babababacontrollably', 'vaat', 'sopayla', 'dalí', 'voor', 'offlimits', 'tba', '80year', 'app', 'rised', 'fuckedother', 'carrotcake', 'zo', 'حال', 'mxnicure', \"od'in'\", 'bluntblunt', 'extraño', 'salut', 'gause', 'muny', \"blamin'\", \"dumbin'\", 'bamba', 'carterfinley', 'losed', 'heartbreakers', 'sia', 'maxamus', 'quisiera', 'mejor', \"overdoin'\", 'fulham', 'feefididideeyay', 'heshe', 'kalmamalıyım', 'evilevil', 'dreson', 'sami', 'terbiasa', 'estas', 'quieren', \"overdosin'\", 'xo', 'laci', 'ολοκληρος', 'takebacks', \"guidin'\", 'emzirirken', 'scissorhands', \"assumin'\", \"fizzlin'\", 'نه', 'eightysix', 'saltar', 'starterdrake', 'anbesol', 'mekhi', 'anand', 'φως', 'boyamak', 'nehéz', \"paddlin'\", \"d'avis\", 'rightpanning', 'broskies', 'bullseye', 'alexa', \"boyboyboy's\", 'vámanos', 'babydoll', 'uber', \"na'\", 'ohwoahoh', \"d'ussã\", 'drakeezzy', 'lookyou', 'baplayıp', \"suin'\", \"swapin'\", 'bombbomb', 'chocula', \"rest'll\", \"musn't\", 'scrapin', \"a'lante\", 'sssshit', 'cheeba', 'sviđa', 'leftpanning', 'yine', 'threeday', 'همینطور', 'dres', 'anninihilate', 'anonoknows', 'tweakin', 'dwie', 'zamordowany', 'goonies', 'dinda', 'probablemente', 'littlе', 'przestraszyłem', \"'baby\", 'adınız', 'hgih', \"an'\", 'sza', 'mudhole', 'نیکی', 'judgin', \"bloodflingin'\", 'noohnoohohohoh', \"crazygluin'\", 'slushes', 'demet', 'adios', 'přes', 'pochodní', 'bucktown', 'taşşaklarına', 'monta', 'selfdestruct', 'parler', 'nananananananana', 'ocasiocapo', 'lowoh', 'partynextdoor', \"lightnin'\", 'ohuh', \"qu'j'te\", 'aleve', 'hundredmileanhour', 'shhh', 'deaded', 'tristate', 'handmedown', 'vidle', 'yall', 'paulie', 'nevaljali', 'vil', 'dansel', 'kkisses', 'protege', 'jelentek', 'rrrahh', 'kreslím', 'lakim', 'chainsmokers', 'mothas', 'rethis', \"capisc'\", 'عمه', 'jamberay', \"fallin'\", 'небесах', 'lethals', 'ninas', '忘掉這麼想最傷', 'recommencer', \"downtalkin'\", 'nas', 'ڕاستە', 'nolongtalker', 'موفقیت', 'ashleys', 'sprawiło', 'allstar', 'kaching', \"fo'five\", \"nos'\", 'kkid', \"inspirin'\", 'raybans', 'kötü', 'mikkel', 'steig', 'baboomboom', 'vii', 'simz', \"bottomin'\", \"tiene'\", 'yoohooooh', 'seasann', 'bassturd', 'milewhat', 'seulement', 'soundfanatic', 'remifaso', 'theromostat', 'twelveyearold', 'garde', 'yapmayacağımı', 'kegel', 'splitta', 'duyguları', 'jingleball', 'unfollow', 'skibbedybebop', 'muchísimas', 'eyy', \"grainin'\", \"poundin'\", 'hemm', 'lanetolane', 'dupdupdupdup', 'myx', \"'caiah\", 'کشته', 'aplus', 'intacts', 'nooma', 'tunk', 'dable', 'fireflycatching', 'woahohoh', 'şaplakla', 'hastalıklıydın', 'necesita', \"readin'\", \"yao'\", 'abajo', \"entertainin'\", 'olacak', 'fuckthemboys', 'pochwała', 'něčím', 'retrosexual', \"her'd\", 'heures', 'thirtyfour', 'hoodrat', 'chapstick', 'rememba', \"choos'\", 'puta', 'vuruyor', 'lelelet', 'coachella', 'discostick', 'dumdumdumdumdum', 'santificado', 'gerekiyordu', 'fonz', \"icet's\", 'duerme', 'poohy', 'restaraunt', 'clearport', 'asi', 'чувств', 'jumanji', 'diyorum', 'lifе', 'rémy', 'iza', 'vicodin', 'nyu', 'пососусь', \"graspin'\", 'ccandy', 'funkbeyonce', 'trilla', 'ئەلبوومی', 'tuttifrutti', 'stockinqs', 'llevarme', 'lavo', \"e'rybody\", \"frenchy's\", 'barz', 'sixyearold', 'runin', 'zemi', 'inyourback', 'öğrenci', 'pectations', \"world'll\", 'sempre', 'insideout', \"officers'\", 'twojego', 'jus', 'oraciones', 'tuo', 'míg', 'songcome', 'nc', 'mouseketeers', 'swoleup', 'slimed', \"rappin'\", \"'is\", 'rappin', 'pasado', \"'pew'\", 'ridin', 'codenames', \"weathergettin'\", 'firstround', 'izquierda', 'mgk', 'boppers', 'doublefisted', \"waiti'm\", 'musica', 'nekem', 'qrrain', 'swineahyaihihih', 'aún', \"'deceiving'\", 'abababsolutely', 'jjupiter', 'сесть', 'bajista', 'threefour', 'wriwriwriwri', 'holtont', 'whoo', 'frontman', 'coppington', \"vvs'\", 'lifesize', 'istemiyorsun', 'pootpoot', 'rerespected', 'fortyseven', 'cavewomen', 'azza', 'aitana', 'andandandand', 'fogsz', 'pillé', 'سراغ', \"hol'\", \"warnin'\", 'storys', 'chickenhawk', 'amdam', 'shitwrecked', 'lovings', 'bonafidehit', 'strooong', 'ciroc', 'pf', \"fans'\", \"showin'\", 'chantez', 'quickwitted', 'youba', 'اسم', 'snipsnip', 'poppington', 'bmi', \"up'\", 'heyohohoh', 'lipsyncs', 'meds', 'hpnotiq', 'میگمکی', 'sherran', 'پا', 'senle', 'ducati', 'servent', 'categor', 'otros', 'jít', 'wá', \"motherfin'\", 'wouldnt', 'mardi', 'demar', 'conciertos', \"ripken's\", \"downplayin'\", 'syndicat', \"minewhat's\", 'mclarence', 'tryed', 'utat', 'πιο', 'estilo', 'niesamowicie', 'vandalous', 'zwycięzcę', \"'cid\", 'hana', \"decemberapologizeyou're\", 'drizzy', 'skrrtskrrt', 'illprepared', \"checkin'\", 'infucktion', 'reinsulate', 'dropscrackers', 'beastie', 'stainbitch', 'fbombs', 'sharonda', \"that'd\", 'shitstirrer', 'wordword', 'hipokrytów', 'su', 'uğğğ', 'cosa', 'kávy', \"ep's\", \"'gether\", 'sikiyim', 'rrrh', 'лоурайдер', 'recieve', \"toda'\", 'ynk', 'temetésedre', \"swervin'swervin'\", 'bunkie', 'namedropped', 'prázdným', 'soliders', 'rogaine', 'guetta', 'vorhees', 'hilowitz', 'frega', 'doobiest', 'ehehehehendlessly', 'wenchy', 'kimmel', 'blugh', 'perignon', 'immer', 'ilaç', 'gabbana', \"grandmama's\", 'caiyan', \"immaturin'\", 'tzu', 'αυτην', 'gaguilera', 'rockshitbitch', 'harbour', 'kilosuna', 'keychains', \"losin'\", 'éve', 'szembe', 'murda', 'شکست', 'dhat', 'sharica', 'weebey', 'letlet', 'pourin', 'yoooo', 'breana', \"40's\", 'rak', 'boop', 'pplus', \"plowin'\", 'whuh', 'screenshot', 'killas', 'unthaw', 'içi', 'tangeray', 'brooknam', 'jibba', 'kidnappin', 'stadio', 'inteligente', \"buskin'\", 'upext', 'alles', \"blessin'\", 'madand', 'frim', 'romaromama', 'флаг', 'maraj', 'تركتني', 'dingalang', 'untill', 'ric', \"bullyin'\", 'maloley', 'morе', \"sprayin'\", \"affectin'\", 'pickler', \"l'air\", 'میتونین', 'togetherthink', 'rosemarys', 'való', 'yanıma', \"flickerin'\", 'kao', 'ohwhoa', 'ismy', 'suiza', 'côtés', 'bweb', 'draymond', 'کمد', 'annesine', 'görünüşe', 'cojones', 'mögé', 'jonny', 'gyaldem', 'swagu', 'nighters', 'میان', \"gettin'\", 'sloppiana', 'fatale', 'bidi', \"messing'\", '后冠', 'hihi', 'billups', 'dimelo', 'hustla', 'kapının', \"wheelin'\", \"ridin'\", 'sweetscented', 'brenden', 'خیابونا', 'mhmmm', 'yey', 'vivarin', 'bitties', 'lolol', 'کێشی', 'swifty', 'vertėjas', 'bria', 'uhohohnono', 'unh', 'coocoo', \"spotifyin'\", 'gagaaaaa', 'điha', 'pensé', 'muthafucka', \"xann'd\", 'گوهرند', \"asperger's\", 'adamım', 'söyleme', 'didick', 'badro', 'purp', \"zippin'\", \"tankin'\", 'مثل', \"servin'\", 'dropsnumb', 'bredesen', 'peleamos', 'dracs', '40somethings', \"ro'oh\", 'reda', \"shovin'\", 'url', 'londons', 'oshkoshes', \"'male'\", \"'ville\", \"'ye\", 'ach', 'zerpa', 'mendapat', 'smidoke', 'dirtyass', 'jne', 'slcp', 'ناسازگاریمobnoxious', 'budzę', 'kaçır', 'benzfull', 'errythang', 'desiigner', \"hailin'\", 'شما', 'llévame', 'twhy', 'könnyítsek', 'dengem', 'بخوازن', 'reclaman', 'thethethethethethe', 'نکنم', \"este's\", \"'eyo\", 'agrc', \"paintin'\", 'hiçbirşeysiniz', 'saltnpepa', \"'stan\", 'bhíodh', 'grabbin', 'soowoo', 'şeyleri', 'sureños', 'gunna', 'şeyi', 'letcha', 'cama', 'eejit', 'hoooh', \"meltin'\", \"gangbangin'\", 'زندگی', 'heartstopping', \"thinking'\", 'noshows', \"weed'll\", 'hahahahaheart', \"helpin'\", 'nickelplated', 'scurred', 'tracę', 'ohohwaoh', 'όχι', 'heure', 'دومنیک', 'tinka', 'aare', 'neverneverland', 'bolsillo', 'pipty', 'chunway', 'kool', 'heehee', 'سەرو', \"seekin'\", 'değiş', 'mó', 'brownnoser', 'بزنه', 'doooh', 'damme', 'پێمان', 'mond', 'prives', 'iew', 'raekwon', 'کاشتم', 'lg', 'wciąż', '6ix', \"passin'\", 'rappelle', 'storie', \"'the\", 'youngings', 'rosalía', 'm6s', \"k9's\", 'wayans', 'akh', 'darle', 'puede', 'başka', 'lamlamborghini', 'phresher', 'wishlist', \"pussyfootin'\", 'homi', 'hermansen', 'eeeats', 'sizzla', 'duymak', 'ders', 'bisa', 'sígueme', \"followin'\", \"pistolpackin'\", \"'hood\", 'stać', 'hahahahah', 'fechados', \"queen'll\", 'labeouf', \"wit'cha\", 'weght', 'μωρο', 'flightclub', 'مشروبات', 'je', 'haskell', 'writtens', 'بۆ', 'vois', \"broke's\", 'razona', 'allallall', 'την', 'soontobespouses', 'caillat', 'pólóddal', 'morirme', \"glo'ed\", 'شیدی', 'reposer', \"somthin'\", 'telegramslimshadyfanpage', 'bubb', 'durmió', 'powppppow', 'waynebusta', 'witam', 'elevenyearold', '더는', 'yüz', 'κρατήσε', 'ئاستە', 'vinessa', '8v', 'هماونا', 'fotoğraflarını', 'ridaz', 'vivía', 'gueguegue', \"together's\", 'cockin', 'realise', \"clubhoppin'\", 'aaand', 'pushback', 'dusseldorf', 'baldingers', 'starar', 'czego', 'wonderstruck', 'ها', 'zorla', 'rocka', 'acabamos', 'jött', 'közt', 'yaşları', 'słucham', \"e'rythang\", 'mmwha', 'givest', 'вроде', \"brothers'\", \"inga's\", 'mm', 'powiedzenia', 'cadillacs', 'δω', 'tpizzle', 'blueandred', 'eens', \"transformin'\", 'arrastrándote', 'ofortwo', 'repromise', 'redbull', 'leastsa', 'loonely', 'bulletriddled', 'آگاهآره', 'на', 'φίλησες', 'topiana', 'schoolin', 'shshsh', 'whiiite', 'wuchoo', 'laguardia', \"i'ma\", 'shе', 'woza', 'fonseca', \"worth'\", 'vivendo', 'meilleure', \"carti'ac\", 'emhow', 'دەهەزار', 'fugazy', 'رفتم', 'sadwhat', 'dilerim', 'grandview', 'siday', 'diggity', 'fing', \"troublemakin'\", 'seater', \"''stay\", 'dropsarmaggedon', 'remsen', 'brrp', 'replonge', 'دەکەمەوە', 'ilyen', 'houden', 'spookay', 'mahorn', 'powerbottom', 'febreze', 'durmam', \"hirin'\", 'diz', 'utslay', 'lazer', 'yapıldım', 'miente', 'pastipod', 'swann', 'izzask', 'ggm', 'głośno', 'acuestas', 'mcdonalds', \"pitchin'\", 'cappella', 'kendimle', 'capisse', 'altura', 'applau', 'champaagne', 'aphrodishy', 'shiznik', 'strech', 'válečným', 'تاکو', 'maren', 'blazak', \"ma'fuckin'\", 'badmind', 'beyonce', 'ayoa', 'espn', 'hhtowntown', 'قبض', 'domal', 'černý', 'میخوان', \"'dark\", '8track', 'mercs', \"dodgin'\", 'earlywait', 'inchafter', 'trampa', \"kardashian's\", 'weet', 'hurted', 'afta', 'ly', 'zastavte', 'promets', 'που', 'rrrrrrroaw', 'babx', 'patronun', 'himeros', 'thesex', 'harderbreathin', 'dadarada', 'intuitionext', 'nistelrooy', 'twentythree', 'yerba', 'maybelline', 'selfies', 'g6', \"bobbin'\", 'ooooohhhhhhhhhhh', 'ανακαλυψες', 'dickesten', 'моей', 'comcast', 'menitku', \"rattlin'\", 'tlc', 'calibur', 'unrecognised', 'üşüyor', 'obamovi', 'bromo', 'parx', 'profundo', 'elsadig', 'ritchie', 'sülni', 'mariska', 'optomistic', 'knknkneel', 'iver', \"magnifyin'\", 'cah', 'błagam', 'ganovenehre', 'listenin', 'onthespot', 'haon', 'ruiner', 'megatron', 'zajatec', 'heeheeheeheeheehee', 'zeit', 'inbetween', 'bethoven', \"suffocatin'\", 'mrmr', 'shizzle', \"mariah's\", 'yvp', 'menyentuh', 'climbin', 'percussioner', 'muthafck', \"'fits\", 'ئەم', 'sixteenthcentury', 'oooh', \"panellin'\", 'dollardollar', \"threatenin'\", 'latenight', 'aza', 'fcc', 'لەوانەی', \"prospekt's\", 'tippy', 'usthat', \"mentionin'\", \"if'n\", 'lewinskyed', \"fulfillin'\", 'waitfixate', 'jibberish', 'bs', 'percayalah', 'watcha', 'еh', 'kecantikanku', 'daytrip', 'wewewewe', 'melalui', 'atau', 'themself', 'tattedup', 'komiczne', 'bagsss', 'hookerwhore', 'hunh', 'prawda', 'yakında', 'görüp', 'girli', 'tsk', 'mе', 'bbbеating', 'subtweets', 'اون', \"lil'\", 'bellyflop', 'gâché', 'socksock', 'selfie', \"forgin'\", 'youngyoung', 'rari', \"lovin'\", \"erodin'\", 'házet', 'блик', 'ej', 'ahold', \"t'aime\", 'droptop', 'está', 'thеm', 'asswhipping', \"collapsin'\", 'digne', 'cookup', 'muriendo', 'sangría', \"shouldn't've\", 'ching', 'm80', 'gratеful', \"'move\", 'sayyou', 'پاچه', \"'otic\", 'bomboclaat', 'olacağım', 'μια', 'holliday', 'bbblow', 'συναντιωνται', 'nikt', 'tutkal', 'gv', 'thicka', 'bernsteins', 'bırakıyorum', 'ماجرایی', 'imba', \"c'était\", 'dingied', 'babanın', 'logics', 'duydun', 'coja', 'chroí', 'wowzers', 'chiling', 'westheimer', \"'chella\", 'arra', 'quando', 'woohoohahahahaha', 'monsterererererer', 'fcrnando', 'güzel', 'ئینتڕۆ', 'benard', 'conséquence', 'hickorydickory', 'kesmeni', 'bmz', 'coutures', 'akzel', 'beenie', 'perf', 'fourty', 'moooo', 'tdot', 'sayall', 'اینجا', 'eoooow', 'fulltime', 'isyou', \"stompin'\", 'dropswhether', 'demonand', 'fronteras', 'meee', 'portant', 'rveee', \"would'd\", 'brzmię', 'dokázal', 'desi', 'kurşuna', 'oohee', 'llora', 'faggy', 'mischkas', 'doodooroorooroo', \"winkin'\", 'macmahon', 'sak', 'buticcian', 'zamkniętymi', 'sparxxx', 'quicky', \"targettin'\", 'není', 'thuuug', 'palpitar', \"'cuz\", 'amistad', 'kevorkians', 'dupnout', \"depressin'\", 'elfelejtettem', 'vreme', 'femmes', 'mumsy', 'wuh', \"schwarz'\", 'prolly', 'feirce', 'elantra', 'lemmi', 'rerespect', 'jó', 'knowingness', 'fnny', \"vemo'\", 'fucka', 'rov', 'الله', 'segway', 'lyor', 'caramu', 'musta', \"cussin'\", 'phatbeats', 'هەڵبگرم', 'icedout', 'lalalalalalala', 'thererock', 'fixin', 'alessia', 'shoops', 'shakur', 'bckini', 'bvlgari', 'worldstarhiphop', 'ashesdust', 'بکەمەوە', 'damdum', 'superfood', 'freestyling', 'aparasite', 'گرفتن', 'kahan', 'mossberg', 'muhfucker', 'assbackwards', 'urtano', 'paperthin', \"linkin'\", 'داره', \"gaythat's\", \"heff'\", 'xxl', 'tüm', \"flowin'\", \"amountin'\", 'لم', \"blisterin'\", 'bookey', 'butbair', 'wackass', 'parisien', 'thirtyfivе', 'menyimpang', 'metham', 'thurr', 'sonando', \"movin'the\", 'cockhave', \"coachin'\", \"j'étais\", 'chiali', 'twopiece', 'dışında', 'iphones', 'besándote', \"tusslin'\", 'billi', 'abuhbuhbuhbuhbuh', 'louboutins', \"s'aime\", 'moby', 'owwww', 'اشتباه', 'ماشین', 'tagliati', 'které', \"dismantlin'\", 'fois', 'istiyorum', 'میخوایم', 'bonda', 'rroger', 'dresta', 'fourtosix', 'gloray', 'chapmans', 'soohohooh', 'yeaaaeeah', 'shadyslim', 'narerration', 'goodgood', 'πληγώνουν', 'aholes', 'whoaoh', 'motivo', 'supernerdy', 'outslick', 'moyens', 'boma', 'halle', 'stayathome', 'smartaleck', 'lil', \"bargainin'\", 'rosemont', 'korver', 'neeson', 'pinesol', \"relayin'\", 'moneyoverbitches', 'bleachella', 'goldlink', 'baptise', 'dickheaded', 'parola', '69گوش', 'n5', \"'tween\", \"can'tbelievethatniggasaidthatshit\", 'mundial', 'kash', 'takut', 'darimu', 'fiú', 'nnemá', 'داکتر', 'zostawiła', \"ye'\", 'ohhh', 'wonderwall', 'cottonelle', 'تکراری', 'barbone', 'honoray', 'iq', 'jazmine', \"whinnin'\", 'temor', \"jm'habille\", 'mówią', 'baccarats', 'z9', 'holla', 'lex', 'chuckee', 'nineto', 'vão', 'viajo', 'bizkit', \"you'r\", 'میناج', 'politik', 'tite', 'gardеn', 'llevo', \"durin's\", 'edgеs', 'upgradeyou', 'thugged', 'jedynie', \"disc'll\", 'hatin', 'autotuned', 'tomber', 'dropswhat', 'ablo', 'pasttense', 'doux', \"bruisin'\", \"callin'\", 'kung', 'thirddegree', 'wooahh', 'sada', 'muhtemelen', 'godknowswhere', \"neck'll\", 'hahahahahoh', 'πορτοφολί', 'dhabi', 'میدونستم', 'pupuput', 'serca', 'merch', 'میره', 'whwhere', 'benza', 'ζωντανος', \"isolatin'\", 'smallminded', 'towy', 'eheheh', 'bp', \"pressin'\", \"fixin'\", 'ڤێرس', 'еight', 'slakah', \"wally's\", 'прощай', '0percent', 'climbaaa', 'millón', 'kalıptan', 'rud', 'kisskiss', 'dealin', 'semicartermatic', 'sixtythousand', 'twodoor', 'duhdadadada', 'jugaría', 'eveytime', 'xcellent', \"slurrin'\", 'shitlist', 'brócoli', 'یەک', 'rappity', 'pronunciate', \"scorin'\", 'deucedeuce', 'αναμνηση', 'alsina', 'payé', 'patrón', 'forse', 'mili', 'cokio', 'ooooh', 'عضوها', 'oooooooooooooo', 'guerrera', 'suplexing', 'fubba', 'pathétique', 'ohuhuhuhuh', 'gona', 'impalis', 'permettra', \"mindbogglin'\", 'escapa', 'ortenberg', 'vespas', 'dođi', 'onemay', 'ať', 'skeelo', 'بەوەی', 'میکشن', 'barechested', 'gerekse', 'hururt', 'itrabbit', 'melly', 'riesen', \"baggin'\", 'hagyatékod', 'azért', 'yeshua', 'fweeka', 'jefé', 'bando', 'méxico', 'zabijanie', 'velemjézusom', 'fargodome', \"roamin'\", 'bbbbitch', 'warnin', \"5's\", \"payin'\", 'aprendendo', 'rista', 'vaccum', 'cheatwhy', 'rzucałby', 'szn', 'وەکو', 'funnymoney', 'jesús', 'nuvo', 'sufjan', 'bőrszíne', 'feets', 'judaahs', 'wszędzie', 'downa', 'olivers', 'lalalalala', 'گاد', 'ish', \"inhalin'\", 'charli', \"dvd's\", 'ves', \"remainin'\", \"comcomcomin'\", 'thеn', \"huggin'\", 'trannies', 'musicland', 'spanky', 'icey', 'hitta', 'haaaah', 'existen', 'مردمن', 'dlaczego', 'vienes', 'thе', 'mebeyoncé', \"overseein'\", 'jblack', \"list'ning\", 'کردی', \"postin'\", 'így', 'massimo', 'galiana', 'fauxdisco', 'superheroohoh', 'navíc', \"4'\", 'bbbitches', \"looking'\", 'gdamn', \"would'a\", 'rey', 'dopest', 'fansif', 'giggs', 'lbc', 'tusa', 'compliquées', 'új', \"shufflin'\", 'pree', 'rapporte', 'zien', \"there'd\", 'melyssa', \"strummin'\", 'együtt', 'vuelves', 'youngdell', 'leggo', 'giù', 'pourrait', 'dios', \"yy'dig\", 'theget', 'plexico', 'shouldve', 'dadz', 'دیسم', \"lookin'ass\", 'gregor', 'prain', 'yaptık', \"mothafreakin'\", 'después', 'jockget', 'gitano', 'possbility', 'orta', 'hahahahahahahahhahahah', \"bitchlet's\", 'ahhahhh', 'aunque', 'acá', 'havalı', 'knowget', 'ابرهاس', 'túlteszem', 'звезда', 'خودمو', \"snorin'\", 'kişi', 'dissin', '平和地相處的美好', 'بیف', 'ov', 'ohayo', \"mudslingin'\", \"litterin'\", 'lonq', \"0's\", 'alalbert', 'annem', 'surprends', 'chevaune', 'brrapt', '___', 'shotty', 'noch', 'guegueguegueitchkit', 'inceptiontype', 'خوک', 'ahohahoh', 'whoaho', 'rekerekereverse', 'sürtüğü', 'bilmeden', 'finnan', \"flickin'\", 'sólo', \"cocktails'll\", \"learnin'\", \"'te\", 'میرفتن', 'pms', 'bugz', 'بزندر', 'odamda', 'piensan', 'landover', 'continente', 'xfiles', \"niggas'd\", 'rarri', 'boudoin', 'تحقیق', 'lunghilunghilunghilunghilunghilù', 'wasit', 'blownout', 'muda', 'oneman', \"collaboratin'\", \"kids'll\", 'givenchy', 'bumpa', 'τις', 'عضوی', 'ive', 'dziecko', 'doa', \"tappin'\", \"whippin'\", '들킨걸', 'cállate', 'kkkkkisses', 'fedi', 'une', 'apps', 'τηλέφωνο', 'yamalak', 'yardie', 'drezie', 'время', 'frrkit', 'شادی', 'artista', 'haloti', 'butbut', 'tiffani', 'olmayan', 'kontrol', 'только', \"napkin'll\", 'přehnaný', 'pensylvania', '你說', \"'mommy'\", \"amiga'\", 'jsuis', 'squier', 'yaow', 'ovo40', 'fanta', 'kendim', 'quédate', '把弄我的遐想', 'dogg', 'nuestro', \"sonnin'\", 'trini', \"il'\", 'pensando', 'piff', 'lolo', 'sídlech', 'andare', 'awwright', 'godmama', 'teenie', 'socialmedias', 'unii', 'ز', 'excita', \"who'da\", \"dom's\", 'swipeclub', 'rashiki', 'kidkid', 'cleanin', \"j'aurais\", 'anises', 'crum', 'hacerlo', 'adım', 'croire', 'vanvonderen', 'hiltons', 'fourletter', 'tingaling', 'μας', 'plexing', \"reelin'\", 'xanny', 'vous', \"stampin'\", 'dappadon', \"fizzin'\", 'تصور', \"glancin'\", 'wooo', \"chicken'd\", 'rahhh', 'nevitt', \"waterloggin'\", 'dancez', 'skam', 'boobjob', 'راکس', \"4'o\", 'geniusness', 'lieiie', \"50let's\", \"mo'fucker\", 'woowoo', 'dadadadadadodo', 'szemét', 'ganstera', 'ambiens', 'igazából', 'wooooh', 'fedine', 'bruck', 'séduits', 'killin', 'everythang', 'stutiful', 'söylediğimi', 'rund', 'caliente', 'benim', 'mc', 'buga', 'contar', 'copout', 'pernah', \"gangsta's\", 'grandaddy', 'aight', \"clearin'\", 'آدما', \"'bron\", 'تبعیض', 'aż', 'jt', 'chloraseptic', 'droc', 'maricón', 'clit', 'kosu', \"ain't'\", 'sixsix', 'bunu', 'soca', 'tipdrill', 'manziel', 'vmas', 'yeezys', 'brillant', 'vadergo', 'whawhawhat', 'legsunidentified', 'raf', 'neckangel', \"tourin'\", 'کردن', 'lk', 'culo', 'n9na', 'oublié', 'mesaj', 'lickety', 'zawsze', 'radiooh', 'samecall', 'canción', \"resortin'\", 'oddychasz', 'kırk', 'merhaba', 'redundance', 'mords', 'jackolanterns', 'összekaparni', 'puro', 'seavers', 'haciendo', 'toocry', 'puis', 'wicwick', 'vics', 'youngun', 'pricelessness', 'wiem', \"4's\", 'daydays', 'سیاره', 'lalo', 'než', \"up's\", 'apb', 'scaff', 'roeper', 'baterista', 'benzodiazepines', 'بکوژە', 'toothandnail', 'pesmote', 'suckerfree', 'serato', 'hazzard', 'بالا', \"enamora'o\", 'offseason', 'readthrough', 'dejo', 'geht', 'ynlka', 'phresh', \"fiendin'\", 'fós', 'mackie', 'amit', 'pora', 'chеck', 'stabinthebacks', '²', 'triplewhite', 'morf', 'grammys', \"wearin'\", 'skrillex', 'rundmc', 'babyreah', 'hiçbiri', 'eyepopping', 'soakin', 'icecream', 'hardaway', 'goldplated', \"mean'\", 'ppeared', 'tőled', 'gigigive', \"will'll\", 'meck', 'ονείρευομαι', \"frizzin'\", 'cookin', 'seatbelts', \"conscience'\", 'yayyayyay', 'chaayyayyange', 'regali', 'flatline', 'sayin', 'bibig', 'kimora', \"freezin'\", 'un', 'لێدانێک', 'dingaling', 'viv', 'offandon', 'konvict', 'clapclapclap', 'openingclosing', 'halfbuzzed', 'مواد', 'cmoon', 'кто', 'leben', 'woodgrain', 'skimask', 'marshalls', 'tekisiniz', \"nielsen's\", 'شدم', \"slaughterin'\", 'muslanne', 'wray', 'sisqó', 'camila', 'westwood', \"rearrangin'\", 'aaahhh', 'freifick', 'vylít', 'jellee', 'nesbitt', 'pinchin', 'worstdressed', \"'nead\", 'rogando', 'tankyeah', 'pinnedup', 'laissemoi', 'mugler', 'wellprepped', \"cashmethat's\", 'woah', 'tohle', \"pullin'\", 'suu', \"smellin'\", 'aynı', 'melihatnya', 'froid', 'دەبێ', 'azealia', 'dawg', 'electracute', 'ayayayay', \"hiphoprappin'\", 'stupidi', \"mans'\", 'nehw', 'yays', 'lanez', 'gustaría', 'mothafuckas', 'almightylike', 'asscheeks', 'سقوط', \"'cuz'\", \"costing'\", 'brbreaker', \"stuff'\", \"bus'\", 'uunder', 'connor', 'بەرهەمداریمان', 'pantaleo', 'grigio', \"restrainin'\", 'rrrapper', 'twtwist', 'mightve', \"'lac\", 'tudo', 'psh', 'entre', 'میلیۆن', 'grinnin', 'hba', 'hohhh', 'deeby', 'kneedeep', 'syml', 'romama', 'selfrighteous', 'scarface', 'boombababoom', 'tamia', 'currys', 'smithe', 'jizzes', 'appetitetite', 'kalonji', \"i'mi'mi'mi'm\", 'woh', 'baseses', 'comnig', 'jak', 'پاڵم', \"hace'\", 'zazie', '自問我討厭這份遐想', 'kah', 'yabadabadoo', 'هوای', 'ssober', 'hahahahahahaha', 'şişman', 'tcf', 'دادناز', \"rappers'\", 'woahohohohoh', \"or's\", \"n'as\", 'bitcheshoes', 'comе', 'unsweet', 'appe', 'quiere', 'ruke', 'wic', 'aget', 'yaowa', 'badadadadada', 'кокос', 'martinezs', 'mamagic', 'nitti', 'endzone', 'bing', 'klas', 'gwiazdy', \"'rari\", 'wblk', 'coasta', 'pon', 'azuka', 'بوین', 'biligerent', 'kiedyś', 'dreamhouse', 'evde', 'wann', 'زمانیه', 'états', 'szeretlek', 'yooou', 'steppin', 'thatthat', \"girls'\", 'nononononono', 'چوار', 'puedas', 'pauls', \"ho'in\", 'faaaaaar', 'thulani', 'crazyjust', 'blap', 'neredeyse', 'vater', 'rhymesayer', 'tetley', 'yapmak', 'toliver', 'epsa', 'sayfalar', 'pense', \"driving'\", 'stefani', \"perplexin'\", 'tamam', \"panelin'\", 'ight', 'muzik', 'maxx', 'daré', 'yırtılmış', 'hmmmm', '過來吧', 'sweepy', 'blk', 'enfrentando', \"shaking'\", 'paro', \"shafy'nin\", 'užívat', 'hh', 'lairlair', 'intenzioni', 'kocsiba', 'clapclap', \"beginnin'\", 'uma', 'bbbody', 'flflfly', 'lateuh', 'ahhahhahh', 'bankulli', 'overnighters', 'balhéra', 'fistfighting', 'nicе', 'بەردەوام', 'ticktickticktick', 'talkingadlibing', \"ho'\", 'leb', 'rethe', 'olarak', 'yaaaaaaah', 'naa', 'moc', 'repierced', 'mimibella', 'helly', 'alrededor', \"disfuckin'combobulation\", \"ev'ry\", 'numbnumbnumb', 'jjjjust', 'pickney', 'anda', 'hyperextend', 'lado', \"hittin'\", 'titim', 'deuxième', 'coretta', 'fuckfuckfuck', 'faggoty', 'acobardarme', 'öldürdüm', 'hastayım', 'hypnotiser', 'travi', 'telemundo', 'seventysomeyearsold', \"puffy's\", 'kıpırdanma', 'strawberrybanana', 'posición', 'strugglin', 'devraisje', 'kötelességed', 'počkat', 'بڵێم', 'ickday', 'φορές', 'flatlined', \"niall's\", 'leanann', 'yastıklar', \"'love\", \"getting'\", 'amato', 'bons', 'dolaba', 'قاقای', 'پێم', 'whhhooo', 'spose', 'teetee', 'bbbefore', 'cctv', 'giuseppes', \"cacklin'\", \"fittin'\", 'unabiding', 'استن', 'denuan', 'alfabetycznie', \"violence'll\", \"andamo'\", \"pushin'\", 'oooooooooooh', 'nelissa', 'momonmontana', 'quequeen', 'sorrywhat', 'wes', \"applebee's\", 'değiştirmek', \"cubpoard's\", 'dimed', 'balllicker', 'pharrell', 'yetuh', \"damien's\", 'melodię', 'myseself', 'giriş', 'každého', 'gwan', 'dillingers', 'vuole', \"cons'\", 'whiteboy', 'maggy', 'über', 'tuvalet', 'kolye', 'faceass', 'niet', 'hiv', 'bıçağın', 'meenie', 'khloé', 'accelerants', 'geçiricem', 'marylin', 'matchin', \"'tron\", 'adderall', 'vayas', 'gratefu', 'шалаву', 'toetotoe', 'rrrat', 'gpass', 'jerrys', 'currensy', 'naunie', 'vieja', 'rexall', 'sinceré', \"backin'\", 'concives', 'kızda', 'labadore', 'bowtie', 'ninetofive', \"contemplatin'\", \"survivin'\", \"listеnin'\", 'fearne', 'trainless', 'ballaz', \"misplacin'\", \"'gainst\", 'ohohohhh', 'juug', 'viens', 'ist', 'álmok', 'پێتە', 'reks', 'askin', 'moné', 'tika', \"me's\", 'نیە', 'estuve', 'sa', 'امامنهمونطور', \"nodon't\", 'kranium', 'weiner', '妖異の魔女だと', \"hottin'\", 'cityy', 'firey', 'grandkids', 'apa', \"consultin'\", 'howisha', 'melby', 'taschen', \"retreatin'\", \"dunkin'\", 'choppin', 'saniye', 'shesus', 'eyyo', 'swishers', 'callar', 'دوما', 'adı', 'muschi', \"divorcin'\", 'ciggarete', 'geekn', 'okaaaaaay', 'wundaland', \"dryin'\", \"'vette\", 'zombieieie', 'kelsea', 'روی', 'nuit', 'dafrican', 'forfor', 'butta', 'sixnine', 'bangers', 'bas', 'youcouldneverbethis', 'yatmak', 'ağzımdan', 'tingalangalang', 'μόνος', 'spikerine', 'yaaahhhhhhhhhhhhhhh', \"shuttin'\", 'vojáky', 'eeyoeeyoeeyoeeyeah', 'breakdance', 'زیاتریش', 'pierdołami', 'bunji', 'kinm', \"n'sync's\", 'seent', \"devisin'\", 'popcaan', 'gcode', 'hacky', 'gt', 'noninjectable', 'yedin', 'dei', 'yowe', 'rollingstone', 'zapomněl', 'benét', 'dirà', 'pressa', 'brcan', 'passa', 'twerk', 'ωχ', '看看他們為我彎腰稱臣', 'sabar', \"times've\", 'mixalot', 'pusha', 'makebelieve', 'frikkifrikkifrikki', 'lightskin', '00not', 'های', \"blinkin'\", 'assdicks', 'digga', 'mengubah', \"bookin'\", 'epmd', 'chingching', \"j'aime\", \"'cedes\", 'ohahahahah', 'danse', 'alisters', 'tantos', \"slashin'\", 'escuchado', 'joffrey', 'osama', \"grabbin'\", 'trixie', 'rahhnnn', 'comehome', 'ronaldo', 'superfreak', 'mclaren', 'amigable', \"playin'\", 'fortythreeohone', 'стены', 'hoohoh', 'oon', 'waba', 'aap', 'placks', 'x5', 'azooka', 'zwrotka', \"scopin'\", 'shottas', 'sixtrey', 'yayya', 'simples', 'timmed', \"focusin'\", 'nstasia', 'fack', 'دەفرۆشم', 'lyft', 'bayside', \"doubtin'\", 'diggedydocdiggedy', 'tatuajes', 'بهتر', 'x9', \"beefin'\", 'satın', 'miuccia', \"get'cha\", \"member'\", \"anythin'\", 'thats', \"smokin'\", 'jcole', \"mezz'ora\", 'eightbytens', 'hemdelaylalala', 'hoodcelebrityy', 'bienvenue', 'hipsyou', 'woowap', \"copkillin'\", 'memy', 'submachine', 'üsünden', 'lxveoh', 'мне', 'lect', 'goonna', 'affi', \"blurrin'\", 'eightyseven', 'nuff', 'jc', 'años', 'além', 'przypisywać', \"healin'\", 'این', 'tengas', \"freakin'\", 'грозят', 'čekání', 'drei', 'mmmmmmmmmms', 'pppopping', '90th', 'selfinflicted', 'loced', 'faccio', 'mensonges', 'madting', 'boğabilecek', 'startin', 'vrille', 'closedminded', 'farby', 'buttchin', 'andahalf', \"nonrappin'\", 'buzzin', 'freedompart', \"'number\", 'clairo', \"fifty'leven\", 'nahah', 'qs', 'rrrr', 'ninguno', 'selfdestructing', 'motherfck', 'ymoe', 'jiggajijust', 'guegueguegueguess', 'yaşarsan', 'seninkine', 'bychom', 'gayass', 'gaa', 'sealy', 'soooooh', 'mid007', 'schofield', \"your'one\", 'amikor', 'trainwreck', 'kickflip', 'aklına', 'kllet', 'ihe', 'química', 'تاکاشی', \"battlin'\", 'seperate', \"selfinducin'\", 'mmkay', 'subbabick', 'baisser', 'esé', 'gaffle', 'swayze', 'لعنتشکی', 'tiraron', 'likelike', 'fák', \"thereyou'll\", 'akartak', 'aussi', 'mondanád', 'ganado', \"buddin'\", 'sanging', 'gevşetici', 'spf', 'electronica', \"nervewrackin'\", 'cliqua', 'liiiiife', 'alka', 'hemşire', 'rootiful', 'mmmmmmm', '講相知', \"tellin'\", 'gidiyor', 'sogging', 'égünk', 'breasteses', 'nevuary', \"recognizin'\", '50somethings', 'dzieje', 'keychain', 'molé', 'kapsüllerle', 'پێشوو', \"messin'\", \"crusin'\", 'jheeze', 'pppull', 'şey', \"time'\", 'encontrar', 'peachpink', 'hashtags', 'bexr', \"cappin'\", 'bombit', 'ayrılır', 'fansnot', 'vallet', \"ceilin'\", 'marineland', 'ón', \"appeasin'\", 'malignaggi', 'kanepenin', 'imaginarynot', 'preganat', 'oups', 'thunthun', \"nothin'\", \"'itis\", 'yeahyeahah', 'ovo', 'artravee', 'paperchaer', 'dira', \"shit''\", 'bеllyache', 'minime', 'henney', 'ibuprofens', 'incazzato', 'eazye', 'mistakebreak', 'marv', 'daño', 'bumstickitybum', 'woooaaah', 'zacari', 'brеaking', 'fırlatmak', 'želim', 'queda', 'jabberjaw', 'mumblin', '8yearold', 'bhrionglóidí', 'windsay', 'semblant', 'shoulda', 'еstow', 'angelettis', 'ohoohooh', 'sеnse', 'toi', 'καταλληλες', 'drame', 'kkeep', 'myranda', 'calma', 'crcrazy', 'nakrywam', 'دائما', \"'08\", \"squeezin'\", 'stoner', 'biotch', \"besarno'\", \"exhaustin'\", 'shanahnahnahnahnah', 'nnew', 'twoways', 'cucaracha', \"could've\", \"shady's\", 'amiri', 'vágom', 'ccutcut', 'onе', 'blundy', 'hella', 'mistakе', 'yaptığı', 'fourfour', \"clashin'\", 'juicey', 'eltávozik', 'bicchiere', 'saiyan', 'ئێمە', 'egh', 'brrapbrrapbrrapbrrapbrrapbrrapbrrap', 'péter', \"stallin'\", 'ol', 'rcmance', 'αν', 'gdyby', \"crawlin'\", 'steviewonderyouwillneverseethiseither', '我開心因見到', 'دەرەوەی', 'mmmmm', \"creepin'\", 'padawan', 'stilleto', 'toosie', 'crocker', 'بیشترم', 'thisin', 'eller', 'toplarım', 'jaleel', 'θυμόμαστε', 'ser', 'shaheed', 'daytoday', 'starburst', 'entree', 'dropshate', 'lah', 'choppa', 'killah', \"wmd's\", 'kaca', \"perry's\", 'aon', 'dblock', 'perdonarte', 'upsidedown', 'upkathy', 'yoksa', 'kızın', \"correctin'\", 'nein', 'bystands', 'ابرها', \"monsta's\", \"loving's\", 'nnnow', 'steez', 'bboy', \"coppin'\", 'اندازه', '愛恨都是種挑逗', 'بنی', 'paarts', 'هامو', 'mutumbo', 'fogod', 'بیدار', 'looksammy', \"smucker's\", \"salimo'\", 'fantastico', 'jiggajjigga', \"stackin'\", \"solet's\", 'ddddash', 'badbad', 'lyricols', \"5'9s\", \"redman's\", 'versce', 'poxy', 'erierierick', 'x80', 'aquaman', \"profitin'\", 'nejspíš', \"'hello'\", 'streep', 'هرچی', 'chození', 'sì', 'woooorld', 'получу', 'smallz', 'меня', 'bridetobe', 'níos', \"peers'\", 'speaka', 'sırt', 'دەسووڕایەوە', 'mobbin', \"i'maget\", 'غذاهای', 'dadoodoodoo', 'longforgotten', 'invisalign', 'generoso', '4th', 'avísame', 'pohromu', 'beamer', 'zbaví', 'x4', 'escobar', 'hailie', 'flaugen', 'girlsgirlsgirls', 'bian', 'docdoc', 'rrrrrrrrrrrrrrrrr', 'balenciagas', 'evеr', 'candyland', 'ltheanine', \"kai's\", 'nudecolored', 'moonchild', 'mee', 'mehki', 'louper', 'bumpertobumper', 'آبکی', 'pootie', 'pitchin', 'yu', 'queef', \"gabanna's\", 'nekai', 'sse', 'هەمووشت', 'آرهاونا', \"bout'\", 'voicеs', \"'buts\", 'tá', 'zmrda', 'aventura', 'pissydrunk', 'dupri', 'biriyle', 'دەکات', \"rhymin'\", 'riverer', \"tyin'\", 'slowmo', 'trae', '都與我們的未來無關', 'untouch', 'annyira', 'miri', 'klansmena', 'orospuları', 'guessguess', 'hiányolni', 'alatt', 'cavando', 'ellellelle', 'piç', 'chickachick', 'otra', 'wuk', \"'86\", \"timb'\", 'farakhan', 'ortizrivera', 'trapmoneybenny', \"shot'll\", \"tippin'\", 'ralphi', \"wedding'\", 'ringtone', 'ناتوانم', 'shinin', 'atá', 'ohyeah', 'hobag', 'çıkmadığını', 'یدامێ', 'popstar', 'سەوتم', 'آفرینش', 'youkikilla', 'αριζονας', 'jako', 'destructiveass', 'spiaggia', 'mamá', 'brushin', 'tgif', 'sheek', 'asscheek', 'hiciste', 'yadadadadadadada', 'zihinlerimizden', 'شستچی', \"'cool\", 'قلبممعذرت', 'babamın', 'utáltad', 'guantlet', 'efggood', 'oluwa', \"'tán\", \"sidetrackin'\", 'diablo', 'evet', \"buryin'\", 'مایل_های', 'mencintaimu', 'lilys', 'nefes', 'juga', 'obaa', 'bcbg', 'skeezer', 'makinesinde', 'sitch', 'mmmake', 'autographsigners', 'κομάτι', 'aretha', 'calentón', \"teachin'\", 'murdazagga', 'mmlp', 'będziemy', 'izze', 'rideordies', 'dolph', 'hideandseek', \"things'll\", \"haltin'\", 'هم', 'around_', 'drivethru', \"pace'\", 'nicht', 'expressar', 'wooooah', 'loro', 'cuerpo', 'giornata', 'pimms', 'demektir', 'willkommen', 'шикшик', 'هیپ', 'стабильнее', 'ameliyata', 'concierto', 'lennox', 'psikiyatristlere', 'awww', 'ellos', 'aaaa', 'damlıyor', 'squarecut', 'ahba', 'reevesten', 'twonight', 'sitzt', 'oye', 'brap', \"watchin'\", 'vemos', 'tabii', 'slizzle', \"ak's\", 'پێبکەم', \"coughin'\", 'supermalts', 'nnniggas', 'targaryen', 'eso', 'samesame', 'vient', 'myśli', 'autotune', 'danza', \"schoolin'\", 'tp', \"harrowin'\", '004mosh', 'گارنر', 'bbbbbut', 'نەوەدی', 'cockboy', \"miniyou's\", 'muthafucker', 'blaowblaow', 'åhlund', 'berettas', \"6'\", 'adta', 'üske', 'perder', 'lárgate', 'criticado', 'sıkışana', 'doobee', 'hátat', 'dustyass', 'upclose', 'saville', 'seafoam', \"you'da\", \"sectioneight'd\", 'gogogo', '06er', 'runnerup', 'tellerini', 'abre', 'pedig', 'pushеd', 'twistedass', 'godbey', 'هیچم', 'padalock', 'ballin', 'kekuatan', 'بوەستە', 'lovehate', 'xannys', \"kno'\", 'aleves', 'bakın', 'دیدم', 'gówno', 'mondod', 'vlastně', '40automatic', \"moldin'\", 'tus', \"won'\", 'merasakannya', 'taya', 'souhaité', 'مردداگتو', 'pişirmeyi', \"followers'\", 'gelip', 'koyarım', 'ject', \"imposin'\", 'driveby', 'dziwnego', 'pido', 'antibalas', 'jeezy', 'adhd', 'forths', 'dónde', 'kouyate', 'kicsit', 'dreamt', 'πάγος', 'باشم', \"imaginin'\", \"worshippin'\", 'cockadoodledoo', \"coughi'm\", 'zijn', 'wrassle', 'biçme', 'paviliontype', 'بیرون', 'šálek', 'ohwoah', \"drawin'\", 'cheapass', \"toyin'\", 'pez', 'exgirlfriend', 'braggin', 'paulo', \"undressin'\", \"'er\", 'قوی', 'shshock', 'yeheheheh', \"another's\", 'maaan', 'مۆسیقای', '007present', 'amex', 'selfexpression', 'ddark', 'desechaste', \"laughin'\", \"to'\", \"mothafckin'\", 'اگه', 'privado', 'rockin', \"clownin'\", 'jedną', 'mudarla', 'هەستەکەم', 'bbbbarbie', \"bun'crum\", 'nightcredits', 'sembri', 'imaginação', 'lieber', 'stapleton', 'todays', 'sheezy', 'chka', 'bibibay', 'راحت', 'sám', 'ideabreak', 'amava', 'fiftyeleven', 'whatah', 'sonned', 'haoohooh', 'acheter', 'xclan', 'ww', 'latenigh', 'araçlarını', 'mnoppuzzle', 'tae', 'belajar', 'arbeit', 'brigante', \"gibberin'\", 'middleclass', 'devrais', 'valorar', 'spellavotu', 'amores', 'souviens', \"must've\", 'vrinn', 'lcver', \"tre'\", 'virgen', 'iiiiiii', 'معنی', 'badababa', 'nicotinepatch', 'toolong', '둘이', 'podríamos', 'desde', 'atatiana', 'toppa', 'neiman', \"goin'\", 'acaríciame', 'shoutouts', 'nappyheaded', \"beans'a\", 'mook', 'hittas', 'pringles', 'kobalt', 'exman', \"ave's\", 'franda', 'ohyeahyeahyeah', 'sixtynine', \"wristin'\", 'cert', 'trytrytry', 'può', 'ohhhhooohhhhoooo', 'holdin', 'hidewhoops', \"gun'\", 'dwyane', 'önceydi', 'onami', 'tx', \"proceedin'\", 'soit', 'sevenseries', 'beefin', 'świątynię', 'threehundredfifty', 'eres', \"'erything\", 'uyuşturucu', 'nooooo', 'uhoh', 'starks', 'محنت', 'zar', 'tariq', 'willikers', 'breedlove', 'cossom', 'awayayay', 'oddali', 'afedersiniz', 'seethrough', 'valent', 'jakl', 'sanıyor', 'hurtin', 'acapella', 'twopiecing', \"'ine\", 'تی_مینوسپرودیوسر', 'hooahevery', 'andsmoke', 'lcve', 'muthafuckaaaa', 'daću', 'neskeem', 'cómo', \"peakin'\", 'und', 'lowend', 'renée', 'tbagged', 'burqaa', 'facce', 'recordin', 'fizzench', \"hills'\", 'vassata', 'iceicles', 'fica', 'balck', 'goesit', \"chillin'\", 'mrrogers', 'nt', \"misleadin'\", 'petits', 'champagnetattooed', 'ostatnio', 'eeoow', 'kitkat', 'deadass', 'motherfuckin', 'lámh', 'strongwilled', 'fisker', 'ramboing', 'izikhali', 'porscha', 'vanglorious', 'blubland', \"m6's\", 'macgyver', 'backmasked', 'onunla', 'bomboclaats', \"buttfuckin'\", 'yumurtulamaya', 'soñarla', 'brody', \"'cross\", 'bumbums', \"schemin'\", 'scène', 'bahwa', 'voteorg', 'biterphobia', 'bozar', 'passiveaggression', 'oohoo', 'kahlo', 'cryin', 'wеar', 'amel', \"bet'cha\", 'کنار', 'برام', 'cappa', 'rábukkanni', 'wij', 'oto', 'toetagged', 'shner', 'ohcome', 'kidsgrown', 'ناخۆش', 'whitetrash', 'derse', 'trouver', \"grazin'\", 'pickin', 'tuckerso', 'نارحت', 'falala', \"j'appartiens\", \"boppin'\", 'tyle', '___s', 'scifi', 'karını', \"hit'em\", 'faygo', 'chikachika', 'кредо', \"cringin'\", 'walken', 'drcgs', 'arındım', 'tatatake', 'sibirobo', 'خوب', 'vence', \"don'tcha\", 'makingofalegend', 'koule', \"got's\", 'goldmember', \"ro'\", 'ahhhhhhhhh', \"payayyin'\", 'wawatch', 'quo', 'spendspend', 'chingchingching', 'juega', 'didn', \"bowlin'\", 'besties', \"t'es\", 'ksr', 'mazin', 'bombdiggedy', 'playby', 'skido', \"speedin'\", 'opusti', \"'leave\", \"brainstormin'\", 'vanson', 'uhuhhey', \"eatin'\", \"spewin'\", \"moshin'\", \"soothin'\", 'woooo', 'domesticarme', 'oor', 'eins', 'wifi', 'freddo', 'whoooohooh', 'galf', 'youuu', 'hepinize', 'babii', 'cymphonique', \"shopaholic's\", 'onemarch', 'herc', 'aaaaaaah', 'mielőtt', 'hov', 'buehl', 'bririririring', 'turboboost', 'incents', \"m'a\", 'degreez', \"gossipin'\", 'queso', 'zzzero', 'cyah', 'lolololololololololololololololove', 'pisarz', 'разных', 'ariii', 'pissedoff', 'guardo', 'ritmo', 'się', 'kentae', 'everythin', \"mclovin'\", 'κάποιες', 'میکردن', 'johan', '¾', 'jakartaaa', 'entretiene', \"'till\", 'bigabigcock', 'asabe', 'yeow', \"manix's\", \"comfortin'\", 'brothas', 'bltses', 'kırdı', 'tims', 'lithiumion', \"representin'\", 'maino', 'hellier', 'bieber', 'jizzle', \"flo'\", 'pewgabby', 'quizzestion', \"'04\", 'cuento', 'masasına', 'pancho', 'beltword', \"perc'\", \"maxin'\", 'kwеb', 'amole', 'wigger', 'brrrrrrr', \"clickin'\", \"skydivin'\", 'cauet', 'dissle', 'berzerk', 'insomma', 'shawty', 'بهشون', 'vitákat', 'uzo', 'hittin', 'cumwad', 'domazz', 'napaliću', 'snackpack', 'finneas', 'pital', 'voix', 'magát', 'averiguar', \"diein'\", 'credda', 'fuhuhuck', 'bitcoin', 'tictactoe', 'çeviririm', 'harharhard', 'çocukken', 'جدیدت', 'تشبیه', 'sixstar', 'köthettél', \"abidin'\", 'whyre', \"hoes'\", 'lannisters', 'gente', 'mariah', 'seventythree', 'bbutterscotch', 'shеlf', 'vibreer', 'harga', 'vers', 'nosotras', \"innocentlookin'\", 'hcgh', 'ansari', \"semimac's\", 'shshshut', 'fanpage', 'με', 'mcconnells', \"squirtin'\", \"'will\", 'bacdafucup', 'odpływają', 'tudu', 'halim', 'psycodrama', 'οτι', 'maledominated', 'perfеct', 'mondom', 'röhögsz', 'izin', \"c'est\", 'ggggg', 'bosseses', 'είναι', 'psychiatrics', 'میترسم', 'lcvegame', 'nur', 'blanco', 'وجود', \"punchin'\", 'vading', \"columbus'\", 'meanin', 'djws', 'não', 'ohnonono', \"treatin'\", 'quadra', 'cheah', 'βραδυαζει', 'beatzz', 'cucka', 'twistin', 'youngins', 'skirtsy', 'chickachicka', 'villans', 'rockabybaby', 'turnaway', 'riaf', 'dejarte', 'me45558', 'freeee', 'titrеyemiyorum', 'swissel', 'reprised', 'mhéid', 'rahibeler', 'waro', 'transfcrm', 'canadabis', 'amí', 'farkettim', 'houstatlantavegas', 'aaaayo', \"kisskissin'\", 'phifer', 'gritando', 'çünkü', 'ccccrazy', \"earnin'\", 'womanvogue', 'prisón', \"think's\", 'taichi', 'oseille', 'jizz', 'hablemos', 'bloodred', 'incidentials', '너', 'papapaparazzi', 'courtordered', 'iiiiiiiiihiii', 'destino', \"'a\", 'ahha', 'ohohooh', 'owww', \"'nurse\", 'rolfe', 'penetrator', \"controlla's\", \"stone'de\", 'dop', 'kucak', 'addi', 'sht', 'llenos', 'boydem', 'bbad', 'derriere', 'hercie', \"'lü\", \"o'donis\", 'ahahahahahah', \"reppin'\", 'małe', 'mahalo', 'upperclass', 'cose', \"timbaland's\", 'kızdırmak', 'نهنه', 'nenes', 'görüşürüz', 'selfpreservation', \"slackin'\", 'babydrizzy', 'prenups', 'gli', 'contemplatin', 'contigo', 'yapılan', 'kyuh', 'timberlake', 'rightand', 'tttime', 'swaggy', 'kindawait', \"billi'\", 'hlalani', 'eeedge', 'ουρανος', 'lugar', 'tadadadadadadadadadadadada', 'так', 'chéri', \"m'ainm\", 'stüdyoda', 'تەماشای', 'wwwaves', \"within'\", 'firme', '但我不是你的寶貝', \"sellin'\", 'ilaçlarımızdan', 'sikliyor', \"'self\", \"rall'\", \"o'reilly\", 'sleepin', 'kermain', 'uniondale', 'noone', 'whеn', 'faoin', \"'94\", 'youoh', 'pppeter', \"t'écouter\", 'fuckedbitch', 'hoodrich', 'hearttoheart', \"d'amour\", 'yapabileceğin', 'sicide', 'happeniing', 'haahahah', 'ماینرزگروه', 'escrito', 'ost', \"jigglin'\", 'tttoweltowel', \"spiralin'\", 'codirect', 'dimea', 'comecome', 'tropez', 'mms', 'evanescene', 'باشترم', 'gegegegeget', 'lеtti', 'muszę', 'upadło', 'nono', 'nonhigh', 'قراره', 'úřadě', 'friggen', 'کنمهمونطورم', 'transavest', 'mamy', 'bağırırken', 'vuoi', 'ars', \"hearin'\", \"pattycakin'\", 'bb', 'lauer', 'oohahh', \"santa's\", 'octobersveryownblogspotcom', 'pppellets', \"motherfuckers'\", 'söylediğin', 'thizzle', 'ooooo', 'jealousi', 'new6x', 'rada', 'filetofish', 'extidended', 'astupid', 'miyagi', \"shadyfuckin'aftermath\", 'bir', 'fok', 'numberone', 'prenupt', 'likе', 'gattis', 'hidding', 'nutella', '0somethings', 'manbun', 'trás', 'againnot', 'pomprrrum', 'ohoh', \"interceptin'\", 'texted', \"niggas'll\", 'preparationh', 'nena', 'جنده', 'istediğin', 'fiveanddime', 'champtown', 'agyness', '城市被我毀壞殆盡的畫面', 'kupředu', 'tunechi', 'hoope', 'decidí', 'vor', 'madda', 'karjaink', \"'plex\", 'gott', 'mijnе', 'mise', 'halhal', 'murdermurder', 'گلوله', \"qu'il\", 'satelite', 'wooh', 'tivo', 'ddddddday', 'vkročím', 'olmak', 'cococopy', 'nahh', 'mj', 'ناخود', 'hennesey', \"walkin'\", 'rugrats', 'uhh', \"dumpin'\", 'armdancing', \"tweaking'\", \"'neath\", 'подруг', 'puente', 'spacebound', 'فن', 'sheckler', 'getback', 'mould', 'pss', 'بودم', 'cussin', 'نکنی', 'ablibs', \"sendin'\", 'prima', 'bezzy', 'cahh', 'lissa', 'rathering', 'squirter', 'moiss', 'تێک', \"l'homme\", 'više', 'compro', 'threeway', 'onlar', 'rhymein', 'terminamos', 'tuilleadh', 'قول', 'bbbring', 'ayy', \"phonin'\", 'nailpolish', 'za', 'bannona', 'itthrow', 'offa', 'selbst', 'ohohohohoh', 'tymer', 'thethe', 'freethrow', 'mamamad', \"shaqtin'\", \"scarin'\", 'juego', 'qué', 'truamp', 'placemat', 'leakers', 'hmhmhmoohoohoohooooh', 'puedo', 'degrassi', 'diliyorum', 'footz', 'cassidy', 'الانم', 'myślę', \"'leven\", 'voi', \"dealin'\", 'multiplatinum', \"grimmin'\", 'zub', 'ekg', 'esso', 'yyu', 'goozer', 'tryina', 'wertvoll', 'windbox', 'veszteség', 'irratic', 'crabtree', 'fuh', 'tec', 'kungfu', 'βλεπουμε', 'victorias', 'judaahah', 'roethlisberger', 'dé', 'sucess', 'yeeyeah', 'ayye', 'lep', 'przy', 'gheal', 'εγω', \"knockin'\", 'workin', 'fleisch', 'jaden', 'haremos', \"camcordin'\", 'machel', 'ghostride', 'γνωρίζω', 'annen', 'rethat', 'powey', \"'98\", 'lolololo', 'stille', 'gway', 'indo', 'avril', \"dinin'\", 'rassemblent', 'echaste', 'strapon', 'yala', 'hunderttausendeuroschecks', 'ohhohohoh', 'szobában', 'espiritu', 'chickback', 'están', 'popopoker', 'ganglias', 'něj', \"shit'll\", \"hesi'\", 'carribean', 'uhuhuhuhuh', 'guárdalo', 'unnhh', \"gasta'\", 'uhdudu', 'crabit', 'sube', 'valóban', \"mo'\", \"promisin'\", 'hoahoowoahoowoah', 'gusten', 'dorags', 'brandnew', 'belsoğukluğu', 'زمینه', 'وقتیه', 'busa', 'پشتش', 'мой', 'teairra', 'awaawchaaw', 'thandie', 'mancow', 'trop', '別叫我歡暢', 'sl', 'creeped', 'αγαπη', 'iu', 'kxxs', \"haremo'\", 'copiana', 'ohohno', 'لعنتیتو', 'нет', 'deux', 'siklemeyeceğim', 'genießen', 'explorador', 'smilin', 'istiyorsun', 'blblblblblb', \"brandin'\", 'basano', \"son'll\", \"aujourd'hui\", 'loustar', 'monewhy', 'σαν', 'koy', 'negril', 'updatebazzi', 'playtimes', 'stephon', 'önnakarat', 'geget', 'iconstat', 'θυμίσου', 'onna', 'wid', 'özür', \"'resha\", 'hyp', 'gonzalezcruz', 'δύναμη', 'crushin', 'spillin', 'negligée', \"shoulda'\", 'chugh', 'dawkins', '808s', 'ahahaha', 'hoopdies', 'eba', 'apanhei', 'assed', 'tttext', 'sincero', 'handstanding', 'límites', 'yeawe', 'spinz', 'ránk', 'oaky', 'yeaheh', 'likea', 'celie', 'enfermé', 'بکەن', 'kneehigh', 'altas', 'ifififififififif', 'wordi', \"aimin'\", 'mešity', 'burada', 'lamma', 'jen', 'podporuje', 'fumando', 'aman', 'alf', \"practicin'\", 'pointynosed', 'msfts', 'hbcu', 'nato', 'mеn', 'ebeveynler', \"invitin'\", 'hijab', 'overdramatic', 'yoluna', 'almaya', 'trynna', \"nurse'\", 'rasistickýho', 'looooooolove', 'crouton', 'klasse', 'nerede', 'riskers', 'googoogaga', 'grisham', 'biorę', 'highsaditty', \"quackin'\", \"'87\", 'bonsam', 'womp', 'bia', \"hipócrita'\", 'santo', 'saklıcam', 'partir', 'nunchukuh', \"knockoffme's\", 'boku', \"should've\", 'zbraní', \"smackin'\", 'xenadrine', 'buglars', 'imaš', 'gunproof', 'resetter', 'uhuh', 'twothousandthird', 'pięć', 'wyprzedza', 'wellbehaved', \"m'i\", 'burla', \"og's\", \"canoodlin'\", 'miseducation', 'blazin', 'olvide', 'voyce', 'dumbin', 'kibaszottul', 'canibus', '分かってても', \"hass'\", 'bside', 'heinekens', 'yout', \"raggin'\", 'شێوەیەم', 'uhhuh', 'knifepoint', 'theirselves', 'wrld', 'sarı', \"'fuck\", \"crazy'\", 'contemplarte', \"everlastin'\", 'její', 'کیز', 'bxbe', 'bball', 'teetertotter', 'nibabuzile', 'inglish', 'geeked', 'tswift', \"idon'trememberwhoiwas\", 'idő', 'fi', 'وایسامنظورم', 'xans', \"fif'\", 'jawns', 'melhor', \"fastin'\", 'этим', 'خوکمن', 'konfrontációkat', 'dangdang', 'wooooooo', 'muri', 'hadi', 'dabodabababadabo', 'pov', 'oop', \"whisperin'\", 'دوران', 'mala', 'shiiiiiiit', 'lifelife', 'freekey', 'kahvaltı', 'agosto', 'történnie', 'canseco', \"skinnin'\", 'rüyalarında', 'siz', 'اینترنت', 'voulez', 'ble', '6speed', 'تخفیف', 'balmain', 'playerhaters', 'roborebe', 'voicе', 'blahbadeeblahdablahblahstop', 'ertesi', 'recuerdo', 'rockfest', 'voila', 'ahahahahahahahahahah', 'فنایی', 'hablo', 'mentals', \"becomin'\", 'твой', 'yakıyor', \"toastin'\", 'buscar', 'dazu', 'feefifum', 'lololololo', 'voom', 'حالا', 'تیم', '4chick', 'mohli', 'pofán', 'grindin', 'tribeca', \"reid'n\", 'woahoooowe', 'yastıkla', 'yapıyor', 'htowntown', '5th', 'likelikelike', \"vacuumin'\", \"limited's\", 'دووڕویانە', 'doldururken', \"u'z\", \"somebody'd\", \"buddenl's\", 'meetis', 'życia', \"smashin'\", 'bajans', 'gooda', 'rufio', 'flyness', 'kayraktan', 'hayatlar', 'yoluydu', 'kreviazuk', 'allpoints', \"buildin'\", 'rr', 'illa', \"'cuh\", 'мы', 'stüdyosundan', \"spillin'\", 'celebrando', 'tú', 'oneing', 'mids', 'toodles', 'freefalling', 'coração', 'ορκιζομαι', 'recours', 'oohoohooh', 'etmeliyim', 'demdemdemdem', 'biebеr', \"kardash'\", 'eightytwo', 'browz', 'motorsport', \"typin'\", 'passati', 'andré', 'hxre', 'roncho', 'semnou', 'idris', 'مردم', 'retweet', \"dddon't\", 've', 'looseyand', 'istediğim', \"curá'\", 'bleibt', 'rolexes', 'selfrespect', \"'teen\", 'limiya', 'vilatle', 'sprawi', 'bleahh', 'و', 'ricu', 'abys', \"redoin'\", 'secondguessing', 'buscaré', \"iiii'ma\", 'چەوتن', 'تمام', 'strummin', \"swallowin'\", 'puros', 'همیشه', 'vagyok', \"ema's\", 'lеarn', 'tminus', \"reviewin'\", 'layed', 'doubleedge', \"c'mere\", 'siliyorum', 'fanbase', 'onetwo', \"murkin'\", 'dependo', '4car', \"scoffin'\", \"shady'm\", 'کنم', 'скользит', 'murciélago', 'texting', 'wizkid', 'esto', \"icin'\", 'shityeah', 'tttalk', \"selfesteem's\", 'ohohohohohohohohohoh', 'rrrecord', '輪七指', \"'telly\", 'bulundum', 'whoawhoawhoawhoawhoa', 'doodoodoodoo', 'interscope', 'gunnas', 'kekekeeper', 'mashallah', 'innie', 'فقط', 'dungrares', 'canımı', 'watereddown', 'orospularsınız', 'overtooken', 'مغازه', \"s'thginot\", 'simons', \"snoopin'\", 'значит', 'alaina', 'keşke', 'sikişmek', 'nute', 'ratatat', '告訴我哪個選擇比較糟', 'methe', 'tebe', 'lalalalalala', '0x', 'flatbush', 'pudor', 'میومدن', 'lele', 'sürtüğün', 'عشق', 'frío', 'بک', 'mayweather', 'regiert', 'ramadánu', 'αναμέσα', 'gotti', 'ists', 'blingbling', 'twosided', 'keepin', 'delorean', 'ballers', 'khalil', 'reviendrai', 'ubered', \"ssswag's\", 'ج', 'remmix', 'leftwich', 'tatyana', 'onceinalifetime', 'guechkit', 'chucky', 'kumpent', 'sọ', 'verseso', 'europejune', 'sexe', \"neighbors'\", 'bhasker', \"eruptin'\", 'blueface', 'welb', 'punany', '해도', 'girbaud', 'ishwhen', 'stronę', 'meninos', \"gaylookin'\", 'tanface', 'simmon', 'nanananananananananananana', 'yeugh', 'devilles', 'ttrick', 'до', 'نمیتونیم', 'marcarme', 'gondolataikon', 'mixtapes', 'wheelying', 'luci', 'bhlaiseadh', 'weezy', 'ciara', \"embarrassin'\", 'poptart', 'sixpack', 'greaze', 'crosseyed', 'melook', 'محبة', 'rrride', 'français', 'ajan', \"rushin'\", 'میرسن', 'ọkàn', 'thunk', 'sevendisc', 'bastardi', 'wutang', 'bbobby', 'быстро', 'زخم', 'دوباره', 'somehwere', 'toutes', 'hackensack', 'havayı', \"90's\", 'raahahah', 'canino', 'batphone', \"throbbin'\", 'druha', 'طولانیه', 'pppass', 'هێنابوو', 'narcisse', 'abitch', \"overtextin'\", 'reposts', 'rapera', 'بدی', 'آخرین', 'salivawhat', 'ohhhhh', 'aventador', 'bondo', 'mepart', \"yelawolf's\", 'februarys', 'wineinеine', 'gösteriden', 'remy', '0th', 'mmhm', 'времени', 'kaybеtmek', \"fo'\", 'washedup', 'midoc', 'whitetrashy', 'koşuyorum', 'silvercity', 'pontius', \"'gon\", 'lewinski', 'bunnybunny', \"'i\", 'highschool', \"thisit's\", 'ngami', 'jawa', 'dickory', 'vahse', 'dangly', 'gyal', 'testet', 'chkachka', \"'roc\", 'caidos', 'hillman', 'whyyoulovethesestrippers', 'courtnee', 'kravitz', 'بزنن', 'rendu', 'woodwoodwoodwoodwoooood', 'backstabbed', 'ekwu', 'nutbag', 'é', 'небеса', 'ssault', 'unlyrical', 'tryyy', '0year', 'guegueguess', \"seasonin'\", 'nickster', 'dubstep', 'medos', 'apagao', 'autorze', 'kteří', 'mims', 'perdus', 'depois', \"lovegluegunnin'\", 'szemétbe', 'openingshutting', 'gyönyörű', 'molon', \"full'a\", 'footoh', 'tridip', 'methanine', 'jezelf', \"'nuff\", 'upa', 'holyfeel', 'weathergirl', 'twentyyear', 'pensar', 'wearyeyed', 'everlast', '男どもを', 'popofuck', \"'54\", 'هیولا', 'ny', \"much'll\", 'knightley', 'yorulmadan', 'tapout', \"turnin'\", 'takıldığım', 'carradine', 'outlaughing', 'conversate', 'chosa', \"head'll\", 'pts', 'gifford', 'korkacaksın', 'použiju', 'compañera', 'benihana', 'misfortunate', 'κρατησε', \"'ta\", 'freako', 'videogame', '9s', 'mec', \"bit'\", 'cheguei', 'adióspor', \"ringin'\", 'studi', 'knknknow', 'ادامه', 'باکمال', 'λεμε', 'sorteé', 'nickinickinicki', \"round'\", 'brakeline', \"you'rе\", \"bitin'\", \"'wrong'\", 'kardinal', 'wooski', \"dillydallyin'\", 'vnecks', \"witnessin'\", \"revoltin'\", 'maldecías', 'nienawidzą', 'чтобы', 'qm', 'alamıyor', 'esoht', 'ohhhhhhhh', 'voltál', 'których', 'iets', 'onehand', 'aki', 'badoom', 'ducing', \"puddin'\", 'chyba', 'leatherface', 'داگی', 'bebut', 'viszont', 'wwwwwwork', 'freaknik', 'reit', 'taj', 'خەبەری', 'backflips', 'ttossed', 'stanie', 'horan', 'nanananana', 'κλειστα', 'kreis', 'mučili', 'timbs', \"perfectin'\", 'usein', 'servin', 'bármikor', 'baskin', 'lovegame', 'allá', 'lightleggedness', 'freestyleno', 'jin', 'myou', \"'u'\", 'dopeman', \"cancelin'\", \"settin'\", \"rrunnin'\", 'scheiße', 'pecho', 'پس', 'tylе', 'pół', 'esa', \"cockin'\", 'ohohayo', 'locness', 'πληγή', 'ketahuilah', 'درێژبێت', 'dile', 'hct', 'tryy', 'ravale', \"niggas'\", 'meeee', \"sippin's\", 'yettobeconfirmed', 'ses', 'hahahahahahahahahahahaha', 'whatev', 'tanış', 'rousey', 'bitchin', 'holeinthewall', 'buraya', 'írva', 'anywho', 'canyou', \"rott'\", 'polina', 'gelmeye', 'eska', 'uhhahh', 'grandes', 'بهمان', \"ambidex'\", 'vermedim', 'bodyshocking', 'shade45', 'gacy', 'onetell', 'insync', 'física', \"5'9\", 'stog', 'bentely', 'rollercoasting', 'jingalingaling', 'lunesta', \"recordin'\", 'лучший', \"qu'aujourd'hui\", 'negli', 'worldclass', 'matan', \"bridgin'\", 'wooohohoh', 'skatin', \"puttin'\", \"bendin'\", 'blondehaired', 'peyton', 'lub', 'princе', 'noop', 'geah', 'چشمای', 'heenan', 'ruisseaux', 'wawawawa', 'werent', 'wahh', \"scweamin'\", \"ndim'\", 'cabrón', 'niiight', 'fugaly', 'tiptronic', 'golddiggers', 'draculas', 'fyiii', 'эстетика', 'én', 'estive', 'długo', 'pacman', 'еver', \"acceptin'\", 'دخترتو', 'meeko', 'lalala', 'aaaaaaack', \"lyin'\", \"punk'll\", 'mapleflavored', 'pompompom', \"sswag's\", 'chxla', 'hemen', 'blizzy', \"yeah'\", \"wakin'\", 'dudеs', 'folyosóra', 'تای', 'بەرامبەر', 'ببینمayy', 'سگ', 'postin', 'duyacaksın', 'debe', 'sekarang', 'uçtu', 'beatkilling', 'chéile', 'uniso', 'nevadě', 'gggotta', 'rainshine', 'posthook', 'karrueche', 'جیاتی', 'solas', 'oswojony', \"fortyfo'\", \"bummin'\", 'ohohi', 'laters', 'fourtothefloor', 'yıkıyorum', \"caretakin'\", 'steinfeld', \"atown's\", 'krippy', 'ataques', 'tbone', 'دشان', 'ambien', 'pinga', \"surfsurfin'\", 'jcrois', 'pickedonchristopherreevesjustfornoreason', 'gwagen', 'justwhat', \"snortin'\", 'během', 'andel', 'bbback', 'offwhite', 'gönder', 'korb', 'insykeable', \"macavity's\", \"amoxicillin's\", 'vinnvinn', 'ackees', 'leat', 'maliah', 'yar', \"j'veux\", 'vezes', \"dispensin'\", 'bailar', 'donedone', 'lovestruck', 'indepth', 'rizzle', 'fatt', \"tupee's\", \"joinin'\", 'wooaah', 'üzerine', 'yüzme', \"'roids\", 'mefuck', \"'nelly\", \"'turnt'\", 'aynaya', 'heute', 'waitehehehehay', 'voltunk', 'forseen', 'tupack', 'royale', 'doooooog', 'dresick', \"nothin's\", 'چه', 'ναι', 'hhhhell', \"'bae\", 'whoadie', 'doggay', 'istediği', 'arf', 'eighteenmonthold', 'vu', 'danaa', 'secondincommand', 'spyder', 'wakingup', 'aiight', \"lockin'\", 'hakaret', 'getgetgetgetget', 'tiens', \"'76\", 'abrazan', 'cersei', 'ακούγωντας', 'whoaooh', 'foreverholdagrudge', 'rexx', 'ahaha', \"shawty's\", 'oooo', 'watever', 'drzwiach', \"say'll\", 'griddlebone', 'skank', '0space', 'pumpum', 'brodiesangster', 'legbutterflies', 'thankyou', 'twentynine', \"shiverin'\", 'užívá', \"hookin'\", 'cymphoniqueyou', 'occhi', 'chérie', 'vlone', 'نمیکنم', 'foreva', \"winehouse's\", 'žádné', 'naši', 'meses', 'lhuna', 'blesser', \"braggin'\", \"seatin'\", 'westside', 'motorhomes', 'ahyea', 'fucken', 'egész', 'cady', 'bello', 'déjanté', 'περίμενε', 'indoscented', 'yeeaaaah', 'oohoohoohoohooh', 'ththis', 'czytasz', 'آهنگی', 'scarn', 'اینکارو', 'digroup', \"sco'\", 'teeheehee', 'دەکاتەوە', 'rippedoff', 'whooaaaaaaa', 'rapperlara', 'solange', 'steelo', 'tomahto', 'ortadan', 'bootyful', 'tiran', \"'less\", 'anlaşma', 'ucksay', 'outgrind', 'یکی', 'neef', 'scoota', 'charleyhorse', 'wjlb', 'دیس', 'mourir', '無法遺失的擁抱', 'dziwko', 'ronan', 'yearsgo', 'powiedz', 'teena', 'benteley', 'badass', 'αναμνησεις', '你真該看看我戴上后冠', 'hasthis', \"money'll\", 'dodoubleg', \"pickin'\", 'osbourne', \"'drew's\", 'çekiyor', 'tváře', 'helder', 'vais', 'unleakedunreleased', 'cartera', 'spacetime', \"wishin'\", 'intheparty', 'hoodies', 'neo', 'knooooooow', 'geç', 'prendo', 'bluecollared', \"lexus'\", 'paigon', 'مرگ', 'morrisette', 'downall', 'bulletproofwrote', 'winwin', \"displayin'\", \"hellmann's\", 'już', 'nepřestane', 'jayrain', 'jsi', 'motrins', 'öyle', 'لاینر', 'gcpsy', 'eachother', \"'89\", 'seis', 'goodwillwill', 'clowners', \"sentencin'\", 'چیزی', 'hahahahahaaaaa', 'disciplinedwhat', \"sluggin'\", 'oofa', '8am', 'egymást', 'těm', 'voosh', \"6's\", 'сроков', 'louohud', 'polepopping', 'flowowowow', 'merked', 'gimmie', 'jstatus', 'wildass', 'iiiiohohoh', 'vurdum', 'hoooo', 'rentfree', 'thots', 'cnote', 'languagono', \"gan'\", 'sini', 'ingerült', 'dissleyeceğim', 'typea', 'پذیری', \"vamo'\", 'bejust', \"with's\", \"twerkin'\", \"groovin'\", \"pastin'\", 'vavavavavanity', \"fairies'\", \"foldin'\", \"levitatin'\", 'roblox', 'cyphers', 'shitface', 'impregenate', 'ix', \"tony's\", 'fronters', 'grrratatata', 'liebe', 'edgeee', 'thinkthink', \"gohe's\", 'rappping', 'jodeci', 'flirtin', 'jugg', 'quatsch', \"youngin's\", 'azok', 'یاریە', \"cccan't\", 'woahohohoh', \"romancin'\", \"plat'\", 'kiki', 'dek', 'était', 'swanging', 'geazy', 'hace', 'thithithithi', 'negra', 'ayou', 'ahahahah', 'gül', \"comparin'\", 'poder', 'używam', 'dientes', 'mumbojumbo', 'giv', 'mescado', \"joe's\", 'backwhat', 'chachachachanging', 'beatmaker', 'predigital', 'almodovar', 'otkopčaj', 'nanaboo', 'cowriters', 'negligah', 'oochie', 'ballsdeep', 'tomlinson', 'barbillions', 'tocar', 'mebaby', 'toothpain', 'hasbeens', 'rrrrrr', 'inshallah', 'shrooms', 'ندارم', 'platten', 'kapetan', 'halfalive', 'firebeatz', 'lebih', 'pppress', 'röhögtünk', 'upput', 'διαβάζεις', 'oneyear', \"m'sortait\", 'hcllnd', 'dookie', '80k', 'theon', 'promis', 'gwaan', \"jodeci's\", 'mandt', 'brrrr', 'کردەوە', 'flyed', \"hacemo'\", 'paak', \"standin'\", 'pucci', 'tattattat', 'hmmm', 'radi', 'dennin', 'günlük', 'fitz', 'dadadadance', 'یەکدی', 'huggy', 'sonrada', 'dided', 'yazzzzz', 'drowing', '恨自己一邊愛一邊忍受', 'plais', 'گروهادامه', 'reflito', 'sustituirte', 'responsibilty', 'bryson', 'érdeklem', 'insta', \"'caine\", 'dadadoodootn', 'líberate', 'banghands', 'cooloffcool', \"wayne's\", 'cintura', 'lifetimebruno', \"flashin'\", 'ballsack', 'búsqueda', 'gilla', 'hagyott', 'demeyi', 'drophead', 'viajaría', 'fortyfouryearold', 'sheshe', 'nini', 'dadadumdum', 'chachanging', 'mundo', 'twoandatwo', 'پارە', 'elephantitis', 'disapear', 'ctm', 'streeteminem', 'herve', 'را', 'jelenléted', 'portret', 'woooohoohoohooh', 'ebk', 'roundme', 'alla', 'caskoww', \"countin'\", 'motherfreaking', 'érjek', \"kickin'\", 'fayann', \"wifin'\", 'números', 'diré', 'unabomber', 'europeako', 'daly', 'máš', 'jojon', 'katana', 'jól', 'هیچ', 'kd', 'بکوژرێیت', 'brendon', 'greenlantern', 'azul', 'hersheypark', 'sittin', 'reretarded', 'hedouble', \"a'\", 'dólar', 'حیزەت', 'poppyfields', 'smidget', 'دوای', 'insteadyeah', \"protectin'\", 'malheur', 'dovrei', 'stylin', \"remixin'\", 'afeeling', 'quica', 'seri', 'hesitators', 'kagome', 'bunun', 'acuerdo', 'bangin', 'booo', 'streetwear', 'mcbanarobooabano', 'screwup', 'megfújt', 'handies', \"thinnin'\", 'kutcher', 'pongo', 'destruyó', 'chapo', 'suckerpunch', 'yeahusher', 'masas', 'zenlike', 'nuevo', '40bottles', 'munmunmunmunmuny', 'cpr', 'yummyyum', 'hommes', 'casi', 'bbw', 'harambe', \"rapino's\", 'quebrado', 'redbottoms', 'talkin', \"ah's\", \"yank'\", 'źle', 'dingding', 'norbit', 'amalfi', \"back''\", 'evili', 'kawhi', 'michaels', 'facendo', 'mindenkit', 'dozadu', 'fallouts', \"'0\", 'gromitt', 'eyesdem', \"soundin'\", 'رسوند', 'ied', 'tippytoe', 'rozdělit', 'cavi', 'wishlish', 'frontfront', 'bartobar', 'bagz', 'کردنهمه', 'servе', 'llave', 'maaaa', 'youwhat', 'yeahhhh', 'fela', 'коржа', 'dirtydirty', \"cumin'\", \"'no\", 'upsay', 'egymással', \"years'\", 'selfpossessed', 'پلیس', \"deepthroatin'\", 'weil', 'highroller', 'لعنت', 'dutty', 'boogieoogieoogie', 'enfadas', 'customfitted', 'diye', 'morewe', \"men's\", 'fiduck', 'gücendin', \"stunnin'\", 'jcmeson', 'gastarme', 'brazy', 'ackey', 'bylo', 'голосом', 'saçma', 'herkesin', 'gunah', 'facism', 'chola', 'sesi', 'tocando', 'hmmhmmhmmhmm', \"sweepin'\", 'plugg', \"bizarre's\", \"settlin'\", 'galdem', '就忘了爭吵的損傷', 'eq', 'allons', 'lucious', 'cartoonalien', 'happenеd', 'palewait', 'woahooh', 'lograr', 'cuppie', 'philpot', 'eyeku', 'gabriella', \"sinnin'\", 'willin', \"mach'\", 'nows', 'swzup', \"blitzin'\", \"smashing'\", 'jeapordy', 'cooch', \"yawnin'\", 'نیستیمن', 'acompañarme', 'rampapapampam', 'tátongva', 'jheri', 'foglalom', 'storyyou', 'keeks', 'triumphent', 'isyes', 'suyla', 'ciğerinizde', 'خۆیان', 'możesz', '숨기려고', 'nininininininini', 'jacy', 'reclamón', 'nikes', 'duval', 'caprisun', 'dih', 'wonderman', \"believin'\", \"duckin'\", 'دلار', \"'fore\", 'moola', 'mamacita', 'craftmatic', 'selfproclaimed', 'comiclike', 'knowitall', 'εισαι', 'голову', 'stika', 'یکبار', 'lomb', 'stepsis', 'metalongtheway', 'michie', 'lov', 'ezért', 'dresdenben', 'enought', 'silverlake', 'ohoohoohoohooh', 'چەنیز', 'touchin', 'duele', 'welllit', 'realtime', 'یه', 'skeletor', 'ddown', 'tsx', \"hoopin'\", 'eachand', 'bibir', \"matchin'\", 'γύρισω', 'próbuję', 'négligée', 'uvwxyyou', 'tyra', 'frontfacing', 'heyeah', 'booyah', 'stickin', 'activité', 'بکنم', 'tmi', 'aee', \"'vict'd\", \"mo'fuckin'\", 'c4', 'cappadonna', \"horseplayin'\", 'tattletelling', 'grrrrrah', 'dboy', \"aspergers'\", \"heyit's\", 'radiowej', 'مبارزه', 'snad', 'shih', 'glamophonic', 'armloyalty', 'mcs', 'smallzcom', 'chincilla', 'unisom', 'mogwai', \"frightenin'\", 'ohhhh', 'yeaheaheah', 'istiyor', \"sharin'\", 'aanwezigheid', 'reir', 'museumscale', 'tyco', 'grimpé', \"still'll\", 'allthistime', 'má', 'symbiote', 'bouger', 'نشاید', 'overblaow', \"deterioratin'\", 'bandwagoners', 'att', \"waithe's\", 'fyi', 'jackers', 'beez', \"rit'\", 'mucht', 'snakebitten', \"bigger's\", 'olması', 'ماوەیەکی', 'cagee', 'partyed', '我覺得你好美', 'meyeah', 'zapp', 'chicas', 'nflsoustředíme', 'oohoohoohoohoohoohoohooh', 'mischa', \"'rassle\", 'onehere', 'nordictrack', 'ladeeda', \"brady'ego\", 'uhmmm', 'chchromatica', 'fufufufuture', 'masterbate', 'bibihoping', 'nuestra', 'pornstars', \"swingin'\", \"counselin'\", 'specialise', 'topdown', 'tingz', 'demartino', \"teasin'\", 'gyah', 'isen', 'رپر', \"jusqu'à\", 'شاتاشاره', 'nme', 'geldiğiniz', 'yerlerde', 'doubledog', 'bagley', 'sitowuation', 'eminems', 'capelli', 'migos', 'beyoncé', 'isorry', 'yumyum', 'fastidio', 'céili', 'rikers', 'indiaarie', \"'umph'\", 'overthinking', \"facethat's\", 'fashionistis', 'whut', 'imagino', 'pag', 'iam', 'merky', 'hamptons', \"violatin'\", 'actuallyand', 'kakunk', 'yeaaah', 'highheeled', 'taha', 'jaykae', 'brille', 'didnt', 'trickin', 'پیس', 'boastin', 'αγάπη', 'dormire', \"burnin'\", 'viviendo', 'باز', 'tojust', 'forgеt', 'çeviren', 'فلاش', 'hedefine', 'foolness', 'alealcjandro', 'gunnaz', 'bitchroseanne', 'bish', 'morissette', \"beakin'\", 'mewant', 'jd', 'shhhh', \"spreadin'\", \"'dem\", 'refilles', 'رپ', \"what'cha\", \"managin'\", 'chong', 'bossssss', 'компот', 'ohohoooh', 'taskit', \"codeine'll\", 'nuprins', 'eilish', \"young'n\", \"spellings'\", 'imaan', 'knick', 'δακρυζω', 'جەیزی', 'motherfukin', 'её', 'fortynine', 'tomtoms', \"skippin'\", 'preif', 'scambiarci', 'jxm', 'patpatpat', 'alrightx', 'vi', 'ahahh', 'phraayayase', 'runneth', 'exlovers', 'nogo', 'jeday', 'ffaded', 'shitwhy', 'çalışmayana', 'ggget', 'hile', 'bbbbang', 'growed', 'thotthot', 'richshamed', 'twoply', 'tapeguess', 'nwo', 'tabancanın', 'dddddamn', 'دەربارەی', 'leatherstudded', 'silverscreen', 'facetimes', 'teyana', 'hererer', 'piguet', \"'profile'\", 'énjeinket', 'perba', 'tuya', 'aaliens', 'busca', \"evolvin'\", 'streetrunner', \"fussin'\", 'bup', 'hailey', 'wassa', \"liberation'\", 'feminay', 'darvocet', 'hedi', 'bajun', \"mc'ing\", 'yz', 'sommes', 'dimetapp', 'grandmama', 'pudo', 'braveheart', 'mayback', 'bandcamp', \"abracadab'\", 'yao', \"stampedin'\", 'moneymoney', 'mojej', \"knowin'\", 'jacksons', 'spotify', 'pergi', \"'when\", \"swearin'\", 'bodybag', 'bymark', 'mamí', 'estou', 'whywhywhy', 'rodillas', \"samplin'\", 'sawedoff', 'runnin', 'heyehey', 'glowinthedark', 'chllin', \"'massage'\", 'ricin', 'rechid', \"'gators\", \"'pon\", 'fingerbang', 'socalled', 'feeheeheel', '7eleven', 'napětí', 'alanis', 'fricking', 'linndrum', 'برند', 'uuh', 'شیمان', 'měli', 'tenmillion', 'sny', 'superdope', 'champxne', 'kickin', 'erra', 'هستم', 'drdrdrdragged', \"offerin'\", 'backbe', 'problack', 'jip', 'rocc', 'zu', 'bakıyorum', 'arıyorum', 'heeey', 'artis', 'sahne', 'bflat', 'oohwoo', 'fliehen', 'sayfasıyla', 'kdots', 'fuhrman', 'nunca', 'hermano', 'hawn', 'bakteriler', \"every'\", 'vzy', 'mmmmmaybach', 'rreplay', 'ddddirty', 'controverse', 'rasputia', 'wwhen', 'chumpions', 'webcam', \"don'tyou'll\", 'passoff', 'cortne', 'össze', 'بوو', 'zro', 'oldow', 'için', \"ladies'\", 'پرواز', 'politice', 'corazones', \"'bout\", \"startin'\", 'satabilmeyi', 'pregúntale', 'آورد', 'له', 'بار', 'hakeem', 'gotdamn', 'parar', 'resto', 'smokin', 'ima', 'keser', 'προσπαθουμε', 'empezamos', 'mumumurda', 'plateeradicate', 'mengatakan', 'broll', \"bell'n\", 'dyna', 'gottagotta', 'haza', 'فلان', 'choos', 'ئاستتدا', 'chinny', \"stayin'\", 'posttraumatic', 'chimamanda', 'takhle', \"navigatin'\", 'pippy', 'muzyka', 'rainbowlooking', \"durin'\", 'dogshit', 'hargitay', 'öldürecek', 'uppour', 'tatuaż', 'بالاو', 'stiffarm', 'graspin', 'bellytommy', 'uyuyor', \"hopin'\", 'ebt', 'bathedin', 'allamerican', 'fulills', 'serseri', \"'stead\", 'feliz', 'strippening', 'spinrumpelstiltskin', 'نگه', 'jjerk', 'photoshoot', 'anow', 'umpfh', 'wappaaa', 'badbadbadbadbadbad', 'pornhub', 'showin', \"claimin'\", 'automobills', '70s', \"kuti's\", \"ll's\", 'unu', 'rovinano', 'rrrrr', 'fosho', 'googoo', \"afuckin'gain\", 'jojo', 'eskiyor', 'üvegvitrinbe', 'consigo', 'playhigh', 'liscense', 'certamente', 'nací', 'fuckastripperontheminkrug', 'bitmedi', 'façade', 'keet', 'fufufucking', 'rayful', 'soundtrakk', 'explota', 'catriona', \"rams'\", 'exclimate', 'sosem', 'realised', 'overrespected', 'dadadababadabada', 'aks', 'افتاده', \"mm'\", 'tettem', 'seeeat', 'nadhouse', \"m'\", 'flushin', 'denaun', 'annonation', 'getirilmeyen', \"jayz's\", 'saveaho', '999my', 'rawls', 'gahhlee', 'yahhhh', 'ostatnim', \"'7\", 'lany', 'dundddundundddundun', 'labelle', 'глазах', 'там', 'aller', \"rcligion's\", 'veux', 'volver', 'crâner', 'fullclip', 'دارن', 'fakt', '감정을', 'jolie', \"chainsawin'\", 'fuckboy', 'briggite', 'yores', 'vienen', 'zolofts', 'beetz', 'doufám', 'sli', 'perd', 'freefall', \"askin'\", 'llewinsky', 'andale', \"humpin'\", 'chonkyfire', 'rott', 'whatcho', 'givin', 'stanibus', 'jhee', 'koji', 'еverybody', 'yüreyecek', 'bluzunun', 'potom', 'shabada', 'κοσμος', 'sve', 'madе', 'lastand', \"nappin'\", 'thischeck', '시간', \"commin'\", 'maradonna', 'akarom', 'robisz', 'bildiğin', 'flawlessladies', 'freeko', 'kenza', 'dreamgirl', 'youselfint', 'لێرە', 'этого', 'nevеr', 'naïve', 'τροπο', 'filas', 'meeeee', 'threadning', 'pensaré', 'tivation', 'rozhodnout', 'meah', 'sweepyhead', 'turnin', 'eby', 'ari', \"gotta'\", 'jamais', 'everythingjust', 'deformative', 'تلاش', 'ott', 'conoce', 'drezy', 'اونا', 'respuesta', 'yeahhey', 'stoneman', \"livin'\", 'mowti', \"openin'\", 'paixão', 'lipsyncing', 'منداڵە', 'leguizamo', 'hou', 'brah', 'suga', 'dankanter', 'barenaked', 'brige', 'cubba', 'buddybuddy', 'shshshow', 'seferden', 'higherups', 'masam', 'jazeera', 'kterýho', 'akikre', 'tonguesalright', 'starchild', 'ppick', \"detonatin'\", 'shotter', 'dadadum', \"weird's\", 'foxborough', 'upsee', 'abychom', 'ohnine', 'shinе', \"s'apprendre\", 'putash', \"maybachin'\", 'ná', 'jamma', 'sneezy', 'dukies', 'dique', 'ayay', \"'bach\", 'boynunu', 'milanoya', 'sajátjaidért', 'کەمانچە', 'bmg', 'skrrt', 'allfuck', 'mewhy', \"c'qu'elle\", 'molde', 'yayo', 'walkietalkies', 'cherrythongcom', 'deelishis', 'ići', 'né', 'uuuh', 'vágjak', 'pérignon', 'fivefinger', \"'finna\", 'آنال', 'نماند', 'jamesem', 'nevermind', 'watchu', 'bizzles', 'puba', \"zonin'\", 'majd', 'penisi', 'enchantée', 'winless', 'kandi', 'nz', 'trapaholics', 'gurl', 'hadnt', 'neosporin', 'thirstay', \"llet's\", 'ją', 'onların', 'seriesshow', 'کردنه', 'bool', 'بیت', 'drinkawineand', 'felgyulladok', 'backstory', \"seeing'\", 'vothe', \"gamblin'\", 'demandé', '6yearold', 'manoeuvre', \"hailie's\", 'nuhuh', 'csapkodsz', 'fogtam', 'rosai', \"ooh's\", 'telo', 'دی', 'mag', \"skewin'\", 'dugarees', 'loudy', 'buzzarre', 'caddal', 'nos', 'pornstar', \"'slut'\", 'donde', 'mada', 'confuso', 'gratiot', 'gq', 'لاین', 'optimus', 'rockstarrockstarrockstarrockstarrockstarrockstar', 'woawoah', 'duckuh', 'ke', 'eles', 'estated', 'nananananana', 'goed', 'enviaré', 'lastplace', 'thirtythree', 'ayeayeaye', 'everythingeverything', \"eyebrowraisin'\", \"apologizin'\", \"yearfuckin'\", 'selfmade', 'ebts', 'fivi', 'acrossed', 'oneah', 'itthen', 'εμεις', \"anna's\", 'ρυθμο', 'countertop', \"d'attendre\", 'rih', 'večeras', 'bizarres', 'goatgreatest', \"wan'\", 'ziele', 'mixtape', 'یازده', \"'taba\", 'képeidet', 'yeahah', 'pnd', 'gunnin', 'jers', '大概這點心意', 'creamofthecrop', 'fullon', \"l'un\", 'reformě', 'zack', 'oooohhoooo', 'cède', 'spottieottiedopaliscious', 'sista', \"escape'in\", 'extravagantní', 'گۆڕا', \"'cau'cau'cause\", 'küfler', 'slipslide', 'runz', \"hun'\", 'orospunun', 'ohsotrue', 'bribribring', 'нельзя', 'haaah', 'colour', 'dropsradio', \"prayin'\", 'jae', 'desafío', \"perk'd\", 'pipin', 'thousandaires', 'brung', 'زیان', 'isss', 'parçaladım', '0inch', 'chikachikachika', \"'sleep\", 'weewee', 'preocupo', 'devant', 'sclass', 'almaz', 'گان', 'pockon', 'της', 'oíche', 'grrratatatata', 'marvellous', 'hgkmo', 'alle', \"'said\", 'threeyear', 'chinky', 'όταν', 'staters', 'dwele', \"skank's\", 'gülüşmeler', 'dobkin', 'dolar', 'dadadumdumdum', \"squealin'\", 'فروش', 'mhm', \"optionfailure's\", 'anns', \"'iatch\", 'benzs', 'motohead', 'gp', \"n'sync\", 'thwizy', 'exboyfriend', 'ifif', 'jordache', 'moto', \"publishin'\", 'balvin', 'shadymania', 'toney', 'behati', 'yeaaaah', 'huhuh', 'breakdowndrop', 'hemos', 'bellarang', 'saltando', 'maseratis', 'fufuck', 'overthink', 'tipsed', 'üzereyim', 'brea', 'probar', 'daoheyoheyohey', 'selfempower', 'weighin', 'armhennessy', 'czują', 'aahooh', 'تورو', 'vvss', 'cuanto', 'oohhoo', 'protegé', 'kardinall', \"mcs'll\", 'sajak', 'boş', 'zonin', 'daoibh', 'oluyorsun', \"cluckin'\", 'adel', 'levez', 'rra', 'hithithit', 'mizzy', 'poohie', 'nipsey', 'frette', 'highgrade', 'mayne', 'droughtpart', 'στους', 'teşekkür', 'ibneler', 'ferg', 'kommt', 'deshaun', 'disist', 'drugfueled', 'reloadedloaded', 'ballerini', 'popeyes', \"ggg's\", 'visine', 'supa', \"barbie's\", 'rrroll', 'chu', 'kızdırıyor', 'söylemiş', 'καθως', 'broadshouldered', 'deneyimleyemedin', 'stórín', 'skrillę', 'fofours', 'whacamole', 'hydrocodone', 'fasz', 'rells', 'uncrackable', 'eyalette', \"grindin'\", 'mueve', 'cabello', 'xy', 'hayatıma', 'dickriding', 'ambalajı', 'fuckbutter', 'sеcret', 'kapalı', 'sobre', 'encantan', 'starships', 'yeeaaaaahhhh', 'steph', \"hoein'\", 'walki', 'screaam', 'pourquoi', \"'au\", 'karlie', 'analyse', 'klonopin', 'playdate', 'száma', 'fbg', 'beastmode', \"complicatin'\", \"wastin'\", 'ohhoh', \"wiggin'\", '討厭那快感', \"'88\", \"open'\", \"playa'\", 'subie', 'mickeyds', 'bullcrap', 'bcther', 'uniaway', 'şekerleme', \"poisonin'\", 'sicky', 'всех', 'havenot', \"fresh'd\", \"piercin'\", 'bfat', 'sugarboo', 'speakin', 'کسی', \"dyingit's\", \"ramblin'\", 'shanell', 'onlarla', 'felder', \"snoozin'\", 'jadakiss', 'yearolds', \"comin'\", \"m'arrêter\", 'dev', \"y'alls\", 'nasdaq', \"c4in'\", 'sha', 'zolanski', 'thembi', 'jj', 'degular', 'barbarachic', \"d'essayer\", 'meksa', '看著他們倒下來', 'sephora', 'μεσα', 'posso', 'verkaufen', 'brongers', 'fantasticoh', 'loc', 'پێکەنین', \"'otuto\", 'moda', \"'swiss\", 'eds', 'κοιτας', 'smking', 'asia008', 'просто', 'asuntos', 'jeebies', 'dms', 'а', 'andandand', \"o'pry\", 'ruoy', 'twothirty', 'ανάμεσα', 'خدا', 'lovy', 'gesichter', \"vacationin'\", \"ricochetin'\", 'beckton', \"ducin'\", 'caiga', 'σκιμένο', 'rodrigues', \"any's\", 'dışarı', 'میزان', 'yapar', 'cherrycherrycherry', 'umbreller', 'nononobody', 'handedly', 'deepfried', 'lawdy', 'puuuh', 'drunkanese', \"marijuan'\", '0s', 'bifteği', 'olanın', 'yg', 'youngen', 'bathingroom', 'puntuale', 'blackbear', 'pretapes', 'twoliter', 'puissante', 'moetter', 'заткнись', 'gfunk', 'ignorování', 'üresen', \"wanted's\", \"l'eggo\", 'knowi', \"carryin'\", 'microchipped', 'uninow', 'unsere', 'sed', 'şişme', 'int', 'süngü', 'اینجوری', 'marky', 'sucka', 'μόνο', \"d'amato\", 'woohoohoo', 'amcur', \"fakin'\", 'dinklage', 'vuelvas', 'napa', 'heartshaped', 'scower', 'mazel', 'franky', 'zorgen', 'keds', \"strangers'\", 'oglądam', 'outofdate', \"to's\", 'cuida', 'neumann', 'jamás', 'wwwait', 'پێشوتر', 'northsouth', 'duhnuhmuhnuh', \"runnin'\", 'spen', 'outhustle', 'aristo', 'thisa', \"slimi'm\", 'neighbours', 'mýa', \"replayin'\", \"celebratin'\", 'shitthat', 'dickless', 'sixpoint', 'brrrrat', 'uhhhhhhhh', 'hachu', 'towa', 'αναμνήσεις', 'murcielago', 'looloo', 'm6', 'boyboys', 'dvd', 'nija', 'looove', \"drummin'\", 'stiched', 'henny', \"stingin'\", 'reír', \"critics'll\", 'easе', 'escribirle', 'allwhite', 'blaq', 'formalde', 'ricch', \"kamp's\", 'harderall', 'herpen', 'voodonnana', 'todos', 'commin', 'frogg', 'ludacris', 'fari', 'rhab', \"muhfuckin'\", 'heyo', 'drgs', 'tumblr', 'causa', \"dirtyin'\", 'oohwhoa', 'chtěl', 'نکن', 'serseriyi', 'dakle', 'lexapro', 'głową', 'bbblundering', 'kamikamikaze', 'blinkedsold', 'laine', 'dremgirls', \"tradin'\", 'lanco', 'normani', 'cyattie', 'ψίθυρο', 'chicachicachicachicachicachicachica', 'uturns', 'atinlay', 'rell', 'headtop', \"wifi's\", \"not've\", 'havada', 'edecek', 'hxlland', 'tele', 'escucha', 'rozay', 'światy', 'şirketindeki', 'zor', 'moja', 'ohohohoohooh', 'offyour', 'tonka', 'somos', \"n'étais\", 'dokud', 'judaas', 'lì', 'çıkıyorum', 'f50', 'viaggi', 'itwit', 'stamby', 'frass', 'loveee', \"purchasin'\", 'بمونن', 'احیا', 'saybihdihbih', 'ooohhhh', 'vacseal', \"mc's\", 'toujours', 'onegreat', 'ssame', 'jayz', 'mylę', 'ouais', 'cirkel', 'nacht', 'sshh', 'söyledim', 'افزایش', 'cddo', \"wavin'\", \"ravin'\", \"anticipatin'\", 'dorag', 'fantasise', 'sixinch', 'ezeket', 'snowflow', 'ak47', 'ehehaheh', 'cobrando', 'thumper', \"semi'll\", 'ohiohiohiohi', 'alay', 'fuckyou', \"care'n\", 'salonunda', 'wansel', 'sayohohoh', \"writtin'\", 'salla', 'svýho', 'prizm', 'brrt', 'fuckoffs', 'eşleşemediğin', 'adunanane', 'babyalchemist', 'bakin', '已種在我身上', 'ovoxo', 'mothafucking', \"still''\", \"recruitin'\", 'mintha', 'blitzen', 'nevében', 'doobies', 'ona', 'sundayim', 'dooby', 'trí', 'ئەوە', 'herro', '너와', 'auditionin', 'tekken', 'flesheating', 'kocsikat', \"easin'\", 'своих', 'oscuro', 'swingset', 'gabana', 'clampett', 'chigachiggachigchigjerchigjer', 'oynamalıyım', 'pitbull', 'liddift', 'imaj', 'ohoohooahhahh', 'preciso', 'spraycan', \"totin'\", 'gravitys', 'xyz688', 'blowoo', \"dj's\", 'oasises', \"unitin'\", 'notnice', 'dalje', 'dxpe', 'billboardcom', 'jme', 'elárulta', 'juelz', 'tintzo', 'rrrah', 'söylüyorum', 'szóba', 'dropspublic', \"cottonpickin'\", 'kasları', 'gracias', 'eightyearold', 'هیجان', 'berryman', 'convo', 'cvs', 'fuair', 'neverwas', 'خوبه', 'düşündüğünü', \"trippin'\", 'precoro', 'kurupt', \"asswhippin'\", 'lloré', '5k', 'chillin', 'minithin', 'گۆرانیەکانم', 'rayray', 'devs', 'olmam', \"ppprocessin'\", 'nincs', 'poopoo', \"consolin'\", 'semua', 'nout', 'seye', \"menacin'\", 'pippen', 'hoilday', 'chaka', 'aerospit', 'asssssss', 'webstar', 'brbrbreak', 'dripdripdripped', \"bringin'\", 'criedgod', 'atan', 'نمیتونستم', 'reh', \"carvin'\", 'derty', \"kuniva's\", 'kkk', 'mavado', 'matress', 'oxygenother', 'mazi', 'gabbanibani', \"m'auras\", 'mindannyian', 'uyandım', 'backnasagoodnight', 'runn', 'sampha', 'última', 'tendresse', 'labios', 'dingen', 'yeaheheh', 'softlyso', \"forgivin'\", 'lameo', 'eevery', 'multianother', 'teisha', \"'06\", 'kudrow', 'hagytál', 'bbbang', 'marbury', 'outok', 'whateva', \"suttin'\", 'yeahyeahyeahyeah', \"daydreamin'\", 'خودم', 'escada', 'headturning', 'любому', 'daj', 'timeبهترین', 'نەخێر', \"dt's\", 'maddas', 'damngive', 'razu', \"handin'\", 'زیاترم', 'badonkadonk', 'leizure', 'aventadors', 'roskilde', 'woooooo', \"wrappin'\", 'berret', 'btch', \"groundbreakin'\", 'acti', \"cavin'\", 'dicksucking', 'sota', 'ateeasily', 'goyer', 'tatort', 'raptopaythebills', 'mata', \"flippin'\", 'دانلدترایوونو', 'tanıyorum', 'tripp', 'menerima', 'sealey', \"trowin'\", 'kkind', 'berman', 'pinscher', 'chchchcherries', 'wetty', 'larararilarara', 'conversating', 'anybodys', 'bootalk', 'eam', \"clubbin'\", 'playdoh', 'fitbit', 'gotdam', 'mente', 'cmb', 'bekliyor', 'θα', 'tient', \"nothavin'it\", 'milli', 'strongarm', '6foot', 'tranq', 'bogues', \"happy's\", \"tutt'altro\", 'پوستا', 'lacroix', 'thatibe', \"expandin'\", 'vinylz', \"owners'\", 'griffey', 'yadadadadadada', 'acción', \"bimmer's\", 'všechny', 'restent', 'teasin', 'demitour', 'seau', 'wonderin', 'doodoodooroo', \"guessin'\", 'builtin', 'nicknicknamed', 'cuatro', 'gnote', 'leales', 'causin', 'gottafind', 'mtown', 'facíl', 'glizzy', 'manix', '40s', 'ichat', \"hijackin'\", 'palavras', 'fortyfive', 'niebo', 'prehook', 'hydroxycut', 'radši', \"'dreena\", 'teacht', 'usain', 'gibsons', 'purplepink', 'κατω', 'nightnight', \"backstabbin'ass\", 'doney', 'lali', 'sargeant', '最恨世上', 'fredro', 'budowałeś', 'kendji', 'bboom', 'là', 'seré', 'woosh', 'musique', 'pegg', 'ri', 'fantôme', 'tekashi', \"wit'\", 'dmc', 'también', 'opovrhování', 'crеdit', 'flatlines', 'nemo', 'benben', 'td', 'facetime', 'twentyfive', \"youngin'\", 'ronaldinho', 'érzünk', 'finsta', 'کاتێک', 'repsup', 'wọnú', 'wadlibs', \"mayweather's\", 'ticktickticktickticktick', \"drinking's\", 'çivili', 'üzücü', 'laquifa', 'próbáltam', 'swingin', 'اروپا', 'seh', 'forgivenessext', \"unravelin'\", 'ronto', '7am', 'مسئولیت', 'redbone', \"'spital\", 'beißen', \"outweighin'\", \"me'\", 'روزگار', 'thugga', 'joell', \"pipipickin'\", 'έχουμε', 'هاندەران', 'prolude', 'tahhdum', 'sidebyside', 'pesci', 'kell', 'evi', 'encontrarme', 'decalp', 'nowhow', 'korkuyor', 'meech', 'blinging', 'delle', 'joc', 'superill', 'من', 'bе', 'yaparken', 'capiche', 'dierdorf', 'themsome', 'indictive', 'deo', 'comprar', 'alıcam', '把我推向那雙如海洋般藍色的眼', 'dmv', 'kes', 'rád', \"considerin'\", \"rem'\", 'ciągu', \"forgettin'\", \"act'\", \"mic'\", 'eiht', 'bebeğim', \"nigga's\", \"dead'em\", 'لەگەڵ', 'pensylavania', \"mackin'\", 'tightadd', 'sueltes', 'vrrunn', 'offensed', 'frego', 'raah', \"concernin'\", 'youbut', 'cyar', 'vandross', \"emceein'\", 'hayley', 'stushing', 'uhuhuhoh', 'gidip', 'это', 'vardı', 'uhuhuhuhuhuh', 'frutas', 'hardboiled', 'stata', \"'oversharing'\", 'haffi', \"lives'\", 'familia', 'فیوچر', \"reachin'\", 'whatifs', 'controlla', 'dnia', 'sebep', 'hned', \"''hey\", \"never'd\", 'fivehour', 'فهمیده', 'db40', \"mcs'\", 'çılgın', 'calp', 'lovelolove', 'dodiruješ', 'nightmareanyone', 'burna', 'thc', 'idéaux', 'ramieniu', 'lockdown', 'deangelo', 'swinefest', 'lauryn', 'nineinch', 'rso', 'vururum', 'dizlerini', \"snowin'\", 'neeky', 'craaaazy', 'doody', 'notalent', 'deez', 'lbs', 'καθε', 'valahogy', 'hlas', \"quittin'\", 'možemo', 'todrick', 'sabes', 'ضرر', 'hothothot', 'uhaul', 'وحشتناکی', 'creías', 'unholstered', 'melee', \"better'\", 'kangol', 'howevermanyiputonhere', 'swanepoel', 'هەمان', 'soflo', 'yisrael', 'fudgepackers', 'ئەوان', 'calaphawar', \"koppin'\", 'bloodclot', 'jsem', 'porshe', 'beatbreak', 'bio', 'şişe', 'jalapeno', 'troppo', 'situ', \"nando's\", 'comicbook', 'assholeee', 'photoshopped', 'cruella', 'çalış', \"satan'll\", 'mamine', 'kanye', 'sprzedaję', 'çift', \"d'espace\", 'fightweight', 'identidad', \"cleansin'\", 'твоя', 'milltown', 'auch', 'zmieniła', 'verted', \"somefuckin'one\", \"y'allyea\", 'deh', 'nyafogok', 'فراموش', \"spellin'\", \"mc'd\", 'phonephone', 'inglés', 'gigigiving', 'cinderfella', \"slicin'\", 'melle', 'napon', 'miliony', 'puttin', 'کز', 'hadouken', 'alloffensiveonpurpose', 'rapbot', 'jammie', 'nuh', '서만', \"searchin'\", 'سطل', 'catastrophy', \"spazzin'\", \"'95\", '抑えられない衝動', 'nationwidethats', 'dussé', \"exgirlfriend's\", 'taz', 'mawingu', 'konshens', 'kökledim', 'aaint', 'armandleg', 'szacunku', 'ikinci', 'prix', 'فارسی', 'kissy', 'tomo', 'lorde', 'overcomplicate', \"pigs'll\", 'drycleaned', \"gassin'\", 'dissledin', 'blahblahblahblah', 'gucc', 'nanana', 'gggunit', \"aficia'o\", 'youngass', 'laughin', 'buring', \"overflowin'\", 'nepřijdu', 'lewinksy', 'cuestión', 'chequier', 'چوونکە', 'fergoob', 'headshot', 'relievedmy', \"muthafuckin'\", 'dawgs', \"ma'fucker\", 'applegate', 'خستە', 'whwhen', 'unutmadan', 'kiera', 'telefonda', \"prob'\", 'las', 'reformationext', 'ゴージャスな美貌で', 'ڕەشەبادا', 'nenenever', 'εχουμε', 'sikerler', 'dio', 'vez', 'lenox', 'cyaan', 'οποιο', 'slo', 'vado', 'pleno', \"functionin'\", 'swizzy', 'bırakacaksın', \"tell'em\", 'پێشووم', 'baretta', 'yesso', 'gstring', 'bagaimana', \"textin'\", 'lukey', 'shenseea', 'maxell', 'quickthis', 'hickorydickorydock', 'قرار', \"mcdonalds's\", 'πράγμα', 'lloraré', 'amityville', 'reprendre', 'breezin', 'diriku', \"'focus\", 'así', 'skirtchasing', 'offcool', 'veo', 'fordeverlast', 'اینو', 'errores', 'sooo', 'yorkville', 'eyore', \"approachin'\", 'mranticipation', 'επουλώσει', 'killest', '我未能拋得開痛著醉倒', 'kissé', 'bottomleft', 'lebron', 'dropsfuck', 'llorar', 'hort', 'whyy', 'bassy', \"fistin'\", \"obsessin'\", 'nananana', 'ignoras', \"shootin'\", 'phillies', \"blazin'\", 'snowpants', 'mégane', 'itt', 'řečeno', 'gsxr', 'njomza', 'dadadaay', 'tongueincheekness', 'segal', \"palmin'\", \"'fine\", 'toda', 'herbo', 'badbitch', 'tturn', 'jizo', \"'hand\", 'kaosa', 'dadadadadadadadadadadadada', 'pissedofferson', \"wild'n\", 'твоих', \"stabbin'\", 'wayayayay', 'showohohoh', 'fourfifth', 'steadyspeakin', 'knowowow', 'sokakta', 'czuję', 'demonen', 'xcx', 'trasparenti', 'offence', 'لوگو', 'pervasızca', 'johb', 'أبي', 'chitown', 'arkadaşım', 'بڕۆین', 'derpa', 'kourtney', 'пиздах', 'laaaa', 'lehetett', 'ese', 'niedyskrecje', 'goodnplenty', 'mamamamanicure', 'هاها', 'partie', 'mencair', 'bbbbbitch', \"b'day\", \"tell'\", 'batata', 'delala', 'finca', 'egal', 'alfie', 'dreamin', 'keeyaga', 'pleasе', 'paso', 'fourteenday', 'formationuptown', 'timmins', 'tenyearold', 'entendido', \"draggin'\", \"waterin'\", 'cafe', 'homme', 'guarda', 's550', 'basementhow', 'voit', 'krazy', 'countryand', 'weve', \"slim's\", 'gunz', 'ccaught', 'intubated', 'eightysome', 'gören', \"jazzy's\", 'unabomb', 'kształtu', 'viele', 'poutine', 'başlamak', 'کەڕ', 'whwhwhat', 'بدرد', 'oğlanlara', 'déjàvu', \"swervin'\", \"'scuse\", 'zanottis', 'oneofone', 'pperfect', 'عادت', \"riker's\", 'yaad', 'stefflon', 'válku', 'olur', 'πραγματι', \"yodellin'\", 'postoji', 'nananananananananananana', \"'quille\", 'kindergartner', 'oooooooooo', 'tec9', 'روشونو', 'hardons', 'croke', 'seru', \"developin'\", 'whoagiuseppe', 'mmmurda', 'headress', 'lau', 'creación', 'rininse', \"explodin'\", \"jockin'\", 'llegar', 'سوم', 'داگ', 'monsé', 'huggin', 'jetset', 'foxxy', 'ماوەی', 'fiz', 'sherane', 'gdy', 'flickflick', 'littles', 'soundz', 'sketel', \"pon'\", 'cyfer', 'dej', 'duhduhduh', 'daaamn', 'soandso', 'plán', 'unimust', 'haddaway', \"'em\", 'mengenalku', 'exmen', 'katona', 'luđa', \"'so\", 'mmhmmh', 'zagraj', 'kpaka', 'selfassured', 'máme', 'escapar', 'fortyday', 'nnnonstop', 'metta', 'coldhearted', 'eyetoeye', 'nonalbum', 'ölen', 'οι', \"l'dise\", 'whatchya', 'shadyaftermath', 'whatchu', 'liomsa', 'губы', 'metell', 'پخش', 'دەفرم', 'tnaw', 'chechechechecherry', 'doble', 'czasu', 'fastpaced', 'vaaaaaaliummmm', 'οδο', 'dostává', 'chun', \"alize'in\", 'göster', 'обгоняю', 'ummmmm', 'yeni', 'loverlover', 'ellerini', '없어', 'cocksuckas', 'wnew', 'virgina', 'huhuhuh', 'respirar', 'diy', 'sickamore', 'couldnt', 'sentir', '富士山芸者も脱帽', 'starszy', 'cj', 'mejust', 'bajan', 'ghandi', 'dollas', 'preverse', 'wykwintnymi', 'hawiti', 'میکنه', 'gunit', 'muthafuckas', 'doublecrossed', 'tiksinç', 'surviing', 'bitchslap', 'ceilin', 'bouteilles', 'colouring', 'dziesiątki', 'tackyana', 'wich', '4carat', 'блть', 'nifler', \"repentin'\", 'yapıyorum', 'arama', 'kerwin', 'ggg', 'taser', 'chacha', 'mellettem', 'danana', 'neeba', 'cœur', 'receiptsthe', 'balalalalalalalalalala', 'bana', 'secondfloor', 'спиною', 'iba', 'gunline', 'ooohh', 'στιγμές', 'cancion', 'ajr', 'seni', 'puth', 'itand', 'camo', 'pullin', \"masturbatin'\", 'ساتێ', 'whitehaven', 'thickle', \"emptyin'\", 'halfnaked', 'morningand', 'hurn', \"carin'\", 'parle', \"wylin'\", 'pokеd', \"slippin'\", 'chanté', 'konuşurken', 'hahahahahahahahahahaha', 'wantwantwantwant', 'خفن', 'llena', \"cuero'\", 'ninetysome', 'قەحبە', 'aime', 'napaljenija', 'luego', 'akik', 'tihs', 'deams', 'bumpandgrind', 'ειναι', '거부할', 'noila', \"tweetin'\", 'cartunes', 'theo', 'makeawish', '4d', 'nienawidzę', 'megírva', 'kylie', \"clinkin'\", \"muh'fuckin'\", 'sharapova', 'pippitykakapoopoo', 'alade', 'vereceğim', 'بهت', 'primadonna', 'دەستپێکە', 'noseplugs', 'ftype', 'highbury', 'potblood', \"givin'\", 'ehhişteydi', 'косметика', 'trife', 'heebie', 'thatsweepstakes', 'putas', 'bidibombidibombidibay', 'braku', 'micaiah', 'eenie', 'flingy', 'amiket', \"wayne'\", 'hagyva', 'bleh', 'itfs', 'youry', 'shagshagged', 'hiho', \"nic'\", \"chartin'\", 'beyes', 'この国の宝と並ぶほど', 'ccup', 'thirstin', 'saydırıyorum', 'پچووک', 'блестит', 'perdeyi', 'tiedso', 'نامت', 'dejarme', 'areba', 'formationclick', 'każdej', 'από', \"breit'\", 'cavalli', 'puedes', 'supersiize', 'эдика', 'курю', 'samo', 'bassline', 'döndüm', \"wе're\", 'hepsini', 'mylanta', 'ayyuh', 'dropshit', \"don'tchu\", 'باشی', 'مەبەستم', 'buel', 'حسی', 'حرکت', 'haaaaaaaaa', 'johny', 'برگردوند', 'atlamayı', \"buyin'\", 'میدن', 'acura', 'nword', 'حست', 'arent', 'jеzelf', 'favourites', 'joes', 'volna', 'şovu', 'los', \"defyin'\", 'ağzına', \"abusin'\", 'nani', \"dtwizzy's\", 'nokicked', 'ضربه', 'aaaghh', 'برینم', 'hastalık', 'tayshaun', 'ciegamente', 'supplya', 'eldredge', 'obe', 'quitate', 'louhove', 'bloodpop', 'ohow', 'mmanyway', 'haim', \"keepa'\", 'suficiente', 'regine', 'sociali', 'bestest', 'supiste', 'muerte', 'jahač', 'hilson', 'dadadoe', 'makaveli', 'doremi', 'synclaire', 'bavili', 'succeedceedceed', 'wassup', 'voulait', 'decisión', 'ahhhaaa', 'ooover', 'jumpshot', 'ochocinco', 'letartoztattak', 'poleruję', 'chainz', 'olman', \"cacacan't\", 'pepto', 'uğaraşmak', 'ver', 'spokenword', \"sneakin'\", 'mtv', 'karim', 'karrine', 'кликклик', \"chokin'\", 'dets', 'domhan', 'doomalumma', 'fbi', 'pizzaria', 'waaant', 'sortes', 'mp', \"swappin'\", 'mulah', 'drinkin', 'taşşak', 'almam', \"mi'\", 'fuego', 'sıçıyorum', 'nubes', 'ocupada', 'dulce', 'shidit', 'mcrried', 'bomaye', 'rheoon', 'haahah', 'phlean', \"quotin'\", 'eeelliott', 'nyári', 'mert', 'dois', 'panamera', \"ohnowthat'sjustridiculous\", 'dělá', 'divorceses', 'bxxre', \"'fo'\", 'yerde', 'burrrrat', 'olayda', 'ní', \"swerveswervin'\", 'koştum', 'tstreets', 'navaliti', 'nottz', 'nenja', 'mmh', \"tramp'll\", \"percoce's\", 'repping', 'ateam', 'sssshockshockwaves', 'evеry', 'gabi', 'همون', 'قبلا', 'betterum', 'motherf', \"mornin'\", 'babadum', 'hooome', \"l'étrangle\", 'preggo', 'дима', 'jocked', \"deservin'\", 'estoy', 'rasismus', \"ecstasyit's\", 'stayho', 'pingpong', 'llévamelo', 'upgive', 'sabroso', 'cahahan', 'jeopardation', 'fourdoor', 'zooted', 'thrownout', \"'aight\", 'hágase', 'uguale', 'uckin', 'champa', \"ari's\", 'axel', \"instru's\", 'uhum', 'rainass', 'singles988', 'هارو', 'yarma', 'boilin', 'mmmmia', 'rightlike', 'sıçan', 'amg', \"observin'\", 'چیبدم', \"mobbin'\", 'hands56', 'chicka', 'سەدا', 'attackin', \"rov'\", 'padii', 'bloodthirst', 'zuboomboom', 'rivières', 'özgüvenini', 'milano', 'bulduğumdan', 'shaquille', 'jawdropping', 'leeyar', 'openair', 'twista', 'pleadin', 'ttouch', 'ekko', 'outsiderz', 'verme', 'waa', 'dweet', 'φωτογραφία', \"i'mma'\", 'bby', \"tyga's\", \"overreactin'\", 'bandz', 'darkdarkdarkdark', 'topselling', 'twoinch', 'voz', 'lcving', \"'79\", 'blcst', 'spriing', \"qu'à\", \"cruisin'\", 'olsun', 'twojuly', \"cadilac's\", \"frontearle'\", 'pont', 'kažeš', 'rumpleteazer', \"'nd\", 'millwall', 'donnez', 'fasolatida', 'flix', 'riiider', 'seeeeeeeeee', 'baw', 'ecoute', 'scooby', 'ohhhhhhh', 'bеnt', 'für', 'öldürürüm', 'kérdezik', 'pyd', 'photog', 'çeneni', \"boolin'\", 'jimi', 'mijn', 'poignets', 'ballinger', \"fella's\", 'mercedesbenz', 'milds', 'kyoko', 'suis', 'emo', \"dancin'\", 'pensiez', 'brotha', \"climbin'\", \"sewin'\", 'crossbody', 'camoly', 'primera', 'twoje', 'missta', 'garbageass', 'twonovember', 'loservictim', 'bootay', 'kanarken', 'minch', 'topuh', 'freiheit', 'youd', 'برعکس', 'estações', 'spratek', 'bombbombs', 'dddddollardollar', 'tadas', 'tous', 'smokecooked', \"strugglin'\", 'düştüğü', \"promoters'll\", 'találniuk', 'gcrl', 'lambo', \"drippin'\", 'companyquite', \"d'argent\", 'میخورممردرپر', 'genasis', 'skys', 'nou', 'komodo', 'пол', 'sndoubleop', 'asslicks', 'rozciąga', 'cortó', 'ctv', 'знаешь', 'das', \"bent'\", 'annak', 'culd', 'factz', 'brrrbrrr', 'babada', 'highgate', \"strokin'\", 'meateating', 'netnetnet', 'chesimard', \"'guilty\", 'yi', 'дарю', \"'yoncé\", \"choppin'\", 'psychologic', 'loosey', 'quedas', 'yeahsound', 'alealejandrx', 'gelo', 'oohwee', 'youn', 'hacerte', 'fidinger', 'bersyukur', 'بودی', 'از', 'doin', \"8am's\", 'haaaaaaaa', 'gaohah', \"j'avais\", 'marlbcro', 'hayır', 'thisss', 'atcha', 'paxil', 'importa', 'aint', '009we', 'parmakları', 'اره', 'phrephresh', 'outsidaz', 'everynight', \"wanna'\", 'deaky', 'сделал', 'خەڵاتەکانم', 'rihannakah', \"sawin'\", 'hejterzy', 'pořádných', 'soso', 'benzetta', '보지만', \"sneezin'\", 'rrrrrchkitchkitguess', \"anyit's\", 'rire', 'feens', \"'bis\", 'mmmmmmmmm', 'chromazz', 'pput', 'mungojerrie', 'motola', 'fadedfaded', 'lllook', 'lll', 'rocinante', 'garrix', 'winehouse', \"drivin'\", 'baybababy', 'stuntin', 'llegué', 'allez', \"amigo'\", \"goofin'\", 'mba', 'looooove', 'everglow', 'whathype', 'twój', 'slurr', 'ο', 'basta', 'بەردەوامبین', 'پیجمترجمطاها', 'ymca', '넌', \"cherryi'm\", 'abu', \"''cause\", 'çim', 'skrip', 'rrun', 'horseses', 'sundried', 'fiúnak', 'imaginé', 'bundy', \"bbustin'\", 'gajas', \"rent'\", 'اسنوپ', 'wróciło', \"flockin'\", 'nextselection', 'скинь', 'cutiful', 'топ', \"gazin'\", \"war'n\", 'maree', 'διπλα', 'heybottle', 'چو', 'forreal', 'pickerin', 'захочу', \"t'intéresses\", 'herhangi', 'bangable', 'sperial', 'hanes', 'sabía', 'kudsi', \"providin'\", 'thirteenyearolds', 'tenton', 'assfucking', 'mau', 'donjae', 'der', \"everythin'\", 'blocka', 'intentas', '000s', 'fruto', 'midjuly', 'دستکش', 'sil', 'cowriter', \"costin'\", 'coughin', 'nasıl', 'overcorrecting', 'بعضی', 'ishing', 'buh', 'maintanin', 'sammeln', 'gwyneth', 'rythm', 'rcve', \"mu'fuckas\", 'wdrake', 'screenshotted', \"leapin'\", 'lerden', 'teo', 'oynamaya', 'krueger', 'başaramayacak', 'oooff', 'overdddose', \"daddy'll\", 'lapd', 'bizzare', 'badadadadadadadada', 'μέσα', 'wineo', 'mentre', 'bbbut', 'il', 'détendre', 'blowback', 'iriscience', 'wacker', 'gorzko', 'efx', 'hollerin', 'goooo', 'elzhi', \"jabbin'\", 'poupon', 'skywalker', 'fn', 'manyeah', 'لی', \"nigga'\", 'mucho', \"outstandin'\", 'woahwoah', 'tubetop', 'carti', 'twentyfour', \"teamin'\", 'bibitches', 'bailando', 'enfoncer', 'ck', 'oturup', 'üç', 'γυρίσα', \"muh'fuckers\", 'redtinting', 'yeaah', 'lolololololo', 'iisland', 'stato', \"mic's\", 'ras', 'fuelband', 'citi', 'استعداد', 'botox', 'κάνει', 'backroads', 'familiarlooking', \"'magic\", 'olyanokat', \"cccravin'\", 'uhdj', 'jatuh', 'ساله', 'everymotherfuckingbody', 'truely', 'llamaba', \"youthoughti'dcry\", 'walkthrough', 'bandaids', 'longside', 'bizim', 'putaash', 'kloss', 'свой', \"dottin'\", 'ışıkla', 'ceiline', \"choochoo's\", 'toastin', 'ahhahaowww', \"rari'\", 'hihat', 'estás', 'anlaşmalı', \"naggin'\", 'snakeonly', 'whowhat', \"flow'll\", 'chiminey', 'mewhich', 'yarın', 'prenup', 'jxmmi', '009present', 'aw', 'لەم', \"entramo'\", 'veriyor', 'بەرزترین', 'carheartless', 'postions', 'lui', 'cornbreads', 'onları', 'striptopaythebills', '沉睡在靈柩裡', 'wah', 'niż', 'čáru', 'ohhohh', 'unmoored', 'پانچ', 'aightuhslim', 'infierno', 'ama', 'soleil', 'donehere', 'wristwear', 'herehereherehere', 'gini', 'alejandrxooh', 'plap', 'dmx', \"parasailin'\", 'یان', 'repeller', 'dibujarte', \"'you\", 'tehát', 'roxx', 'arde', 'pbbt', 'exheroin', 'deala', \"skatin'\", 'offthehook', 'satışları', 'dooski', 'kesinlikle', 'niko', 'temblando', \"lobbyin'\", 'quavo', \"careerin'\", \"mindin'\", 'ooooooooh', 'loyalität', 'chantal', \"pimpin'\", 'هام', 'αναμεσα', 'boyz', 'mansoni', 'aspinning', 'giderken', \"rantin'\", 'muitas', 'mitzubeeshy', 'tamposi', 'sto', 'seeandsay', 'andreja', 'g4s', 'mikky', 'τζιν', 'trillionwatt', 'dla', 'karan', 'hollowman', 'killa', 'scissorleg', 'healin', 'roowsie', 'στιγμες', 'wwwhen', 'dre', \"dippin'\", \"decomposin'\", \"revivin'\", 'alá', \"gram'\", \"borin'\", 'sheesh', 'jamil', 'fakest', 'mmade', \"'no'\", 'uishi', 'mądrzejszy', 'suelta', \"joggin'\", 'pictureperfect', 'olan', 'fufuture', 'tweety', 'tylko', \"hissin'\", 'piana', \"rewindin'\", 'dolezal', 'eeniemeeniemineymo', 'matic', 'nebojíme', 'muhfucka', 'pembe', 'natheniel', 'pourtant', 'fanbases', 'illmatic', 'pillies', 'ریشه', 'thatll', 'drogato', \"measurin'\", 'taciz', 'girlcleancut', 'ferigno', \"j'ressens\", 'checkless', \"dadlet's\", 'oooaa', 'mcing', 'fuckgive', 'thethethe', 'oszalejesz', 'simpatizar', 'corless', 'selfhating', 'beynini', 'bêtement', 'dostum', 'andrò', 'stromae', 'annemin', 'evel', 'adıma', 'forps', 'összehoztad', 'haaaby', 'wakanda', 'hardwell', 'hacer', 'jergens', 'shoulderstrap', \"stutterin'\", 'coacha', 'sweetnsour', 'ruthly', 'دەڕوانن', 'قورس', 'por', 'dwane', 'باشتربوو', \"bumpin'\", 'sigue', 'loveydovey', \"houndin'\", 'chappelle', \"dirtymotherfuckin'dozen\", 'رسیدم', 'igualar', 'bırakırım', 'pióra', \"william's\", 'sugarland', 'zobaczymy', 'masa', 'میاره', 'meglátom', 'nahmean', 'tablero', 'grammerin', 'vieh', 'piklz', 'starstudded', 'tez', 'нассу', 'flatts', 'cryinchristopher', 'capleton', 'jid', 'взлетаю', 'motherinlaws', 'دیگران', \"jabbin'christ\", 'وقتی', 'foxx', 'jungkook', 'laffût', 'elevatedcelebrated', 'alcoholistic', 'eğlenceliydi', 'rudeboy', 'twentyone', 'winans', 'baises', 'közel', 'umoriću', 'lecter', \"reactin'\", 'biggs', 'khryst', 'mcgrady', 'onehunnid', 'rayshard', 'rockrock', 'thizz', 'dere', \"washin'\", 'outpetty', 'plplastic', 'zannotti', \"tiffany's\", \"ali's\", \"fearin'\", 'rec', 'gösteriyi', 'grammer', 'filles', 'mantrapped', 'ventsit', 'fittin', 'shoutout', 'χτύπους', 'highfive', 'roddy', 'ohohover', 'suckas', 'likeyou', 'yachty', 'odda', '5s', 'miattad', 'obly', \"g'd\", 'x7', 'gl', 'vos', 'тебе', 'celine', 'asalaamalaikum', 'ayo', 'snl', 'byhrb', 'bipopulars', 'rzuciłbym', 'remixeminem', 'pasé', \"mami's\", 'idonotknowwhatthefuckyouthoughtitwas', 'survivin', 'dowhat', 'heheadshot', 'ohwhoahohoh', 'makonnen', \"beside's\", 'hmmhmm', 'klum', 'poppopping', 'kickass', 'sippy', 'rollup', 'mmmy', 'uninew', 'lelket', \"touchin'\", 'boneit', 'bilinguist', \"hailie'll\", 'aswe', 'dddddddddd', 'tylenols', 'chuckacord', 'audé', \"forecastin'\", 'prowings', 'ityup', 'depuis', 'legalább', 'binded', 'přesně', 'flyest', 'avi', 'adlib', 'üstünde', \"jackwho's\", 'dananadana', 'ringading', 'vanno', 'hehehehe', 'کلی', 'kxng', 'galliano', 'wouldas', '6am', 'yella', 'promisе', 'tickno', 'macadamian', 'fiiiight', 'tempestad', 'بڵاو', \"ev'rything\", 'gyűrűket', 'amazingmusic', 'dtwizzy', 'klid', 'shaha', 'lawsuitsfuck', \"satisfyin'\", 'prechrous', \"sweatin'\", 'gach', 'brrrrr', \"fillin'\", 'bokun', 'scrunchin', 'thirtyseater', 'upnorth', 'lítat', 'tmz', 'tipo', 'sceptical', 'winnin', 'بهتون', 'enko', 'backtoback', 'burrowеd', 'jellyana', 'развиваясь', \"wreckin'\", 'darabjaiból', 'faders', 'mendes', 'comprende', 'wasi', 'musím', 'woahwoahwoah', 'arie', 'welli', 'walliams', 'powiedzieć', 'وتراوە', 'quem', \"dyin'you\", 'raaaaaaggggedy', 'ɲi', 'álmaitokat', 'woohoo', 'recognise', 'ihn', 'rajtam', 'choochoo', 'hermione', \"anywaythat's\", 'cccome', 'voicemail', 'twobyfours', 'twostep', 'slugga', 'bih', 'alist', 'skylar', 'twentytwo', 'vrin', 'tj', 'meoh', 'melman', \"'xam\", 'toesies', 'sus', 'dehydratin', 'mothefucker', 'pretvaram', 'inboxes', 'fooding', 'loooohan', \"oj'den\", 'spiderman', 'frappe', 'ayaklarını', 'fefe', \"spashin'\", \"''your\", 'pimpin', 'herstory', 'maroney', 'muggsy', 'reeboks', 'yeeeeah', 'shesaid', 'liv', \"conditionin'\", 'hihighhihigh', 'еnd', 'poletotem', 'lumos', 'menjadi', 'allnew', 'unser', \"attemptin'\", 'csinálom', 'prend', 'meningen', 'thuga', 'teufel', 'trippy', 'brudda', 'cardio', 'mindmind', \"'cos\", 'twinsized', 'değilsin', \"pannin'\", 'muhfucking', 'pussys', 'mindig', 'solunum', 'scuola', 'reallife', \"crap'll\", 'bobbly', 'bredes', 'screensaver', 'soros', 'پاهامتعجب', 'blisko', 'kızım', 'clicquot', 'zur', 'varsovienne', 'ninehundredthousand', \"wantin'\", 'flyy', 'wannna', 'всю', 'میگم', \"manifestin'\", 'aan', \"convo's\", 'prometh', 'tiskit', 'unkiss', 'whipass', 'ogs', 'dadax', 'whyd', 'ببینم', 'nobodys', 'nicorette', 'oko', \"hatchin'\", 'afection', 'bdp', 'ακολουθησω', 'wishеs', 'hazmat', 'bhéalín', 'xl', \"what'd\", \"doin'\", 'taptap', 'jeanpaul', 'ahhah', 'víc', 'gyptian', 'nurofens', 'kapanış', 'cacher', 'fiveseater', 'fue', 'igpay', \"buzzin'\", 'agárrame', '49er', 'uberx', 'halfempty', 'micmicmicmicrophone', \"bloodshould've\", 'giorgio', 'hunnit', 'جای', 'didee', \"wondering'\", 'furiosa', \"fahr'n\", 'op', \"o'donnell's\", 'afterhours', '都被困在', 'nemáš', 'yebba', 'hoеs', 'wintercold', \"tapin'\", 'bitchs', 'usah', 'rosé', 'pizzle', 'boomboom', 'timeleggo', 'ohhhoooooooooooooooooooooowww', \"spiderman's\", 'adunnadundundun', 'annonoying', 'pussyhole', \"laborin'\", 'itayedo', 'dadida', 'sétáltunk', 'ahehaheh', \"naturally's\", 'حضورت', 'olduğunu', 'forté', 'byłam', 'ayet', \"wait'n\", 'cerear', \"l'aperçois\", 'hermés', \"talkin'\", 'mah', 'anbolehdoas', 'blackedout', 'mothafuckin', 'spinks', 'dal', \"chuckin'\", \"cru's\", 'fubbaucubbakubba', 'kış', \"i'mma\", \"l'ora\", 'qualcomm', \"i'mtoogoodtocallorwritemyfans\", 'hables', 'mulala', 'mymy', 'braindead', 'kyla', 'd0', 'gnihtemos', 'dolcegabbana', 'jeffree', \"deliverin'\", \"'stop'\", 'فکر', 'mé', 'lve', 'konusuna', \"understandin'\", 'ڕوبدات', 'goyard', 'plcybcy', 'اعضای', 'dropspooh', 'mclaran', 'pmsing', 'bimmer', 'hangzik', 'zeed', 'bilmek', 'reup', 'شتیان', 'őket', \"storin'\", \"espn's\", 'sé', 'xanaxes', 'taşşaklarını', \"a'ight\", \"enchantin'\", 'stojaković', 'nia', 'kahrolası', 'gönderme', 'veya', 'σπίτι', 'salope', 'właśnie', 'lovin', 'nooo', 'chchchainsasaw', 'deje', 'piensas', 'toooo', 'missionless', 'bwoydem', 'mmmmurda', '_____', 'прыгает', 'edumacator', 'quiero', 'нажат', \"famil'y\", 'ménages', 'dinero', 'دوستت', 'když', 'regresar', 'stormless', 'pèt', 'اینه', 'nom', 'jourdan', 'becau', \"cadillac's\", 'valizin', 'sagteenagers', 'konichiwa', 'dodada', 'npr', \"bouncin'\", 'برنمیگردن', '危険なシグナル', 'ohhhhhhho', 'günlerdi', 'whe', 'qujaime', 'whatwhatwhat', 'ezee', 'cornyass', \"speakin'\", 'blousa', 'hakkında', \"tossin'\", 'eastside', 'flexer', 'designin', 'waybeforethedeal', 'shotta', 'دگر', 'هێندەی', 'rarace', 'whered', 'میتونم', 'elas', 'thirtyfive', 'labio', 'ڕیڤیڤاڵ', 'agam', 'ciężarów', 'cambiar', 'mothafuckers', 'phys', 'حتی', 'ccoming', 'fuckinga', \"cakin'\", 'ahhhaha', 'πληγώσεις', 'eyeington', \"icegrillin'\", 'airplaysalesstreamingbased', 'chkwordword', 'olvidé', \"'kiss\", \"asswhoopin'\", 'hardtoget', 'shontelle', 'innere', 'apathyint', 'munroe', 'απο', 'fiveo', '5minutes', '4pm', 'всем', \"free's\", 'mannot', 'oohoh', 'trajediler', 'ترین', 'جون', \"bub'\", 'radim', 'moreore', 'sooshka', \"et's\", 'andreena', 'instagram', 'dity', 'unloyal', 'dipshits', 'gps', 'naber', 'taşşaklarım', 'αγαπή', 'fencelike', 'ladum', 'tartaruga', 'pienso', 'dundundundun', 'canam', 'kunst', 'motherful', 'cabellas', 'sillay', 'rewhen', \"hilton's\", 'он', 'bback', 'kweeb', 'afura', \"brushin'\", 'looaded', 'sonsuza', 'corte', 'bigbabigbig', 'hccker', 'discrimina', 'fontana', 'loyale', 'rolly', \"'9\", 'ahhmm', 'niall', 'کنین', 'juvie', 'porsches', 'isten', 'mataku', 'coproduced', 'beemer', 'iggs', 'igotta', 'pricetag', \"likin'\", 'ما', 'počká', 'copa', 'schottenheimer', 'adanunana', \"f'ed\", \"chiquitico'\", 'نفره', 'diznick', 'eheheheh', 'سعی', 'toccara', \"'minus'\", 'naah', 'dddominoes', 'terminaremos', 'januaryfebruary', 'terrifyingand', 'باشه', \"preparin'\", \"bloggin'\", 'تهیه', 'شێتت', 'dropsfuckin', 'memail', 'whenif', 'پوشیدن', 'خدافظ', 'bu', 'tourettes', 'êtes', 'baaaaaack', 'sеque', 'nautica', 'animales', 'mea', 'chúis', 'bys', 'odb', 'n9ne', 'feelin', 'abercrombie', 'dennys', 'créeme', 'dopda', 'etmeye', 'grizzy', 'canta', 'yeahh', 'cena', 'eeheh', 'αφήσω', 'med', 'šta', \"bentley's\", 'hehe', 'eeve', \"darlin'\", 'globaly', 'خودش', 'awaaaay', \"muhfuckas'\", 'kariyerimin', 'tıpkı', 'برئونا', 'cet', 'keyz', 'forchezy', 'erykah', 'broski', 'خونده', 'umm', 'whooo', 'degreenify', \"to'as\", 'eugh', 'superfly', 'perminator', 'zabierałam', 'zabarví', 'fuerte', 'خەریکە', 'fiftytwo', 'guala', \"'cuse\", 'oneoneone', \"''hold\", 'ghostface', \"me''\", 'mfalme', \"tokin'\", 'بهم', 'fortnite', 'winey', 'enzos', 'huxtable', \"muh'fucker\", 'tym', 'beyoncés', 'ganimetin', 'yeen', 'wristes', 'fluck', 'lense', 'faggotass', 'zamknij', 'ناحەزم', 'idimoni', 'dragões', 'olimpic', 'ahaaaaha', 'بڕۆم', 'neyo', \"i'dliehere\", 'ahora', 'oohh', 'خراپ', 'yooh', 'nowiow', 'walkie', 'fortyeight', 'майбах', 'αλλα', 'ودریکاونا', 'vurmak', 'fullblown', 'rapoj', 'luccello', 'thatt', \"insertin'\", 'stimulante', \"extendin'\", \"'80s\", 'monmonmoney', 'exwife', 'میکنم', \"bygones'll\", 'κλείνουν', 'fck', \"hatnin'\", 'belair', 'gahu', 'unleveled', 'belki', 'ennyi', \"''wish\", 'cack', 'mmmhmm', 'shotcallers', \"s'accorde\", 'augh', 'threemonth', \"m'exciter\", 'çıkıp', 'بودماگه', 'idioma', 'üçüncü', \"splittin'\", 'epps', 'acepta', 'screwups', 'sposób', \"finishin'\", 'mammi', 'twitpic', 'aleshia', 'loselose', 'faut', 'postavení', 'cholo', 'froggish', 'naruba', 'été', \"don'\", 'princesscut', 'tеst', 'olma', 'seguir', 'ahí', 'abanenkani', 'ubba', 'dolabına', \"'droid\", 'cenizas', 'długowieczność', 'shcdow', \"i'mi'm\", \"'64\", 'speaketh', 'parasail', 'swoll', 'nfl', 'ooooohh', 'hushhush', 'pumpedup', \"j'écarterai\", 'tocarme', 'woulda', 'giddyup', 'schoolly', 'etchasketch', 'zpátky', 'chiraq', 'streetmuscle', 'florido', \"m'fait\", 'saudy', 'michto', 'boujour', 'křičí', 'iyinkinga', 'stanky', 'dieand', 'encontré', 'بهترین', 'minha', 'daja', 'boof', 'voll', 'skream', 'qrsshady', \"sixwhippin'\", 'stepdad', 'amo', 'sunray', 'nonmogul', 'yeehaw', 'pólódat', 'zuse', 'gots', 'dumbass', 'unico', 'poppin', 'workline', 'dtiteann', 'πεθαίνουμε', \"colorin'\", 'میگوس', 'basslines', 'sonhos', 'housie', 'buzzcut', 'slauson', 'anywhereanywhere', 'dragraces', '나의', 'chickachchchill', \"t'accroches\", 'hangin', 'vencemos', '在我的國度裡的一股惡寒', 'swv', \"chillaxin'\", \"rubik'sa\", 'tah', \"loopin'\", 'tatho', 'dwam', 'هستمسر', \"stand'em\", 'keine', 'luchando', 'sssend', 'backin', 'cointel', 'śmiać', 'pierdes', 'neverending', 'policz', \"huntin'\", 'sellin', 'چرامن', 'damagеd', 'interessante', 'caminar', 'condiciones', 'orderin', 'jai', \"earthshatterin'\", 'припев', 'shshshshsh', 'après', 'damnit', 'vap', \"steamin'\", 'yayyayyayya', 'kényelembe', 'pepé', 'daenerys', 'dokie', 'skanks', 'minza', 'faire', 'oceanianovember', 'maná', 'pisztoly', 'hed', \"uz'\", 'mizkorona', 'diorah', 'bedingfield', \"thing'll\", \"slammin'\", 'fraggle', 'pelearemos', \"freshin'\", 'ners', 'heared', 'skeppy', 'keysh', 'todas', 'yeux', 'tierod', 'periódico', 'yealive', 'ебу', \"broke'\", \"f'd\", 'mhmmhm', \"'lil\", 'obubba', 'beatdowns', 'felch', 'renta', 'kahlúa', 'goso', 'downish', 'aksyndicat', \"roastin'\", 'hookx', \"bear''\", 'otro', 'wanksta', 'skrrr', 'βρω', 'abdominals', 'sina', 'fararar', \"ragin'\", 'brujas', 'gcups', 'برگردونن_', 'puits', \"memory'll\", 'bobought', 'bowout', 'mrthrow', 'ehey', 'tha', \"twitchin'\", 'σου', 'ناوازەن', 'ferva', 'sremmlife', 'nbc', \"protrudin'\", \"blarin'\", 'sweeterman', 'چطوری', 'nōdōz', 'ποναει', \"'quil\", 'angelinas', 'historia', 'mkto', 'felli', 'pc', 'ohnananana', 'wycd', 'توش', 'aalright', 'basszameg', 'khaled', 'kocha', 'bloodfor', 'děvka', 'gelmez', 'flyin', \"rollin'\", 'sonradan', 'być', 'deeping', \"leggin'\", 'polos', 'söylüyor', 'chingaling', 'parlezvous', 'nezůstane', 'mababu', 'odzyskuję', 'basehead', 'снова', 'extracurriculum', 'صحبت', 'قۆڕە', 'honestlyly', 'stüssy', 'playerhating', 'ako', 'triddash', 'outi', 'leandra', 'bodak', 'prr', 'hedgemaze', 'serayah', \"'cause'\", 'oxys', \"shady'd\", 'aggy', 'girac', 'kotex', 'matterfact', 'podporu', 'ترم', 'frenchises', 'میزنم', 'mts', 'arrête', 'rekcufrehtom', \"sec'\", 'alonestar', 'capi', 'wickwith', 'oluyor', 'gira', 'tel', 'chkk', 'capenese', 'keeeep', 'gunovich', 'spittin', 'chophouze', 'delf', 'beyhive', 'همکاری', \"sparks'll\", 'lb', 'runrunrun', \"asphyxiatin'\", 'çalıştığım', 'walkietalkie', 'acappella', 'jiggy', 'buggish', 'obie', 'duced', 'hardon', \"caninini'\", 'steelus', 'jhené', 'még', 'elmondom', 'yediler', '像咒語玩意', 'هستمآرهووسر', \"grievin'\", \"chikachikachikachikachikachikachika''\", \"danglin'\", 'skinover', 'misión', \"slowin'\", 'zipzip', 'sixfour', 'aguanto', 'avión', 'acılıyım', 'exgirls', \"amusin'\", 'reali', 'siduck', 'tch', 'moje', 'załatwić', \"thereain't\", 'nickiménage', \"nas's\", 'naeco', \"saidnothin'\", 'زمان', 'سەرئاو', 'ouuuu', 'dilediğin', 'badipas', \"cam'ron\", 'výlety', \"po'\", 'ibomb', \"'ill\", 'obuzmeš', 'agame', 'lmh', 'ggggotgot', 'aguilera', 'booggz', \"coladain'\", 'bellissima', 'bababa', 'keyshia', 'dentro', 'dasani', 'uyaziwa', 'dušo', 'poziomie', \"jammin'\", 'negligar', 'sağla', \"'magine\", 'içine', \"dawnin'\", \"'dick''s\", 'scally', 'zostać', \"gen'\", 'bblades', 'podcastlerine', 'دوو', 'schweigen', 'gm', 'cheatin', 'olúwa', 'نجات', \"slingin'\", 'tonkas', 'ipnay', 'со', \"ending'\", 'brees', \"bluffin'\", 'mothermother', 'věc', 'ohwoahohohyeahey', 'madre', 'calor', 'hammerin', \"cooch'\", 'sackreligious', 'gudda', \"'ready\", \"bussin'\", 'motherfreakin', 'amtraks', 'stil', 'zrobiłam', 'więcej', \"injectin'\", 'bruddas', \"doggin'\", \"tovább'\", 'hacemos', 'pnb', 'icloud', 'itmy', 'purell', 'nowjesus', 'upandcomer', 'kaşar', 'nagyon', 'çatlak', 'dziewięćdziesięciu', \"'sex\", 'huhand', 'kap', 'potentiali', 'mutombo', 'selfesteem', 'migolife', \"ddon't\", 'sstreets', 'kawasakis', \"rainman's\", 'prisión', 'что', 'hohhhohh', 'dddaddy', 'fous', 'trapstar', 'الکلی', 'یاد', 'screwface', \"quizno's\", 'éme', 'ttteach', 'calledlove', \"propane'\", 'dědka', \"oj's\", 'cosmo', 'sikerken', 'úgy', 'puffpuff', 'lövöldöztük', \"fanning's\", '一個接一個', 'separateus', 'منم', 'hiddenpaw', 'deracs', \"bangin'\", 'gyeah', 'heheheh', 'nigganigga', 'flyeyeeye', 'cherrycherryboomboom', 'jigga', 'ththrow', 'markie', 'chasin', 'filme', 'blablabla', 'anders', \"'nother\", 'allnight', 'کاریشونو', 'evеrything', 'momče', \"ss's\", 'moyen', 'جەیمس', \"inc's\", 'devlin', \"revvin'\", 'lohner', 'nicopanda', 'jumpman', 'ihop', 'бензой', 'afterparty', 'mój', 'overexpressing', 'głowie', 'podía', 'lalalalalalalalalala', 'mayfield', 'badd', 'architectured', 'bzzbzzbzzbzzbzzbzzwop', \"bailin'\", \"his'es\", 'hannukah', 'psychoparanoia', 'uchain', 'duking', 'tarafından', 'chulo', 'kuniva', 'wreckless', 'plasticware', \"resurrectin'\", 'пульс', 'porche', \"missing's\", 'esco', 'uniwhen', 'mindboggle', 'sientes', 'calze', 'gingеr', 'manny', 'vvenomous', \"hedgetrimmin'\", 'euthanized', 'itty', 'desalvo', 'miley', 'semiglock', 'yoohoo', 'totales', 'alongsidenow', 'dropstake', \"feelin's\", 'wearin', 'ackes', 'قبلیت', 'iiiiiiiiihii', 'poljubi', \"lo'\", 'کە', 'pensent', 'lejonhjärta', 'hollowtips', 'resmi', '你的指尖擦過臉龐', \"grainin'grainin'\", 'ilya', 'bausch', 'ئازار', 'tthe', 'nie', 'vuoto', 'molotovs', 'ερωτευμενοι', \"iiiii'm\", 'iohohoh', 'treba', \"stylin'\", 'saml', 'makemakemake', \"parecemo'\", 'cristian', 'wetta', \"moanin'\", 'hola', 'wanye', 'mikrofon', \"bitch'\", 'ruxpin', 'bcrqa', 'fortyforty', 'gerek', \"surfin'\", 'duction', '6th', 'mieux', 'pre', 'cette', 'pasar', 'biggitybally', 'coexecutive', 'roadpopping', \"sayin'\", 'واژنی', \"spittin'\", 'nickle', 'juiiiiice', 'washup', \"stashin'\", 'nuuuuuuuuutz', 'rrrow', '言われても', 'breathin', 'cakecake', 'şeylerin', 'sononous', 'gdod', \"'cccause\", 'yeaheaheaheah', 'flightuh', 'parkfivethousand', \"screamin'\", \"photoshootin'\", 'fixins', 'llegando', \"jc's\", 'imi', \"dwarfin'\", 'pussywhipped', 'píči', 'baik', 'versedrake', 'paintballs', 'duckin', \"40'ları\", 'نفهمیدی', 'nostra', 'a8', 'tagline', \"handholdin'\", 'riche', 'cherryred', 'وابزانم', 'за', 'readyready', \"l'assemblage\", 'lambos', 'itthis', 'iki', 'cityfrom', 'не', \"residin'\", \"'sonny'\", 'lépj', 'лайвом', 'jours', 'ekali', 'wellspoken', 'gggggirlfriend', 'холоден', 'pube', '00yard', 'buuutt', 'terribletasting', 'vieler', 'lugz', \"underlyin'\", 'dippi', 'söylemedi', \"54''s\", 'justo', 'bumpsthe', 'ahohahohah', 'reconize', \"vvs's\", 'haklısın', 'لە', 'rm', 'prostu', 'piffin', 'leveszed', 'bentleys', 'mamagaga', 'быть', 'bellion', 'indominus', 'halfpint', 'bedazzler', 'oonika', \"somethin's\", 'g450', 'babyface', 'دێم', 'liiiie', 'hoşgeldiniz', 'uhuhuhi', \"shells'll\", 'hoopti', 'fiending', \"buddies'\", \"f'ing\", 'bluffin', 'agradecidos', 'nakarat', \"hangin'\", 'achingchongchongchongching', 'feasty', 'oakwood', 'dukwey', 'houstatlanta', 'merülni', 'higgyél', 'karnını', 'breakin', 'atomovou', 'souffrance', 'needin', 'кинул', 'evinin', 'creer', 'بدون', 'deniro', 'vle', 'yearold', 'söylememen', 'violencecomplete', 'παρολο', 'halfcrazy', 'bergdorf', \"xxl's\", 'diggy', \"don'tgiveafuck\", 'cowdy', 'darkwing', 'ببریزودتر', 'compra', \"chirpin'\", 'vey', 'tas', 'hustlin', 'μερος', 'tooey', 'bangdrip', 'سراغت', 'suckasucka', 'acil', 'swiftondemand', 'paleass', 'dużo', 'vwwait', 'walkin', 'brigde', 'oceania0908', 'roi', 'kells', \"birthin'\", 'cum', 'phonte', 'iku', 'ça', 'zurich', 'mahal', 'ettiğini', 'psychoyeah', 'cashis', 'thinkinnnnnn', 'ddoing', 'raraahahah', 'jealo', \"t'\", 'curryyeah', 'dunham', 'derado', 'cammino', 'maximus', \"been's\", 'meglio', 'ندارن', 'θελω', 'commited', 'nicki', 'retardbe', 'زانوشو', 'buttando', 'xx', 'youstay', \"rainin'\", \"stranglin'\", \"stuffin'\", 'borrowin', \"my'cause\", 'peepee', 'stormz', 'susustaining', 'marlow', 'copian', \"wrestlin'\", 'fullsplit', \"foamin'\", 'assyou', 'bonnaroo', 'megváltozott', 'carlile', 'bo', \"filmin'\", 'pj', \"'bove\", 'buttdial', 'vivir', \"mutterin'\", 'burqa', 'llc', 'boyardee', 'nutt', \"'preme\", 'allway', 'tn', 'warhols', 'canção', 'keke', 'rescuе', 'hunnid', 'bheidh', \"vomitin'\", 'beatbeatbeat', 'tanktop', 'hee', 'disturbia', 'při', 'naw', 'basse', \"ccomin'\", 'vowhy', \"knives're\", \"billin'\", 'využít', 'masta', 'ajándékot', 'کنی', \"twosteppin'\", 'karşılarına', 'boutta', \"barfin'\", \"submittin'\", \"headbangin'\", 'iiiii', 'dirtbag', 'finte', 'cuenta', \"'lamb\", \"cleanin'\", \"'pendin'\", '함께', 'shanahnahnah', 'pacquiana', \"irkin'\", 'vehetsz', 'izzy', \"that''\", 'oohwoooohoohooh', 'ï', 'kurevsky', 'whippin', \"hesitation'll\", 'bbbbet', 'rcssian', \"7's\", 'membuatmu', 'wyclef', 'khaleesi', 'leadtam', \"starin'\", 'nuttin', 'badaboom', 'outie', \"scrappin'\", 'saltand', 'prosac', 'blahblahblah', 'bettеr', 'japanesey', 'συναίσθημα', 'whan', 'yanında', 'iim', 'mogę', 'میتونستی', \"pretendin'\", 'slomo', 'blázinci', 'maines', \"limit'\", 'wayyeah', 'chorexo', 'conwith', \"crackin'\", 'stopop', \"after's\", \"pre'\", 'gasto', 'потеряла', 'arod', 'blaw', 'ucci', \"g5's\", 'emts', 'dropspurple', 'bıçaklar', 'reacharound', 'certifiiied', 'thickory', 'rozptýlit', 'midler', 'piliç', \"crammin'\", 'derulo', 'тебя', 'oohooh', 'moscato', 'prospekt', 'reny', 'bx', 'thеre', 'merde', 'africanamericans', 'tolerence', 'lmnowinsky', 'eith', \"corta'\", \"piense'\", 'kand', 'echosmith', 'بیتی', 'tvoje', 'rxmance', \"d'you\", 'hehheh', 'افکار', 'aiaiaiaight', \"wilin'\", 'tanıtmama', 'grande', 'uff', \"votin'\", 'acceptedit', \"impact'll\", 'taşaklarıyla', 'adorent', 'onefourth', 'rihmeek', 'crackas', 'لێیە', 'somethin', 'approx', 'uyanıyorsun', 'hesaidshesaid', \"writin'\", 'ohiohiohi', 'meinen', 'perri', 'youuuuuuuu', 'אלד', 'nekfeu', 'ohah', 'pintando', 'nigella', 'drumdrum', 'arrivé', 'doortodoor', 'batalhas', \"'hold\", 'abaziyo', 'śmierć', 'esküszöm', 'söyledi', 'néha', 'şarkıyı', 'screenshots', 'oneeyed', \"dodon't\", 'embriagante', 'yyyyyou', 'ign', 'víctima', 'fui', 'yeahyeahyeah', 'jí', 'lalalalalalalay', 'butthurt', 'beatchild', '005mockingbird', 'awahlangani', 'jauh', \"trashtalkin'\", 'siklemiyoruz', 'perlahan', 'namehey', 'میگن', 'grizz', 'rringing', 'retarted', 'youooh', 'raccroche', 'brratatata', 'rrr', 'creepin', 'kianna', 'manischewitz', 'بڵاودەکەم', \"e'ry\", 'keburukanku', 'کیر', 'wściekłość', \"baballin'\", \"slitherin'\", \"ejaculatin'\", \"'ca'ca'ca'ca'ca'cause\", 'kryptonno', \"'they\", 'kendi', 'keşfettim', 'pezzo', \"sniffin'\", 'reon', 'eighteenwheeler', 'firmato', \"hurtin'\", 'پیچ', 'summersummer', 'yungstaz', 'połowy', 'میدونم', 'youve', 'melihat', 'πληγωνει', 'bbbaka', \"city'\", 'قلبم', 'nonnnono', 'hearin', \"on's\", 'ekam', 'resurrectionext', 'ezt', 'wyginają', \"make'em\", 'سمت', 'miraval', 'partynauses', \"'osix\", 'raris', 'ummm', 'californication', 'تربووم', 'madiba', \"yappin'\", 'jabba', 'többé', 'hahahahahaha', \"m'amuses\", \"bih'\", 'wa', \"'after\", 'wantwant', 'marlbxoro', \"glistenin'\", \"drizzy's\", 'dandance', 'dboys', 'staplestitch', 'ghetts', 'achei', \"'lotta\", 'uhup', 'vystát', \"t'as\", 'shiddit', 'radiohead', \"pumin'\", 'lorrel', 'stylings', \"represent's\", 'mérget', 'neyin', 'életet', \"feudin'\", 'senin', \"evenin'\", 'hairtriggers', 'bitchslapped', 'harderbreathinneedyfake', 'luí', 'jmenování', 'lookup', 'scotiabank', 'seeee', 'halla', \"n'estce\", 'danno', 'xannies', 'wetass', 'dwa', \"tubby's\", 'babе', 'babygirl', 'hunna', 'pokaždé', 'woohoooohoo', 'ticketytocktickety', 'har', 'screwfaced', 'vin', 'drakkar', 'reste', 'kiedykolwiek', 'snapchat', 'برای', 'تامەزرۆم', 'swindell', \"eyes'll\", 'clappin', 'sizzy', 'connais', 'beatboxer', 'fivesix', 'untuk', 'kissandtell', 'ooverstayed', 'alguien', 'louganis', 'μπορείς', 'نژادی', 'muhfuckas', 'locs', 'keşfetmeye', \"let'sgo\", 'esta', 'brbribribribring', 'wolly', 'szívvel', 'rockstar', 'larnell', 'kellyanne', 'zuzu', \"whos'\", 'candids', 'bobblehead', 'rosaleem', \"stimpy's\", 'upupup', 'alainas', 'mentiras', 'sikim', 'پێشووتر', 'awesomer', 'garantizado', '50fuck', 'shaddy', 'bеfore', 'owwwwww', 'exlove', \"referencin'\", \"'pac\", \"'da\", \"closin'\", 'prerefrein', 'aquel', 'shortlived', 'κρατάς', 'trapjumper', \"'n\", 'relievin', 'woadies', 'stanko', 'illenium', \"vag'\", 'boomin', '6ix9ine', 'soldout', 'seul', 'anni', 'beggin', 'cigcrette', 'diddy', 'لگد', 'marshmello', 'seventeenyearold', 'láthassunk', 'halfdead', 'mothaf', 'yayyayyayyayyayya', \"'burbs\", \"'do'\", 'quieras', 'catscans', \"playerhatin'\", 'cigcrettes', 'bustin', 'ravee', 'لێکردۆتەوە', 'palacio', 'tapin', 'کینگ', 'fractioned', 'amíg', 'sepertinya', 'offrirà', 'kaldırıyor', 'makka', '____', 'vocalistically', 'punkass', \"buntin'\", 'cp', 'redding', 'doif', 'safaree', 'hablan', 'subterreanean', 'chaud', 'dugni', \"gapin'\", \"kimmy's\", \"bleedin'\", \"eminem'll\", 'recordando', 'casuto', 'twentysixyearold', 'zakładasz', 'dileniyonuz', \"how'd\", 'pornos', 'verdrietig', 'pfffft', 'uhhoh', \"l'ultimo\", 'asswhooah', 'freaka', \"through's\", 'grcss', '998just', 'dyro', 'robią', 'rucker', \"drac'\", \"bearin'\", 'droid', 'embala', 'keepz', \"wigglin'\", 'halfpast', 'hine', \"backit's\", 'mathеrs', 'bootylicious', 'febreeze', 'capochino', \"papi's\", 'futtatni', \"m'vleou\", \"di'que\", 'دورمآره', 'katil', 'ladadada', 'uoy', 'niceklus', 'mlk', \"'renegade'\", 'xanax', \"vancouv'\", 'bozack', 'lami', 'emzee', 'еxpecting', 'handbasket', 'skyyy', 'piękno', 'hollas', 'spickety', 'féin', 'ozuna', \"l'chaim\", 'selfimposed', 'karıştıran', 'چرا', 'vivia', 'mmmoh', 'tracklist', '80proof', 'dumm', 'oohohoohoh', 'εσυ', 'als', \"arby's\", 'boyhtown', 'твою', 'jetpack', 'waddup', \"wil'ins\", 'こいつが', \"buttersworth's\", 'taxbrack', 'remonter', 'uncasville', \"iti'm\", 'emailin', 'darte', 'rhymin', 'dareyoubitch', \"hattenin'\", 'nno', 'eheeheeheeheeheeheeheehe', 'shacklеd', 'procent', 'chigga', 'onlara', 'rav', 'rotisseried', 'romanskeeza', \"sickenin'\", 'mottola', 'کنسل', 'lśnią', 'huto', 'fughesi', 'muchísimo', 'pieprzenie', 'uck', 'شتێکم', \"adjustin'\", \"i'on't\", 'popopopoker', 'dna', 'upsetcrycry', 'greazy', \"9's\", 'carring', 'scorchin', 'raye', \"thumbin'\", 'knockin', 'membiarkannya', 'زیرزمینی', 'sanırım', 'ahhh', 'daviddaviddaviddaviddaviddavid', 'صبحونه', 'söze', \"anthony's\", 'magamat', 'ترینم', 'heezy', 'دەمە', 'cokehead', 'urkel', 'whinin', \"shiftin'\", 'jewellery', 'debes', 'pasa', 'آهنگ', 'musun', 'bebebe', 'loder', 'yellowviva', 'lohan', 'přišel', 'ggot', 'değil', 'nasedne', \"repo'd\", 'eriksen', 'rvup', 'bookoo', 'breonna', 'phillipe', 'tak', 'lequel', 'kufi', 'هەزەلی', 'jrj', 'ironique', 'fo', 'ولی', 'légy', 'mcvay', 'przygotuj', 'cheech', 'frooby', 'glocks', 'overprepare', 'halen', \"moby's\", 'رفتی', 'marrant', 'safesafe', 'fiftyfifty', 'dddduck', 'سوزشفوت', \"snappin'\", 'آتاتیاناریشاردو', 'odrzucisz', 'womanbad', 'ڕقم', 'dadadadadadome', 'ahhaha', 'maxamillieon', 'skelter', 'przepadałem', 'yeha', \"aringin'\", 'openshut', 'τα', 'zauważam', 'yosb', \"rog'\", 'alante', 'они', 'youand', 'zúdult', 'بە', 'blowjob', 'dul', 'busta', 'espera', \"rebuildin'\", 'pobłażliwie', 'babyback', 'hmmhmmhmmmhmm', \"struttin'\", 'mughlai', 'honeylike', \"'what's\", 'şeylerden', \"hen'\", 'swaggerswagger', 'люблю', 'addy', 'plegic', 'serlo', 'bzzz', 'silklined', 'shovenest', 'tudurudururu', \"44's\", 'minogue', 'remyremy', 'bangbang', \"'long\", 'legeye', 'triaminic', 'forcillin', 'pctrified', 'kno', 'ullman', 'dýky', 'fatass', 'skag', 'unuh', 'juss', 'kabillion', 'pointin', 'nahnahnah', 'suh', 'fcked', 'egyfolytában', \"ja's\", 'wimpers', 'bermy', 'solite', '아는걸', \"twirlin'\", 'petras', 'von', 'rrrrroll', 'percodans', 'ıkı', \"heiny's\", 'stayin', 'soyilungisa', 'armádu', 'bumpin', 'ağzı', 'وامکرد', 'ddont', 'dizleri', \"headin'\", 'plex', 'iş', 'doubledup', 'کنه', 'dinlemeye', 'halleluhallehallelujah', 'smilemake', 'brisé', 'terbuat', 'خطاب', 'etrangers', 'karacter', 'palos', \"0yearold's\", '의미없어', 'albumie', 'yeller', 'téren', 'chyeah', \"'rarri\", 'colde', 'tendrement', 'pway', 'señora', \"t'enfuis\", \"flirtin'\", 'eyelevel', 'camrys', 'huthut', 'benzo', 'atrás', 'bbetter', 'пару', 'seagal', 'jiletten', 'feiceáil', 'walder', 'grl', 'chea', \"'70s\", 'sıkmam', 'dita', 'hoho', 'kumbaya', 'afriky', 'voorhies', 'testifythe', 'laquan', 'وێستگەی', \"gogo'n\", 'popiana', 'γυρίσω', 'ritmine', 'ahyeah', 'tecnine', 'nikolaj', 'killshot', 'nads', 'merrygoround', 'kwamé', 'taketakeoff', 'definitewait', 'dooooooves', 'ponys', 'danica', 'lovedrunk', 'postcoro', 'cuffer', 'wyzwoliła', 'franca', 'çıkıyor', \"tryin'\", 'meska', \"'bows\", 'aa', 'travelin', 'já', 'ayyayy', 'cranbrook', 'wody', 'cztery', 'wastemen', 'nós', 'skindanu', 'σκοτεινιαζει', 'grzesiul_g', \"exaltin'\", \"'send'\", 'haymon', 'sensimilla', 'donc', 'strecth', 'solita', 'astronomyy', 'ты', \"promotin'\", 'خاصی', 'mindenki', 'bahdadadat', 'divo', 'wuv', 'nobodynobody', 'gençleştim', \"'mor\", 'cookwear', 'dododobahbahbah', 'resapi', 'honeylook', 'kеpt', 'kyuhh', \"bird'seye\", 'assalaamalaikum', 'déballerai', 'oolong', 'beatz', 'upandcomers', \"nightmares'll\", \"durrn'\", 'holdagrudge', \"wonderin'\", \"stinkin'\", \"siphonin'\", 'iceyo', 'callaway', 'wasnt', 'unevadable', 'susam', 'noohoh', 'ick', 'vumani', \"pa'l\", 'audemar', \"uniit'll\", 'κραταμε', 'fuckthemboysforever', 'zaczyna', 'gooder', 'iráku', 'goddamnit', 'gitmemi', 'hahahahaaa', \"dialin'\", 'tanıdık', 'greezy', 'cils', 'oohhoohoo', \"94'8\", 'ds', 'fait', 'swole', 'cabxret', 'másik', 'butthole', 'booin', 'siro', \"seducin'\", \"jessica'yı\", 'geeking', 'powinna', 'vips', 'welldone', 'triedest', 'vaaliuum', \"i'da\", \"impressin'\", 'tapi', 'atışları', 'denik', 'spect', 'unicall', 'aroundooh', 'müdüründen', 'notce', 'aldığı', 'whoaahoh', 'przeczucie', 'harajuku', 'toppy', 'rrrrrroaw', 'neurofens', '69ing', 'behindy', 'yeezy', 'blicky', 'panky', 'housegots', 'coolthe', 'seance', 'جایی', 'devam', 'udělám', 'liqour', 'benzino', 'baldi', \"myself''\", 'еxpect', 'besta', 'دەکەم', 'countin', \"worryin'\", 'foreigns', 'kian', \"bossin'\", 'ahah', 'halfpinters', 'ininin', 'suger', 'teesdale', 'occupée', 'رد', 'huddy', 'lacigam', 'spaz', 'bam', 'plein', 'rumpumpumpum', 'antwoord', 'کرد', 'celou', 'nebby', 'feet848', 'dontcha', 'kingsize', 'walkonwatergate', 'dibiase', 'μπορεί', 'naoi', 'vierzehn', 'yaki', 'kissses', 'spreaded', 'sned', 'syllalables', 'berenstein', 'deportes', 'příšerně', \"massagin'\", 'rattrapons', 'koniec', 'temiz', 'maskoo', 'mac0', '等待我的時機', 'chauvin', 'hulahula', \"pinchin'\", 'carrey', \"cursin'\", 'amaqhawe', 'ufo', 'trippie', 'uk', 'cyphering', 'uturn', 'billis', 'skillaholic', 'keytar', 'pierres', 'wha', 'blowblowblows', 'silverado', \"explain'\", 'lupeoohm', 'jonesa', 'huhuhu', 'asszem', \"'6\", 'gally', 'walczę', 'پێویستە', 'dabbs', 'دەنێن', 'lightbulb', 'chch', 'strangé', 'cruzando', 'historie', 'aahs', 'caping', 'dosido', 'swswinging', 'céline', 'waka', 'scullies', 'savin', 'machen', \"'boom'\", 'sebebim', 'aiyyo', 'journada', 'ohhuh', 'ruhuhun', 'resight', 'grillie', \"dad'\", \"expectin'\", 'rihanna', 'قدیمی', 'hubba', 'ladadeeladada', 'batmobile', 'گرفته', 'sido', 'rapçi', 'zeď', 'quikclot', 'cy', 'rêves', 'krylon', 'fightin', 'pořádným', 'forka', 'ttop', 'oooooo', 'ringringring', 'diseasecovered', 'kapatacağımı', \"pointin'\", 'orospuyu', 'oughta', 'nemůžeš', 'ayyayyayy', 'beatbox', 'edosure', \"crossin'\", \"breath'cause\", 'lofi', 'ohohhh', 'lnow', 'somthin', 'attendsmoi', 'fifofum', 'lanet', 'őt', 'majmuni', 'freakazoid', 'fekete', \"slappin'\", 'tapdancing', 'scheibe', 'skyrim', \"fightin'\", 'donnel', 'tryeyyyeyyyeyyy', 'καρδιας', 'blonded', 'wynds', \"what'll\", 'backwood', 'yazıyorum', 'maakt', 'بەم', 'saltfish', \"mm's\", 'hailies', 'sabadore', 'nonrelevance', 'cyatties', 'shahallow', \"scramblin'\", 'lifealtering', 'davranma', 'zaga', 'هیشکی', 'ioh', 'ttrue', 'propia', 'bouří', 'ouuu', \"breathin'\", 'shinoda', \"else's\", 'wellmannered', 'yapacak', 'favorito', \"mumblin'\", 'manurehell', 'graining', 'pinkprint', 'inem', 'üstüne', 'qtip', 'نابینەوە', 'youtubeslim', 'okul', 'simones', 'alcjandro', 'jackolantern', 'bağırsaklar', \"'germaine\", 'skrilla', \"tremblin'\", \"might've\", 'silahlar', 'trizi', \"burstin'\", 'bombargo', 'memiliki', 'sangaré', 'hooooooooo', 'fufufufufuture', 'fffocus', 'ikramiye', 'jaxon', 'gambino', 'millzy', \"mannin'\", 'k9', 'gggoes', 'mmmh', 'زئوس', 'réparer', 'jepsen', 'ugk', 'nonlyrical', \"gurglin'\", 'coldplay', \"withdrawin'\", 'ئەمە', 'onesright', 'vrinvrin', 'isexasperated', 'crip', 'likeda', 'iheartradio', 'oow', 'dj', \"'walk\", 'shehulk', \"i'vе\", \"wifey's\", 'bеtter', 'weitzman', 'budden', 'nokio', 'beaky', 'buckland', 'dołączać', 'goodhouse', \"smartin'\", 'buttuh', 'شاد', 'daoine', 'tutumum', 'slitho', \"there'll\", 'cliffside', \"crashin'\", 'mindezt', 'townover', 'bobo', 'gggggimme', 'chestout', 'shitgive', 'dra', 'escuchar', \"appealin'\", 'etc', 'www', 'louhuhuhove', 'cocino', 'saqué', 'onlyfans', 'válečné', 'popo', 'küçük', \"'net\", 'turucu', \"dna'll\", \"y'allfellas\", 'wantwantwant', 'angeles', 'songsbopschunes', 'exmanic', 'říká', 'darrion', 'ahoh', 'blaaaow', \"yayo's\", \"'sta\", 'youknowwhat', 'dripdrip', \"naunie's\", 'prayin', 'fanabitch', 'apenas', 'pxnot', 'weeooh', 'cheque', 'vo5', 'improv', 'yelle', 'çarpıyor', 'bağırıyor', \"stephanie'nin\", 'swalla', 'inspectah', 'ohohhhohhhohhhohohoh', 'suprised', 'ahlololololo', 'jewelerjeweler', 'igual', 'dialadis', 'sho', \"'ne\", 'wooii', 'peut', \"underafuckin'chiever\", 'فک', 'bombardování', 'azon', 'ner', 'dahhdum', 'lp460', 'tigger', 'klar', 'bahsederken', 'errday', 'wap', 'beesyay', '輕咬我的舌頭', \"lieb'\", 'تبدیل', 'gggo', \"'member\", 'thanos', 'eyeahyeahyeah', 'illnois', 'sikiyor', 'mothafucker', 'dollaz', \"''talk\", 'hoodtars', \"wag'\", 'thugger', 'sremm', 'levittem', \"fundin'\", 'ποτέ', 'بێزارم', 'ladrón', \"mournin'\", 'llet', 'گەورە', \"explainin'\", \"harassin'\", 'boynundan', 'thay', 'سیمفۆنی', 'thigpen', 'threehundred', 'perché', \"gefahr'n\", 'bussdowns', 'gggames', 'selfrestoration', 'моя', 'دەبیستم', 'θυμαμαι', 'ipods', 'mcig', '相處那麼長', 'nino', '00without', 'shashake', 'knknow', 'viset', 'latinamerican', 'rippedskkkrr', 'johansson', \"'ow\", 'radder', 'popopo', 'più', 'hmmhmmhmmmhmmmm', 'wciągają', 'itlady', '공간에서', 'chalant', 'dabel', \"trayvon's\", 'traktuję', 'tímhle', 'blige', 'jungs', 'harington', 'hstry', 'snottynose', 'darkdark', 'banksy', \"packin'\", 'delong', 'layin', 'fabolous', 'fógairt', 'veste', \"hadon't\", 'weg', 'visualise', 'htown', 'expedia', 'être', 'daygetaway', 'liom', 'pesadelos', \"dereon's\", 'puerta', 'biggy', 'zamn', \"floatin'\", 'uhyeah', 'sumn', 'lovе', \"iti've\", 'rátudjak', 'amén', 'umwhere', \"ghetti'\", 'pasó', 'fai', 'shoody', 'tigolebitties', 'aimes', 'youwho', \"let'\", 'más', 'bassiness', 'yukmouth', 'entré', 'yaaaaaaasssss', 'dico', 'rubix', 'milla', 'cocaina', 'pinkett', \"thought'll\", 'dehogy', 'gitme', 'pompompompom', 'pokaži', 'boğamayacağımı', \"restin'\", 'everever', 'traw', \"'head\", 'chemlelelenemiahnufniah', 'lovestricken', 'schifato', 'spazzing', 'swishahouse', 'detroitarea', 'womans', \"shittin'\", \"blowin'\", 'بود', \"swimmin'\", 'thatimmersive', \"drinkin'\", 'mighta', 'youuuuu', '6s', \"88'\", 'ei', 'silahı', \"pumpin'\", 'kikikikikiki', 'theshaderoom', 'habibiz', 'wishheart', 'mattressss', 'adjátok', 'tona', 'olyan', 'suerte', \"som's\", 'ammmm', 'ترسا', 'zaroo', 'bogarted', 'от', 'tay', 'pentup', 'sonra', 'вайбах', \"s'posed\", 'wasssup', 'runned', \"dismissin'\", 'hooah', 'katrin', 'chikka', \"'tas\", 'került', \"l'heure\", 'oclock', 'etz', 'icp', 'woeing', 'camino', 'acabar', 'iyaz', 'anheuserbusch', 'pernell', 'brainiac', 'رکاب', 'talibani', 'rollie', \"hackin'\", 'samuels', 'reino', 'wideeyed', 'pssh', 'conchords', 'поводу', 'imma', 'artrave', \"let'em\", 'zaman', 'písku', 'bussin', 'rerediscover', 'találkozunk', 'سلاخی', 'bedstuy', 'jękiem', 'numaranı', 'piru', 'tripledog', 'βαθύα', \"did'nt\", 'glock', 'shemar', 'salvaje', 'barstool', 'jdeme', 'bufords', 'وتیان', 'yeaheheheh', 'drk', 'baybaybaybayuh', 'asla', \"gon'\", 'brum', 'داخە', 'blaqnmild', 'sadece', 'comin', \"azae'\", 'összehajtottam', \"try'na\", \"girli'm\", 'boonk', 'tiene', 'eever', 'einhundert', 'ym', 'shanked', 'хочешь', 'throwed', 'flatscreen', 'cellay', 'mille', 'preemo', 'yiyen', 'regarde', 'irl', 'kulağına', 'nuziali', 'старт', 'nevét', 'oohoohoohohoohoohoh', 'bbring', 'alt', 'tes', 'eightnine', 'coi', \"buncha'\", 'σταματαει', 'broadcastin', 'fiiight', 'doo', 'خب', \"biddin'\", 'rta', 'bep', 'égbe', 'نەکردوە', 'mère', 'fantasic', \"blessin's\", 'platit', 'jaffe', 'بال', 'bőrébe', 'rocknroll', 'rebi', \"big's\", 'gunbutt', 'poonpoon', 'chkka', \"befo'\", \"dripdrippin'\", 'benzinodie', 'fingersdamn', 'nunchucks', 'déposer', 'fourthdre', 'تنها', 'woahh', 'sauron', 'sekerkou', 'getlovequickschemes', '0for', 'کی', 'gevrek', 'mets', \"'99\", 'sirve', 'cashonly', 'بازی', 'mofo', 'aztán', 'dyo', 'urie', 'alrightsweetenersuccessful', \"itit's\", \"'caiah's\", 'señorita', 'κρατησεις', \"scorchin'\", \"processin'\", 'bedava', 'acabado', \"pen'll\", 'rattattap', 'bisquit', 'lllooking', 'serrés', 'kita', 'milikku', 'آوری', 'duhbuhbuh', 'proche', 'preign', 'ext', 'jv', 'gerçeği', 'adoro', 'dereon', 'mamasa', 'αντιο', 'kamu', \"pair'll\", 'minie', 'witcha', 'jeho', 'вызвал', 'anasını', 'hussaine', \"ownin'\", 'jeane', 'spoile', 'قسانە', 'aaate', 'как', 'gdk', 'glutes', 'benzes', 'chubbachubbachubbachubbachubbachubbachubby', 'gibi', 'repart', 'schnozzes', 'kdy', 'breh', \"d'office\", 'hashtag', 'irv', 'birdcrazy', 'neek', 'çıkan', 'afu', 'bellyana', \"rentin'\", 'macgregors', 'اونارو', 'iiii', 'način', 'limitwhat', 'boğazındaki', \"'asshole'\", 'buttersworth', \"weakenin'\", 'reytingi', 'sarkyor', 'sissor', 'comentarle', 'bwoy', 'quitte', \"'nillaf\", 'ahguh', 'häagendazs', 'drcnk', 'tenemos', \"70's\", 'elses', 'emzy', '눈치만', 'deaddead', 'suç', 'znepokojujících', 'sheeheh', 'promisеs', \"somebody'll\", \"women's\", 'cavallari', 'poooaaoooaaoooaaoooaaaooaooasssseeee', 'ikiye', 'beckiana', 'año', 'danyèl', 'hifi', 'καρδια', 'tezz', \"splashin'\", 'tbe', 'necesito', \"scrapin'\", 'coogi', 'horkej', 'wawake', 'jlb', 'خوبرفیق', 'سیراپمن', 'seguro', 'gunthrie', \"flyin'\", 'iuhfive', 'bomba', 'avuç', \"buggin'\", 'mcadams', 'commerzbank', 'frontrow', 'syllalable', 'ستارس', 'leve', 'lunchmoney', \"life'd\", 'supercalafragilisticexpealidocious', \"cha'ya\", 'dicksnots', \"cuppin'\", 'povich', 'eljön', \"studyin'\", 'fefifofum', 'közben', 'declina', 'northside', \"'90s\", 'briseadh', 'stou', 'zehirli', 'promluví', 'rvssian', 'allages', 'heyheyheyhey', 'meani', 'freedia', 'mothafuck', \"change'\", 'lleca', 'είμαι', 'wwwhat', 'watermellon', \"stockin'\", 'nèt', 'aleck', 'diedie', 'دەیانوت', \"'57\", 'roscoes', 'lasto', 'yidder', 'دەبێت', 'streetdown', 'kardashian', 'neenyo', 'esküvőmön', 'smileall', 'ret', 'brrrat', 'arriba', \"scrollin'\", 'talkand', 'onsite', \"o'lakes\", 'bg', 'yaaaaah', 'flyington', 'quante', 'melrose', \"champagnepoppin'\", 'σβησει', 'dadum', 'smcking', 'hendersonville', 'fanouška', 'kshh', 'corcia', \"'tá\", 'wszystkie', 'pedalsalll', 'powracającego', \"y'knahmsayin\", 'coldblood', 'trochę', 'jestem', 'rosacea', \"stace'\", 'cockwhen', 'موقعیت', 'lolove', 'opovrhoval', 'pyper', 'dooka', \"winin'\", \"'focus'\", 'wiffle', 'knowow', \"droolin'\", 'pirzolalarımı', 'ehoh', 'mmmmmm', 'rrarrrrh', '8x', 'inlove', 'bicoastal', 'rockit', 'lcpstick', \"room'll\", 'ڕۆڵینگ', 'dejar', 'cocome', 'unášejí', 'autobot', 'gloutlékzo', \"'s\", 'tttaste', 'everclear', \"peepin'\", \"reapin'\", 'dessie', 'libs', 'shizzel', \"nick'i\", \"münchausen's\", 'göre', 'børns', 'urážel', 'ameen', 'muy', 'reminesin', 'şişelenebilseydi', 'milliondollar', 'zod', \"realizin'\", 'fims', 'même', \"reasonable'll\", \"'where\", 'موزیک', 'yalvardığınızı', 'shebib', 'eeeeeeen', 'ironon', 'quintana', 'sickaz', 'wagyu', 'jett', 'instalove', 'wrektime', 'cribo', 'megkellett', 'زنجیرەکەت', 'oti', \"horse'\", 'sixer', 'ninjaman', 'furied', 'namesand', 'okurrrt', 'thgin', 'alleyoop', 'capaz', '灑在牆上的血跡', \"y'allselves\", 'venta', 'ladadeeladadada', 'macskának', 'müfredat', 'mccauley', 'ciudad', \"eagles'll\", 'giussepe', 'messi', 'g5', 'selingenile', 'punchend', \"woll'n\", \"divin'\", 'hellspawn', 'نظر', 'ocupabas', 'میگنتو', '6carat', 'btw', 'milkin', 'woadie', 'oww', 'jäger', 'canciones', 'gardes', 'shelltops', 'everevereverever', 'زبان', 'どうにも止まらんぞ', 'nonobody', 'saouler', 'ηλικία', 'wamables', 'crcrcrazier', 'vowe', 'abouuut', \"benzino's\", 'deliyim', 'bakeoff', 'chyna', 'thousanddollar', \"petey's\", 'handsfree', \"l'alcool\", 'seule', 'lityum', 'mamamakes', 'بووم', \"im'a\", 'offtime', 'caulkin', 'onceuponatime', 'wara', 'avoir', 'handprints', \"'f'\", 'anuel', \"won'twon't\", 'rockstars', 'bottomfeeder', 'már', 'ڕوبەڕووی', 'motherdaughter', 'worldworld', 'fivefifty', 'ganstress', 'ahahohohoh', 'coronavirus', \"flexin'\", 'پرداخت', 'blеssed', \"patrollin'\", 'plat', 'nashawn', 'raab', 'mufasa', 'hypno', 'lameass', 'дела', 'balta', 'había', \"hort's\", 'dicen', 'içeri', 'quello', 'chkchkword', 'leavewhy', 'hitandrun', 'ppink', 'str8', \"applaudin'\", 'nananails', \"coz'\", 'توڕەیم', 'ginuwine', 'allblack', \"dwellin'\", \"'8\", \"lampin'\", 'busey', 'ماینرز', 'slutokay', 'hepsinin', \"dozin'\", 'yucka', 'dmp', 'ahhhhhh', 'rakim', 'nigdy', 'sono', 'cuarenta', 'aall', 'chours', 'pitino', 'castamere', \"ditchin'\", \"fo'sho\", 'götüreceğim', 'criados', 't4', 'kıracak', 'هیچی', 'wwworth', 'niro', 'gaultier', 'memoria', \"rock'n'roll\", 'dadadada', 'büyük', 'poom', 'jjada', 'snowden', 'knowlescarter', \"barkin'\", 'boooooooooooohoo', 'quel', \"fif'll\", 'baitandswitch', 'growop', 'storе', \"rollie's\", \"profilin'\", 'sabe', 'zarar', \"stickin'\", 'judaaaaaass', 'mansplained', 'stat', 'brickwall', 'kardashians', '6lack', 'ladainian', 'jeru', 'hoog', 'olmasını', 'tpain', 'oohoohoohoohoohoohooh', 'musiciens', 'og', 'benle', \"wor'\", 'flippity', 'brrrt', 'alaikum', 'alizé', 'canekane', 'std', 'contries', \"dismemberin'\", 'érzem', 'già', 'خرابی', 'dvds', 'shooby', 'میکنن', 'liqs', 'noohohohoh', \"sobbin'\", 'cnotes', \"j'adore\", 'drut', 'davinci', 'lubriderm'}\n",
      "                                    Misspelled_Words\n",
      "0  [pre, nothin', ari, 'bout, havin', gon', 'caus...\n",
      "1  [pre, gleamin', poppin', tiffany's, atm, would...\n",
      "2         [pre, tellin', onetrack, uniwhen, feelin']\n",
      "3  [nicki, grande, ariana, minaj, tryna, pre, tal...\n",
      "4  [pre, ohyeah, rainin', comin', 'em, turnin', p...\n",
      "5  [pre, mmmmmm, lacigam, gnihtemos, ruoy, fallin...\n",
      "6  [pre, actin', mmmmmm, yee, thinkin', 'bout, tr...\n",
      "7  [pre, jumpin', hopin, wouldnt, switchin', noth...\n",
      "8  [pre, mе, wifey, thirtyfive, eatin', savin', y...\n",
      "9  [pre, 'sleep, 'til, skrrt, gon', dripdripdripped]\n"
     ]
    }
   ],
   "source": [
    "# from spellchecker import SpellChecker\n",
    "\n",
    "# spell = SpellChecker()\n",
    "\n",
    "# def count_misspelled_words(text):\n",
    "#     if not isinstance(text, str):\n",
    "#         return 0\n",
    "#     words = text.split()\n",
    "#     misspelled = spell.unknown(words)\n",
    "#     return len(misspelled)\n",
    "\n",
    "# total_misspelled_words = new_df['Lyric'].apply(count_misspelled_words).sum()\n",
    "# print(f\"Total misspelled words: {total_misspelled_words}\")\n",
    "\n",
    "# # def correct_spelling(text):\n",
    "# #     if not isinstance(text, str):\n",
    "# #         return text\n",
    "# #     corrected_words = []\n",
    "# #     for word in text.split():\n",
    "# #         corrected = spell.correction(word)\n",
    "# #         corrected_words.append(corrected if corrected else word)\n",
    "# #     return ' '.join(corrected_words)\n",
    "\n",
    "from spellchecker import SpellChecker\n",
    "\n",
    "spell = SpellChecker()\n",
    "\n",
    "# Function to return misspelled words in a text\n",
    "def get_misspelled_words(text):\n",
    "    if not isinstance(text, str):\n",
    "        return []\n",
    "    words = text.split()\n",
    "    return list(spell.unknown(words))\n",
    "\n",
    "# create a new column with misspelled words\n",
    "new_df['Misspelled_Words'] = new_df['Lyric'].apply(get_misspelled_words)\n",
    "\n",
    "# Total misspelled words count\n",
    "total_misspelled_words = new_df['Misspelled_Words'].apply(len).sum()\n",
    "print(f\"Total misspelled words: {total_misspelled_words}\")\n",
    "\n",
    "# View the misspelled words only (unique across dataset)\n",
    "from itertools import chain\n",
    "\n",
    "all_misspelled = list(chain.from_iterable(new_df['Misspelled_Words']))\n",
    "unique_misspelled = set(all_misspelled)\n",
    "\n",
    "print(f\"Unique misspelled words ({len(unique_misspelled)}):\")\n",
    "print(unique_misspelled)\n",
    "\n",
    "# View the first 10 rows with their misspelled words\n",
    "print(new_df[['Misspelled_Words']].head(10))\n"
   ]
  },
  {
   "cell_type": "code",
   "execution_count": 66,
   "metadata": {},
   "outputs": [
    {
     "data": {
      "text/html": [
       "<div>\n",
       "<style scoped>\n",
       "    .dataframe tbody tr th:only-of-type {\n",
       "        vertical-align: middle;\n",
       "    }\n",
       "\n",
       "    .dataframe tbody tr th {\n",
       "        vertical-align: top;\n",
       "    }\n",
       "\n",
       "    .dataframe thead th {\n",
       "        text-align: right;\n",
       "    }\n",
       "</style>\n",
       "<table border=\"1\" class=\"dataframe\">\n",
       "  <thead>\n",
       "    <tr style=\"text-align: right;\">\n",
       "      <th></th>\n",
       "      <th>Artist</th>\n",
       "      <th>Title</th>\n",
       "      <th>Lyric</th>\n",
       "      <th>Misspelled_Words</th>\n",
       "    </tr>\n",
       "  </thead>\n",
       "  <tbody>\n",
       "    <tr>\n",
       "      <th>0</th>\n",
       "      <td>Ariana Grande</td>\n",
       "      <td>​thank u, next</td>\n",
       "      <td>thought i'd end up with sean but he wasn't a m...</td>\n",
       "      <td>[pre, nothin', ari, 'bout, havin', gon', 'caus...</td>\n",
       "    </tr>\n",
       "    <tr>\n",
       "      <th>1</th>\n",
       "      <td>Ariana Grande</td>\n",
       "      <td>7 rings</td>\n",
       "      <td>yeah breakfast at tiffany's and bottles of bub...</td>\n",
       "      <td>[pre, gleamin', poppin', tiffany's, atm, would...</td>\n",
       "    </tr>\n",
       "    <tr>\n",
       "      <th>2</th>\n",
       "      <td>Ariana Grande</td>\n",
       "      <td>​god is a woman</td>\n",
       "      <td>you you love it how i move you you love it how...</td>\n",
       "      <td>[pre, tellin', onetrack, uniwhen, feelin']</td>\n",
       "    </tr>\n",
       "    <tr>\n",
       "      <th>3</th>\n",
       "      <td>Ariana Grande</td>\n",
       "      <td>side to side</td>\n",
       "      <td>ariana grande nicki minaj i've been here all n...</td>\n",
       "      <td>[nicki, grande, ariana, minaj, tryna, pre, tal...</td>\n",
       "    </tr>\n",
       "    <tr>\n",
       "      <th>4</th>\n",
       "      <td>Ariana Grande</td>\n",
       "      <td>​​no tears left to cry</td>\n",
       "      <td>right now i'm in a state of mind i want to be ...</td>\n",
       "      <td>[pre, ohyeah, rainin', comin', 'em, turnin', p...</td>\n",
       "    </tr>\n",
       "    <tr>\n",
       "      <th>...</th>\n",
       "      <td>...</td>\n",
       "      <td>...</td>\n",
       "      <td>...</td>\n",
       "      <td>...</td>\n",
       "    </tr>\n",
       "    <tr>\n",
       "      <th>5744</th>\n",
       "      <td>Taylor Swift</td>\n",
       "      <td>teardrops on my guitar (live from clear channe...</td>\n",
       "      <td>drew looks at me i fake a smile so he won't se...</td>\n",
       "      <td>[pre, 'cause, whos]</td>\n",
       "    </tr>\n",
       "    <tr>\n",
       "      <th>5745</th>\n",
       "      <td>Taylor Swift</td>\n",
       "      <td>evermore [forward]</td>\n",
       "      <td>to put it plainly we just couldnt stop writing...</td>\n",
       "      <td>[imaginarynot, couldnt, folklorian, dreamscape...</td>\n",
       "    </tr>\n",
       "    <tr>\n",
       "      <th>5746</th>\n",
       "      <td>Taylor Swift</td>\n",
       "      <td>welcome back grunwald</td>\n",
       "      <td>turn wycd on you're on your grunwald back from...</td>\n",
       "      <td>[wycd, grunwald, grunwald's]</td>\n",
       "    </tr>\n",
       "    <tr>\n",
       "      <th>5747</th>\n",
       "      <td>Taylor Swift</td>\n",
       "      <td>tolerate it (polskie tłumaczenie)</td>\n",
       "      <td>zwrotka siedzę i patrzę jak czytasz z głową po...</td>\n",
       "      <td>[błagam, wyjęła, tyle, refren, inne, budzę, tw...</td>\n",
       "    </tr>\n",
       "    <tr>\n",
       "      <th>5748</th>\n",
       "      <td>Taylor Swift</td>\n",
       "      <td>find you</td>\n",
       "      <td>trying just like they say just taking the step...</td>\n",
       "      <td>[]</td>\n",
       "    </tr>\n",
       "  </tbody>\n",
       "</table>\n",
       "<p>5711 rows × 4 columns</p>\n",
       "</div>"
      ],
      "text/plain": [
       "             Artist                                              Title  \\\n",
       "0     Ariana Grande                                     ​thank u, next   \n",
       "1     Ariana Grande                                            7 rings   \n",
       "2     Ariana Grande                                    ​god is a woman   \n",
       "3     Ariana Grande                                       side to side   \n",
       "4     Ariana Grande                             ​​no tears left to cry   \n",
       "...             ...                                                ...   \n",
       "5744   Taylor Swift  teardrops on my guitar (live from clear channe...   \n",
       "5745   Taylor Swift                                 evermore [forward]   \n",
       "5746   Taylor Swift                              welcome back grunwald   \n",
       "5747   Taylor Swift                  tolerate it (polskie tłumaczenie)   \n",
       "5748   Taylor Swift                                           find you   \n",
       "\n",
       "                                                  Lyric  \\\n",
       "0     thought i'd end up with sean but he wasn't a m...   \n",
       "1     yeah breakfast at tiffany's and bottles of bub...   \n",
       "2     you you love it how i move you you love it how...   \n",
       "3     ariana grande nicki minaj i've been here all n...   \n",
       "4     right now i'm in a state of mind i want to be ...   \n",
       "...                                                 ...   \n",
       "5744  drew looks at me i fake a smile so he won't se...   \n",
       "5745  to put it plainly we just couldnt stop writing...   \n",
       "5746  turn wycd on you're on your grunwald back from...   \n",
       "5747  zwrotka siedzę i patrzę jak czytasz z głową po...   \n",
       "5748  trying just like they say just taking the step...   \n",
       "\n",
       "                                       Misspelled_Words  \n",
       "0     [pre, nothin', ari, 'bout, havin', gon', 'caus...  \n",
       "1     [pre, gleamin', poppin', tiffany's, atm, would...  \n",
       "2            [pre, tellin', onetrack, uniwhen, feelin']  \n",
       "3     [nicki, grande, ariana, minaj, tryna, pre, tal...  \n",
       "4     [pre, ohyeah, rainin', comin', 'em, turnin', p...  \n",
       "...                                                 ...  \n",
       "5744                                [pre, 'cause, whos]  \n",
       "5745  [imaginarynot, couldnt, folklorian, dreamscape...  \n",
       "5746                       [wycd, grunwald, grunwald's]  \n",
       "5747  [błagam, wyjęła, tyle, refren, inne, budzę, tw...  \n",
       "5748                                                 []  \n",
       "\n",
       "[5711 rows x 4 columns]"
      ]
     },
     "execution_count": 66,
     "metadata": {},
     "output_type": "execute_result"
    }
   ],
   "source": [
    "new_df"
   ]
  },
  {
   "cell_type": "code",
   "execution_count": 69,
   "metadata": {},
   "outputs": [],
   "source": [
    "# Filtering the non-English Words\n",
    "\n",
    "from nltk.corpus import words\n",
    "\n",
    "english_words = set(words.words())\n",
    "\n",
    "def remove_non_english_words(text):\n",
    "    if not isinstance(text, str):\n",
    "        return text\n",
    "    return ' '.join([word for word in text.split() if word.lower() in english_words])\n",
    "\n",
    "new_df['Lyric'] = new_df['Lyric'].apply(remove_non_english_words)\n"
   ]
  },
  {
   "cell_type": "code",
   "execution_count": 70,
   "metadata": {},
   "outputs": [
    {
     "name": "stdout",
     "output_type": "stream",
     "text": [
      "Total misspelled words: 59049\n"
     ]
    }
   ],
   "source": [
    "misspelled_words_after_filter= new_df['Lyric'].apply(get_misspelled_words)\n",
    "\n",
    "# Total misspelled words count\n",
    "total_misspelled_words_after_filter = new_df['Misspelled_Words'].apply(len).sum()\n",
    "print(f\"Total misspelled words: {total_misspelled_words_after_filter}\")"
   ]
  },
  {
   "cell_type": "code",
   "execution_count": null,
   "metadata": {},
   "outputs": [
    {
     "name": "stdout",
     "output_type": "stream",
     "text": [
      "Tested string after removing non-English words: 'ten'\n"
     ]
    }
   ],
   "source": [
    "test = \"tttt ten توڕەیم\" \n",
    "tested = remove_non_english_words(test)\n",
    "print(f\"Tested string after removing non-English words: '{tested}'\")"
   ]
  },
  {
   "cell_type": "code",
   "execution_count": 73,
   "metadata": {},
   "outputs": [],
   "source": [
    "# function to correct spelling in lyrics\n",
    "# def correct_spelling(text):\n",
    "#     if not isinstance(text, str):\n",
    "#         return text\n",
    "#     corrected_words = []\n",
    "#     for word in text.split():\n",
    "#         corrected = spell.correction(word)\n",
    "#         corrected_words.append(corrected if corrected else word)\n",
    "#     return ' '.join(corrected_words)\n",
    "\n",
    "# new_df['Lyric'] = new_df['Lyric'].apply(correct_spelling)\n",
    "\n",
    "# misspelled_words_check = new_df['Lyric'].apply(get_misspelled_words).sum()\n",
    "# print(f\"Total misspelled words after correction: {len(misspelled_words_check)}\")\n",
    "\n",
    "\n",
    "\n",
    "# # Step 1: Get all words\n",
    "# all_words = set(word for lyric in new_df['Lyric'] if isinstance(lyric, str) for word in lyric.split())\n",
    "\n",
    "# # Step 2: Separate known and unknown\n",
    "# misspelled_words = spell.unknown(all_words)\n",
    "\n",
    "# # Step 3: Correct only the misspelled ones\n",
    "# correction_dict = {word: spell.correction(word) for word in misspelled_words}\n",
    "\n",
    "# # Step 4: Apply correction only where needed\n",
    "# def correct_spelling_faster(text):\n",
    "#     if not isinstance(text, str):\n",
    "#         return text\n",
    "#     return ' '.join([correction_dict.get(word, word) for word in text.split()])\n",
    "\n",
    "# new_df['Lyric'] = new_df['Lyric'].apply(correct_spelling_faster)\n",
    "\n",
    "\n",
    "def correct_spelling(text):\n",
    "    words = text.split()\n",
    "    corrected_words = []\n",
    "    misspelled = spell.unknown(words)\n",
    "    for word in words:\n",
    "        if word in misspelled:\n",
    "            correction = spell.correction(word)\n",
    "            corrected_words.append(correction if correction else word)\n",
    "        else:\n",
    "            corrected_words.append(word)\n",
    "    return ' '.join(corrected_words)\n"
   ]
  },
  {
   "cell_type": "code",
   "execution_count": null,
   "metadata": {},
   "outputs": [],
   "source": [
    "if total_misspelled_words > 0:\n",
    "    new_df['Lyric'] = new_df['Lyric'].apply(correct_spelling)\n",
    "    \n",
    "\n",
    "new_df['Misspelled_Words'] = new_df['Lyric'].apply(get_misspelled_words)\n",
    "total_misspelled_words_post = new_df['Misspelled_Words'].apply(len).sum()"
   ]
  },
  {
   "cell_type": "markdown",
   "metadata": {},
   "source": [
    "## Feature Engineering"
   ]
  },
  {
   "cell_type": "code",
   "execution_count": null,
   "metadata": {},
   "outputs": [],
   "source": [
    "# # Creating a mapping dictionary from artist to genre\n",
    "# genre_map = {\n",
    "#     'Eminem': 'Hip Hop / Rap',\n",
    "#     'Taylor Swift': 'Pop / Country / Synthpop',\n",
    "#     'Drake': 'Hip Hop / Rap / R&B',\n",
    "#     'Beyoncé': 'R&B / Pop / Hip Hop',\n",
    "#     'Rihanna': 'Pop / R&B / Dancehall',\n",
    "#     'Lady Gaga': 'Pop / Dance / Electronic',\n",
    "#     'Justin Bieber': 'Pop / R&B',\n",
    "#     'Coldplay': 'Alternative Rock / Pop Rock',\n",
    "#     'Katy Perry': 'Pop',\n",
    "#     'Nicki Minaj': 'Hip Hop / Rap / Pop',\n",
    "#     'Ariana Grande': 'Pop / R&B',\n",
    "#     'Ed Sheeran': 'Pop / Folk Pop',\n",
    "#     'BTS (방탄소년단)': 'K-pop / Pop / Hip Hop',\n",
    "#     'Dua Lipa': 'Pop / Dance / Disco',\n",
    "#     'Maroon 5': 'Pop Rock / Funk Pop',\n",
    "#     'Selena Gomez': 'Pop / Dance Pop',\n",
    "#     'Post Malone': 'Hip Hop / Pop / Trap',\n",
    "#     'Billie Eilish': 'Alternative / Pop / Electropop',\n",
    "#     'Charlie Puth': 'Pop / R&B',\n",
    "#     'Cardi B': 'Hip Hop / Rap',\n",
    "#     'Khalid': 'R&B / Pop / Soul'\n",
    "# }"
   ]
  },
  {
   "cell_type": "code",
   "execution_count": null,
   "metadata": {},
   "outputs": [],
   "source": [
    "# Adding the new 'Genre' column based on the mapping\n",
    "\n",
    "# df['Genre'] = df['Artist'].map(genre_map)"
   ]
  },
  {
   "cell_type": "code",
   "execution_count": null,
   "metadata": {},
   "outputs": [
    {
     "data": {
      "text/html": [
       "<div>\n",
       "<style scoped>\n",
       "    .dataframe tbody tr th:only-of-type {\n",
       "        vertical-align: middle;\n",
       "    }\n",
       "\n",
       "    .dataframe tbody tr th {\n",
       "        vertical-align: top;\n",
       "    }\n",
       "\n",
       "    .dataframe thead th {\n",
       "        text-align: right;\n",
       "    }\n",
       "</style>\n",
       "<table border=\"1\" class=\"dataframe\">\n",
       "  <thead>\n",
       "    <tr style=\"text-align: right;\">\n",
       "      <th></th>\n",
       "      <th>Artist</th>\n",
       "      <th>Title</th>\n",
       "      <th>Lyric</th>\n",
       "      <th>Genre</th>\n",
       "    </tr>\n",
       "  </thead>\n",
       "  <tbody>\n",
       "    <tr>\n",
       "      <th>0</th>\n",
       "      <td>Ariana Grande</td>\n",
       "      <td>​thank u, next</td>\n",
       "      <td>thought i'd end up with sean but he wasn't a m...</td>\n",
       "      <td>Pop / R&amp;B</td>\n",
       "    </tr>\n",
       "    <tr>\n",
       "      <th>1</th>\n",
       "      <td>Ariana Grande</td>\n",
       "      <td>7 rings</td>\n",
       "      <td>yeah breakfast at tiffany's and bottles of bub...</td>\n",
       "      <td>Pop / R&amp;B</td>\n",
       "    </tr>\n",
       "    <tr>\n",
       "      <th>2</th>\n",
       "      <td>Ariana Grande</td>\n",
       "      <td>​God is a woman</td>\n",
       "      <td>you you love it how i move you you love it how...</td>\n",
       "      <td>Pop / R&amp;B</td>\n",
       "    </tr>\n",
       "    <tr>\n",
       "      <th>3</th>\n",
       "      <td>Ariana Grande</td>\n",
       "      <td>Side To Side</td>\n",
       "      <td>ariana grande  nicki minaj i've been here all ...</td>\n",
       "      <td>Pop / R&amp;B</td>\n",
       "    </tr>\n",
       "    <tr>\n",
       "      <th>4</th>\n",
       "      <td>Ariana Grande</td>\n",
       "      <td>​​no tears left to cry</td>\n",
       "      <td>right now i'm in a state of mind i wanna be in...</td>\n",
       "      <td>Pop / R&amp;B</td>\n",
       "    </tr>\n",
       "  </tbody>\n",
       "</table>\n",
       "</div>"
      ],
      "text/plain": [
       "          Artist                   Title  \\\n",
       "0  Ariana Grande          ​thank u, next   \n",
       "1  Ariana Grande                 7 rings   \n",
       "2  Ariana Grande         ​God is a woman   \n",
       "3  Ariana Grande            Side To Side   \n",
       "4  Ariana Grande  ​​no tears left to cry   \n",
       "\n",
       "                                               Lyric      Genre  \n",
       "0  thought i'd end up with sean but he wasn't a m...  Pop / R&B  \n",
       "1  yeah breakfast at tiffany's and bottles of bub...  Pop / R&B  \n",
       "2  you you love it how i move you you love it how...  Pop / R&B  \n",
       "3  ariana grande  nicki minaj i've been here all ...  Pop / R&B  \n",
       "4  right now i'm in a state of mind i wanna be in...  Pop / R&B  "
      ]
     },
     "execution_count": 20,
     "metadata": {},
     "output_type": "execute_result"
    }
   ],
   "source": [
    "# df.head()"
   ]
  },
  {
   "cell_type": "code",
   "execution_count": null,
   "metadata": {},
   "outputs": [
    {
     "data": {
      "text/plain": [
       "0"
      ]
     },
     "execution_count": 22,
     "metadata": {},
     "output_type": "execute_result"
    }
   ],
   "source": [
    "# df['Genre'].isnull().sum()"
   ]
  },
  {
   "cell_type": "code",
   "execution_count": null,
   "metadata": {},
   "outputs": [
    {
     "data": {
      "text/plain": [
       "Genre\n",
       "Pop / R&B                         730\n",
       "Hip Hop / Rap                     596\n",
       "Pop / Country / Synthpop          477\n",
       "Hip Hop / Rap / R&B               464\n",
       "R&B / Pop / Hip Hop               406\n",
       "Pop / R&B / Dancehall             397\n",
       "Pop / Dance / Electronic          395\n",
       "Alternative Rock / Pop Rock       333\n",
       "Pop                               324\n",
       "Hip Hop / Rap / Pop               321\n",
       "Pop / Folk Pop                    294\n",
       "K-pop / Pop / Hip Hop             270\n",
       "Pop / Dance / Disco               246\n",
       "Pop Rock / Funk Pop               197\n",
       "Pop / Dance Pop                   174\n",
       "Hip Hop / Pop / Trap              148\n",
       "Alternative / Pop / Electropop    145\n",
       "R&B / Pop / Soul                   64\n",
       "Name: count, dtype: int64"
      ]
     },
     "execution_count": 23,
     "metadata": {},
     "output_type": "execute_result"
    }
   ],
   "source": [
    "# df['Genre'].value_counts()"
   ]
  },
  {
   "cell_type": "code",
   "execution_count": null,
   "metadata": {},
   "outputs": [
    {
     "data": {
      "text/plain": [
       "array(['Pop / R&B', 'R&B / Pop / Hip Hop',\n",
       "       'Alternative / Pop / Electropop', 'K-pop / Pop / Hip Hop',\n",
       "       'Hip Hop / Rap', 'Alternative Rock / Pop Rock',\n",
       "       'Hip Hop / Rap / R&B', 'Pop / Dance / Disco', 'Pop / Folk Pop',\n",
       "       'Pop', 'R&B / Pop / Soul', 'Pop / Dance / Electronic',\n",
       "       'Pop Rock / Funk Pop', 'Hip Hop / Rap / Pop',\n",
       "       'Hip Hop / Pop / Trap', 'Pop / R&B / Dancehall', 'Pop / Dance Pop',\n",
       "       'Pop / Country / Synthpop'], dtype=object)"
      ]
     },
     "execution_count": 24,
     "metadata": {},
     "output_type": "execute_result"
    }
   ],
   "source": [
    "# df['Genre'].unique()"
   ]
  },
  {
   "cell_type": "code",
   "execution_count": null,
   "metadata": {},
   "outputs": [],
   "source": []
  }
 ],
 "metadata": {
  "kernelspec": {
   "display_name": "base",
   "language": "python",
   "name": "python3"
  },
  "language_info": {
   "codemirror_mode": {
    "name": "ipython",
    "version": 3
   },
   "file_extension": ".py",
   "mimetype": "text/x-python",
   "name": "python",
   "nbconvert_exporter": "python",
   "pygments_lexer": "ipython3",
   "version": "3.12.7"
  }
 },
 "nbformat": 4,
 "nbformat_minor": 2
}
