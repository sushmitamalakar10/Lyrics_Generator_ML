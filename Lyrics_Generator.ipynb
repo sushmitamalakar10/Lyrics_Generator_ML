{
 "cells": [
  {
   "cell_type": "markdown",
   "metadata": {},
   "source": [
    "# Lyrics Generator"
   ]
  },
  {
   "cell_type": "code",
   "execution_count": 77,
   "metadata": {},
   "outputs": [],
   "source": [
    "import os\n",
    "import pandas as pd"
   ]
  },
  {
   "cell_type": "code",
   "execution_count": 78,
   "metadata": {},
   "outputs": [
    {
     "name": "stdout",
     "output_type": "stream",
     "text": [
      "Merged 20 CSV files into 'E:\\Lyrics_Generator\\Data_Sets\\merged_songs.csv' successfully!\n"
     ]
    }
   ],
   "source": [
    "\n",
    "# Define input and output paths\n",
    "folder_path = r\"E:\\Lyrics_Generator\\Data_Sets\\Songs\"\n",
    "output_folder = r\"E:\\Lyrics_Generator\\Data_Sets\"\n",
    "output_file = os.path.join(output_folder, \"merged_songs.csv\")\n",
    "\n",
    "# Ensure output folder exists\n",
    "os.makedirs(output_folder, exist_ok=True)\n",
    "\n",
    "# Get all CSV files in the folder\n",
    "csv_files = [file for file in os.listdir(folder_path) if file.endswith(\".csv\")]\n",
    "\n",
    "# Read and merge\n",
    "dfs = [pd.read_csv(os.path.join(folder_path, file)) for file in csv_files]\n",
    "merged_df = pd.concat(dfs, ignore_index=True)\n",
    "\n",
    "# Save to CSV\n",
    "merged_df.to_csv(output_file, index=False)\n",
    "print(f\"Merged {len(csv_files)} CSV files into '{output_file}' successfully!\")\n",
    "\n",
    "# folder_path = \"E:\\AI\\Lyrics_Generator_RNN\\Song_dataset\"\n",
    "\n",
    "# csv_files = [file for file in os.listdir(folder_path) if file.endswith(\".csv\")]\n",
    "\n",
    "# dfs = [pd.read_csv(os.path.join(folder_path, file)) for file in csv_files]\n",
    "# merged_df = pd.concat(dfs, ignore_index=True)\n",
    "\n",
    "# merged_df.to_csv(r\"E:\\AI\\Lyrics_Generator_RNN\\Data_sets\\merged_songs.csv\", index=False)\n",
    "\n",
    "# print(f\"Merged {len(csv_files)} CSV files into 'merged_songs.csv' successfully!\")\n"
   ]
  },
  {
   "cell_type": "markdown",
   "metadata": {},
   "source": [
    "## Loading the DataSets"
   ]
  },
  {
   "cell_type": "code",
   "execution_count": 79,
   "metadata": {},
   "outputs": [],
   "source": [
    "df = pd.read_csv(r\"E:\\Lyrics_Generator\\Data_sets\\merged_songs.csv\")"
   ]
  },
  {
   "cell_type": "code",
   "execution_count": 80,
   "metadata": {},
   "outputs": [
    {
     "data": {
      "text/html": [
       "<div>\n",
       "<style scoped>\n",
       "    .dataframe tbody tr th:only-of-type {\n",
       "        vertical-align: middle;\n",
       "    }\n",
       "\n",
       "    .dataframe tbody tr th {\n",
       "        vertical-align: top;\n",
       "    }\n",
       "\n",
       "    .dataframe thead th {\n",
       "        text-align: right;\n",
       "    }\n",
       "</style>\n",
       "<table border=\"1\" class=\"dataframe\">\n",
       "  <thead>\n",
       "    <tr style=\"text-align: right;\">\n",
       "      <th></th>\n",
       "      <th>Artist</th>\n",
       "      <th>Title</th>\n",
       "      <th>Album</th>\n",
       "      <th>Date</th>\n",
       "      <th>Lyric</th>\n",
       "      <th>Year</th>\n",
       "      <th>Unnamed: 0</th>\n",
       "    </tr>\n",
       "  </thead>\n",
       "  <tbody>\n",
       "    <tr>\n",
       "      <th>0</th>\n",
       "      <td>Ariana Grande</td>\n",
       "      <td>​thank u, next</td>\n",
       "      <td>thank u, next</td>\n",
       "      <td>2018-11-03</td>\n",
       "      <td>thought i'd end up with sean but he wasn't a m...</td>\n",
       "      <td>2018.0</td>\n",
       "      <td>NaN</td>\n",
       "    </tr>\n",
       "    <tr>\n",
       "      <th>1</th>\n",
       "      <td>Ariana Grande</td>\n",
       "      <td>7 rings</td>\n",
       "      <td>thank u, next</td>\n",
       "      <td>2019-01-18</td>\n",
       "      <td>yeah breakfast at tiffany's and bottles of bub...</td>\n",
       "      <td>2019.0</td>\n",
       "      <td>NaN</td>\n",
       "    </tr>\n",
       "    <tr>\n",
       "      <th>2</th>\n",
       "      <td>Ariana Grande</td>\n",
       "      <td>​God is a woman</td>\n",
       "      <td>Sweetener</td>\n",
       "      <td>2018-07-13</td>\n",
       "      <td>you you love it how i move you you love it how...</td>\n",
       "      <td>2018.0</td>\n",
       "      <td>NaN</td>\n",
       "    </tr>\n",
       "  </tbody>\n",
       "</table>\n",
       "</div>"
      ],
      "text/plain": [
       "          Artist            Title          Album        Date  \\\n",
       "0  Ariana Grande   ​thank u, next  thank u, next  2018-11-03   \n",
       "1  Ariana Grande          7 rings  thank u, next  2019-01-18   \n",
       "2  Ariana Grande  ​God is a woman      Sweetener  2018-07-13   \n",
       "\n",
       "                                               Lyric    Year  Unnamed: 0  \n",
       "0  thought i'd end up with sean but he wasn't a m...  2018.0         NaN  \n",
       "1  yeah breakfast at tiffany's and bottles of bub...  2019.0         NaN  \n",
       "2  you you love it how i move you you love it how...  2018.0         NaN  "
      ]
     },
     "execution_count": 80,
     "metadata": {},
     "output_type": "execute_result"
    }
   ],
   "source": [
    "df.head(3)"
   ]
  },
  {
   "cell_type": "markdown",
   "metadata": {},
   "source": [
    "## Exploring the data"
   ]
  },
  {
   "cell_type": "code",
   "execution_count": 81,
   "metadata": {},
   "outputs": [
    {
     "data": {
      "text/plain": [
       "Artist\n",
       "Eminem           521\n",
       "Taylor Swift     479\n",
       "Drake            466\n",
       "Beyoncé          406\n",
       "Rihanna          405\n",
       "Lady Gaga        402\n",
       "Justin Bieber    348\n",
       "Coldplay         344\n",
       "Katy Perry       325\n",
       "Nicki Minaj      323\n",
       "Ariana Grande    308\n",
       "Ed Sheeran       296\n",
       "Dua Lipa         247\n",
       "Maroon 5         197\n",
       "Selena Gomez     175\n",
       "Post Malone      148\n",
       "Billie Eilish    145\n",
       "Charlie Puth      75\n",
       "Cardi B           75\n",
       "Khalid            64\n",
       "Name: count, dtype: int64"
      ]
     },
     "execution_count": 81,
     "metadata": {},
     "output_type": "execute_result"
    }
   ],
   "source": [
    "df['Artist'].value_counts()"
   ]
  },
  {
   "cell_type": "code",
   "execution_count": 82,
   "metadata": {},
   "outputs": [
    {
     "data": {
      "text/plain": [
       "(5749, 7)"
      ]
     },
     "execution_count": 82,
     "metadata": {},
     "output_type": "execute_result"
    }
   ],
   "source": [
    "df.shape"
   ]
  },
  {
   "cell_type": "markdown",
   "metadata": {},
   "source": [
    "## Checking for the missing data"
   ]
  },
  {
   "cell_type": "code",
   "execution_count": 83,
   "metadata": {},
   "outputs": [
    {
     "data": {
      "text/plain": [
       "Artist           0\n",
       "Title            0\n",
       "Album         1552\n",
       "Date          1744\n",
       "Lyric           38\n",
       "Year          1744\n",
       "Unnamed: 0     308\n",
       "dtype: int64"
      ]
     },
     "execution_count": 83,
     "metadata": {},
     "output_type": "execute_result"
    }
   ],
   "source": [
    "df.isnull().sum()"
   ]
  },
  {
   "cell_type": "code",
   "execution_count": 84,
   "metadata": {},
   "outputs": [],
   "source": [
    "df = df.drop(columns=['Album', 'Date', 'Year', 'Unnamed: 0'])"
   ]
  },
  {
   "cell_type": "code",
   "execution_count": 85,
   "metadata": {},
   "outputs": [
    {
     "data": {
      "text/plain": [
       "Artist     0\n",
       "Title      0\n",
       "Lyric     38\n",
       "dtype: int64"
      ]
     },
     "execution_count": 85,
     "metadata": {},
     "output_type": "execute_result"
    }
   ],
   "source": [
    "df.isnull().sum()"
   ]
  },
  {
   "cell_type": "code",
   "execution_count": 86,
   "metadata": {},
   "outputs": [],
   "source": [
    "df = df.dropna(subset=['Lyric'])  # Remove rows with missing lyrics\n",
    "df = df.drop_duplicates()  # Remove duplicate lyrics"
   ]
  },
  {
   "cell_type": "code",
   "execution_count": 87,
   "metadata": {},
   "outputs": [
    {
     "data": {
      "text/plain": [
       "Artist    0\n",
       "Title     0\n",
       "Lyric     0\n",
       "dtype: int64"
      ]
     },
     "execution_count": 87,
     "metadata": {},
     "output_type": "execute_result"
    }
   ],
   "source": [
    "df.isnull().sum()"
   ]
  },
  {
   "cell_type": "code",
   "execution_count": 88,
   "metadata": {},
   "outputs": [
    {
     "data": {
      "text/plain": [
       "(5711, 3)"
      ]
     },
     "execution_count": 88,
     "metadata": {},
     "output_type": "execute_result"
    }
   ],
   "source": [
    "df.shape"
   ]
  },
  {
   "cell_type": "raw",
   "metadata": {
    "vscode": {
     "languageId": "raw"
    }
   },
   "source": [
    "df.head(3)"
   ]
  },
  {
   "cell_type": "code",
   "execution_count": 89,
   "metadata": {},
   "outputs": [
    {
     "data": {
      "text/plain": [
       "Artist\n",
       "Eminem           521\n",
       "Taylor Swift     477\n",
       "Drake            464\n",
       "Beyoncé          406\n",
       "Rihanna          397\n",
       "Lady Gaga        395\n",
       "Justin Bieber    347\n",
       "Coldplay         333\n",
       "Katy Perry       324\n",
       "Nicki Minaj      321\n",
       "Ariana Grande    308\n",
       "Ed Sheeran       294\n",
       "Dua Lipa         246\n",
       "Maroon 5         197\n",
       "Selena Gomez     174\n",
       "Post Malone      148\n",
       "Billie Eilish    145\n",
       "Charlie Puth      75\n",
       "Cardi B           75\n",
       "Khalid            64\n",
       "Name: count, dtype: int64"
      ]
     },
     "execution_count": 89,
     "metadata": {},
     "output_type": "execute_result"
    }
   ],
   "source": [
    "df['Artist'].value_counts()"
   ]
  },
  {
   "cell_type": "markdown",
   "metadata": {},
   "source": [
    "## Text Preprocessing"
   ]
  },
  {
   "cell_type": "code",
   "execution_count": 90,
   "metadata": {},
   "outputs": [],
   "source": [
    "new_df = df.copy()"
   ]
  },
  {
   "cell_type": "code",
   "execution_count": 91,
   "metadata": {},
   "outputs": [
    {
     "data": {
      "text/html": [
       "<div>\n",
       "<style scoped>\n",
       "    .dataframe tbody tr th:only-of-type {\n",
       "        vertical-align: middle;\n",
       "    }\n",
       "\n",
       "    .dataframe tbody tr th {\n",
       "        vertical-align: top;\n",
       "    }\n",
       "\n",
       "    .dataframe thead th {\n",
       "        text-align: right;\n",
       "    }\n",
       "</style>\n",
       "<table border=\"1\" class=\"dataframe\">\n",
       "  <thead>\n",
       "    <tr style=\"text-align: right;\">\n",
       "      <th></th>\n",
       "      <th>Artist</th>\n",
       "      <th>Title</th>\n",
       "      <th>Lyric</th>\n",
       "    </tr>\n",
       "  </thead>\n",
       "  <tbody>\n",
       "    <tr>\n",
       "      <th>0</th>\n",
       "      <td>Ariana Grande</td>\n",
       "      <td>​thank u, next</td>\n",
       "      <td>thought i'd end up with sean but he wasn't a m...</td>\n",
       "    </tr>\n",
       "    <tr>\n",
       "      <th>1</th>\n",
       "      <td>Ariana Grande</td>\n",
       "      <td>7 rings</td>\n",
       "      <td>yeah breakfast at tiffany's and bottles of bub...</td>\n",
       "    </tr>\n",
       "    <tr>\n",
       "      <th>2</th>\n",
       "      <td>Ariana Grande</td>\n",
       "      <td>​God is a woman</td>\n",
       "      <td>you you love it how i move you you love it how...</td>\n",
       "    </tr>\n",
       "    <tr>\n",
       "      <th>3</th>\n",
       "      <td>Ariana Grande</td>\n",
       "      <td>Side To Side</td>\n",
       "      <td>ariana grande  nicki minaj i've been here all ...</td>\n",
       "    </tr>\n",
       "    <tr>\n",
       "      <th>4</th>\n",
       "      <td>Ariana Grande</td>\n",
       "      <td>​​no tears left to cry</td>\n",
       "      <td>right now i'm in a state of mind i wanna be in...</td>\n",
       "    </tr>\n",
       "    <tr>\n",
       "      <th>...</th>\n",
       "      <td>...</td>\n",
       "      <td>...</td>\n",
       "      <td>...</td>\n",
       "    </tr>\n",
       "    <tr>\n",
       "      <th>5744</th>\n",
       "      <td>Taylor Swift</td>\n",
       "      <td>Teardrops on my Guitar (Live from Clear Channe...</td>\n",
       "      <td>drew looks at me i fake a smile so he won't se...</td>\n",
       "    </tr>\n",
       "    <tr>\n",
       "      <th>5745</th>\n",
       "      <td>Taylor Swift</td>\n",
       "      <td>Evermore [Forward]</td>\n",
       "      <td>to put it plainly we just couldnt stop writing...</td>\n",
       "    </tr>\n",
       "    <tr>\n",
       "      <th>5746</th>\n",
       "      <td>Taylor Swift</td>\n",
       "      <td>Welcome Back Grunwald</td>\n",
       "      <td>turn wycd on you're on your grunwald back from...</td>\n",
       "    </tr>\n",
       "    <tr>\n",
       "      <th>5747</th>\n",
       "      <td>Taylor Swift</td>\n",
       "      <td>Tolerate it (Polskie Tłumaczenie)</td>\n",
       "      <td>zwrotka  siedzę i patrzę jak czytasz z głową p...</td>\n",
       "    </tr>\n",
       "    <tr>\n",
       "      <th>5748</th>\n",
       "      <td>Taylor Swift</td>\n",
       "      <td>Find you</td>\n",
       "      <td>trying just like they say just taking the step...</td>\n",
       "    </tr>\n",
       "  </tbody>\n",
       "</table>\n",
       "<p>5711 rows × 3 columns</p>\n",
       "</div>"
      ],
      "text/plain": [
       "             Artist                                              Title  \\\n",
       "0     Ariana Grande                                     ​thank u, next   \n",
       "1     Ariana Grande                                            7 rings   \n",
       "2     Ariana Grande                                    ​God is a woman   \n",
       "3     Ariana Grande                                       Side To Side   \n",
       "4     Ariana Grande                             ​​no tears left to cry   \n",
       "...             ...                                                ...   \n",
       "5744   Taylor Swift  Teardrops on my Guitar (Live from Clear Channe...   \n",
       "5745   Taylor Swift                                 Evermore [Forward]   \n",
       "5746   Taylor Swift                              Welcome Back Grunwald   \n",
       "5747   Taylor Swift                  Tolerate it (Polskie Tłumaczenie)   \n",
       "5748   Taylor Swift                                           Find you   \n",
       "\n",
       "                                                  Lyric  \n",
       "0     thought i'd end up with sean but he wasn't a m...  \n",
       "1     yeah breakfast at tiffany's and bottles of bub...  \n",
       "2     you you love it how i move you you love it how...  \n",
       "3     ariana grande  nicki minaj i've been here all ...  \n",
       "4     right now i'm in a state of mind i wanna be in...  \n",
       "...                                                 ...  \n",
       "5744  drew looks at me i fake a smile so he won't se...  \n",
       "5745  to put it plainly we just couldnt stop writing...  \n",
       "5746  turn wycd on you're on your grunwald back from...  \n",
       "5747  zwrotka  siedzę i patrzę jak czytasz z głową p...  \n",
       "5748  trying just like they say just taking the step...  \n",
       "\n",
       "[5711 rows x 3 columns]"
      ]
     },
     "execution_count": 91,
     "metadata": {},
     "output_type": "execute_result"
    }
   ],
   "source": [
    "new_df"
   ]
  },
  {
   "cell_type": "markdown",
   "metadata": {},
   "source": [
    "### Lowercasing"
   ]
  },
  {
   "cell_type": "code",
   "execution_count": 92,
   "metadata": {},
   "outputs": [],
   "source": [
    "new_df['Title'] = new_df['Title'].str.lower()\n",
    "new_df['Lyric'] = new_df['Lyric'].str.lower()"
   ]
  },
  {
   "cell_type": "code",
   "execution_count": 93,
   "metadata": {},
   "outputs": [
    {
     "data": {
      "text/html": [
       "<div>\n",
       "<style scoped>\n",
       "    .dataframe tbody tr th:only-of-type {\n",
       "        vertical-align: middle;\n",
       "    }\n",
       "\n",
       "    .dataframe tbody tr th {\n",
       "        vertical-align: top;\n",
       "    }\n",
       "\n",
       "    .dataframe thead th {\n",
       "        text-align: right;\n",
       "    }\n",
       "</style>\n",
       "<table border=\"1\" class=\"dataframe\">\n",
       "  <thead>\n",
       "    <tr style=\"text-align: right;\">\n",
       "      <th></th>\n",
       "      <th>Artist</th>\n",
       "      <th>Title</th>\n",
       "      <th>Lyric</th>\n",
       "    </tr>\n",
       "  </thead>\n",
       "  <tbody>\n",
       "    <tr>\n",
       "      <th>0</th>\n",
       "      <td>Ariana Grande</td>\n",
       "      <td>​thank u, next</td>\n",
       "      <td>thought i'd end up with sean but he wasn't a m...</td>\n",
       "    </tr>\n",
       "    <tr>\n",
       "      <th>1</th>\n",
       "      <td>Ariana Grande</td>\n",
       "      <td>7 rings</td>\n",
       "      <td>yeah breakfast at tiffany's and bottles of bub...</td>\n",
       "    </tr>\n",
       "    <tr>\n",
       "      <th>2</th>\n",
       "      <td>Ariana Grande</td>\n",
       "      <td>​god is a woman</td>\n",
       "      <td>you you love it how i move you you love it how...</td>\n",
       "    </tr>\n",
       "  </tbody>\n",
       "</table>\n",
       "</div>"
      ],
      "text/plain": [
       "          Artist            Title  \\\n",
       "0  Ariana Grande   ​thank u, next   \n",
       "1  Ariana Grande          7 rings   \n",
       "2  Ariana Grande  ​god is a woman   \n",
       "\n",
       "                                               Lyric  \n",
       "0  thought i'd end up with sean but he wasn't a m...  \n",
       "1  yeah breakfast at tiffany's and bottles of bub...  \n",
       "2  you you love it how i move you you love it how...  "
      ]
     },
     "execution_count": 93,
     "metadata": {},
     "output_type": "execute_result"
    }
   ],
   "source": [
    "new_df.head(3)"
   ]
  },
  {
   "cell_type": "markdown",
   "metadata": {},
   "source": [
    "#### Cleaning functions"
   ]
  },
  {
   "cell_type": "code",
   "execution_count": 94,
   "metadata": {},
   "outputs": [],
   "source": [
    "import re"
   ]
  },
  {
   "cell_type": "code",
   "execution_count": 95,
   "metadata": {},
   "outputs": [],
   "source": [
    "# Pre-checking the lyrics\n",
    "def has_html_tags(text):\n",
    "    \"\"\"Check if text contains HTML tags.\"\"\"\n",
    "    if not isinstance(text, str):\n",
    "        return False\n",
    "    return bool(re.search(r'<[^>]+>', text))\n",
    "\n",
    "def has_urls(text):\n",
    "    \"\"\"Check if text contains URLs.\"\"\"\n",
    "    if not isinstance(text, str):\n",
    "        return False\n",
    "    url_pattern = r'https?://\\S+|www\\.\\S+|\\S+\\.\\S+/\\S+'\n",
    "    return bool(re.search(url_pattern, text))\n",
    "\n",
    "# def has_punctuation(text):\n",
    "#     \"\"\"Check if text contains punctuation.\"\"\"\n",
    "#     if not isinstance(text, str):\n",
    "#         return False\n",
    "#     return any(c in string.punctuation for c in text)"
   ]
  },
  {
   "cell_type": "code",
   "execution_count": 96,
   "metadata": {},
   "outputs": [],
   "source": [
    "# Function to remove html tags and urls\n",
    "def remove_html_tags(text):\n",
    "    \"\"\"Remove HTML tags from text.\"\"\"\n",
    "    if not isinstance(text, str):\n",
    "        return text\n",
    "    pattern = re.compile(r'<.*?>')\n",
    "    return pattern.sub('', text).strip()\n",
    "\n",
    "def remove_urls(text):\n",
    "    \"\"\"Remove URLs from text.\"\"\"\n",
    "    if not isinstance(text, str):\n",
    "        return text\n",
    "    url_pattern = re.compile(r'https?://\\S+|www\\.\\S+')\n",
    "    return url_pattern.sub('', text).strip()\n",
    "\n",
    "# def remove_punctuation(text):\n",
    "#     \"\"\"Remove punctuation from text.\"\"\"\n",
    "#     if not isinstance(text, str):\n",
    "#         return text\n",
    "#     return text.translate(str.maketrans('', '', string.punctuation))"
   ]
  },
  {
   "cell_type": "code",
   "execution_count": 97,
   "metadata": {},
   "outputs": [
    {
     "name": "stdout",
     "output_type": "stream",
     "text": [
      "Precheck Summary:\n",
      "Lyrics with HTML tags: 0 (0.00%)\n",
      "Lyrics with URLs: 0 (0.00%)\n"
     ]
    }
   ],
   "source": [
    "lyric_html_count = new_df['Lyric'].apply(has_html_tags).sum()\n",
    "lyric_url_count = new_df['Lyric'].apply(has_urls).sum()\n",
    "# lyric_punctuation_count = new_df['Lyric'].apply(has_punctuation).sum()\n",
    "\n",
    "# title_html_count = new_df['Title'].apply(has_html_tags).sum()\n",
    "# title_url_count = new_df['Title'].apply(has_urls).sum()\n",
    "# title_punctuation_count = new_df['Title'].apply(has_punctuation).sum()\n",
    "\n",
    "total_rows = len(new_df)\n",
    "print(\"Precheck Summary:\")\n",
    "print(f\"Lyrics with HTML tags: {lyric_html_count} ({(lyric_html_count/total_rows)*100:.2f}%)\")\n",
    "print(f\"Lyrics with URLs: {lyric_url_count} ({(lyric_url_count/total_rows)*100:.2f}%)\")\n",
    "# print(f\"Lyrics with punctuation: {lyric_punctuation_count} ({(lyric_punctuation_count/total_rows)*100:.2f}%)\")\n",
    "\n",
    "# print(f\"Titles with HTML tags: {title_html_count} ({(title_html_count/total_rows)*100:.2f}%)\")\n",
    "# print(f\"Titles with URLs: {title_url_count} ({(title_url_count/total_rows)*100:.2f}%)\")\n",
    "# print(f\"Titles with punctuation: {title_punctuation_count} ({(title_punctuation_count/total_rows)*100:.2f}%)\")"
   ]
  },
  {
   "cell_type": "code",
   "execution_count": 98,
   "metadata": {},
   "outputs": [],
   "source": [
    "# Cleaning based on pre-check results\n",
    "\n",
    "if lyric_html_count > 0:\n",
    "    new_df['Lyric'] = new_df['Lyric'].apply(remove_html_tags)\n",
    "\n",
    "if lyric_url_count > 0:\n",
    "    new_df['Lyric'] = new_df['Lyric'].apply(remove_urls)\n",
    "    \n",
    "# if lyric_punctuation_count > 0:\n",
    "#     new_df['Lyric'] = new_df['Lyric'].apply(remove_punctuation)"
   ]
  },
  {
   "cell_type": "code",
   "execution_count": 99,
   "metadata": {},
   "outputs": [
    {
     "name": "stdout",
     "output_type": "stream",
     "text": [
      "\n",
      "Post-cleaning Result:\n",
      "Lyrics with HTML tags: 0 (0.00%)\n",
      "Lyrics with URLs: 0 (0.00%)\n"
     ]
    }
   ],
   "source": [
    "# Recalculate after cleaning\n",
    "lyric_html_count_after = new_df['Lyric'].apply(has_html_tags).sum()\n",
    "lyric_url_count_after = new_df['Lyric'].apply(has_urls).sum()\n",
    "# lyric_punctuation_count_after = new_df['Lyric'].apply(has_punctuation).sum()\n",
    "\n",
    "print(\"\\nPost-cleaning Result:\")\n",
    "print(f\"Lyrics with HTML tags: {lyric_html_count_after} ({(lyric_html_count_after/total_rows)*100:.2f}%)\")\n",
    "print(f\"Lyrics with URLs: {lyric_url_count_after} ({(lyric_url_count_after/total_rows)*100:.2f}%)\")\n",
    "# print(f\"Lyrics with punctuation: {lyric_punctuation_count_after} ({(lyric_punctuation_count_after/total_rows)*100:.2f}%)\")\n"
   ]
  },
  {
   "cell_type": "code",
   "execution_count": 100,
   "metadata": {},
   "outputs": [
    {
     "data": {
      "text/plain": [
       "0    thought i'd end up with sean but he wasn't a m...\n",
       "1    yeah breakfast at tiffany's and bottles of bub...\n",
       "2    you you love it how i move you you love it how...\n",
       "3    ariana grande  nicki minaj i've been here all ...\n",
       "4    right now i'm in a state of mind i wanna be in...\n",
       "Name: Lyric, dtype: object"
      ]
     },
     "execution_count": 100,
     "metadata": {},
     "output_type": "execute_result"
    }
   ],
   "source": [
    "new_df['Lyric'].head()"
   ]
  },
  {
   "cell_type": "markdown",
   "metadata": {},
   "source": [
    "## Chat Words Treatment"
   ]
  },
  {
   "cell_type": "code",
   "execution_count": 101,
   "metadata": {},
   "outputs": [
    {
     "name": "stdout",
     "output_type": "stream",
     "text": [
      "Number of lyrics containing chat words: 3374\n",
      "Number of lyrics containing chat words: 0\n"
     ]
    }
   ],
   "source": [
    "chat_words ={\n",
    "    \"u\": \"you\",\n",
    "    \"ur\": \"your\",\n",
    "    \"r\": \"are\",\n",
    "    \"ya\": \"you\",\n",
    "    \"luv\": \"love\",\n",
    "    \"b4\": \"before\",\n",
    "    \"gonna\": \"going to\",\n",
    "    \"wanna\": \"want to\",\n",
    "    \"gotta\": \"got to\",\n",
    "    \"lemme\": \"let me\",\n",
    "    \"gimme\": \"give me\",\n",
    "    \"im\": \"i am\",\n",
    "    \"dont\": \"don't\",\n",
    "    \"idk\": \"i don't know\",\n",
    "    \"brb\": \"be right back\",\n",
    "    \"lol\": \"laughing out loud\",\n",
    "    \"omg\": \"oh my god\",\n",
    "    \"ttyl\": \"talk to you later\",\n",
    "    \"lmao\": \"laughing my ass off\",\n",
    "    \"rofl\": \"rolling on the floor laughing\",\n",
    "    \"bff\": \"best friends forever\",\n",
    "    \"ily\": \"i love you\",\n",
    "    \"jk\": \"just kidding\",\n",
    "    \"bday\": \"birthday\",\n",
    "    \"cuz\": \"because\",\n",
    "    \"coz\": \"because\",\n",
    "    \"thx\": \"thanks\",\n",
    "    \"pls\": \"please\",\n",
    "    \"plz\": \"please\",\n",
    "    \"bae\": \"before anyone else\",\n",
    "    \"dm\": \"direct message\",\n",
    "    \"noob\": \"beginner\",\n",
    "    \"sk8\": \"skate\",\n",
    "    \"gr8\": \"great\",\n",
    "    \"np\": \"no problem\",\n",
    "    \"l8r\": \"later\",\n",
    "    \"idc\": \"i don't care\",\n",
    "    \"zzz\": \"sleeping\",\n",
    "    \"omw\": \"on my way\"\n",
    "}\n",
    "\n",
    "# Checking the number of lyrics containing the chat words\n",
    "\n",
    "def contains_chat_words(text):\n",
    "    if not isinstance(text, str):\n",
    "        return False\n",
    "    words = text.split()\n",
    "    return any(word in chat_words for word in words)\n",
    "\n",
    "# Check how many lyrics contain chat words\n",
    "chat_word_count = new_df['Lyric'].apply(contains_chat_words).sum()\n",
    "print(f\"Number of lyrics containing chat words: {chat_word_count}\")\n",
    "\n",
    "# Removing the chat words from the lyrics\n",
    "\n",
    "def chat_word_treatment(text):\n",
    "    if not isinstance(text, str):\n",
    "        return text\n",
    "    words = text.split()\n",
    "    normalized_words = [chat_words.get(w.lower(), w) for w in words]\n",
    "    return ' '.join(normalized_words)\n",
    "\n",
    "# Apply to the lyric column\n",
    "new_df['Lyric'] = new_df['Lyric'].apply(chat_word_treatment)\n",
    "\n",
    "chat_word_count_after = new_df['Lyric'].apply(contains_chat_words).sum()\n",
    "print(f\"Number of lyrics containing chat words: {chat_word_count_after}\")"
   ]
  },
  {
   "cell_type": "markdown",
   "metadata": {},
   "source": [
    "## Spelling Correction"
   ]
  },
  {
   "cell_type": "code",
   "execution_count": 102,
   "metadata": {},
   "outputs": [
    {
     "name": "stdout",
     "output_type": "stream",
     "text": [
      "Requirement already satisfied: pyspellchecker in c:\\users\\lenovo\\anaconda3\\lib\\site-packages (0.8.3)\n",
      "Note: you may need to restart the kernel to use updated packages.\n"
     ]
    }
   ],
   "source": [
    "pip install pyspellchecker"
   ]
  },
  {
   "cell_type": "code",
   "execution_count": 103,
   "metadata": {},
   "outputs": [
    {
     "name": "stdout",
     "output_type": "stream",
     "text": [
      "Total misspelled words: 59049\n",
      "Unique misspelled words (19201):\n",
      "{'artis', 'dolph', 'esrar', 'narcisse', 'wunderbar', 'seguir', 'dookie', 'ouuu', 'sepertimu', \"aujourd'hui\", \"parents'\", 'ghrisam', \"lackin'\", 'mygirlkissedanothergirl', 'megatron', 'mms', 'üstüne', 'queriendo', 'πληγωνει', 'qm', 'crcrazy', 'shade45', \"sinnin'\", 'malik', 'bana', 'kényelembe', 'singsing', 'meeeee', \"cris'\", 'πληγή', \"'xam\", 'hamtramck', \"preparin'\", 'fedi', 'mindstate', \"vacationin'\", 'nickihndrxx', \"4's\", 'nézni', 'hurd', 'listo', 'چیآره', 'pital', 'brrt', 'fyiii', 'mudas', 'wizkid', 'indoscented', 'دیسی', 'londra', 'grunwald', 'pinnedup', 'ellerini', 'καθε', 'woahohohohoh', 'moyens', 'mentre', 'خودم', 'tiraron', 'sevilles', 'michaels', 'tatuajes', 'paddywagon', 'preachin', 'bitcheshoes', 'چون', \"'roids\", 'toetagged', 'jangalang', 'pottorff', 'oxy', 'gün', 'miałem', 'itthen', 'armhennessy', \"hun'\", \"concernin'\", \"any's\", 'dzsekit', 'arra', 'jeepeta', 'leavin', 'ωχ', 'tuya', 'cantas', 'paarts', 'wheewheewheewheewheewheewheelers', 'pinkett', 'bir', 'bback', 'straped', 'phetamines', '大概這點心意', 'seis', 'havent', 'daviddaviddaviddaviddaviddavid', 'στιγμες', \"buskin'\", 'stammerin', 'sám', \"ditchin'\", 'charli', 'přitom', '4carat', \"scorin'\", 'sok', 'buzzled', 'highgrade', \"depressin'\", 'تاریک', 'melihatnya', \"tiltin'\", 'ayrılır', 'gönder', 'chingchingching', 'παρολο', 'wickwack', 'suplexing', \"attemptin'\", 'ekstra', 'řekne', 'ahba', 'facetime', 'ئەلبوومێکی', 'llévamelo', 'neka', 'wzięła', 'frogg', 'juega', 'ese', 'substitue', 'ئیفلاس', 'finsta', \"mournin'\", 'crabtree', 'ебу', 'sooo', 'judaahs', 'dxpe', 'brooknam', 'insanlar', 'cúrfa', 'istemediğinizi', 'manohman', 'strada', 'hella', 'βαθύα', 'negril', 'alalalalalalala', 'thirddegree', 'použiju', 'femmes', 'слайдер', 'milf', 'nonlyrical', 'scrunchin', 'motha', \"repentin'\", 'قۆڕە', \"touchin'\", 'keyshia', 'vibing', 'iohhaha', 'adanunana', \"k9's\", \"girls'll\", 'havalı', 'marlbxoro', 'çıkan', 'ohhhx', 'rrroll', 'finte', 'vincentst', 'twirk', 'ysl', \"wayne's\", 'hoohoo', 'ncbraska', 'yoksa', 'bebek', 'peta', 'permettra', 'всех', 'shiiit', \"sense'\", 'jewelerjeweler', 'mothafucker', 'whatchya', 'resetter', 'maakt', 'aku', \"pace'\", 'zayn', 'εαν', \"gibberin'\", 'jelenléted', '둘이', \"explodin'\", \"consolin'\", 'chkwordword', 'sweeterman', \"goofin'\", \"'iatch\", 'twista', 'меня', \"shady'm\", \"dj's\", 'tüm', 'yaow', \"'roundme\", 'emzee', 'amilyennek', 'fuerte', \"not've\", 'ناتوانم', 'soundbombing', 'gcrl', 'حضورت', 'dresta', 'dvd', \"qu'on\", 'expressar', 'oonesided', 'entrepopo', 'loch', 'görünüşe', \"memory'll\", 'göster', 'šálek', 'herehereherehere', 'ohh', 'trapstar', 'pctrified', 'malano', 'não', 'tutte', 'xan', 'groundbreakin', 'woooorld', 'folyosóra', 'rakim', 'فیوچر', \"hova's\", 'ticktickticktickticktick', 'shitstained', \"me''\", 'riche', 'لعنت', 'گوهرند', 'asist', 'ohnonono', 'tangeray', 'woowoo', 'jodemos', 'serrés', 'almaya', \"we'rе\", 'fortnite', 'whatwhatwhat', \"hattenin'\", 'aimes', 'chaching', 'hahahahaheart', 'badaboom', 'beamer', 'hadi', \"wit'\", 'pc', '문을', 'specialer', 'cigam', \"uz'\", 'معنی', 'monsta', 'oumou', 'túlteszem', '都與我們的未來無關', \"dvd's\", 'kianna', 'megváltozott', 'swaggy', 'theeth', 'rightright', \"mixin'\", 'juro', 'cddo', 'pişirmeyi', 'greenlantern', 'pesci', 'prеssure', 'bumpin', 'sundayim', 'chroí', 'rábukkanni', 'ooo', 'féministes', 'podríamos', 'mefuck', 'phys', 'anlaşmak', 'rroger', \"hiphoprappin'\", '總是在親吻中善忘', \"mornin'now\", 'onami', 'comme', 'ça', 'swervin', 'tunechi', 'domesticarme', 'compris', 'neurofens', 'assholeeeeeeeeeeeee', 'fuckas', 'brang', 'blaw', \"n'ai\", \"buddha'd\", 'shanell', 'binded', \"golddiggin'\", 'pacman', 'kahvaltı', 'benét', 'rekerekereverse', 'tiksinç', 'languagono', 'számára', 'kloss', 'gpass', 'goonies', \"dialin'\", 'dareyoubitchass', \"coolin'\", 'gooda', \"cashin'\", 'navíc', \"j'avance\", 'cooch', 'حرکت', \"bitin'\", 'nickle', 'скинь', \"abusin'\", 'strapon', 'کە', 'دێم', 'feefifidideeyay', \"'resha\", 'marvclous', 'copperwood', 'drcgs', 'skrzypiec', 'redlight', 'mashallah', 'doute', 'thirstay', 'pourtant', 'patpatpat', 'ارزش', 'beatz', 'maaan', 'selfindulgent', 'stika', 'trixie', 'shoutout', 'προσπαθουν', \"dad'll\", \"looking'\", 'dita', 'donehere', 'fechados', 'weathergirl', 'منظورش', 'pritty', 'roethlissplurge', 'breakin', \"plottin'\", \"actin'\", \"backhandin'\", 'flushin', 'reretarded', \"sswag's\", 'rucker', 'jah', 'nininight', \"processin'\", \"shit'd\", 'yg', 'careyes', \"m'fait\", \"hailie's\", 'pólóddal', 'youngings', 'timbaland', 'andor', 'tududu', 'presidental', 'mclarence', \"icin'\", 'sherane', 'demar', 'dissin', 'bulundum', 'butta', 'biçme', 'stiched', 'ahahah', 'hoşgeldiniz', 'pcek', \"avoidin'\", \"nigga's\", 'serseri', 'fif', 'demoları', \"name'll\", 'söyleme', 'detroitarea', 'gouttes', 'badababadabada', 'fo', \"instru's\", 'woahwoahwoah', \"clubbin'\", 'buscemis', 'foreverholdagrudge', 'wеar', 'nevеr', 'nellaf', 'abychom', \"doors'\", 'kırdı', 'هات', 'atención', 'szóba', 'wooooah', 'awwww', \"studyin'\", 'mmmmia', 'نەوەدی', 'nikt', 'fring', 'tutkal', 'دست', 'terrifyingand', 'beidh', 'darabjaiból', 'głupot', 'steez', 'peregrino', 'yutes', '40bottles', 'بازی', 'huggy', 'tivation', 'neosporin', \"stace'\", \"toastin'\", 'blaqnmild', 'coheadlining', 'دو', 'sintegrate', 'چونکە', 'gini', 'promiscuité', 'sacha', 'yisa', 'cholo', 'veya', 'vado', '我未能拋得開痛著醉倒', 'pootpoot', 'shontelle', 'sogging', 'bestsum', \"keke's\", 'دەنێن', 'letadla', 'rugers', 'latenight', 'offence', \"wreckin'\", 'lloré', 'ladadadadum', 'место', 'unabomb', 'dołączać', 'poppyfields', 'mamama', 'taha', 'rightlike', 'wowwow', 'perba', 'riffy', 'bushwick', 'deneyimleyemedin', \"mu'fuckas\", 'whawhat', 'zbaví', \"les'\", 'fack', 'rolledup', 'blup', 'gdamn', 'uhohuhoh', 'gwiazdy', 'ruger', 'шалаву', 'moneymoney', 'bumpertobumper', 'threefooteleven', 'orta', 'hersheypark', 'brbring', \"c'mere\", 'nevaljali', 'negli', 'mottola', 'będę', 'millitant', 'rentfree', 'herkesin', 'ochocinco', 'هیچ', 'kasesine', 'lecter', \"gamblin'\", 'postchours', 'kumbaya', 'mеn', 'tranter', 'cadenas', 'meus', 'çıkıp', \"multitaskin'\", \"pleadin'\", 'خفن', 'gueguegue', 'دەفرم', \"rit'\", \"intertwinin'\", 'magamat', 'zihinlerimizden', \"'tron\", 'doublefisted', 'ahahahah', \"'rari\", 'startshititis', 'wwwwwwrong', 'expresser', 'lllooking', 'donnez', \"would'd\", 'oompaloompa', 'cetera', 'segway', 'yeni', 'preconcieved', \"pumpin'\", \"hustlin'backwards\", 'flippity', 'ganglias', 'excusezmoi', \"i'mtoogoodtocallorwritemyfans\", 'dururken', 'pinga', 'bırakıyorum', 'arcom', 'threeyear', 'нельзя', 'mei', \"linkin'\", 'rechid', 'vete', \"gangbangin'\", 'bouří', \"ggg's\", 'belajar', 'theres', 'là', 'ciegamente', \"returnin'\", 'sixtrey', 'middecember', '相處那麼長', 'میزنه', 'crossfaded', 'حست', 'pricetag', 'kristofferson', \"cherryi'm\", 'нажат', 'heute', 'személyhívónkat', 'należy', 'mba', \"breezy's\", 'acaríciame', \"'after\", \"another's\", 'sprzedaję', 'sayfalar', 'shúil', 'نمیکنه', 'dadadumdum', 'blblblblblblblb', \"anyit's\", 'headtop', 'embala', \"sparkin'\", 'frenchies', \"girli'm\", 'idris', 'میدم', 'aee', 'oohahh', 'sonhos', 'ly', 'nadie', 'ambien', 'tmz', 'tasers', 'powiedzieli', 'broadcastin', \"chron'\", 'çok', 'ikiye', 'façade', 'rückgrat', 'railiza', \"restrainin'\", \"stalkin'\", \"endin'\", 'outcho', 'likkle', 'tthe', \"free's\", 'trappy', \"waiti'm\", 'luccello', 'otkopčaj', 'twojuly', 'além', '더는', 'oohee', \"wildin'\", 'krills', 'brrp', 'deams', 'inperson', 'andreja', 'smallz', 'lewinksy', 'jjjjust', 'arent', 'поводу', 'extracurriculum', 'dennetdennetdennet', \"politicin'\", 'azokat', 'hamar', \"violence'll\", 'timeبهترین', 'dólar', 'میخوان', 'gant', \"gurglin'\", 'badbad', 'kimora', 'mewhy', \"horsin'\", 'beatin', 'asalamalakum', 'fourfifth', 'شێوەیەم', 'flacko', 'masta', 'makinesinde', 'bellarang', 'radiofriendly', 'womanbad', 'abaziyo', \"impact'll\", 'playin', \"'villians\", \"tusslin'\", 'hoodies', 'ninetofive', \"thickenin'\", 'miseducation', 'teď', 'baisley', 'salivawhat', 'seh', 'tv', 'مثل', \"'u'\", 'historia', 'whi', 'sobre', 'åhlund', 'kyla', 'baratheon', 'gdzie', 'favorito', 'передоз', 'looove', 'امامنهمونطور', \"swaggin'\", 'ona', 'ahhhh', 'goodhouse', 'rockshow', \"enjoyin'\", 'kahlúa', 'naší', 'lookin', 'mayback', 'uoy', 'نجات', 'seru', 'tobacca', 'pickerin', 'machel', 'raekwon', 'larararilarara', 'bathingroom', 'booin', 'seré', \"bitches'll\", 'espectáculo', 'nani', 'جایی', 'sheesh', 'everytime', 'doux', \"envisionin'\", \"moonwalkin'\", 'ihtiyacımız', 'szívvel', 'carbone', 'které', 'contestar', 'monsterererererer', 'grandmom', 'roi', 'пиздах', \"'tize'\", 'yamazaki', 'ئینتڕۆ', 'foreigns', 'lipo', \"obsessin'\", 'manevolent', 'guapa', \"this'll\", 'mili', 'chigachiggachigchigjerchigjer', 'trouver', \"excludin'\", 'تەماشای', 'stupidass', 'vocalistically', 'savaşacağım', 'aiiight', 'rejoinsmoi', \"deev'n\", 'babxy', 'ποναει', \"reasonin'\", 'pilati', 'taschen', 'honeybunches', 'fricassed', 'آهنگی', 'medom', 'harington', 'stefano', 'canta', 'lámha', 'assholeee', 'badadadadada', \"'cos\", \"recuer'os\", 'arreglé', 'mmmhmm', 'frings', 'téged', 'xanaxes', 'évre', 'aloohohone', 'عشق', 'molde', 'whut', 'kanyeezy', 'dadadooda', 'souououououl', 'schofield', 'twoways', 'alqaeda', \"canoodlin'\", 'havе', 'hoohohoh', 'úgy', 'concierto', 'وازم', 'beamen', 'hooder', 'motherfriggen', 'checka', 'tearsome', 'ئێلئێل', 'franca', 'tijd', 'ohwhoa', 'gott', 'wimpers', 'stüssy', 'sunray', 'cherrythongcom', 'amg', \"teteteteacher's\", 'mansa', 'joc', 'galifianakis', 'teisha', 'doubledup', 'ses', 'aaand', 'rightpanning', 'amava', 'senin', 'alanis', 'guessguess', 'kidsgrown', 'aaagain', \"shiftin'\", 'encontrar', 'tch', 'youme', 'queenstreet', 'selfdiscover', \"ma'\", 'dumma', 'hgkmo', 'pathétique', 'pussys', 'vilatle', 'yooter', \"protectin'\", \"life'd\", 'trannies', \"embarrassin'\", 'στο', 'werent', 'mj', 'naruba', 'eightysix', 'bajista', 'meth', 'indo', 'uhhoh', 'ettiğini', 'pnc', \"'aight\", 'postyah', 'mhmmm', 'onceuponatime', '0berzerk', \"whoever's\", 'rollercoasting', \"i'mmanna\", 'quando', 'valahogyan', 'didi', 'holliday', \"pills'll\", 'odzyskuję', 'pipty', 'omgno', 'ismim', 'eyeington', 'subbabick', 'twoseater', \"quackin'\", \"'chella\", 'moetter', \"approachin'\", \"tanny's\", 'pnb', 'eq', 'lami', 'izquierda', \"winkin'\", \"iti'm\", \"airin'\", 'biditch', 'breakbeats', 'söylüyorsun', \"fizzuckin'\", 'yapılan', 'aisiesday', 'liiiiife', 'controverse', 'exll', 'categor', \"drake'll\", 'borat', \"vicodin's\", 'esophogus', 'transfcrm', 'webstar', 'dormire', 'hortons', 'bootylicious', 'mmmaybach', 'آسیب', 'kapri', \"'nd\", 'bbw', 'lindo', 'totales', 'acuestas', 'bubb', 'akarom', 'diventato', 'bagges', 'blblblblblb', 'فلاش', 'mamamatter', 'screwups', 'fiveyearold', 'voila', 'youkikilla', 'رکاب', 'slizzel', 'siklemek', 'eyelidsaha', '你明白你擅長', 'lany', 'ز', 'comehome', \"shakin'\", 'víc', 'freiheit', 'pookie', \"'87\", \"d'wayne\", \"lipo'd\", 'hadouken', 'shopban', \"skipskippin'\", 'walczę', 'badum', 'discutimos', 'cosa', 'toolong', 'fantasic', 'یکبار', 'backroads', 'cheung', 'swirlin', 'sikmemi', 'cambiar', 'ты', 'jid', 'impressin', \"detroit'\", 'postavení', 'δυσκολευομαστε', 'dazu', 'tú', 'نبود', 'gyönyörű', 'molesto', 'czasu', 'bibibay', \"'ready\", 'pizzaria', 'bebe', \"wmd's\", \"jm'habille\", \"thumbin'\", 'brightside', 'خوبرفیق', 'mickeyds', \"cravin'\", 'olursan', \"teenagers'\", 'darte', \"nick'i\", \"'osix\", 'kupa', 'matterfact', 'gameking', 'hoеs', 'iim', 'thunthun', \"tun'\", 'generoso', 'incidentials', 'φυλαχτό', 'spraycan', 'rattattap', 'popiana', \"visitin'\", 'pretvaram', 'kawhi', 'fortyseven', 'már', 'tika', 'pperfect', \"harassin'\", 'balanceo', 'prechrous', 'mothafckin', 'intenzita', \"slippin'\", 'sicky', \"jimmy'yi\", 'guegueguegueitchkit', \"dividin'\", 'ive', 'noreaga', 'شیدی', 'dobodom', 'tsh', 'puuuh', 'bossssss', 'нравится', 'se7400', 'karşılarına', 'canam', 'çocuğunu', 'spunned', 'dupdupdupdup', \"smashin'\", 'seperate', 'lcshes', 'huhuhu', 'sixtynine', 'mjh', 'leway', 'nicnicki', '6ix9ine', 'oli', 'tenyearold', 'سوزشفوت', 'fliehen', 'deepfried', 'iii', \"'causе\", 'dreamgirl', \"mutterin'\", 'gfulls', 'imaš', 'skrip', 'dmp', 'negligar', 'fergoob', 'lanetolane', 'هووک', 'cigcrette', 'niż', 'raf', \"circlin'\", \"'cuz\", 'pollo', 'poppopping', 'dropscrackers', 'halim', 'hotová', 'cmon', 'minajwhy', 'buglars', 'uyuyor', 'hehehe', 'bm', 'ayoow', 'hastalık', 'summerboy', 'pegity', 'aż', 'vissza', 'brillant', 'και', 'wwwwhy', 'nextofkin', 'flaugen', 'dziwnego', \"boyboyboy's\", 'mamita', 'hohhhohh', 'leadtam', 'zrobić', 'چه', 'ists', 'fuelband', \"seemin'\", \"flakin'\", 'muy', 'relievin', 'allallall', 'zipzip', 'dođi', 'خوب', 'quelque', \"t'endors\", 'suckasucka', 'uğaraşmak', 'sembri', 'бензо', 'murciélago', 'rogando', 'novio', \"pourin'\", 'tipsed', 'پا', 'emo', \"e'rythang\", 'gezellig', \"fillin'\", 'rememba', 'guessin', 'yaowa', 'loca', 'httpsbangkokplaymatescom', \"70's\", \"functionin'\", 'afection', 'ils', 'réparer', 'byłam', 'vinn', 'familia', 'uncrackable', 'drezy', 'exheroin', 'wasnt', 'میگوس', 'روحتون', \"sewin'\", 'haza', 'yeeyeah', 'lau', 'dile', 'dziecko', 'bbbitches', \"vvs'\", 'cortne', 'amigable', 'بدون', \"try'\", 'pasado', 'okurr', 'beso', 'syruped', 'nananananananananananana', 'rell', 'stayfree', 'آینده', \"stuffin'\", 'a6', 'hhow', \"sluggin'\", 'riverer', \"yonk'\", 'irl', 'secondincommand', 'tojust', 'dibujarte', 'haaah', 'kells', 'před', 'mould', 'whenif', 'otro', 'cils', 'pudor', 'baduf', 'killah', 'lahey', \"skippin'\", \"activ'\", 'yapıldım', 'sharica', 'stimulators', 'pka', 'og', \"needin'\", 'grandkids', 'macknupid', 'آرهاونا', 'uie', 'tumblr', 'aller', 'anyám', 'repromise', 'juuddaas', 'jeapordy', 'marlbcro', 'ninetynine', 'harajuku', 'batshit', 'yeen', 'millwall', 'mehki', 'fuckedbitch', 'criedgod', 'دارم', \"irkin'\", 'μια', 'دڵم', 'oneyear', \"pullin'\", 'blessin', 'giohrl', 'oswojony', 'chopchop', \"round'\", 'összehajtottam', 'llevare', 'callar', \"cons'\", \"mushrooms'\", \"jabbin'\", 'maxell', 'sungarood', 'breaeeek', 'unlight', 'latifah', 'ansari', 'afura', 'forreal', 'birdcrazy', 'shooby', 'mmm', 'ziele', 'childishlike', 'gcode', 'skag', 'spect', 'ssame', 'zapp', 'billis', 'brazy', \"winehouse's\", 'izlemesini', 'gerekiyordu', 'perder', 'cigcrettes', 'viele', 'toandfro', 'ohnananana', 'uturns', 'zolanski', 'seninkine', 'skeppy', 'quieren', 'şişme', 'şişe', 'threelegged', 'ohohoooh', 'trasparenti', 'oakwood', 'دەوڵەمەند', 'nahnahnah', 'rorschachs', 'shoulda', 'wackass', 'prehook', 'survivе', 'hace', 'raz', 'mamasaymamasamamacosa', 'fonz', 'youknowwhat', \"landin'\", 'میرسن', 'destra', 'επουλώσει', 'chea', 'بهشون', \"fa'\", 'لێیە', \"lurkin'\", 'heartbroke', 'felvettem', \"birthin'\", 'danaa', 'whwhere', 'érzem', 'porche', 'bekliyor', \"shavin'\", 'frais', 'şimdi', 'chrous', 'kafam', 'pssh', 'ralphi', 'puedo', 'lucious', 'stronę', 'mmmmurda', 'screwup', 'sheoheheh', 'shortlived', 'mook', 'outgrowed', \"e'ry\", 'tartşmamı', 'dimelo', 'somе', 'aber', 'febreeze', \"suffocatin'\", 'fasolatidaso', 'çeneni', 'پشت', \"swearin'\", 'osama', '平和地相處的美好', 'choosin', \"u'z\", 'munchie', \"'mor\", 'hesitators', 'stata', 'jjjust', 'rringing', 'ren', 'nekai', 'angelettis', 'xanny', \"bridgin'\", \"to'as\", \"'roc\", 'loveydovey', 'bo', 'rugrats', \"gigglin'\", 'sippy', 'çılgın', 'radidididididididididada', 'kell', 'میگم', 'ssstutter', 'çocukken', 'muny', 'scadattle', 'seul', 'ج', 'copa', \"salimo'\", 'خۆیان', \"ccomin'\", '4th', 'plasticware', 'girlll', 'hayatıma', 'prawdopodobnie', 'ohiohiohi', 'riesen', 'goode', 'ryders', 'jäger', 'forgеt', 'headsup', 'roce', 'hipsyou', 'quo', 'soontobespouses', 'nowhow', 'temiz', 'ooou', 'dışarı', 'reda', 'grcss', \"crusin'\", 'pergi', 'kouyate', 'nutbag', 'dishwash', 'whoawhoawhoawhoawhoa', 'bellys', '6am', \"racin'\", 'işte', 'لەوانەی', 'ighile', 'mutumbo', 'witherspoon', 'haaan', 'wassa', 'memoria', 'muthafck', 'tryed', 'woadie', 'joell', \"taking'\", 'solite', 'ceilin', 'muda', 'andoyiki', \"downtalkin'\", 'éve', 'coldplay', 'shoutnow', 'andas', 'ماینرزگروه', 'wid', 'midjuly', 'jezelf', 'wrassle', 'stststole', 'najmniejszego', 'temblando', \"stressin'\", \"rapino's\", 'tourettes', 'rr', 'pushin', 'gct', 'bian', 'johny', 'childs', 'yummyyummy', 'ruke', 'dizlerini', 'vanl', \"muh'fucker\", \"mean'\", 'nipsey', 'cootmore', 'frontin', 'haah', 'brakeline', 'ئەوەنەی', 'saniye', 'dropsfuckin', 'dodada', 'partie', 'kesmeni', 'reloader', 'dasani', \"ricochetin'\", 'adel', 'souffle', 'دوای', 'ner', 'dağılma', 'saidshe', 'أبي', \"mic's\", 'amwin', 'pubalic', \"tapin'\", 'tupack', 'kötelességed', 'gloutlékzo', \"jigga's\", \"'gram\", \"streamin'\", \"steamin'\", 'mxnicure', 'rescratched', 'johansson', 'swanepoel', 'قەحبە', \"stampin'\", 'tisci', 'zvedněte', 'exboyfriend', 'dadz', 'tous', 'по', 'منم', 'thatimmersive', 'زنده', '得你能透視至此', 'princе', \"seekin'\", \"o'reilly\", 'naah', \"dwellin'\", 'clb', 'neamh', 'può', 'il', 'waynebusta', 'estow', 'forgivenessext', 'gaffle', 'mamamama', 'separateus', 'dundddundundddundun', 'ohwoahohohyeahey', 'treach', 'insanları', 'próbuję', \"'son\", 'khaled', 'kermain', 'megszagoltam', 'telo', 'suelta', 'xo', 'intacts', 'cavi', 'semnou', 'maaco', 'drcnk', \"dtwizzy's\", 'razu', \"il'\", 'aunque', 'eyore', 'látom', 'twentysixyearold', 'stać', 'söylemiş', \"explain'\", 'شدمن', '900msminaj', \"rentin'\", 'freaknik', \"o'donis\", 'hacer', 'nightcredits', 'yeaea', 'wacked', 'popopopoker', 'porsches', \"profilin'\", 'cellay', 'pióra', 'nepřestane', 'bloodfor', 'τροπο', 'olvida', 'davul', '77th', 'nudecolored', 'vámanos', 'knicks', 'تاکو', 'oneofaone', 'krijgen', \"jus'\", 'ricki', 'ебл', 'οταν', 'bisbal', 'noir', \"'gators\", 'walkthrough', 'servin', 'kardinall', 'pół', 'furniturе', 'dropswhat', 'colde', 'içi', 'ohhhhhhhh', 'فهمیده', 'murked', 'نماند', 'innie', 'wiggin', 'noohnoohohohoh', 'vothe', 'plap', 'liddift', \"friggin'\", 'unemploying', 'megittunk', 'recordin', 'mp', 'assback', 'γυρίσα', 'loc', 'yazzzzz', 'nnashville', 'μερος', 'beş', \"c4in'\", 'automare', 'ciggarete', 'ittybitty', 'jeśli', 'arbeit', 'همکاری', 'istediği', 'dużo', 'lickity', 'mmh', \"nightmares'll\", \"motherfuckin'\", 'tstreets', 'griffey', \"slidin'\", 'olmasını', \"meanin'\", 'ooverstayed', \"mappin'\", 'tongueincheekness', \"chompin'\", 'insteadyeah', 'maraj', 'leben', 'نەکردوە', \"burstin'\", 'tteardrops', 'álmok', 'cartey', 'doooooog', \"ja'll\", 'novacaine', 'blousa', 'fyi', 'twoinch', 'comingofage', 'villans', 'tridip', 'pingpong', 'nanana', 'دەرەوەی', \"cipherin'\", 'healin', \"searchin'\", \"'n'\", 'cockwhen', 'fák', 'alakazam', 'garantis', 'quesque', 'bitcoin', 'تنهایی', 'bbback', 'fffocus', 'throught', 'şiddeti', 'masterbate', 'bruk', 'mе', 'από', 'کشته', 'zod', 'jheeze', \"innocentlookin'\", \"5'\", 'ahhahhahahhh', 'sotomayar', \"niggas'll\", \"'ine\", 'nonmogul', 'pringles', 'nana', 'ahahahhhow', 'asswhooping', '8v', 'dropsstimulate', 'mmmh', 'wetwet', \"frostin'\", \"nonrappin'\", 'hunnie', \"lypo'd\", 'myvenom', 'macmahon', 'judgin', 'sl', 'unrecupable', 'fabolous', 'multiplatinum', 'oneofone', 'ehoh', \"what'sherface\", 'kkinda', 'nehw', 'kes', 'wooohohoh', 'میکنم', 'تخفیف', 'amore', 'playboi', 'سمت', 'لەم', 'forps', '____', \"expressin'\", 'müfredat', \"erodin'\", 'outhustle', \"scarin'\", 'muzyka', 'neverneverland', 'popstar', 'užívat', 'halfcrazy', 'شه', 'dingied', 'gue', 'přesně', \"vibin'\", 'eightnine', 'coulda', 'casuto', \"4'o\", \"claimin'\", 'sürtüğü', 'kkid', 'giv', 'napon', 'mmoney', 'olúwa', 'corito', 'kissandtell', 'banyoda', 'malo', \"callin'\", 'witchu', 'skatin', 'macklemore', 'kuniva', 'pięć', 'hererer', 'créeme', 'brrrbrrr', 'fuckastripperontheminkrug', \"cornylookin'\", 'simplement', 'radość', 'mugler', \"featurin'\", 'mente', 'anywayyeah', 'dollardollardollar', 'مسخره', 'kufi', 'içiçi', 'darkwing', 'بەرهەمداریمان', 'deliyim', \"clubhoppin'\", 'denynynyny', 'bumstickitybum', 'illiterature', 'cheapass', 'mc', 'averiguar', 'coldhearted', 'liberaté', 'gaguilera', 'gifford', \"'96\", 'oldu', \"turnin'\", 'fiftyeleven', \"ev'i\", 'highfives', 'twothousandthird', 'gelip', 'geto', 'oye', 'givin', 'masa', \"abidin'\", 'koule', \"'least\", \"wheeliein'\", '009present', \"'magine\", \"''talk\", 'هەمووشت', 'nowow', 'już', 'algún', \"mousei'm\", 'истериках', 'dreamhouse', \"pop'\", 'tych', 'brap', 'başaramayacak', 'huhand', \"dereon's\", \"cursin'\", \"moshin'\", 'مردم', 'eljött', 'roblox', 'malachai', \"peepin'\", 'creekwater', 'sperial', 'kaosa', \"inhalin'\", 'kontrol', 'iceskating', 'identicalbut', 'youngen', 'weener', 'tylko', 'pensylvania', \"ponderin'll\", 'rrrrrrroaw', 'nigga', 'roleplay', 'powinienem', 'kulture', \"bitch'\", 'workline', 'hohohoholy', 'everynight', 'druha', 'húzódni', 'tinka', 'lk', 'irie', 'دوستت', 'prenupt', '相好那麼短', 'aussi', 'plplastic', 'pj', 'berp', 'brokеn', 'perce', 'μωρο', 'wszystkie', 'mazi', 'dwele', 'oooohhh', 'ertert', 'dolar', \"revivin'\", \"cleanin'\", 'nininininininininight', \"sidetrackin'\", 'thickle', 'carrotcake', 'veteránům', 'assalaamalaikum', 'zorgen', \"'droid\", 'kafanın', \"bowin'\", 'droid', 'eightpage', 'candyland', 'پرواز', 'ferraris', 'canino', 'doorbrengen', \"strikin'\", 'lambos', 'dropsjealousy', 'faszba', 'wwwait', \"'07\", \"cussin'\", 'bape', 'kılıçtan', 'pppush', \"abracadab'\", \"weakenin'\", 'adoras', 'chllin', \"bakin'\", 'uhooh', \"shady'd\", 'thefame', 'rockin', 'bizarres', 'liomsa', 'آدما', 'gogogo', 'uhyeah', 'única', 'bí', 'dirirt', \"followin'\", 'przepadałem', 'theyd', 'slauson', 'noro', 'برگردوند', 'dodgin', 'middleclass', 'dico', 'barbone', 'flatline', 'suckerfree', 'avi', 'farruko', 'falschheit', 'gv', 'kažeš', 'eam', 'waps', \"drinkin'\", 'pegao', 'tipdrill', 'wouldas', 'jorza', 'bőrszíne', 'rosemont', 'anydamnwhere', 'میخوامریانا', 'لەگەڵ', 'eardrummers', 'kranium', 'صمیم', 'buggish', 'ecstasied', 'soundz', 'dancez', \"hoopin'\", 'telemundo', 'atm', '忘掉這麼想最傷', 'vu', \"full'a\", 'rso', 'upput', \"muh'fuckin'\", 'artık', 'ners', 'clicquot', 'datsun', 'lethals', '009we', 'culliton', 'backstory', 'ahyea', 'imaginação', \"kardash'\", \"ak's\", 'loustar', 'rada', 'کنسل', 'cah', 'flexin', 'awww', 'buba', 'ئەڕۆن', 'golddiggers', 'dadadoodootn', 'barzini', 'goldish', \"i'on't\", \"tearin'\", 'پێنجدا', \"how'm\", 'ht', \"quittin'\", 'eightyseven', 'eryn', 'selfpossessed', \"servin'\", 'ancora', \"overdosin'\", 'πληγώσεις', 'prefiere', 'روزگار', 'caicos', 'بک', \"mashin'\", \"controlla's\", 'اشاره', 'woah', 'mengubah', 'satabilmeyi', 'clit', 'sugarland', 'دومنیک', \"vma's\", 'swangas', 'havuzları', \"fightin'\", 'hihat', 'naturelle', 'ciara', 'kartel', 'ft', 'sik', 'mmmore', 'bts', 'drdrdrdragged', 'skully', 'coretta', 'manyeah', 'yapmış', 'yearwho', \"us'\", 'calp', 'buttnaked', \"relatin'\", 'manolos', 'él', 'ohhhhhhh', 'ninetyfive', '80k', 'unleakedunreleased', 'trapjumper', 'cokecola', 'modo', 'regali', 'kerwin', 'θυμάμαι', 'sro', 'thinkthink', 'voli', 'reír', 'ترم', 'oohwhoa', 'ertesi', 'sainttropez', 'chapmans', \"m'vleou\", 'urkel', 'oooaa', 'lex', 'twoninetyfive', 'افتاد', 'αναμνήσεις', 'ahahohohoh', 'quintana', \"loopin'\", 'için', 'mmhmm', 'dat', 'بەرامبەر', 'bustin', 'ferragamo', 'ağzıma', 'πραγματι', 'akh', 'vestes', \"jag'\", 'celebrando', 'bitchi', 'getti', 'freedia', 'gwinnett', 'heyheyheyhey', 'rarace', \"s'engourdit\", 'obubba', 'firebeatz', 'awooawooooo', 'بیایم', 'dumplin', 'knowlescarter', 'veled', \"wild'n\", 'biorę', 'xannies', 'bkatbboomkat', 'paintballs', 'anis0', 'thuga', \"toppin'\", 'zobaczymy', 'scally', 'εμάς', \"what'cha\", \"whos'\", 'lewinskyed', \"fulfillin'\", \"shufflin'\", 'yumyum', 'rollingstone', 'halfbrother', 'decidí', 'aaaa', 'motherfreakin', 'két', 'da', 'orospuları', \"checkin'\", 'responsibilty', 'ncwman', 'hlalani', 'brinx', \"tat's\", 'helly', 'seroquel', 'parx', 'ohohohohoh', 'má', 'beyoncés', 'pablito', 'féin', \"witnessin'\", 'میناج', 'mencintaiku', \"perk'd\", 'bbbbang', 'micmicmicmicrophone', 'rarahhh', 'tingalingaling', 'لێرە', \"cacklin'\", 'skrrr', 'untake', \"papi's\", 'rapçi', 'он', 'nigella', \"'54\", 'californication', 'queste', 'mitzubeeshy', 'minzo', 'çalışırken', 'htown', 'morf', 'candids', 'punchend', \"men's\", 'chwyć', 'reair', \"peakin'\", \"loving'\", 'oneoneone', \"'gainst\", 'safesafe', 'obaa', 'peu', 'katona', 'pada', 'luthor', 'xfiles', 'oneing', 'photoshoot', 'skidin', 'rund', 'turboboost', 'pokaži', 'برینه', \"trayvon's\", 'looseygoosey', 'bom', 'dumbass', \"l'argent\", 'klansmena', 'wappaaa', 'fuckboy', 'στα', \"s'apprendre\", \"nas's\", \"you'\", \"bruisin'\", 'kshh', 'αναμέσα', 'αύτο', \"redoin'\", 'rrrah', 'tecavüz', 'hooooooooo', 'fantasise', 'eses', 'eightynine', 'teraz', 'izgalmak', 'ahhh', 'puedas', \"stallin'\", 'byś', \"biz'\", \"j'balance\", \"hangin'\", 'arf', 'mamamaterial', 'raleys', 'thirtyfivе', 'abitch', 'tanış', \"ali's\", 'dökün', 'zanotti', 'aacting', 'whwhwhat', 'öldürecek', 'reformě', 'kole', 'میومدن', 'بیتی', 'tiemblan', \"tickin'\", \"minewhat's\", 'yoo', 'yadadadadadada', 'imagino', 'moonvibe', \"freakin'\", 'ini', 'kinko', 'silverscreen', 'pussyhole', 'behati', \"'caine\", 'shinoda', 'flyin', 'coração', 'hardaway', 'chéri', 'toegther', 'mmmmmmohhhh', 'lahmlahlah', 'yeux', 'biriyle', 'badadadada', 'assim', 'yayo', 'jеt', 'haute', 'bacdafucup', 'کلمه', 'clooney', 'bangers', 'hazzard', 'sebebim', \"ii'm\", 'culkin', 'onlarla', 'kontra', \"napkin'll\", 'undercovers', 'لکان', 'freakin', 'gooo', 'vais', 'grabbin', 'kterýho', 'app', 'olivers', 'blazin', 'skrrtskrrt', 'mulino', \"levitatin'\", 'prisón', 'ahhhhhhhhh', 'evig', 'estrella', \"playa'\", 'οδο', 'balllicker', \"'gether\", 'myou', 'trippin', 'dique', 'fizzench', 'delle', 'wifebeaters', 'golddig', 'bakıyorum', 'iki', 'ramboing', 'postcoro', 'franky', \"laggin'\", \"gun'\", 'g5همون', 'anomhm', 'rxmancee', 'tyra', 'hightops', \"inga's\", 'grigio', 'boğucam', 'differenze', 'menipu', 'realpeace', 'ramadánu', \"nic'\", 'venta', 'spokesmodel', 'valójában', 'başlaması', 'rrrrroll', \"headbangin'\", 'saucelord', 'nesbitt', 'ima', 'offseason', 'tanface', 'ολα', \"a'bang\", \"failin'\", 'vurmak', 'bejust', 'multi', 'ڕقیان', \"blockswitchin'\", 'demdemdemdem', 'jak', 'uskutečnit', 'bc', 'andandandand', 'oinkoinkoink', 'оставлю', 'basqui', \"scrapin'\", 'bxbe', 'swindell', 'vicodins', \"meetin'\", 'alá', 'agrc', 'grindin', 'baller', 'drame', 'bem', 'stopp', 'bbg', \"cakin'\", 'whatwhat', 'autotuned', 'ohohi', 'kita', 'jungs', 'talkin', 'motherfukin', 'potentiali', 'loverloverman', \"'on\", 'ablibs', \"arguin'\", 'mindenkit', 'iohohoh', 'ttouch', 'tendrement', 'cabeza', 'durdurmaya', 'mercs', 'tintzo', 'haoohooh', 'tihs', 'upupup', 'mexiko', 'morder', 'philpot', 'bando', 'iyaz', 'ohow', 'freeforall', 'мне', 'luego', \"'otic\", 'dalje', 'welllit', 'rumpleteazer', 'das', 'gdyby', 'toastin', 'çocuklar', 'igualar', 'one5808', 'outoftown', 'aringaling', 'dropspurple', 'alrightx', \"'focus'\", 'monch', 'toetotoe', 'snowcone', 'bellyflop', 'silvercity', 'kevorkians', 'usain', 'trife', 'propiamente', 'dododododododo', 'ihe', 'shaha', 'коржа', 'tbagged', 'çıkmadığını', 'esposo', 'situationships', 'mıydın', 'squarecut', 'woeing', 'fiiiight', 'grrrrrah', 'blblow', 'affi', 'airplaysalesstreamingbased', 'centre', 'اندازه', 'schneidet', 'había', 'yar', \"n'sync\", \"don'\", \"rover'll\", \"trickin'\", 'beefin', 'boppas', 'jjust', 'sixfour', 'fatherandson', 'بذارugh', \"grazin'\", \"time'\", 'mcclarens', 'kardinal', 'ciroc', 'dermot', 'upsidedown', \"rubrubbin'\", 'buga', \"cleansin'\", 'yaptığımı', \"palmin'\", 'chachanging', 'hellraise', 'chemlelelelelelele', 'schifato', \"know'\", 'jocking', 'nubes', \"still''\", \"puffin'\", 'appearwadlibs', \"stackin'\", 'reh', 'pendejo', \"meltin'\", \"''hey\", 'هیشکی', 'woowap', 'appétit', 'tele', \"'self\", 'jaydees', 'browneyed', \"coladain'\", 'bermy', 'rikirobo', 'σταθερές', 'eastside', 'nrg', '城市被我毀壞殆盡的畫面', 'saddledome', 'mischa', 'thots', 'jеzelf', \"getting'\", 'köprücük', 'iç', 'تصور', 'fedaisinden', 'fiftiеs', \"jerkin'\", 'تبدیل', 'meanin', 'zor', 'anns', 'ahhah', 'plantiff', 'grę', \"big's\", 'μόνο', \"er'body\", 'بود', 'contemplatin', 'lazer', 'crcrcrazier', 'haahahah', 'avril', '눈치만', 'llamo', 'grrragagagaga', 'bia', 'gyaldem', 'lordy', 'higgyél', 'lineofsight', 'nevadě', 'fireflycatching', 'eğlenceliydi', 'landover', 'gahu', 'kapanış', 'nenávidíme', \"'ca'ca'ca'ca'ca'cause\", 'hedouble', 'talibani', 'lololololo', 'selfesteem', \"timbaland's\", \"trucetrucedon't\", \"waithe's\", 'breasteses', 'labios', 'ladainian', 'deet', 'waro', 'glisin', 'besándote', 'بدرد', \"impressin'\", 'ayyayyayy', 'outlawz', \"benihana's\", \"there'd\", 'jiggajijust', 'woahohohohohohoh', \"cubpoard's\", \"'sonny'\", 'razona', 'hedgemaze', 'influencer', 'بڵاودەکەم', \"bitchlet's\", 'deux', \"asswhoopin'\", 'x4', \"one'll\", 'laiceps', \"dartin'\", '危険なシグナル', 'benard', 'bеing', 'samauri', 'becau', 'ors', 'dadidadaddadadida', 'lintfree', 'önce', 'paigon', '케미', 'radiohead', 'bloomberg', 'corcia', 'dk', 'europeako', 'brongers', 'agua', \"l'autre\", 'debout', 'aight', 'wawanted', 'daenerys', 'еver', 'locness', 'confuso', \"zippin'\", 'ohohohi', 'lunghilunghilunghilunghilunghilù', 'gogetter', 'bamba', 'فارسی', 'hookrihanna', 'میبینم', 'farby', 'dungrares', 'leavewhy', \"launchin'\", 'buckbuck', 'wara', \"nervewrackin'\", 'bastic', 'goyer', 'berb', 'anonoknows', 'motherfck', 'lalo', 'ehhy', 'olma', 'dejar', 'vertigem', 'radiš', 'posso', 'g4s', 'dressup', 'rá', 'estoy', 'doney', 'allway', 'noseplugs', 'είχες', 'istiyorum', 'áll', 'sf', '我不是在做夢', 'suvs', 'lipschitz', 'retardbe', \"columbus'\", 'okurrrt', 'bro', 'blem', '없어', 'prisión', \"ragin'\", 'testifythe', 'honeylook', \"overthinkin'\", \"ridin'ridin'\", \"exposin'\", 'monsé', 'vavavavavanity', 'böyle', \"spewin'\", 'asalaamalaikum', 'pppecking', 'teezy', 'buraya', 'izbrišite', 'możesz', 'jamesem', 'radši', 'doody', 'xy', 'dropdropped', 'niggas', 'tober', 'stilleto', 'tweety', 'cossom', \"'buts\", 'downish', \"stashin'\", \"receivin'\", 'نهنه', 'twomile', 'lunesta', \"beyonce'\", 'protege', 'haddaway', 'ied', 'fogtam', 'prémisses', 'chkitguess', 'technologic', 'puerto', 'gitme', 'midtwenties', 'eeoow', 'duffle', 'ziplocked', 'céline', 'ras', \"snatchin'\", 'nahmean', 'hhtown', 'whooo', 'njomza', 'joffrey', 'daně', 'powpow', '言われても', 'asscheeks', \"caressin'\", 'moodymann', \"spillin'\", 'çıkıyor', 'как', 'lumières', \"knockin'\", '000s', 'powerslamming', 'وامکرد', 'beliebers', 'trayvon', \"stoppin'\", 'bebeğim', 'ohhhohhh', 'cucka', 'oclock', 'moc', 'cowriter', \"m'i\", 'beakartad', 'csinálom', \"beside's\", 'winwin', 'goverment', 'tt', 'elevenyearold', 'fuckthis', 'poignets', \"bet'\", \"scrollin'\", 'northsouth', \"og's\", 'wouldnt', 'stinka', 'maximus', \"gasta'\", 'unessx', 'uklidní', 'spose', 'rrarrrrh', 'upperclass', 'ohhoo', 'twistedass', 'tyle', 'kırıldığımı', 'bloodclaat', 'caskoww', 'yai', 'کنی', 'проводе', 'jcrois', 'huggers', 'شدهمن', 'shoreditch', 'lavo', 'و', \"preachin'\", \"throwin'\", 'enioma', \"totin'\", 'trickin', '나의', 'eminems', 'rhy', 'oshun', \"blurrin'\", 'ehey', 'suiza', \"dad'\", 'flav', 'rahmel', 'yores', 'twentyfive', 'tabii', 'hasizzle', 't4', \"'massage'\", 'kurupt', 'threadning', \"joinin'\", \"wonderin'\", 'oohooh', 'flocka', \"mimickin'\", 'istemiyorum', \"thereyou'll\", 'ein', 'hideandseek', 'ödeme', 'prayin', 'ouuuuu', 'canseco', 'ohhhhh', \"800i'madicksuckeri'dlovetosuckadick\", 'gaspin', \"murderin'\", 'vehetsz', 'nos', 'coursecompliments', 'scadattles', 'sende', 'meech', 'capelloni', \"toda'\", 'grrratatata', 'mmmmm', 'yeaaaah', 'hee', 'wicwick', 'fufuture', 'aquilo', '最恨世上', \"profitin'\", \"i'mi'mi'mi'm\", 'sonyatv', 'paso', 'llevas', 'cena', 'bhlaiseadh', 'demolarını', 'fightweight', 'motorhomes', 'kendim', \"sinkin'\", 'fararar', 'howto', 'everythings', 'coutures', 'drivego', 'لعنتشکی', 'flatayour', 'wantеd', 'clearport', 'بۆ', 'babynot', \"bubblin'\", 'mmmmmmmmmms', 'inspectah', 'bottomleft', 'آهنگ', 'morningside', 'selfdestruct', 'oasises', 'mothermother', 'zorunda', 'collina', 'onehere', 'الکلی', 'robią', 'poppin', \"gr's\", 'tsweezy', 'regiert', 'saca', 'mindfuck', \"exaltin'\", 'pensent', 'godknowswhere', 'οχι', 'بوین', \"steppin'\", 'guardo', 'aaliens', 'intheparty', \"swellin'\", 'jesteś', 'turnin', 'nfl', \"try'na\", 'nigganigga', 'reks', 'vardı', \"coughi'm\", 'parçaladım', 'podemos', 'spinnin', 'mamakossa', 'béketeremtő', 'hooptyhooptyhoop', 'cuffer', \"trippin'\", 'oynamalıyım', 'lycketysplyt', 'déjanté', 'outslick', 'buttfuck', 'delirum', 'dancin', \"fakin'\", 'nyla', 'ningangabazi', 'ι', 'هام', 'toutes', 'gach', 'oshkoshes', 'accountabilityext', 'chappelle', 'frisbees', 'simons', 'swingin', 'yaaahhhhhhhhhhhhhhh', 'ڕادیۆکان', 'hcllnd', 'tuo', 'لگد', 'nai', \"ggettin'\", 'banghit', 'reit', 'siday', 'verted', \"costing'\", 'birkaç', 'aynaya', 'ballinger', 'قراره', \"blastin'\", 'overexpressing', 'rueger', 'πράγμα', 'skinwe', 'causa', \"piense'\", 'ゴージャスな美貌で', 'sahne', 'siktir', 'ابرهاس', 'playboyos', 'atf', 'selbst', 'szemétbe', 'burrowеd', \"weathergettin'\", 'yeugh', 'pammy', 'shesaid', 'tekken', '808s', 'rumours', 'estou', 'êtes', 'veriyor', \"i'maget\", 'doublee', 'stairlift', 'cheesesteak', 'هاندەران', 'dooooooves', 'speaka', 'popopoker', 'bellytommy', 'shotcallers', 'gevrek', 'قبض', 'eglinton', 'zostawiła', 'trl', 'geçiricem', 'került', 'axel', 'freeko', 'thats', 'un', 'hohh', \"told'em\", 'chiali', 'bbbefore', 'wankstas', 'blingbling', 'miccheck', 'souffrance', 'korkacaksın', 'هواپیمای', 'overdosage', 'ratatattat', \"'04\", \"feedin'\", 'هەرگیز', 'selfempower', \"mans'\", 'extacy', '分かってても', 'dese', 'chxla', \"posin'\", \"placere'\", 'gunproof', 'wikepidia', 'staplestitch', 'وحشتناکی', 'obly', 'tiran', 'wanksta', 'kilosuna', 'differentferentferentferent', 'caillat', 'mohli', 'olhos', 'shrinkwrapped', 'solamente', \"horseplayin'\", 'neckangel', 'inbetween', 'kagome', 'onceinalifetime', 'biliyor', 'vandross', 'yeow', 'ποτέ', 'havayı', 'ekam', 'je', 'گرامر', 'tetas', 'doa', 'voltron', 'hagytál', 'autotune', 'quiero', 'bloodorange', 'phonephone', 'ajándékot', 'eazye', \"screwin'\", 'fingerlicking', 'secondfloor', '我也失望', 'pèt', 'moją', 'babyface', 'yerde', 'faut', 'partyin', 'jahvon', 'hechizo', \"punk'll\", 'aprendendo', 'homosex', 'frodo', \"skinnin'\", 'limiya', 'daytrip', 'mise', 'حیزەت', 'söylerdi', \"emceein'\", 'srácaidnak', 'lövést', 'tigolebitties', 'moët', 'pfffft', 'fourfive', 'kamikamikaze', 'kiedykolwiek', 'búsqueda', 'δεν', 'yessir', 'submachine', 'vii', 'neego', 'songblank', 'doen', 'muggsy', \"hannenin'\", 'bhrionglóidí', 'hardons', 'yout', 'zawsze', 'pandangmu', 'rasistickýho', 'jeder', 'outrap', 'pervasızca', 'bassy', 'thethethethethethe', \"truth'll\", 'بەرزترین', \"bowlin'\", '0year', 'aquaman', 'ccup', 'estar', 'κομάτι', 'sheezy', 'rozptýlit', \"bentley's\", 'memiliki', 'نابینەوە', 'dougthepug', 'hemos', 'whacamole', \"timei'm\", 'halfbuzzed', 'ricken', 'بەوەی', 'calabasas', 'neyin', 'ketahuilah', 'شستچی', 'şekli', 'vicodin', 'ruggish', 'whinin', 'seau', \"chokin'\", 'canadabis', \"oj'den\", 'dýky', 'bbbody', \"i'ma\", 'cersei', 'ablo', 'doops', 'estce', 'sahneye', 'ith', 'snapchat', 'mids', 'ak', 'توش', 'noches', 'yoohoo', 'ufo', '00present', 'mégane', 'frim', 'biweek', 'midthirties', \"fastin'\", 'mondanád', 'tonininight', 'φως', 'knifepoint', 'траву', 'queenin', \"coppin'\", 'allages', 'slumdog', 'whyre', 'mylę', 'devraisje', 'فلان', 'nie', 'ama', 'busser', 'döndüm', 'καρδιας', 'faaaaaar', 'backwhat', 'طولانیه', 'هماونا', 'tttoweltowel', 'نظر', 'پشیمون', 'glasto', 'versace', 'definitewait', \"bonjouri'm\", 'socialmedias', 'odio', 'jellee', '忘掉在溫馨中帶涼', 'almodovar', 'duhduhduh', 'داد', \"clashin'\", 'dphuzion', 'blueface', 'raemiah', \"'is\", \"overdoin'\", 'albumie', 'bizi', 'feeheeheel', 'ehhişteydi', 'közt', \"crawlin'\", 'dolabına', 'wetty', 'baretta', 'currencys', 'énjeinket', 'wifing', 'pissy', 'chapard', 'alarmpound', 'youngins', 'justbecause', 'söylediğimi', \"''it's\", 'musicbased', 'محدودیت', 'bayside', 'ravee', 'makeawish', 'ritches', 'highkey', 'moshpits', 'yüz', 'shinе', 'actoryou', 'moné', 'legalább', 'disciplinedwhat', 'samé', 'cte', 'mmmumbling', 'hiv', \"'hood\", 'anuel', 'tę', 'wenn', 'meapple', 'guetta', 'konvict', 'holocaustedsee', 'kindawait', 'solunum', 'وە', 'pensylavania', 'lightyears', 'kahlo', 'فوقالعاده', 'bеllyache', 'eeeeeeen', 'kxng', 'bidi', 'dboy', 'görmek', 'passiveaggression', 'tickno', 'gratiot', 'ummm', \"'gnac\", 'frooby', 'dontcha', 'dejarte', 'hidding', 'hali', \"measurin'\", \"limit'\", 'huhuhuh', 'cymphoniqueyou', 'uck', 'nüksetmek', \"50's\", 'estmaos', 'biggitybally', 'nonnnono', \"reclinin'\", 'superfreak', 'flexer', 'jiwaku', 'λαμπει', 'tec', 'ooon', 'dussé', 'firebrigade', 'ducatis', 'dih', 'shitcuz', 'dresdenben', 'dura', 'λυγίζει', \"throbbin'\", 'amc', \"t'as\", 'llegar', 'troye', 'blijkbaar', 'membuatku', \"j'ai\", 'rrrrrchkitchkitguess', 'mrthrow', 'instagram', 'آدمی', 'jager', 'دەستپێکە', 'versce', \"stimpy's\", 'alkalmam', 'rethat', 'boop', 'nahh', 'urážel', 'eieieiei', '50s', 'yoluydu', 'billi', 'neenyo', \"eminem'll\", \"o'lakes\", 'puente', \"catchin'\", 'doublestandard', 'gggoes', 'faulks', 'bartobar', 'fait', 'gdragon', 'leastsa', 'بیغمی', 'bercé', 'audemar', 'kanepenin', 'vcr', \"poppin'\", \"mi'\", 'اونا', 'sídlech', 'hhhhhell', 'nosotras', 'prázdným', 'měl', 'حال', 'viver', 'skys', 'goto', 'vwwhy', 'ahole', 'dalí', 'dadadadada', 'kaşar', '我的思想', 'halfempty', 'bowtie', \"andamo'\", 'liiiie', \"dwarfin'\", 'nahah', 'labelle', 'ballsdeep', 'لێبدە', 'buio', 'breakbeat', \"yank'\", \"a'lante\", 'preign', 'muito', '방의', 'babba', 'kissé', 'uzaktayım', 'intelude', 'kah', 'mymymyself', 'hunnid', 'ghandi', 'مث', 'greeco', 'mungojerrie', 'solange', 'gcups', 'sheshe', 'f50', 'boobjob', 'identidad', 'swineee', 'buuutt', 'hoooh', 'gajas', 'montremoi', 'ماجرایی', \"sittin'\", 'townmoving', \"collaboratin'\", \"''poo\", 'oohoh', 'оценила', 'hagas', \"snortin'\", 'santigold', 'ndamukong', 'swae', 'ibuprofens', 'quickwitted', 'dimea', 'diferente', \"billi'\", 'alot', 'newlyreleased', 'jizzes', 'dividir', 'rêves', \"'s\", \"seasonin'\", 'kravitz', 'atrapó', \"stinkin'ass\", 'entré', 'شدم', \"prob'ly\", \"y'all'll\", 'doin', \"uh'uh\", 'stimulante', 'después', 'pecho', 'chickenheads', 'kenard', 'fitz', 'applau', 'gerek', 'dhat', \"cuppin'\", 'foreverandaday', 'داشته', 'kiner', 'rapbot', 'tattedup', 'egymás', 'hned', 'peleamos', 'furied', 'gra', 'dtwizzy', 'opi', 'maren', 'dingalang', 'superbass', 'bastardi', 'throwed', 'dollarz', \"d'âme\", 'fluck', 'switcharoo', \"shootin'\", 'iuhfive', 'этим', 'ajr', 'dna', \"jottin'\", 'برگردم', 'mert', 'scrufizzer', 'dirrty', 'nno', \"queen'll\", 'dahi', 'cagee', 'pppress', 'چەوتن', 'vrinn', 'peasy', 'kupředu', \"revolvin'\", 'ortenberg', 'alaikum', 'mcdreamy', 'xyz688', 'minithin', 'hutt', 'mcffin', 'wha', 'damb', \"stickin'\", \"dyin'\", 'kneedeep', 'yapamayacağımı', \"movin'\", 'mmanyway', 'llamaba', 'rells', 'laguardia', 'evry', 'tripledog', 'κράτησε', 'چیە', 'caminar', \"bargainin'\", 'inkas', 'tylenols', 'bodys', 'wayhey', \"breakin'\", 'yearolds', \"mach'\", 'piguet', 'xxl', \"curdlin'\", 'دیپلماتیکم', 'boink', 'edecek', 'ahhhhh', \"eyein'\", 'uğğğ', \"'quil\", \"denaun's\", 'djs', 'coexecutive', 'hablado', 'demonen', \"gram'\", 'ces', \"dodon't\", \"m'\", 'thicke', 'ninas', 'knick', 'kneehigh', 'bvlgari', 'habitación', 'slimed', 'dlow', \"kuti's\", 'ttrick', 'guala', 'foxxy', 'yapması', 'iza', 'rockstars', 'ronto', 'une', 'noooo', 'wwwaves', 'pursuin', 'crouton', 'hornyand', 'tylе', 'eightysome', 'snottynose', 'arrêter', 'hacky', 'موفقیت', 'bitchass', 'womans', 'pinscher', 'fleiss', \"twosteppin'\", 'uunder', 'ohhha', 'belvee', 'viejo', \"'mommy'\", 'antibalas', 'kindergartner', 'spacebound', 'seent', 'skooly', 'yeahh', 'bassmint', '逃れようとしても', 'atlamayı', 'chumchummy', 'jameela', 'compliquées', 'orospu', 'whoaohoh', 'conwith', 'togetherthis', 'stacji', 'porshe', 'wassup', 'remy', 'yok', 'brrrt', 'chingching', 'doo', 'haffa', 'leanin', \"pluggin'\", 'ciebie', \"s'thginot\", 'صحبت', 'bitchroseanne', 'žil', 'çekil', 'ameen', 'aheady', 'mighta', \"then'll\", 'secreto', 'balvin', \"schemin'\", 'sononous', 'zeesa', 'lyft', 'derecha', 'اینترنت', 'penser', 'chickenchicken', 'memail', '我很好', \"d'argent\", 'tetley', 'setinin', 'hmmhmmhmmmmm', 'desiigner', 'دەبێت', 'fronteras', 'unesli', 'valizin', 'ahohahohah', 'blaow', \"amountin'\", \"let'em\", 'gesichter', \"interceptin'\", 'لعنتیو', 'پرنده', 'waitin', 'trajediler', 'upcutuh', \"scramblin'\", 'beerbong', 'jizo', 'dwie', 'propio', 'quédate', 'yadadadadadadada', 'diye', 'blingabling', 'spirical', 'ayay', 'sekarang', 'backbe', 'fullclip', 'voosh', \"'spital\", 'esküvőmön', \"enchantin'\", \"could've\", 'باشتربوو', 'krispies', 'cazan', 'sickamore', 'darkchild', \"sickenin'\", 'quizzestion', 'espera', \"dumpin'\", 'çivili', \"helpin'\", 'waydat', \"sneezin'\", 'gdybym', \"healin'\", 'rta', 'derinliklerinde', 'ggot', 'nownow', 'sicide', \"trashtalkin'\", 'irs', 'iing', 'باز', 'eyеs', 'uskebe', 'ahhahh', 'sstreets', 'dilaudid', 'داخلش', 'ikramiye', 'üske', 'uhuh', \"someone'd\", 'toesies', 'tsk', 'sickaz', 'fadeaway', \"smashing'\", 'lawdy', 'blubland', 'niggahz', 'γνωρίζω', 'еight', 'bullseye', 'شتە', 'kendji', 'grinnin', 'oddali', '自問我討厭這份遐想', 'nenever', 'خۆتان', 'headshot', 'bootalk', 'padii', 'elmondom', 'robi', \"shaking'\", 'soltarte', 'nutsack', 'αισθάνεσαι', \"fortyfo'\", 'layin', 'busca', 'crosseyed', \"shiverin'\", 'davaughn', 'aleck', 'woahohoh', 'ballerini', \"grandmama's\", 'chickachicka', 'weil', 'peli', \"forcin'\", 'könnyítsek', 'hgher', 'xzibit', 'bedingfield', \"buggin'\", 'mindmind', 'whitehaven', 'p0', '000the', 'hermansen', 'دەکەم', 'powerbottom', 'midy', 'weinstein', 'oooooooooo', 'milhouse', 'pellegrino', 'behaviour', 'friеnd', 'αγαπη', \"'rarri\", 'pimper', 'addies', 'داک', 'didnt', \"wanderin'\", \"capisc'\", 'faggotass', \"ownin'\", 'looseyand', 'میرم', 'słyszę', 'نژادی', 'θυμαμαι', 'fenty', 'bassiness', 'whe', 'hpnotiq', 'ludzi', 'acuerdo', 'هیوای', 'yapılmış', '아는걸', 'jó', 'pupuput', 'heure', 'embriagante', 'cauet', 'niente', 'irreplaceableeee', 'tendresse', 'yngdmnd', 'nakarat', 'vezes', 'fki', 'deracs', 'worldworld', 'sztylet', \"'whats\", \"critiquin'\", 'мой', 'selektah', \"years'\", 'sikik', 'thisthisthisthisthis', 'nonow', 'talеrze', 'sixnine', 'med', \"'un\", 'tysięcy', \"l'a\", 'homi', 'mathers', 'noninjectable', 'swipeclub', 'skinnies', 'closercloser', 'uhuhuhuhuhuhuh', \"developin'\", 'wasteman', 'bburrrrat', 'vannak', 'gambino', \"conversatin'\", 'αναμεσα', 'hahahah', 'uncasville', \"enemigo'\", 'دەیگرم', 'acceptedit', 'nonono', 'georgiporgi', 'denik', 'asscheek', 'littlebitty', 'illprepared', 'ddddirty', 'plat', 'cabello', 'misproduction', 'thiscaca', \"deceivin'\", 'jefé', 'چەنە', 'oohoohoohoohoohoohoohooh', 'qujaime', 'wic', 'youuu', 'جای', 'boi', 'během', 'ahhhaha', 'thugged', 'souviens', 'میدونستم', 'nevernever', 'slitho', 'vip', 'palo', 'callin', 'beatbeatbeat', 'imaan', 'pazzo', 'theythey', \"''we\", \"snakin'\", 'معروف', 'skrillex', 'poxy', \"interruptin'\", 'renny', 'топ', \"bickerin'\", 'nawet', 'gcpsy', 'rubix', \"spoofin'\", 'highfive', 'yapmak', 'cowell', 'silverstein', 'muschi', 'nala', 'mijne', \"livin'\", 'todas', 'jetpack', 'brabbit', 'جون', 'hardtoget', 'kaldırıyor', 'mineymotoeeniemeenie', 'heinekens', 'pokaždé', 'tyres', 'آشغالمولی', 'larmes', \"driving'\", 'nc', '90th', 'rassemblent', 'ilya', 'dansel', 'يا', 'lcving', 'niptuck', 'kızların', 'eurostep', 'birinden', 'takut', 'اسنوپ', 'megírva', 'pasé', \"swarmin'\", 'گەڕامەوە', \"ahswag's\", \"linen'd\", 'you4', 'jungkook', \"buttfuckin'\", 'cokehead', '속이려', 'benimle', 'tenido', 'odrzucisz', 'wе', 'گاد', 'formationuptown', \"meijer's\", 'νυχτα', 'yoohooooh', 'geah', 'makebelieve', 'oul', 'inglés', 'siebener', 'fuckthemboys', 'chúis', 'vayas', 'derriere', 'ginóbili', 'kung', 'beez', 'drinkawineand', 'motorsport', 'lieber', 'blowed', \"dyin'you\", 'wwwwwwork', 'nineinch', 'dickriding', 'behindy', 'theyre', \"'a\", 'discuter', 'karena', 'jacksons', 'κραταμε', 'abc', 'handies', 'sposób', 'chérie', 'être', 'её', 'linndrum', 'strugglers', \"soakin'\", 'houden', \"applaudin'\", 'makingofalegend', 'chimamanda', 'shyne', \"how'd\", \"no'\", 'mgk', 'ruxpin', 'awoah', 'eart', 'purplepink', 'فکر', 'rocketship', 'hushhush', 'همیشه', 'saydırıyorum', 'starburst', 'drewsome', 'footlong', 'میرفتن', 'cussin', 'batmobile', 'toujours', 'chapstick', 'ψυχη', 'pasttense', \"mays's\", 'voltál', 'emzy', 'duela', 'bhíodh', 'kökledim', 'etmek', 'nicknackpaddywack', 'geç', '40s', \"game'\", 'keeyaga', 'bluzunun', 'krazy', 'formalde', 'arayacağız', 'clappin', 'foxx', \"bangin'\", 'iohiohi', 'karan', 'godbey', 'keds', 'rhab', \"'cuse\", \"m'auras\", 'fotoğraflarını', 'bbetter', 'nostra', 'musta', 'پخش', 'inem', 'chalant', 'quien', \"slappin'\", 'yisrael', \"scrappin'\", 'sixstar', \"'round\", 'también', 'više', '¾', 'fbg', 'namebut', 'companyand', 'نەبوو', 'breana', 'تبعیض', 'dziewięćdziesięciu', 'dostać', 'skibbidy', 'nonalbum', 'zo', 'backnasagoodnight', 'swaggerswagger', 'oohmymymy', 'öldürürüm', \"playin'\", 'lastand', 'electracute', 'yubba', 'suv', \"sentencin'\", 'حتی', \"follie's\", \"crappin'\", 'locs', 'itthis', 'enzos', 'almightylike', 'rrrow', 'serca', 'köthettél', 'zenlike', \"openin'\", 'twizzy', 'judgе', 'eyo', \"wakin'\", 'bilmiyorum', \"perfectin'\", 'vivia', 'porteñas', 'buyin', 'westheimer', 'بڕۆم', 'nossos', 'walkin', \"mistakin'\", \"michaels'\", 'cubba', \"hilton's\", \"attackin'\", 'edimminem', 'yeahhh', 'çalışmayana', 'yellowviva', 'çarpıyor', \"collapsin'\", 'versprechen', \"that''\", 'lifethe', '4car', 'lohner', 'weiner', 'هاپی', 'زۆۆر', 'eliantte', 'کێشی', 'stanky', 'longass', \"'scuse\", \"dt's\", 'honoray', 'upext', 'brioni', 'без', 'sobreentendido', \"vomitin'\", 'سرم', 'wwworth', 'iguodala', 'hoopti', 'aperol', 'mohikans', 'openair', 'goldshouldered', 'gracias', 'waitfixate', 'opinon', 'ohoohooh', \"climbin'\", 'woioi', 'bzz', 'kırık', 'ménage', 'prob', 'woahoah', 'olur', 'nem', 'yorulmadan', 'pico', 'uhunk', 'emoji', 'dropspooh', 'croke', 'hmmhmmhmmmhmm', 'memudar', \"daddy'll\", 'skyyy', 'توڕەیم', 'theyll', 'jongun', 'tascam', 'εγω', 's550', 'thottie', 'fiftyfifty', 'jayrain', 'middlebrook', 'swishahouse', 'pornstar', 'tryeyyyeyyyeyyy', 'milujeme', 'pariis', 'momče', 'barechested', 'stretcha', 'hd', 'theyve', 'chicos', \"befo'\", 'gunit', 'gallardo', 'ezeket', 'insync', 'jsem', \"robbin'\", 'dadadababadabada', 'deformative', 'mhmmhm', \"shopaholic's\", 'pensaré', 'yllaer', 'میکنیayy', 'provenant', '但我不是你的寶貝', 'firstglance', 'هستمسر', 'himeros', 'بکننپس', '___', \"'boom'\", 'yk', \"lexus'\", 'annyira', 'susam', 'camo', \"killin'\", 'errores', 'agro', 'dokola', 'tttalk', \"boomin'\", \"keepin'\", 'fendi', 'kkeep', 'bebut', 'gonzalezcruz', 'maniped', 'muthaphuckkin', 'tímhle', 'πληγώνεται', \"enablin'\", 'gadsen', 'guarda', \"causin'\", \"spinnin'\", \"'80s\", '서로의', 'veterán', 'keester', 'moncler', \"me's\", \"''i\", 'backin', 'toney', 'میدیدم', 'princesscut', 'пульс', 'lov', 'paraît', 'یاد', 'مەبەستم', 'häagendazs', 'melrose', \"startin'\", 'mtv', 'bulletproofwrote', 'elbowayo', \"bussin'\", 'cuh', 'kocsikat', 'papapaparazzi', \"chillwhat's\", 'ctv', \"jugglin'\", 'innn', 'bready', 'maseratis', 'quand', 'پلیس', \"blendin'\", 'knowknow', 'grammys', 'abcs', 'pfeiffer', 'babababababanner', \"thisit's\", \"'male'\", 'światy', 'nightynighty', 'royales', 'haaaby', 'gardеn', 'indir', 'favourite', 'blowin', 'elogio', 'انجام', 'lipsyncing', 'couped', 'sotto', 'eheheheh', 'égünk', 'roundme', 'nistelrooy', 'dejo', 'meins', 'ym', 'sellin', 'mammi', \"'boutta\", 'jumpin', 'unicall', 'gonnuh', 'sceptical', 'tebow', 'uhhu', 'tus', 'wblk', 'onerepublic', 'curiouspause', 'lvs', 'atan', 'fcking', 'somedays', 'gcrlfriend', '5th', 'whyd', 'kardashian', 'tanıyorum', \"don'tyou'll\", \"m'ainm\", \"marchin'\", 'lefteye', 'thethe', 'benden', 'achava', 'holton', 'nein', 'escucho', 'edgеs', 'gente', 'anywhereanywhere', 'iti', 'duyacaksın', 'giftwrapped', 'quelques', 'izzy', 'mengatakan', 'swissel', 'woodwoodwoodwoodwoooood', 'sikiyor', 'جوانەکان', 'старт', 'probationfight', \"'clusion\", 'cowriters', 'mondják', '8th', 'marvellous', 'twitteru', \"j'adore\", 'xannys', 'رفتی', 'kiera', 'görürsen', 'tocar', 'designin', 'mmmoh', 'herstory', 'tooken', 'egymást', 'moto', \"entertainin'\", \"j'pourrais\", \"destroyin'\", 'tvoje', \"severin'\", 'sor', 'شیمان', 'vuoi', 'punkpussy', 'ceesays', 'mcrried', 'manischewitz', 'passées', 'oto', 'uber', 'havin', 'charlemange', 'вызвал', 'دوو', \"prayin'\", 'jiminy', 'mouthtomouth', \"codeine'll\", 'şehvetlendirirsin', \"m6's\", 'radiowej', 'eyesdem', 'huhhuh', 'passoff', \"chicken'd\", \"overflowin'\", 'unimust', 'munmunmunmunmuny', 'öldürdüklerinde', \"choo's\", 'لێکردۆتەوە', \"wan't\", 'pthug', 'dopest', 'دەیانوت', 'thrownout', 'wego', 'تو', 'zeit', 'fourdoor', 'akclip', \"buttersworth's\", 'ita', 'pregúntale', \"weepin'\", \"shinin'\", 'bossass', 'pozbyć', 'stoge', 'jika', 'bbbbbut', 'jihadist', 'shoodoodoodumdoo', 'hornyass', 'succeedceedceed', \"leapin'\", 'neek', 'oynuyorum', 'jeru', 'ferg', 'небесах', 'kylie', 'electronica', 'istiyorsan', 'ahahahahahah', 'musím', \"koppin'\", 'dboys', 'raraahahah', 'matress', 'itwit', 'vajon', 'şarkıyı', \"sweepin'\", 'fortyday', 'flirtin', 'fortythousand', 'frikkifrikkifrikki', 'rembe', 'michelangclo', 'snakeonly', 'puttputt', 'gstrings', 'lxves', 'prinsloo', 'alarma', 'benzino', 'looki', \"crammin'\", 'shangela', 'aristo', 'skummy', 'rotisseried', 'butthole', 'unuh', \"'7\", \"g5's\", 'دشان', \"happenin'\", 'kapaktan', 'upandcomer', 'rrunrun', 'monta', 'uguale', 'jackboys', 'girlirlirl', 'bello', \"pam'\", 'generación', 'diamanten', \"bossin'\", 'گفته', 'arichan', 'skanks', 'rexha', 'odpływają', 'menait', \"masterin'\", 'باید', 'iwhen', 'gaohah', 'hasselhoff', \"lightnin'\", 'liv', 'gerçeği', 'amiért', 'toothpain', \"mc'd\", 'chachachachanging', 'biotch', \"frontin'\", 'tres', 'a4', 'looaded', 'trenchcoat', 'helyezzem', 'nathen', 'tariq', 'elphaba', 'bomba', 'ترینم', 'alguien', 'brrr', 'strzał', 'biohazard', 'ble', 'kkkkiss', 'sabroso', 'vroomvroom', 'ladykiller', 'caddal', 'dunham', 'samesame', 'mmhm', 'exgirl', 'uhaul', \"'ass\", 'mcconnells', 'yakaladı', 'backeven', 'woahooh', 'payé', '看看他們為我彎腰稱臣', 'cuestión', \"glo'ed\", 'dremgirls', 'shhhh', '서만', 'occhi', 'پێویستە', '005mockingbird', 'milliondollar', 'mala', 'napětí', \"scorchin'\", 'nemůžeš', 'selfcontrol', 'mamamagic', 'catastrophy', 'laissemoi', \"jusqu'à\", 'دانلدترایوونو', 'دخترتو', 'toho', 'incog', 'muyum', 'julkeyz', 'owa', 'duhnuhmuhnuh', 'tayk', 'tsx', 'fedup', 'coś', 'prez', \"member'\", 'voluntad', 'ackey', 'assdicks', 'aswangin', 'gayass', 'gunthrie', \"fahr'n\", 'handprints', \"'95\", 'yayyayyay', 'faszok', 'konfrontációkat', 'emptinessext', 'lmnowinsky', 'dababy', 'trippie', \"upthat's\", \"joe's\", 'lovestruck', 'jne', 'просто', 'tryif', 'mywhere', 'doldurduğu', 'lepszy', 'fanbases', 'frontfront', 'pornhub', 'summersummer', 'youuuuuu', \"you's'\", 'pooky', \"o'clocktails\", 'streetdown', 'sak', 'nutt', 'eska', 'shaqur', \"shawty's\", \"cockin'\", 'reir', 'aahooh', 'vão', \"'oh\", 'compañera', 'stoner', 'letlet', 'struttin', '70s', 'ئێمینێم', 'cribo', 'jc', \"n'as\", 'annemin', 'oturup', 'verano', 'thugga', 'skechers', \"chirpin'\", 'cuenta', 'δύναμη', \"tat'\", \"speakin'\", \"'lamb\", 'vacay', \"disfuckin'combobulation\", 'кликклик', 'parmakları', 'whoadies', 'dilerim', 'forcefed', 'drizzy', 'cahis', 'barenaked', 'gallies', \"cancelin'\", 'pitino', 'kelsea', 'percaya', 'plex', 'badoom', 'dancehall', 'nemo', 'ymoe', 'braindead', 'forcillin', 'életem', 'cuchi', 'tahhdum', 'bonsam', 'koyarım', 'خرابی', 'اینکهاشتباه', 'marineland', 'gençleştim', 'jers', 'contradictionary', \"promotin'\", 'öncesi', 'درمان', 'sürtüğün', 'runn', 'touchin', 'runnin', 'posición', 'adamım', \"9's\", \"5'9\", 'jorja', 'loro', 'surviing', \"heff'\", 'ayyuh', 'ohohohoh', 'byhrb', 'pickin', 'coproduced', \"'yonce\", 'cus', 'garbageass', 'fivefinger', '如果你覺得我很美', 'جنده', 'ight', 'ئێمە', 'zu', 'bcby', 'どうにも止まらんぞ', 'donnel', 'plugg', 'yastıklar', 'powracającego', 'sayfasıyla', 'بزنین', 'bastade', \"ma'fucker\", 'harhard', 'بیت', 'heezy', 'quello', 'tayshaun', \"your'one\", \"nwa's\", 'sube', \"'send'\", 'comnig', 'okaaaaaay', 'bxkini', 'vinnvinn', 'presiddead', 'ballin', \"bluffin'\", 'oroboskibo', 'upup', 'austa', 'puta', 'simples', 'schoolin', \"fo'sho\", 'breakbreakdown', 'rasta', 'insta', 'feetprints', \"lovin'\", '80s', 'overstand', 'superill', 'dehydratin', \"semimac's\", 'haheheh', 'errythang', \"swervin'\", 'carajo', 'nasıl', \"bleachin'\", 'tamia', 'riskers', 'ththicka', 'iiiiiiiiihii', \"don'tgiveafuck\", 'kuk', 'cccome', 'drakkar', 'wristpect', 'arsehole', 'bbad', 'vvenomous', 'cllg', 'محبة', 'hmmhmmhmmmhmmmm', 'vrinvrin', 'dooky', 'technomarine', 'drumdrum', 'wristwear', 'podía', 'lejonhjärta', 'dé', 'بکەمەوە', 'haterade', 'piernas', 'cliffside', 'eba', 'fagen', 'nineteen85', 'listenin', 'cansé', 'maybelline', \"nurse'\", 'soyeaaah', '就像矛盾', \"passin'\", 'gwanin', 'klar', 'arе', 'dadum', 'deaddead', \"wishin'\", 'trampa', 'hogy', 'showpopping', 'umdadahdadahda', 'chainlink', 'blonded', 'allwheeldrive', 'texter', 'cnote', 'furiosa', 'rrrat', 'ciągu', 'manyana', 'infeliz', 'ccoming', 'knightmare', 'lunchmoney', 'bx', \"testin'\", 'voteorg', 'jumbotron', 'serio', 'historii', 'georgie', 'freekaleak', 'passei', 'sorryinabox', 'hoeee', 'bbbring', 'bama', 'igpay', 'dumbin', 'capleton', 'hayatlar', 'jaykae', 'sentir', \"tramp'll\", 'passando', 'hunnidthousand', 'selfempowerment', 'gitano', 'afu', 'hermaph', 'poupon', 'wah', \"ho'll\", 'leatherstudded', 'studi', 'socal', 'hawaiiii', 'babii', \"hustlin'\", 'οπως', 'tttaste', 'قول', 'uppour', 'uhuhuhuhuh', 'esoht', 'esa', \"pa'l\", 'halfnaked', 'еnd', 'shcdow', 'triky', 'flightuh', 'jours', \"pistolwhippin'\", 'kişiyi', 'lelket', 'weekendmaybe', 'beszálltunk', 'lolook', 'abercrombie', 'etherealooooh', 'altura', 'woawoah', 'ringading', 'stockinqs', 'acuestan', 'hxre', 'rosado', \"recordin'\", 'berenstein', 'kangol', 'هایی', 'thigpen', 'diggedydocdiggedy', 'fam', 'janejane', 'selftitled', 'freakum', 'iew', 'hepsini', 'پوستا', 'lauryn', 'kávy', 'portant', \"jokin'\", 'x6', 'ohwoahoh', 'fi', 'toptop', 'alealejandrx', 'bep', 'droptop', 'spiderman', 'années', 'bieber', \"dre's\", 'noo', 'обгоняю', 'beyoncé', 'teyana', 'sesi', 'forwardint', 'твой', 'البته', \"tutt'altro\", 'دەهەزار', \"cheatin'\", 'heebie', 'blinging', 'hastayım', 'iiiiiiiiihiii', 'میزنم', 'fanouška', 'time069', 'makinayı', 'bentleys', 'boneit', 'towy', 'chauvin', 'nananana', 'şirketindeki', 'olimpic', 'llewinsky', 'bystands', 'hoohoh', 'grl', \"tradin'\", 'válečným', 'urtano', \"d'phuzion\", 'upadło', \"ac'\", \"shatterin'\", 'westwood', 'نمیتونستم', 'vídeos', 'mahorn', 'dollaz', 'atá', 'سراغت', 'ffashion', 'černé', 'wooooooo', \"amigo'\", 'hágase', 'youn', \"wipin'\", 'vámonos', 'dmv', 'honeybun', \"somebody'd\", 'miyagi', 'dere', 'llevo', 'fivehour', 'onunla', 'muthafuckas', 'thatt', 'roading', 'kıçımı', 'bublé', 'downall', 'finninina', 'youngass', 'ghrá', 'restent', \"breath'cause\", 'danceomatic', 'حسی', 'paduan', 'dandance', 'یکی', 'kucak', 'boogieoogieoogie', 'pipin', 'swswinging', 'skrrt', 'ands', \"tumblin'\", 'ladedahdah', 'hesney', 'sshh', 'avlanıyorum', 'klosman', 'cutiful', 'crep', 'jerrys', 'ideabreak', 'tbone', 'boydem', \"worryin'\", 'αυτος', 'rrrecord', 'dovrei', 'rockinsane', 'mikrofon', 'lovestricken', 'ماینرز', 'podporuje', \"ari's\", 'mid007', 'cobrando', 'heyhey', 'dejas', 'acabó', 'tonedeaf', 'mortis', 'nochmal', \"motionin'\", 'letzigrund', 'fazla', \"rem'\", 'égbe', 'régner', 'quelle', 'armádou', 'hayır', 'uninow', 'koştum', 'deşiyor', 'دائما', 'mayn', 'smallzcom', 'ouais', \"to'\", \"there'll\", 'licky', '보지만', 'αλλα', 'isyou', 'devilles', 'significa', 'wetass', 'surprends', 'giacca', 'wreckingball', 'benar', 'başlamak', 'rodman', \"hıçkıran'a\", 'ey', 'membeku', \"gapin'\", 'evanescene', 'kapalı', 'dondada', 'hmmmmmmhmm', 'uunderneath', 'rozhodnout', 'kada', 'бош', 'زنجیرەکەت', \"'mani\", 'whathype', 'bbbbbb', 'dropsradio', 'alejandrxooooh', 'escrito', 'badbitch', 'zeg', 'madting', 'oldo', 'hickorydickorydock', 'cornrowspopping', \"shouldn't've\", 'seventeenyearold', 'nizlopi', 'piękno', 'outofdate', 'gusten', \"bobbin'\", 'być', 'dripdripdripped', 'ilaçlarımızdan', 'vallet', \"qu'un\", 'aprendí', 'technikailag', \"nothin'\", 'suga', 'naw', 'deja', 'wanya', 'vienen', 'xanax', 'flawlessladies', 'unh', 'hoodie', \"t'accroches\", 'tehetném', 'renta', \"foolin'\", 'apb', 'fari', 'diggy', 'κατω', 'hardwork', 'mekanına', 'ohhohohoh', 'vertėjas', 'glowstick', 'prospekt', \"mcs'll\", 'нассу', 'tattletelling', 'subtweet', 'revolución', 'hihigh', 'skrt', 'hypnotised', 'tdot', 'manicdepressed', \"po'\", 'iver', 'سیاه', 'satın', \"haremo'\", 'pohromu', 'freaka', 'večeras', 'destruyó', 'syn', \"mami's\", \"'76\", \"masturbatin'\", 'itgo', 'trugoy', 'shitgive', 'pooperscooper', 'pla', 'крушит', 'curvalicious', 'smilemake', 'seninle', 'wdrake', 'nig', \"troublemakin'\", 'thugging', 'erierierick', 'offrirà', 'khaleesi', 'bboys', \"lampin'\", 'bbs', 'vavanity', 'rainman', \"kickin'\", 'fantasticoh', 'θα', \"mu'fucka\", 'recibo', 'escada', 'jikelele', 'swizzy', 'señor', \"scratchin'\", 'annesine', 'paparrazi', 'chittychatty', 'rekcufrehtom', 'uçtu', 'woi', 'busey', \"ignorin'\", \"mackin'\", 'fugazy', 'felched', 'thrillin', 'merked', \"selfloathin'\", 'aime', 'rbx', 'hershe', 'adamın', 'دهه', 'symfonii', 'thizzle', 'belki', \"'what\", \"bookin'\", 'cyatties', 'fourthdre', 'bedenine', 'hottersexy', \"mm's\", 'lofi', 'rosalía', 'وێستگەی', 'hooah', \"careerin'\", 'realy', 'oaky', 'hurtsbrace', 'klopt', 'gsxr', 'لماذا', 'ellellelle', 'hubba', 'killa', 'roskilde', 'rundmc', \"wrappin'\", 'ustedes', 'freezin', \"floodin'\", 'devam', 'هەست', 'confidеnt', \"'preme\", 'colbie', 'więc', 'گرفتن', 'queda', 'ninehundredthousand', 'wróciło', 'čí', 'dmc', 'istemedim', 'tzu', 'ymca', 'makka', \"sum'n\", 'rkelly', \"is'\", 'tonguetied', \"stuff'\", 'zaleze', \"'plex\", 'steph', 'aanwezigheid', 'manny', 'uniwhen', \"flashin'\", 'fuckedother', \"noticin'\", 'эдика', 'facíl', 'muppets', \"her'd\", 'üzereyim', 'kegel', 'paxil', 'buttonups', 'comicbook', 'stojaković', 'bentayga', \"collectin'\", 'faygo', \"outrhymin'\", 'andahalf', 'gartens', 'ouhoh', 'emailin', 'musica', 'mnie', 'mij', 'everlast', 'softso', '恨自己一邊愛一邊忍受', 'aleady', 'roborebe', 'magát', \"u're\", 'mofo', \"through's\", 'igazság', 'icedout', 'butthurt', \"youcan'tcatch\", 'mapleflavored', 'popofuck', 'cahahan', 'typea', 'trí', 'chika', 'subliminals', 'shaked', \"believin'\", \"d'amato\", 'tivo', 'sitch', 'rám', 'hmmoh', 'mache', 'atcha', 'unmisunderstood', 'giorgio', \"graspin'\", \"di'que\", 'dentro', 'jocked', 'mancow', 'istiyorsun', 'biterphobia', 'iráku', 'yayyayyayyayya', 'nyári', 'coachella', 'hahahahahahaha', \"critics'll\", 'rde', 'knockin', 'knowow', 'riccardo', 'duced', 'داره', 'dolla', 'gówno', 'química', 'themdorney', 'itd', 'allthistime', 'percocets', 'pacquiao', 'espero', 'steviewonderyouwillneverseethiseither', 'ayou', 'whered', 'nuhuh', 'isyes', \"crankin'\", 'yay', 'untill', 'dinleyemem', 'kikikikikiki', 'sprawi', 'grandview', 'geget', \"singin'\", 'mrmr', \"wantin'\", 'maliah', 'özgüvenini', 'seeeeeeeeee', 'enviaré', 'partout', 'perlahan', 'imi', 'soo', 'leftpanning', 'connor', \"'being\", 'hururt', 'francaaaa', 'rra', \"won'\", 'pppass', 'oohah', 'romanek', 'última', 'tripp', \"litterin'\", \"monsta's\", 'castaki', 'niyetimiz', 'ioh', 'heybottle', 'zamkniętymi', 'hívtuk', 'palacio', 'chinups', 'سیراپمن', 'stylin', 'voulait', 'jcmeson', 'yonce', 'muhfucka', 'cheeze', 'whippin', 'valaminek', 'll', 'siempre', 'invisalign', 'umm', 'hablan', 'plcyboy', 'vzy', 'kesinlikle', 'röhögsz', 'soldout', 'pointin', 'hemm', \"losin'\", 'kemba', 'causе', 'dooka', 'yastıkla', \"'pendent\", 'hamptons', 'mixalot', 'داخە', 'shmoe', 'talkand', 'couldnt', 'biddybyebye', 'lightskinned', \"'lo\", 'doubleaught', 'کردنه', 'neiked', \"boxin'\", 'pacquiana', 'salla', 'sargeant', 'dddown', 'wuk', 'sweepy', 'bazıları', 'alessia', 'イチコロ', 'flyness', 'chugh', 'ohohohoohooh', 'jabronis', 'slideshows', \"wigglin'\", \"every'\", 'yapacak', 'woohoo', 'skeelo', 'pérignon', 'callaway', 'uyandım', 'fightin', 'butbut', 'hashtags', \"mo'fuckers\", 'drumline', 'gras', 'tryy', 'digas', 'termina', 'confiaba', 'booggz', 'bareknuckles', 'toc', \"grammy's\", 'fibias', 'worstcase', 'winslow', 'nout', 'eljön', \"the'\", 'tru', \"soothin'\", 'badmind', 'пососусь', 'appetitetite', 'bangable', 'smallass', \"colorin'\", 'headress', 'yapmıyorum', 'belaire', 'deepthroat', 'hendersonville', 'legpeacock', 'rcket', 'fleisch', 'iceblue', 'αφήσω', 'soulmate', 'kayraktan', 'دەکرێ', 'fivefifty', 'skeptos', 'año', 'cy', \"icet's\", \"heyit's\", 'kocha', 'skirtsy', 'impossiblefeeling', 'سقوط', \"grunwald's\", 'papi', 'rahhnnn', 'zolofts', 'neyo', \"pillowtalkin'\", 'شدن', \"comfortin'\", 'taciz', 'fide', 'кинул', 'rexx', 'gotgot', 'penisi', 'takedown', 'anlaşmalı', 'donenails', \"trollin'\", 'jingalingaling', 'alleyoop', 'chubbateletubby', 'yellowishorange', 'soundscan', \"í've\", 'tko', 'toute', 'داشتم', 'sorteé', 'selfhatred', 'ikumkani', 'parkfivethousand', 'všechno', \"extendin'\", 'kosu', 'eltávozik', 'xx', 'longforgotten', '6carat', \"halfsteppin'\", 'fuuun', \"insertin'\", 'vater', 'martinezs', 'βλεπουμε', \"jodeci's\", 'nejsi', 'tingaling', 'sitowuation', 'seventhirteen', 'اطلاعات', 'playhigh', 'hollowtips', 'embereket', 'momother', 'tetris', \"j'appartiens\", 'شەیدی', \"provin'\", 'beckton', 'semiglock', 'copian', 'کەمانچە', 'losed', 'sssorry', 'buttando', 'gregor', \"l'assemblage\", 'در', \"'net\", \"shuttin'\", \"comprehendin'\", 'frankensteined', \"drownin'\", 'infact', 'stormless', 'oohoohoohoohooh', 'rács', 'rien', 'thеy', 'socalled', 'acaso', 'tudurudururu', 'superdope', 'escribirle', \"'dick''s\", 'chodziłoby', 'frontrow', \"kriss'\", 'brandnew', 'howhow', 'dubplate', 'اجناس', 'rawkus', 'tonk', 'swishers', 'tellement', 'zoet', 'é', 'afterhours', 'lilys', 'kutzle', 'еxpect', 'fizzer', 'vzdát', 'thuuug', 'chigchiggaretret', 'φωτογραφία', 'crackskin', 'tacy', 'basszameg', 'abys', 'oxys', 'rеmodeled', 'nézek', \"supplyin'\", 'ڕوبدات', \"'cuh\", 'budowałeś', 'vuittons', 'splishsplash', 'moneyoverbitches', 'اولا', 'baow', 'yediler', 'pbbt', 'blowback', 'millimizzy', 'psh', 'hijas', 'ooooooh', 'phonte', \"timb'\", 'buille', 'hatata', \"münchausen's\", 'onna', \"hoggin'\", 'proto', 'قلبممعذرت', 'fcrnando', 'rihannagate', 'pochyloną', 'dileniyonuz', \"50let's\", 'stanps', 'movin', 'inchext', 'mea', 'hunderttausendeuroschecks', '8ball', 'presale', 'laidback', 'putaash', \"saucin'\", 'swayze', 'bıçağın', 'ngizogobisa', 'explota', 'yamalak', 'فقط', 'scullies', \"kangol's\", 'gp', \"maxin'\", 'daré', 'együtt', 'egh', 'ضرر', 'wittle', 'gizler', 'tebe', 'womp', 'húsvétkor', 'pitterpatter', 'ebts', 'ateam', 'moda', 'teacht', 'mescado', 'bfhéidir', \"pursuin'\", 'mamamakes', 'sadece', 'milltown', 'roste', 'mmhmhm', 'špičkách', 'ohoohoohoohooh', \"cookin'\", \"beggin'\", 'ppeared', 'redant', 'yooou', 'ئەوان', 'tym', 'woofwoof', 'looey', 'unutmadan', 'ayayayayay', 'keşke', 'eightyyearold', \"my'cause\", 'mondogatom', 'looooove', 'głowie', 'esta', \"f'd\", 'somethin', 'thurston', 'phoneix', 'sırtını', 'valent', 'empieza', \"''merhaba\", \"change'\", 'fieldbut', 'dadadaay', \"surmisin'\", \"n'a\", 'geniusness', 'suddy', 'tubetop', \"snitchin'\", 'nicе', \"lambo'\", 'вайбах', \"list'ning\", 'ohohohohohohohohohohohoh', 'σκιμένο', 'ifif', 'spazz', 'tribeca', 'africanamerican', 'نابغه', 'bidibombidibombidibay', \"yeah'\", 'afterparty', 'betterum', 'idgaf', 'politik', \"bumpin'\", 'megtanított', 'haynie', '숨기려고', 'oups', \"y'allselves\", 'دەنێم', 'quos', 'credda', 'faceplants', 'leute', 'aiyyo', 'کسی', 'زیاترە', 'jerkey', 'woodgrain', 'niña', 'hh', 'música', 'wynds', 'trappin', 'yoldan', \"wifin'\", 'ccatch', \"youngin'\", 'víctima', 'thgin', 'سەرو', \"muh'fuckers\", 'dickory', 'jeera', 'idioma', 'decir', \"irv's\", 'atomovou', \"pilin'\", 'sile', 'cuffin', 'roadmap', 'ruhuhun', 'этой', 'gaa', 'themsome', 'نارحت', 'φορές', \"mannin'\", 'fourwheeler', 'breastses', 'nonobody', 'pleasе', 'тебя', 'ریشه', \"minglin'\", 'prima', '七輪', 'overcomplicate', 'dokázal', 'rerock', 'cardibissoproblematic', 'keysh', 'εσυ', 'šta', 'beddirectly', \"boolin'\", 'awaawchaaw', 'ddddo', 'evitar', \"'sta\", 'گۆڕا', 'prr', 'еstow', \"finessin'\", 'ibaka', 'woahh', 'coldblood', 'nombre', 'eles', \"'pew'\", 'yaki', \"puddin'\", 'quica', 'ganstress', 'copout', \"mclovin'\", 'allstar', 'lastall', 'fuis', \"backstabbin'\", 'toma', 'wzbogacam', 'براندی', 'roxx', 'fearne', 'yarby', 'ruido', 'gggggunit', 'fisted', 'eyepopping', 'lifelife', 'browz', 'seriesshow', \"waxin'\", 'viajo', 'deez', 'هستمآرهووسر', 'katil', 'andreena', 'bőrébe', 'mindig', 'دگر', \"soberin'\", 'été', 'cеnt', 'تێک', 'lg', 'sorryext', 'luar', 'thousandaires', 'vids', 'dobtuk', 'fosho', 'est', \"chateau's\", 'phrephrephresh', 'حالا', 'aboarded', \"owners'\", 'explorador', \"flockin'\", \"waitin'\", 'pennys', 'allumées', \"damien's\", 'μαζι', 'collabo', 'beckiana', 'scxy', 'frente', 'pompompompom', 'ohwoooh', \"n'estce\", 'wanye', \"creatin'\", \"d'essayer\", 'haftada', 'botellas', 've', 'lickety', 'addi', '4pm', 'rahibeler', 'buncha', 'realo', 'lorde', 'bağırdım', '過來吧', \"'renegade'\", 'bheidh', \"minaji'm\", \"frizzin'\", 'onetwo', 'öldürsen', 'asabe', 'pappadeaux', 'phresh', 'ladeeda', \"slayin'\", 'گرینۆکێکم', 'desafío', 'postaví', 'partyed', 'untoppable', 'isen', 'reggo', 'herbo', 'yiyen', 'retweet', 'kumpent', 'spreee', 'vivarin', 'üvegvitrinbe', 'siddity', 'dojde', \"rakin'\", 'sopayla', 'micstand', 'تاریخ', 'menyembunyikan', 'atl', \"wylin'\", 'kisskiss', 'falala', '6s', \"down''\", 'ahahahahah', 'خیابونا', 'vocalschimamanda', 'selfpromoters', \"spazzin'\", 'merhaba', 'bodyshocking', 'داشتن', 'ahhahaowww', 'söylendi', \"glistenin'\", \"humpin'\", '69ing', 'kulağına', 'miley', 'oro', 'itll', 'memy', \"dollaz'\", \"pannin'\", 'kediyle', 'frontdoor', \"swisher's\", 'hahahahahaha', 'linkin', 'woooohoohoohooh', 'acappella', 'mewant', 'rizzle', \"guessin'\", 'craycray', 'duckin', 'stratch', 'whowhowho', 'kecantikanku', \"'zurp\", 'hurn', 'deau', 'pointynosed', 'hiney', 'cryin', 'sketel', 'mondod', 'uguali', 'unias', 'widout', 'méxico', 'olanın', '하는', 'beyoncè', 'ڕوحەکان', 'klla', 'bunji', \"flirtin'\", \"decemberapologizeyou're\", 'ririck', \"imposin'\", 'mâché', 'kunta', 'jumpoff', 'bizzench', \"travellin'\", 'αριζονας', \"neglectin'\", 'occupée', 'sssshockshockwaves', 'unevadable', \"som's\", 'stiffarm', 'yellin', 'botox', \"empezamo'\", 'gyptian', 'seagal', 'jonesa', 'kennedys', \"stankin'\", 'courtside', 'cette', 'escuchar', 'glaad', 'mujer', 'kahrolası', 'havenot', 'deathmatch', \"thinkin'\", 'stanko', 'swann', 'careerdefining', 'stushing', 'olarak', 'habibis', 'melhor', \"qu'à\", 'housegots', 'muhfka', 'hov', 'nute', 'مشروبات', 'rahhh', 'henny', 'daytoday', 'uness', 'süzmem', 'meenie', 'کامل', 'wakanda', 'začít', \"dealin'\", 'onu', 'заткнись', 'fuckinyouupshit', \"somefuckin'one\", 'هەبوو', 'beastiality', 'shoty', 'runneth', 'çıkıyorum', 'trunked', 'acepta', 'çatlak', 'singlehandedly', \"cadillac's\", 'ڕەشەبادا', 'písku', 'eachother', 'deebo', \"realizin'\", 'hiddenpaw', 'sanıyor', 'heartbreakers', 'vere', 'féadfaidh', 'είμαι', \"got's\", 'نکنی', \"buyin'\", 'lololo', 'świątynię', 'heh', \"deterioratin'\", 'oversaturated', 'ولی', 'ayet', 'zeed', \"manhandlin'\", 'indiaarie', 'aftermizath', 'wassy', 'lcver', 'outi', \"panelin'\", 'unico', 'ayyayy', 'рэкс', 'runins', \"fadin'\", 'lì', \"dre'll\", 'lbs', \"breaking'\", 'baliff', \"coldplay's\", 'mikill', 'voulez', 'ahhmm', \"willin'\", 'pmsing', 'ika', 'parisien', 'interscope', 'agame', 'sе', '7am', 'tient', 'twentythousand', 'nonman', 'huncho', \"where'd\", 'ڕێگا', 'arounds', 'fanacht', 'chooooked', \"pussyfootin'\", 'bausch', 'dünyayı', 'içkilerden', 'booo', 'getirilmeyen', 'meksa', 'skelter', 'luí', 'همینطور', 'marrant', \"'fuck\", 'ryu', 'akartak', 'sve', 'likeyou', 'lizardskin', 'travie', 'thhbbpp', 'camoflague', 'blocka', 'fughesi', 'ناحەزانیش', 'chola', \"bus'\", 'mcvay', 'otni', 'upgive', 'beemer', 'yeahhee', 'swangin', '속마음', 'zwrotka', 'pyd', 'uhhhhhhhh', 'shiiiiiiit', 'kallman', 'otrice', 'cintura', 'bangbangbang', \"romancin'\", 'favour', 'maskati', 'hiciste', \"moppin'\", 'ohahahahah', 'yorkville', 'rt', 'zur', \"unitin'\", \"stampedin'\", 'rosey', 'oceania0908', 'tae', 'ittt', 'których', 'extravagantní', 'yapyap', 'daha', 'tez', 'ją', 'greazy', 'shshshocked', 'iggy', 'ohho', 'bandwagoners', 'doobie', 'oochiewallawalla', 'jaxon', 'więcej', \"eiffel's\", 'approx', 'kobalt', \"spellin'\", \"dismissin'\", 'следы', 'maradonna', 'elli', '4d', 'allnighter', 'uchain', 'دەڕوانن', 'peine', '統治著這個荒蕪的城鎮', 'azzure', 'womanvogue', 'kapatacağımı', 'ragedy', \"muhfuckas'\", 'oohoohoohohoohoohoh', \"'long\", 'bool', 'brum', 'برای', 'prix', \"54''s\", 'buel', \"massagin'\", 'estas', 'fais', 'ڤیـ', 'بزنه', 'highheeled', 'nunchucks', 'woahwoah', \"underlyin'\", 'uhum', \"til'\", 'backshots', 'lalalolololo', \"ladies'\", 'auditionin', 'swiftondemand', 'versedrake', 'fooding', \"swappin'\", 'bylo', 'vystát', 'tanıt', 'contrat', 'fеlt', 'marshmello', '00superman', 'timе', 'neef', 'bummy', 'napaljenija', 'fractioned', \"perplexin'\", 'heartstopping', 'davranma', '7th', 'rapoj', \"things'll\", 'kendimle', 'zub', 'hoohohohoh', 'potem', \"perry's\", 'tesó', 'ririch', 'frego', 'tezz', 'juelz', 'dalai', 'culdesac', 'kompai', 'broadshouldered', 'oceanianovember', 'lllook', 'roethlisberger', 'finchy', 'crazyjust', 'bmi', \"d'amour\", 'aaass', 'تکراری', 'spen', 'fouryearold', 'était', 'freefall', 'ooohh', 'zbyt', 'cityfrom', 'nuttin', \"spiderman's\", \"addressin'\", 'rcssian', 'こいつが', 'cabrón', 'jayaz', 'boulangerie', 'smcke', 'thirtythree', 'میتونم', 'długo', 'gira', 'thang', 'uploadbanks', 'elbisenin', \"mumblin'\", 'ccaught', 'ψυχή', 'hithithit', 'mansoni', 'cardi', 'herro', 'katana', 'hilowitz', 'soros', 'streetmuscle', 'siro', 'preverse', 'mawingu', \"morphin'\", 'adunnadundundun', 'dddaddy', 'nighters', 'chkword', \"thereain't\", 'def', 'whoo', 'nway', 'kolczasty', 'poppington', 'mhéid', 'walgreens', 'strummin', 'holdin', 'jeezy', 'داوە', 'تیکم', 'ashleys', 'voicе', 'coacha', \"matchin'\", 'tek', \"youngin's\", \"buildin'\", 'ruh', 'هەیلی', \"'cid\", 'bahbadiblooblah', 'ohohover', \"rock'n'roll\", \"cooch'\", 'froggish', 'bibihoping', 'umpfh', \"j'suis\", \"mo'fucker\", 'karıştıran', \"niggas'\", 'wnew', 'bude', 'fixin', 'jmenování', 'ickday', 'ekledim', 'wraper', 'fulltime', 'knowget', 'agyness', 'nenja', \"open'\", 'degreez', 'loudies', 'loservictim', 'giochiamo', 'headturning', 'donnezmoi', 'vassata', 'tshirts', 'wifin', 'lamma', 'yeaheheh', 'spinks', 'fedexforum', 'uhdj', 'bigbibibaby', \"squashin'\", 'شێوەی', 'trapaholics', \"j'avais\", 'میکردن', 'nuvo', 'dreamgirls', 'şuna', 'vamanos', 'sipi', \"sixwhippin'\", 'banksy', 'skindanu', '看著他們倒下來', 'nevében', 'wakingup', \"perc'\", 'runitniggafast', \"mudslingin'\", 'pickedonchristopherreevesjustfornoreason', 'imposible', 'camrys', 'hottie', 'owww', 'bibir', 'adios', 'którą', 'نذاشتم', 'zuse', 'addy', 'rhymein', 'yoooo', \"adjustin'\", 'awayay', 'playerhaters', 'esé', 'financials', 'pues', 'kikapcsoltuk', 'πρώτη', 'dugarees', 'crip', 'thatibe', 'aholes', 'ночь', 'سەوتم', 'trynna', 'phatter', 'adı', 'bbugs', \"l'ora\", 'rerespect', \"cc's\", 'ganzen', 'solemnfaced', 'glacadh', 'hahahahahahahaha', 'vit', \"'minus'\", 'کینگ', \"songs'll\", 'appellent', 'hadnt', 'نمیتونیم', 'kalonji', 'yoyo', 'hile', 'vey', 'interuppted', 'mh', 'aklına', 'еh', \"care'n\", 'balmains', 'bizzle', 'neyse', 'shotter', \"i'da\", 'onetrack', \"clownin'\", 'nj', \"'yes'\", 'hyperdrive', \"standin'\", 'eiht', 'dahasını', 'digne', 'odb', 'estive', 'backflips', 'mamamamanicure', \"listеnin'\", 'molotovs', \"lelelet's\", \"'ow\", \"thinnin'\", \"treatin'\", \"intent'n\", 'bağlamadım', 'migopersona', \"5's\", 'rüyalarında', 'jahač', \"i'manna\", 'eheeheeheeheeheeheeheehe', 'dracs', 'σελιδές', 'jamma', 'whuh', 'madda', 'selfdestructing', 'knowoh', 'θελω', 'testet', 'doubletime', 'faits', 'cakecake', 'میگنگوگل', \"yackin'\", \"snoozin'\", \"'fine\", 'iiliked', 'umuyoruz', \"magnifyin'\", 'bio', 'gyllenhaal', 'kittenkaboodle', 'parro', 'darle', \"o'shea\", 'triumphent', 'shakeshake', \"l'eggo\", 'codirect', 'outtro', \"lang'\", \"'very'\", 'pero', \"qu'estce\", 'πορτοφολί', 'piensa', 'hoho', 'hhhhhhheartbeat', 'eightzerozero', 'thumper', 'velemjézusom', 'ruoy', 'tigg', 'socksock', 'های', 'hakkında', 'handinhand', 'weezing', 'mía', 'poljubi', 'enfrentando', 'thay', 'ساله', 'ماوەیەکی', 'puuuuuuuke', 'alliana', 'lauer', 'быть', \"bloodflingin'\", 'quella', 'funnymoney', 'marlow', 'serayah', 'phifer', 'ooooo', 'bwoy', \"kisskissin'\", 'squier', 'ohoohooahhahh', 'twodoor', 'özellikle', 'ڕقم', 'americaworldhow', 'abajo', 'boof', 'legbutterflies', 'tbe', 'raccroche', 'baptise', 'ohiohiohiohi', 'bbring', 'c4', 'theoh', 'bltses', 'whachu', 'drzwiach', 'preemo', 'sanırım', 'mucho', 'eilish', 'daya', 'threemonth', 'swt', 'carterfinley', \"faygo's\", \"'walk\", 'gevşetici', 'hmmm', 'uyaziwa', \"'nillaf\", 'ahlololololo', 'oooff', 'neskeem', 'fuckthemboysforever', 'epmd', 'hollister', 'tingalangalang', 'aquella', 'mee', 'silahı', 'ttteach', 'plcce', 'chestbackin', 'mayweather', \"bodyin'\", 'knooooooow', 'maaaa', 'ooooh', \"snugglin'\", 'footoh', 'flyy', 'strooong', 'nonhumble', 'ξερω', 'ganarás', \"fo'\", 'smileall', 'przy', \"t'\", 'nuuuuuuuuutz', 'seventythree', 'rrrrrr', 'freekey', \"'kiss\", 'lickwood', \"i'llliehere\", 'ohohohohohohohohohohoh', 'hatties', 'monét', 'está', 'beautye', 'drivebys', 'elas', 'upnorth', 'reacharound', 'countertop', 'apanhei', 'traktuję', 'genasis', 'garantizado', 'motherf', 'companyquite', 'dorags', 'bxxre', 'prives', \"'bis\", 'millz', \"beiber's\", 'nows', 'antibackstreet', 'fufufuck', \"dreamin'\", 'benza', \"beakin'\", 'mumbojumbo', 'badipsa', 'eah', 'mamacita', 'vowe', 'lifes', 'megkellett', 'playby', 'customfitted', \"mayweather's\", \"don'tcha\", '50somethings', 'brenden', 'spanky', '你真該看看我戴上后冠', \"toyin'\", 'ppick', 'tickytock', \"buddenl's\", 'μπορει', 'rhymesayer', \"'hello'\", 'vibreer', \"m'ucht\", \"targettin'\", 'nighter', 'soir', 'burntdown', 'lifesize', 'burla', \"imaginin'\", 'chce', 'mag', 'patrzę', 'unsuck', 'chedda', \"i'mma'\", 'massoccur', \"glowin'\", 'ağrı', \"fresh'd\", 'twarzą', 'egal', \"gabanna's\", 'hccker', 'pensaba', 'ohuhuhuhuh', \"'64\", 'caliente', 'değilsin', 'تیم', 'murdercedes', 'říká', 'drexler', 'arrivo', 'seye', 'eyyo', 'cvs', \"wrestlin'\", \"lata'\", 'آنال', 'ohhuh', 'hickie', 'semé', 'voor', 'frida', 'percodans', 'درێژ', 'kreis', \"with's\", \"mo'fuckin'\", \"hearin'\", 'bildiğin', '거부할', 'asscrack', 'dadax', 'musiques', \"fundin'\", \"ghostin'\", \"partyin'\", 'southernplayalisticadillacmuzik', \"publishin'\", 'ocd', 'algo', \"ev'rything\", 'mcig', 'będziemy', 'unfollow', 'skinnyass', 'dal', 'galdem', 'luđa', \"piercin'\", \"budgin'\", 'vlastně', 'мной', 'lacroix', 'meyeah', 'اعضای', 'pudo', 'panino', 'ancesters', 'yealive', 'oğlanlara', 'olanlar', 'riiight', 'nik', \"laughin'\", 'skantless', 'scheiße', 'shaq', 'divo', 'tys', 'mintha', \"twirlin'\", 'κλείνουν', 'ohwe', 'yrc', 'dollardollar', 'toodles', \"performin'\", 'harderall', 'muthafucking', 'gdy', 'angelinas', 'φορες', 'messi', 'lameass', \"'the\", 'dios', \"boardin'\", 'wellread', 'labio', 'overnighters', 'lupeoohm', 'nace', 'éist', 'jayz', 'buckbucker', 'blizzy', 'voiceovers', 'nou', 'dopeman', 'verán', 'ohohhhohhhohhhohohoh', 'jj', 'targaryen', 'startin', 'ucksay', 'morе', 'drunkdrunk', \"mentionin'\", \"'46\", \"reapin'\", 'снова', 'gooding', 'باشترم', 'friggen', 'cherryred', 'spickety', 'آورد', 'metta', 'bdp', 'heyohohoh', '5s', 'cigerette', 'likelike', 'pensais', \"groundbreakin'\", 'وقتی', 'winey', 'rearending', 'goride', 'togetherthink', 'я', 'lannisters', 'doesnt', 'грозят', 'eetlust', '50k', 'bizkit', 'chkka', 'guh', 'vil', \"bringin'\", 'changó', 'olacak', 'jaz', 'kkiss', 'puddy', 'backwood', \"clickclackin'\", \"rapmobilelet's\", 'başı', 'بەرز', 'everythingeverything', \"l'étrangle\", \"yao'\", \"whisperin'\", 'stuy', 'shshshshsh', 'ahyeah', 'megfújt', 'rivières', 'ọkàn', 'chanté', 'broov', 'screensaver', \"a'ight\", 'کمپ', 'mamagaga', 'simma', 'ohohohhh', 'imma', 'تی_مینوسپرودیوسر', 'bíróságon', 'niebo', 'sativa', 'mmhmmh', 'už', 'carlile', \"stark's\", 'ko', 'jimi', 'jeopardation', 'problemo', 'upkathy', 'نەوت', 'subtweets', 'tolerence', 'pictureperfect', 'lolololololololololove', 'finetuned', 'celly', 'wizzle', 'einhundert', \"'burbs\", 'hayran', 'siedzę', \"discouragin'\", 'forseen', 'oou', 'mamamamarry', \"womens'\", 'ridaz', 'fatale', 'mučili', 'lovin', 'kadınları', 'apps', 'trytrytry', 'corté', 'quikclot', 'fisker', 'promets', \"sponsorin'\", 'روی', 'erykah', 'dreamt', 'dansı', 'zamek', 'spor', 'mek', 'yeeah', 'fatass', 'listеn', 'stüdyosundan', 'ocho', 'because06', 'danananana', 'oj', 'sonmai', 'głową', 'itrabbit', 'کمد', 'marshalls', 'yeeeeeah', 'tienes', 'ginobili', 'doodoodooroo', 'yyou', 'aaaaah', \"'lizabeth\", \"pinchin'\", 'ناخۆش', 'φορα', 'driz', 'yettobeconfirmed', \"talki'll\", \"man'll\", 'macaiah', 'menjadi', \"botherin'\", 'amerigo', 'orderin', \"rhyming's\", 'onların', \"harmin'\", 'rayful', 'beastmode', 'bleu', 'rosas', '見てみろ', 'quoi', 'ballscrotum', 'قوی', 'rihrih', 'yé', \"rollie's\", 'maldecías', 'whos', 'drycleaned', 'deshaun', 'psikiyatristlere', 'fiveseater', 'polepopping', 'کرده', 'draymond', 'fucken', 'rebi', 'halleluhallehallelujah', 'mercedesbenz', 'sensei', 'prizm', 'likelikelike', 'caprisun', 'neeba', 'mothafuckers', 'savin', \"stuntin'\", 'ü', 'scotiabank', 'freakazoid', 'milikku', 'mexrdique', \"amazin'\", 'destinys', 'uzaktayken', 'whitestrip', 'sssshit', 'szembe', 'munroe', 'mafro', 'redtinting', 'flooryou', 'بێزارم', \"jazzy's\", 'ohohayo', 'incents', 'lowrider', 'mothafucking', \"tannin'\", 'ateeasily', 'rampapapampam', 'sndoubleop', 'comprender', 'aap', 'spacetime', 'mudholes', 'ڕقاوی', 'pokračuj', 'هێشتا', \"degradin'\", 'üzerinden', 'brewski', 'heyeh', 'tp', \"hen'\", 'seeeat', 'welli', 'clowners', 'asszem', 'ponětí', 'qute', 'waistdeep', 'threeee', 'блестит', 'selfrestoration', 'allnew', 'fatt', 'hardon', 'yeeeeeeah', 'zostać', 'riri', 'breezin', 'será', 'poza', 'جمیما', 'shedded', 'probablemente', 'deadass', \"m'exciter\", 'augh', \"won'twon'twon't\", 'holyfield', 'borrowin', \"flushin'\", 'maines', 'helder', 'paixão', 'bbbbarbie', 'ladadada', 'energysolutions', 'کن', \"sharin'\", 'lp', 'neeks', 'vocial', \"ripken's\", 'huhuh', 'ο', 'موقعیت', 'damlıyor', 'plexing', 'yung', 'oooooh', 'earnin', 'iconstat', 'froid', 'bflat', 'jestem', 'chinky', 'دیسم', 'hacha', 'heyehey', 'refren', 'fucka', 'changin', 'walder', 'calor', \"'guilty\", 'tenton', 'calaphawar', 'cheque', \"babysittin'\", 'gondolataikon', 'fubbaucubbakubba', 'staters', 'pleadin', 'hiyaah', 'σπίτι', 'bağırırken', 'çıkması', 'bеtty', 'gyal', 'lgbt', 'unser', 'xcellent', 'kookay', 'vics', 'yasss', 'ladidadi', 'soons', 'они', 'smackdab', 'handmedowns', \"disrespectin'\", 'kourtney', 'redenbach', \"weed'll\", 'llegando', 'ofortwo', 'agh', 'kiedyś', 'mutha', \"choppin'\", 'yute', 'zagraj', 'screenshot', 'looky', 'podcastlerine', 'lyin', 'felching', 'townover', 'woadies', 'çalışmak', 'maree', \"bearin'\", \"illin'\", 'caddycornered', 'ladadooladada', 'chiminey', 'sissor', 'chuckee', 'faceass', \"tyin'\", 'brownnoser', 'deucedeuce', 'tshirt', 'japanesey', 'namehey', 'zaga', 'regresar', 'φωτογράφια', 'kamenů', 'againnot', 'fós', 'wata', 'winnin', 'майбах', 'میتونین', 'paparis', \"budden's\", 'düştüğü', 'fufufufufuture', 'blowjob', 'unabiding', 'kellett', 'camila', 'knowowow', 'dahhdum', 'setlistlady', 'shish', 'motel8', 'youngun', 'bueller', \"offerin'\", \"dishin'\", 'zannotti', 'quartercentury', \"somethin'\", 'ονείρευομαι', 'déposer', 'üstünde', 'thinkinnnnnn', \"answerin'\", \"dodgin'\", 'ahha', 'sagteenagers', 'boyboys', 'érint', 'regine', 'nicki', 'eeyoeeyoeeyoeeyeah', 'makе', 'alongsidenow', 'lhuna', 'ramblas', 'benzes', 'marky', 'ozzy', 'parlezvous', 'nasdaq', 'weezys', 'sirve', 'دارمەیتی', 'voz', 'kanyes', 'bitchslap', 'offensed', 'oy', 'tapout', 'suwoo', 'دارمچی', 'sportovec', \"dancin'\", 'mmkay', 'woohoohoo', 'baskin', \"flo'\", 'motherdaughter', 'underprepared', 'uhhuh', \"cruisin'\", 'plcybcy', 'flingy', \"infinit'\", 'fghhigher', 'niesamowicie', 'offlimits', 'ohso', \"sbarro's\", \"d'attendre\", 'chorexo', \"pointin'\", 'szégyen', 'poppoppop', 'پاهامتعجب', 'mikkel', \"mo'\", 'pparty', 'griddlebone', 'mcnabbin', 'watchu', 'spalding', 'outie', 'playdate', 'unnhh', 'freako', 'twothree', 'demonand', 'yowe', 'lamby', 'bilmek', \"'drew's\", 'szacunku', 'buenas', 'stou', 'soulja', 'songz', 'cehennem', 'oooo', 'merch', 'doble', 'kteří', 'hellspawn', 'pasó', 'banna', 'swoll', 'chokin', 'highschool', \"haf'\", 'amén', 'prt', 'keşfettim', \"michael's\", 'traw', 'beatle', 'viset', \"parasailin'\", \"''your\", 'shalalala', 'любовь', 'zamn', 'rerespected', 'قلبم', 'olmak', 'meglátom', 'onlar', 'murda', 'mustve', \"gt's\", 'midler', 'shadymania', 'znieść', 'kolye', 'coja', 'konstantinov', 'biraz', \"yodellin'\", 'hedi', 'mazel', 'veriyoruz', 'poonpoon', 'shabada', \"hissin'\", 'mentals', \"drac'\", 'yor', 'پارە', 'damngive', \"na'\", 'leandra', \"94'8\", 'ghop', 'mé', \"cuddlin'\", 'skrr', \"floatin'\", 'suis', 'پێوویستە', 'uhuhhey', \"concealin'\", 'hoahoowoahoowoah', 'nooit', 'walkingdead', 'ggggotgot', \"punchin'\", 'reyez', 'denialtitle', 'yeezys', \"resortin'\", 'دەکوژم', 'nomore', 'korver', 'cię', 'fasz', 'wifen', 'quatsch', 'lameos', 'tove', 'lieiie', 'selivukile', 'olyanokat', 'prolly', 'cmere', 'números', 'trampas', \"timin'\", 'butto', 'zro', 'orangeoh', 'فروش', 'yeaheheheh', 'rihmeek', \"dozin'\", \"eruptin'\", 'bbbbible', 'digroup', 'nicky', 'fortyforty', 'shoutouts', \"swingin'\", 'knknkneel', 'söylüyor', 'بەردەوام', 'warnin', 'onemay', 'badadadadadadadada', 'steinfeld', 'irte', 'raaaah', 'evеry', 'margielas', 'facism', 'marys', 'hickorydickory', \"challengin'\", 'auquel', 'beesyay', 'vanmi', 'gdod', 'musun', 'hoohoohoohoohoo', 'predigital', 'dodododa', 'heheheh', 'sondern', \"pissin'\", 'ws', 'kaniff', 'longleg', 'bing', \"braggin'\", \"misleadin'\", 'kwamé', 'yoncé', 'predominantlywhite', \"yayo's\", \"grammys'\", 'diablo', 'seee', 'choochoo', \"hort's\", 'oynamaya', \"gleamin'\", \"within'\", 'quisiste', 'thatthat', 'openingshutting', 'olası', 'wuh', 'ingin', 'marv', 'kesha', 'plegic', \"rape'\", 'των', 'mts', 'sumn', 'autre', 'mistakefree', \"tony's\", 'feefididideeyay', 'geeking', 'lebih', \"'05\", 'getget', 'edumacator', 'életet', \"joso's\", 'klid', 'gidip', 'noche', 'mögé', \"amiga'\", 'wiffle', 'gâché', 'testaroasa', \"vacuumin'\", 'blownout', 'kibaszottul', \"that'sthat'sthat's\", 'photoshopped', 'yalvardığınızı', \"haulin'\", 'circumflexion', 'aventadors', 'vaaliuum', 'liom', 'shiddit', 'nano', 'disturbia', 'har', 'dity', \"milhouse's\", \"mornin'\", 'cubeatz', 'kanes', 'ffaded', 'déjà', 'oohhhh', 'sırf', 'cien', 'voodonnana', 'maskoo', 'dobkin', 'timbo', 'deelishis', 'dwade', 'snuffleupagus', 'carbi', 'daripada', 'naaaaahh', 'قاقای', 'shitface', 'mcees', \"'septic\", 'layed', 'dropsfuck', 'tatuaż', 'balenciagas', 'bouche', 'rincón', 'wallabees', 'دەنگم', \"thankin'\", 'könnycseppem', 'facce', 'قرار', \"'sposed\", 'hippity', 'berkant', 'ggget', 'cose', 'mı', 'pleaseyeah', 'exfan', 'powiedzenia', 'tttime', 'هم', 'túl', 'highpowered', 'donalda', 'yeshua', 'onefifty', 'pricelessness', 'fulham', 'cyphering', 'yooptictock', 'dengan', 'heeeey', '在我的國度裡的一股惡寒', 'ficción', 'runned', 'eyekyu', 'ck', 'rosai', 'perché', 'benben', 'زبان', 'malignaggi', 'bleachella', 'flyeyeeye', 'boasy', 'necesito', \"droppin'\", 'değiş', \"quelqu'un\", 'dialin', \"he'\", 'vreme', 'rímekbe', \"bizarre's\", 'youuuuu', 'نیستیمن', 'survivin', 'thickory', 'minket', 'dimebag', 'usa', \"sawin'\", 'flavour', 'ballers', 'aspinning', 'boyardee', 'mcgrady', 'chicas', 'zzzzzone', 'ooohoohoh', 'βρω', 'palos', 'gitmemi', 'jött', 'kisshisasscrack', 'canyou', 'nelissa', 'n9na', \"rearrangin'\", 'galiana', 'rrrrrrrrrrrrrrrrr', 'ghostface', \"'fits\", 'وایسامنظورم', 'thirteenyearolds', 'koşuyorum', 'currensy', 'breathin', \"revoltin'\", 'statik', \"guzzlin'\", \"providin'\", 'užívá', 'alatt', 'farrah', 'baaaaaack', \"will'll\", 'viviendo', 'rapapampampampampampam', 'tomayto', 'twoply', 'onemarch', 'glutes', 'favorte', \"eatin'\", 'taichi', 'fixins', \"swerveswervin'\", \"riker's\", 'انجامش', 'phair', 'elle', 'redemptionint', 'μόνος', 'luncha', 'holyfeel', 'всем', 'alamıyor', 'voicemail', 'liiiiberateeh', \"jumpin'\", 'hahahahahahahahahahaha', 'اسلیم', \"polamalu's\", 'minie', 'używam', 'swagu', 'michie', \"dismantlin'\", 'louohud', 'لەبەر', 'ohoooh', 'uhm', 'pinesol', 'سگ', 'handcuffin', 'aguanto', 'witcher', \"gaybashin'\", 'poopookaka', \"'yoncé\", 'whoaahoh', 'cuello', 'asics', 'acompañarme', 'uzmi', 'nawmean', 'rejuved', 'selfconscious', 'sie', 'bhasker', '7eleven', 'blcst', \"others'\", 'érzelmeskedés', \"our's\", 'sheika', \"'fore\", 'rubrubbing', 'aç', 'canekane', 'truamp', 'shesus', 'reprendre', 'stillborns', 'peacockcockcock', \"scissorin'\", 'jelani', 'creer', 'selfloathing', 'alay', 'travelin', \"replayin'\", 'nuevo', 'kakunk', 'f5', \"rcmancin'\", 'banghands', 'sizilethile', 'timewe', 'był', 'checkless', 'powey', 'krayzie', 'grr', 'therethe', 'vieh', 'bеnt', 'poleruję', 'gahhlee', 'youtubeslim', 'barshall', \"mouthwaterin'\", 'چەنز', 'elen', 'vinessa', \"wiggin'\", 'دەفرۆشم', 'swinefest', 'woahoh', 'faggotuh', 'cookwear', 'bonjour', 'hai', \"s'quitter\", 'teetee', 'potblood', 'roddy', 'чувствую', 'gritando', 'ooop', \"ahoy'\", 'lеave', 'margiela', 'چرامن', 'кто', \"chasin'\", 'alors', \"jusqu'au\", 'awsè', \"bustin'\", 'wickwith', \"'jects\", 'aşağıya', 'corden', 'woahoooowe', 'میام', 'thirtyseater', 'whattup', 'fivio', 'توسط', 'lowkey', 'gimmie', 'sremmlife', \"keepa'\", 'kommt', 'φορά', \"washin'\", 'letcha', 'dirà', 'halftwisted', 'hotties', \"dressin'\", 'taser', 'spraypainted', \"should'a\", 'rezil', 'új', 'wooii', 'rogaine', 'میدونم', 'glengrove', 'babababacontrollably', 'fruto', 'yapıyor', 'nom', \"behavin'\", 'keepin', 'abuhbuhbuh', \"ev'ry\", 'shizzle', 'پاش', 'scuola', 'leeyar', 'bruh', 'uckfay', 'ccan', 'preme', 'ganking', \"'til\", 'hooome', 'götüme', \"times've\", \"ppprocessin'\", 'arrowsmith', 'strecth', 'matan', \"spwashin'\", 'feet848', 'tn', \"blazin'\", 'commited', 'yakıyor', 'castamere', 'sooshka', 'dio', 'llove', 'loyale', 'asia008', '_____', 'hihi', 'συνθεσουν', \"rcligion's\", 'youfuck', 'شعرەکانم', 'skrillę', 'benzinodie', 'woahvery', 'godخدای', 'clashings', 'متحرک', 'intentas', \"defyin'\", 'karlie', 'azok', 'patra', 'schnozzes', 'bornana', 'isley', 'rrrrr', 'sibirobo', \"tourette's\", \"este's\", 'outkast', 'özel', 'cantar', \"relaxin'\", 'aaah', 'bronny', 'poopoo', 'emzirirken', 'honestlyly', 'cleancut', 'ostatnio', 'ott', 'whoaoh', 'respuesta', \"itit's\", 'azooka', 'satışları', 'barbarachic', 'intriganti', 'nwo', 'onehundred', 'fanbase', 'oferra', 'cariño', 'glistenin', \"bird'seye\", 'هستن', \"carvin'\", 'smithe', 'aroundyea', \"gallenson's\", 'blaowblaow', 'zonday', 'روزی', 'aaaaaaack', 'поднимаюсь', 'djws', \"dyingit's\", 'dennetdennetdennetdennet', \"tweakin'\", 'gotoh', 'présent', 'camoing', 'رفتن', 'wi', 'ation', 'somedaydaydayday', 'pusti', 'akik', 'las', 'może', 'youse', 'shootin', 'monstère', 'boinked', \"jessica'yı\", 'yerba', \"freezin'\", \"squealin'\", 'голосом', '0inch', 'jealo', 'üçüncü', 'skinneded', 'calibur', 'shehulk', 'greystone', 'dabadadadida', \"withholdin'\", 'itt', 'érdekelt', 'tooey', 'smackin', 'comp', 'گوگل', 'noshows', \"pop'cause\", 'pernell', 'cama', 'raton', \"gropin'\", 'سراغ', 'összehoztad', 'plivou', 'bulduğumdan', 'artpp', 'tá', \"crazy'\", 'threehundred', 'ret', \"producers'\", \"brady'ego\", 'hankins', 'ohah', 'kinm', \"cocksuckin'\", 'yarın', \"tremblin'\", 'punchliner', \"sellin'\", 'topright', '들킨걸', 'cirkel', 'kissin', 'hailee', 'knowed', \"kimmy's\", 'youknowwho', 'kutcher', 'bakin', 'gcrden', 'slomo', 'pogrzeb', 'propre', 'saiyan', 'lithiumion', 'جدیدت', 'mundo', 'twentytwo', 'wishin', 'meck', '視線の先の', 'hhhands', 'kennys', 'birky', 'homme', 'nenish', 'multiplatinumselling', 'ismy', 'wamables', 'puits', 'vient', 'laffût', 'chokehold', 'مجبور', 'salida', 'carlie', 'кокос', 'rm', 'eriksen', 'mamá', 'wellbeing', 'vivica', 'bookoo', 'itthrow', 'tiwwchnt', 'devrais', \"abc's\", 'trafford', 'hunnidfiftyinch', 'ای', 'شد', 'pac', 'انگار', 'پیجمترجمطاها', 'onlyfans', 'commin', 'هیچی', 'dropsarmaggedon', 'πιασω', 'mcnew', \"clutchin'\", 'dd', 'mindannyian', 'naquele', 'twentyone', 'thwizy', 'popcaan', 'meeee', 'parles', 'roxette', 'draino', 'özür', 'needa', 'garde', \"'spose\", 'mixtape', 'anywho', \"halt'\", 'fuckfuck', 'demeanour', 'niiight', 'offtime', 'piklz', 'وتن', 'jstatus', \"disgustin'\", 'girbaud', 'kand', 'geliyor', 'mildrid', 'گارنر', 'frenchys', 'drgs', 'spottieottiedopaliscious', 'с', 'standin', \"get'em\", 'yaşarsan', 'abcdefghijklmnopqrstuvwxy', 'agosto', 'heshe', 'sarı', 'tonguelashing', 'crocs', 'tenmillion', 'backi', 'هەموو', 'siyamthanda', 'slimandtrim', 'turucu', 'voglio', 'kruegar', 'получу', 'megtaláltam', 'rem', 'mansplained', 'melook', 'dwane', 'kd', 'съезд', 'wewewe', 'voom', 'biggy', 'dinda', 'sltotheim', 'bombdiggedy', 'ladygagafierce', 'aquel', 'gastarme', 'ئەوەی', 'yatmak', 'syndicat', 'celine', 'lovings', 'mannot', 'alchy', \"sayin'\", 'uyuşturucu', 'popsomefuckingchampagneinthetub', 'kimmel', 'chainsmokers', 'lleva', \"doc'\", 'kalẹ', 'em60', 'meyou', 'sangaré', \"ain'tyou\", 'escapa', 'kellsattempt', \"releasin'\", 'میخورممن', 'fonsi', 'verseso', 'triplewhite', 'vrin', 'habibiz', 'kon', 'asswhooah', 'akademiks', 'danica', 'cuarenta', \"people'll\", 'furán', 'treway', 'cheech', 'dev', 'venga', \"slingin'\", 'glocks', \"44's\", 'passa', 'keeeep', 'melania', 'cartiers', 'üstündeki', 'subie', \"'08\", 'lalalalalalalalalala', 'φίλησες', 'kfed', 'dipset', 'lambouton', 'raab', 'dodododo', 'lityum', 'smaoineamh', 'jepsen', 'resight', 'pořádným', 'rufio', 'liqour', 'concives', 'cheeba', 'worldworldworld', 'burna', 'saltar', 'szemét', 'irratic', 'summ', 'oneway', 'embustero', \"blackin'\", 'jetts', 'cowabunga', 'arındım', 'playtimes', 'nananananananana', \"evolvin'\", \"met'cha\", 'прощай', 'sauga', 'yanıma', 'interupting', 'ayoa', 'airfair', \"dadlet's\", 'زیادی', 'araçlarını', \"mockin'\", \"jeal'\", \"fukin'\", 'tartaruga', 'corazón', 'yeeaaaaahhhh', 'instores', 'brratatata', 'rockstarrockstarrockstarrockstarrockstarrockstar', 'runrunrun', 'crosslegged', 'olum', 'flybytheseatofhispants', 'keine', 'timetime', 'nuh', 'emmitt', 'comcast', 'demain', 'ohohahah', \"tubby's\", \"foamin'\", 'دەژمێرم', 'kere', 'marito', 'pleno', 'oonika', 'scarface', 'salvaje', 'dop', 'superheroohoh', \"bun'crum\", 'champange', \"still'll\", 'goodshow', 'grizzy', 'thisyou', 'bokun', 'scrapin', 'higherups', 'spendspend', 'baybaybaybayuh', 'palpitar', 'wykwintnymi', 'chu', 'ببینمayy', 'پچووک', 'vence', 'portret', 'tak', 'takebacks', 'coolthe', \"rememberin'\", 'pitchin', \"i'l\", 'certy', 'fitteds', 'amo', 'blaringi', 'tutmaya', \"me'd\", 'wantwant', 'oohoohoohohoh', 'tiempo', 'yesso', 'osirus', 'diré', \"bombin'\", \"hoein'\", 'τηλέφωνο', 'evilevil', \"patronizin'\", 'jsi', 'thugger', 'carrey', 'doorcome', 'seacrest', 'stil', 'calle', 'détendre', 'było', 'chonky', 'estava', 'wellbehaved', 'medellín', 'hahaha', \"times'\", 'platten', 'starterdrake', 'selfinflicted', 'walliams', 'madmagical', 'frega', 'oneonone', 'kendi', \"'cedes\", 'michto', 'basinger', 'platit', 'ماوەی', 'givest', 'tiens', 'sneakdiss', 'şeylerden', 'ladidididadadadidi', \"expectin'\", 'flatbush', 'crunked', 'vnecks', 'ooooooooooooooooooh', 'duval', 'florido', 'diga', \"'nurse\", \"'zombie'\", 'cashe', 'heyey', 'bе', 'bitchmade', 'emts', 'mudarla', 'boppers', 'brrrrr', 'پاچه', 'excitan', 'photog', 'negligée', 'geçtim', 'posthook', \"bankin'\", 'ón', 'wwwhat', 'jumpshot', 'shitlist', \"ggail's\", 'vuelvas', 'dadadadadadadada', 'grisham', 'rvup', 'oneah', 'wristes', 'rheon', \"slim's\", 'weve', 'valóban', 'enfadas', 'personne', 'dadida', 'vám', 'stickin', 'şarkıları', 'پێتە', 'choppa', 'cheguei', 'baybababy', 'sss', 'nt', 'مورد', 'gibi', 'muhfuckers', 'boğdum', \"overreactin'\", \"dillydallyin'\", 'wigger', 'whoawhoa', \"n'aurais\", 'لە', \"withdrawin'\", \"macavity's\", 'perfеct', 'hooptie', 'anand', \"coachin'\", 'sizi', 'stejně', \"chuckin'\", \"bygones'll\", 'tentlike', 'felder', \"cuttin'\", 'exwife', \"l'existence\", \"shoppin'\", 'branson', \"hef'\", 'badabing', \"scopin'\", 'باشبومایە', 'ththis', 'meester', 'chissà', 'tba', 'koolaid', 'canção', 'dolusu', 'spaz', 'percocet', 'rajtam', 'ugk', \"cottonpickin'\", 'σαγαπαω', 'dawkins', \"restin'\", 'domina', \"aspergers'\", 'میکشن', 'líberate', \"f'ing\", 'kotex', \"ma'fuckin'\", \"cuero'\", 'escenario', 'chauffers', 'sagrada', 'qrremember', 'ewww', 'acti', 'askin', \"bomb'\", 'whitetrashy', 'twoseaters', 'homeslice', 'sırtında', 'wilderbeast', 'hahahahahahahahhahahah', 'oooooooh', 'teste', 'твоих', 'hypnotise', \"'no'\", 'metalongtheway', \"d'avis\", 'ارزشگفتی', 'боюсь', 'nfing', \"whinin'\", 'fiduck', 'klum', 'readywe', 'کهتو', 'věc', 'bloodpop', 'missoni', 'bezzy', 'ludacris', \"flow'll\", 'dogfall', \"tovább'\", \"nando's\", 'eeelliott', 'wackyana', 'swalla', 'wwhen', 'moja', 'seanapaul', \"jammin'\", 'freakshow', 'indictive', 'shovenest', 'xyyou', 'cokio', \"sonnin'\", 'seafoam', 'eesta', 'جی5', 'youd', 'trizi', 'girlcleancut', 'casi', 'değiştirmek', 'برینم', 'bugz', 'lolol', \"lamb'\", \"writin'\", \"superstardom's\", 'gösteriyi', 'croire', 'summertiiime', 'izzon', 'fourtothefloor', 'sonradan', 'felgyulladok', 'weitzman', 'αυτην', \"buggin''\", 'quence', 'ds', 'oohh', 'perc', 'vraiment', \"smearin'\", 'posie', 'amante', 'tarafından', 'نگه', 'پەڕەموچەکان', 'youyou', 'llegué', 'washedup', 'akon', 'جنگجو', 'نەخێر', 'blesser', 'bebanku', 'sota', 'isss', 'kudsi', 'рот', 'gudda', 'filetofish', 'horan', \"'till\", 'wearyeyed', 'atmaya', 'σε', 'çift', 'chequier', 'boostin', \"applyin'\", 'vieja', 'romaromama', 'برند', 'خوبه', 'strech', 'cellában', 'ayaklarını', 'jadakiss', \"optionfailure's\", 'armádu', 'oohho', 'لوگو', 'hopin', \"freestylin'\", 'کاتێک', 'maxamillieon', 'shottas', 'tooplus', 'trato', 'wrabel', \"ejaculatin'\", 'awayayay', 'gulani', 'gally', 'tablero', 'yüzünden', 'wellprepped', 'keburukanku', 'chkit', 'hwasa', 'handrolled', \"billin'\", 'hakaret', 'osorio', 'deyn', \"'bout\", 'آفرینش', \"drankin'\", 'dyro', 'aahah', 'veut', \"tossin'\", 'kırgın', 'hooahevery', 'boombababoom', 'yine', 'én', 'wavin', \"ringin'\", 'holtont', 'kıpırdanma', 'htowntown', \"wheezin'\", 'thógáil', 'barz', 'ستۆن', 'swaggie', 'dingding', 'bajans', 'seavers', 'bleahh', \"drippin'\", 'cerear', 'lateuh', 'makemakemake', \"lcvers'\", 'natheniel', 'dadadababadadada', 'sɔgɔma', \"l'air\", 'souhaité', 'mencintai', 'fingerbang', 'fogsz', 'rapapumpum', 'gots', 'alles', \"backpackin'\", 'bahsederken', 'muri', 'jigajigjijijanean', 'whooaaaaaaa', 'yırtılmış', 'eieieieiei', 'bettergun', 'mindenki', 'dorag', \"everythin'\", 'αντιο', 'reprised', 'laaaaaaaaammmmmmmmmmeeee', 'signingbonus', 'stainbitch', '00without', \"benji's\", 'pierdas', \"'lujah\", 'daću', 'aeroplane', 'v05', 'blackowned', \"'this\", \"suin'\", \"enterin'\", 'custie', 'late6x', 'degular', \"lockin'\", \"backstabbin'ass\", 'jacy', 'böl', 'zeď', 'puthy', \"brothers'\", 'ahguh', 'uniso', 'بزرگ', 'rvssian', 'stingaling', 'louboutins', 'rockfest', \"blessin'\", 'hallhatod', 'storch', \"up'\", 'twoje', 'tona', 'supplya', \"rall'\", 'bersyukur', \"'cram\", 'birkin', 'manilow', \"women's\", 'compra', 'youselfint', 'xoxo', 'dadadom', 'llave', 'sueltes', \"j'écarterai\", \"tightenin'\", '004mosh', 'siente', 'پێشوو', 'bombbombs', 'doremi', 'youpull', 'playerhating', \"earthshatterin'\", 'wowzers', \"s'est\", 'drawed', \"l'chaim\", 'küçük', 'fel', 'damdum', 'která', 'okul', 'talmbout', 'nicht', 'dessus', 'sekerkou', 'clampett', 'mmmmmaybach', 'espe', 'butterand', 'à', 'sherran', 'comprende', 'kapak', 'yukmouth', 'ityup', 'abu', 'shanked', 'onetwothree', \"pushin'\", 'ڕایانپەڕاندم', 'nós', 'muah', 'nevitt', \"groovin'\", 'balla', 'quicky', 'sayohohoh', \"messin'\", 'daba', 'ohohno', 'mellettem', 'hillman', 'polina', 'blahbadibooblah', 'idéaux', 'tagteam', 'upsetget', 'muggs', 'wetta', 'پێبکەم', 'limotinted', 'slatt', 'wriwriwriwri', 'buju', 'ratatat', 'offcool', 'muthafucker', 'trapmoneybenny', 'pak', 'nunchukuh', 'mcing', 'تامەزرۆم', 'vlive', 'primadonna', 'burqaa', 'balta', \"whippin'\", \"mic'\", 'wszystkiego', 'auraaaa', 'nouveau', 'wеre', 'tapdance', 'bby', 'еverybody', \"payayyin'\", 'qerim', 'hitta', 'dependo', 'mensonges', 'toda', 'pişirecek', 'lembrei', 'obus', '9yearold', 'zaddy', 'рук', 'offences', \"lyricsmugglin'\", 'youcouldneverbethis', 'واژنی', 'vwwait', 'corless', \"dumbin'\", 'بکەن', 'qtip', 'uhn', 'seethrough', 'pickler', 'gunz', 'alkaseltzer', 'voudrais', 'hihighhihigh', 'بە', 'noop', 'fcked', 'جیاتی', 'metell', 'parttime', 'همه', 'تلاش', 'convo', 'feasty', 'mavado', 'nula', 'راحت', 'allformat', 'tictactoe', \"lotta'\", 'dblock', 'ecoute', 'hesaidshesaid', 'upandcoming', 'nickiménage', 'voashes', 'anitta', 'yeahah', 'dirtydirty', 'ناخود', 'ththese', 'baila', \"shippin'\", 'desistir', 'screensetting', 'باشی', 'switchin', 'paak', 'rockstar', 'compro', \"'gon\", 'ungh', \"8am's\", 'carribean', 'onehand', 'diy', 'güzel', \"santa's\", 'kehlani', 'vestiría', \"hadon't\", 'brees', 'basse', 'antney', 'breyers', 'koji', 'riaf', 'mám', 'onlara', 'shouldve', 'ol', 'prendo', 'hxlland', 'stylings', 'stoppington', 'svýho', 'quem', 'exlove', 'nailpolish', 'mcgraw', 'میگمکی', \"'caiah's\", 'scammers', \"moby's\", \"menacin'\", 'beißen', 'ránk', 'cockblock', 'kxxs', 'perla', 'feliz', 'monmonmoney', 'oyeyoyyoy', 'yeeeahhh', 'fricking', 'condit', \"'da\", 'ferigno', '把錯誤都給遺忘', 'دریا', 'bisa', 'اما', 'suara', 'selfproclaimed', 'سکس', \"'otuto\", '4am', 'tada', 'ladum', 'beatbox', 'cadillacs', 'puros', 'richside', 'σφιχτά', \"gossipin'\", 'çalıştığım', 'contigo', 'tatatake', 'fullon', 'me45558', 'چوار', 'olds', 'thot', 'cırcırla', 'goodfellas', 'allfuck', 'rapstress', 'collisionspoken', 'pum', 'mput', 'dumdumdumdumdum', 'lyckety', 'projects996infinite', 'sıkışana', 'کردن', \"closin'\", 'قبلیت', 'этот', 'toolook', 'tata', 'gle', 'twoja', 'shawty', 'mengenalku', 'goin', 'tengo', \"snappin'\", \"reachin'\", 'zamiast', 'elárulta', 'gioco', 'aarrest', 'kony', 'vers', 'haha', 'dops', 'fernandx', 'اینجا', \"ambidex'\", 'loveee', \"dripdrippin'\", 'proche', \"mcdonalds's\", 'outlaughing', 'fuckafuckoff', 'yeheheheh', \"ocd's\", \"smokin'\", \"rainman's\", 'yapabileceğin', 'napa', 'swineeee', 'gah', 'ایهام', 'rheoon', \"'umph'\", 'tökezleyen', 'چەنیز', 'doggay', 'maino', 'chicachicachicachicachicachicachica', 'youve', 'metham', 'üzerine', 'uninew', 'iets', 'kabillion', 'wearin', 'pokud', \"wifey's\", 'nanananananananananananana', 'gagaaaaa', 'sixsix', 'aldık', 'andsmoke', 'söylediğin', 'cornyass', 'بهتون', \"rankin'\", 'donc', 'duckuh', 'hiltons', 'guerrera', 'repeller', 'viaggi', 'büyüdüm', 'gluesticks', 'museumscale', 'спиною', 'brrrrrrr', 'férfi', 'jevo', \"ya'll\", 'porteños', 'nickelplated', 'بهم', 'pickpickpick', 'dónde', 'knowbreak', 'lámh', 'weh', 'liu', 'miałbym', 'scarlett', 'wszędzie', \"plat'\", 'und', 'بار', 'meah', 'رسوند', \"asperger's\", 'uba', 'jordache', 'hе', 'instalove', 'dropdrop', 'sensimilla', 'tomtoms', \"cc'd\", 'killas', 'swingset', 'szobában', 'bussdowns', 'ummmmm', 'spacedressbad', \"5'9s\", 'xacto', 'perdones', \"foldin'\", 'szeretlek', 'lavigne', 'عضوی', 'shing', 'terrordome', 'γνωριζεις', 'donavan', 'skyrim', 'ubered', \"squeezin'\", 'köter', 'starah', 'meglio', 'چیهبه', 'llmind', 'aziz', 'jeane', 'thatll', \"t'enfuis\", 'izz', 'sheshesheshe', 'muhfas', 'kasları', '44s', 'بازیو', 'partynauseous', 'rapi', 'historie', 'ddont', 'tac', 'siklemiyorum', 'úřadě', 'crème', 'nm4', 'miliony', \"lickin'\", 'lifetimebruno', '50fuck', 'لەسەر', 'استعداد', 'bedazzler', 'sixer', 'γνωριζουμε', \"screamin'\", 'skam', 'theget', 'coronavirus', 'blet', \"jigglin'\", 'wayayayay', 'ζωντανος', 'οποιο', 'pancho', 'phlean', 'woahohohohohoh', 'lowoh', 'ves', 'saville', 'zıpladım', 'haaaah', 'motherfuckas', 'haan', 'скользит', 'sepertinya', 'manurehell', 'capitan', 'nsync', \"holdin'\", 'cojones', 'drakeezzy', 'folklorian', 'chestribsbacksamuel', 'ap', 'youaim', 'threeway', 'dillingers', 'سەرئاو', 'hba', 'finca', 'snowflow', 'payton', 'πίσω', \"teasin'\", 'currys', 'ڕاستە', 'محنت', 'bonda', 'bweb', 'whewhewhen', 'dylon', 'hundredmileanhour', \"i'vе\", 'nicknicknamed', 'بەم', 'codecode', 'rosszkedvű', 'وەکو', 'mrefu', 'megvolt', 'cmoon', 'небеса', 'missta', 'migos', 'punked', 'platinim', 'adjátok', 'makonnen', 'policz', \"wilin'\", 'mothasuckas', \"somethin's\", \"hol'\", \"city'\", 'hbic', '7yearold', 'σταματαει', 'choppin', 'pont', 'meilleur', 'dyin', 'doubleedge', 'kaldık', 'dddddamn', 'gshock', 'bumpsthe', 'sigues', \"shorties'd\", \"storytellin'\", 'posttraumatic', 'sayin', 'fubba', 'ناسازگاریمobnoxious', 'یم', 'ببینمآره', 'effall', \"m'amuses\", 'tcf', 'santificado', 'costerwaldau', 'twostep', 'tierod', 'uhuhhh', 'karılar', 'barstool', 'lightbulb', 'superfly', \"appeasin'\", 'feets', 'wifey', \"bucklin'\", \"fella's\", 'diamant', 'doué', 'wayans', 'fanpage', 'تهیه', 'onе', 'igh', 'tygatyga', 'bei', 'choo', 'selfmade', 'trainor', 'dropsfirecracker', 'shotget', \"fearin'\", '后冠', 'livenew', 'shitwhy', 'brrapt', \"kanye's\", 'eurgh', 'facetimes', '驚聲尖叫', 'öyle', 'royale', \"waynema'\", 'bball', 'exgirls', 'hepinize', 'gabana', 'enchantée', 'stüdyoda', 'duyguları', 'gwan', \"pressin'\", 'αυτο', 'threeinch', 'justa', 'dropsnumb', 'shrooms', 'djcom', 'cert', 'θυμόμαστε', \"babblin'\", 'بودم', 'fonseca', 'vowhy', 'otros', \"smackin'\", 'pelear', 'fauxdisco', 'tov', 'hastalıklıydın', 'astros', 'performedlady', 'prends', 'simpatizar', 'yeahyeahyeah', 'lacigam', 'punani', 'notnice', 'nací', 'sididdy', 'exclimate', 'baises', 'kai', 'biscuts', 'campanas', 'بۆت', 'mcdonalds', \"shooters'll\", 'aaaaayyyyooooo', 'tech', 'trainwrecks', 'micaiah', \"decomposin'\", \"l'activité\", 'nuair', 'firey', 'seeandsay', 'sempre', 'ext', 'mnoppuzzle', 'skimask', 'eighteenwheeler', 'oneone', 'acabado', 'مەزنترین', 'jumpman', 'cctv', 'coasta', 'mothefucker', 'ignorança', 'stepdada', \"somthin'\", 'padalock', 'redshirted', 'krauss', 'shelltops', 'pnd', 'nickinickinicki', 'trigga', 'streetrunner', 'hermione', 'thingso', 'woooo', 'acılıyım', 'spratek', 'życia', 'gon', 'istediğim', \"redman's\", 'sourcetaki', 'brixton', 'porque', 'cracccccrazy', 'lovе', 'sevendisc', 'találniuk', 'skrilla', 'stanie', 'utánad', 'thethethe', \"tell'em\", \"durin's\", 'brethrens', '全身散發警示的氣息', 'terribletasting', 'دید', 'iba', \"an'\", \"recruitin'\", \"chukwu'\", 'swеat', 'oldfashioned', 'soundbwoy', 'μας', 'querer', 'zar', 'dets', \"'dreena\", 'thangs', 'etchasketch', 'vienes', 'doufám', \"kissin'\", 'lalalalalala', \"'do'\", 'busiswa', \"nigga'\", 'jugaría', 'reconize', \"his'es\", 'louganis', 'pornstars', 'situ', 'daja', 'imba', \"40'ları\", 'baf', 'jjupiter', 'dtiteann', 'bok', 'lifeee', \"emptyin'\", '의미없어', \"d'autre\", 'kızdırmaya', \"layin'\", 'wölfe', 'развиваясь', 'blanco', 'دوران', 'amiri', 'siht', 'dije', 'labeouf', 'sremmurd', 'neanche', 'whowhat', 'wacker', 'ign', \"beyoncé's\", 'khalil', 'ağzına', 'rikers', '4chick', \"topplin'\", 'στιγμές', \"y'knahmsayin\", 'worldand', 'shizzel', 'όταν', \"wavin'\", 'bandz', 'klonopins', 'itand', 'واقعا', 'bocsillo', 'cady', \"mani's\", \"'sex\", 'guapguap', 'pesadelos', 'intuitionext', 'happeniing', 'airconditioning', 'πάγος', 'beyonceing', 'owwwwww', 'reny', 'wrispect', 'ڕیڤیڤاڵ', 'alrightalright', 'swswswswinging', 'kickflip', 'tanışmak', \"niall's\", \"copkillin'\", \"don'ts\", 'builtin', 'grownass', 'unholstered', \"o'donnell's\", 'احتمالا', 'yerlerde', 'horyn', 'přehnaný', 'πάντα', 'ppparty', 'گروهادامه', 'delorean', 'blings', 'jazmine', \"stealin'\", 'français', 'shotty', 'pochwała', \"carti'ac\", \"he've\", \"there'ssomething\", 'conozco', 'bzzz', 'cocacola', 'söylüyorum', 'oooh', 'laquan', 'lanco', 'jesús', 'mannie', 'stickety', 'feminay', 'steelus', 'lovehoneymoon', 'emack', 'shiznik', 'aventador', 'yardie', \"forgivin'\", 'ariana', \"cacacan't\", \"shells'll\", 'vrais', \"knives're\", 'bizzare', \"votin'\", 'leb', 'とろけそうなkiss', 'dutches', \"ya'\", \"antein'\", 'rockit', \"'no\", 'parler', 'zmieniła', 'lakers', 'sammeln', 'improv', \"say'll\", 'multiverse', 'polkadot', 'gcses', \"adat's\", \"flarin'\", 'chkkchkchk', 'mí', 'haddie', 'dissledin', 'saybihdihbih', 'alt', 'balalalalalalalalalala', 'misión', 'thateh', 'εισαι', 'throwin', \"strummin'\", 'ghostride', \"hedgetrimmin'\", 'omarion', 'schweigen', \"stockin'\", 'giornata', 'titrеyemiyorum', \"'love\", 'isorry', 'vick', 'conciertos', 'bergdorf', 'whoooohooh', 'halla', 'κρατήσεις', 'halfcock', 'ddoing', 'covid', 'janson', \"drizzy's\", 'brigde', 'watersand', 'а', 'tj', 'wadlibs', 'champxne', 'jabba', 'eilsh', \"scweamin'\", 'hooooh', 'nandos', 'doldururken', 'peaguts', 'summalumma', 'preops', 'troooooooouble', 'μπορεί', \"that'sthat's\", 'burnin', 'champú', 'metrolyrics', 'yüreyecek', \"ol'\", 'der', 'wwwhen', 'ahoh', 'goldmember', 'şovu', 'mimimimind', 'korupci', 'dahdah', \"sobbin'\", 'timberlake', 'wonderman', \"'dam\", 'skeeza', 'mixtapes', 'bagaimana', 'jockget', 'etc', 'errday', 'válečné', 'زودتر', 'kapının', 'هوای', 'crackin', 'día', 'selfrespect', 'emostions', 'vaaaaaaliummmm', 'mylanta', 'trillest', 'эстетика', \"vamo'\", 'tuffest', 'winans', 'openended', 'ragdoll', 'bussin', 'decisión', 'whhhooo', 'acheter', 'rosecolored', 'pido', 'мамок', 'menschkeit', \"l'esprit\", 'cuida', \"loud'\", 'unabomber', 'yeaaaaaaaaaaaaaaah', 'maejor', 'kaybettiğim', \"sue's\", \"crashin'\", \"'tá\", 'entonces', 'warzone', 'ishing', 'jamberay', \"vickin'\", 'delong', 'mymy', 'gyah', 'paxils', 'sayall', \"aringin'\", 'audemars', 'padawan', 'bobbly', 'derty', 'dwa', 'ganstera', 'droughtpart', 'neverwas', 'vmas', \"gaspin'\", 'sned', 'bırakmak', 'sadwhat', 'aalegra', 'naoi', 'nnemá', \"'cause'\", 'mm', \"vancouv'\", 'nessman', 'montón', 'azért', 'lanez', \"biddin'\", 'twojego', \"'posed\", 'membuatmu', 'reon', 'acura', \"textin'\", 'drinkin', 'cuando', 'motherinlaws', 'faire', 'redundance', 'oni', 'fógairt', 'btch', 'chchchcherries', 'disapear', 'iisland', 'anybodys', 'dickheaded', 'bibig', 'nicotinepatch', 'rari', 'backshot', 'andale', 'uhup', 'gusta', 'yeha', 'facendo', 'пару', \"channelin'\", 'bilmeden', 'göremeyeceğimi', 'bumpa', 'eller', 'místo', 'bagnasciuga', 'ebeveynler', 'történnie', 'quil', 'pyt', 'şekilde', 'bgrown', 'ići', 'sólo', 'duele', 'хочет', 'cuerpo', 'tomba', 'rveee', 'quequeen', \"hurlin'\", 'capito', 'ooooooohhh', 'jeva', \"tell'\", 'anlatmaktan', 'más', 'cruzando', 'fk', 'annonoying', 'ayo', \"barkin'\", 'fue', 'önceydi', 'hollowman', 'بزندر', 'cottonelle', 'hissi', \"dicklickin'\", 'geldiğiniz', 'اون', 'firstround', 'kiyoko', \"'s'\", 'çantası', 'chechechechecherry', \"m'a\", 'jackin', 'wann', 'vereceğim', 'στην', 'yeehaw', 'dadadadadadodo', 'mybitch', \"drawin'\", 'machetteif', 'کوول', 'kaopectate', 'نزیکت', 'bassline', 'anni', 'duine', 'hitboy', 'çocuğu', 'ashesdust', 'آمریکایی', 'میلیۆن', 'staaaay', \"posse'd\", 'прыгает', 'taketakeoff', \"expandin'\", 'thererock', \"gohe's\", 'bogues', 'spinrumpelstiltskin', 'rasismus', 'forté', 'woohoooohoo', 'słucham', 'rainass', 'eeheh', 'inne', 'tou', 'sorrywhat', 'caulkin', 'canlı', \"retirin'\", 'benzinoshit', \"assumin'\", 'dxohpe', 'windsay', 'sloppiana', 'looksammy', 'aduba', 'dum', 'bomaye', 'dirtyass', 'bobblehead', 'beaucoup', 'اگه', 'throop', 'dingaling', \"suit'll\", '_____es', 'hustlas', 'dicking', 'rumprump', \"doin'\", 'kryptonite', 'nayhood', 'ohyeahyeahyeah', \"coughin'\", 'fairlane', \"mraz's\", 'yayayaya', 'buicks', 'mimibella', 'allout', 'ڕێگای', 'bymark', 'hoochie', \"whatdaddy's\", 'ezért', 'hothothot', 'octomom', 'nba', \"clappin'\", \"sleepin'\", 'adhd', 'guidos', 'tremendo', 'biebеr', 'showow', 'hazmat', 'aparasite', 'oir', 'escalatedit', 'ribancok', 'zou', 'caidos', 'ορκιζομαι', 'highstrung', 'microchipped', \"hittin'\", 'gotcomeback', 'redstate', 'jaffe', 'bardzo', 'η', \"motherfreakin'\", 'yüzme', 'zabs', 'wouldve', 'woooooooowoo', 'jt', \"kai's\", 'goyard', 'wyclef', \"fa'sho\", 'rethis', \"slackin'\", 'crocker', 'astupid', 'rrr', 'motherfucka', 'زده', 'hellier', 'فروشگاه', 'scifi', 'altas', 'lamborghinis', 'peppersprayed', 'crossdressed', \"cocktails'll\", \"sh's\", 'bada', 'blk', 'fallar', 'twtwist', 'anbesol', 'gstring', 'een', 'armloyalty', 'stamby', \"'86\", \"wheelin'\", 'splyt', \"tourin'\", 'szabadon', 'oblongata', 'csapkodsz', \"thinking'\", \"therе's\", 'bangbang', 'même', 'steadyspeakin', 'mio', '함께', 'nflsoustředíme', 'yaaaaaaah', 'mmlp', 'wishlish', 'wooooorld', 'yıkıyorum', \"solvin'\", 'delf', \"joggin'\", 'unfunk', 'bakteriler', \"youthoughti'dcry\", 'cenizas', 'vendettata', 'smidget', \"manifestin'\", 'bhrí', 'promessa', 'fiveanddime', \"yappin'\", 'washup', 'matic', 'encontrarme', 'bredes', 'wundaland', 'salope', 'onsite', 'ke', 'eith', 'dostum', 'selfimposed', 'mýa', 'pressa', 'jdeme', 'x8', 'gelo', 'laisse', 'doodoommm', 'wantwantwantwant', 'obvio', 'scratchandwin', 'ninetythird', 'fuckoffs', 'استن', 'countrys', \"flickin'\", 'cc', 'mhm', 'twé', 'jsuis', 'újra', 'دەکاتەوە', 'alonе', 'narerration', 'londons', \"'pendin'\", \"that'll\", 'niko', 'пьяной', 'ost', 'cherrycherryboomboom', 'drummond', 'youba', \"whoopin'\", 'hapı', 'nananails', 'lonewolf', 'guantlet', 'شدنه', 'boonepickens', 'culo', \"consultin'\", 'rzuciłbym', 'gabriella', 'clickclackblaow', 'gaultier', 'dissapoint', 'sa', 'blaknąć', 'bozack', 'eyeku', 'کردییه', 'meinen', 'dingue', 'saucey', 'uk', 'tel', 'rightand', 'byyye', 'redbone', 'sifilis', \"crackin'\", 'debarge', 'boktan', 'málaga', 'thugz', 'promisе', 'duyduğunu', 'neighbourhood', 'veste', 'themba', 'zedeledim', 'منظور', 'rire', 'خراپ', 'هیچوقت', 'ronan', 'paulie', 'supersiiize', 'شێتت', 'ththrow', 'thiswhat', 'dougie', 'oír', 'prosac', 'swole', 'να', \"'bron\", 'rcmance', \"detonatin'\", 'redman', 'kamikazе', 'rodinou', 'npr', 'timeleggo', 'ironon', 'باشم', 'hiho', 'tettem', 'walkietalkies', 'gülüşmeler', \"mystikal's\", 'fani', \"beatin'\", 'hearsee', 'cruisin', 'clearoh', 'αναμνησεις', 'shittick', 'gunline', 'bodak', 'fuckgive', 'bozar', 'συναντιωνται', 'éramos', 'sọ', 'fuckedup', 'crackbag', 'formationclick', 'footz', \"im'a\", \"adrian's\", 'kawasakis', 'tőlem', 'extraño', 'amerikan', 'shee', 'brothas', 'sclass', 'karını', 'تنها', 'fromunda', 'sangría', 'reino', 'tite', 'jibberish', 'bahdadadat', \"'stan\", 'وتراوە', 'cockiana', 'freezed', 'twothirty', 'درێژبێت', \"s'posed\", 'chainz', 'کیز', 'nananananana', 'shadyslim', 'dokie', 'sil', 'loced', 'amaqhawe', 'chong', 'melby', 'wordword', 'косметика', 'kemiğinide', 'wishlist', \"must'a\", 'lovegame', 'cyaan', \"representin'\", 'jip', 'هەڵیبێنم', 'mého', 'jux', \"commin'\", 'owwww', 'adderall', 'decalp', 'angerext', 'chasin', 'dientes', 'kellz', 'ynk', 'hhtowntown', 'caribana', 'fn', 'rollohohoh', 'cafe', 'yani', \"hhw's\", 'selfsabotage', 'peut', 'paradis', 'abdominals', \"doublin'\", 'fritos', 'bangdrip', 'rivington', 'میره', 'comprar', 'lipsyncs', 'sommes', 'último', 'trini', 'a8', 'rised', 'حس', 'mothafuckin', 'pillé', 'chubbs', 'cashis', 'hollygrove', 'bredesen', 'estações', 'ymcmb', \"d'ussé\", 'llena', '6speed', 'duymak', 'když', 'vieler', 'bitchslapped', 'anow', 'gardy', 'biebs', 'mamí', 'likörleri', 'دری', \"isolatin'\", 'сукам', 'üsünden', 'vois', 'ccutcut', 'cammino', 'ilaçlar', 'cliche', 'lyte', 'fortynine', \"96'\", 'sikimi', 'kao', 'neumann', 'brudda', 'x9', 'amagwala', 'ock', 'hxrt', 'triedest', 'przestraszyłem', \"'less\", 'wintour', \"stand'em\", 'neglection', 'assed', \"'asshole'\", 'grano', \"'said\", 'int', 'με', 'déformées', \"wag'\", \"bitches'\", 'ttake', 'fredro', \"em'\", 'scissorhands', 'tnaw', 'توڕەن', \"seein'\", 'bleachblond', 'ou', 'badonkadonk', \"flippin'\", 'wycd', 'mundial', \"together's\", 'oooooooooooooo', 'estilo', 'haffi', 'crodie', \"'84\", 'basehead', 'ohayeohaye', 'autopsyeminem', \"horse'\", 'hables', 'iiii', 'benzodiazepines', \"patrón's\", 'spriing', \"fif'\", 'quotables', 'artista', 'oldow', 'perdeyi', 'attendsmoi', 'gotdam', 'squeezy', \"dissin'\", 'beatbreak', 'condiciones', 'meska', 'edgeee', 'jodas', 'babababylon', '80year', 'jamil', 'boonk', 'oíche', \"gal'd\", \"scoffin'\", 'sonando', 'refrén', \"driveby's\", 'smokecooked', 'γιατρέψει', 'thithithithi', 'میخورممردرپر', \"obie's\", \"nick'\", 'everpresent', 'propia', 'který', 'خشک', 'dadadadadada', 'halfpast', 'kamu', 'acabar', 'pójdę', 'cartoonalien', 'povich', \"shaq's\", 'takıldığım', 'sonned', \"underafuckin'chiever\", \"hackin'\", 'divorceses', 'manever', 'ucci', 'queenie', 'liscense', 'mourir', 'whеre', 'brcan', 'tano', 'geekn', 'zauważam', 'aphrodisy', 'bentely', 'اینکارو', 'dukwey', 'hulahula', 'másik', 'γύρισω', \"asses'll\", 'middleaged', 'لم', 'manix', 'bakın', 'meu', 'buehl', \"ghetti'\", 'bbbreak', 'td', 'tenemos', 'playdoh', 'meetis', 'stog', 'shshsh', 'bbbut', 'carwe', 'por', \"broke's\", \"happy's\", 'keshia', 'thirstin', 'utfo', 'zerpa', 'bonsoir', 'lovedrunk', 'nnnow', 'moby', 'zabawne', 'voo', 'macking', 'rel', 'σελίδες', \"stranglin'\", 'suckas', 'anheuserbusch', 'chchchainsasaw', 'slushes', 'خب', 'cleanin', 'floyds', 'googoo', 'nwainkinden', \"affectin'\", 'блть', 'radi', 'پەیوەندی', 'fantasmo', 'lolololololololololololololololove', 'champtown', 'crâner', 'rarri', 'azul', 'píči', 'elrendeltetve', 'cockhave', 'ji', 'دادم', 'nehéz', 'pcnty', 'eminemdoh', 'bababa', 'shaquille', 'scammer', 'lowend', \"'au\", 'majd', \"coz'\", \"ain'ti\", 'lọ', 'sí', 'youuh', 'többé', 'amiket', 'raptorspaymybills', 'exmen', \"caninini'\", 'adunanane', \"would'a\", 'eenie', 'proč', 'busta', 'miri', 'ئەلفوبێیــە', 'λαμπτήρα', 'manifiestan', 'želim', 'politе', 'maintenant', 'mahrum', 'doublequad', 'viszont', \"raisin'\", 'thandie', 'tampoco', 'sano', \"crist'\", 'mmark', \"marijuan'\", 'história', 'steeze', 'menitku', 'melee', 'mindannyiótokat', 'kiálltál', 'miqht', 'hopelessnesses', \"ve'et\", 'cataracs', 'firme', 'wyginają', 'nevaljao', 'wellmannered', 'pappap', '等待著整個世界都屬於我', \"slittin'\", 'görünüyor', 'contar', 'unmoored', 'atışları', \"went's\", 'playermy', 'skeeted', \"celebratin'\", \"aimin'\", 'lalalalalalalay', 'radioeat', 'iller', 'enhh', 'swifty', 'goldplated', 'boldoge', 'erdi', \"effin'\", 'partir', \"iiii'm\", 'dickety', 'twonight', 'ughh', \"gaylookin'\", 'teets', 'mctherf', \"itchin'\", \"shadyfuckin'aftermath\", \"war'n\", \"highness'\", 'aahs', 'tay', 'jongani', 'arrastrándote', 'sexo', 'bomboclaat', 'criados', 'így', 'tadadadadadadadadadadadada', 'besarte', 'naši', 'yarma', '你的指尖擦過臉龐', 'pierres', \"durin'\", 'clapclapclap', 'g5', 'screwface', 'chkachkaonyx', 'کی', 'afeeling', 'mądrzejszy', 'sarkyor', 'trueblue', 'sanelly', 'forgothow', 'pobłażliwie', 'masam', 'titeket', 'wyzwoliła', 'pumpedup', 'psychiatrics', 'worldclass', 'darvocet', 'congorock', 'blackandwhite', 'timbs', 'biatch', 'voicеs', 'bluntblunt', 'توهم', \"chartin'\", 'checkin', 'ginuwine', \"missin'\", 'rebirebi', \"smarteyein'\", 'ouncers', 'faktorů', 'cabellas', 'راکس', 'snitchall', \"s'aimer\", 'methanine', 'sho', 'alizé', 'problack', 'oseille', 'fuckin', 'sisqó', 'chosa', '8yearold', 'rippedskkkrr', 'canibitch', 'problеm', 'tinky', 'сделал', 'seconddegree', 'suç', \"'itis\", 'gravedigging', 'renée', 'stuffi', 'js', \"sizin'\", \"meit's\", 'kreslím', 'alante', \"selfinducin'\", 'architectured', 'everybodys', 'yeahusher', 'juiiiiice', 'besties', \"hesi'\", 'het', \"schoolin'\", 'puerta', 'mcv', 'توڕەم', 'میشه', \"treadin'\", 'cocino', 'mieux', 'mindezt', 'deportes', \"overachievin'\", 'icet', 'automobills', 'válku', 'uhdudu', 'zarar', 'prostu', 'herringbones', 'buscas', 'alf', 'natureyoung', 'syllalable', \"pipipickin'\", 'ville', 'blazak', 'پێویستم', 'bestie', 'dierks', 'هستم', 'fing', 'unloyal', 'lalala', 'yelle', 'ciudad', 'eyein', 'mamasay', 'armaggedon', \"reppin'\", 'nananananaohnanananananana', 'rrun', 'superé', 'cpr', 'shockin', 'frass', 'silverado', 'stoppin', 'steig', 'youooh', \"grimmin'\", 'سوراخ', 'dul', 'threefour', 'ποιητες', 'eeeeyes', \"gainin'\", 'matzahball', 'ennuí', 'kendimi', 'rockstarlife', 'ورژن', 'seachtó', 'egymással', 'vakti', 'drogato', 'tudo', 'streetwear', 'panamera', 'johan', 'nefes', 'ibneler', \"hailie'll\", 'közé', 'ganked', 'topí', 'rollie', 'kako', 'todos', 'cahill', \"saidnothin'\", 'وەک', 'thethen', 'nibabuzile', 'tiene', 'sms', '我開心因見到', 'shabba', 'ahaahaahaahaahhafhaa', 'گلوله', 'bunun', 'и', 'seviyorum', 'preggo', 'bowout', 'rastafari', \"rootin'\", 'problema', \"'ron'\", 'd0tion', \"roughin'\", 'paleass', 'فنایی', 'après', \"exgirlfriend's\", 'canción', 'mmwha', 'pussin', 'hydrocodone', 'ifififififififif', 'grier', 'nonrelevance', 'bɛn', 'kyeah', 'popz', 'oldschool', 'nwa', \"soundin'\", 'chalmers', 'eightytwo', 'nnnonstop', 'tiffani', 'myślę', 'badd', 'hardwell', 'familiarlooking', 'selalu', 'tiskit', 'ying', 'dulce', 'woooaaah', 'oraciones', 'ngrá', 'easе', 'bbblow', \"od'in'\", 'dolo', 'masasına', 'rashiki', 'hissedebilseydin', 'چرا', 'ronaldo', 'español', 'dadadadadadome', 'iyanla', 'redbottoms', '你的沉默是我最愛的聲音', 'haremos', \"pipin'\", 'weg', 'lightleggedness', \"bleedin'\", 'elmentem', 'eckrich', 'dinklage', 'balhéra', 'zatím', 'umwhere', 'arrêtons', 'reason4', 'whowho', 'chunes', 'zabijanie', 'iv', 'zrovna', 'minha', 'devlin', 'yoou', 'sssend', 'suyu', 'nigganerve', 'euthanized', 'bbblundering', 'iphones', 'mmmurda', 'twentysix', 'dra', 'buttchin', 'bilet', 'daaamn', \"transformin'\", 'fck', 'wwwwwwwwwwwrong', 'mentir', 'پێمان', 'noname', \"'neath\", 'pts', 'einfach', 'balck', 'hasta', \"seh'\", 'opp', 'deadend', \"nicky's\", 'połowy', 'egyszer', 'shanahnahnah', \"stinkin'\", \"dna'll\", 'sonrada', 'فەشەلەی', 'ohhh', 'fastpaced', 'bbk', \"panellin'\", 'geht', 'rrrahh', \"niyayibon'\", \"espn's\", 'fusari', \"prenda'\", \"champagnepoppin'\", 'fim', 'ohohhhhhhohhhohohoh', 'smithele', 'jacksonwho', 'carryons', 'dodiruješ', 'trilla', 'lairlair', 'fleeko', \"stakin'\", \"behav'\", 'καρδία', 'años', 'tanktop', 'نکنم', 'op', 'nra', 'patrón', 'ménages', 'meee', 'outsings', \"who'm\", \"can'tbelievethatniggasaidthatshit\", 'nokicked', 'piliç', 'doooooll', 'gause', 'ψύχη', 'perminator', 'fanno', 'aldridge', 'mariah', \"bugin'\", 'fictitional', 'amí', 'dirtbag', 'overblaow', 'prowings', 'evet', 'холоден', 'hatayı', 'certies', '너', \"chubbs'll\", 'bıraktı', 'wrеstling', \"hace'\", 'موزیک', \"bigger's\", 'fuckinga', 'زیاد', 'ladys', 'zzzero', 'weebey', 'yeaheaheaheah', 'منی', 'ayyy', 'auch', 'lśnią', 'annem', 'benjis', \"pacin'\", \"mill'\", 'fraggle', 'slo', 'lolololo', 'shoody', 'brody', 'pway', 'dropshit', 'jít', \"after's\", 'fela', 'dangerom', 'labadore', 'متاسفمری', 'motorpoint', 'vite', 'čekání', 'seeee', 'pelearemos', 'pissydrunk', 'squirter', 'skeezer', 'pillies', 'x5', \"bet'cha\", 'vinz', 'hargitay', 'autobot', 'ohohhohh', \"flickerin'\", 'ringachong', 'sigue', 'echaste', \"worshippin'\", \"pic'\", 'eeve', 'meateating', 'offthehook', 'trumpe', 'judaas', \"risin'\", 'ggggg', \"jestin'\", 'aringing', 'hoodcelebrityy', 'ggoddang', 'dejaste', 'stanibus', 'ilyen', 'caffè', \"appealin'\", 'neden', 'dropdropping', \"strokin'\", \"fleem's\", \"magnif'\", 'chantez', 'katika', 'henn', 'chaayyayyange', 'piel', \"byou're\", 'bhéalín', 'starar', 'coro', \"a'int\", 'evinin', \"bih'\", 'chucky', 'lighty', 'niceklus', 'pectations', 'twopiece', \"cheerin'\", 'plexico', 'baso', 'yeahwoo', 'szóval', 'ronaldinho', 'منداڵە', 'houstatlantavegas', 'chyna', 'peyton', 'głośno', 'wahh', \"savin'\", 'люблю', '999my', 'nnniggas', 'targaryens', 'mothafuckas', \"mindin'\", 'kala', 'repsup', 'yeh', 'brille', 'chemistries', 'giveon', 'astronomyy', 'remyremy', 'azealia', 'boastin', 'pinchin', 'lah', 'handsfree', 'peur', 'gustaría', 'avoir', 'm80', 'cristian', \"'dentsdents\", \"ocb's\", 'chkchk', \"j'aurais\", 'phillipe', 'پاڵم', 'αυτές', 'yahyah', \"gen'\", 'dragraces', 'teetertotter', 'ie', 'بشینم', 'σαν', 'gasto', \"kamp's\", 'discombobulatorboobulator', 'beatdowns', 'starchild', \"sippin'\", 'wasup', 'orospuyu', 'weeble', 'powiedziano', 'aaaahh', 'hackup', \"spellings'\", 'nummana', 'lowlow', \"anywaythat's\", 'impalis', 'nakrywam', \"lam'\", 'moreestablished', 'kissses', 'پوشیدم', 'piru', \"'member\", \"aficia'o\", 'elses', 'δίνεις', 'redet', \"stabbin'\", 'زئوس', 'adta', \"learnin'\", 'mfalme', 'oooon', 'troyer', 'tapdancing', \"finnickin'\", 'fu', 'umba', \"facethat's\", 'terribles', 'entendido', 'tuckerso', 'nordictrack', 'umbreller', 'ekko', 'stół', 'woahuhwoah', 'ihh', 'tradtion', 'remonter', 'vibranium', 'tomahto', 'ishwhen', 'ateş', 'sealey', 'chromatica', 'veo', 'daoine', 'alls', 'annen', \"dinin'\", 'bunnybunny', 'klikte', \"alize'in\", 'munmunmuny', 'hundredyard', 'lalalalala', 'ninonono', 'içeri', \"'zilla\", 'tadas', 'hhhhell', 'nic', 'alade', \"there'\", 'jp', \"strugglin'\", 'covеr', 'dayold', 'adichie', 'gelenk', \"readin'\", 'waynes', 'sajak', 'daño', '5to9', \"d'espace\", 'juul', 'cowtip', 'justo', 'climbin', 'postin', 'freedompart', 'istiyorlar', 'isnt', 'mtbmb', 'قدیمی', \"pigs'll\", 'mennie', 'leftwich', 'drumrolls', 'buttuh', 'nevermettheplugbutirapabouttheplug', \"satan'll\", \"fif'll\", 'repurposed', 'öğrenci', 'jarrell', 'πορτόφολι', 'urrp', \"bingewatchin'\", 'lépj', 'kingthey', 'mal', 'revoir', 'hhalfway', 'ilaç', 'بیاره', 'wa', \"dismemberin'\", 'allons', 'whatev', 'evde', 'تیکه', 'edosior', '06er', 'bbt', 'meryl', 'dangdang', 'chikka', 'methe', 'brrrr', 'cet', 'bibia', \"growin'\", 'screwfaced', 'bazı', 'gotdamn', 'vittem', \"trappin'\", 'eether', \"righti'm\", 'ahhaha', 'doodooroorooroo', 'sasame', 'thanos', 'basszus', 'sina', 'cada', 'teo', \"whiplashin'\", 'nas', 'doubledog', 'blackedout', 'lunchline', 'vvss', 'shshshshake', \"smartin'\", 'chapo', 'lexapro', 'lui', 'hydrochloroquine', 'ii', 'creepin', 'tas', \"teachin'\", 'maybach', 'anda', 'nebby', 'kissy', 'iş', 'digga', 'braku', 'istiyor', 'topiana', 'justi', \"50'll\", 'assez', 'woooah', 'butbair', 'imaginé', 'hasbeen', 'riring', 'tinie', 'piç', 'deangelo', 'مبارزه', 'mientras', 'эй', \"'move\", 'tminus', 'amcur', 'chickachick', 'beyaz', 'chune', 'この国の宝と並ぶほど', 'sì', 'limitwhat', \"eavesdroppin'\", 'boutta', 'chincilla', 'chica', 'dappadon', 'gunovich', 'برگشت', \"chilin'\", 'yeahsound', 'bizim', 'ddduck', 'cafelotted', 'bipopulars', 'remixeminem', 'glo', 'ennyi', 'подожги', \"ddon't\", 'peuvent', 'hypno', 'bahwa', 'devant', 'stepdad', 'sizin', 'offa', 'stunna', 'elsadig', 'mothas', 'openshut', 'وقتیه', 'míg', \"gogo'n\", 'acethegenius', 'fourtosix', 'godsent', \"focusin'\", 'shidit', \"cummin'\", 'dickshit', 'ninetypercent', 'خورد', 'آرزوشه', 'lado', 'applegate', 'رد', 'داکتر', 'hightop', 'buticcian', 'refilles', 'tha', 'shahrzad', 'bbbbbitch', 'amazingmusic', 'barbiana', 'spreaded', 'muslanne', \"pickin'\", 'jiletten', 'leopardskin', 'hedefine', 'shacklеd', 'slowow', 'içinden', 'izze', 'kombat', 'trois', 'doomalumma', \"starin'\", \"sani'\", 'necesita', 'sheeheh', 'dowhat', \"'deceiving'\", 'yeeeah', 'boyamak', 'biance', 'küvette', 'resteras', 'desechaste', 'amel', 'doigts', 'nastwhy', 'serseriyi', 'chyeah', 'dolezal', 'swzup', 'cack', 'olor', 'çünkü', 'losin', 'woahhh', 'ojos', 'hitech', 'optimus', 'اشتباه', 'amíg', 'budeš', 'unitoo', 'conmigo', 'soundfanatic', 'ragazzo', 'chеst', \"havin'\", 'intergalactical', 'chample', 'shrody', 'siyabona', 'yapıyorum', 'bababad', 'ballsack', 'garzón', 'huthut', \"thought'll\", 'zonda', 'gway', 'bwoydem', 'hagyva', 'jewelery', 'starvin', 'lenn', 'suivre', 'zabierałam', 'сесть', 'sajátjaidért', 'kikikiss', 'mis', 'wishywashy', 'badipas', 'nizzle', \"travelin'\", \"lights'll\", \"chewbaca's\", 'toplarım', \"'pon\", 'wasser', 'puissante', 'isexasperated', 'تۆ', 'aget', 'mistakе', 'kérdezik', 'azt', \"movin'the\", 'madre', 'gotchu', 'yooo', 'kaya', 'fondeled', 'mixpak', 'thirtytwo', 'moscato', 'vanvonderen', 'vroom', 'goodluck', 'پێی', 'dejé', 'لێدانێک', 'achar', 'donjae', 'deaded', 'woahohohoh', 'twoandatwo', 'jjerk', 'littlе', 'shashake', 'muzik', 'haahah', 'ligera', \"worth'\", 'bizzels', 'dafrican', 'mardi', 'iggs', \"l'dise\", 'watereddown', 'packin', 'hisz', 'shmoney', 'corte', 'orospunun', 'aint', 'bibirku', 'lugar', 'fakeass', 'باکمال', 'bedstuy', \"'gratulation\", \"llet's\", 'akzel', \"o'\", 'bundy', 'vermedim', 'gigigive', 'knowitall', 'bp', 'scotts', 'fasho', 'clockin', 'fcc', 'levittem', 'denn', 'drs', 'vrátí', 'motherful', \"y'alls\", \"pastin'\", 'weeklong', 'uğraş', 'hstry', 'secondguessing', 'frappe', 'montano', 'cala', \"dogg's\", 'diorah', 'replonge', 'ohohoh', 'snipsnip', 'irv', 'zucker', 'ggg', 'lumiere', 'zijn', 'μπορείς', 'caindo', \"duckin'\", 'youre', 'estos', 'oneofakind', 'maann', 'theromostat', \"b'day\", 'reposer', 'jiggy', 'likea', 'naunie', 'evili', 'ohohohohohoh', 'meantbut', 'ajan', 'آتاتیاناریشاردو', 'aks', 'ise', 'zatracenej', 'jelen', 'niro', 'für', 'outpetty', \"gassin'\", 'hbcu', 'yacketyyack', 'demasiado', 'roscoes', 'kenza', 'bicurious', 'broski', 'gibsy', 'hunnids', \"coastin'\", 'acreeping', 'fourteenhundredsixty', 'gidelim', 'wishеs', 'getgo', 'sami', 'anyday', \"reviewin'\", 'cavalli', \"'bob'\", \"'fo'\", 'dadadada', \"listenin'\", 'fiú', 'tábornokunk', 'sizzla', 'konshens', 'periódico', 'madiba', 'modellerin', 'lizzo', \"anthony's\", 'kapsüllerle', 'ser', 'meh', 'sstation', 'asmr', 'abrazan', 'outsiderz', 'firmato', 'nikolaj', 'nsont', 'skillaholic', 'volver', 'qs', 'asitin', 'siz', \"ll's\", 'میزان', 'juss', 'взял', \"anna's\", \"wedding'\", 'liryczny', 'mmmine', 'alainas', \"dryin'\", 'woop', 'την', 'dieand', 'luci', 'conin', 'جندهتو', 'ڕوبەڕووی', 'sikerken', 'aww', 'mutherfucking', 'علاقش', 'monson', 'بهترین', 'benzy', 'lcpstick', 'plateeradicate', 'vumani', \"pretendin'\", \"unravellin'\", \"this'\", 'ahhhaaa', 'lenox', \"rest'll\", 'jste', 'öğretmem', 'keyz', 'momento', 'خاصی', 'woooohoohooh', 'sikeyim', \"0yearold's\", 'hercie', 'melet', 'söze', 'loudy', 'yeahyeahah', 'tanzaku', 'haskell', \"shit'll\", 'rushin', 'tohle', 'yetuh', 'alisters', 'conséquence', 'treyeight', 'mancha', 'beyes', 'moiss', 'tetikledin', 'unsee', 'všech', 'pxnot', 'applauseplause', 'cockin', 'countryand', 'jlo', 'everglow', 'tener', \"lcve's\", 'mille', 'že', 'europeaugust', 'andare', 'twój', 'بیرون', \"slurrin'\", 'śmiać', 'watcha', \"percoce's\", 'držte', 'mekhi', 'www', 'فهمید', 'lorrel', 'camaro', 'encantan', 'dans', 'chantal', 'dennys', 'callcallcall', 'pasa', \"hottin'\", 'whoaoaoa', 'berman', 'shht', 'smking', 'millionnaire', 'kennyfagkaniffsta', 'تربووم', 'rov', 'قفلشو', 'freddo', 'rrrrrroaw', 'maintanin', 'andel', 'yz', 'весь', 'headmic', 'nuestro', 'butterrock', 'hmhmhmoohoohoohooooh', 'kırdım', 'baboomboom', 'missin', \"violatin'\", 'chestout', 'snaz', 'twopiecing', 'chingaling', \"'f'\", \"sec'\", 'zonin', 'mothafuck', 'edosure', 'aaliyahı', 'toooo', 'باری', 'sıkmam', 'tennekey', 'دەکەون', \"wait'n\", 'unlyrical', 'pornos', 'ゴージャスなそのlips', 'mmine', 'haaaaan', \"discussin'\", 'rêve', \"unravelin'\", 'burrrrat', 'privado', \"addin'\", 'menyukai', 'twerk', 'icp', 'ichat', 'valahogy', 'oooooooooooh', 'sisco', 'jolie', 'doortodoor', 'rocinante', \"morn'\", 'cranbrook', 'tturn', 'hk', 'escobar', \"prospekt's\", 'asswhipping', 'pepe', \"carin'\", 'oohohoohoh', 'waba', 'doobies', 'nuprins', \"sippin's\", 'stargate', \"mil'\", 'tengas', 'shityeah', 'avant', 'dddddddddd', \"continuin'\", 'thiessen', 'apathyint', 'haaaa', 'mbeidh', 'genießen', 'buckland', 'jazeera', 'evel', 'retient', 'lessawake', 'weezyana', \"whilin'\", 'boş', 'نیە', 'solas', 'unlv', 'whitetrash', 'گذشتهآره', 'queef', 'yapmayacağımı', 'každého', 'hlas', 'strangé', 'gogoing', 'resto', 'aan', 'vagy', 'keychains', 'shadybitch', \"tryna'\", 'willikers', 'stat', 'repierced', 'culd', 'yao', \"buzzin'\", 'ahold', 'porscha', 'crossfit', 'rossi', 'siktiklerim', 'semua', 'söyle', 'teeheehee', 'dikembe', 'musiciens', 'ssault', 'dropstake', 'rescuе', 'نیم', 'ninguno', 'craaaazy', 'entrar', \"shovin'\", 'přes', 'sixspeed', 'saukrates', \"retards'll\", 'unu', 'crushin', 'amit', 'homosapien', 'theshaderoom', 'sabía', \"william's\", 'glistеn', \"bummin'\", 'screaam', 'jakartaaa', 'amikor', 'میگنتو', 'imaginarynot', 'lil', 'c5', \"ridin'\", 'laine', 'soohohooh', \"comin'\", 'dadarada', 'eachand', 'اره', 'breakdowndrop', 'hellbound', \"reasonable'll\", 'oohoohooh', 'همین', 'hehehehe', 'マジbeautiful', 'hola', 'simz', 'treo', 'yaaaaaaasssss', 'blitzen', 'fretta', 'marchar', 'gwyneth', 'herethen', 'bitchs', 'celou', 'llc', 'rysując', \"forgettin'\", 'runin', 'που', 'απο', 'temetésedre', 'tatyana', 'minaj', 'piana', 'neverland', 'nevermind', 'pentup', 'timmed', \"saggin'\", '5k', \"strangers'\", 'momomomonster', 'فعالیت', 'lebron', 'quedas', 'dadadadaohhhh', \"room'll\", \"patrollin'\", 'yebba', 'sremm', 'whatcho', 'icu', 'взлетаю', 'wie', 'süngü', 'heheh', 'πληγώνουν', 'zurich', 'haihai', 'fakt', \"xxl's\", 'scaff', 'doif', \"way'\", 'κλειστα', 'wastemen', 'aki', \"ramblin'\", \"gloverin'\", 'bfat', 'آبکی', 'اینه', 'saouler', 'ininin', 'له', 'može', \"atown's\", 'breitling', 'e40', 'selfassured', 'не', \"respondin'\", 'hydroxycuts', 'keşfetmeye', 'nezůstane', \"basquiat's\", 'sada', 'attlas', 'fuckbutter', 'toat', 'chickachchchill', 'ist', 'layzie', 'veszteség', 'بکوژرێیت', 'あの日から感じてる', \"cluckin'\", 'unii', \"pitchin'\", 'lub', \"cadilac's\", '7up', 'dérive', 'handedly', 'ehehaheh', 'دەسووڕایەوە', \"birkin'd\", 'pickerupper', 'diz', 'fuego', \"tokin'\", \"it'\", \"tryyyinnn'\", \"thuggin'\", 'yana', 'marylin', 'és', 'cornbreads', 'whyyoulovethesestrippers', 'mranticipation', \"fuckin'\", 'да', 'jae', 'twotime', 'fofor', 'penetrator', 'spokenword', 'thirtysomething', 'öz', 'toi', 'woulda', 'rapup', 'hehheh', 'prenup', 'stefani', 'mulah', 'kekeep', '5η', 'ahhahhahahh', 'bisquit', 'zabarví', 'sikim', 'knknow', 'instagrammed', 'skream', 'awahlangani', 'stephon', 'bmz', \"ho'\", 'niia', 'nyu', 'کنین', 'jawns', 'quisiera', 'ducing', \"diggin'\", 'ninjaman', 'مرگ', 'seventysomeyearsold', 'fuckyou', 'oddychasz', 'kool', 'dui', 'دەست', 'solita', 'harpo', \"fittin'\", 'vanson', 'dramatical', 'pieprzenie', 'varsovienne', 'bagz', \"paintin'\", 'mewhich', 'stuckup', 'physed', \"luvin'\", 'oohwoooohoohooh', 'ameriky', 'eşleşemediğin', 'danza', \"ss's\", 'synclaire', 'mizzy', 'twinsized', 'franda', 'گرفته', 'destin', 'ksr', 'starszy', 'sixyearold', 'supernerdy', \"wafflin'\", 'bifteği', 'fortyfive', 'collegy', 'creías', 'lll', 'wineinеine', 'moanin', 'motherfreaking', 'brainiac', \"i'dliehere\", 'rockshitbitch', \"givin'\", 'bitchhhhhhhhhh', 'braggin', \"to's\", 'ouston', 'tttell', 'نیاز', 'mccauley', 'είναι', 'mappelles', \"fuckin'oh\", 'bblades', 'asssssss', 'boğazındaki', 'vivir', 'shola', \"pa'\", 'derse', \"flossin'\", \"bimmer's\", 'unk', 'grzesiul_g', 'denemesi', 'hree6ix5ive', 'hova', 'megtalálta', 'achingchongchongchongching', \"leadin'\", 'soohoh', 'leakin', \"wit'cha\", 'gacy', 'maggy', 'maroney', 'peau', 'baddiebey', 'hardboiled', \"bathin'\", 'chingy', '94letýho', 'legeye', 'likeda', 'شکست', '8track', 'whatah', 'fronters', 'shshshut', 'jigga', 'ehehehehendlessly', 'eheheh', 'پشتش', 'funkbeyonce', 'avión', 'rubberband', 'pnk', 'چطوری', 'dengem', 'neverending', \"competin'\", \"drivin'\", \"or's\", 'youhoo', 'getback', 'khloe', \"sweatin'\", 'annak', 'comerica', 'nuziali', 'conversating', 'justjust', 'φωνής', 'shakur', 'wonderwall', 'arada', 'egész', 'pompompom', 'stiemsma', 'nada', 'mata', 'vap', 'youwhat', 'brbribribribring', 'punany', 'điha', 'brodiesangster', 'πιο', 'tane', 'viens', 'curr', 'dadibbadick', 'paulo', \"dees'\", 'karnını', 'llevame', 'qualcosa', 'آگاهآره', \"clickin'\", 'پایین', 'slimshut', 'sais', 'charleyhorse', '44d', \"whinnin'\", 'aall', 'calze', 'podporu', 'tpain', \"'telly\", 'resurrectionext', 'ebayers', \"skatin'\", 'nienawidzi', \"''stay\", 'geniuselizabeth', 'tah', 'niggie', 'therell', 'flippin', 'şekerleme', 'arrivé', 'yamo', 'bckini', 'lavoro', 'wakin', 'perhue', 'nickelette', 'clairo', 'g450', 'ile', 'buzzarre', 'blablabla', 'llllet', 'chuckacord', 'oneeyed', 'trás', 'shebib', 'funyuns', 'ıkı', 'érzünk', 'thotthot', 'drunkanese', 'bileğindeki', 'beenie', 'strawberrybanana', \"'ish\", 'моей', 'saweetie', 'debes', 'segal', 'krylon', 'voix', \"od'd\", 'delevingne', 'livin', 'dipshits', 'arama', 'dancefloor', 'acabamos', 'αλλου', 'birini', 'slutokay', 'paddywhack', 'estamos', 'bassturd', 'molliwopped', 'uhhahh', 'danışmanına', 'beynini', 'violencecomplete', \"should've\", \"stylin'\", 'nézegetem', 'ged', 'opps', 'verdrietig', 'oohwoo', 'animalsmals', 'powiedz', 'beavis', 'huto', 'supe', 'رو', 'leanann', 'thedream', 'finnan', 'mucht', 'pourin', 'destructiveass', 'mothaf', 'carheartless', 'thеre', 'közel', 'x80', 'bagley', 'وابزانم', 'پیچ', 'satelite', 'твоя', 'somos', 'porizontal', 'starspangled', 'mockaveli', 'allá', \"niggas'd\", 'dente', 'felch', 'didick', 'voit', 'هەندێک', 'یاکجار', 'μπορούσα', 'saldría', 'mataku', 'کز', '告訴我哪個選擇比較糟', \"mcs'\", 'backback', 'facking', \"children'\", 'kızın', 'feh', 'heures', 'zwycięzcę', 'iu', \"vag'\", 'cassidy', 'rád', \"''get\", 'villanova', 'aa', 'états', \"reid'n\", 'pf', 'ooover', 'dabel', 'popo', 'patek', \"blisterin'\", 'bakeoff', 'baggett', \"hurtin'\", 'caca', 'rodillas', 'plais', 'rocknroll', 'jugg', 'bup', 'blinkedsold', 'mcry', 'kap', 'پرداخت', 'louboutin', 'kas', 'wifed', 'ninetysome', 'mogę', 'tila', 'rythm', 'ебал', 'heathuh', 'juego', 'redbull', 'reflito', 'donatella', 'todavía', 'sacario', 'μονο', 'whitepac', 'ocasiocapo', 'whewhewhewhewhe', 'thembi', 'dimo', 'twitpic', \"ibamb'umthetho\", 'myx', \"divin'\", 'andreana', 'pplus', 'muhfucking', 'cedusing', 'dudey', 'prebreak', 'punchin', 'blundy', 'ohhhhhhho', 'porshes', 'voorhies', \"remixin'\", \"campin'\", 'мы', 'زیان', 'beğeneceğinizi', 'acil', 'aare', 'başka', 'kız', 'mau', \"tho'\", 'αυτον', \"headin'\", 'gnote', 'rolleys', \"'spitals\", 'i95', 'douchebags', 'haglercoproduced', 'catya', 'poom', 'shooin', 'revisitation', 'yahhhh', \"did'nt\", 'aiko', 'codenames', 'schoolly', \"'nother\", 'filas', 'beatkilling', 'vemos', \"spiralin'\", 'flickflick', \"'teen\", \"y'allfellas\", \"paintballin'\", 'selfreflections', 'قیمت', 'ebt', \"mezz'ora\", 'crum', 'cheddars', 'seducción', 'goodgood', 'raaaaaaggggedy', 'eighteenmonthold', 'opovrhoval', 'mclaren', 'düştü', 'atrás', 'chonkyfire', 'walkietalkie', 'heyoooooo', 'بعد', 'dokud', 'seans', \"gafflin'\", 'gm', 'μπορω', 'tims', \"'roid\", 'demitour', 'oppiana', \"ema's\", 'hoodrich', 'مواد', 'tehát', 'monie', 'sneakersexy', 'który', 'bolca', 'کلاب', 'ακολουθησω', 'floodsfor', 'کثافت', 'radiooh', \"cumin'\", 'dananadana', 'africanamericans', 'adınız', 'mérget', 'hypnotiser', 'minime', 'flightclub', 'calmaneur', \"luckin'\", 'unsweet', 'swineahyaihihih', 'припев', 'kicsit', 'mueve', \"'sleep\", \"sk's\", 'deréon', 'mojitos', \"rantin'\", 'excitar', 'centurylink', 'whoaho', 'joes', 'ام', \"spikin'\", 'karim', 'wifi', 'شروع', 'medos', \"drummin'\", \"barbie's\", 'fogod', 'spellin', 'sanging', 'компот', 'jękiem', 'brrrat', 'cartunes', 'numaranı', 'cooter', 'wooahh', '9am', 'están', 'excita', 'bootay', 'cappa', 'за', 'muitas', 'pedig', 'contemplarte', 'ohoh', 'misma', 'stereotypetypetypetype', 'ching', \"skydivin'\", 'silahlar', 'ειμαι', 'grandi', 'olduğunu', 'screenshotted', 'm6s', '0k', 'frizzench', 'gebruiken', 'هیپ', 'creamofthecrop', 'mais', 'più', 'چوونکە', 'gdk', 'offyour', 'wydaję', 'peachpink', 'overdramatic', 'juveneer', 'mattressss', 'οτι', 'lazboy', \"repo'd\", 'terminó', 'carring', \"grievin'\", 'nonhigh', 'fugaly', 'boma', 'gagaaaahhh', 'goodnplenty', 'vom', 'indawo', 'apa', 'kurşuna', 'سوم', 'یکدیگرند', 'diggs', \"'06\", 'pos', 'bbabe', 'coi', \"dropin'\", 'guegueguess', 'pauls', 'grande', 'bbaby', 'dododobahbahbah', 'quante', 'oohhoohoo', 'nasedne', 'ayeahyeahyeah', 'alle', 'پێشووتر', 'gggunit', 'zmrda', 'dabbs', 'hcgh', 'hollas', 'vadergo', \"ducin'\", 'uhh', 'roppo', 'brickwall', 'boyboyfriend', 'bumstickitty', 'flesheating', 'alltime', 'wooooh', 'dragões', \"kno'\", \"excitin'\", 'دار', 'bailar', 'getlovequickschemes', 'new6x', 'oléoléolé', 'dodododododo', 'whiteboy', 'görüşürüz', 'cyar', 'haces', 'cowsa', \"soarin'\", 'bleh', 'exgirlfriend', \"warnin'\", \"motherfuck's\", 'freestyleno', 'pochodní', 'nnew', \"myself''\", \"handin'\", 'çeviririm', 'فن', 'تاتۆکەی', 'límites', 'janyelle', 'máš', 'fräulein', 'pez', 'rida', 'számunkra', 'dzieje', 'traww', 'idő', \"writtin'\", 'nifler', 'shutup', 'rasheed', 'jblack', 'ahahahahahahahahahah', 'yeeeeah', 'való', 'millzy', 'tippytoe', 'lelelet', 'اریک', 'karar', \"rappin'\", 'lonley', 'rewhen', 'hazelton', 'φύγεις', 'только', 'skina', 'watchin', 'merrygoround', 'تمام', 'postmate', '等待我的時機', 'haim', \"'chips\", 'při', 'retrosexual', 'kkkkkisses', 'cudi', 'jetset', 'juvie', 'biliyorsun', 'ick', 'kış', 'já', \"pizzelle's\", 'wastin', 'przypisy', 'sevmiyorum', 'tamam', 'prenups', 'hittin', 'sitio', 'flowowowow', 'sas', 'onetell', 'hmmhmmhmmhmm', 'هەروەکو', \"hafuckin'ha\", 'ساتێ', \"cccomin'\", 'это', 'peckerwood', 'bexr', 'shotsno', \"noman's\", 'brrrrat', \"fifty'leven\", 'courtnee', 'برئونا', 'adni', 'davinci', 'binderella', 'κρατησε', 'خاص', 'punchdrunk', 'rothy', 'dışında', \"considerin'\", 'odstín', \"'tas\", 'champaagne', 'mythe', 'nononobody', 'poouhhbitch', 'milewhat', 'rozdělit', 'foreva', 'pora', 'hommes', 'benle', 'zrobiłam', 'стены', 'sampha', 'krueger', 'suu', 'ڕۆڵینگ', 'pov', 'себе', 'orderwhat', 'tekisiniz', 'bobo', 'burqa', 'райдер', \"'45\", 'pitbull', 'zitrone', 'hennesey', 'kyuh', 'oooooooooh', 'supongo', 'میده', 'gettin', \"outstandin'\", 'آخرین', 'oohhh', '8am', 'neighbours', 'dawgs', 'downa', 'udělám', 'summersummerboy', 'lluminati', 'sientes', 'кредо', 'komiczne', 'آره', 'towa', 'gq', 'footies', 'önnakarat', 'selfhating', 'farkettim', 'یک', \"ruinin'\", 'yyyyou', 'beatch', 'akeem', 'batata', 'doublecrossed', 'alist', 'gohruh', 'selingenile', 'okurrr', 'fofo', 'etkiliyor', 'لی', 'rasputia', 'quieras', 'nolongtalker', 'hitandrun', 'motola', 'ocupabas', 'peacockcock', 'folloohow', 'taşşak', 'ruisseaux', 'πεθαίνουμε', 'chch', 'ekwu', 'twobyfours', 'jiggajjigga', 'drakke', 'faoin', 'میکنن', 'givenchy', 'lemmi', 'dnia', 'biçimsiz', 'ciężar', 'alimentarnos', \"boys'\", 'içide', 'haymon', 'innere', 'mammalswell', 'popeyes', 'baik', 'wooski', 'lyor', \"'cause\", 'unthaw', \"mathers'\", 'saltnpepa', \"spittin'\", 'texted', 'bartending', 'adım', 'konartist', 'prawie', 'razy', \"bimb'\", 'karjaink', 'tapin', 'highroller', 'niggasll', 'btw', 'lxveoh', \"overtextin'\", \"gunnin'\", 'prewarn', 'foward', \"grindin'\", '40automatic', 'lgbtq', 'černý', 'pěst', \"hacemo'\", 'stabinthebacks', 'rolexes', 'pimms', \"uniit'll\", 'trop', 'wody', 'bebebe', 'supiste', \"swimmin'\", 'خەریکە', 'geliyorsun', \"around''\", 'noone', 'fiveo', 'conchords', 'عالی', 'بال', \"on's\", 'inglish', 'petits', 'bigdicked', 'rendre', 'shrinked', 'hacerlo', 'söyledim', \"yankin'\", 'akkor', 'τις', 'entre', 'chka', 'fedine', 'pppeter', 'fuimos', 'vyšší', \"'57\", 'gravitys', 'wertvoll', 'جەیزی', 'kesik', 'thereyou', 'babada', 'huhuhuhuhuhuhuhuh', \"flowin'\", \"lewinsky'd\", 'قبلا', 'uniondale', 'ohahohah', 'mandt', 'polow', 'masterpièce', 'booyah', 'házet', \"tastin'\", 'adióspor', 'teesdale', 'время', 'спит', 'norbit', 'farakhan', \"each'd\", 'percussioner', 'nz', 'exel', 'charla', 'jit', 'perdonar', 'nightnight', 'buzzcut', 'recordlabel', 'pizzle', 'graining', 'romo', 'caímos', \"twerkin'\", 'toothandnail', 'física', 'shanahnahnahnahnah', \"surfin'\", \"dunkin'\", 'نەفرەت', 'peepee', 'dres', 'nevét', 'assbackwards', 'mikky', '0percent', 'ovp', 'disfunction', 'mula', 'ooouuu', 'riiider', 'brujas', 'ρυθμο', 'tipo', 'demarcus', 'mmmake', 'marí', \"else's\", 'stutiful', 'پیدا', 'hoooohoo', 'kkisses', 'ohcome', 'pag', 'tagliati', \"satisfyin'\", 'videogame', 'telegramslimshadyfanpage', \"'preciate\", 'eightyearold', 'quitate', 'cockadoodledoo', 'reste', 'pierdołami', 'uhuhuh', 'çalışıyorum', 'entretiene', 'hunh', 'mclovin', 'conyou', 'دەکەمەوە', 'gli', 'youa', 'gaye', 'camino', 'vorhees', 'bobbet', 'pеrfect', 'whoagiuseppe', 'grâce', 'entree', 'loosey', 'swanging', 'κρατησεις', \"'number\", 'куплет', 'xl', 'quadra', 'thingthing', 'closedminded', 'galliano', 'sosem', 'ناوازەن', 'düşünürsün', 'hooo', 'soliders', 'naninaninani', 'نزیکە', 'baisser', 'میخوایم', 'ohohhh', 'eds', 'alaina', \"t'en\", \"breathin'\", 'anahtar', 'iku', 'clickclack', 'kllet', 'vrinnvrinnmotor', 'avísame', 'markie', \"e'rybody\", 'doodoodoo', 'tenspeed', 'babadoms', \"hibernatin'\", \"unforgivin'\", 'میدن', 'کنمهمونطورم', 'gwinnin', 'خودش', 'von', \"handholdin'\", 'tightlyworn', 'ακούγωντας', \"taggin'\", 'hayıt', 'happenеd', '妖異の魔女だと', 'briggite', 'eyeahyeahyeah', 'ooooohhhhhhhhhhh', 'jme', 'skinover', 'skoolys', 'motrins', 'προσπαθουμε', 'assalam', 'kiiara', 'dddominoes', 'victorias', 'unkiss', 'grandmama', 'skio', 'macgregors', 'besando', 'kunst', 'mumumust', 'jjada', 'αν', 'blahblahblah', \"slammin'\", 'leavе', 'mmade', 'stefflon', 'lograr', 'blaaaow', 'babyback', 'topm', 'çıplak', 'majmuni', 'perro', 'nondescripts', 'bouteilles', 'lachey', 'dehors', 'honosných', 'honnan', 'mymyy', \"'when\", 'brotha', 'lockdown', 'liste', \"slimin'\", 'yeeehawww', 'rrrrrrrr', 'از', 'tecs', \"entramo'\", 'chillling', 'allwhite', '美麗的咒語', 'zooted', 'ormanı', 'exquestion', \"revvin'\", 'intubated', 'brendon', 'intentar', 'videoya', 'cucaracha', 'escapin', 'mulai', 'vágjak', 'нет', 'usah', 'alfabetycznie', 'memorys', 'yeaaaeeah', 'alsina', 'bolsillo', 'sokacağım', 'خوکمن', 'brea', \"roundtrippin'\", 'flyed', 'pube', 'morningsiders', 'miraval', 'frutas', \"vemo'\", 'agárrame', 'nikes', 'çalışma', 'érjek', 'empezamos', 'utslay', 'whoaa', 'nigdy', 'kaybеtmek', 'brige', 'دەمە', 'giussepe', 'heehee', 'iiiiohohoh', 'chloraseptic', 'ctm', 'cheatwhy', 'dosido', 'bucktown', 'gotti', 'vanglorious', 'ny', 'raygun', 'tock', \"riggin'\", 'proti', 'thatsweepstakes', 'baja', 'futhi', '0yearold', 'fortyeighted', 'spf', 'bajan', 'sento', 'nananananananananana', 'purp', 'cocaina', 'twelvenoon', \"ghetto'\", 'creación', 'huxtable', 'vaccum', 'tankyeah', 'woooooooooooooh', 'terius', 'guap', 'fumando', \"'6\", 'agus', 'zpátky', 'bonnaroo', 'تاکە', 'slowmo', 'acapella', 'λεξεις', 'charttopping', \"chiquitico'\", 'jxm', 'rosay', 'سیمفۆنی', 'badababa', 'cavewomen', 'дела', 'ej', \"'case\", 'expedia', 'مایل_های', 'buď', 'sabar', 'sixtythousand', 'wansel', \"chikachikachikachikachikachikachika''\", 'bleibt', \"80g'ler\", 'inlove', 'אלד', \"lainieuncle's\", 'theo', \"peers'\", 'skirtchasing', \"slitherin'\", \"shoutin'\", 'stromae', 'به', \"skrip's\", 'kellyanne', 'azza', 'fadedfaded', 'jxmmi', 'глазах', 'trickortreat', \"bent'\", 'softlyso', 'lpmy', 'oooohooohooo', 'bıçaklar', 'tity', 'comin', 'halfalive', 'warhols', 'antwoord', 'danse', 'verbsyou', 'everythingjust', \"brainstormin'\", 'shouldnt', 'eames', 'camabons', 'patronun', 'hipokrytów', \"yy'dig\", 'illnois', 'bedum', \"invadin'\", 'keeks', 'ahah', 'naa', 'fucklike', 'teenie', 'macskának', 'čáru', 'wheelying', 'csak', 'blahblahblahblah', 'hct', 'kkind', 'dadada', 'meezy', 'jonbenét', \"fishin'\", 'hejterzy', 'hepsinin', 'esküszöm', 'その魔法にヤられる', 'списке', 'fifofum', 'goodback', 'cosas', 'gelmez', 'cristo', 'babyreah', 'whwhen', 'trumpa', 'berryman', 'colours', 'crеdit', 'времени', 'ninefivefour', 'příšerný', 'μάτια', 'asslicks', 'engañar', \"neck'll\", 'dois', 'کەڕ', 'citi', \"iit's\", \"yelawolf's\", \"ooh's\", 'niet', 'fernández', 'llet', '寶貝', 'hunnit', 'cappadonna', 'sudut', 'zoveel', 'yadayada', 'kaybettim', 'menyentuh', 'entero', 'assholeeeeeeeeeeeeeeeeeeeeeeeeeeeee', 'oluwa', \"d'ed\", 'alexa', 'dro', 'hanes', 'ambiens', 'ackes', 'nalick', 'sеnse', 'وقت', \"understandin'\", 'malware', 'havnt', 'پێش', '5minutes', 'darkdarkdark', 'hablar', 'olması', 'gigigiving', \"molestin'\", 'jelentek', 'org', 'az', \"'50s\", \"reelin'\", 'dziesiątki', 'arrête', \"growlin'\", 'huddy', \"wastin'\", 'hayley', \"feingold's\", 'blеssed', 'wellaware', 'amigas', 'coldcocked', 'melle', 'seatererer', 'windmiller', 'partynextdoor', \"miniyou's\", 'počká', 'bajun', \"includin'\", 'dumbing', 'düşünüyor', 'نهند', 'oohohoohohoh', 'tapeguess', 'dicen', 'umursamıyoruz', 'cartman', 'dnice', 'flatts', 'savez', 'ziplock', 'hurtin', 'schleiban', 'loverlover', 'ooooohuuu', 'ladadeeladada', 'cyphers', 'tváře', 'alfie', 'twentyyear', \"burnin'\", 'spazzing', 'lawsons', 'beezy', 'twentythree', \"kidnappin'\", 'kreviazuk', 'oneoff', 'うたいましょう', 'menzel', 'parlotte', 'youbut', \"wetherspoon's\", 'skywalker', 'larnell', 'allnighters', 'lеtti', 'louper', 'goodwillwill', 'hoog', \"funkin'\", 'boujour', 'halffull', 'monroes', 'blendin', 'εμεις', \"connor's\", 'prostituía', 'hookerwhore', 'untouch', \"jackwho's\", \"chucklin'\", 'voy', 'láthassunk', \"parecemo'\", 'worldstarhiphop', 'tiptronic', 'kırk', 'llevarme', 'optomistic', 'goodso', 'jergens', 'unfadable', 'santo', 'bankhead', \"dan'\", 'phife', 'καταλληλες', 'negligah', 'wumble', \"plannin'\", 'yüzden', 'kötü', 'kekuatan', 'parken', \"lookin'ass\", 'mims', 'unda', 'timmins', 'mada', 'blap', 'lalalala', 'didee', \"undeservin'\", 'kesikler', 'laters', 'toniiiiiight', 'hashtag', \"flamin'\", 'courtordered', 'miuccia', 'careyoke', 'nottz', 'rawls', \"corta'\", 'klinkt', 'harcos', 'mamamad', 'quon', 'basementhow', 'pattycake', 'placks', 'steelo', \"easin'\", 'zamordowany', 'neeky', 'maná', 'šlic', 'vert', 'norah', 'هەمان', 'noch', 'aidonia', 'preparationh', 'blowoo', 'giyin', 'soandso', 'pussywhipped', 'ribbit', 'quiere', 'lozengers', 'cowdy', \"'wrong'\", 'taxbrack', \"prob'\", \"fo'five\", 'usein', 'thottery', 'deh', \"'turnt'\", 'twentynine', 'τον', 'هارو', \"'your\", 'هێنابوو', \"l'homme\", 'papito', 'chikachikachika', 'naber', 'hahahaha', 'της', \"'taba\", 'vehetett', 'svého', 'τζιν', '一目で招く', 'swang', 'slurr', 'déanta', \"leanin'\", 'unisom', 'beatminerz', 'zales', 'wściekłość', 'beychella', 'champa', 'günlerdi', 'undoubtably', 'backfade', 'quququestion', \"'nelly\", 'göz', 'freifick', 'پذیری', 'rav', 'girac', 'krippy', 'ohohahh', \"battin'\", \"tankin'\", 'znosisz', 'jeepfull', 'sechzehn', 'kian', 'doobee', 'ppink', 'woza', 'cesspoolers', 'boynunu', 'aretha', 'soso', 'پێم', 'scarn', 'ajhani', 'brraaattt', 'soltar', 'doublecup', 'grillie', 'moneygram', \"winin'\", 'sheckler', 'readthrough', 'snakebitten', 'outtie', 'jawa', 'ئێوە', 'itty', 'بڕۆین', 'tryyy', 'oglądam', 'getcha', 'sprayz', 'sıçıyorum', 'dumdadeda', 'kanarken', 'sabe', 'rrride', 'hahahahaaa', 'touche', 'warnerchappell', 'duhdahduhdahduhduh', 'ahaahh', 'اسمش', 'blakey', '네', 'utáltad', 'uhoh', 'aleshia', 'forths', 'بوایە', 'یه', 'wszystko', \"'leave\", 'sheeeit', 'oneman', 'toosie', 'sonsuza', 'mommys', 'cds', 'everever', 'nineto', \"muhfuckin'\", 'att', 'غذاهای', \"f'ed\", 'bbobby', 'ohhhh', 'drezie', 'veía', \"churpin'\", 'rudeboy', 'مک', \"s'aime\", 'گایش', 'lauguage', 'dizleri', \"traffickin'\", 'fuhrman', 'weewee', 'iwan', 'canibus', 'chyba', 'globaly', 'rround', 'bendel', 'üç', 'trochę', \"5'6\", 'likе', \"wobblin'\", \"'ill\", 'yıkamadan', 'morias', 'ot', 'pernah', \"weighin'\", 'wrld', \"outweighin'\", 'uzun', 'beckham', 'odiato', 'fistfighting', 'mío', 'sokakta', \"fallin'\", 'hands56', 'teacha', 'ssober', 'jauh', 'woohoohahahahaha', 'sware', \"slashin'\", 'jealousridden', 'domhan', 'writtens', 'anders', 'vips', \"inkin'\", 'eeheeheeh', 'δακρυζω', 'andand', 'mosely', 'mcdaid', 'arguament', 'theon', 'ringtone', 'overthink', 'dadadadance', 'nitti', \"ndim'\", \"caretakin'\", 'chours', 'üşüyor', 'ölen', \"them's\", 'چو', 'uno', 'nebojíme', 'verme', 'stratford', 'youu', 'stepsis', 'juste', 'escuchado', 'resmi', 'بیدار', 'افراد', 'noila', 'amar', 'penali', 'sssame', \"'0\", 'coucou', 'چید', 'calogero', 'couric', 'hublot', 'puntuale', 'logics', 'liebe', 'rosenburg', 'derulo', 'wir', 'chicka', 'scorchin', 'echosmith', 'برعکس', 'vea', 'elitär', 'pootie', 'samo', 'gottafind', 'jrj', \"slaughterin'\", 'virgina', 'nuuh', 'dropswhether', \"ohnowthat'sjustridiculous\", 'terminaremos', '0space', 'rappity', 'streep', 'halle', 'rainbowlooking', 'yaparken', 'زانوشو', 'tickitytock', 'eevee', 'doingmeandonlygodcanjudge', 'dresick', 'babanın', 'دوما', 'rista', 'lehet', '6lack', \"lives'\", 'ندارن', 'soflo', \"''cause\", \"bullyin'\", 'chinnychinchin', \"t'es\", 'zárověň', 'regarde', 'upsee', 'trátame', 'almaz', 'børns', 'bumass', 'belair', 'eyetoeye', 'prerefrein', 'bcther', \"battlin'\", 'extendo', 'moonrocks', 'wth', 'maledriven', 'warreen', 'próbálja', 'writin', 'dígame', 'mughlai', 'setlist', 'howevermanyiputonhere', \"hellmann's\", 'bj', 'hustla', 'aalright', 'berret', 'illenium', 'accentcentcentcent', 'doodooroo', 'reformationext', \"ole'\", 'nèt', 'shitfaceted', \"tweetin'\", \"caput'cha\", \"88'\", 'leguizamo', 'wawawawawaterfall', \"blinkin'\", 'tracklist', 'faots', 'فراموش', \"polyps'll\", \"tweaking'\", 'sheek', 'nedokáže', 'brung', 'هەستەکەم', 'pusha', \"managin'\", 'blondehaired', 'lanzar', 'baterista', 'spendin', 'phraayayase', 'dusseldorf', 'hydroxycut', 'numero', 'targa', 'drowing', 'aleve', \"cheap''\", 'rerediscover', 'nosso', 'dabodabababadabo', 'dělá', 'pomprrrum', 'prawda', 'fois', 'twotwo', 'zaroo', 'passati', 'gwagen', 'بڵێم', 'unifloats', 'desde', 'winestained', 'lalalalalalala', \"forecastin'\", 'yahah', 'rha', 'wasi', 'nogo', \"biggin'\", \"stonin'\", \"head'll\", \"spreadin'\", 'habillezmoi', 'drut', 'yaptırdım', 'sevenseries', 'bs', \"young'n\", 'handstanding', 'youngin', \"l'ai\", 'googoogaga', 'yedin', 'çekiyor', 'poohy', 'makin', \"disc'll\", 'readyready', 'libre', 'قورس', 'meno', 'pumpum', 'transavest', 'candyman', 'tecnine', 'feens', 'dolu', 'hablo', 'sono', 'andré', 'crackas', 'ضد', 'feelin', 'dеfense', 'superfood', 'sido', 'tymer', 'efx', 'ole', 'курю', 'dès', 'biggs', 'voi', 'waan', \"samplin'\", \"eyes'll\", 'söyleyecek', 'promluví', 'rappping', \"azae'\", 'kez', 'sketels', 'تویی', 'dua', 'bboom', 'babydrizzy', 'awwright', 'ئامادە', \"y'know\", 'soundtrakk', 'volna', 'lanet', 'bd', 'taşşaklarına', 'ئێستا', \"'melo\", 'abre', 'duction', 'есть', 'ddown', \"hov'\", 'seco', 'crunk', 'سیاره', 'thеn', 'bbutterscotch', 'rxmance', 'véarsa', 'paraparadise', \"maybachin'\", 'reakce', 'capiche', 'bicchiere', \"twitchin'\", 'unrecognised', 'perri', 'woh', 'hadid', 'recognise', 'çeviren', \"admittin'\", 'streeteminem', \"dropping'\", \"messing'\", \"skewin'\", 'serta', 'sed', \"shoulda'\", 'mamagic', 'przeczucie', 'بەڵام', 'boyhtown', 'trut', 'hiçbir', 'dibiase', 'numberone', 'stracić', 'puth', 'levez', 'muhfuckin', \"sexin'\", \"bottomin'\", 'paupières', 'rininse', 'suckerpunch', 'darimu', 'ahora', 'faithforgotten', 'werе', \"gushin'\", 'runz', 'خونده', 'ketamine', 'tingz', 'badass', 'exlovers', 'ï', 'manje', \"'specially\", 'kardashians', \"evenin'\", \"devisin'\", 'merky', 'lxve', 'dippin', 'dingen', 'pourrais', 'kyu', 'yu', 'umi', 'stungun', 'bonethugs', 'incazzato', 'olman', 'قەحپە', 'acreditar', 'journada', 'się', \"rent'\", 'bloodred', 'hhhim', \"hailin'\", 'longside', 'poupons', 'jeebies', 'berzerk', 'depositando', 'rana', 'dicksucking', \"forgin'\", 'ahí', 'monicalewinsky', 'zaczyna', 'budzić', 'مۆسیقای', 'beatzz', 'alarmalarmalarm', 'domazz', 'fweeka', '別叫我歡暢', \"royce's\", 'διαβάζεις', 'κοιτας', 'fudgepackers', 'mèt', 'mouseketeers', 'wydałem', 'gl', 'jabari', 'waka', \"practicin'\", 'sundried', 'hatin', '4door', \"deliverin'\", 'قبضارو', 'byłem', 'zedd', 'σβησει', 'bbbbeat', 'hachu', 'نفره', 'atrapa', 'çekilişi', 'wietrze', 'bxre', \"handlin'\", 'highbury', 'gggg', 'ruinach', \"trowin'\", 'vo', 'sackreligious', \"firin'\", 'chevaune', 'appe', 'canımı', 'des', 'karrine', \"pennin'\", 'clickin', 'itlady', 'inyaface', 'ڕاکەن', 'juré', 'animales', 'lonelyness', \"frickin'\", 'دیس', 'kapa', \"nathan's\", \"''wish\", 'reevesten', 'هەزەلیە', 'estaba', 'sacrafices', 'hrr', \"chewin'\", 'crossbody', 'şyi', 'olsun', 'chinny', 'شتیان', 'chocha', \"mothafckin'\", 'fullsplit', 'strally', 'acá', 'cuervo', 'kidkid', 'braden', 'eheh', 'ivanka', 'negra', 'dundundundun', 'letourneau', 'cameltoe', 'winless', 'robirebi', 'goatgreatest', 'latenigh', \"repeatin'\", \"you'rе\", 'ooooooooh', 'devenu', \"costin'\", \"stingin'\", 'tooohit', 'flashin', 'jetsetta', \"don'tchu\", 'wooaah', \"tippin'\", 'dehogy', 'dable', 'jai', 'postafiókjaink', 'blackin', \"insha'allah\", \"o'pry\", \"jabbin'christ\", \"crippin'\", 'basano', \"ventin'\", 'příšerně', 'ballerines', 'dürüst', 'pms', 'اونطرفشونو', 'sexin', 'amarte', 'δύσκολη', \"hesitation'll\", 'thousanddollar', '²', 'fourteenday', 'qui', 'wap', 'bruck', 'smilies', 'vanno', 'daoheyoheyohey', 'vkročím', 'whawhawhat', 'aaint', 'noi', \"everlastin'\", 'séduits', 'oczywiste', 'ahhhhhh', 'notce', 'što', 'خەبەری', 'попытках', 'brignac', 'cueros', 'vos', 'hermès', 'oliendo', 'звезда', 'hawaiii', 'fufufucking', 'forma', 'jako', 'girli', 'βραδυαζει', 'dawg', 'cumy', 'mac0', 'rud', 'eoheoh', 'tyga', \"peekin'\", \"shiteatin'\", \"glo'd\", 'everchanging', 'flix', 'jhee', 'naïve', 'brrapbrrapbrrapbrrapbrrapbrrapbrrap', 'merasakannya', 'regalo', 'ovoxo', 'skibbedybebop', 'اذیتم', \"'tis\", 'già', 'dubstep', \"onein'\", 'allnight', 'λεμε', 'oldtimey', 'westside', \"'bach\", 'etmeye', 'ναι', \"gazin'\", 'kitkat', 'moviéndome', 'cortó', 'saltando', 'kudrow', 'boooooooooooohoo', \"bcyfriend's\", 'piña', 'sayang', \"debatin'\", 'bunkie', 'somehwere', 'modernday', 'saqué', 'nickelus', 'reens', 'بیف', 'z9', \"do'\", 'dolcezza', \"liftin'\", 'starks', 'rrraahhhhhh', 'smurf', \"0's\", 'toppy', 'lb', 'realised', \"umpirin'\", \"talkin'\", 'womenthey', 'quickthis', 'disa', \"diddy's\", 'leveszed', 'ruce', 'ganorreha', 'melly', 'تشبیه', 'nunca', 'kneehighs', '都被困在', 'shenseea', 'amicizia', 'gether', 'noogie', 'jeday', 'streetball', 'pizzelle', 'trutv', 'eeneemeeneemeinimo', 'musa', 'kafanı', 'dripdrip', 'grrratatatata', \"'hand\", 'ragadott', 'که', 'ihtimal', 'konuşurken', 'std', 'لێتە', 'gunnin', 'niall', 'meeeeh', 'afta', 'közben', 'blankie', 'بۆسەر', \"wristin'\", 'twoliter', 'wawanna', 'niceonice', 'phresher', 'dumm', 'هوایی', 'hiçbirşeysin', 'üzgünüm', 'dechino', 'nene', 'afedersiniz', 'yidder', 'factz', 'bombest', 'خیلی', 'gratеful', 'hcsh', 'aroundooh', 'توو', \"buddin'\", 'bzzbzzbzzbzzbzzbzzwop', 'noohohoh', 'bychom', \"petey's\", 'youll', 'reat', 'oughta', 'wannna', 'agaain', 'loyalität', 'blaq', \"followers'\", 'storie', 'cmb', 'realise', 'hookx', 'idi', 'ceo', 'chikachika', 'gattis', 'öldürdüm', 'gass', \"mariah's\", 'kinte', 'teorias', 'bellissima', 'haczyków', 'ültünk', 'thethese', 'bidness', 'yyyyyou', 'gören', 'parce', \"n'sync's\", 'smushed', 'wciągają', 'laaaa', 'dennin', 'intenciones', 'jabbar', 'cueste', 'baw', 'rousey', 'dmx', 'تی_مینوس', '너와', 'рискни', 'pejic', 'pourrait', 'chapeando', \"placin'\", \"buckin'\", 'lequel', 'espn', \"'sup\", 'میگن', 'ellos', 'overrespected', 'poooaaoooaaoooaaoooaaaooaooasssseeee', \"t'intéresses\", 'günde', \"perpin'\", 'su', 'دادی', 'quadrupledog', \"flyin'\", 'courvoisier', \"ya'llake\", 'válečný', 'hundredfifty', 'aaaghh', 'lllear', \"'malis\", 'connectthedots', 'pepto', \"mothafuckin'\", 'feefifum', 'calma', 'puffpuff', 'capisse', 'σκοτεινιαζει', 'fous', \"hummin'\", 'klasse', \"beans'a\", 'mumsy', \"ah's\", 'стабильнее', 'criticado', \"wearin'\", 'onları', 'litty', 'twistin', 'sayyou', 'enfoncer', \"showin'\", 'بیشتر', 'pockon', 'themself', 'ερωτευμενοι', 'trainless', 'repente', 'guac', 'uniaway', 'robisz', 'kimbo', \"schwarz'\", 'deala', \"'my\", 'celie', 'ballaz', \"promoters'll\", \"ed'\", 'aleves', 'uishi', 'nokio', 'dnce', 'causin', 'bobought', 'saltand', 'prain', 'بکەیت', \"bettin'\", 'bármikor', 'woahoooo', 'builtup', \"smilin'\", \"rog'\", 'pon', 'verdad', 'tsa', 'snoh', \"explainin'\", 'backmasked', 'dus', 'crabit', 'cp', 'mahal', 'soyiqeda', 'ağzımdan', 'mère', 'wordi', 'kalot', 'uhmmm', \"bulgin'\", 'dukies', 'nija', 'çık', 'mereda', 'eskiyor', \"medicine'll\", 'eveytime', 'mostest', 'headgo', 'shoulderstrap', 'من', 'keytar', \"peggin'\", 'ipods', 'uhuhuhi', 'mówią', \"takin'\", 'zuzu', '69ed', 'oxygenother', 'jonny', 'overproof', 'میاره', 'lagerfeld', 'yuh', 'εγώ', \"igg'\", 'bırakmaya', 'jen', 'lcvegame', 'usthat', 'obamovi', 'моя', 'toccara', 'sza', 'rocka', 'miraak', 'blackcovered', 'jh', 'halhal', \"invitin'\", 'meninos', 'fieri', 'sucka', 'shaheed', 'mesaj', 'espys', \"suttin'\", \"bailin'\", \"yellin'\", \"'em's\", \"'head\", 'nenenever', 'neeson', 'favre', 'tiwa', \"splittin'\", 'trillionwatt', 'milly', \"you''gon\", 'ohohooh', 'bumpandgrind', 'atown', 'gеt', 'taptap', 'blehh', \"place'll\", \"if'n\", 'κραταμέ', 'اونارو', 'aimin', 'fırlatmak', 'cancion', \"camcordin'\", 'billups', 'gunnaz', \"durrn'\", \"asskissin'\", 'hitman', 'duyduğumuz', 'aman', 'blahnik', \"targets'll\", 'معادل', 'pawg', \"'98\", 'ik', 'denaun', 'babadum', \"'rassle\", 'گان', 'gisselle', 'popopo', 'مغازه', 'wrektime', 'hoodtars', \"breit'\", 'bırakacaksın', 'coughin', 'ddddddday', 'adlib', 'foolness', 'hitlist', \"buttkissin'\", 'damagеd', 'uğraşıyorum', 'ڕێگایەکی', 'gloriest', 'agriculturals', 'cl6', 'sikiyim', 'yeahhey', 'pierdes', 'jetson', 'berettas', 'soñarla', 'alcoholistic', 'بڵاوی', 'acrossed', 'tracе', 'mistakebreak', 'mahalo', 'yeaa', 'extrañas', 'mindboggle', 'opusti', 'c0', 'leshurr', 'paperthin', 'marykate', 'baplayıp', 'kahan', 'sigo', 'на', 'pantaleo', 'پانچ', 'mischkas', 'egy', 'insykeable', 'broskies', 'petras', 'selfie', 'freestyling', 'certamente', 'grrr', 'dudecan', 'simones', 'saquen', 'ovako', 'ڤێرس', 'yayya', 'ariii', \"much'll\", 'qrsshady', 'keepz', 'powiedzieć', \"et's\", 'przygotuj', \"let'sgo\", 'grito', 'wawawawa', 'fidinger', 'tuttifrutti', \"fantasizin'\", 'fufufufuture', 'skido', \"quotin'\", 'koy', 'věci', 'paperchaer', 'bettеr', '00yard', 'stopresponse', 'boğabilecek', 'ترین', 'využít', 'nia', 'mamasa', 'pushеd', 'smokin', 'раз', 'peachtree', 'babadabada', \"death'll\", \"beefin'\", \"lashin'\", 'vivía', 'pothose', \"judgin'\", 'yaşandı', \"stephanie'nin\", 'whyy', 'itfs', 'ó', 'baldingers', 'بودماگه', 'dumdahdeda', 'این', 'cinderellaella', 'dimed', 'taya', \"asswhippin'\", 'pssy', 'youngyoung', 'chophouze', 'ανακαλυψες', 'molon', 'tomber', 'shithole', 'ringaroundtherosie', 'rathering', 'anises', \"tiene'\", 'housie', 'چەندین', 'needin', 'desi', 'fefe', 'ohnine', 'scène', 'oszalejesz', 'izin', 'sonman', 'dreamin', 'söyledi', 'όχι', 'massimo', 'muggin', 'bonafidehit', 'ach', 'johb', 'tswizzle', 'g6', 'muszę', 'yearsgo', 'url', 'fahişe', 'bottomfeeder', 'یەکدی', 'zcp', 'zrobił', 'millón', 'infront', 'partna', 'بهمان', 'jediná', 'pearce', 'giddyup', 'wolly', 'katycats', 'hopsins', 'jamás', 'terminamos', \"qu'il\", 'puedes', 'přišel', 'lеt', 'preocupo', \"rrunnin'\", 'jojon', 'outcha', 'pensando', \"panickin'\", 'quieres', 'wreckless', 'mrrogers', 'honour', 'droc', 'tsu', 'melman', 'chewbacca', 'genеs', 'durag', 'apač', '一個接一個', 'degreenify', \"facin'\", 'prend', 'piffin', \"walkin'\", \"musn't\", 'ahaaha', 'laci', 'falam', 'mencintaimu', 'dcup', 'najlepsze', 'storе', \"sentences'll\", 'huggin', 'vindata', 'harbour', 'parasail', 'muthafcking', 'blige', 'هەیە', 'knowi', 'دەربارەی', 'obuzmeš', 'goso', \"snowin'\", 'yarım', 'wọnú', 'ahohahoh', 'seasann', 'whooptywoo', 'زمینه', 'sha', 'hennessey', 'visalia', 'chinga', \"rebuildin'\", 'perdus', 'vuole', 'twoyearold', 'teeball', 'estáis', 'zooshit', \"snorkelin'\", 'moooo', '해도', 'bizzurp', 'mantrapped', 'çocuk', 'jodeci', \"magazines'll\", 'nowso', 'بمونن', 'disist', 'eins', 'mejor', 'xiii', 'chiraq', 'onehanded', 'beggin', \"t'aimes\", 'ftype', 'demdem', 'broll', 'tapi', 'heyeyeyey', 'mě', 'vrátili', 'becasue', 'shanté', \"grippin'\", 'qujle', 'luni', \"draggin'\", 'weknowthedjcom', 'paga', 'wooooo', 'motherfuck', \"hatchin'\", 'maclaren', 'uhahem', 'itchbay', \"becomin'\", 'kutusunu', 'andals', 'popatrz', 'sikerler', 'whatcha', 'mmy', 'oohwoah', 'ohwoah', 'tryin', 'jlb', 'spinz', 'nother', 'pintando', 'ahhahhahh', 'taşşaklarım', 'ببریزودتر', 'uglyomarosa', 'traidor', 'hago', 'muchísimas', 'yabadibadibadada', 'raye', 'kdots', 'saltfish', 'možemo', \"somebody'll\", 'havada', 'todo', 'کۆتایی', 'jibba', 'yearold', 'hopeint', 'bomboclaats', 'sesh', 'لەوانەیە', 'feening', 'kentae', 'fourty', 'dadadumdumdum', \"iii'm\", 'dooroo', 'budden', \"remainin'\", 'vururum', 'opovrhování', 'gggggirlfriend', 'tıkadı', \"attractin'\", 'greaze', 'mierda', 'wenchy', \"parkin'\", 'vvs', 'seni', 'siby', 'topy', \"waterin'\", \"gettin'shmoney\", \"fiendin'\", 'sabadore', 'ausbe', \"'dem\", 'masas', 'waddup', 'thisa', 'oohwee', 'yella', 'bobounce', 'immer', 'gibsons', \"'stead\", '消失智商', \"rov'\", \"get'cha\", \"surroundin'\", 'snowpants', \"contemplatin'\", 'کل', 'خۆشیاندەوێم', \"askin'\", 'wadley', 'siklemeyeceğim', 'alejandrxooh', 'monstar', \"seeing'\", 'spasmatic', 'vurulduğun', 'poder', 'viv', 'encontré', 'playwithmypussy', 'suelo', 'snížit', \"shit''\", 'عقب', 'skratch', 'psychopapathic', 'chacha', '006shake', 'robo', 'mtown', 'notalent', 'milehigh', 'rempy', 'oon', 'queenahh', 'sucess', 'reías', \"werеn't\", \"'germaine\", 'mebaby', 'pewgabby', 'aitana', \"'hardly'\", \"stutterin'\", 'там', 'ahahahaaah', 'galf', 'riddim', 'ookay', 'illa', \"swapin'\", 'ηταν', 'blisko', 'bethoven', \"nuttin'\", 'kuts', 'evеrything', 'reremember', 'fakest', 'nastyass', 'نەمان', 'youoh', 'octobersveryownblogspotcom', \"modelin'\", 'rogarme', 'alhol', 'muchísimo', 'cooool', 'triaminic', \"huntin'\", \"zonin'\", 'tweakin', 'način', 'zły', 'rihannakah', \"triptrippin'\", 'aplus', 'meilleure', 'pokеd', 'inchafter', 'connais', 'sidebloodline', 'než', 'müdüründen', 'sont', 'yolo', 'iso', \"ironin'\", \"'do\", 'primera', 'everevereverever', 'عضوها', 'hacemos', 'tttext', 'jourdan', \"pics'\", \"cos'hai\", 'aldığı', 'cnotes', 'hagyott', 'něj', 'coppington', 'yiy', 'swimmin', 'runnerup', 'doğru', 'صادق', 'garrix', 'diliyorum', \"settlin'\", 'kickin', 'jhené', \"murkin'\", 'troppo', 'beatchild', 'gget', 'spikerine', 'enur', 'muerte', 'wayyeah', 'idina', 'faceneckhand', 'cyattie', 'peki', 'hooh', 'thithis', \"smucker's\", 'eyy', 'juga', \"carryin'\", 'bunbunbun', 'lissa', \"feudin'\", 'بووم', 'oohoo', 'waybeforethedeal', 'bestest', 'cuanto', 'shadea', 'motivo', 'bеtter', 'babys', 'brzmię', 'dollas', \"rott'\", \"'caiah\", 'stille', 'phillies', 'iiiim', 'burada', 'fuh', 'charactersi', 'toliver', 'jedną', 'selfexpression', 'ocupada', \"freshin'\", 'вовсе', 'harleys', 'yeaah', \"surprisin'\", 'zamknij', 'badu', 'tarde', 'dilla', 'sich', 'killshot', 'افزایش', 'herida', \"muthafuckin'\", 'breakdance', 'nicorette', 'frenchises', \"submittin'\", 'leggo', 'untuk', 'bathedin', 'hailies', 'deniro', 'szarság', 'hammerin', 'imigrantů', 'ringsooh', \"bit'\", 'زمانیه', 'overcorrecting', 'ricin', \"'90s\", 'mclaran', 'etmeliyim', 'preganat', 'oohoohoohoohoohoohoohoohoohooh', 'preciso', 'briseadh', 'مهماندارسرم', 'sеque', 'kızda', 'holdagrudge', \"pimpin'\", 'aaha', 'blicka', 'stingsting', 'καθως', 'boğamayacağımı', 'fufuck', 'againoff', 'میکنه', 'ohsoeasy', 'eyalette', 'amato', '4x', 'bagsss', \"roastin'\", 'ohhhhooohhhhoooo', 'stormzy', 'heterophobic', \"sleepwalkin'\", 'ovamo', 'emociona', 'بوومەوە', 'shshake', 'wizzel', \"displayin'\", 'saludes', \"nowi'm\", 'nstasia', 'construímos', 'lcve', 'weet', 'بدی', 'spesh', 'olyan', 'pensar', 'machen', 'x7', 'moyen', 'autographsigners', 'certifiiied', 'puto', \"eyebrowraisin'\", 'faccio', 'harderbreathin', 'gt', 'μπόρει', 'byour', 'gеtting', 'sandcastlespart', 'meeko', 'caer', \"iiii'ma\", 'alka', \"runnin'\", \"naggin'\", 'fugazi', \"inspirin'\", \"roamin'\", 'reclamón', \"frightenin'\", 'romama', 'madeo', 'esto', 'brigante', 'parkolójában', 'jabberjaw', 'dwyane', \"'slut'\", \"diff'\", 'greezy', 'baccarats', 'arod', 'polkadotted', 'vivo', 'spittin', 'nbc', 'dealin', 'speaketh', 'yackin', \"tappin'\", \"manix's\", 'bbbang', 'αναμνηση', 'kingking', 'photoshop', 'fencelike', 'vle', 'solána', 'ohwas', 'earlywait', 'kokain', 'uhnn', 'velká', \"spashin'\", 'dyo', 'anywhеre', 'abababsolutely', 'brócoli', 'نفهمیدی', 'вотт', 'lifе', 'stylo', 'спел', \"rollin'\", 'garcelle', 'threeday', \"wired's\", 'demartino', 'ressemble', 'biggz', \"let'\", 'sebep', 'bcrqa', \"wrap'\", 'blaka', 'onegreat', 'kash', 'llorar', 'amistad', 'یاریە', 'maddas', 'swallowin', 'stade', 'ghetts', 'لێدەدرێت', 'gunah', 'diriku', 'eğer', \"me'\", 'هیچم', 'diedie', 'palavras', 'mhmm', 'thicka', 'sauron', 'dadadadadadadadadadadadada', 'quebrado', 'grimpé', 'coulent', 'marbury', 'tongueincheek', 'nyte', 'uspokojení', 'عمه', 'mikiyah', 'mathеrs', 'zien', 'itmug', 'nininininininini', \"rewindin'\", 'alealcjandro', 'miejsca', 'hasnt', 'vato', 'bodyyeaheh', 'musics', 'oofa', 'wich', 'olmam', \"n'ihi\", \"bbustin'\", 'europejune', 'spyder', 'گرایەر', 'sdemandait', 'léir', 'pesmote', 'kross', 'pussyholes', 'promisеs', 'ajá', 'rapera', \"into's\", 'examed', 'uważano', 'upandcomers', 'couldve', 'lambo', 'profemale', 'unášejí', 'tellin', 'seps', 'dejarme', 'roowsie', 'abuhbuhbuhbuhbuh', 'هیولا', 'کنیم', 'olan', \"kushin'\", '이', '흘러가고', 'keyser', 'iriscience', 'stoneman', 'ئاستە', 'پیس', 'dankanter', 'filme', 'rapperlara', 'fasolatida', 'pisarz', 'رسیدم', \"ecs'\", 'szn', \"'94\", \"bitchin'\", \"yearfuckin'\", 'andrò', 'hoodtarz', 'összekaparni', 'blackbear', 'lali', 'musicland', 'ropeadope', 'starstudded', 'chchromatica', \"rattlin'\", 'idiota', 'lnow', 'yachty', 'abanenkani', 'mah', \"boo'd\", \"duff'b\", 'vidaparadiseadventure', \"iiiii'm\", 'hmmmmm', 'quererte', 'αίωνiαις', 'showin', 'lifealtering', \"slimi'm\", 'wawake', 'μέσα', 'lele', 'upsay', 'ezt', 'تا', 'artpop', 'lеtter', '998just', 'iheartradio', 'czytasz', 'tudu', 'winwindow', 'qaeda', 'rappin', 'nanananananana', 'muhtemelen', 'ooooohh', 'bbbbet', 'mano', 'uvwxyyou', 'unkickable', 'igazából', 'overtown', 'wellspoken', 'utat', 'iq', 'esso', 'whateva', 'thе', \"crossin'\", 'مردداگتو', 'doodoodoodoo', 'fekete', 'fontana', '넌', 'bienvenue', 'papastay', 'hermano', 'sabes', 'str8', \"bieber's\", 'nances', 'bombbomb', 'grandaddy', 'heared', 'lubriderm', \"d'usse\", 'epills', 'taebo', 'крест', 'geri', 'tekrar', 'еach', 'yeahyeahyeahyeah', \"oliver's\", 'walkonwatergate', 'recieved', \"mc's\", 'tigger', 'vespas', 'youuuuuuuu', 'qc', 'anbolehdoas', 'ku', \"braun's\", 'chození', 'sizzurp', 'دستکش', 'gıdıklayan', 'specialise', 'ggggggg', \"wayne'\", 'countin', 'forfor', \"'quille\", 'ttop', 'activité', 'pourquoi', 'benihana', 'backbreak', 'anasını', 'klux', 'thankyou', 'bandaids', 'blugh', 'shead', 'نمیکنم', 'yarrağı', 'llévame', 'vin', 'windbox', 'razorbalades', 'herre', 'looooooolove', 'howisha', \"tittyfuckin'\", \"elektra's\", 'aiaiaiaight', \"thunderin'\", 'rih', \"sectioneight'd\", 'bandcamp', 'siliyorum', 'eatin', \"nodon't\", 'oww', 'shakira', 'со', \"rubbin'\", 'zz', 'mutombo', \"shot'll\", 'freeee', 'doremifaso', 'loohohove', 'fordeverlast', 'zürafayı', 'manos', 'buzzin', 'angeles', 'nooma', \"lo'\", 'آشغال', 'blockiana', \"t'écouter\", 'reviendrai', 'ادامه', 'şeytan', 'freinds', 'آب', 'matinee', 'rightwing', 'assshots', \"'profile'\", 'fingersdamn', 'splitta', 'pacewon', 'junko', 'oigo', 'bish', 'kurwa', 'vocoder', 'frontman', 'muriendo', 'bağırıyor', 'fenkell', 'thisin', \"eggin'\", 'diddy', 'lv', 'actavis', 'plán', \"brandin'\", 'budzę', 'frenchise', 'jellyana', \"'pagne\", \"liberation'\", 'briston', 'alcjandro', 'swoleup', 'outsidaz', 'liqs', 'shеlf', 'legsunidentified', 'reand', 'jv', 'برابری', 'weeooh', 'stało', 'eyeyes', \"lyin'\", \"mars'\", 'daj', 'realtime', 'lololove', 'cnn', 'száma', 'curryyeah', 'moola', 'hyp', 'amole', 'tatho', 'diseasecovered', \"'vict'd\", \"surfsurfin'\", 'durmuş', \"hills'\", 'ehever', 'wiem', 'postions', 'balmain', 'pretapes', \"hijackin'\", 'sillay', 'illest', 'icey', 'reven', \"'97\", 'mentiras', 'aguilera', 'snowmangroundup', 'maloley', \"qu'aujourd'hui\", 'fivestar', 'restaraunt', 'خودمو', 'nеver', \"sniffin'\", 'visine', 'vous', 'purell', 'rémy', 'massengill', 'dinero', 'cinderfella', 'haux', \"cause'\", 'judaaaaaass', 'remi', \"j'étais\", 'دیارە', \"misbehavin'\", 'jeffree', 'semblant', 'tranq', 'hoooo', 'levántate', 'oow', 'جەیمس', 'chkachka', 'coït', 'killest', \"stone'de\", 'prises', 'thereyeah', 'cardio', 'backstabbed', 'bllala', 'elfelejtettem', 'whoaooh', 'byebye', 'threehundredfifty', 'thurr', 'goulding', 'skeeby', 'دورمآره', 'mof', 'gyeah', 'mudhole', 'als', 'lipa', \"n'étais\", 'whеn', \"cashmethat's\", \"styilin'\", 'conversate', \"lеt's\", 'seater', \"c'était\", 'satmak', 'merci', \"complicatin'\", 'sht', 'faders', 'doooh', \"grainin'grainin'\", 'теми', \"feelin's\", \"mc'ing\", 'ttell', 'želiš', 'walki', 'merain', 'hiányolni', 'db9', 'tutumum', 'byliśmy', 'koons', 'doy', \"splashin'\", '04headlights', 'kiana', 'wasit', 'vojáky', 'vvvalvevalve', 'sephora', \"wor'\", 'arís', 'weght', 'kryptonno', 'doobiest', 'sonofabitches', 'bunları', 'dms', \"backit's\", 'mondom', 'conecsa', 'rusha', 'halen', 'tekrarlıyor', 'posty', 'latinamerican', \"fussin'\", 'tlc', 'губы', 'gggggimme', \"nielsen's\", 'égtem', 'zaman', 'teşekkürler', 'suttin', \"blitzin'\", '事實是你一刻技癢', 'lakim', \"laborin'\", 'μου', 'missionless', \"zach's\", 'draculas', 'lawabiding', \"waterloggin'\", 'céili', 'بودی', 'pippitykakapoopoo', 'nads', 'aldım', 'breal', 'şeylerin', 'meski', 'goddamit', 'unleveled', 'alyx', 'sauteed', 'llllike', 'slizzle', 'tesók', 'autorze', 'céanna', 'ders', \"crap'll\", 'kingsize', 'kyrie', 'pree', 'حب', \"boy'll\", 'brakin', 'ozzfest', 'amped', 'fingaz', 'thinkin', 'bjorn', 'gheal', 'křičí', 'chuckie', 'hoilday', 'sincero', 'amdam', 'extidended', 'psycodrama', 'ladadeeladadada', 'haaaaaaaaa', \"money'll\", 'iyinkinga', 'nanananananananananana', 'rovinano', 'légy', 'chigga', 'powrotem', 'stoupá', 'curé', 'wowowoworried', 'dungaroos', 'tempestad', 'amadu', \"jackin'\", 'seperation', 'shippy', 'softcore', 'foxborough', \"swangin'\", \"lou'\", 'mepart', 'pobre', 'livs', \"cam'ron\", \"'what's\", 'facetoface', 'برنمیگردن', 'pitfield', 'protože', 'profundo', 'nowjesus', 'hangzik', 'serlo', 'romantical', 'ohuhuhuhuhuhuhuh', 'aaaayo', 'lightskin', 'kdy', 'allblack', 'aza', 'tőled', 'streetthis', 'jojo', 'هرچی', 'inyourback', 'umoriću', 'beddybye', \"creepin'\", 'rocc', 'goooo', 'suwoop', 'weedyeah', 'supersiize', 'jb', 'nunchuck', \"datin'\", 'ppop', 'cum', \"siphonin'\", 'söylemedi', \"accordin'\", \"'80\", 'bryson', 'prеtend', 'ayymalone', 'shabazz', 'ullman', \"wil'ins\", 'maxamus', \"fanning's\", \"been's\", 'uhohohnono', 'bbbbitch', 'mmmm', 'fleek', 'onefourth', \"chalkin'\", 'myseself', \"a'\", \"her'\", 'těm', 'rolly', 'iiiiiii', 'geeked', 'cityscapes', 'gönderme', 'şişman', 'aanything', 'areba', \"i'mma\", 'milkin', \"pawlin'\", 'firstlast', 'napadá', 'shotta', 'joyish', 'spiritalyou', 'eres', 'nuff', 'چیزی', \"puttin'\", 'bitchin', 'hidewhoops', 'zapomněl', 'jawdropping', 'ri', 'babygirl', \"benzino's\", 'nahnahnahnahnah', 'yucka', '從苦痛變換成狂歡', 'بەسەر', 'allamerican', 'سەرسام', \"enamora'o\", 'asuntos', 'eeeeooowwww', 'dicksnots', 'respirar', 'darkdark', 'esudd', 'tugofwar', 'morewe', 'tightadd', 'miente', 'youry', 'ramieniu', 'néhány', 'źle', 'sheeran', 'نامت', 'jcole', 'trophied', 'coparent', \"gat'll\", 'butterpecan', 'jamais', \"poisonin'\", 'cumwad', 'mielőtt', '講相知', 'fortysome', 'rollup', 'fortyfouryearold', 'gabbana', 'yemaya', 'wewe', 'vahse', 'côtés', 'takuti', 'bodybag', 'lovy', 'nadhouse', \"'bove\", 'moshpit', \"better'\", 'ponieważ', 'nickiminajwikiacom', \"mummra's\", 'nke', 'ohwhoahohoh', 'cyah', 'navaliti', 'bunda', 'antonoff', 'пол', 'truhunk', 'benzfull', 'gggotta', 'fourletter', 'رپر', 'damme', 'faggy', 'ohyeah', 'alejandrx', 'ahould', \"comparin'\", 'ihop', 'ogs', 'rendu', 'wideeyed', 'gelmeye', 'macadamian', \"lovegluegunnin'\", \"rockstar's\", '你真該看看我看看我', 'namesand', 'hablas', 'weedpuffin', 'leatherface', 'gggo', 'ακομή', 'awayget', 'digo', 'isto', '算計著手中的王牌', 'hellraiser', 'ling', 'blud', 'ttc', 'awesomer', 'cheatin', 'kabab', 'melodię', 'tictoc', 'appé', 'با', 'madand', 'entendre', \"bafflin'\", 'álmaitokat', 'selfrighteous', 'milds', 'buttdial', 'minahh', \"'they\", 'femi', 'wjlb', 'dez', \"cryin'\", 'shе', 'growed', 'είσαι', 'přijde', 'fantano', 'prolude', \"'nead\", \"teamin'\", \"d'office\", 'mendapat', 'garlin', 'dangly', \"'i\", 'wishheart', 'hoodrat', \"'faction\", 'diggler', 'itmy', 'lauriana', 'ayeayeaye', 'prie', 'ltheanine', 'rosacea', 'yanında', 'podnieś', 'vivendo', 'sommet', 'tête', \"achin'\", 'thunk', 'سوەی', 'konichiwa', 'dakle', 'chickenhawk', 'storys', 'doinkdoinkdoink', 'importa', 'پوشیدن', 'presas', 'eejit', 'artrave', \"buddies'\", 'że', 'cielo', 'dancе', 'ɲi', 'suena', \"'cool\", 'menunggu', 'stache', 'backspins', 'yeawe', '你能透視的目光', 'بوده', \"mobbin'\", 'lekesi', 'buhlieve', \"wondering'\", 'terminado', 'billboardcom', 'felli', 'overprepare', 'massa', 'bside', \"reloadin'\", 'biligerent', 'songsbopschunes', 'serie', 'maloney', 'feeny', 'ovo40', 'kaepernick', 'ddisco', 'catriona', 'clickbait', \"ro'oh\", 'smallminded', 'hunna', 'کردی', 'پێشووم', \"reactin'\", 'avec', 'képeidet', 'snowden', 'preif', 'grandes', '抑えられない衝動', '50cent', 'samecall', 'toppa', 'malheur', 'ninetytwo', 'youngdell', 'ig', 'phatness', 'vrrunn', 'slugga', 'pippy', 'baitandswitch', 'یدامێ', 'queria', 'rozay', 'твою', 'finna', 'beyonce', 'hearin', 'suyla', 'کرد', 'nevuary', 'heyo', 'saveaho', 'orospular', 'oooohhoooo', 'driveby', \"cloudin'\", 'vuoto', 'kształtu', \"tech'em\", 'consigo', 'guechkit', 'hyperextend', 'ikinci', \"flauntin'\", \"world'll\", 'ناحەزم', 'mufasa', 'زمانه', 'capochino', 'amores', 'uberx', 'morningand', \"blarin'\", 'tx', 'rocko', 'errchickerr', 'topselling', 'shoobydedoowop', 'witcha', \"yawnin'\", 'sei', 'loooohan', 'tracę', 'shite', 'othеr', \"children's\", '6km', 'kyoko', 'climbaaa', \"limited's\", 'داگی', 'pacqui', 'sierota', 'refind', 'colonoscopy', 'southside', \"dead'em\", 'judaahah', 'knowingness', 'doubletap', 'goonna', 'mightve', 'celebrowana', 'saidhaha', 'cookup', 'paketten', 'آدم', 'postoji', 'manbun', 'goshdamn', 'dadoodoodoo', 'eeniemeeniemineymo', 'mehr', 'vuruyor', 'screenshots', 'мама', 'olvidar', 'triyn', 'الله', 'gfunk', \"wifi's\", 'refrein', 'bluffin', 'jewellery', 'keser', 'bookey', 'everyevery', 'mally', \"'i'm\", 'piff', 'jackers', 'fini', 'pretendin', 'suger', 'gül', 'от', 'lada', 'کار', 'relaxin', '實在你也知道', 'رفتم', 'terbiasa', \"40's\", 'partynauses', 'pucci', \"makin'\", 'dododo', \"annoyin'\", 'recordbreaking', 'nono', 'sse', \"j'aime\", 'scaryen', 'tcuch', 'selfaware', 'stayin', 'meghalnának', 'هێندەی', 'wuf', 'ohohohohohohoh', \"stormin'\", 'őt', 'triddash', 'rockabye', 'lehetett', 'αγάπη', 'mencair', 'czują', 'ئەوە', 'forchezy', 'déballerai', 'halfdead', 'assyou', 'prekane', 'drugfueled', 'meijers', \"s'accorde\", 'possbility', \"sia's\", 'بخاطر', \"swervin'swervin'\", 'adıma', 'diyorum', 'olmayan', \"nnnnicki's\", \"'ta\", 'tidak', 'hairtriggers', 'masika', 'hiçbiri', 'بیرم', \"'bae\", 'lbc', 'signo', 'titriyor', 'minе', 'paraparaparadise', 'gücendin', 'بودولی', 'myranda', 'bebé', 'pppellets', \"'dud'\", 'fogom', 'ئەلبوومی', 'candypainted', 'lleca', \"wouldn'ta\", 'parle', 'dropshate', 'děvka', 'whoadie', 'arguement', 'asi', 'hemdelaylalala', 'clityou', 'lifelove', 'bboomshady', 'ndiyininja', 'خوک', 'bria', 'olayda', 'συναντιώνται', 'raahahah', 'grammer', 'raah', 'flyington', '把弄我的遐想', 'vez', 'dogg', 'sli', 'pppull', 'χρυσος', \"diein'\", 'estás', 'bluecollared', \"rari'\", 'basta', 'نوازندگی', 'biću', \"80's\", 'bgd', 'haa', 'lense', \"bein'\", 'karrueche', 'sergent', 'ihn', 'jakoś', 'anlamına', 'spiaggia', 'każdej', 'damnit', 'babе', 'namedropped', \"'oversharing'\", 'ooohhhh', 'uuh', 'pissedofferson', 'شادی', 'rumplestilskin', \"'tards\", \"stayin'\", 'rosegold', 'cashonly', 'mogwai', 'fbi', 'خواننده', 'miłość', 'db40', 'خدافظ', 'ahahh', \"'lac\", 'amil', 'kkc', 'posdnuos', 'zbraní', 'yemi', 'kaching', 'badbadbadbadbadbad', \"trackin'\", 'songcome', 'ohohohohohohohohohohohohohohohoh', 'heeey', 'ju', \"itwhy's\", \"you'r\", 'administerer', 'upclose', \"referencin'\", 'mets', 'retarted', \"muh'fuckas\", 'darkdarkdarkdark', 'shadyyo', 'neked', 'εμείς', 'carradine', 'بکنم', 'ich', \"naturally's\", 'زمان', 'shahallow', 'bellyana', 'turnt', \"tryin'\", 'eugh', 'oturma', 'mejust', 'jada', 'bmg', 'danyèl', 'icecream', '把我推向那雙如海洋般藍色的眼', 'daps', 'سلاخی', \"'stop'\", \"nos'\", 'cryinchristopher', 'sixsixsix', 'fortythreeohone', 'qdawg', 'shinin', 'necesitas', 'eeeeever', 'chesimard', 'über', 'mami', \"dirtymotherfuckin'dozen\", 'ουρανος', 'dippi', 'chocula', 'thirtyfive', 'kaçır', \"'venchy\", 'oxis', 'mamy', 'dickless', 'właśnie', 'sny', 'yi', 'glock', 'khryst', \"watchin'\", 'beyhive', 'nico', \"lobbyin'\", 'diiiiiiie', '80proof', 'deaky', 'annonation', 'miattad', 'flipflops', 'probar', 'flatlines', \"hidin'\", 'keychain', 'gps', 'yeaheh', 'muhfucker', 'psychoparanoia', 'pissedoff', 'برگردونن', 'küfler', \"squirtin'\", 'tonica', 'ő', 'feirce', 'nerede', 'ohohwhoa', \"your's\", 'invisibl', 'nme', 'dropsdrastic', 'perd', \"fistin'\", 'لاینر', \"''talking\", 'wooh', 'دی', 'flyest', 'بالاو', 'aswe', 'tourné', 'tropez', 'találkozunk', 'alealejandro', \"bouncin'\", 'grammerin', '你說', 'taketake', 'rihanna', 'kungfu', 'uzak', 'její', 'wahmwahmwahm', 'sugarboo', 'batalhas', 'vatreno', 'vaat', \"stu'\", 'dernière', 'oblivions', 'esco', 'aux', 'perignon', 'lautner', 'convay', 'frostsmack', 'impregenate', 'slakah', 'zoë', \"protrudin'\", 'onun', 'pumba', 'walkie', 'xcx', 'foie', 'singerwriter', 'nword', 'aquafina', \"'nuff\", 'kızım', 'offdancing', 'fiiight', 'fiúnak', 'قادر', 'craftmatic', 'onesright', 'ammunish', 'κάνει', 'ودریکاونا', 'fourinch', \"complainin'\", 'handmedown', 'ayobi', 'tohohle', 'kkk', 'jaden', 'frikkifrikkifrik', \"idon'trememberwhoiwas\", 'vvn', 'ravale', 'inanmıyorum', 'chunway', 'boudoin', 'charmagne', 'rockrock', 'herve', 'riddick', 'ahu', \"lettin'\", 'ağzı', 'familie', 'aucun', 'strongbow', 'babyalchemist', \"'er\", 'ضربه', 'şişelenebilseydi', 'openingclosing', 'seventysome', 'bulleting', 'bently', 'adquirir', 'liiii', 'comeup', 'obieval', 'mazin', 'breh', 'yyu', 'getgetgetgetget', 'dck', \"bub'\", 'bribribring', 'pepepeter', \"tupee's\", 'ricu', 'checkachickycheckachickycheckacheckachicka', 'gloray', 'alrightsweetenersuccessful', \"swallowin'\", 'nekfeu', 'dialadis', 'makk', 'podría', \"rippin'\", \"'89\", 'ozuna', \"tiffany's\", 'تركتني', 'leana', 'mandem', 'ovo', 'olvide', 'eightbytens', 'gnihtemos', \"promisin'\", 'نشاید', 'dylann', \"g'd\", 'ηλικία', 'wes', 'singlehanded', 'ahooh', 'vandalous', 'epsa', \"oz's\", 'whiiite', 'hagase', \"rushin'\", 'jaleel', 'doubleg', \"pi'erre\", 'repart', \"rubik'sa\", 'není', 'moje', 'πληγώσει', 'apeshit', 'میگه', 'bedava', 'stroker', 'دیگران', 'rálőttünk', 'batphone', 'büyük', 'hohhh', 'myy', 'giderken', \"satanworshippin'\", 'waa', 'تورو', 'خطاب', 'oohoohoohooh', 'cavallari', 'sarpong', 'lep', 'madnesses', \"punkin'\", 'biomorphic', \"peelin'\", 'forka', 'до', 'dövmem', 'waaant', 'aon', 'fullblown', \"barfin'\", 'bigabigcock', 'هست', 'benzs', 'caping', 'buillí', 'sadity', 'mamine', \"counselin'\", 'tеst', 'muthafucka', 'thizz', 'shshshow', 'marnie', 'freethrow', \"xann'd\", 'dddduck', 'hitmen', 'reeboks', 'osbourne', 'quatschen', 'kweb', 'adoro', 'insideout', \"kuniva's\", 'indianstyle', \"bloodshould've\", 'nothin', 'noshow', 'aaahh', 'dreamscapes', 'fiz', 'aztán', 'rethe', 'sia', 'bbj', 'silverlake', 'wyprzedza', 'abban', 'minza', 'onda', \"'70s\", 'gurl', 'بەسە', \"m'en\", \"4'\", 'rosaleem', 'fabo', 'm6', \"kardashian's\", 'aidsli', 'نیست', 'libs', 'elzhi', 'è', \"surgin'\", 'pissin', 'phatbeats', 'بنی', 'içine', 'ayayayay', \"n'est\", 'obie', 'ladrón', 'chitown', 'shadyaftermath', 'oluyor', 'daduhduhdada', 'bombargo', 'thistell', 'χτύπους', 'dej', \"some'\", 'reinsulate', 'sharonda', 'intenzioni', \"'n\", 'pemberton', 'pago', \"'tween\", 'upgradeyou', 'syllalables', \"fishermans'\", 'offwhite', 'rrrapper', 'blowblowblows', 'brushin', 'reposts', 'až', '007present', 'backflip', 'duerme', 'nino', \"lovers'\", 'ευκολό', 'ní', 'mmommy', 'knknknow', 'bébés', 'scottheron', 'lebria', 'fargodome', 'czekam', 'miraclespiritual', 'ipnay', 'evеr', 'مردن', 'destino', 'ymb', 'dimepiece', 'ent', \"ro'\", 'salonunda', 'exmanic', 'ewan', 'bruddas', 'oohoohoohoohoohoohooh', 'lomb', 'yeahwe', 'yahooohhh', 'monewhy', 'blázinci', \"hookin'\", 'twentyfour', 'rappelle', 'błyszczą', 'никаких', 'gunbutt', 'ganado', 'meses', \"smellin'\", \"moldin'\", 'monstars', 'kdo', \"chubb's\", 'بەردەوامبین', 'baka', 'seatbelts', 'typeo', 'willin', 'warne', 'ستارس', 'drk', 'haaa', 'chéile', 'lykke', 'سرعت', 'sini', \"e'r'r'body\", \"choosin'\", 'phrephresh', \"huggin'\", 'letra', 'fingy', 'ئەمە', 'cj', 'شێوەیە', 'iiiii', 'slcp', 'youyouyouyou', 'herpen', \"findin'\", 'hilson', \"congregatin'\", 'drummound', \"pumin'\", 'mennyire', 'gyspy', 'artrve', 'oohhoo', 'gitana', 'azon', 'wearme', 'oldfashioneds', 'doja', 'obvi', 'sígueme', 'slapandcry', 'oko', 'kickass', \"'cise\", 'dadadoe', \"droolin'\", 'dla', 'gucc', \"beaver'\", 'bannona', 'tommorow', 'lolos', 'lamlamborghini', 'thatroger', 'yeahheah', 'hoope', 'liiie', \"workin'\", 'ewoks', 'şakası', 'lövöldöztük', \"j'veux\", 'justwhat', 'wawatch', 'feiceáil', 'bernsteins', 'arkaya', 'igotta', \"choochoo's\", 'knockknock', 'honeylike', 'mmmy', 'haon', 'οι', 'hurted', 'hahah', 'nanaboo', \"'magic\", 'hemşire', 'deje', '便自動勾起我幻想', 'şeyleri', 'تغییر', 'mucha', 'anseo', 'modlit', 'всё', 'aiight', 'aaate', 'pleeza', \"'79\", 'arıyorum', 'shaina', 'badro', \"l'ultimo\", 'instagramstancrew_', \"ki'\", 'saklıcam', 'przejdź', 'terbuat', 'axl', \"heiny's\", 'wineo', 'noohohohoh', 'quiera', \"ja's\", 'pedalsalll', 'wuv', 'یان', 'teufel', 'بهتر', 'nuit', 'quel', '9s', 'měli', 'wondagurl', 'beteszem', 'nanu', 'wij', 'heartshaped', 'elmondjam', 'bankulli', 'yayyayyayyayyayya', 'oté', \"gettin'\", 'nacht', \"sprayin'\", 'tobą', 'babx', 'coogi', 'coppin', 'elecelectric', 'morrisette', \"goin'\", 'sixinch', \"dispensin'\", 'demandé', 'narcos', 'pior', 'politice', 'wornout', 'smilin', 'giggs', 'scurred', 'knickerbock', 'macgyver', 'پنکیک', 'yaşları', \"sendin'\", \"undressin'\", 'کنم', 'را', 'ayy', 'vylít', 'jetzt', 'nagyon', 'hahahahah', 'aroundcomes', 'panky', \"jill's\", 'whalberg', 'buffabuffalo', 'suprised', \"cappin'\", 'schottenheimer', \"minaj's\", 'whooooh', 'donde', 'جوری', '狂喜の愛ほど', 'thaiweed', 'doodoo', 'raptopayyourbills', \"fixin'\", 'yey', 'whywhywhy', \"c'mon\", \"you'da\", 'lennox', 'μεσα', 'risperdal', 'gatman', 'volim', 'aires', \"haltin'\", 'boku', 'vierzehn', 'manoeuvre', 'ouuuu', 'bosseses', \"pon'\", 'coocoo', 'rosemarys', 'bebewould', 'rajtad', 'aphrodishy', \"neighbors'\", 'obe', 'haooh', 'détestent', 'πότε', 'testeresi', 'knocc', 'rreplay', 'gaz', 'sveglia', 'thulani', 'scheibe', 'ak47', 'meoh', 'kaca', 'těch', 'mothafucka', 'besta', 'tunk', 'playas', 'gottagotta', \"dumplin'\", 'telefonda', 'screamin', 'dopda', 'sunkissed', 'feledésbe', 'روشونو', 'inear', 'bimi', 'tiedso', 'durmió', 'oranžova', 'titim', 'cymphonique', 'maledominated', 'demek', 'singin', \"officers'\", 'stopop', 'waitwewewewewewait', 'tonite', \"mauri's\", 'همونطور', 'geriye', 'cosmo', 'andandand', 'fourfour', 'ahehaheh', 'backtoback', 'nooh', 'کنه', \"think's\", 'tâche', 'durk', 'defenceless', 'skitbackground', \"ysl's\", 'λέξεις', 'eeedge', 'smartwater', 'boilin', 'moonchild', 'jumanji', 'περίμενε', 'ahaaaah', \"rhymin'\", 'ڕیڤیڤاڵم', 'eso', 'نیکی', 'controlla', 'chulo', 'ei', 'festékpatronokkal', 'belkis', \"interferin'\", 'tuvalet', \"wanted's\", 'strasburg', '沉睡在靈柩裡', \"tuckin'\", 'الانم', 'slurpees', 'hagyatékod', 'μουσικη', 'cococopy', 'daaark', 'хочешь', 'breedlove', 'götünden', 'whan', 'everclear', 'trumtrumtrum', 'hielpen', 'eastland', 'woahho', 'meereen', 'odrodzenie', 'qrrain', 'bilinguist', 'dufflebag', 'mempercayaiku', 'relievedmy', 'bien', \"d'ussã\", 'izm', 'sonhando', \"l'un\", 'februarys', \"buryin'\", 'بڵاو', \"jockin'\", 'ağırdır', \"'shrooms\", 'storyblack', 'fantastico', 'beltword', 'ohhoh', 'korb', 'karacter', 'deeping', 'salame', 'bottomend', \"'cuz'\", 'somthin', \"switchin'\", 'cahh', 'duppied', 'around_', 'scoota', \"'so\", 'stormz', 'kızdırmak', 'nowiow', 'dustyass', 'gabi', 'monkeylooking', 'haloti', \"'longside\", 'tmi', 'hilo', 'wagen', 'khalifa', 'benzetta', \"ghostwritin'\", 'rumpumpumpum', 'sülni', 'erra', 'dvds', 'fraeulein', 'salut', 'dadom', 'looloo', 'siklemiyoruz', \"bashin'\", 'ganovenehre', 'murdazagga', 'vybz', 'murcielago', 'münchausen', 'ric', 'seance', 'sociali', \"stunnin'\", 'alalalollipop', 'seeseeseesee', 'leakers', 'calimeros', 'starsky', 'shitstirrer', 'saaaaved', 'cocksuckas', 'armandleg', 'ekg', 'افکار', \"'focus\", 'اینجوری', \"bout'\", \"'bitches'hoes'\", 'wers', \"ssswag's\", 'лоурайдер', 'cuppie', \"'gonna\", 'dopustiću', \"jer'\", \"frenchy's\", 'stuntin', 'ohooh', 'comentarle', 'khliad', \"chattin'\", 'resapi', 'hittas', \"hatin'\", 'ببینم', 'nás', 'системе', 'sıkı', 'noooooh', 'ridewhen', 'sus', 'ritmine', 'fourleafclover', 'reclaman', \"fizzlin'\", \"other's\", 'bromo', 'mcadams', 'cointel', 'halfeaten', 'wonderin', 'dumdumdum', 'pirzolalarımı', 'auscanbe', \"'dome\", 'bicoastal', 'ανάμεσα', 'tocarme', 'raris', 'odmah', 'firmati', 'debe', 'arrodillarte', 'goines', 'rcveeeee', 'seguro', 'tatort', 'mestab', 'channelin', 'insomma', 'salda', 'ohhhhhh', \"wally's\", 'zorla', 'mos', 'zúdult', 'ékszereid', 'payai', \"semi'll\", \"propane'\", 'fеmale', 'overtooken', 'شما', 'tuilleadh', 'yelawolf', \"water'\", 'ها', 'paparazzis', 'دەبێ', 'çıkış', 'bu', 'bridetobe', 'dreamsenchanted', 'atilla', 'dissledim', 'flatscreen', 'thesex', 'queso', 'piensas', 'mwah', 'teasin', 'alonestar', 'mphazes', \"snorin'\", 'onthespot', 'göre', \"choos'\", 'frontfacing', 'caiga', 'yaptığı', 'ohuh', 'promethazine', \"rappers'\", 'downsouth', 'scambiarci', 'madd', 'roncho', 'currentsounding', 'twofaced', 'dweet', 'colouring', 'izikhali', 'leales', 'bitties', 'کردەوە', 'bellion', 'ticky', 'spel', \"soppin'\", 'xclan', \"gan'\", 'myaya', 'ruiner', 'chubbachubbachubbachubbachubbachubbachubby', 'ohohohohohohohoh', 'ubba', 'lword', 'tok', 'sawedoff', 'ediyorum', 'hangin', 'bdsbased', 'trippy', 'yooh', \"amoxicillin's\", 'hamburgular', 'liiight', 'bеfore', \"low'\", 'thornbush', 'hablemos', \"retreatin'\", 'louhuhuhove', 'baldi', \"smugglin'\", 'readytouse', 'ganas', \"pistolpackin'\", 'daydays', 'kocsiba', 'amandla', \"finishin'\", \"'bows\", \"rams'\", \"ep's\", 'sitzt', 'paro', 'dippityhippity', 'mcbanarobooabano', 'dessie', 'donnerai', 'teh', 'myon', 'contries', \"weddin'\", 'urie', 'mmmmmmmmm', 'febreze', 'seulement', 'gggames', '是生還是死', 'canciones', 'dei', \"d'un\", 'dudеs', 'oone', 'mizkorona', 'θυμίσου', 'webcam', 'vuelves', 'bloodclot', 'چیبدم', 'gunna', 'querias', 'ندارم', 'zantac', 'unbothered', 'flflfly', 'bangin', 'doch', 'alalbert', \"splurgin'\", 'wooo', 'jizz', \"pokin'\", 'ver', 'promis', 'bağırsaklar', 'voltunk', 'terrio', 'grimey', 'pre', 'qualcomm', \"guzzlei'm\", 'olvidé', 'peux', 'rattrapons', \"'hold\", 'lez', 'derogatives', 'aightuhslim', 'müzik', 'ameliyata', \"'em\", 'شده', \"trackie'\", 'almam', 'molé', 'highsaditty', \"8's\", 'prevoked', 'bbbеating', 'früher', 'bys', 'besar', 'iwoahwoahwoah', 'میترسم', 'ahaah', 'menerima', 'lukey', 'خستە', 'shhh', '我覺得你好美', 'ventsit', 'غول', 'hou', \"shockin'\", 'fica', 'buscar', 'parar', 'momonmontana', 'giù', \"hollerin'\", 'abouuut', 'aşkı', 'fuera', 'showohohoh', 'jedynie', 'pshh', 'fitbit', 'ject', 'subterreanean', \"vvs's\", 'madе', \"beamin'\", 'swagart', 'sexxx', 'lugz', 'whoopsathatafuckingdaisy', 'cabxret', \"tyga's\", 'chcheck', 'azycray', 'unpoppable', 'omi', 'κρατήσε', 'acerca', 'zehirli', 'inbetweens', 'hmmmm', 'welb', \"hoes'\", 'barclays', 'beatmaker', '就忘了爭吵的損傷', \"grabbin'\", 'adorent', 'τα', 'esham', 'barbillions', 'lookyou', 'phyphyphyphysical', 'ahaaaaha', 'inna', 'teamplaying', 'calledlove', 'کلی', \"frontearle'\", 'así', \"residin'\", 'عادت', 'bullcrap', 'cilmi', \"coca'\", 'nenes', 'morissette', 'vacseal', \"'set\", 'chkchkword', 'ambalajı', 'numbnumbnumb', 'vor', \"blessin's\", 'alıcam', \"rightin'\", 'starrah', 'сроков', \"seatin'\", 'sırt', 'dwam', 'ars', 'epps', 'lеarn', \"starvin'\", \"make'em\", \"'09\", 'uhuhuhuh', 'overthinking', 'erfolg', 'ciągną', '수', \"a'gwaan\", \"plotin'\", 'blahbadeeblahdablahblahstop', \"bloodsuckin'\", 'servent', 'chkk', 'wonka', 'viajaría', \"anticipatin'\", 'achtzehn', 'mmmmmm', \"typin'\", \"flexin'\", 'chеck', 'frrkit', 'aand', 'nefret', 'powppppow', 'bidibidibidibidibombidibay', 'fetty', 'boogy', 'nosotros', \"fizzin'\", 'blicky', \"'pac\", 'rayshard', 'odda', '공간에서', 'igaz', 'teena', 'ruess', 'kurevsky', 'راجبه', 'budu', \"resurrectin'\", 'ať', 'suin', 'forse', 'nemáš', 'favourites', 'competiton', '80gs', 'sortes', 'ahhahhh', 'dundun', \"payin'\", 'cockboy', \"'leven\", 'kekekeeper', 'acariciarte', 'imzalamak', \"hirin'\", 'zase', 'sceemin', 'rockabybaby', 'ohooohooh', 'radder', \"curá'\", 'remifaso', 'ابرها', 'nám', 'naeco', 'něčím', 'görüp', 'jeanpaul', \"k'an\", \"thesis'll\", 'cztery', \"lil'\", 'prcstitcte', \"reala'\", 'bigging', 'bulletriddled', \"who'da\", 'demeyi', 'پێکەنین', 'ako', 'но', 'kwеb', \"conectao'\", 'postdrop', 'mebeyoncé', \"quizno's\", 'akikre', 'jespère', 'oti', \"7's\", 'cullinan', 'lèvre', 'reup', 'vágom', 'hannukah', 'aaahhh', 'lipgloss', \"nothin's\", 'tomlinson', 'stuntdevil', 'weeknd', 'zack', 'kno', \"sparks'll\", 'semicartermatic', \"misplacin'\", 'mudda', 'wasssup', 'lovee', 'oldass', 'posto', 'twosided', \"qu'j'te\", \"acceptin'\", 'ohi', 'knightley', 'bbbaka', 'κρατάς', 'queremos', 'nōdōz', \"'cept\", 'verze', 'leelow', 'kiedy', 'günlük', 'εσύ', 'musique', 'watever', 'enloquece', \"nothavin'it\", 'tyco', \"chimpanz'\", 'playlist', 'everymotherfuckingbody', \"wan'\", 'alıp', 'hipta', 'presidentsdents', \"ain't'\", 'rigg', 'pembe', 'joyest', 'mossberg', 'whowhowhowho', '6foot', \"darlin'\", 'sitdown', 'امانه', 'bêtement', 'two6008', \"convo's\", 'باشه', \"heatin'\", 'καλα', 'rodrigues', 'بیشترم', 'hacerte', 'dilediğin', 'protegé', 'heyah', 'bassjackers', 'pegg', \"mo'fucka\", 'дима', 'مثلا', 'denuan', 'εαύτο', 'paviliontype', 'hgih', 'stórín', 'tailormade', 'tekashi', 'accroc', 'afeni', 'aynı', \"vackee's\", 'καλιφορνιας', 'highsiddity', 'pólódat', \"cavin'\", 'iam', 'marcarme', 'northside', 'loder', 'свой', 'capi', \"rainin'\", 'kimmy', 'hearttoheart', 'finneas', 'kişi', 'sixpoint', 'istediğin', 'outok', '已種在我身上', \"signin'\", 'questo', \"noddin'\", \"hating'\", 'likeoh', 'jus', 'alrededor', 'dziwko', \"inc's\", 'caylen', \"shittin'\", 'tattattat', 'رپ', \"'erything\", 'uuuh', 'sleeze', 'اونو', 'aroundouououound', \"doubtin'\", '為我設想', 'curiousity', 'enendo', 'indio', \"nicki's\", 'speedom', 'gogo', 'atrox', 'elantra', 'chuid', 'lítat', 'bahbadadodedadaday', 'stapleton', \"c'qu'elle\", 'ψίθυρο', 'harderbreathinneedyfake', 'besos', 'worstdressed', 'voicemails', 'bondo', 'eyelevel', 'дать', \"countin'\", 'enfermé', \"must've\", 'cruella', 'ausserkontrolle', 'waitehehehehay', 'jól', 'summеr', 'هامو', 'ferva', 'iiilove', 'spitta', 'vielma', 'athis', 'shagshagged', 'bavili', 'leat', 'hobag', 'ürpertici', 'daghaidh', 'letartoztattak', '69گوش', 'zemi', 'youwe', \"broke'\", 'fortytwo', 'chukwu', '6th', 'milkbone', 'aerospit', 'pharoahe', 'tswift', 'hypest', 'suh', 'hailie', 'egyfolytában', 'jammie', 'perf', 'zbytek', 'bcbg', 'bbeat', 'hassadiddy', 'زیاترم', 'gabbanibani', 'fok', 'chikfila', 'mirrorball', 'dyna', 'remmix', 'houten', 'faaading', 'uyanıyorsun', 'διπλα', 'fashionistis', 'pput', 'openminded', 'olsaydı', 'ew', 'reloadedloaded', 'controlar', 'uwierz', \"spotifyin'\", 'migo', 'gerekse', 'dostává', 'fecking', 'mó', 'syksense', 'برگردونن_', '9th', 'shemar', 'لعنتیمتو', 'rhymin', 'eyewear', 'hoppin', 'offandon', 'whoaohohoh', 'chaka', 'hemen', 'tpizzle', 'vi', 'gerbers', \"dreams'\", \"ya's\", 'shner', 'chinchin', 'mackie', 'dupnout', 'philando', 'cddaddy', 'allez', 'eeeeeeee', 'gèl', \"navigatin'\", \"escapin'\", 'cinayet', \"slicin'\", \"escape'in\", 'вроде', 'yeaheah', 'pickens', 'existen', 'kızdırıyor', 'fnny', 'fivi', \"d'avoir\", 'yeaheaheah', 'onehunnid', \"chillin'\", 'своих', 'ohhohh', 'proprio', \"threatenin'\", 'corazones', \"knockoffme's\", 'receiptsthe', 'aplin', \"mothafreakin'\", 'bramalea', 'tienen', 'avenuebreak', 'nias', 'dissle', 'boynundan', 'یا', 'veliki', 'oscuro', 'leadoff', 'έχουμε', 'yee', 'enamórame', 'propofol', 'radim', \"packin'\", 'sprecare', 'manera', 'drivethru', 'growop', 'spoile', 'whipass', 'myśli', 'jheri', 'singles988', 'dohicky', 'holla', 'sandi', 'sikişmek', 'ئەگەر', 'ballz', 'champagnetattooed', 'лучший', 'mlk', 'yosb', 'myyy', 'interet', 'prerolls', 'sah', 'uniburp', 'todrick', 'sabría', 'declina', 'pickney', 'bling', 'nur', 'conoces', 'bam', 'ththat', 'چقدر', 'ngami', 'baseses', 'mcclaren', 'هەزەلی', 'шикшик', 'rolfe', 'cureoh', 'فلاپ', 'tippy', 'هاها', 'fasta', 'برام', 'fanta', 'تۆیە', \"lookin'\", 'curtsi', 'подруг', 'bowbow', 'bomboclat', 'nobu', \"drinking's\", 'uppaup', 'soleil', 'scottrade', 'میتونستی', 'scooby', 'potrzebuję', 'meechy', \"stompin'\", 'danana', '男どもを', 'temor', 'sıçan', 'rithimis', 'spotify', 'motherfuckin', 'stayathome', 'çekiç', 'infucktion', 'پێشوتر', 'αγαπή', 'commerzbank', 'نه', 'jem', 'daoibh', 'fofours', 'způsobí', 'agradecidos', 'jordans', 'chrisstiffer', 'childrеn', \"l'heure\", 'gizzle', 'babydoll', 'prometh', 'ohsotrue', 'üste', 'soyilungisa', \"nappin'\", 'fuckfuckfuck', 'servirai', 'bitmedi', 'nato', 'vučeš', 'mec', 'nobodys', \"usin'\", 'çalış', 'chumpions', 'اسم', 'muhfuckas', 'entiende', 'apenas', 'mmmaterial', 'nuestra', 'vd', 'تۆنە', 'mulsanne', \"phonin'\", 'zazie', 'verkaufen', 'bryans', \"6's\", \"cha'ya\", \"committin'\", 'putas', 'theyself', 'godmama', 'nickster', 'veight', 'outchea', 'braveheart', 'docdoc', 'ohohohohohohohohohoh', 'dodoubleg', 'storyyou', 'recordando', 'drinked', 'messin', 'tempah', '00not', 'napaliću', 'wciąż', 'پەسەندی', 'majid', 'pimpin', \"unsettlin'\", 'talkingadlibing', 'śmierć', 'bons', 'buh', 'gromitt', 'inboxes', 'redrum', 'k9', 'skank', 'tabancanın', 'میان', 'banco', 'procent', \"plowin'\", 'ritorne', 'в', 'onika', 'ahahaha', 'spellavotu', 'otra', 'zanny', 'fansnot', 'woosh', 'pienso', 'iceicles', \"chillaxin'\", 'youupup', 'jammin', 'cookin', \"hass'\", 'fearin', 'pontius', \"cccan't\", 'gyűrűket', 'klas', 'caramu', 'suerte', 'منو', 'cómo', 'supa', 'yyyou', \"dolla'\", \"de'angelo\", 'europe6808', 'koce', 'sígame', 'kalıptan', 'merülni', 'clapclap', 'chchchromatica', 'tego', 'یەک', 'inceptiontype', 'soca', \"skyzoo's\", 'hine', 'rothstein', 'blueandred', 'escapar', 'aynen', 'még', 'hoopdies', '愛恨都是種挑逗', 'basslines', 'liquer', 'harambe', 'czego', 'bbbback', 'truely', 'guárdalo', 'youyouyou', 'lonq', \"shit'\", \"'88\", 'chicachicachica', 'pensiez', 'duhbuhbuh', 'hcg', 'fayann', 'espalda', 'dira', 'arrepiento', 'tayla', 'osetim', \"settin'\", 'zaytoven', 'rеnovation', \"won'twon't\", 'jjjessica', 'pullin', 'capple', '0for', 'azuka', 'aggy', 'üresen', 'attackin', \"bloggin'\", 'chrissy', 'eldredge', 'manziel', 'teşekkür', 'hq', \"spendin'\", 'καρδια', 'ματια', 'všechny', \"dddon't\", 'قسانە', \"immaturin'\", 'leizure', 'lameo', 'gilla', 'yummyyum', 'cubana', 'oppers', \"see'\", 'd0', \"struttin'\", \"m'arrêter\", 'soowoo', \"copyin'\", 'teslim', 'bibitches', 'wayoh', 'mempercayai', 'vencemos', 'soit', 'seperti', 'jammies', \"correctin'\", 'vrille', 'hijab', 'stupidi', 'ediyorsunuz', 'dadadum', 'так', 'witam', 'meani', 'wwith', \"postin'\", 'matchin', 'mond', 'összetörött', 'poziomie', 'yеah', 'πληγώνει', 'dlaczego', 'jí', 'hazırım', 'polos', 'migolife', '可惜親吻你', 'cállate', 'speakin', 'puis', 'lookie', 'sendiri', 'desperté', 'lmfao', 'amityville', 'weighin', 'dahmer', 'trix', 'žádné', 'любому', 'sparxxx', 'rupaul', \"d'you\", 'lyricols', 'goddamnit', 'mcs', \"what'd\", 'για', 'długowieczność', 'retill', 'topuh', \"they'da\", 'pervertedest', 'duking', 'llora', 'bardi', 'hеy', 'reing', \"hits'll\", 'lewinski', 'yaad', 'lve', 'problemrun', 'oublié', \"motherfin'\", 'olacağım', 'increíble', 'handbasket', 'hackensack', 'pimplikeness', 'shihtzu', 'rippin', 'babamın', 'benji', 'vitákat', \"back''\", 'safaree', 'koniec', 'carti', 'everyones', \"wanna'\", 'dhabi', \"'8\", 'sonra', 'péter', 'cihel', \"own's\", 'نیستم', 'mingaling', 'katt', 'mumumurda', 'اینو', 'boge', 'moderfucking', 'prooffer', 'ruthly', 'seule', 'تاکاشی', 'repping', 'тебе', 'louhove', 'machuga', \"don't'chyea\", 'multianother', 'ehh', 'σου', 'бензой', 'edgeeh', 'gigi', 'mazarati', \"shafy'nin\", 'załatwić', '___s', 'ladadooladadada', 'freefalling', 'bizzy', 'homex', 'benim', 'guegueguegueguess', 'hort', 'stato', 'jackboy', 'شتێکم', \"mo'fuckin\", 'avuç', 'buenos', 'lárgate', 'cardiae', 'uckin', 'oop', 'islandhopping', 'capelli', 'rrrr', 'bb', 'romanskeeza', '80yearold', 'awaaaay', 'sealy', 'milli', 'gwagon', 'redbottom', 'ortadan', 'lookup', 'tackyana', 'ataques', \"downplayin'\", 'ticketytocktickety', 'duhdadadada', 'todays', \"brushin'\", '輕咬我的舌頭', 'dědka', \"bear''\", 'señora', 'grizz', 'خدا', 'ignoras', \"leavin'\", 'percs', \"'red\", 'adlibs', 'wewewewe', 'صبحونه', 'mendes', 'boomin', 'shaddy', 'وجود', 'هەڵبگرم', 'beepbeep', 'factulty', 'wutang', 'heheadshot', 'nickis', 'igual', 'nini', 'rideordies', 'yeahyeah', 'despedimos', 'ggm', 'foglalom', 'دەکات', 'payless', \"'dark\", 'm5', 'khloé', 'quavo', 'keet', 'tonkas', \"n'\", 'italt', 'دا', \"blamin'\", 'headrush', 'tamposi', \"lightin'\", 'وتیان', \"motherfuckers'\", \"kids'll\", 'winehouse', 'degrassi', 'emi', 'dic', 'заварю', \"'burb\", \"'z'\", 'loosies', 'amarás', 'gsc', 'زیاتریش', 'fuair', \"supportin'\", 'sizzy', 'killin', 'sikliyor', 'odamda', 'sentimento', 'właściwie', 'beautifullest', 'yeezy', 'nach', 'lovelolove', 'uturn', 'darrion', 'orospularsınız', 'maricón', 'heyeah', \"never'd\", 'iiiiii', 'ccccrazy', 'nagyrészében', \"likin'\", 'parkеd', 'whoaoa', 'komodo', 'cizzy', 'nena', 'twoyear', 'delala', 'escucha', 'terk', 'anocht', 'dek', \"might've\", 'toogoodformyowngood', 'driiive', 'hed', 'mkto', \"reminiscin'\", 'palewait', 'iceyo', 'نیو', 'shoops', \"gaggin'\", 'voulu', 'rajta', 'érdeklem', 'mulala', 'melyssa', '닫고', 'snl', 'odkładam', 'colour', 'takhle', 'hbo', 'vagyok', 'هەوڵدەدەن', 'los', \"slurpin'\", 'potom', 'tec9', 'tilapias', \"'burg\", 'pussyass', 'cheah', 'asla', 'spz', 'alla', 'inshallah', 'meds', 'puba', \"poundin'\", 'níos', 'diggitydog', 'ολοκληρος', 'nicopanda', 'drophead', 'carin', '0th', 'imaj', 'psychologic', 'jetskis', 'lan', \"dirtyin'\", 'دوباره', \"j'ressens\", 'dierdorf', 'aokay', 'wahlberg', 'strugglin', \"represent's\", 'ponys', 'whoah', 'emoción', 'pss', 'czuję', 'acción', 'gwaan', 'thingstime', 'wallahi', 'درستو', \"e'\", 'dozadu', 'lawsuitsfuck', 'jd', 'récolte', 'sleepin', \"'eyo\", 'لعنتیتو', 'abrafuckingcadabra', 'brbreaker', 'indominus', 'stripclub', 'bein', 'máshogyan', 'pensé', 'sureños', 'ricch', 'şaplakla', 'prérefrain', \"fairies'\", 'spoonie', 'gerekmiyor', 'troooooooah', 'nurofens', \"guidin'\", 'dinlemeye', 'خەڵاتەکانم', 'ducati', 'shih', 'glizzy', 'کردنهمه', 'ttrue', 'nanananana', 'کمتر', 'sonuna', 'kanye', 'elhinni', 'vinylz', \"dottin'\", 'fivesix', \"grainin'\", 'лайвом', 'syml', 'dided', 'puro', \"slowin'\", 'unеaten', 'achei', \"'will\", 'kеpt', 'nononononono', 'بیگرم', 'moreore', 'earings', 'aaaalalalalalchemist', 'derado', 'poptart', 'írva', 'leve', 'aways', \"ecstasyit's\", 'sneakapeek', 'eby', 'hawn', 'offishall', 'kiki', 'pongo', 'anninihilate', 'mías', 'ακομη', 'lonsdale', 'yodelodelayheehoo', \"'ox'\", 'xans', 'هستمآرهسر', 'chunli', 'kaydı', 'chickback', 'συναίσθημα', 'ból', 'hiçbirşeysiniz', 'tudom', 'çekerken', 'délivre', 'drei', 'icloud', 'cockadoodle', 'kandi', 'janky', 'poletotem', 'puede', 'sustituirte', 'rootiful', 'nickename', \"denyin'\", 'mancuso', 'caiyan', 'cœur', 'yeahhhh', \"hov's\", 'harharhard', 'plein', 'shitthat', 'голову', 'whatifs', 'thеm', 'elephantitis', \"ho'in\", 'grambling', 'steppin', 'wá', 'yellowygreen', \"hoppin'\", 'amtraks', 'gösteriden', 'juans', 'crackho', 'elevatedcelebrated', 'miscommunications', 'lect', 'atatiana', 'etz', 'lastplace', 'cherrycherrycherry', 'hahahahaha', 'γυρίσω', 'yaya', 'jatuh', 'chemlelelenemiahnufniah', 'κάποιες', 'uff', 'bloodthirst', 'بزنن', 'thisss', 'počkat', 'zajatec', 'fansif', \"declinin'\", 'giusuppes', 'zacari', 'yapar', \"sneakin'\", 'ackees', 'ставлю', 'pastipod', 'cocome', '5g', 'سطل', 'haciendo', 'lohan', 'etmicem', 'biliyorum', \"preein'\", 'haaaaaaaa', 'nepřijdu', 'lightbody', 'чтобы', 'skylar', 'آوردم', 'nich', 'morirme', 'sinceré', 'pepé', 'مردمن', 'senle', 'mayfield', 'yoar', 'miseducated', 'öldürücem', 'yays', 'ترسا', 'voll', 'fiftyone', 'حرية', 'departеd', 'ignorování', 'nutella', 'lp460', 'oooooo', 'horseses', 'şeyi', 'fai', 'lovelove', \"famil'y\", 'ix', 'depuis', 'еxpecting', \"houndin'\", 'zamordować', 'ahaha', \"gon'\", 'بی', 'wawa', 'silklined', 'lolove', 'deo', \"c'est\", 'heyy', 'vma', 'incredibles', 'exman', 'düşünmüyorum', 'sufjan', \"feelin'\", 'dooski', 'bumsee', 'tátongva', 'iovine', 'ratas', 'faggoty', 'spookay', 'boyz', \"'lü\", 'hari', 'treinta', 'maxx', 'n9ne', 'heys', 'neiman', 'vavavavanity', 'texting', 'powinna', 'muthafuckaaaa', 'στους', 'pronunciate', \"talking'\", 'rak', 'ماشین', 'tryna', 'yungstaz', 'disorted', 'pippen', 'supercalafragilisticexpealidocious', 'jodye', 'fashionista', 'rapporte', 'skepta', \"jc's\", 'ela', 'ladyya', 'dooby', 'widescreen', 'buttersworth', 'نهما', 'разных', 'llenos', 'woaoaoaoaoaoaoaoh', 'cavando', 'sadam', 'poutine', 'njeri', 'sıçrıyor', 'lerden', 'cède', 'redeye', 'madeintyo', 'bluray', 'داگ', 'tomé', 'sevřenou', 'coogis', 'fefifofum', \"storin'\", 'puttin', 'lessonsmusic', 'normani', 'mase', 'copiana', 'بێڕێزیکردن', 'detestez', 'misfortunate', \"purchasin'\", \"truth'd\", 'battlery', 'halooooo', 'aksyndicat', 'το', \"muh'fucka\", 'iğrenç', 'za', 'geico', 'sim', 'blowblow', \"d'angelo\", 'boygirl', 'bimmer', 'oktober', 'hülye', 'taz', 'tusa', \"gotta'\", 'creía', \"amusin'\", \"nuthin'\", 'intinn', \"whatever's\", 'longlong', \"apologizin'\", \"crushin'\", 'foo', 'ειναι', 'indepth', 'cheques', 'zorunluluk', 'steeler', 'selfabsorption', \"skank's\", 'jde', 'eens', 'chromazz', 'fiending', 'dissleyeceğim', 'holeinthewall', 'gogogogoddamn', 'kis', \"strippin'\", 'suficiente', 'beastie', 'fastforward', 'carona', 'manbreasts', 'miiri', 'otha', 'mile_high', \"heartbreakin'\", 'halfassed', 'ohohwaoh', 'estated', \"'ne\", 'situace', 'sisiside', 'pierdolił', 'hei', \"thou'\", 'voyce', 'xenadrine', 'pisztoly', 'richview', 'εκεί', \"'lotta\", 'eever', 'tristate', 'lolo', 'tragédie', \"loving's\", 'trex', 'wonderstruck', '8x', \"balancin'\", 'sneezy', 'lifestory', 'izzad', 'rippedoff', 'kıracak', 'őket', 'amex', 'beetlejuice', \"ballin'\", 'sevengrams', 'assfucking', 'nashawn', \"photoshootin'\", \"overseein'\", 'heeheeheeheeheehee', 'kisseth', 'uzo', 'понятно', 'wanegbt', 'crotchless', 'ridin', 'taşşaklarını', 'uma', 'salva', '我喜歡他們同時', 'greatgreatgrandchildren', 'guiseppe', 'spillin', 'عاشق', 'shadys', 'kariyerimin', 'vurdum', 'ammmm', 'sideeffects', 'ancientcity', 'soakin', 'beatboxer', 'iin', 'zamanı', 'calentón', 'görüyorsun', 'onstar', '밤은', 'analyse', 'capaz', \"'vette\", 'murdermurder', 'pendergrass', 'youstay', \"thirstin'\", 'ingerült', 'ohmamama', 'asco', 'recommencer', 'shalalalalow', 'welldone', \"relayin'\", 'tierra', \"chainsawin'\", 'poohie', \"seng'hleli\", 'дарю', 'gegegegeget', 'melihat', 'singersongwriter', \"m'sortait\", 'frette', 'calipari', 'everythang', 'mamaturn', 'amalfi', 'lmh', 'lifeaholic', 'quitte', 'youand', 'اروپا', 'bbbbye', 'aquí', 'eeeats', 'блик', 'hesaid', 'seri', 'bih', 'harga', 'recuerdo', 'arse', \"fiyaa''\", 'scower', 'شروعارو', 'nienawidzę', 'idimoni', 'reytingi', \"t'aime\", 'marajfuck', 'uppersanddowners', \"filmin'\", 'lovesong', 'serato', 'παντα', 'brah', 'nienawidzą', \"buntin'\", 'یازده', 'sista', 'mortem', 'mowti', \"gefahr'n\", 'poczekaj', \"gangsta's\", 'jansport', 'inteligente', 'muchisimas', 'ceiline', 'yeller', \"sufferin'\", 'آوری', 'sviđa', 'recieve', \"tre'\", 'looooooooong', 'pharrell', \"hopin'\", 'membiarkannya', 'bırakırım', 'skinfolk', 'moines', 'wyjęła', 'weezy', 'jakl', 'horkej', 'poso', 'pariiisah', \"rapin'\", 'tantos', 'woioiwoioiwoioiwoioiwoioi', 'wantwantwant', \"strappin'\", 'mindtwist', 'strongarm', 'chun', 'bboy', 'dupri', 'uhuhuhuhuhuh', 'domal', '감정을', 'upto', 'znepokojujících', \"'round's\", 'نکن', 'nincs', \"siblin'\", '0x', \"filling'\", 'hana', 'woooooo', 'téren', 'sto', 'badda', 'rainshine', 'sétáltunk', 'predrop', \"conscience'\", 'jackolanterns', 'creeped', 'gingеr', 'vidle', 'gardes', \"girls'\", 'sexe', 'csi', 'tre', 'chkitchkitchkitchkit', 'dulu', 'dušo', 'terlalu', 'kayış', 'nyc', 'oor', 'qué', 'cuatro', 'camoly', 'jöttek', 'didn', 'négligée', 'arkadaşım', 'rasclaats', 'recuerdas', \"proceedin'\", 'henney', 'brisé', 'everythin', 'póki', \"cccravin'\", \"exhaustin'\", '49er', 'reminesin', 'výlety', 'servе', \"ceilin'\", 'cliqua', 'feketék', \"sho'\", 'tagline', \"seducin'\", 'jealousi', 'kidnappin', \"puffy's\", 'ediyor', \"selfesteem's\", 'pyper', \"blingin'\", \"ravin'\", 'végre', \"up's\", 'boca', 'juicey', 'obserde', \"6'\", 'crewslim', 'قسم', 'malling', 'dolaba', 'soundin', '시간', 'cacher', 'teeさん', 'lllets', \"deepthroatin'\", 'toocry', 'charlamagne', 'buddybuddy', 'jaevon', 'tonka', 'drugą', 'futtatni', \"milli'\", \"bendin'\", 'laywers', 'bunu', \"hatnin'\", 'rzucałby', 'ей', 'rrrrrrrrrr', 'comecome', \"fans'\", 'itayedo', 'bufords', 'privilège', 'rockout', 'fboy', 'roadpopping', \"gaythat's\", 'agam', 'loonely', \"shaqtin'\", 'błagam', 'fbombs', 'goldlink', 'ynlka', 'mindez', 'sweepyhead', 'umarım', 'arde', 'fuhuhuck', 'hermés', 'dreson', 'دلار', 'milano', 'utrzymać', 'conoce', 'susustaining', 'starships', 'shshock', 'gambe', 'vermek', 'rrrh', 'قبل', 'countryass', 'bcbe', 'raybans', 'semana', 'cappella', 'bych', 'souououound', 'pezzo', 'wintercold', 'busa', \"knowin'\", 'statt', 'دووڕویانە', 'milla', 'haklısın', \"wagin'\", \"l'alcool\", 'sharapova', \"baggin'\", 'cambiado', 'ساڵ', 'gidiyor', 'erre', \"'lil\", 'etiuq', 'دیدم', 'hypewriter', 'تحقیق', 'megfogsz', 'rashid', 'máme', 'mmmmmmm', 'همون', \"lieb'\", 'chihiro', 'florecen', 'ruffio', 'gogogadget', \"what'll\", \"y'allyea\", 'üzücü', 'selfies', 'shitwrecked', 'потеряла', 'unsere', 'handson', 'topdown', 'littles', \"'ye\", 'zuboomboom', \"90's\", 'ringringring', 'bombardování', 'artravee', 'strippening', 'بهت', 'umh', 'glowinthedark', 'cityy', \"hawkin'\", 'nextselection', 'sidetoside', 'rothschilds', 'daly', 'preferencеs', 'pocko', \"oj's\", 'sprawiło', 'youday', 'aún', 'pushback', 'looka', 'grandbabies', 'ingles', 'stansfield', '0somethings', 'sslim', 'getbizzy', 'nobodynobody', 'followin', 'بخوازن', 'depois', 'dvsn', 'slipslide', 'bizzles', \"smckin'\", 'thisll', 'دریک', 'noohoh', \"confusin'\", \"that'd\", \"hit'em\", \"snoopin'\", 'yaptık', 'gg', 'dereon', 'muid', \"mm'\", 'oochie', 'wheeley', 'mariska', 'rispondo', 'tititlerinin', 'oso', 'hakeem', 'nemají', 'nisa', 'wildass', 'espiritu', 'snackpack', 'ekali', 'ищешь', 'götüreceğim', 'dadadadadadada', 'manolo', 'bogarted', 'hghumdaylilaaaaaaaaaaaaaaaahaah', 'boğazını', 'buscaré', 'флаг', 'minogue', 'saudy', 'ww', 'customkitted', 'dusze', 'whassap', 'gims', \"l'oréal\", 'fudgesicles', 'eww', 'lainie', \"''hold\", 'iverson', 'kweeb', 'ticktickticktick', \"winnin'\", 'dpgc', 'şu', 'mababu', \"icegrillin'\", 'ccandy', 'lativia', 'serré', 'ostatnim', 'samuels', 'continente', 'actuallyand', 'perdonarte', 'ряд', \"l'aperçois\", 'bere', 'زندگی', 'nightmareanyone', 'hookin', 'comiclike', '像咒語玩意', 'ventes', \"fox'll\", 'nyafogok', 'asskicking', 'افتاده', 'najimy', 'ناین', 'مسئولیت', 'dari', 'zombieieie', 'sesini', 'smcking', \"naunie's\", 'fui', 'attacktacktacking', 'afriky', 'swv', 'cartera', 'snaží', 'reallife', 'بوو', 'waypink', 'danno', 'что', 'gelatins', \"dehydratin'\", \"danglin'\", 'بوەستە', 'oolong', 'смотри', \"i'mi'm\", 'شاتاشاره', \"qu'être\", 'thenand', 'rott', \"asphyxiatin'\", 'nevermetmyself', 'boosie', \"rockin'\", 'outgrind', 'inekleri', 'tantas', 'estão', 'makaveli', \"'causes\", 'ceelo', 'placemat', 'eventhough', \"'finna\", 'bumbums', 'pořádných', 'yitadel', 'diznick', 'néha', \"would''\", 'merde', 'shadia', 'enredarme', 'nowcan', 'palin', 'laughin', 'uhuhuhoh', \"solet's\", 'pppopping', 'kuti', \"deservin'\", 'hehe', \"paddlin'\", \"curlin'\", \"welch's\", 'avacado', 'piensan', \"pair'll\", \"son'll\", 'этого', 'dareyoubitch', 'raine', 'veux', 'badingham', 'yala', 'apartup', \"m'étendre\", 'ocurr', 'suge', \"backin'\", 'érted', 'دارن', 'fittin', 'vrummvrumm', 'nappyheaded', \"ye'\", 'zoner', 'fanabitch', 'herc', 'inschool', 'tocando', 'estuve', 'upsetcrycry', 'tomo', 'ئەم', 'ibomb', 'diguise', 'bezos', 'diggin', 'konusuna', 'mediumrare', 'filles', 'hátat', 'redding', \"act'\", 'straně', 'çocuklara', 'heartdelicate', 'mojej', 'corso', \"divorcin'\", 'juug', 'dando', \"'where\", 'discrimina', 'blastin', 'clipclack', 'rátudjak', 'احیا', 'catscans', 'захочу', \"ave's\", 'gehgehgeh', 'чувств', 'ithought', 'małe', 'overdddose', 'endzone', 'lessonscut', 'berninger', 'estado', \"ending'\", '6ix', 'bombit', 'سعی', 'motohead', 'selener', 'زخم', 'beaky', 'adonde', 'n9', 'saçma', 'nypd', 'bririririring', 'bg', 'nooooo', 'damplified', 'wagyu', 'eazy', 'elsétálhattunk', 'workin', 'efggood', 'hmmhmm', 'cuttin', 'cheesehead', \"pleasin'\", 'rosé', 'twelveyearold', 'outdrink', 'buring', 'highlow', 'fiftytwo', 'trae', \"eagles'll\", 'toptier', 'llif', 'rexall', \"changin'\", 'gurls', \"lootin'\", 'zakładasz', 'radiothe', \"comcomcomin'\", '0s', 'turnaway', 'hulu', 'oluyorsun', 'fenchurch', 'nekem', 'üçlü', 'daygetaway', '888cutsomething', 'smartass', \"clearin'\", 'sublims', 'yaaaaah', 'yadder', 'sense8', 'ما', 'childrens', 'simmon', 'mamasibo', 'tnt', \"fin'\", 'dre', \"doggin'\", 'mešity', \"conkin'\", 'ahh', 'chalker', 'snad', 'lloraré', 'gunnas', 'lolololololo', 'pense', 'próbáltam', 'mepending', 'رادنی', 'mumblin', 'lеad', 'mijn', 'thorlike', 'hahahahahaaaaa', 'ayye', 'raptopaythebills', 'toppoptimisttoppoptimist', 'onenight', 'steepy', 'çim', 'کاشتم', 'jeremih', 'infierno', 'percayalah', 'sweetscented', 'sağla', \"raggin'\", 'durmam', 'پە', \"'9\", 'rcve', \"crazygluin'\", 'yabadabadoo', '6yearold', 'olurdu', 'geazy', 'yazıyorum', 'updatebazzi', 'taşaklarıyla', 'luomo', 'kaffee', 'derpa', 'spitshine', 'گۆرانیەکانم', 'tyme', 'punkass', 'mavi', 'stayho', 'ohohohiii', 'jizzle', 'wray', 'taskit', \"harrowin'\", 'rayray', 'navoho', 'sеcret', 'rollies', 'ná', 'baleed', 'dugni', 'vertaback', \"huffin'\", 'keke', 'toottoot', 'bootyful', 'luchando', \"startin's\", 'ish', 'mismo', 'hasbeens', \"cringin'\", 'ddead', 'remsen', 'pretaped', 'ohayo', 'trinis', 'jett', \"'ville\", 'ohhhoooooooooooooooooooooowww', \"d'ongles\", \"pen'll\", 'بدم', 'sinslooks', 'monstres', 'breonna', 'upa', 'fallin', 'nationwidethats', \"anythin'\", 'yoluna', \"speedin'\", 'řečeno', \"'te\", \"grinnin'\", 'havaya', 'cuento', 'neo', 'highdive', 'skyrise', 'girlsgirlsgirls', 'korkuyor', 'röhögtünk', 'cooloffcool', 'benteley', 'enko', \"afuckin'gain\", 'ganimetin', 'seferden', 'goesit', 'treba', 'sippin', \"twistin'\", 'litera', 'okreni', 'ttossed', 'symbiote', 'daddys', 'kpaka', 'دادناز', 'ortaya', 'shoppin', 'desalvo', 'rec', 'ari', 'pleaser', 'seeying', \"kissin'kissin'\", 'highgate', 'rey', 'lumos', \"besarno'\", 'ışıkla', \"mindbogglin'\", 'keanu', 'dididididadadey', 'wuchoo', 'yumurtulamaya', 'ئازار', 'کەس', 'chaud', 'δω', 'bbbeing', 'xmen', \"maintainin'\", 'lapd', \"stereotypin'\", 'hussaine', 'halfpinters', 'willkommen', 'somebodys', 'fortyeight', 'hawiti', 'benzo', 'sufrir', 'lasto', 'theirselves', 'prenne', 'accelerants', \"dawnin'\", 'niedyskrecje', 'hmhmm', 'smidoke', 'extrañándote', 'donedone', 'deterior', 'blanka', 'misschien', 'داری', 'yakında', 'emhow', 'ngozi', 'sait', \"cansao'\", 'glamophonic', 'tes', 'belsoğukluğu', 'boyboyboy', 'hahahahahahahahahahahaha', 'ov', 'macavity', 'چشمای', 'atau', \"applebee's\", \"observin'\", 'diggity', 'strongwilled', 'hasthis', 'iyi', 'idonotknowwhatthefuckyouthoughtitwas', 'threepiece', 'ferrigno', \"'nessed\", 'siyavuma', \"tan'\", 'gooder', 'mój', \"fugaz'\", 'sweetnsour', 'fumoir', 'mvp', 'rara', 'gona', 'doublecheek', 'fantôme', 'januaryfebruary', 'giuseppes', 'dadadadum', \"wе're\", 'канистру', 'aaaaaaah', 'discostick', 'precoro', 'tıpkı', 'dopeboy', 'coochie', 'jeho', 'yall', 'şey', 'دەبیستم', 'beetz', 'cevap', 'sidebyside', 'gitmeliyim', 'né', 'choos', \"blushin'\", 'پس', 'siento', 'gratefu', 'atinlay', 'cest', \"'cccause\", 'össze', 'boudin', 'chiling', 'rocafella', 'katına', \"'99\", 'kapetan', 'değil', 'vo5', 'loselose', 'jalapeno', 'isten', 'ezee', 'chtěl', '討厭那快感', \"hipócrita'\", 'tanıdık', 'meningen', \"vacant's\", 'fastidio', 'گەورە', 'viví', 'هیجان', 'visualise', 'düşündüğünü', 'allpoints', 'سەدا', 'jackolantern', 'لاین', 'desse', 'hrdiny', 'rerate', 'знаешь', 'حرفای', 'trainwreck', 'capenese', \"plankin'\", 'scissorleg', 'dumpin', 'striptopaythebills', 'gibbo', 'midoc', 'میوزیکە', 'milanoya', 'déjàvu', \"tellin'\", 'εχουμε', 'flatlined', 'demektir', 'ئاستتدا', \"o'neal\", 'tgif', 'interludeupgrade', 'bla', \"kiddin'\", 'mcewan', 'cantando', \"earnin'\", 'beggining', \"'gangsta\", 'tryina', \"bell'n\", 'drivin', 'taj', 'teairra', \"'mountin'\", 'تای', 'بکوژە', 'brbrbreak', 'klonopin', 'быстро', 'ando', 'przypisywać', 'diyor', 'supermalts', 'tweece', 'yeeaaaah', 'pinkprint', 'recours', 'plottin', \"shady's\", \"buncha'\", 'سفید', 'soustředí', \"baballin'\", 'waterpark', 'putash', 'dups', 'κοσμος', \"borin'\", 'magnavox', 'fallouts', 'cyfer', 'katrin', \"lcver's\", 'youwho', \"pattycakin'\", 'cpt', 'trippedout', 'ritchie', 'whatchu', 'twonovember', 'yayyayyayya', 'kibaszott', 'nautica', 'netnetnet', 'travi', 'dimetapp', \"conjurin'\", 'graspin', 'dddddollardollar', 'oakwoods', \"blunt's\", 'mrchows', 'nasa', 'فقر', 'sittin', \"woll'n\", \"daydreamin'\", 'savour', '灑在牆上的血跡', \"'cau'cau'cause\", 'jin', 'parola', 'yvp', 'ncck', \"dom's\", 'audé', 'tellerini', \"'tán\", 'comе', 'richshamed', 'بالا', 'andrelli', 'zyskać', \"peoples'\", 'nooo', 'adet', 'uykusuna', 'heenan', 'ciężarów', \"weird's\", 'sixpack', 'pra', 'csapatunkat', 'hailey', 'melalui', 'wineanddine', 'bailando', 'imprescindible', 'tellem', 'mya', 'n5', \"dippin'\", 'skeletor', 'hereneed', 'amúgy', 'hifi', 'insaneness', \"cain't\", 'demet', 'midnovember', 'klepto', 'makinene', 'شاد', \"'swiss\", 'purty', 'kalmamalıyım', 'meine', 'goed', 'nejspíš', 'aventura', \"pre'\", 'saml', 'laiqwan', '無法遺失的擁抱', 'dolcegabbana', 'minch', 'schoolbell', 'dadun', 'devs', 'bitchwar', 'oczyma', 'sé', \"'tll\", 'houstatlanta', 'boida', 'dearmad', 'éme', 'dodododadaday', 'eoooow', \"survivin'\", 'aerosmith', \"thing'll\", 'apagao', \"leggin'\", 'izzask', 'boomboom', 'hustlin', 'vlone', 'doublestandards', 'valorar', 'msfts', \"'baby\", 'husher', 'confusão', 'ayırdım', 'rozciąga', 'schováš', 'cn', 'hahahahahoh', 'laquifa', 'giriş', 'muthafuckers', 'goozer', 'virgen', 'mijnе', 'enought', 'مخاطبش', \"arby's\", 'zeigt', 'ohohwoah', \"i'on\", 'schémas', 'siduck', 'reparesent', 'boogying', 'deeby', \"jayz's\", 'coasttocoast', 'hahahahahahahahaha', 'effin', 'şaka', 'watermellon', 'yeaaah', \"yo'\", 'roeper', 'cheeto', 'arriba', '視你如偶像', 'aidsinfested', 'lptha', 'selfpreservation', 'pecar', 'twhy', 'chillin', 'soooooh', 'rigth', 'brеaking', \"leakin'\", \"'cross\", 'uniand', 'deberías', 'fims', 'corazon', 'vengo', 'meurice', 'whooptydo', 'bigbabigbig', 'verás', 'vickory', 'kyuhh', \"e'rryday\", 'undees', 'ڕوون', 'rearview', 'alloffensiveonpurpose', 'aw', 'timeif', 'gaohohoh', 'ortizrivera', 'всю', 'illmatic', 'ironique', 'bajo', 'truthteller', 'dropspublic', 'ddark', 'söylememen', 'ciğerinizde', 'sona', 'ritmo', '4rd', 'anlaşma', 'ebk', 'arie', 'sanó', 'mayne', \"cru's\", 'deuxième', 'lovehate', 'vamos', \"moanin'\", 'pofán', \"glancin'\", \"blowin'\", 'کاریشونو', 'searchin', 'walken', \"'you\", 'reali', 'ze', 'ayi', \"boppin'\", 'thc', 'زیرزمینی', 'cehennemden', 'synthroid', 'breastes', \"missing's\", \"injectin'\", 'دیگه', 'jingleball', 'frío', 'duydun', 'zanottis', 'bas', 'acobardarme', \"hon'\", 'stadio', 'pasar', 'بعضی', 'anythang', 'ποτε', 'sixteenthcentury', \"playerhatin'\", 'halfpint', \"recognizin'\", 'topfloor', 'tadahda', \"stpatty's\", 'dogshit', 'слишком', 'mords', \"beginnin'\", \"iti've\", 'floaties', 'نمیکنممن', '富士山芸者も脱帽', '輪七指', 'vape', 'cujo', 'eevery', 'thischeck', \"suckin'\", 'interessante', 'bouger', '40somethings', 'llamando', 'hollerin', 'فک', 'smartaleck', 'px', \"clinkin'\", 'señorita', 'fordítva', 'evi', 'tonguesalright', 'dutty', 'menyimpang', 'значит', 'neredeyse', 'گذشته', 'zastavte', 'ddddash', \"conditionin'\", 'psychoyeah', 'کیر', 'gorzko', 'você', \"zinati's\", 'cristhian', 'istemiyorsun', 'dickesten', 'où', 'woooh', 'vading', 'توی', 'tanıtmama', 'herhangi', 'fx', 'etrangers', 'denzel', 'thirtyfour', 'dj', 'qoqa', \"sco'\", 'fulills', 'koi', 'armdancing', 'mobbin', 'کنار'}\n"
     ]
    }
   ],
   "source": [
    "# from spellchecker import SpellChecker\n",
    "\n",
    "# spell = SpellChecker()\n",
    "\n",
    "# def count_misspelled_words(text):\n",
    "#     if not isinstance(text, str):\n",
    "#         return 0\n",
    "#     words = text.split()\n",
    "#     misspelled = spell.unknown(words)\n",
    "#     return len(misspelled)\n",
    "\n",
    "# total_misspelled_words = new_df['Lyric'].apply(count_misspelled_words).sum()\n",
    "# print(f\"Total misspelled words: {total_misspelled_words}\")\n",
    "\n",
    "# # def correct_spelling(text):\n",
    "# #     if not isinstance(text, str):\n",
    "# #         return text\n",
    "# #     corrected_words = []\n",
    "# #     for word in text.split():\n",
    "# #         corrected = spell.correction(word)\n",
    "# #         corrected_words.append(corrected if corrected else word)\n",
    "# #     return ' '.join(corrected_words)\n",
    "\n",
    "from spellchecker import SpellChecker\n",
    "\n",
    "spell = SpellChecker()\n",
    "\n",
    "# Function to return misspelled words in a text\n",
    "def get_misspelled_words(text):\n",
    "    if not isinstance(text, str):\n",
    "        return []\n",
    "    words = text.split()\n",
    "    return list(spell.unknown(words))\n",
    "\n",
    "# # create a new column with misspelled words\n",
    "# new_df['Misspelled_Words'] = new_df['Lyric'].apply(get_misspelled_words)\n",
    "\n",
    "# # Total misspelled words count\n",
    "# total_misspelled_words = new_df['Misspelled_Words'].apply(len).sum()\n",
    "# print(f\"Total misspelled words: {total_misspelled_words}\")\n",
    "\n",
    "# # View the misspelled words only (unique across dataset)\n",
    "# from itertools import chain\n",
    "\n",
    "# all_misspelled = list(chain.from_iterable(new_df['Misspelled_Words']))\n",
    "# unique_misspelled = set(all_misspelled)\n",
    "\n",
    "# print(f\"Unique misspelled words ({len(unique_misspelled)}):\")\n",
    "# print(unique_misspelled)\n",
    "\n",
    "# # View the first 10 rows with their misspelled words\n",
    "# print(new_df[['Misspelled_Words']].head(10))\n",
    "\n",
    "misspelled_words = new_df['Lyric'].apply(get_misspelled_words)\n",
    "total_misspelled_words = misspelled_words.apply(len).sum()\n",
    "print(f\"Total misspelled words: {total_misspelled_words}\")\n",
    "\n",
    "# Unique misspelled words\n",
    "unique_misspelled = set(misspelled_words.explode().dropna().tolist())\n",
    "print(f\"Unique misspelled words ({len(unique_misspelled)}):\")\n",
    "print(unique_misspelled)  \n",
    "\n",
    "new_df['Misspelled_Words'] = new_df['Lyric'].apply(get_misspelled_words)\n",
    "  \n"
   ]
  },
  {
   "cell_type": "code",
   "execution_count": 104,
   "metadata": {},
   "outputs": [
    {
     "data": {
      "text/html": [
       "<div>\n",
       "<style scoped>\n",
       "    .dataframe tbody tr th:only-of-type {\n",
       "        vertical-align: middle;\n",
       "    }\n",
       "\n",
       "    .dataframe tbody tr th {\n",
       "        vertical-align: top;\n",
       "    }\n",
       "\n",
       "    .dataframe thead th {\n",
       "        text-align: right;\n",
       "    }\n",
       "</style>\n",
       "<table border=\"1\" class=\"dataframe\">\n",
       "  <thead>\n",
       "    <tr style=\"text-align: right;\">\n",
       "      <th></th>\n",
       "      <th>Artist</th>\n",
       "      <th>Title</th>\n",
       "      <th>Lyric</th>\n",
       "      <th>Misspelled_Words</th>\n",
       "    </tr>\n",
       "  </thead>\n",
       "  <tbody>\n",
       "    <tr>\n",
       "      <th>0</th>\n",
       "      <td>Ariana Grande</td>\n",
       "      <td>​thank u, next</td>\n",
       "      <td>thought i'd end up with sean but he wasn't a m...</td>\n",
       "      <td>[fuckin', 'bout, nothin', gon', yee, 'cause, a...</td>\n",
       "    </tr>\n",
       "    <tr>\n",
       "      <th>1</th>\n",
       "      <td>Ariana Grande</td>\n",
       "      <td>7 rings</td>\n",
       "      <td>yeah breakfast at tiffany's and bottles of bub...</td>\n",
       "      <td>[gleamin', beamin', gon', lookin', tiffany's, ...</td>\n",
       "    </tr>\n",
       "    <tr>\n",
       "      <th>2</th>\n",
       "      <td>Ariana Grande</td>\n",
       "      <td>​god is a woman</td>\n",
       "      <td>you you love it how i move you you love it how...</td>\n",
       "      <td>[tellin', onetrack, feelin', uniwhen, pre]</td>\n",
       "    </tr>\n",
       "    <tr>\n",
       "      <th>3</th>\n",
       "      <td>Ariana Grande</td>\n",
       "      <td>side to side</td>\n",
       "      <td>ariana grande nicki minaj i've been here all n...</td>\n",
       "      <td>[minime, nicki, minaj, talkin', ménage, ii, ye...</td>\n",
       "    </tr>\n",
       "    <tr>\n",
       "      <th>4</th>\n",
       "      <td>Ariana Grande</td>\n",
       "      <td>​​no tears left to cry</td>\n",
       "      <td>right now i'm in a state of mind i want to be ...</td>\n",
       "      <td>[lovin', pickin', comin', turnin', ohyeah, 'em...</td>\n",
       "    </tr>\n",
       "    <tr>\n",
       "      <th>...</th>\n",
       "      <td>...</td>\n",
       "      <td>...</td>\n",
       "      <td>...</td>\n",
       "      <td>...</td>\n",
       "    </tr>\n",
       "    <tr>\n",
       "      <th>5744</th>\n",
       "      <td>Taylor Swift</td>\n",
       "      <td>teardrops on my guitar (live from clear channe...</td>\n",
       "      <td>drew looks at me i fake a smile so he won't se...</td>\n",
       "      <td>[pre, 'cause, whos]</td>\n",
       "    </tr>\n",
       "    <tr>\n",
       "      <th>5745</th>\n",
       "      <td>Taylor Swift</td>\n",
       "      <td>evermore [forward]</td>\n",
       "      <td>to put it plainly we just couldnt stop writing...</td>\n",
       "      <td>[ive, couldnt, folklorian, dreamscapes, oneoff...</td>\n",
       "    </tr>\n",
       "    <tr>\n",
       "      <th>5746</th>\n",
       "      <td>Taylor Swift</td>\n",
       "      <td>welcome back grunwald</td>\n",
       "      <td>turn wycd on you're on your grunwald back from...</td>\n",
       "      <td>[grunwald's, wycd, grunwald]</td>\n",
       "    </tr>\n",
       "    <tr>\n",
       "      <th>5747</th>\n",
       "      <td>Taylor Swift</td>\n",
       "      <td>tolerate it (polskie tłumaczenie)</td>\n",
       "      <td>zwrotka siedzę i patrzę jak czytasz z głową po...</td>\n",
       "      <td>[cię, zwycięzcę, światy, tyle, jedynie, dzieje...</td>\n",
       "    </tr>\n",
       "    <tr>\n",
       "      <th>5748</th>\n",
       "      <td>Taylor Swift</td>\n",
       "      <td>find you</td>\n",
       "      <td>trying just like they say just taking the step...</td>\n",
       "      <td>[]</td>\n",
       "    </tr>\n",
       "  </tbody>\n",
       "</table>\n",
       "<p>5711 rows × 4 columns</p>\n",
       "</div>"
      ],
      "text/plain": [
       "             Artist                                              Title  \\\n",
       "0     Ariana Grande                                     ​thank u, next   \n",
       "1     Ariana Grande                                            7 rings   \n",
       "2     Ariana Grande                                    ​god is a woman   \n",
       "3     Ariana Grande                                       side to side   \n",
       "4     Ariana Grande                             ​​no tears left to cry   \n",
       "...             ...                                                ...   \n",
       "5744   Taylor Swift  teardrops on my guitar (live from clear channe...   \n",
       "5745   Taylor Swift                                 evermore [forward]   \n",
       "5746   Taylor Swift                              welcome back grunwald   \n",
       "5747   Taylor Swift                  tolerate it (polskie tłumaczenie)   \n",
       "5748   Taylor Swift                                           find you   \n",
       "\n",
       "                                                  Lyric  \\\n",
       "0     thought i'd end up with sean but he wasn't a m...   \n",
       "1     yeah breakfast at tiffany's and bottles of bub...   \n",
       "2     you you love it how i move you you love it how...   \n",
       "3     ariana grande nicki minaj i've been here all n...   \n",
       "4     right now i'm in a state of mind i want to be ...   \n",
       "...                                                 ...   \n",
       "5744  drew looks at me i fake a smile so he won't se...   \n",
       "5745  to put it plainly we just couldnt stop writing...   \n",
       "5746  turn wycd on you're on your grunwald back from...   \n",
       "5747  zwrotka siedzę i patrzę jak czytasz z głową po...   \n",
       "5748  trying just like they say just taking the step...   \n",
       "\n",
       "                                       Misspelled_Words  \n",
       "0     [fuckin', 'bout, nothin', gon', yee, 'cause, a...  \n",
       "1     [gleamin', beamin', gon', lookin', tiffany's, ...  \n",
       "2            [tellin', onetrack, feelin', uniwhen, pre]  \n",
       "3     [minime, nicki, minaj, talkin', ménage, ii, ye...  \n",
       "4     [lovin', pickin', comin', turnin', ohyeah, 'em...  \n",
       "...                                                 ...  \n",
       "5744                                [pre, 'cause, whos]  \n",
       "5745  [ive, couldnt, folklorian, dreamscapes, oneoff...  \n",
       "5746                       [grunwald's, wycd, grunwald]  \n",
       "5747  [cię, zwycięzcę, światy, tyle, jedynie, dzieje...  \n",
       "5748                                                 []  \n",
       "\n",
       "[5711 rows x 4 columns]"
      ]
     },
     "execution_count": 104,
     "metadata": {},
     "output_type": "execute_result"
    }
   ],
   "source": [
    "new_df"
   ]
  },
  {
   "cell_type": "code",
   "execution_count": 105,
   "metadata": {},
   "outputs": [
    {
     "name": "stdout",
     "output_type": "stream",
     "text": [
      "Requirement already satisfied: nltk in c:\\users\\lenovo\\anaconda3\\lib\\site-packages (3.9.1)\n",
      "Requirement already satisfied: click in c:\\users\\lenovo\\anaconda3\\lib\\site-packages (from nltk) (8.1.7)\n",
      "Requirement already satisfied: joblib in c:\\users\\lenovo\\anaconda3\\lib\\site-packages (from nltk) (1.4.2)\n",
      "Requirement already satisfied: regex>=2021.8.3 in c:\\users\\lenovo\\anaconda3\\lib\\site-packages (from nltk) (2024.9.11)\n",
      "Requirement already satisfied: tqdm in c:\\users\\lenovo\\anaconda3\\lib\\site-packages (from nltk) (4.66.5)\n",
      "Requirement already satisfied: colorama in c:\\users\\lenovo\\anaconda3\\lib\\site-packages (from click->nltk) (0.4.6)\n",
      "Note: you may need to restart the kernel to use updated packages.\n"
     ]
    }
   ],
   "source": [
    "pip install nltk"
   ]
  },
  {
   "cell_type": "code",
   "execution_count": 106,
   "metadata": {},
   "outputs": [],
   "source": [
    "import re\n",
    "from spellchecker import SpellChecker\n",
    "from collections import Counter\n",
    "from nltk.corpus import words\n",
    "import nltk"
   ]
  },
  {
   "cell_type": "code",
   "execution_count": 107,
   "metadata": {},
   "outputs": [],
   "source": [
    "# nltk.download('all')\n",
    "# spell = SpellChecker()\n",
    "# english_words = set(words.words())\n",
    "\n",
    "# def is_contraction(word):\n",
    "#     patterns = [r\".*in'$\", r\".*n'$\", r\"^ain’t$\", r\".*’re$\", r\".*’ll$\", r\".*’t$\"]\n",
    "#     return any(re.match(pattern, word.lower()) for pattern in patterns)\n",
    "\n",
    "# def is_keep_word(word):\n",
    "#     patterns = [\n",
    "#         r\"^(yee|woo|ayy|ooh|uhh|ha|brr|skrrt|la|oh|woah)+$\",  # Ad-libs and repeated syllables\n",
    "#         # r\".*(.)\\1{2,}.*\",  # Repeated letters (e.g., skrrrt, yesss)\n",
    "#         # r\"^[a-z]+(z|s){2,}$\"  # Words ending in multiple z/s (e.g., buzzz)\n",
    "#     ]\n",
    "#     return any(re.match(pattern, word.lower()) for pattern in patterns)\n",
    "\n",
    "# def is_non_english(word):\n",
    "#     return bool(re.search(r'[^\\x00-\\x7F]', word))  # Non-ASCII characters\n",
    "\n",
    "# def has_numbers(word):\n",
    "#     return bool(re.search(r'\\d', word.lower())) \n",
    "\n",
    "# def build_valid_words(texts, min_freq=5):\n",
    "#     all_words = []\n",
    "#     for text in texts:\n",
    "#         if isinstance(text, str):\n",
    "#             all_words.extend(text.split())\n",
    "#     word_counts = Counter(all_words)\n",
    "#     valid_words = set(word.lower() for word, count in word_counts.items()\n",
    "#                       if count >= min_freq and not has_numbers(word) and\n",
    "#                       (is_contraction(word) or is_keep_word(word)))\n",
    "#     valid_words.update(word for word in english_words if not has_numbers(word))\n",
    "#     return valid_words\n",
    "\n",
    "# def build_valid_words(texts, min_freq=5):\n",
    "#     all_words = []\n",
    "#     for text in texts:\n",
    "#         if isinstance(text, str):\n",
    "#             all_words.extend(text.split())\n",
    "#     word_counts = Counter(all_words)\n",
    "#     valid_words = set(word.lower() for word, count in word_counts.items()\n",
    "#                       if count >= min_freq and not has_numbers(word) and\n",
    "#                       (is_contraction(word) or is_keep_word(word)))\n",
    "#     valid_words.update(word for word in english_words if not has_numbers(word))\n",
    "#     return valid_words\n",
    "\n",
    "# def preprocess_text(text, valid_words):\n",
    "#     if not isinstance(text, str):\n",
    "#         return '', [], []\n",
    "#     words = text.split()\n",
    "#     processed_words = []\n",
    "#     word_lengths = []\n",
    "#     corrected_words = []\n",
    "#     misspelled = (\n",
    "#         'rumplestilskin', 'přijde', 'crunked', 'foreverholdagrudge', 'sneezin',\n",
    "#         'seeeeat', 'boogieoogieoogie', 'therealyou', 'ventin',\n",
    "#         'hahahah', 'mighta', 'mulsanne', 'chillin', 'buttdial', 'bimmer',\n",
    "#         'flyest', 'bleh', 'puuuuuuuke', 'rollup', 'rosecolored'\n",
    "#     )\n",
    "#     for word in words:\n",
    "#         word_lower = word.lower()\n",
    "#         if has_numbers(word):\n",
    "#             corrected_words.append(f\"{word}→Removed(Number)\")\n",
    "#             continue\n",
    "#         if word_lower in misspelled:\n",
    "#             corrected_words.append(f\"{word}→Removed(Misspelled)\")\n",
    "#             continue\n",
    "#         if word_lower in valid_words or is_contraction(word) or is_keep_word(word):\n",
    "#             processed_words.append(word)\n",
    "#             corrected_words.append(f\"{word}→None\")\n",
    "#         elif is_non_english(word):\n",
    "#             corrected_words.append(f\"{word}→Removed(Non-English)\")\n",
    "#             continue\n",
    "#         else:\n",
    "#             correction = spell.correction(word)\n",
    "#             if correction and not has_numbers(correction) and correction in english_words:\n",
    "#                 processed_words.append(correction)\n",
    "#                 corrected_words.append(f\"{word}→{correction}\")\n",
    "#             else:\n",
    "#                 processed_words.append(word)\n",
    "#                 corrected_words.append(f\"{word}→None\")\n",
    "#     return ' '.join(processed_words), word_lengths, corrected_words\n"
   ]
  },
  {
   "cell_type": "code",
   "execution_count": 108,
   "metadata": {},
   "outputs": [
    {
     "name": "stderr",
     "output_type": "stream",
     "text": [
      "[nltk_data] Downloading package words to\n",
      "[nltk_data]     C:\\Users\\LENOVO\\AppData\\Roaming\\nltk_data...\n",
      "[nltk_data]   Package words is already up-to-date!\n"
     ]
    }
   ],
   "source": [
    "import re\n",
    "from collections import Counter\n",
    "from spellchecker import SpellChecker\n",
    "from nltk.corpus import words\n",
    "import nltk\n",
    "\n",
    "# Make sure you have downloaded required nltk packages:\n",
    "nltk.download('words')\n",
    "\n",
    "spell = SpellChecker()\n",
    "english_words = set(words.words())\n",
    "\n",
    "def is_contraction(word):\n",
    "    patterns = [r\".*in'$\", r\".*n'$\", r\"^ain’t$\", r\".*’re$\", r\".*’ll$\", r\".*’t$\"]\n",
    "    return any(re.match(pattern, word.lower()) for pattern in patterns)\n",
    "\n",
    "def is_keep_word(word):\n",
    "    patterns = [\n",
    "        r\"^(yee|woo|ayy|ooh|uhh|ha|brr|skrrt|la|oh|woah)+$\",  # Ad-libs and repeated syllables\n",
    "        # Uncomment below if you want to allow repeated letters or endings with multiple z/s\n",
    "        # r\".*(.)\\1{2,}.*\",  # Repeated letters (e.g., skrrrt, yesss)\n",
    "        # r\"^[a-z]+(z|s){2,}$\"  # Words ending in multiple z/s (e.g., buzzz)\n",
    "    ]\n",
    "    return any(re.match(pattern, word.lower()) for pattern in patterns)\n",
    "\n",
    "def is_non_english(word):\n",
    "    return bool(re.search(r'[^\\x00-\\x7F]', word))  # Contains non-ASCII\n",
    "\n",
    "def has_numbers(word):\n",
    "    return bool(re.search(r'\\d', word))\n",
    "\n",
    "def build_valid_words(texts, min_freq=5):\n",
    "    all_words = []\n",
    "    for text in texts:\n",
    "        if isinstance(text, str):\n",
    "            all_words.extend(text.split())\n",
    "    word_counts = Counter(all_words)\n",
    "    valid_words = set(word.lower() for word, count in word_counts.items()\n",
    "                      if count >= min_freq and not has_numbers(word) and\n",
    "                      (is_contraction(word) or is_keep_word(word)))\n",
    "    valid_words.update(word for word in english_words if not has_numbers(word))\n",
    "    return valid_words\n",
    "\n",
    "def preprocess_text(text, valid_words):\n",
    "    if not isinstance(text, str):\n",
    "        return '', [], []\n",
    "    words_in_text = text.split()\n",
    "    processed_words = []\n",
    "    word_lengths = []\n",
    "    corrected_words = []\n",
    "\n",
    "    for word in words_in_text:\n",
    "        word_lower = word.lower()\n",
    "        if has_numbers(word):\n",
    "            corrected_words.append(f\"{word}→Removed(Number)\")\n",
    "            continue  # Remove words with numbers\n",
    "\n",
    "        if is_non_english(word):\n",
    "            corrected_words.append(f\"{word}→Removed(Non-English)\")\n",
    "            continue  # Remove non-English words\n",
    "\n",
    "        # Check spelling using SpellChecker\n",
    "        misspelled_set = spell.unknown([word_lower])\n",
    "\n",
    "        if word_lower in valid_words or is_contraction(word) or is_keep_word(word):\n",
    "            # Word is valid or allowed contraction/slang\n",
    "            processed_words.append(word)\n",
    "            corrected_words.append(f\"{word}→None\")\n",
    "        elif misspelled_set:\n",
    "            # Word is misspelled - try to correct\n",
    "            correction = spell.correction(word_lower)\n",
    "            if correction and correction in english_words and not has_numbers(correction):\n",
    "                processed_words.append(correction)\n",
    "                corrected_words.append(f\"{word}→{correction}\")\n",
    "            else:\n",
    "                # Can't correct - remove word\n",
    "                corrected_words.append(f\"{word}→Removed(Misspelled)\")\n",
    "        else:\n",
    "            # Word is spelled correctly but not in valid_words (rare)\n",
    "            processed_words.append(word)\n",
    "            corrected_words.append(f\"{word}→None\")\n",
    "\n",
    "    return ' '.join(processed_words), word_lengths, corrected_words\n"
   ]
  },
  {
   "cell_type": "code",
   "execution_count": 109,
   "metadata": {},
   "outputs": [
    {
     "name": "stdout",
     "output_type": "stream",
     "text": [
      "Original: I nothin' ridin' ain't goooogle sevan books| gonna rumplestilskin', 'přijde', 'crunked', 'foreverholdagrudge'let this crunked night stop me!\n",
      "Processed: I nothin' ridin' ain't seven gonna this cranked night stop me\n",
      "Corrections: ['I→None', \"nothin'→None\", \"ridin'→None\", \"ain't→None\", 'goooogle→Removed(Misspelled)', 'sevan→seven', 'books|→Removed(Misspelled)', 'gonna→None', \"rumplestilskin',→Removed(Misspelled)\", \"'přijde',→Removed(Non-English)\", \"'crunked',→Removed(Misspelled)\", \"'foreverholdagrudge'let→Removed(Misspelled)\", 'this→None', 'crunked→cranked', 'night→None', 'stop→None', 'me!→me']\n",
      "\n",
      "Original: Yee skrrt ayy woo ooh ha brr\n",
      "Processed: Yee skrrt ayy woo ooh ha brr\n",
      "Corrections: ['Yee→None', 'skrrt→None', 'ayy→None', 'woo→None', 'ooh→None', 'ha→None', 'brr→None']\n",
      "\n",
      "Original: This is a test oaky sentence with some स्क्रिप्ट विशेषता rumplestilskin chillin 6ty in my bimmer misspelled wrds and numbers 1234.\n",
      "Processed: This is a test oaky sentence with some chilling in my simmer misspelled and numbers\n",
      "Corrections: ['This→None', 'is→None', 'a→None', 'test→None', 'oaky→None', 'sentence→None', 'with→None', 'some→None', 'स्क्रिप्ट→Removed(Non-English)', 'विशेषता→Removed(Non-English)', 'rumplestilskin→Removed(Misspelled)', 'chillin→chilling', '6ty→Removed(Number)', 'in→None', 'my→None', 'bimmer→simmer', 'misspelled→None', 'wrds→Removed(Misspelled)', 'and→None', 'numbers→None', '1234.→Removed(Number)']\n",
      "\n"
     ]
    }
   ],
   "source": [
    "texts = [\n",
    "    \"I nothin' ridin' ain't goooogle sevan books| gonna rumplestilskin', 'přijde', 'crunked', 'foreverholdagrudge'let this crunked night stop me!\",\n",
    "    \"Yee skrrt ayy woo ooh ha brr\",\n",
    "    \"This is a test oaky sentence with some स्क्रिप्ट विशेषता rumplestilskin chillin 6ty in my bimmer misspelled wrds and numbers 1234.\"\n",
    "]\n",
    "\n",
    "valid_words_test = build_valid_words(texts)\n",
    "\n",
    "for t in texts:\n",
    "    processed_text, lengths, corrections = preprocess_text(t, valid_words_test)\n",
    "    print(\"Original:\", t)\n",
    "    print(\"Processed:\", processed_text)\n",
    "    print(\"Corrections:\", corrections)\n",
    "    print()"
   ]
  },
  {
   "cell_type": "code",
   "execution_count": 110,
   "metadata": {},
   "outputs": [
    {
     "name": "stdout",
     "output_type": "stream",
     "text": [
      "done\n"
     ]
    }
   ],
   "source": [
    "valid_words = build_valid_words(new_df['Lyric'], min_freq=5)\n",
    "print('done')"
   ]
  },
  {
   "cell_type": "code",
   "execution_count": 111,
   "metadata": {},
   "outputs": [
    {
     "name": "stdout",
     "output_type": "stream",
     "text": [
      "Requirement already satisfied: tqdm in c:\\users\\lenovo\\anaconda3\\lib\\site-packages (4.66.5)\n",
      "Requirement already satisfied: colorama in c:\\users\\lenovo\\anaconda3\\lib\\site-packages (from tqdm) (0.4.6)\n",
      "Note: you may need to restart the kernel to use updated packages.\n"
     ]
    }
   ],
   "source": [
    "pip install tqdm"
   ]
  },
  {
   "cell_type": "code",
   "execution_count": 112,
   "metadata": {},
   "outputs": [],
   "source": [
    "# from tqdm import tqdm\n",
    "# tqdm.pandas()  # enable progress_apply with tqdm\n",
    "\n",
    "# # Processing function that filters lyrics if misspelled words exist\n",
    "# def process_if_misspelled(row):\n",
    "#     if row['Misspelled_Words']:  # if list not empty\n",
    "#         return preprocess_text(row['Lyric'], valid_words)[0]  # filtered text only\n",
    "#     else:\n",
    "#         return row['Lyric']  # no change\n",
    "\n",
    "\n",
    "# new_df['Lyric_Filtered'] = new_df.progress_apply(process_if_misspelled, axis=1)\n",
    "# new_df.to_pickle('processed_lyrics.pkl')  \n",
    "\n",
    "# # On future runs, skip above lines and just load:\n",
    "# # new_df = pd.read_pickle('processed_lyrics.pkl') "
   ]
  },
  {
   "cell_type": "code",
   "execution_count": 113,
   "metadata": {},
   "outputs": [
    {
     "name": "stdout",
     "output_type": "stream",
     "text": [
      "Index(['Artist', 'Title', 'Lyric', 'Misspelled_Words'], dtype='object')\n"
     ]
    }
   ],
   "source": [
    "print(new_df.columns)\n"
   ]
  },
  {
   "cell_type": "code",
   "execution_count": 114,
   "metadata": {},
   "outputs": [],
   "source": [
    "new_df = pd.read_pickle('processed_lyrics.pkl') "
   ]
  },
  {
   "cell_type": "code",
   "execution_count": 115,
   "metadata": {},
   "outputs": [
    {
     "name": "stdout",
     "output_type": "stream",
     "text": [
      "Index(['Artist', 'Title', 'Lyric', 'Misspelled_Words', 'Lyric_Filtered'], dtype='object')\n"
     ]
    }
   ],
   "source": [
    "print(new_df.columns)\n"
   ]
  },
  {
   "cell_type": "markdown",
   "metadata": {},
   "source": [
    "### Export into new CSV file"
   ]
  },
  {
   "cell_type": "code",
   "execution_count": 116,
   "metadata": {},
   "outputs": [
    {
     "name": "stdout",
     "output_type": "stream",
     "text": [
      "Filtered lyrics saved to 'filtered_songs.csv' successfully!\n"
     ]
    }
   ],
   "source": [
    "new_df.to_csv(r\"E:\\Lyrics_Generator\\Data_Sets\\lyric_filtered.csv\", index=False)\n",
    "\n",
    "print(\"Filtered lyrics saved to 'filtered_songs.csv' successfully!\")"
   ]
  },
  {
   "cell_type": "markdown",
   "metadata": {},
   "source": [
    "### Loading the filtered DataSet"
   ]
  },
  {
   "cell_type": "code",
   "execution_count": 117,
   "metadata": {},
   "outputs": [
    {
     "data": {
      "text/html": [
       "<div>\n",
       "<style scoped>\n",
       "    .dataframe tbody tr th:only-of-type {\n",
       "        vertical-align: middle;\n",
       "    }\n",
       "\n",
       "    .dataframe tbody tr th {\n",
       "        vertical-align: top;\n",
       "    }\n",
       "\n",
       "    .dataframe thead th {\n",
       "        text-align: right;\n",
       "    }\n",
       "</style>\n",
       "<table border=\"1\" class=\"dataframe\">\n",
       "  <thead>\n",
       "    <tr style=\"text-align: right;\">\n",
       "      <th></th>\n",
       "      <th>Artist</th>\n",
       "      <th>Title</th>\n",
       "      <th>Lyric</th>\n",
       "      <th>Misspelled_Words</th>\n",
       "      <th>Lyric_Filtered</th>\n",
       "    </tr>\n",
       "  </thead>\n",
       "  <tbody>\n",
       "    <tr>\n",
       "      <th>0</th>\n",
       "      <td>Ariana Grande</td>\n",
       "      <td>​thank u, next</td>\n",
       "      <td>thought i'd end up with sean but he wasn't a m...</td>\n",
       "      <td>[\"nothin'\", \"havin'\", 'ari', 'pre', \"'bout\", '...</td>\n",
       "      <td>thought i'd end up with sean but he wasn't a m...</td>\n",
       "    </tr>\n",
       "    <tr>\n",
       "      <th>1</th>\n",
       "      <td>Ariana Grande</td>\n",
       "      <td>7 rings</td>\n",
       "      <td>yeah breakfast at tiffany's and bottles of bub...</td>\n",
       "      <td>['redbottoms', \"tiffany's\", \"gleamin'\", \"looki...</td>\n",
       "      <td>yeah breakfast at tiffany and bottles of bubbl...</td>\n",
       "    </tr>\n",
       "    <tr>\n",
       "      <th>2</th>\n",
       "      <td>Ariana Grande</td>\n",
       "      <td>​god is a woman</td>\n",
       "      <td>you you love it how i move you you love it how...</td>\n",
       "      <td>[\"feelin'\", 'pre', 'uniwhen', 'onetrack', \"tel...</td>\n",
       "      <td>you you love it how i move you you love it how...</td>\n",
       "    </tr>\n",
       "  </tbody>\n",
       "</table>\n",
       "</div>"
      ],
      "text/plain": [
       "          Artist            Title  \\\n",
       "0  Ariana Grande   ​thank u, next   \n",
       "1  Ariana Grande          7 rings   \n",
       "2  Ariana Grande  ​god is a woman   \n",
       "\n",
       "                                               Lyric  \\\n",
       "0  thought i'd end up with sean but he wasn't a m...   \n",
       "1  yeah breakfast at tiffany's and bottles of bub...   \n",
       "2  you you love it how i move you you love it how...   \n",
       "\n",
       "                                    Misspelled_Words  \\\n",
       "0  [\"nothin'\", \"havin'\", 'ari', 'pre', \"'bout\", '...   \n",
       "1  ['redbottoms', \"tiffany's\", \"gleamin'\", \"looki...   \n",
       "2  [\"feelin'\", 'pre', 'uniwhen', 'onetrack', \"tel...   \n",
       "\n",
       "                                      Lyric_Filtered  \n",
       "0  thought i'd end up with sean but he wasn't a m...  \n",
       "1  yeah breakfast at tiffany and bottles of bubbl...  \n",
       "2  you you love it how i move you you love it how...  "
      ]
     },
     "execution_count": 117,
     "metadata": {},
     "output_type": "execute_result"
    }
   ],
   "source": [
    "filtered_df = pd.read_csv(r\"E:\\Lyrics_Generator\\Data_Sets\\lyric_filtered.csv\")\n",
    "\n",
    "filtered_df.head(3)"
   ]
  },
  {
   "cell_type": "code",
   "execution_count": 118,
   "metadata": {},
   "outputs": [
    {
     "data": {
      "text/plain": [
       "(5711, 5)"
      ]
     },
     "execution_count": 118,
     "metadata": {},
     "output_type": "execute_result"
    }
   ],
   "source": [
    "filtered_df.shape"
   ]
  },
  {
   "cell_type": "code",
   "execution_count": 119,
   "metadata": {},
   "outputs": [
    {
     "data": {
      "text/plain": [
       "Artist              0\n",
       "Title               0\n",
       "Lyric               0\n",
       "Misspelled_Words    0\n",
       "Lyric_Filtered      2\n",
       "dtype: int64"
      ]
     },
     "execution_count": 119,
     "metadata": {},
     "output_type": "execute_result"
    }
   ],
   "source": [
    "filtered_df.isnull().sum()"
   ]
  },
  {
   "cell_type": "code",
   "execution_count": 120,
   "metadata": {},
   "outputs": [],
   "source": [
    "# null_row = filtered_df[filtered_df['Lyric_Filtered'].isnull()]\n",
    "# print(null_row)\n"
   ]
  },
  {
   "cell_type": "code",
   "execution_count": 121,
   "metadata": {},
   "outputs": [],
   "source": [
    "## Drop the rows with null values in 'Lyric_Filtered'\n",
    "filtered_df = filtered_df.dropna(subset=['Lyric_Filtered'])\n"
   ]
  },
  {
   "cell_type": "code",
   "execution_count": 122,
   "metadata": {},
   "outputs": [
    {
     "data": {
      "text/plain": [
       "Artist              0\n",
       "Title               0\n",
       "Lyric               0\n",
       "Misspelled_Words    0\n",
       "Lyric_Filtered      0\n",
       "dtype: int64"
      ]
     },
     "execution_count": 122,
     "metadata": {},
     "output_type": "execute_result"
    }
   ],
   "source": [
    "filtered_df.isnull().sum()"
   ]
  },
  {
   "cell_type": "code",
   "execution_count": 123,
   "metadata": {},
   "outputs": [
    {
     "data": {
      "text/plain": [
       "(5709, 5)"
      ]
     },
     "execution_count": 123,
     "metadata": {},
     "output_type": "execute_result"
    }
   ],
   "source": [
    "filtered_df.shape"
   ]
  },
  {
   "cell_type": "code",
   "execution_count": 124,
   "metadata": {},
   "outputs": [
    {
     "name": "stdout",
     "output_type": "stream",
     "text": [
      "Rows with numeric words: 41\n",
      "                                         Lyric_Filtered\n",
      "92    refrain i'll love you till i die boy every day...\n",
      "116   jamie is over and jamie is gone jamie's decide...\n",
      "242                                      released in 09\n",
      "379   i tried to change closed my mouth more tried t...\n",
      "445   i'm so in love i'm still in love i never met l...\n",
      "515   it's what you do it's what you see i know if i...\n",
      "547   i always loved you even though you did me wron...\n",
      "707   i tried to change closed my mouth more tried t...\n",
      "756   lights out you're not here holding me i count ...\n",
      "808   i want to be alone alone with you does that ma...\n",
      "842   i want to be alone alone with you does that ma...\n",
      "849   i want to be alone alone with you does that ma...\n",
      "1143  one two three will i ran away from you that's ...\n",
      "1152  it could be worse i could be alone i could be ...\n",
      "1184  have yourself a merry little christmas let you...\n",
      "1238  tracy died soon after a long fought civil war ...\n",
      "1287  00 yellow 00 clocks 005 speed of sound fix you...\n",
      "1571  i've been out walking i don't do too much talk...\n",
      "1651  drake are we done 40 i don't know are we pops ...\n",
      "2617  i put my orange 4 inch door hinge in storage a...\n",
      "3326  i've got people to see places to go deadlines ...\n",
      "3384  you're so gay and you don't even like boys you...\n",
      "3460                             00 capitol music group\n",
      "3688  it's a little bit funny this feeling inside i'...\n",
      "4043  watch the sunrise say your goodbyes off you go...\n",
      "4092  come away little lass come away to the water t...\n",
      "4104  maroon 5 some people live for the fortune some...\n",
      "4110  do you mean all the things you are are you ple...\n",
      "4113  making love to a picture frame one more time t...\n",
      "4145  watch the sunrise say your goodbyes off we go ...\n",
      "4155  00 harder to breathe 004 this love she will be...\n",
      "4166  watch the sunrise say your goodbyes off you go...\n",
      "4477  episode aired 898 episode aired 808 episode ai...\n",
      "5308  ooh ooh school bell rings walk me home sidewal...\n",
      "5330  if you're anything like me you bite your nails...\n",
      "5421  she walks to school with her arms crossed it's...\n",
      "5490  my name's gracie i'll be five in may kind of s...\n",
      "5522  well she was an american girl raised on promis...\n",
      "5551  journal snippet i am getting older and less su...\n",
      "5581  any day now they're talking war i can see the ...\n",
      "5687  007 live from soho rhapsody originals 008 live...\n"
     ]
    }
   ],
   "source": [
    "import re\n",
    "\n",
    "# Function to detect words that are numbers or contain numbers\n",
    "def has_numbers_in_words(text):\n",
    "    if not isinstance(text, str):\n",
    "        return False\n",
    "    words = text.split()\n",
    "    for word in words:\n",
    "        if word.isdigit() or re.search(r'\\d', word):\n",
    "            return True\n",
    "    return False\n",
    "\n",
    "contains_numbers = filtered_df['Lyric_Filtered'].apply(has_numbers_in_words)\n",
    "\n",
    "# Check how many rows have such words\n",
    "print(f\"Rows with numeric words: {contains_numbers.sum()}\")\n",
    "\n",
    "numeric_rows = filtered_df[contains_numbers]\n",
    "print(numeric_rows[['Lyric_Filtered']])\n"
   ]
  },
  {
   "cell_type": "code",
   "execution_count": 125,
   "metadata": {},
   "outputs": [
    {
     "name": "stdout",
     "output_type": "stream",
     "text": [
      "Removed words containing numbers from Lyric_Filtered.\n"
     ]
    }
   ],
   "source": [
    "def remove_number_words(text):\n",
    "    if not isinstance(text, str):\n",
    "        return text\n",
    "    return ' '.join(word for word in text.split() if not re.search(r'\\d', word))\n",
    "\n",
    "# Remove number-containing words only in those rows\n",
    "filtered_df.loc[contains_numbers, 'Lyric_Filtered'] = filtered_df.loc[contains_numbers, 'Lyric_Filtered'].apply(remove_number_words)\n",
    "\n",
    "print(\"Removed words containing numbers from Lyric_Filtered.\")"
   ]
  },
  {
   "cell_type": "code",
   "execution_count": 126,
   "metadata": {},
   "outputs": [
    {
     "name": "stdout",
     "output_type": "stream",
     "text": [
      "Rows with numeric words: 0\n"
     ]
    }
   ],
   "source": [
    "contains_numbers = filtered_df['Lyric_Filtered'].apply(has_numbers_in_words)\n",
    "\n",
    "# Check how many rows have such words\n",
    "print(f\"Rows with numeric words: {contains_numbers.sum()}\")"
   ]
  },
  {
   "cell_type": "code",
   "execution_count": 127,
   "metadata": {},
   "outputs": [
    {
     "name": "stdout",
     "output_type": "stream",
     "text": [
      "Total misspelled words: 17009\n"
     ]
    }
   ],
   "source": [
    "misspelled_words = filtered_df['Lyric_Filtered'].apply(get_misspelled_words)\n",
    "total_misspelled_words = misspelled_words.apply(len).sum()\n",
    "print(f\"Total misspelled words: {total_misspelled_words}\")\n",
    "\n"
   ]
  },
  {
   "cell_type": "code",
   "execution_count": 128,
   "metadata": {},
   "outputs": [
    {
     "name": "stdout",
     "output_type": "stream",
     "text": [
      "0                   [fuckin', nothin', gon', yee, havin']\n",
      "1       [gleamin', beamin', lookin', poppin', gon', wa...\n",
      "2                                      [feelin', tellin']\n",
      "3       [makin', nothin', comin', feelin', talkin', wa...\n",
      "4       [lovin', pickin', comin', turnin', livin', vib...\n",
      "                              ...                        \n",
      "5706                                                   []\n",
      "5707                                                   []\n",
      "5708                                                   []\n",
      "5709                                       [sie, za, gra]\n",
      "5710                                                   []\n",
      "Name: Lyric_Filtered, Length: 5709, dtype: object\n"
     ]
    }
   ],
   "source": [
    "print(misspelled_words)"
   ]
  },
  {
   "cell_type": "code",
   "execution_count": 129,
   "metadata": {},
   "outputs": [],
   "source": [
    "filtered_df['Filtered_Misspelled_Words'] = misspelled_words"
   ]
  },
  {
   "cell_type": "code",
   "execution_count": 130,
   "metadata": {},
   "outputs": [
    {
     "data": {
      "text/html": [
       "<div>\n",
       "<style scoped>\n",
       "    .dataframe tbody tr th:only-of-type {\n",
       "        vertical-align: middle;\n",
       "    }\n",
       "\n",
       "    .dataframe tbody tr th {\n",
       "        vertical-align: top;\n",
       "    }\n",
       "\n",
       "    .dataframe thead th {\n",
       "        text-align: right;\n",
       "    }\n",
       "</style>\n",
       "<table border=\"1\" class=\"dataframe\">\n",
       "  <thead>\n",
       "    <tr style=\"text-align: right;\">\n",
       "      <th></th>\n",
       "      <th>Artist</th>\n",
       "      <th>Title</th>\n",
       "      <th>Lyric</th>\n",
       "      <th>Misspelled_Words</th>\n",
       "      <th>Lyric_Filtered</th>\n",
       "      <th>Filtered_Misspelled_Words</th>\n",
       "    </tr>\n",
       "  </thead>\n",
       "  <tbody>\n",
       "    <tr>\n",
       "      <th>0</th>\n",
       "      <td>Ariana Grande</td>\n",
       "      <td>​thank u, next</td>\n",
       "      <td>thought i'd end up with sean but he wasn't a m...</td>\n",
       "      <td>[\"nothin'\", \"havin'\", 'ari', 'pre', \"'bout\", '...</td>\n",
       "      <td>thought i'd end up with sean but he wasn't a m...</td>\n",
       "      <td>[fuckin', nothin', gon', yee, havin']</td>\n",
       "    </tr>\n",
       "    <tr>\n",
       "      <th>1</th>\n",
       "      <td>Ariana Grande</td>\n",
       "      <td>7 rings</td>\n",
       "      <td>yeah breakfast at tiffany's and bottles of bub...</td>\n",
       "      <td>['redbottoms', \"tiffany's\", \"gleamin'\", \"looki...</td>\n",
       "      <td>yeah breakfast at tiffany and bottles of bubbl...</td>\n",
       "      <td>[gleamin', beamin', lookin', poppin', gon', wa...</td>\n",
       "    </tr>\n",
       "    <tr>\n",
       "      <th>2</th>\n",
       "      <td>Ariana Grande</td>\n",
       "      <td>​god is a woman</td>\n",
       "      <td>you you love it how i move you you love it how...</td>\n",
       "      <td>[\"feelin'\", 'pre', 'uniwhen', 'onetrack', \"tel...</td>\n",
       "      <td>you you love it how i move you you love it how...</td>\n",
       "      <td>[feelin', tellin']</td>\n",
       "    </tr>\n",
       "    <tr>\n",
       "      <th>3</th>\n",
       "      <td>Ariana Grande</td>\n",
       "      <td>side to side</td>\n",
       "      <td>ariana grande nicki minaj i've been here all n...</td>\n",
       "      <td>[\"feelin'\", 'minime', 'minaj', \"'em\", \"makin'\"...</td>\n",
       "      <td>grand nick mina i've been here all night i've ...</td>\n",
       "      <td>[makin', nothin', comin', feelin', talkin', wa...</td>\n",
       "    </tr>\n",
       "    <tr>\n",
       "      <th>4</th>\n",
       "      <td>Ariana Grande</td>\n",
       "      <td>​​no tears left to cry</td>\n",
       "      <td>right now i'm in a state of mind i want to be ...</td>\n",
       "      <td>[\"turnin'\", \"comin'\", 'pre', \"pickin'\", \"lovin...</td>\n",
       "      <td>right now i'm in a state of mind i want to be ...</td>\n",
       "      <td>[lovin', pickin', comin', turnin', livin', vib...</td>\n",
       "    </tr>\n",
       "    <tr>\n",
       "      <th>...</th>\n",
       "      <td>...</td>\n",
       "      <td>...</td>\n",
       "      <td>...</td>\n",
       "      <td>...</td>\n",
       "      <td>...</td>\n",
       "      <td>...</td>\n",
       "    </tr>\n",
       "    <tr>\n",
       "      <th>5706</th>\n",
       "      <td>Taylor Swift</td>\n",
       "      <td>teardrops on my guitar (live from clear channe...</td>\n",
       "      <td>drew looks at me i fake a smile so he won't se...</td>\n",
       "      <td>['pre', \"'cause\", 'whos']</td>\n",
       "      <td>drew looks at me i fake a smile so he won't se...</td>\n",
       "      <td>[]</td>\n",
       "    </tr>\n",
       "    <tr>\n",
       "      <th>5707</th>\n",
       "      <td>Taylor Swift</td>\n",
       "      <td>evermore [forward]</td>\n",
       "      <td>to put it plainly we just couldnt stop writing...</td>\n",
       "      <td>['folklorian', 'couldnt', 'oneoff', 'imaginary...</td>\n",
       "      <td>to put it plainly we just stop writing songs t...</td>\n",
       "      <td>[]</td>\n",
       "    </tr>\n",
       "    <tr>\n",
       "      <th>5708</th>\n",
       "      <td>Taylor Swift</td>\n",
       "      <td>welcome back grunwald</td>\n",
       "      <td>turn wycd on you're on your grunwald back from...</td>\n",
       "      <td>['grunwald', \"grunwald's\", 'wycd']</td>\n",
       "      <td>turn wynd on you're on your back from the amaz...</td>\n",
       "      <td>[]</td>\n",
       "    </tr>\n",
       "    <tr>\n",
       "      <th>5709</th>\n",
       "      <td>Taylor Swift</td>\n",
       "      <td>tolerate it (polskie tłumaczenie)</td>\n",
       "      <td>zwrotka siedzę i patrzę jak czytasz z głową po...</td>\n",
       "      <td>['jeśli', 'jak', 'czekam', 'cię', 'głową', 'ko...</td>\n",
       "      <td>i jam z i jail z eczema i co i zero nice type ...</td>\n",
       "      <td>[sie, za, gra]</td>\n",
       "    </tr>\n",
       "    <tr>\n",
       "      <th>5710</th>\n",
       "      <td>Taylor Swift</td>\n",
       "      <td>find you</td>\n",
       "      <td>trying just like they say just taking the step...</td>\n",
       "      <td>[]</td>\n",
       "      <td>trying just like they say just taking the step...</td>\n",
       "      <td>[]</td>\n",
       "    </tr>\n",
       "  </tbody>\n",
       "</table>\n",
       "<p>5709 rows × 6 columns</p>\n",
       "</div>"
      ],
      "text/plain": [
       "             Artist                                              Title  \\\n",
       "0     Ariana Grande                                     ​thank u, next   \n",
       "1     Ariana Grande                                            7 rings   \n",
       "2     Ariana Grande                                    ​god is a woman   \n",
       "3     Ariana Grande                                       side to side   \n",
       "4     Ariana Grande                             ​​no tears left to cry   \n",
       "...             ...                                                ...   \n",
       "5706   Taylor Swift  teardrops on my guitar (live from clear channe...   \n",
       "5707   Taylor Swift                                 evermore [forward]   \n",
       "5708   Taylor Swift                              welcome back grunwald   \n",
       "5709   Taylor Swift                  tolerate it (polskie tłumaczenie)   \n",
       "5710   Taylor Swift                                           find you   \n",
       "\n",
       "                                                  Lyric  \\\n",
       "0     thought i'd end up with sean but he wasn't a m...   \n",
       "1     yeah breakfast at tiffany's and bottles of bub...   \n",
       "2     you you love it how i move you you love it how...   \n",
       "3     ariana grande nicki minaj i've been here all n...   \n",
       "4     right now i'm in a state of mind i want to be ...   \n",
       "...                                                 ...   \n",
       "5706  drew looks at me i fake a smile so he won't se...   \n",
       "5707  to put it plainly we just couldnt stop writing...   \n",
       "5708  turn wycd on you're on your grunwald back from...   \n",
       "5709  zwrotka siedzę i patrzę jak czytasz z głową po...   \n",
       "5710  trying just like they say just taking the step...   \n",
       "\n",
       "                                       Misspelled_Words  \\\n",
       "0     [\"nothin'\", \"havin'\", 'ari', 'pre', \"'bout\", '...   \n",
       "1     ['redbottoms', \"tiffany's\", \"gleamin'\", \"looki...   \n",
       "2     [\"feelin'\", 'pre', 'uniwhen', 'onetrack', \"tel...   \n",
       "3     [\"feelin'\", 'minime', 'minaj', \"'em\", \"makin'\"...   \n",
       "4     [\"turnin'\", \"comin'\", 'pre', \"pickin'\", \"lovin...   \n",
       "...                                                 ...   \n",
       "5706                          ['pre', \"'cause\", 'whos']   \n",
       "5707  ['folklorian', 'couldnt', 'oneoff', 'imaginary...   \n",
       "5708                 ['grunwald', \"grunwald's\", 'wycd']   \n",
       "5709  ['jeśli', 'jak', 'czekam', 'cię', 'głową', 'ko...   \n",
       "5710                                                 []   \n",
       "\n",
       "                                         Lyric_Filtered  \\\n",
       "0     thought i'd end up with sean but he wasn't a m...   \n",
       "1     yeah breakfast at tiffany and bottles of bubbl...   \n",
       "2     you you love it how i move you you love it how...   \n",
       "3     grand nick mina i've been here all night i've ...   \n",
       "4     right now i'm in a state of mind i want to be ...   \n",
       "...                                                 ...   \n",
       "5706  drew looks at me i fake a smile so he won't se...   \n",
       "5707  to put it plainly we just stop writing songs t...   \n",
       "5708  turn wynd on you're on your back from the amaz...   \n",
       "5709  i jam z i jail z eczema i co i zero nice type ...   \n",
       "5710  trying just like they say just taking the step...   \n",
       "\n",
       "                              Filtered_Misspelled_Words  \n",
       "0                 [fuckin', nothin', gon', yee, havin']  \n",
       "1     [gleamin', beamin', lookin', poppin', gon', wa...  \n",
       "2                                    [feelin', tellin']  \n",
       "3     [makin', nothin', comin', feelin', talkin', wa...  \n",
       "4     [lovin', pickin', comin', turnin', livin', vib...  \n",
       "...                                                 ...  \n",
       "5706                                                 []  \n",
       "5707                                                 []  \n",
       "5708                                                 []  \n",
       "5709                                     [sie, za, gra]  \n",
       "5710                                                 []  \n",
       "\n",
       "[5709 rows x 6 columns]"
      ]
     },
     "execution_count": 130,
     "metadata": {},
     "output_type": "execute_result"
    }
   ],
   "source": [
    "filtered_df"
   ]
  },
  {
   "cell_type": "markdown",
   "metadata": {},
   "source": [
    "## Tokenization"
   ]
  },
  {
   "cell_type": "code",
   "execution_count": 131,
   "metadata": {},
   "outputs": [],
   "source": [
    "# Custom Tokenization\n",
    "import re\n",
    "\n",
    "def custom_tokenize(text):\n",
    "    # pattern = r\"\\b\\w+(?:'\\w+)?'?|\\S\"\n",
    "    # pattern = r\"\\b\\w+(?:'\\w+)?'?|[.,!?']\"\n",
    "    pattern = r\"\\b[a-zA-Z]+(?:'[a-zA-Z]+)?'?|[.,!?']\"\n",
    "\n",
    "\n",
    "    return re.findall(pattern, text)\n",
    "\n",
    "filtered_df['Tokenized_Lyric'] = filtered_df['Lyric_Filtered'].apply(custom_tokenize)\n"
   ]
  },
  {
   "cell_type": "code",
   "execution_count": 132,
   "metadata": {},
   "outputs": [
    {
     "data": {
      "text/plain": [
       "0       [thought, i'd, end, up, with, sean, but, he, w...\n",
       "1       [yeah, breakfast, at, tiffany, and, bottles, o...\n",
       "2       [you, you, love, it, how, i, move, you, you, l...\n",
       "3       [grand, nick, mina, i've, been, here, all, nig...\n",
       "4       [right, now, i'm, in, a, state, of, mind, i, w...\n",
       "                              ...                        \n",
       "5706    [drew, looks, at, me, i, fake, a, smile, so, h...\n",
       "5707    [to, put, it, plainly, we, just, stop, writing...\n",
       "5708    [turn, wynd, on, you're, on, your, back, from,...\n",
       "5709    [i, jam, z, i, jail, z, eczema, i, co, i, zero...\n",
       "5710    [trying, just, like, they, say, just, taking, ...\n",
       "Name: Tokenized_Lyric, Length: 5709, dtype: object"
      ]
     },
     "execution_count": 132,
     "metadata": {},
     "output_type": "execute_result"
    }
   ],
   "source": [
    "filtered_df['Tokenized_Lyric']"
   ]
  },
  {
   "cell_type": "code",
   "execution_count": 133,
   "metadata": {},
   "outputs": [
    {
     "name": "stdout",
     "output_type": "stream",
     "text": [
      "['hi', ',', \"how're\", 'you', '?', '!']\n"
     ]
    }
   ],
   "source": [
    "# test\n",
    "text = \"hi, how're you?!@#$%^&*()_+=//\"\n",
    "print(custom_tokenize(text))"
   ]
  },
  {
   "cell_type": "code",
   "execution_count": 134,
   "metadata": {},
   "outputs": [
    {
     "data": {
      "text/html": [
       "<div>\n",
       "<style scoped>\n",
       "    .dataframe tbody tr th:only-of-type {\n",
       "        vertical-align: middle;\n",
       "    }\n",
       "\n",
       "    .dataframe tbody tr th {\n",
       "        vertical-align: top;\n",
       "    }\n",
       "\n",
       "    .dataframe thead th {\n",
       "        text-align: right;\n",
       "    }\n",
       "</style>\n",
       "<table border=\"1\" class=\"dataframe\">\n",
       "  <thead>\n",
       "    <tr style=\"text-align: right;\">\n",
       "      <th></th>\n",
       "      <th>Artist</th>\n",
       "      <th>Title</th>\n",
       "      <th>Lyric</th>\n",
       "      <th>Misspelled_Words</th>\n",
       "      <th>Lyric_Filtered</th>\n",
       "      <th>Filtered_Misspelled_Words</th>\n",
       "      <th>Tokenized_Lyric</th>\n",
       "    </tr>\n",
       "  </thead>\n",
       "  <tbody>\n",
       "    <tr>\n",
       "      <th>0</th>\n",
       "      <td>Ariana Grande</td>\n",
       "      <td>​thank u, next</td>\n",
       "      <td>thought i'd end up with sean but he wasn't a m...</td>\n",
       "      <td>[\"nothin'\", \"havin'\", 'ari', 'pre', \"'bout\", '...</td>\n",
       "      <td>thought i'd end up with sean but he wasn't a m...</td>\n",
       "      <td>[fuckin', nothin', gon', yee, havin']</td>\n",
       "      <td>[thought, i'd, end, up, with, sean, but, he, w...</td>\n",
       "    </tr>\n",
       "    <tr>\n",
       "      <th>1</th>\n",
       "      <td>Ariana Grande</td>\n",
       "      <td>7 rings</td>\n",
       "      <td>yeah breakfast at tiffany's and bottles of bub...</td>\n",
       "      <td>['redbottoms', \"tiffany's\", \"gleamin'\", \"looki...</td>\n",
       "      <td>yeah breakfast at tiffany and bottles of bubbl...</td>\n",
       "      <td>[gleamin', beamin', lookin', poppin', gon', wa...</td>\n",
       "      <td>[yeah, breakfast, at, tiffany, and, bottles, o...</td>\n",
       "    </tr>\n",
       "    <tr>\n",
       "      <th>2</th>\n",
       "      <td>Ariana Grande</td>\n",
       "      <td>​god is a woman</td>\n",
       "      <td>you you love it how i move you you love it how...</td>\n",
       "      <td>[\"feelin'\", 'pre', 'uniwhen', 'onetrack', \"tel...</td>\n",
       "      <td>you you love it how i move you you love it how...</td>\n",
       "      <td>[feelin', tellin']</td>\n",
       "      <td>[you, you, love, it, how, i, move, you, you, l...</td>\n",
       "    </tr>\n",
       "    <tr>\n",
       "      <th>3</th>\n",
       "      <td>Ariana Grande</td>\n",
       "      <td>side to side</td>\n",
       "      <td>ariana grande nicki minaj i've been here all n...</td>\n",
       "      <td>[\"feelin'\", 'minime', 'minaj', \"'em\", \"makin'\"...</td>\n",
       "      <td>grand nick mina i've been here all night i've ...</td>\n",
       "      <td>[makin', nothin', comin', feelin', talkin', wa...</td>\n",
       "      <td>[grand, nick, mina, i've, been, here, all, nig...</td>\n",
       "    </tr>\n",
       "    <tr>\n",
       "      <th>4</th>\n",
       "      <td>Ariana Grande</td>\n",
       "      <td>​​no tears left to cry</td>\n",
       "      <td>right now i'm in a state of mind i want to be ...</td>\n",
       "      <td>[\"turnin'\", \"comin'\", 'pre', \"pickin'\", \"lovin...</td>\n",
       "      <td>right now i'm in a state of mind i want to be ...</td>\n",
       "      <td>[lovin', pickin', comin', turnin', livin', vib...</td>\n",
       "      <td>[right, now, i'm, in, a, state, of, mind, i, w...</td>\n",
       "    </tr>\n",
       "    <tr>\n",
       "      <th>...</th>\n",
       "      <td>...</td>\n",
       "      <td>...</td>\n",
       "      <td>...</td>\n",
       "      <td>...</td>\n",
       "      <td>...</td>\n",
       "      <td>...</td>\n",
       "      <td>...</td>\n",
       "    </tr>\n",
       "    <tr>\n",
       "      <th>5706</th>\n",
       "      <td>Taylor Swift</td>\n",
       "      <td>teardrops on my guitar (live from clear channe...</td>\n",
       "      <td>drew looks at me i fake a smile so he won't se...</td>\n",
       "      <td>['pre', \"'cause\", 'whos']</td>\n",
       "      <td>drew looks at me i fake a smile so he won't se...</td>\n",
       "      <td>[]</td>\n",
       "      <td>[drew, looks, at, me, i, fake, a, smile, so, h...</td>\n",
       "    </tr>\n",
       "    <tr>\n",
       "      <th>5707</th>\n",
       "      <td>Taylor Swift</td>\n",
       "      <td>evermore [forward]</td>\n",
       "      <td>to put it plainly we just couldnt stop writing...</td>\n",
       "      <td>['folklorian', 'couldnt', 'oneoff', 'imaginary...</td>\n",
       "      <td>to put it plainly we just stop writing songs t...</td>\n",
       "      <td>[]</td>\n",
       "      <td>[to, put, it, plainly, we, just, stop, writing...</td>\n",
       "    </tr>\n",
       "    <tr>\n",
       "      <th>5708</th>\n",
       "      <td>Taylor Swift</td>\n",
       "      <td>welcome back grunwald</td>\n",
       "      <td>turn wycd on you're on your grunwald back from...</td>\n",
       "      <td>['grunwald', \"grunwald's\", 'wycd']</td>\n",
       "      <td>turn wynd on you're on your back from the amaz...</td>\n",
       "      <td>[]</td>\n",
       "      <td>[turn, wynd, on, you're, on, your, back, from,...</td>\n",
       "    </tr>\n",
       "    <tr>\n",
       "      <th>5709</th>\n",
       "      <td>Taylor Swift</td>\n",
       "      <td>tolerate it (polskie tłumaczenie)</td>\n",
       "      <td>zwrotka siedzę i patrzę jak czytasz z głową po...</td>\n",
       "      <td>['jeśli', 'jak', 'czekam', 'cię', 'głową', 'ko...</td>\n",
       "      <td>i jam z i jail z eczema i co i zero nice type ...</td>\n",
       "      <td>[sie, za, gra]</td>\n",
       "      <td>[i, jam, z, i, jail, z, eczema, i, co, i, zero...</td>\n",
       "    </tr>\n",
       "    <tr>\n",
       "      <th>5710</th>\n",
       "      <td>Taylor Swift</td>\n",
       "      <td>find you</td>\n",
       "      <td>trying just like they say just taking the step...</td>\n",
       "      <td>[]</td>\n",
       "      <td>trying just like they say just taking the step...</td>\n",
       "      <td>[]</td>\n",
       "      <td>[trying, just, like, they, say, just, taking, ...</td>\n",
       "    </tr>\n",
       "  </tbody>\n",
       "</table>\n",
       "<p>5709 rows × 7 columns</p>\n",
       "</div>"
      ],
      "text/plain": [
       "             Artist                                              Title  \\\n",
       "0     Ariana Grande                                     ​thank u, next   \n",
       "1     Ariana Grande                                            7 rings   \n",
       "2     Ariana Grande                                    ​god is a woman   \n",
       "3     Ariana Grande                                       side to side   \n",
       "4     Ariana Grande                             ​​no tears left to cry   \n",
       "...             ...                                                ...   \n",
       "5706   Taylor Swift  teardrops on my guitar (live from clear channe...   \n",
       "5707   Taylor Swift                                 evermore [forward]   \n",
       "5708   Taylor Swift                              welcome back grunwald   \n",
       "5709   Taylor Swift                  tolerate it (polskie tłumaczenie)   \n",
       "5710   Taylor Swift                                           find you   \n",
       "\n",
       "                                                  Lyric  \\\n",
       "0     thought i'd end up with sean but he wasn't a m...   \n",
       "1     yeah breakfast at tiffany's and bottles of bub...   \n",
       "2     you you love it how i move you you love it how...   \n",
       "3     ariana grande nicki minaj i've been here all n...   \n",
       "4     right now i'm in a state of mind i want to be ...   \n",
       "...                                                 ...   \n",
       "5706  drew looks at me i fake a smile so he won't se...   \n",
       "5707  to put it plainly we just couldnt stop writing...   \n",
       "5708  turn wycd on you're on your grunwald back from...   \n",
       "5709  zwrotka siedzę i patrzę jak czytasz z głową po...   \n",
       "5710  trying just like they say just taking the step...   \n",
       "\n",
       "                                       Misspelled_Words  \\\n",
       "0     [\"nothin'\", \"havin'\", 'ari', 'pre', \"'bout\", '...   \n",
       "1     ['redbottoms', \"tiffany's\", \"gleamin'\", \"looki...   \n",
       "2     [\"feelin'\", 'pre', 'uniwhen', 'onetrack', \"tel...   \n",
       "3     [\"feelin'\", 'minime', 'minaj', \"'em\", \"makin'\"...   \n",
       "4     [\"turnin'\", \"comin'\", 'pre', \"pickin'\", \"lovin...   \n",
       "...                                                 ...   \n",
       "5706                          ['pre', \"'cause\", 'whos']   \n",
       "5707  ['folklorian', 'couldnt', 'oneoff', 'imaginary...   \n",
       "5708                 ['grunwald', \"grunwald's\", 'wycd']   \n",
       "5709  ['jeśli', 'jak', 'czekam', 'cię', 'głową', 'ko...   \n",
       "5710                                                 []   \n",
       "\n",
       "                                         Lyric_Filtered  \\\n",
       "0     thought i'd end up with sean but he wasn't a m...   \n",
       "1     yeah breakfast at tiffany and bottles of bubbl...   \n",
       "2     you you love it how i move you you love it how...   \n",
       "3     grand nick mina i've been here all night i've ...   \n",
       "4     right now i'm in a state of mind i want to be ...   \n",
       "...                                                 ...   \n",
       "5706  drew looks at me i fake a smile so he won't se...   \n",
       "5707  to put it plainly we just stop writing songs t...   \n",
       "5708  turn wynd on you're on your back from the amaz...   \n",
       "5709  i jam z i jail z eczema i co i zero nice type ...   \n",
       "5710  trying just like they say just taking the step...   \n",
       "\n",
       "                              Filtered_Misspelled_Words  \\\n",
       "0                 [fuckin', nothin', gon', yee, havin']   \n",
       "1     [gleamin', beamin', lookin', poppin', gon', wa...   \n",
       "2                                    [feelin', tellin']   \n",
       "3     [makin', nothin', comin', feelin', talkin', wa...   \n",
       "4     [lovin', pickin', comin', turnin', livin', vib...   \n",
       "...                                                 ...   \n",
       "5706                                                 []   \n",
       "5707                                                 []   \n",
       "5708                                                 []   \n",
       "5709                                     [sie, za, gra]   \n",
       "5710                                                 []   \n",
       "\n",
       "                                        Tokenized_Lyric  \n",
       "0     [thought, i'd, end, up, with, sean, but, he, w...  \n",
       "1     [yeah, breakfast, at, tiffany, and, bottles, o...  \n",
       "2     [you, you, love, it, how, i, move, you, you, l...  \n",
       "3     [grand, nick, mina, i've, been, here, all, nig...  \n",
       "4     [right, now, i'm, in, a, state, of, mind, i, w...  \n",
       "...                                                 ...  \n",
       "5706  [drew, looks, at, me, i, fake, a, smile, so, h...  \n",
       "5707  [to, put, it, plainly, we, just, stop, writing...  \n",
       "5708  [turn, wynd, on, you're, on, your, back, from,...  \n",
       "5709  [i, jam, z, i, jail, z, eczema, i, co, i, zero...  \n",
       "5710  [trying, just, like, they, say, just, taking, ...  \n",
       "\n",
       "[5709 rows x 7 columns]"
      ]
     },
     "execution_count": 134,
     "metadata": {},
     "output_type": "execute_result"
    }
   ],
   "source": [
    "filtered_df"
   ]
  },
  {
   "cell_type": "code",
   "execution_count": 135,
   "metadata": {},
   "outputs": [
    {
     "data": {
      "text/plain": [
       "0       thought i'd end up with sean but he wasn't a m...\n",
       "1       yeah breakfast at tiffany and bottles of bubbl...\n",
       "2       you you love it how i move you you love it how...\n",
       "3       grand nick mina i've been here all night i've ...\n",
       "4       right now i'm in a state of mind i want to be ...\n",
       "                              ...                        \n",
       "5706    drew looks at me i fake a smile so he won't se...\n",
       "5707    to put it plainly we just stop writing songs t...\n",
       "5708    turn wynd on you're on your back from the amaz...\n",
       "5709    i jam z i jail z eczema i co i zero nice type ...\n",
       "5710    trying just like they say just taking the step...\n",
       "Name: Joined_Lyric, Length: 5709, dtype: object"
      ]
     },
     "execution_count": 135,
     "metadata": {},
     "output_type": "execute_result"
    }
   ],
   "source": [
    "# joining tokenized lyrics for vectorization\n",
    "filtered_df['Joined_Lyric'] = filtered_df['Tokenized_Lyric'].apply(lambda tokens: ' '.join(tokens))\n",
    "filtered_df['Joined_Lyric']"
   ]
  },
  {
   "cell_type": "code",
   "execution_count": 136,
   "metadata": {},
   "outputs": [
    {
     "name": "stdout",
     "output_type": "stream",
     "text": [
      "0                   [fuckin', nothin', gon', yee, havin']\n",
      "1       [gleamin', beamin', lookin', poppin', gon', wa...\n",
      "2                                      [feelin', tellin']\n",
      "3       [makin', nothin', comin', feelin', talkin', wa...\n",
      "4       [lovin', pickin', comin', turnin', livin', vib...\n",
      "                              ...                        \n",
      "5706                                                   []\n",
      "5707                                                   []\n",
      "5708                                                   []\n",
      "5709                                       [sie, za, gra]\n",
      "5710                                                   []\n",
      "Name: Joined_Lyric, Length: 5709, dtype: object\n",
      "17009\n"
     ]
    }
   ],
   "source": [
    "misspelled_in_joined = filtered_df['Joined_Lyric'].apply(get_misspelled_words)\n",
    "print(misspelled_in_joined)\n",
    "print(misspelled_in_joined.apply(len).sum())"
   ]
  },
  {
   "cell_type": "code",
   "execution_count": 137,
   "metadata": {},
   "outputs": [
    {
     "name": "stdout",
     "output_type": "stream",
     "text": [
      "Unique misspelled words (2081):\n",
      "{\"eyebrowraisin'\", \"crackin'\", \"cheatin'\", \"runnin'\", \"naggin'\", \"inspirin'\", \"lackin'\", \"roamin'\", 'paulie', \"frightenin'\", \"sinnin'\", 'malik', 'towy', \"preparin'\", \"vacationin'\", \"detonatin'\", \"tappin'\", \"tradin'\", \"shatterin'\", \"beatin'\", \"spashin'\", 'woahohohohoh', \"wipin'\", 'dere', 'roading', 'stylo', \"rollin'\", 'shee', 'oxy', \"hun'\", \"concernin'\", 'tite', 'skrrt', \"tumblin'\", 'havent', 'stade', \"buskin'\", \"ditchin'\", \"scorin'\", 'sok', \"worryin'\", 'sil', \"depressin'\", \"tiltin'\", \"representin'\", \"commin'\", \"attemptin'\", \"motionin'\", \"rewindin'\", \"mournin'\", \"bbustin'\", \"doublin'\", \"repentin'\", \"touchin'\", 'rodman', 'gardy', 'ey', 'seps', \"gapin'\", \"isolatin'\", 'twirk', \"kushin'\", 'stoneman', 'cliche', \"bitchin'\", \"yearfuckin'\", 'resetter', 'ock', 'aku', \"bobbin'\", \"gibberin'\", \"explodin'\", \"consolin'\", \"goofin'\", \"rattlin'\", \"nothin'\", 'yachty', 'naw', 'neglection', 'grano', 'hoodie', 'fuerte', \"foolin'\", \"seein'\", \"flippin'\", 'mano', 'loch', \"crossin'\", 'woowoo', \"masturbatin'\", 'squeezy', \"dissin'\", \"hattenin'\", 'boonk', 'tigger', 'nig', \"troublemakin'\", 'beamer', \"scoffin'\", \"lampin'\", \"kickin'\", 'swaggy', \"scratchin'\", \"mixin'\", \"ignorin'\", \"mackin'\", \"hackin'\", \"selfloathin'\", \"tittyfuckin'\", \"thunderin'\", \"hiphoprappin'\", \"bookin'\", 'blaw', \"careerin'\", \"rubbin'\", 'oaky', \"golddiggin'\", 'hubba', \"wrappin'\", 'matinee', 'stog', \"floodin'\", \"dialin'\", \"coolin'\", \"cashin'\", \"bitin'\", 'nickle', \"abusin'\", \"brandin'\", \"eggin'\", 'diddy', 'rel', 'manny', \"stranglin'\", 'mashallah', \"liberation'\", \"flashin'\", \"noticin'\", \"affectin'\", \"collectin'\", \"lyin'\", \"outrhymin'\", 'dita', 'hyp', 'amole', \"plottin'\", \"actin'\", \"backhandin'\", \"surfsurfin'\", 'rucker', \"processin'\", \"hijackin'\", \"believin'\", 'sitch', 'unmisunderstood', \"graspin'\", \"icin'\", \"sniffin'\", 'hahahahahahaha', 'dinero', \"avoidin'\", \"misbehavin'\", 'semblant', \"raisin'\", \"marijuan'\", \"crankin'\", 'melee', 'untill', \"singin'\", 'woahwoahwoah', \"wantin'\", \"clubbin'\", \"slittin'\", 'imi', 'unmoored', \"styilin'\", 'mudhole', 'lipa', \"celebratin'\", \"aimin'\", 'swifty', \"studyin'\", 'seater', \"won'\", \"effin'\", \"complicatin'\", \"grainin'grainin'\", \"litterin'\", \"gaylookin'\", \"itchin'\", 'tay', \"toastin'\", \"durin'\", \"splashin'\", 'sogging', \"losin'\", \"wreckin'\", 'taha', \"fussin'\", \"boxin'\", 'sweepy', 'zaman', 'fack', 'blup', 'suttin', \"blitzin'\", 'flyness', \"laborin'\", 'ohohohoohooh', \"wigglin'\", \"chartin'\", \"waterloggin'\", 'woohoo', \"missin'\", \"smarteyein'\", \"pendin'\", 'unleveled', 'sho', 'drumline', \"gamblin'\", 'tranter', \"multitaskin'\", \"pleadin'\", \"sizin'\", \"intertwinin'\", \"selfinducin'\", \"soothin'\", 'expresser', \"colorin'\", 'het', \"schoolin'\", \"jackin'\", 'shippy', \"swangin'\", \"treadin'\", \"pumpin'\", 'yeni', \"overachievin'\", \"linkin'\", 'romantical', \"gangbangin'\", 'theres', \"returnin'\", 'fide', \"pillowtalkin'\", 'alf', \"comfortin'\", \"pipipickin'\", 'ville', \"creepin'\", 'takedown', 'unloyal', \"trollin'\", 'lalala', \"datin'\", 'cum', \"siphonin'\", \"reppin'\", \"accordin'\", \"extendin'\", 'frass', \"halfsteppin'\", \"sparkin'\", \"grimmin'\", \"chalkin'\", \"insertin'\", 'ly', \"gainin'\", \"chron'\", \"restrainin'\", \"stalkin'\", \"endin'\", 'trappy', \"provin'\", \"pawlin'\", \"shuttin'\", \"wildin'\", \"comprehendin'\", \"drownin'\", 'stormless', 'oohoohoohoohooh', \"puttin'\", 'arent', \"saidnothin'\", 'extracurriculum', \"politicin'\", 'tonk', 'gant', \"gurglin'\", 'afterhours', 'trophied', 'coparent', \"horsin'\", \"rootin'\", \"poisonin'\", 'fizzer', \"roughin'\", \"supplyin'\", \"tusslin'\", 'blowback', \"hoggin'\", \"thickenin'\", 'miseducation', 'proto', \"soundin'\", 'damme', \"comparin'\", 'ona', \"saucin'\", \"od'in'\", \"lovegluegunnin'\", \"enjoyin'\", \"maxin'\", \"pipin'\", 'ling', \"bleedin'\", \"pursuin'\", \"moonwalkin'\", \"envisionin'\", \"bafflin'\", 'roi', 'ohoohoohoohooh', \"cryin'\", \"cookin'\", \"beggin'\", 'growed', \"obsessin'\", \"transformin'\", \"teamin'\", \"excludin'\", 'hasta', \"reasonin'\", \"stinkin'\", 'valent', \"achin'\", \"surmisin'\", \"panellin'\", \"champagnepoppin'\", \"niyayibon'\", 'suddy', \"snitchin'\", \"stakin'\", \"canoodlin'\", \"bumpin'\", \"mobbin'\", 'sunray', 'massa', \"reloadin'\", \"bugin'\", \"wifin'\", \"youngin'\", \"shiftin'\", \"reactin'\", 'tch', \"pilin'\", 'sile', 'cuffin', 'pippy', \"mannin'\", \"protectin'\", \"embarrassin'\", \"pacin'\", 'prima', \"minglin'\", 'werent', \"cloudin'\", \"boolin'\", 'hyperextend', \"finessin'\", \"flauntin'\", 'squirter', 'uhhoh', 'quica', \"puddin'\", \"blarin'\", \"mclovin'\", \"backstabbin'\", \"flickerin'\", \"worshippin'\", 'fisted', \"quackin'\", \"approachin'\", \"yawnin'\", \"winkin'\", \"waxin'\", \"airin'\", \"risin'\", \"jestin'\", \"fizzuckin'\", \"soberin'\", 'refind', \"appealin'\", \"strokin'\", 'colonoscopy', 'knowingness', \"flockin'\", \"waitin'\", 'lindo', 'chucky', 'ohwoooh', \"cheerin'\", \"creatin'\", \"shakin'\", 'peyton', \"skipskippin'\", \"savin'\", 'piff', \"mindin'\", 'kala', \"frizzin'\", \"makin'\", \"annoyin'\", \"slayin'\", 'ohohohohohohoh', \"stormin'\", 'rockabye', \"gen'\", \"thumbin'\", \"rakin'\", \"cravin'\", 'ie', \"wylin'\", \"swervin'swervin'\", \"sippin'\", 'weeble', \"tun'\", \"visitin'\", \"spazzin'\", \"harassin'\", \"glistenin'\", \"humpin'\", \"slippin'\", 'parle', \"dividin'\", \"stabbin'\", \"pannin'\", 'hahahahahaha', \"learnin'\", \"finnickin'\", 'fu', 'woooohoohoohooh', 'rizzle', \"guessin'\", \"smashin'\", \"diein'\", \"mutterin'\", 'basta', 'daoine', \"dinin'\", \"bein'\", \"flirtin'\", 'lalalalala', \"circlin'\", \"imposin'\", \"strugglin'\", \"stayin'\", \"travellin'\", \"neglectin'\", 'unevadable', \"readin'\", 'amil', 'justo', \"stankin'\", \"trackin'\", \"seemin'\", 'ohohohohohohohohohohohohohohohoh', \"flakin'\", \"thinkin'\", \"bingewatchin'\", 'mal', 'upclose', \"referencin'\", 'wa', \"dismemberin'\", 'ich', \"tryin'\", 'henny', \"pourin'\", \"dealin'\", \"fillin'\", 'loca', \"growin'\", \"functionin'\", \"trappin'\", 'trunked', 'familia', 'singlehandedly', 'sina', \"realizin'\", 'wasnt', \"sewin'\", \"whiplashin'\", 'sny', \"watchin'\", \"lobbyin'\", 'syruped', \"smartin'\", \"buyin'\", \"stuffin'\", \"sluggin'\", \"deterioratin'\", \"hidin'\", 'zeed', \"teachin'\", \"squirtin'\", \"manhandlin'\", 'mould', 'anda', 'nebby', 'kissy', \"panelin'\", \"skippin'\", 'ayyayy', \"fadin'\", \"fistin'\", \"needin'\", 'aller', \"willin'\", 'repromise', \"bouncin'\", \"irkin'\", \"pullin'\", \"eavesdroppin'\", \"pussyfootin'\", \"chilin'\", 'skelter', \"jabbin'\", \"protrudin'\", 'unlight', 'skag', 'chola', \"focusin'\", 'upgive', \"cummin'\", \"romancin'\", 'hightop', 'oakwood', 'tha', \"complainin'\", \"moppin'\", \"unitin'\", \"stampedin'\", \"landin'\", 'spreaded', 'tae', \"pickin'\", 'ahu', 'tez', \"lurkin'\", \"starin'\", \"lettin'\", \"birthin'\", \"spellin'\", \"shavin'\", \"dismissin'\", 'peine', 'cack', 'oohoohoohohoohoohoh', 'bool', \"swearin'\", \"massagin'\", \"swallowin'\", \"rippin'\", \"havin'\", 'woahwoah', \"underlyin'\", \"bridgin'\", \"swappin'\", 'bo', \"gigglin'\", \"promisin'\", 'kell', \"perplexin'\", 'singlehanded', 'copa', \"ccomin'\", \"travelin'\", \"rushin'\", 'quo', 'stroker', 'achar', \"satanworshippin'\", \"crusin'\", 'oohoohoohooh', 'woahohohoh', \"addressin'\", \"punkin'\", \"racin'\", \"peelin'\", 'memoria', \"barfin'\", 'aint', \"mumblin'\", \"counselin'\", \"downtalkin'\", 'bundy', 'wid', \"morphin'\", \"stressin'\", 'rethe', 'whoo', \"pastin'\", \"mean'\", \"matchin'\", 'frappe', \"buildin'\", 'ohohoh', 'gurl', 'froggish', \"duckin'\", \"ricochetin'\", 'souffle', \"surgin'\", 'reposer', 'jiggy', 'ohohohohohoh', \"tapin'\", \"gassin'\", \"streamin'\", \"open'\", \"steamin'\", \"stampin'\", \"squashin'\", \"coastin'\", \"reviewin'\", \"listenin'\", \"seekin'\", \"sixwhippin'\", \"dwellin'\", 'ser', 'gaffle', \"mudslingin'\", 'oohoohoohoohoohoohooh', \"hookin'\", \"dryin'\", \"moldin'\", \"smellin'\", \"adjustin'\", 'conin', 'baka', \"explain'\", \"rentin'\", \"profilin'\", \"pretendin'\", \"unravellin'\", \"choosin'\", \"huggin'\", 'hahahahahahahaha', 'woooohoohooh', \"findin'\", \"congregatin'\", \"pumin'\", 'noir', 'azon', 'ohohohohohohohohohohohoh', 'unsee', 'mille', 'shotter', \"droolin'\", \"clownin'\", 'plap', \"friggin'\", \"standin'\", \"slurrin'\", \"workin'\", 'honeylike', \"thinnin'\", \"treatin'\", 'hurted', \"hottin'\", \"motherfuckin'\", \"slidin'\", \"meanin'\", \"chompin'\", \"mappin'\", \"burstin'\", \"snoozin'\", \"yackin'\", \"violatin'\", \"magnifyin'\", \"cipherin'\", \"searchin'\", 'unlyrical', 'thumper', \"discussin'\", \"unravelin'\", \"addin'\", \"gettin'\", \"morn'\", \"sprayin'\", 'oohohoohoh', \"innocentlookin'\", 'coppin', \"carin'\", \"bloodflingin'\", \"goin'\", 'nana', \"kisskissin'\", \"dispensin'\", \"frostin'\", \"nonrappin'\", 'boof', \"continuin'\", \"sendin'\", \"whilin'\", \"undressin'\", 'wooohohoh', 'ayy', \"expressin'\", \"bodyin'\", \"erodin'\", \"cappin'\", \"snugglin'\", \"scarin'\", \"buzzin'\", 'gue', \"vibin'\", \"fixin'\", \"claimin'\", \"shovin'\", \"haltin'\", 'malo', \"callin'\", \"bummin'\", 'ohohohohohohohohohohoh', \"cornylookin'\", \"pon'\", \"ridin'\", \"featurin'\", 'laine', \"comin'\", 'obe', \"dreamin'\", 'haooh', 'oohoohooh', \"beakin'\", 'gaz', \"clubhoppin'\", 'illiterature', 'coldhearted', 'tunk', \"forgettin'\", \"dumplin'\", \"turnin'\", 'spanky', \"toyin'\", 'masa', \"abidin'\", \"wheeliein'\", 'neverland', \"saggin'\", \"targettin'\", 'tonite', \"imaginin'\", 'mag', \"patrollin'\", \"glowin'\", \"moshin'\", \"cursin'\", \"rhymin'\", \"peepin'\", 'scaff', \"inhalin'\", \"interferin'\", \"wrestlin'\", \"ramblin'\", \"gloverin'\", \"tuckin'\", 'kreis', 'whan', \"respondin'\", \"hearin'\", 'eastland', \"mo'fuckin'\", \"fundin'\", 'toat', \"ghostin'\", 'ist', \"partyin'\", \"publishin'\", 'bilinguist', \"cluckin'\", \"pitchin'\", 'bien', \"revivin'\", 'dal', \"cleanin'\", \"piercin'\", \"budgin'\", \"tokin'\", \"sidetrackin'\", \"jockin'\", \"buryin'\", \"thuggin'\", \"tryyyinnn'\", 'fantastico', \"fuckin'\", \"bowin'\", 'deeping', 'penetrator', \"laughin'\", \"strikin'\", \"twirlin'\", \"switchin'\", \"cussin'\", 'toi', \"weakenin'\", \"bakin'\", \"performin'\", \"mountin'\", 'gabi', \"boardin'\", 'khalifa', \"ghostwritin'\", \"followin'\", 'nace', \"bashin'\", \"diggin'\", 'barbone', 'seance', \"stunnin'\", \"fittin'\", \"mentionin'\", \"reapin'\", 'dramatical', \"drinkin'\", 'gooding', \"paintin'\", \"luvin'\", 'oohwoooohoohooh', 'ohooh', \"hoopin'\", \"chattin'\", 'mizzy', \"hatin'\", \"groundbreakin'\", \"muh'fuckin'\", \"fizzlin'\", 'rada', 'doesnt', \"wafflin'\", 'buba', \"bringin'\", \"givin'\", 'goldish', \"tearin'\", 'puddy', 'backwood', \"clickclackin'\", \"quittin'\", \"servin'\", 'shola', \"whisperin'\", 'ancora', \"overdosin'\", \"flossin'\", \"mashin'\", \"leadin'\", 'woah', 'clit', 'bu', \"bathin'\", 'ko', \"snorin'\", \"fightin'\", 'kartel', 'skully', \"discouragin'\", 'calp', \"relatin'\", \"competin'\", \"drivin'\", \"sweatin'\", 'ticky', \"soppin'\", \"gan'\", \"sponsorin'\", 'ruiner', 'dreamt', 'ohohohohohohohoh', 'tane', 'spor', 'curr', \"loopin'\", \"clickin'\", \"whinnin'\", \"skatin'\", 'thornbush', \"retreatin'\", \"smugglin'\", \"pistolpackin'\", \"finishin'\", \"pinchin'\", \"toppin'\", \"botherin'\", \"shufflin'\", \"weddin'\", \"fulfillin'\", \"harmin'\", 'rayful', 'da', \"checkin'\", 'unbothered', 'helly', 'paddywhack', 'savin', \"stuntin'\", 'ohohohohoh', \"splurgin'\", \"stylin'\", \"amazin'\", \"pokin'\", 'ged', \"witnessin'\", 'oohwoo', 'supe', \"cacklin'\", \"tannin'\", \"peakin'\", \"degradin'\", \"hen'\", \"shockin'\", \"children'\", \"hollerin'\", 'aa', 'bom', \"blisterin'\", \"hurtin'\", 'shedded', \"bruisin'\", \"beamin'\", \"redoin'\", 'augh', \"flushin'\", 'helder', \"stallin'\", \"sharin'\", \"hangin'\", \"grabbin'\", 'chinky', \"divin'\", \"tickin'\", 'calor', 'cheque', \"babysittin'\", \"freakin'\", \"remixin'\", \"campin'\", \"residin'\", \"disrespectin'\", 'mau', \"headin'\", \"rightin'\", \"choppin'\", \"seatin'\", 'revisitation', \"starvin'\", \"spiralin'\", \"paintballin'\", \"plotin'\", 'skrrtskrrt', \"illin'\", \"bloodsuckin'\", 'crum', \"levitatin'\", \"anticipatin'\", \"tyin'\", \"typin'\", \"flexin'\", \"gafflin'\", \"fizzin'\", \"laggin'\", \"gun'\", 'unabiding', \"cumin'\", \"resurrectin'\", 'shish', \"payin'\", \"offerin'\", 'youngun', \"dishin'\", \"somethin'\", \"hirin'\", \"luckin'\", 'unsweet', \"answerin'\", \"dodgin'\", \"headbangin'\", \"rantin'\", \"failin'\", \"blockswitchin'\", \"spikin'\", \"drummin'\", \"dancin'\", 'ako', \"scrapin'\", 'cooter', \"meetin'\", \"cruisin'\", 'flingy', 'baller', \"cakin'\", 'ohoh', \"pointin'\", 'ching', \"skydivin'\", \"arguin'\", \"misplacin'\", 'haoohooh', 'spalding', 'lamby', 'bando', \"acceptin'\", 'das', 'merch', 'overdramatic', \"grievin'\", 'boma', \"parasailin'\", 'apa', \"wan'\", \"dropin'\", \"yodellin'\", \"hissin'\", \"darlin'\", 'yor', 'yar', \"heatin'\", \"don'\", \"trickin'\", 'beefin', \"ducin'\", 'uhh', \"cuddlin'\", \"grazin'\", 'wooooh', \"floatin'\", \"excitin'\", \"concealin'\", \"cavin'\", \"rubrubbin'\", \"cleansin'\", \"palmin'\", \"punchin'\", \"soarin'\", \"warnin'\", \"rainin'\", \"resortin'\", \"handin'\", \"puffin'\", \"signin'\", \"stackin'\", \"noddin'\", 'reh', \"meltin'\", \"writtin'\", 'tele', \"coladain'\", \"timin'\", \"shittin'\", \"dozin'\", \"eruptin'\", 'nicky', \"rappin'\", \"swingin'\", \"doubtin'\", \"jerkin'\", 'gogo', \"challengin'\", \"countin'\", \"pissin'\", 'sitio', 'bing', \"braggin'\", 'lordy', \"cccomin'\", \"misleadin'\", 'peckerwood', \"gleamin'\", \"within'\", 'leat', 'zemi', \"impressin'\", 'ayyayyayy', \"considerin'\", 'woahohohohohohoh', 'influencer', \"asswhoopin'\", \"dartin'\", 'bobo', \"outstandin'\", \"vacuumin'\", \"haulin'\", 'circumflexion', \"spotifyin'\", \"mornin'\", 'agua', \"zippin'\", 'eyewear', \"ruinin'\", 'batata', 'chaka', 'timbo', 'alist', 'hemen', \"launchin'\", \"nervewrackin'\", \"thankin'\", 'bouche', 'lalo', \"navigatin'\", \"escapin'\", \"slicin'\", 'doney', 'pricelessness', \"chillin'\", 'fulham', \"threatenin'\", 'unthaw', \"ragin'\", \"spittin'\", \"mothafreakin'\", 'bartending', 'benben', \"overthinkin'\", \"ridin'ridin'\", \"exposin'\", \"droppin'\", \"gunnin'\", \"overtextin'\", \"spewin'\", \"grindin'\", 'leadoff', 'prewarn', 'dialin', 'yee', \"packin'\", \"sawin'\", \"swimmin'\", 'flavour', \"stashin'\", 'holla', \"receivin'\", \"yankin'\", 'sah', 'protege', \"rearrangin'\", 'technologic', 'bam', \"flowin'\", \"revoltin'\", \"guzzlin'\", \"providin'\", 'ras', \"snatchin'\", \"tastin'\", 'tippy', \"eatin'\", \"lookin'\", \"swerveswervin'\", \"caressin'\", 'soleil', \"spillin'\", 'elle', 'percussioner', \"stompin'\", \"jumpin'\", \"knockin'\", 'hahahahahahahahahahaha', \"dismantlin'\", 'pizzle', 'graining', \"stoppin'\", \"twerkin'\", 'oclock', \"gaybashin'\", \"surfin'\", \"dunkin'\", 'sie', \"nappin'\", \"scrollin'\", 'wouldnt', \"usin'\", 'maximus', \"scissorin'\", \"phonin'\", \"committin'\", \"replayin'\", \"rcmancin'\", \"satisfyin'\", 'checkless', 'grr', \"preachin'\", \"throwin'\", 'ohohohohohohohohohoh', \"totin'\", 'hunh', \"blurrin'\", 'messin', \"mouthwaterin'\", \"suffocatin'\", \"wiggin'\", 'woahoh', 'entree', \"unsettlin'\", 'quadra', \"joinin'\", \"wonderin'\", 'oohooh', \"mimickin'\", \"chasin'\", 'banco', \"bustin'\", \"plowin'\", \"breathin'\", 'woosh', \"murderin'\", \"chillaxin'\", \"washin'\", \"hibernatin'\", \"dressin'\", \"unforgivin'\", 'supa', \"profitin'\", \"handholdin'\", \"behavin'\", \"taggin'\", \"sinkin'\", \"ppprocessin'\", 'unkiss', \"spwashin'\", \"blazin'\", \"bubblin'\", \"slammin'\", 'dehors', 'poppin', \"slimin'\", \"settin'\", \"defyin'\", 'capple', \"exaltin'\", \"revvin'\", 'guardo', 'cantar', \"steppin'\", \"relaxin'\", \"swellin'\", \"bloggin'\", \"spendin'\", \"roundtrippin'\", \"immaturin'\", 'cuffer', \"trippin'\", \"copyin'\", \"struttin'\", \"correctin'\", \"fakin'\", \"carvin'\", \"postin'\", 'tock', \"riggin'\", \"tweakin'\", 'wi', 'polos', 'bajan', 'las', \"ggettin'\", 'reit', 'youse', 'yerba', \"blastin'\", \"freezin'\", \"squealin'\", 'weighin', \"withholdin'\", \"weathergettin'\", 'tekken', \"gropin'\", 'retill', 'ret', \"cocksuckin'\", \"tremblin'\", \"sellin'\", \"slitherin'\", \"shoutin'\", \"motherfin'\", 'thats', 'un', 'overdosage', \"brainstormin'\", 'shouldnt', \"feedin'\", \"invadin'\", 'ismy', 'naa', \"posin'\", 'carlie', \"fishin'\", 'pac', \"horseplayin'\", 'jackboy', \"clutchin'\", \"disgustin'\", \"screwin'\", \"downplayin'\", \"brushin'\", 'ambiens', \"leavin'\", \"understandin'\", \"skinnin'\", 'mise', \"molestin'\", \"emceein'\", \"reelin'\", \"growlin'\", \"wastin'\", 'keet', \"n'\", \"blamin'\", \"hannenin'\", \"lightin'\", 'outrap', \"includin'\", 'winehouse', 'oohohoohohoh', 'cartman', \"sayin'\", \"bowlin'\", \"supportin'\", \"burnin'\", 'nach', \"releasin'\", \"kidnappin'\", \"likin'\", 'kon', 'cuarenta', \"chokin'\", 'dev', \"funkin'\", \"slingin'\", 'mids', 'ak', \"reminiscin'\", 'lalalalalalalalalala', 'untouch', \"chucklin'\", \"gaggin'\", \"slurpin'\", 'frim', 'colour', \"fastin'\", 'unfadable', \"dan'\", 'wumble', \"coppin'\", \"plannin'\", \"blackin'\", \"poundin'\", 'ama', 'drophead', \"evolvin'\", 'busser', 'lalalala', \"undeservin'\", 'psychologic', \"flamin'\", 'lan', \"dirtyin'\", \"mockin'\", \"fukin'\", \"clashin'\", \"easin'\", \"foamin'\", \"overdoin'\", 'vert', 'scarface', 'dop', \"crawlin'\", 'baretta', \"rememberin'\", 'certy', \"guidin'\", 'hahahaha', 'shih', 'swang', 'oohoohoohohoh', \"leanin'\", 'yesso', \"hoein'\", \"bombin'\", \"dottin'\", \"patronizin'\", \"grainin'\", 'platten', \"slowin'\", 'undoubtably', 'hahaha', \"measurin'\", \"battin'\", \"tankin'\", \"reclinin'\", 'soso', 'tec', \"expectin'\", 'scarn', 'kiki', 'dura', \"throbbin'\", \"winin'\", 'jager', 'sabe', \"denyin'\", \"bankin'\", \"catchin'\", 'weve', \"poppin'\", \"muhfuckin'\", 'viver', \"hoppin'\", \"churpin'\", \"traffickin'\", \"dwarfin'\", \"overreactin'\", 'hahahahaha', \"dillydallyin'\", 'wigger', 'yaya', \"withdrawin'\", 'bloodthirst', \"coachin'\", \"declinin'\", \"chuckin'\", 'tentlike', \"cuttin'\", \"sneakin'\", \"wobblin'\", \"weighin'\", \"shoppin'\", \"outweighin'\", \"scopin'\", 'lohan', \"fallin'\", \"preein'\", \"sittin'\", \"collaboratin'\", 'oohoh', \"slashin'\", 'sware', \"snortin'\", \"cottonpickin'\", \"restin'\", \"inkin'\", \"ma'fuckin'\", \"seasonin'\", 'overthink', \"caretakin'\", 'teste', \"cuppin'\", 'furied', \"whinin'\", 'amar', 'gra', \"houndin'\", \"gon'\", 'wawa', 'dogfall', \"shootin'\", \"jottin'\", \"feelin'\", 'wir', \"jammin'\", 'indictive', \"slaughterin'\", \"sonnin'\", 'peasy', 'youd', \"revolvin'\", 'streep', 'wha', \"writin'\", \"stickin'\", \"dyin'\", \"movin'\", 'hillman', \"smearin'\", \"bargainin'\", \"bullyin'\", \"breakin'\", 'blesser', \"curdlin'\", \"battlin'\", \"eyein'\", \"applyin'\", 'knick', 'berret', \"freestylin'\", 'redeye', \"tweetin'\", \"storin'\", \"blinkin'\", \"ejaculatin'\", 'arrowsmith', 'gally', 'misfortunate', \"managin'\", \"purchasin'\", 'crouton', \"billin'\", 'numero', 'za', \"drankin'\", \"tossin'\", 'hacky', 'pinscher', \"ringin'\", \"twosteppin'\", 'swaggie', \"wheezin'\", 'kindergartner', \"drippin'\", \"amusin'\", \"nuthin'\", \"apologizin'\", 'lalalalalalala', \"forecastin'\", \"biggin'\", \"crushin'\", 'foo', \"stonin'\", 'steeler', \"spreadin'\", \"backpackin'\", \"everythin'\", \"strippin'\", 'beastie', \"heartbreakin'\", 'yok', 'aeroplane', \"suin'\", \"enterin'\", \"lockin'\", \"pluggin'\", 'hei', 'ameen', \"blessin'\", 'secreto', \"schemin'\", 'tristate', \"tightenin'\", \"balancin'\", 'sneezy', \"samplin'\", \"amountin'\", \"interceptin'\", \"ballin'\", \"earthshatterin'\", \"scramblin'\", \"photoshootin'\", \"overseein'\", 'duction', 'crunk', 'shanked', 'abu', \"enchantin'\", \"pushin'\", \"sickenin'\", \"maybachin'\", \"groovin'\", \"dumpin'\", \"twitchin'\", \"messin'\", \"helpin'\", \"sneezin'\", \"admittin'\", \"healin'\", 'analyse', 'serta', \"skewin'\", \"trashtalkin'\", \"thirstin'\", 'recommencer', \"relayin'\", \"chainsawin'\", 'fadeaway', \"sexin'\", 'frette', \"bottomin'\", \"whippin'\", \"payayyin'\", \"gushin'\", \"evenin'\", 'arse', \"devisin'\", \"shiverin'\", 'woahohoh', \"lyricsmugglin'\", \"filmin'\", \"forcin'\", \"dumbin'\", \"buntin'\", \"buggin'\", 'pickler', 'noop', \"hailin'\", 'rana', \"forgin'\", 'behaviour', 'yeller', \"sufferin'\", \"hopin'\", 'didnt', \"wanderin'\", \"ownin'\", \"rapin'\", \"practicin'\", 'waka', \"strappin'\", 'chun', \"shippin'\", \"deliverin'\", 'domal', \"siblin'\", \"handlin'\", 'tendresse', \"trowin'\", \"firin'\", \"critiquin'\", \"pennin'\", \"frickin'\", 'wasteman', \"developin'\", 'kapa', \"conversatin'\", \"menacin'\", \"chewin'\", 'chinny', \"proceedin'\", \"mothafckin'\", \"cccravin'\", 'plat', \"exhaustin'\", \"ceilin'\", \"deceivin'\", \"seducin'\", 'oohoohoohoohoohoohoohooh', \"gossipin'\", \"blingin'\", \"ravin'\", \"repeatin'\", \"costin'\", \"stingin'\", \"deepthroatin'\", \"tippin'\", \"closin'\", \"snakin'\", 'poxy', \"interruptin'\", \"bendin'\", \"crippin'\", \"ventin'\", \"bickerin'\", \"snappin'\", \"hatnin'\", \"reachin'\", \"spoofin'\", 'haha', \"shaqtin'\", \"dripdrippin'\", \"livin'\", \"smokin'\", 'wap', 'napa', 'youve', \"everlastin'\", \"knowin'\", \"swarmin'\", 'milla', \"rankin'\", 'jako', \"wagin'\", \"buttfuckin'\", 'repeller', 'rud', \"baggin'\", \"peekin'\", \"shiteatin'\", 'flix', 'kung', \"onein'\", 'theyre', 'killas', \"gazin'\", \"foldin'\", \"soakin'\", \"applaudin'\", \"debatin'\", 'bunkie', \"hawkin'\", \"squeezin'\", \"liftin'\", 'toppy', \"umpirin'\", \"talkin'\", \"smckin'\", \"confusin'\", \"snoopin'\", 'muid', 'gether', \"lickin'\", 'hakeem', 'sixer', \"screamin'\", \"bangin'\", 'blet', \"jigglin'\", 'woahohohohohoh', \"wristin'\", \"slappin'\", \"winnin'\", 'capitan', \"holdin'\", \"scrappin'\", \"icegrillin'\", \"buddin'\", 'zo', \"teasin'\", \"sentencin'\", 'bere', \"playin'\", \"crappin'\", 'dari', \"wilin'\", \"perfectin'\", \"openin'\", \"wakin'\", 'baw', 'pont', \"dehydratin'\", \"danglin'\", 'oolong', \"placin'\", \"buckin'\", \"mistakin'\", \"storytellin'\", 'posttraumatic', \"asphyxiatin'\", \"attackin'\", \"collapsin'\", \"perpin'\", \"rockin'\", \"flyin'\", \"appeasin'\", \"bucklin'\", \"mothafuckin'\", \"hummin'\", \"wearin'\", \"fearin'\", \"curlin'\", \"vomitin'\", \"deservin'\", \"paddlin'\", \"showin'\", 'royale', \"pressin'\", 'trainless', 'ohoohooh', \"climbin'\", \"backin'\", 'prob', \"babblin'\", 'pico', \"smackin'\", \"bettin'\", \"smilin'\", 'theyll', 'pon', \"explainin'\", 'redding', 'kai', \"divorcin'\", 'tech', \"bulgin'\", \"decomposin'\", \"robbin'\", \"peggin'\", 'deformative', 'estado', \"takin'\", 'overproof', \"somthin'\", 'yuh', \"swaggin'\", 'beaky', \"ron'\", \"invitin'\", \"killin'\", \"pleasin'\", \"suttin'\", 'outdrink', 'gon', \"bailin'\", \"boomin'\", \"keepin'\", \"yellin'\", \"changin'\", \"lootin'\", \"enablin'\", \"comcomcomin'\", \"splittin'\", \"causin'\", 'hulu', \"spinnin'\", 'turnaway', 'ohohooh', 'iba', \"clearin'\", \"an'\", \"recruitin'\", 'simmon', 'zar', \"fin'\", \"doggin'\", \"startin'\", \"conkin'\", \"bussin'\", 'chalker', \"jugglin'\", 'lalalalalala', \"kissin'\", \"camcordin'\", \"blendin'\", \"bearin'\", \"durrn'\", \"asskissin'\", \"emptyin'\", 'steepy', \"raggin'\", 'couped', \"buttkissin'\", \"layin'\", \"crazygluin'\", 'blanco', 'ym', 'wacker', \"topplin'\", 'taskit', \"harrowin'\", \"wavin'\", \"huffin'\", \"marchin'\", \"cringin'\", \"copkillin'\", 'tooken', \"entertainin'\", \"destroyin'\", \"anythin'\", \"fantasizin'\", \"speedin'\", \"quotin'\", \"stealin'\", \"severin'\", \"grinnin'\", 'neo', 'shotty', \"twistin'\", 'mannie', \"prayin'\", 'symbiote', \"overflowin'\", \"beefin'\", \"lashin'\", \"forgivin'\", \"votin'\", \"judgin'\", 'pleaser', \"kissin'kissin'\", \"antein'\", \"mindbogglin'\", \"asswhippin'\", \"weepin'\", 'multiverse', \"shinin'\", \"flarin'\", \"leapin'\", \"maintainin'\", \"stereotypin'\", 'desi', 'haddie', 'alt', 'benzo', \"koppin'\", 'theirselves', \"sweepin'\", \"strummin'\", \"hedgetrimmin'\", 'ach', \"dawnin'\", \"stockin'\", 'giornata', \"crammin'\", 'covid', \"happenin'\", 'hahahahahahahahahahahaha', \"scweamin'\", \"observin'\", \"bossin'\", \"rrunnin'\", \"tan'\", \"masterin'\", \"panickin'\", \"lightnin'\", \"sobbin'\", \"frontin'\", \"facin'\", \"walkin'\", \"blushin'\", 'harbour', 'cest', \"snowin'\", 'woahooh', 'sha', \"crashin'\", \"vickin'\", \"rebuildin'\", 'mala', \"aringin'\", \"scorchin'\", \"snorkelin'\", 'sned', 'incog', \"gaspin'\", 'toho', 'rerate', \"plankin'\", 'ackey', \"tellin'\", \"biddin'\", 'broll', \"textin'\", \"kiddin'\", 'redundance', \"earnin'\", \"grippin'\", 'taj', \"draggin'\", 'paga', \"hatchin'\", \"becomin'\", \"channelin'\", \"cockin'\", \"baballin'\", 'stoner', 'oohwoah', 'ohwoah', 'nother', 'cribo', \"borin'\", \"pattycakin'\", \"hurlin'\", \"chirpin'\", \"speakin'\", \"conjurin'\", \"barkin'\", \"remainin'\", \"daydreamin'\", 'savour', \"dicklickin'\", \"attractin'\", \"parkin'\", \"cancelin'\", \"waterin'\", \"fiendin'\", 'plex', 'adet', \"drawin'\", \"surroundin'\", \"contemplatin'\", \"promotin'\", \"askin'\", \"dippin'\", \"expandin'\", 'spasmatic', 'insaneness', 'loro', 'ohohohoh', 'tou', \"retirin'\", \"assumin'\", 'dum', \"survivin'\", \"stutterin'\", \"leggin'\", \"swapin'\", \"doin'\", \"coughin'\", \"nuttin'\", 'husher', 'heezy', \"modelin'\", \"bluffin'\", \"huntin'\", \"zonin'\", 'ohohwoah', \"clappin'\", \"triptrippin'\", \"sleepin'\", \"lovin'\", 'overstand', 'hahahahahahahahaha', 'iso', \"ironin'\", \"hittin'\", 'arriba', \"swervin'\", \"motherfreakin'\", \"bleachin'\", \"slackin'\", 'crocker', \"leakin'\", \"settlin'\", 'hellier', \"murkin'\", 'cliffside', \"wheelin'\", \"tourin'\", \"carryin'\", 'aw', \"feudin'\", 'truthteller', \"passin'\", \"wishin'\", \"solvin'\", 'delf', 'furiosa', \"joggin'\", \"moanin'\", \"glancin'\", \"blowin'\", \"freshin'\", \"manifestin'\", \"boppin'\", \"surprisin'\", \"testin'\", \"injectin'\", \"yappin'\", 'serio', \"muthafuckin'\", 'bas', \"hon'\", \"recognizin'\", \"playerhatin'\", \"submittin'\", \"beginnin'\", 'wah', 'ricin', \"suckin'\", \"flickin'\", 'oohoohoohoohoohoohoohoohoohooh', \"hustlin'\", 'uppour', \"clinkin'\", \"pimpin'\", 'jours', \"pistolwhippin'\", \"conditionin'\", \"whoopin'\", \"recordin'\", \"roastin'\", 'fam', \"consultin'\", \"sleepwalkin'\", 'woooh', \"displayin'\", 'sa', \"jokin'\", 'weet', 'ohwoahoh', 'fi', 'koi', 'moyen', 'redbone'}\n"
     ]
    }
   ],
   "source": [
    "# Unique misspelled words\n",
    "unique_misspelled = set(misspelled_in_joined.explode().dropna().tolist())\n",
    "print(f\"Unique misspelled words ({len(unique_misspelled)}):\")\n",
    "print(unique_misspelled)"
   ]
  },
  {
   "cell_type": "markdown",
   "metadata": {},
   "source": [
    "## Lemmatization"
   ]
  },
  {
   "cell_type": "code",
   "execution_count": 138,
   "metadata": {},
   "outputs": [],
   "source": [
    "from nltk.corpus import wordnet\n",
    "from nltk.corpus import wordnet\n",
    "from nltk.tag import pos_tag\n",
    "\n",
    "lemmatizer = nltk.WordNetLemmatizer()\n",
    "\n",
    "def get_wordnet_pos(treebank_tag):\n",
    "    if treebank_tag.startswith('J'):\n",
    "        return wordnet.ADJ\n",
    "    elif treebank_tag.startswith('V'):\n",
    "        return wordnet.VERB\n",
    "    elif treebank_tag.startswith('N'):\n",
    "        return wordnet.NOUN\n",
    "    elif treebank_tag.startswith('R'):\n",
    "        return wordnet.ADV\n",
    "    else:\n",
    "        return wordnet.NOUN  # default to noun\n",
    "\n",
    "def lemmatize_tokens_with_pos(token_list):\n",
    "    pos_tags = pos_tag(token_list)\n",
    "    return [lemmatizer.lemmatize(token, get_wordnet_pos(pos)) for token, pos in pos_tags]\n"
   ]
  },
  {
   "cell_type": "code",
   "execution_count": 139,
   "metadata": {},
   "outputs": [
    {
     "name": "stdout",
     "output_type": "stream",
     "text": [
      "Original: ['running', 'ran', 'eats', 'eating', 'cars', 'better', 'wolves', 'children']\n",
      "Lemmatized: ['run', 'ran', 'eats', 'eat', 'car', 'well', 'wolf', 'child']\n"
     ]
    }
   ],
   "source": [
    "example_tokens = ['running', 'ran', 'eats', 'eating', 'cars', 'better', 'wolves', 'children']\n",
    "\n",
    "lemmatized = lemmatize_tokens_with_pos(example_tokens)\n",
    "print(\"Original:\", example_tokens)\n",
    "print(\"Lemmatized:\", lemmatized)"
   ]
  },
  {
   "cell_type": "code",
   "execution_count": 140,
   "metadata": {},
   "outputs": [
    {
     "data": {
      "text/plain": [
       "['Artist',\n",
       " 'Title',\n",
       " 'Lyric',\n",
       " 'Misspelled_Words',\n",
       " 'Lyric_Filtered',\n",
       " 'Filtered_Misspelled_Words',\n",
       " 'Tokenized_Lyric',\n",
       " 'Joined_Lyric']"
      ]
     },
     "execution_count": 140,
     "metadata": {},
     "output_type": "execute_result"
    }
   ],
   "source": [
    "filtered_df.columns.to_list()"
   ]
  },
  {
   "cell_type": "code",
   "execution_count": 141,
   "metadata": {},
   "outputs": [],
   "source": [
    "filtered_df['Lemmatized_Tokens'] = filtered_df['Tokenized_Lyric'].apply(lemmatize_tokens_with_pos)"
   ]
  },
  {
   "cell_type": "code",
   "execution_count": 142,
   "metadata": {},
   "outputs": [
    {
     "data": {
      "text/html": [
       "<div>\n",
       "<style scoped>\n",
       "    .dataframe tbody tr th:only-of-type {\n",
       "        vertical-align: middle;\n",
       "    }\n",
       "\n",
       "    .dataframe tbody tr th {\n",
       "        vertical-align: top;\n",
       "    }\n",
       "\n",
       "    .dataframe thead th {\n",
       "        text-align: right;\n",
       "    }\n",
       "</style>\n",
       "<table border=\"1\" class=\"dataframe\">\n",
       "  <thead>\n",
       "    <tr style=\"text-align: right;\">\n",
       "      <th></th>\n",
       "      <th>Artist</th>\n",
       "      <th>Title</th>\n",
       "      <th>Lyric</th>\n",
       "      <th>Misspelled_Words</th>\n",
       "      <th>Lyric_Filtered</th>\n",
       "      <th>Filtered_Misspelled_Words</th>\n",
       "      <th>Tokenized_Lyric</th>\n",
       "      <th>Joined_Lyric</th>\n",
       "      <th>Lemmatized_Tokens</th>\n",
       "    </tr>\n",
       "  </thead>\n",
       "  <tbody>\n",
       "    <tr>\n",
       "      <th>0</th>\n",
       "      <td>Ariana Grande</td>\n",
       "      <td>​thank u, next</td>\n",
       "      <td>thought i'd end up with sean but he wasn't a m...</td>\n",
       "      <td>[\"nothin'\", \"havin'\", 'ari', 'pre', \"'bout\", '...</td>\n",
       "      <td>thought i'd end up with sean but he wasn't a m...</td>\n",
       "      <td>[fuckin', nothin', gon', yee, havin']</td>\n",
       "      <td>[thought, i'd, end, up, with, sean, but, he, w...</td>\n",
       "      <td>thought i'd end up with sean but he wasn't a m...</td>\n",
       "      <td>[thought, i'd, end, up, with, sean, but, he, w...</td>\n",
       "    </tr>\n",
       "    <tr>\n",
       "      <th>1</th>\n",
       "      <td>Ariana Grande</td>\n",
       "      <td>7 rings</td>\n",
       "      <td>yeah breakfast at tiffany's and bottles of bub...</td>\n",
       "      <td>['redbottoms', \"tiffany's\", \"gleamin'\", \"looki...</td>\n",
       "      <td>yeah breakfast at tiffany and bottles of bubbl...</td>\n",
       "      <td>[gleamin', beamin', lookin', poppin', gon', wa...</td>\n",
       "      <td>[yeah, breakfast, at, tiffany, and, bottles, o...</td>\n",
       "      <td>yeah breakfast at tiffany and bottles of bubbl...</td>\n",
       "      <td>[yeah, breakfast, at, tiffany, and, bottle, of...</td>\n",
       "    </tr>\n",
       "    <tr>\n",
       "      <th>2</th>\n",
       "      <td>Ariana Grande</td>\n",
       "      <td>​god is a woman</td>\n",
       "      <td>you you love it how i move you you love it how...</td>\n",
       "      <td>[\"feelin'\", 'pre', 'uniwhen', 'onetrack', \"tel...</td>\n",
       "      <td>you you love it how i move you you love it how...</td>\n",
       "      <td>[feelin', tellin']</td>\n",
       "      <td>[you, you, love, it, how, i, move, you, you, l...</td>\n",
       "      <td>you you love it how i move you you love it how...</td>\n",
       "      <td>[you, you, love, it, how, i, move, you, you, l...</td>\n",
       "    </tr>\n",
       "    <tr>\n",
       "      <th>3</th>\n",
       "      <td>Ariana Grande</td>\n",
       "      <td>side to side</td>\n",
       "      <td>ariana grande nicki minaj i've been here all n...</td>\n",
       "      <td>[\"feelin'\", 'minime', 'minaj', \"'em\", \"makin'\"...</td>\n",
       "      <td>grand nick mina i've been here all night i've ...</td>\n",
       "      <td>[makin', nothin', comin', feelin', talkin', wa...</td>\n",
       "      <td>[grand, nick, mina, i've, been, here, all, nig...</td>\n",
       "      <td>grand nick mina i've been here all night i've ...</td>\n",
       "      <td>[grand, nick, mina, i've, be, here, all, night...</td>\n",
       "    </tr>\n",
       "    <tr>\n",
       "      <th>4</th>\n",
       "      <td>Ariana Grande</td>\n",
       "      <td>​​no tears left to cry</td>\n",
       "      <td>right now i'm in a state of mind i want to be ...</td>\n",
       "      <td>[\"turnin'\", \"comin'\", 'pre', \"pickin'\", \"lovin...</td>\n",
       "      <td>right now i'm in a state of mind i want to be ...</td>\n",
       "      <td>[lovin', pickin', comin', turnin', livin', vib...</td>\n",
       "      <td>[right, now, i'm, in, a, state, of, mind, i, w...</td>\n",
       "      <td>right now i'm in a state of mind i want to be ...</td>\n",
       "      <td>[right, now, i'm, in, a, state, of, mind, i, w...</td>\n",
       "    </tr>\n",
       "    <tr>\n",
       "      <th>...</th>\n",
       "      <td>...</td>\n",
       "      <td>...</td>\n",
       "      <td>...</td>\n",
       "      <td>...</td>\n",
       "      <td>...</td>\n",
       "      <td>...</td>\n",
       "      <td>...</td>\n",
       "      <td>...</td>\n",
       "      <td>...</td>\n",
       "    </tr>\n",
       "    <tr>\n",
       "      <th>5706</th>\n",
       "      <td>Taylor Swift</td>\n",
       "      <td>teardrops on my guitar (live from clear channe...</td>\n",
       "      <td>drew looks at me i fake a smile so he won't se...</td>\n",
       "      <td>['pre', \"'cause\", 'whos']</td>\n",
       "      <td>drew looks at me i fake a smile so he won't se...</td>\n",
       "      <td>[]</td>\n",
       "      <td>[drew, looks, at, me, i, fake, a, smile, so, h...</td>\n",
       "      <td>drew looks at me i fake a smile so he won't se...</td>\n",
       "      <td>[drew, look, at, me, i, fake, a, smile, so, he...</td>\n",
       "    </tr>\n",
       "    <tr>\n",
       "      <th>5707</th>\n",
       "      <td>Taylor Swift</td>\n",
       "      <td>evermore [forward]</td>\n",
       "      <td>to put it plainly we just couldnt stop writing...</td>\n",
       "      <td>['folklorian', 'couldnt', 'oneoff', 'imaginary...</td>\n",
       "      <td>to put it plainly we just stop writing songs t...</td>\n",
       "      <td>[]</td>\n",
       "      <td>[to, put, it, plainly, we, just, stop, writing...</td>\n",
       "      <td>to put it plainly we just stop writing songs t...</td>\n",
       "      <td>[to, put, it, plainly, we, just, stop, write, ...</td>\n",
       "    </tr>\n",
       "    <tr>\n",
       "      <th>5708</th>\n",
       "      <td>Taylor Swift</td>\n",
       "      <td>welcome back grunwald</td>\n",
       "      <td>turn wycd on you're on your grunwald back from...</td>\n",
       "      <td>['grunwald', \"grunwald's\", 'wycd']</td>\n",
       "      <td>turn wynd on you're on your back from the amaz...</td>\n",
       "      <td>[]</td>\n",
       "      <td>[turn, wynd, on, you're, on, your, back, from,...</td>\n",
       "      <td>turn wynd on you're on your back from the amaz...</td>\n",
       "      <td>[turn, wynd, on, you're, on, your, back, from,...</td>\n",
       "    </tr>\n",
       "    <tr>\n",
       "      <th>5709</th>\n",
       "      <td>Taylor Swift</td>\n",
       "      <td>tolerate it (polskie tłumaczenie)</td>\n",
       "      <td>zwrotka siedzę i patrzę jak czytasz z głową po...</td>\n",
       "      <td>['jeśli', 'jak', 'czekam', 'cię', 'głową', 'ko...</td>\n",
       "      <td>i jam z i jail z eczema i co i zero nice type ...</td>\n",
       "      <td>[sie, za, gra]</td>\n",
       "      <td>[i, jam, z, i, jail, z, eczema, i, co, i, zero...</td>\n",
       "      <td>i jam z i jail z eczema i co i zero nice type ...</td>\n",
       "      <td>[i, jam, z, i, jail, z, eczema, i, co, i, zero...</td>\n",
       "    </tr>\n",
       "    <tr>\n",
       "      <th>5710</th>\n",
       "      <td>Taylor Swift</td>\n",
       "      <td>find you</td>\n",
       "      <td>trying just like they say just taking the step...</td>\n",
       "      <td>[]</td>\n",
       "      <td>trying just like they say just taking the step...</td>\n",
       "      <td>[]</td>\n",
       "      <td>[trying, just, like, they, say, just, taking, ...</td>\n",
       "      <td>trying just like they say just taking the step...</td>\n",
       "      <td>[try, just, like, they, say, just, take, the, ...</td>\n",
       "    </tr>\n",
       "  </tbody>\n",
       "</table>\n",
       "<p>5709 rows × 9 columns</p>\n",
       "</div>"
      ],
      "text/plain": [
       "             Artist                                              Title  \\\n",
       "0     Ariana Grande                                     ​thank u, next   \n",
       "1     Ariana Grande                                            7 rings   \n",
       "2     Ariana Grande                                    ​god is a woman   \n",
       "3     Ariana Grande                                       side to side   \n",
       "4     Ariana Grande                             ​​no tears left to cry   \n",
       "...             ...                                                ...   \n",
       "5706   Taylor Swift  teardrops on my guitar (live from clear channe...   \n",
       "5707   Taylor Swift                                 evermore [forward]   \n",
       "5708   Taylor Swift                              welcome back grunwald   \n",
       "5709   Taylor Swift                  tolerate it (polskie tłumaczenie)   \n",
       "5710   Taylor Swift                                           find you   \n",
       "\n",
       "                                                  Lyric  \\\n",
       "0     thought i'd end up with sean but he wasn't a m...   \n",
       "1     yeah breakfast at tiffany's and bottles of bub...   \n",
       "2     you you love it how i move you you love it how...   \n",
       "3     ariana grande nicki minaj i've been here all n...   \n",
       "4     right now i'm in a state of mind i want to be ...   \n",
       "...                                                 ...   \n",
       "5706  drew looks at me i fake a smile so he won't se...   \n",
       "5707  to put it plainly we just couldnt stop writing...   \n",
       "5708  turn wycd on you're on your grunwald back from...   \n",
       "5709  zwrotka siedzę i patrzę jak czytasz z głową po...   \n",
       "5710  trying just like they say just taking the step...   \n",
       "\n",
       "                                       Misspelled_Words  \\\n",
       "0     [\"nothin'\", \"havin'\", 'ari', 'pre', \"'bout\", '...   \n",
       "1     ['redbottoms', \"tiffany's\", \"gleamin'\", \"looki...   \n",
       "2     [\"feelin'\", 'pre', 'uniwhen', 'onetrack', \"tel...   \n",
       "3     [\"feelin'\", 'minime', 'minaj', \"'em\", \"makin'\"...   \n",
       "4     [\"turnin'\", \"comin'\", 'pre', \"pickin'\", \"lovin...   \n",
       "...                                                 ...   \n",
       "5706                          ['pre', \"'cause\", 'whos']   \n",
       "5707  ['folklorian', 'couldnt', 'oneoff', 'imaginary...   \n",
       "5708                 ['grunwald', \"grunwald's\", 'wycd']   \n",
       "5709  ['jeśli', 'jak', 'czekam', 'cię', 'głową', 'ko...   \n",
       "5710                                                 []   \n",
       "\n",
       "                                         Lyric_Filtered  \\\n",
       "0     thought i'd end up with sean but he wasn't a m...   \n",
       "1     yeah breakfast at tiffany and bottles of bubbl...   \n",
       "2     you you love it how i move you you love it how...   \n",
       "3     grand nick mina i've been here all night i've ...   \n",
       "4     right now i'm in a state of mind i want to be ...   \n",
       "...                                                 ...   \n",
       "5706  drew looks at me i fake a smile so he won't se...   \n",
       "5707  to put it plainly we just stop writing songs t...   \n",
       "5708  turn wynd on you're on your back from the amaz...   \n",
       "5709  i jam z i jail z eczema i co i zero nice type ...   \n",
       "5710  trying just like they say just taking the step...   \n",
       "\n",
       "                              Filtered_Misspelled_Words  \\\n",
       "0                 [fuckin', nothin', gon', yee, havin']   \n",
       "1     [gleamin', beamin', lookin', poppin', gon', wa...   \n",
       "2                                    [feelin', tellin']   \n",
       "3     [makin', nothin', comin', feelin', talkin', wa...   \n",
       "4     [lovin', pickin', comin', turnin', livin', vib...   \n",
       "...                                                 ...   \n",
       "5706                                                 []   \n",
       "5707                                                 []   \n",
       "5708                                                 []   \n",
       "5709                                     [sie, za, gra]   \n",
       "5710                                                 []   \n",
       "\n",
       "                                        Tokenized_Lyric  \\\n",
       "0     [thought, i'd, end, up, with, sean, but, he, w...   \n",
       "1     [yeah, breakfast, at, tiffany, and, bottles, o...   \n",
       "2     [you, you, love, it, how, i, move, you, you, l...   \n",
       "3     [grand, nick, mina, i've, been, here, all, nig...   \n",
       "4     [right, now, i'm, in, a, state, of, mind, i, w...   \n",
       "...                                                 ...   \n",
       "5706  [drew, looks, at, me, i, fake, a, smile, so, h...   \n",
       "5707  [to, put, it, plainly, we, just, stop, writing...   \n",
       "5708  [turn, wynd, on, you're, on, your, back, from,...   \n",
       "5709  [i, jam, z, i, jail, z, eczema, i, co, i, zero...   \n",
       "5710  [trying, just, like, they, say, just, taking, ...   \n",
       "\n",
       "                                           Joined_Lyric  \\\n",
       "0     thought i'd end up with sean but he wasn't a m...   \n",
       "1     yeah breakfast at tiffany and bottles of bubbl...   \n",
       "2     you you love it how i move you you love it how...   \n",
       "3     grand nick mina i've been here all night i've ...   \n",
       "4     right now i'm in a state of mind i want to be ...   \n",
       "...                                                 ...   \n",
       "5706  drew looks at me i fake a smile so he won't se...   \n",
       "5707  to put it plainly we just stop writing songs t...   \n",
       "5708  turn wynd on you're on your back from the amaz...   \n",
       "5709  i jam z i jail z eczema i co i zero nice type ...   \n",
       "5710  trying just like they say just taking the step...   \n",
       "\n",
       "                                      Lemmatized_Tokens  \n",
       "0     [thought, i'd, end, up, with, sean, but, he, w...  \n",
       "1     [yeah, breakfast, at, tiffany, and, bottle, of...  \n",
       "2     [you, you, love, it, how, i, move, you, you, l...  \n",
       "3     [grand, nick, mina, i've, be, here, all, night...  \n",
       "4     [right, now, i'm, in, a, state, of, mind, i, w...  \n",
       "...                                                 ...  \n",
       "5706  [drew, look, at, me, i, fake, a, smile, so, he...  \n",
       "5707  [to, put, it, plainly, we, just, stop, write, ...  \n",
       "5708  [turn, wynd, on, you're, on, your, back, from,...  \n",
       "5709  [i, jam, z, i, jail, z, eczema, i, co, i, zero...  \n",
       "5710  [try, just, like, they, say, just, take, the, ...  \n",
       "\n",
       "[5709 rows x 9 columns]"
      ]
     },
     "execution_count": 142,
     "metadata": {},
     "output_type": "execute_result"
    }
   ],
   "source": [
    "filtered_df"
   ]
  },
  {
   "cell_type": "code",
   "execution_count": 143,
   "metadata": {},
   "outputs": [],
   "source": [
    "filtered_df['Lemmatized_Text'] = filtered_df['Lemmatized_Tokens'].apply(lambda tokens: ' '.join(tokens))"
   ]
  },
  {
   "cell_type": "code",
   "execution_count": 144,
   "metadata": {},
   "outputs": [
    {
     "data": {
      "text/html": [
       "<div>\n",
       "<style scoped>\n",
       "    .dataframe tbody tr th:only-of-type {\n",
       "        vertical-align: middle;\n",
       "    }\n",
       "\n",
       "    .dataframe tbody tr th {\n",
       "        vertical-align: top;\n",
       "    }\n",
       "\n",
       "    .dataframe thead th {\n",
       "        text-align: right;\n",
       "    }\n",
       "</style>\n",
       "<table border=\"1\" class=\"dataframe\">\n",
       "  <thead>\n",
       "    <tr style=\"text-align: right;\">\n",
       "      <th></th>\n",
       "      <th>Artist</th>\n",
       "      <th>Title</th>\n",
       "      <th>Lyric</th>\n",
       "      <th>Misspelled_Words</th>\n",
       "      <th>Lyric_Filtered</th>\n",
       "      <th>Filtered_Misspelled_Words</th>\n",
       "      <th>Tokenized_Lyric</th>\n",
       "      <th>Joined_Lyric</th>\n",
       "      <th>Lemmatized_Tokens</th>\n",
       "      <th>Lemmatized_Text</th>\n",
       "    </tr>\n",
       "  </thead>\n",
       "  <tbody>\n",
       "    <tr>\n",
       "      <th>0</th>\n",
       "      <td>Ariana Grande</td>\n",
       "      <td>​thank u, next</td>\n",
       "      <td>thought i'd end up with sean but he wasn't a m...</td>\n",
       "      <td>[\"nothin'\", \"havin'\", 'ari', 'pre', \"'bout\", '...</td>\n",
       "      <td>thought i'd end up with sean but he wasn't a m...</td>\n",
       "      <td>[fuckin', nothin', gon', yee, havin']</td>\n",
       "      <td>[thought, i'd, end, up, with, sean, but, he, w...</td>\n",
       "      <td>thought i'd end up with sean but he wasn't a m...</td>\n",
       "      <td>[thought, i'd, end, up, with, sean, but, he, w...</td>\n",
       "      <td>thought i'd end up with sean but he wasn't a m...</td>\n",
       "    </tr>\n",
       "    <tr>\n",
       "      <th>1</th>\n",
       "      <td>Ariana Grande</td>\n",
       "      <td>7 rings</td>\n",
       "      <td>yeah breakfast at tiffany's and bottles of bub...</td>\n",
       "      <td>['redbottoms', \"tiffany's\", \"gleamin'\", \"looki...</td>\n",
       "      <td>yeah breakfast at tiffany and bottles of bubbl...</td>\n",
       "      <td>[gleamin', beamin', lookin', poppin', gon', wa...</td>\n",
       "      <td>[yeah, breakfast, at, tiffany, and, bottles, o...</td>\n",
       "      <td>yeah breakfast at tiffany and bottles of bubbl...</td>\n",
       "      <td>[yeah, breakfast, at, tiffany, and, bottle, of...</td>\n",
       "      <td>yeah breakfast at tiffany and bottle of bubble...</td>\n",
       "    </tr>\n",
       "    <tr>\n",
       "      <th>2</th>\n",
       "      <td>Ariana Grande</td>\n",
       "      <td>​god is a woman</td>\n",
       "      <td>you you love it how i move you you love it how...</td>\n",
       "      <td>[\"feelin'\", 'pre', 'uniwhen', 'onetrack', \"tel...</td>\n",
       "      <td>you you love it how i move you you love it how...</td>\n",
       "      <td>[feelin', tellin']</td>\n",
       "      <td>[you, you, love, it, how, i, move, you, you, l...</td>\n",
       "      <td>you you love it how i move you you love it how...</td>\n",
       "      <td>[you, you, love, it, how, i, move, you, you, l...</td>\n",
       "      <td>you you love it how i move you you love it how...</td>\n",
       "    </tr>\n",
       "    <tr>\n",
       "      <th>3</th>\n",
       "      <td>Ariana Grande</td>\n",
       "      <td>side to side</td>\n",
       "      <td>ariana grande nicki minaj i've been here all n...</td>\n",
       "      <td>[\"feelin'\", 'minime', 'minaj', \"'em\", \"makin'\"...</td>\n",
       "      <td>grand nick mina i've been here all night i've ...</td>\n",
       "      <td>[makin', nothin', comin', feelin', talkin', wa...</td>\n",
       "      <td>[grand, nick, mina, i've, been, here, all, nig...</td>\n",
       "      <td>grand nick mina i've been here all night i've ...</td>\n",
       "      <td>[grand, nick, mina, i've, be, here, all, night...</td>\n",
       "      <td>grand nick mina i've be here all night i've be...</td>\n",
       "    </tr>\n",
       "    <tr>\n",
       "      <th>4</th>\n",
       "      <td>Ariana Grande</td>\n",
       "      <td>​​no tears left to cry</td>\n",
       "      <td>right now i'm in a state of mind i want to be ...</td>\n",
       "      <td>[\"turnin'\", \"comin'\", 'pre', \"pickin'\", \"lovin...</td>\n",
       "      <td>right now i'm in a state of mind i want to be ...</td>\n",
       "      <td>[lovin', pickin', comin', turnin', livin', vib...</td>\n",
       "      <td>[right, now, i'm, in, a, state, of, mind, i, w...</td>\n",
       "      <td>right now i'm in a state of mind i want to be ...</td>\n",
       "      <td>[right, now, i'm, in, a, state, of, mind, i, w...</td>\n",
       "      <td>right now i'm in a state of mind i want to be ...</td>\n",
       "    </tr>\n",
       "    <tr>\n",
       "      <th>...</th>\n",
       "      <td>...</td>\n",
       "      <td>...</td>\n",
       "      <td>...</td>\n",
       "      <td>...</td>\n",
       "      <td>...</td>\n",
       "      <td>...</td>\n",
       "      <td>...</td>\n",
       "      <td>...</td>\n",
       "      <td>...</td>\n",
       "      <td>...</td>\n",
       "    </tr>\n",
       "    <tr>\n",
       "      <th>5706</th>\n",
       "      <td>Taylor Swift</td>\n",
       "      <td>teardrops on my guitar (live from clear channe...</td>\n",
       "      <td>drew looks at me i fake a smile so he won't se...</td>\n",
       "      <td>['pre', \"'cause\", 'whos']</td>\n",
       "      <td>drew looks at me i fake a smile so he won't se...</td>\n",
       "      <td>[]</td>\n",
       "      <td>[drew, looks, at, me, i, fake, a, smile, so, h...</td>\n",
       "      <td>drew looks at me i fake a smile so he won't se...</td>\n",
       "      <td>[drew, look, at, me, i, fake, a, smile, so, he...</td>\n",
       "      <td>drew look at me i fake a smile so he won't see...</td>\n",
       "    </tr>\n",
       "    <tr>\n",
       "      <th>5707</th>\n",
       "      <td>Taylor Swift</td>\n",
       "      <td>evermore [forward]</td>\n",
       "      <td>to put it plainly we just couldnt stop writing...</td>\n",
       "      <td>['folklorian', 'couldnt', 'oneoff', 'imaginary...</td>\n",
       "      <td>to put it plainly we just stop writing songs t...</td>\n",
       "      <td>[]</td>\n",
       "      <td>[to, put, it, plainly, we, just, stop, writing...</td>\n",
       "      <td>to put it plainly we just stop writing songs t...</td>\n",
       "      <td>[to, put, it, plainly, we, just, stop, write, ...</td>\n",
       "      <td>to put it plainly we just stop write song to t...</td>\n",
       "    </tr>\n",
       "    <tr>\n",
       "      <th>5708</th>\n",
       "      <td>Taylor Swift</td>\n",
       "      <td>welcome back grunwald</td>\n",
       "      <td>turn wycd on you're on your grunwald back from...</td>\n",
       "      <td>['grunwald', \"grunwald's\", 'wycd']</td>\n",
       "      <td>turn wynd on you're on your back from the amaz...</td>\n",
       "      <td>[]</td>\n",
       "      <td>[turn, wynd, on, you're, on, your, back, from,...</td>\n",
       "      <td>turn wynd on you're on your back from the amaz...</td>\n",
       "      <td>[turn, wynd, on, you're, on, your, back, from,...</td>\n",
       "      <td>turn wynd on you're on your back from the amaz...</td>\n",
       "    </tr>\n",
       "    <tr>\n",
       "      <th>5709</th>\n",
       "      <td>Taylor Swift</td>\n",
       "      <td>tolerate it (polskie tłumaczenie)</td>\n",
       "      <td>zwrotka siedzę i patrzę jak czytasz z głową po...</td>\n",
       "      <td>['jeśli', 'jak', 'czekam', 'cię', 'głową', 'ko...</td>\n",
       "      <td>i jam z i jail z eczema i co i zero nice type ...</td>\n",
       "      <td>[sie, za, gra]</td>\n",
       "      <td>[i, jam, z, i, jail, z, eczema, i, co, i, zero...</td>\n",
       "      <td>i jam z i jail z eczema i co i zero nice type ...</td>\n",
       "      <td>[i, jam, z, i, jail, z, eczema, i, co, i, zero...</td>\n",
       "      <td>i jam z i jail z eczema i co i zero nice type ...</td>\n",
       "    </tr>\n",
       "    <tr>\n",
       "      <th>5710</th>\n",
       "      <td>Taylor Swift</td>\n",
       "      <td>find you</td>\n",
       "      <td>trying just like they say just taking the step...</td>\n",
       "      <td>[]</td>\n",
       "      <td>trying just like they say just taking the step...</td>\n",
       "      <td>[]</td>\n",
       "      <td>[trying, just, like, they, say, just, taking, ...</td>\n",
       "      <td>trying just like they say just taking the step...</td>\n",
       "      <td>[try, just, like, they, say, just, take, the, ...</td>\n",
       "      <td>try just like they say just take the step love...</td>\n",
       "    </tr>\n",
       "  </tbody>\n",
       "</table>\n",
       "<p>5709 rows × 10 columns</p>\n",
       "</div>"
      ],
      "text/plain": [
       "             Artist                                              Title  \\\n",
       "0     Ariana Grande                                     ​thank u, next   \n",
       "1     Ariana Grande                                            7 rings   \n",
       "2     Ariana Grande                                    ​god is a woman   \n",
       "3     Ariana Grande                                       side to side   \n",
       "4     Ariana Grande                             ​​no tears left to cry   \n",
       "...             ...                                                ...   \n",
       "5706   Taylor Swift  teardrops on my guitar (live from clear channe...   \n",
       "5707   Taylor Swift                                 evermore [forward]   \n",
       "5708   Taylor Swift                              welcome back grunwald   \n",
       "5709   Taylor Swift                  tolerate it (polskie tłumaczenie)   \n",
       "5710   Taylor Swift                                           find you   \n",
       "\n",
       "                                                  Lyric  \\\n",
       "0     thought i'd end up with sean but he wasn't a m...   \n",
       "1     yeah breakfast at tiffany's and bottles of bub...   \n",
       "2     you you love it how i move you you love it how...   \n",
       "3     ariana grande nicki minaj i've been here all n...   \n",
       "4     right now i'm in a state of mind i want to be ...   \n",
       "...                                                 ...   \n",
       "5706  drew looks at me i fake a smile so he won't se...   \n",
       "5707  to put it plainly we just couldnt stop writing...   \n",
       "5708  turn wycd on you're on your grunwald back from...   \n",
       "5709  zwrotka siedzę i patrzę jak czytasz z głową po...   \n",
       "5710  trying just like they say just taking the step...   \n",
       "\n",
       "                                       Misspelled_Words  \\\n",
       "0     [\"nothin'\", \"havin'\", 'ari', 'pre', \"'bout\", '...   \n",
       "1     ['redbottoms', \"tiffany's\", \"gleamin'\", \"looki...   \n",
       "2     [\"feelin'\", 'pre', 'uniwhen', 'onetrack', \"tel...   \n",
       "3     [\"feelin'\", 'minime', 'minaj', \"'em\", \"makin'\"...   \n",
       "4     [\"turnin'\", \"comin'\", 'pre', \"pickin'\", \"lovin...   \n",
       "...                                                 ...   \n",
       "5706                          ['pre', \"'cause\", 'whos']   \n",
       "5707  ['folklorian', 'couldnt', 'oneoff', 'imaginary...   \n",
       "5708                 ['grunwald', \"grunwald's\", 'wycd']   \n",
       "5709  ['jeśli', 'jak', 'czekam', 'cię', 'głową', 'ko...   \n",
       "5710                                                 []   \n",
       "\n",
       "                                         Lyric_Filtered  \\\n",
       "0     thought i'd end up with sean but he wasn't a m...   \n",
       "1     yeah breakfast at tiffany and bottles of bubbl...   \n",
       "2     you you love it how i move you you love it how...   \n",
       "3     grand nick mina i've been here all night i've ...   \n",
       "4     right now i'm in a state of mind i want to be ...   \n",
       "...                                                 ...   \n",
       "5706  drew looks at me i fake a smile so he won't se...   \n",
       "5707  to put it plainly we just stop writing songs t...   \n",
       "5708  turn wynd on you're on your back from the amaz...   \n",
       "5709  i jam z i jail z eczema i co i zero nice type ...   \n",
       "5710  trying just like they say just taking the step...   \n",
       "\n",
       "                              Filtered_Misspelled_Words  \\\n",
       "0                 [fuckin', nothin', gon', yee, havin']   \n",
       "1     [gleamin', beamin', lookin', poppin', gon', wa...   \n",
       "2                                    [feelin', tellin']   \n",
       "3     [makin', nothin', comin', feelin', talkin', wa...   \n",
       "4     [lovin', pickin', comin', turnin', livin', vib...   \n",
       "...                                                 ...   \n",
       "5706                                                 []   \n",
       "5707                                                 []   \n",
       "5708                                                 []   \n",
       "5709                                     [sie, za, gra]   \n",
       "5710                                                 []   \n",
       "\n",
       "                                        Tokenized_Lyric  \\\n",
       "0     [thought, i'd, end, up, with, sean, but, he, w...   \n",
       "1     [yeah, breakfast, at, tiffany, and, bottles, o...   \n",
       "2     [you, you, love, it, how, i, move, you, you, l...   \n",
       "3     [grand, nick, mina, i've, been, here, all, nig...   \n",
       "4     [right, now, i'm, in, a, state, of, mind, i, w...   \n",
       "...                                                 ...   \n",
       "5706  [drew, looks, at, me, i, fake, a, smile, so, h...   \n",
       "5707  [to, put, it, plainly, we, just, stop, writing...   \n",
       "5708  [turn, wynd, on, you're, on, your, back, from,...   \n",
       "5709  [i, jam, z, i, jail, z, eczema, i, co, i, zero...   \n",
       "5710  [trying, just, like, they, say, just, taking, ...   \n",
       "\n",
       "                                           Joined_Lyric  \\\n",
       "0     thought i'd end up with sean but he wasn't a m...   \n",
       "1     yeah breakfast at tiffany and bottles of bubbl...   \n",
       "2     you you love it how i move you you love it how...   \n",
       "3     grand nick mina i've been here all night i've ...   \n",
       "4     right now i'm in a state of mind i want to be ...   \n",
       "...                                                 ...   \n",
       "5706  drew looks at me i fake a smile so he won't se...   \n",
       "5707  to put it plainly we just stop writing songs t...   \n",
       "5708  turn wynd on you're on your back from the amaz...   \n",
       "5709  i jam z i jail z eczema i co i zero nice type ...   \n",
       "5710  trying just like they say just taking the step...   \n",
       "\n",
       "                                      Lemmatized_Tokens  \\\n",
       "0     [thought, i'd, end, up, with, sean, but, he, w...   \n",
       "1     [yeah, breakfast, at, tiffany, and, bottle, of...   \n",
       "2     [you, you, love, it, how, i, move, you, you, l...   \n",
       "3     [grand, nick, mina, i've, be, here, all, night...   \n",
       "4     [right, now, i'm, in, a, state, of, mind, i, w...   \n",
       "...                                                 ...   \n",
       "5706  [drew, look, at, me, i, fake, a, smile, so, he...   \n",
       "5707  [to, put, it, plainly, we, just, stop, write, ...   \n",
       "5708  [turn, wynd, on, you're, on, your, back, from,...   \n",
       "5709  [i, jam, z, i, jail, z, eczema, i, co, i, zero...   \n",
       "5710  [try, just, like, they, say, just, take, the, ...   \n",
       "\n",
       "                                        Lemmatized_Text  \n",
       "0     thought i'd end up with sean but he wasn't a m...  \n",
       "1     yeah breakfast at tiffany and bottle of bubble...  \n",
       "2     you you love it how i move you you love it how...  \n",
       "3     grand nick mina i've be here all night i've be...  \n",
       "4     right now i'm in a state of mind i want to be ...  \n",
       "...                                                 ...  \n",
       "5706  drew look at me i fake a smile so he won't see...  \n",
       "5707  to put it plainly we just stop write song to t...  \n",
       "5708  turn wynd on you're on your back from the amaz...  \n",
       "5709  i jam z i jail z eczema i co i zero nice type ...  \n",
       "5710  try just like they say just take the step love...  \n",
       "\n",
       "[5709 rows x 10 columns]"
      ]
     },
     "execution_count": 144,
     "metadata": {},
     "output_type": "execute_result"
    }
   ],
   "source": [
    "filtered_df"
   ]
  },
  {
   "cell_type": "raw",
   "metadata": {},
   "source": [
    "## Count Vectorization"
   ]
  },
  {
   "cell_type": "raw",
   "metadata": {
    "vscode": {
     "languageId": "raw"
    }
   },
   "source": [
    "from sklearn.feature_extraction.text import CountVectorizer\n",
    "import re\n",
    "\n",
    "# Define custom tokenizer that removes underscores\n",
    "def custom_tokenizer(text):\n",
    "    pattern = r\"\\b[a-zA-Z]+(?:'[a-zA-Z]+)?'?|[.,!?']\"\n",
    "    tokens = re.findall(pattern, text)\n",
    "    tokens = [token for token in tokens if not re.fullmatch(r'_+', token)]\n",
    "    return tokens\n",
    "\n",
    "# Use CountVectorizer with custom tokenizer\n",
    "vectorizer = CountVectorizer(tokenizer=custom_tokenizer, lowercase=True)\n",
    "X = vectorizer.fit_transform(filtered_df['Lemmatized_Text'])\n"
   ]
  },
  {
   "cell_type": "raw",
   "metadata": {
    "vscode": {
     "languageId": "raw"
    }
   },
   "source": [
    "print(vectorizer.get_feature_names_out())\n",
    "print(X.toarray())"
   ]
  },
  {
   "cell_type": "raw",
   "metadata": {
    "vscode": {
     "languageId": "raw"
    }
   },
   "source": [
    "df_CV = pd.DataFrame(X.toarray(), columns=vectorizer.get_feature_names_out())\n",
    "df_CV"
   ]
  },
  {
   "cell_type": "raw",
   "metadata": {
    "vscode": {
     "languageId": "raw"
    }
   },
   "source": [
    "df_CV.columns.tolist()"
   ]
  },
  {
   "cell_type": "raw",
   "metadata": {},
   "source": [
    "## Tf-Idf Vectorization"
   ]
  },
  {
   "cell_type": "raw",
   "metadata": {
    "vscode": {
     "languageId": "raw"
    }
   },
   "source": [
    "|from sklearn.feature_extraction.text import TfidfVectorizer\n",
    "\n",
    "filtered_df['Lemmatized_Text'] = filtered_df['Lemmatized_Tokens'].apply(lambda tokens: ' '.join(tokens))\n",
    "\n",
    "tfidf_vectorizer = TfidfVectorizer()\n",
    "\n",
    "X_tfidf = tfidf_vectorizer.fit_transform(filtered_df['Lemmatized_Text'])\n",
    "\n",
    "print(X_tfidf.shape)  \n",
    "\n",
    "print(tfidf_vectorizer.get_feature_names_out()[:10])\n",
    "\n",
    "tfidf_array = X_tfidf.toarray()\n",
    "print(tfidf_array[0]) \n"
   ]
  },
  {
   "cell_type": "raw",
   "metadata": {
    "vscode": {
     "languageId": "raw"
    }
   },
   "source": [
    "df_Tf = pd.DataFrame(X_tfidf.toarray(), columns=tfidf_vectorizer.get_feature_names_out())\n",
    "df_Tf"
   ]
  },
  {
   "cell_type": "raw",
   "metadata": {
    "vscode": {
     "languageId": "raw"
    }
   },
   "source": [
    "df_Tf.columns.tolist()"
   ]
  },
  {
   "cell_type": "markdown",
   "metadata": {},
   "source": [
    "## Feature Engineering"
   ]
  },
  {
   "cell_type": "code",
   "execution_count": 162,
   "metadata": {},
   "outputs": [],
   "source": [
    "# Creating a mapping dictionary from artist to genre\n",
    "genre_map = {\n",
    "    'Eminem': 'Hip Hop / Rap',\n",
    "    'Taylor Swift': 'Pop / Country / Synthpop',\n",
    "    'Drake': 'Hip Hop / Rap / R&B',\n",
    "    'Beyoncé': 'R&B / Pop / Hip Hop',\n",
    "    'Rihanna': 'Pop / R&B / Dancehall',\n",
    "    'Lady Gaga': 'Pop / Dance / Electronic',\n",
    "    'Justin Bieber': 'Pop / R&B',\n",
    "    'Coldplay': 'Alternative Rock / Pop Rock',\n",
    "    'Katy Perry': 'Pop',\n",
    "    'Nicki Minaj': 'Hip Hop / Rap / Pop',\n",
    "    'Ariana Grande': 'Pop / R&B',\n",
    "    'Ed Sheeran': 'Pop / Folk Pop',\n",
    "    'BTS (방탄소년단)': 'K-pop / Pop / Hip Hop',\n",
    "    'Dua Lipa': 'Pop / Dance / Disco',\n",
    "    'Maroon 5': 'Pop Rock / Funk Pop',\n",
    "    'Selena Gomez': 'Pop / Dance Pop',\n",
    "    'Post Malone': 'Hip Hop / Pop / Trap',\n",
    "    'Billie Eilish': 'Alternative / Pop / Electropop',\n",
    "    'Charlie Puth': 'Pop / R&B',\n",
    "    'Cardi B': 'Hip Hop / Rap',\n",
    "    'Khalid': 'R&B / Pop / Soul'\n",
    "}"
   ]
  },
  {
   "cell_type": "code",
   "execution_count": 163,
   "metadata": {},
   "outputs": [],
   "source": [
    "from sklearn.preprocessing import MultiLabelBinarizer\n",
    "\n",
    "# Add genre mapping to filtered_df\n",
    "filtered_df['Genre'] = filtered_df['Artist'].map(genre_map)"
   ]
  },
  {
   "cell_type": "code",
   "execution_count": 164,
   "metadata": {},
   "outputs": [
    {
     "name": "stdout",
     "output_type": "stream",
     "text": [
      "Number of rows with missing genres: 0\n"
     ]
    }
   ],
   "source": [
    "missing_genres = filtered_df['Genre'].isnull().sum()\n",
    "print(f\"Number of rows with missing genres: {missing_genres}\")"
   ]
  },
  {
   "cell_type": "code",
   "execution_count": 165,
   "metadata": {},
   "outputs": [
    {
     "name": "stdout",
     "output_type": "stream",
     "text": [
      "Artists without genre mapping: 0\n",
      "\n",
      "DataFrame with genres added:\n",
      "          Artist      Genre  Genre_List\n",
      "0  Ariana Grande  Pop / R&B  [Pop, R&B]\n",
      "1  Ariana Grande  Pop / R&B  [Pop, R&B]\n",
      "2  Ariana Grande  Pop / R&B  [Pop, R&B]\n",
      "3  Ariana Grande  Pop / R&B  [Pop, R&B]\n",
      "4  Ariana Grande  Pop / R&B  [Pop, R&B]\n",
      "\n",
      "Shape of updated filtered_df: (5709, 31)\n",
      "\n",
      "Genre columns added to filtered_df: ['Alternative', 'Alternative_Rock', 'Country', 'Dance', 'Dance_Pop', 'Dancehall', 'Disco', 'Electronic', 'Electropop', 'Folk_Pop', 'Funk_Pop', 'Hip_Hop', 'Pop', 'Pop_Rock', 'R&B', 'Rap', 'Soul', 'Synthpop', 'Trap']\n",
      "\n",
      "Sample of one-hot encoded genres:\n",
      "          Artist  Alternative  Alternative_Rock  Country  Dance  Dance_Pop  \\\n",
      "0  Ariana Grande            0                 0        0      0          0   \n",
      "1  Ariana Grande            0                 0        0      0          0   \n",
      "2  Ariana Grande            0                 0        0      0          0   \n",
      "3  Ariana Grande            0                 0        0      0          0   \n",
      "4  Ariana Grande            0                 0        0      0          0   \n",
      "\n",
      "   Dancehall  Disco  Electronic  Electropop  Folk_Pop  Funk_Pop  Hip_Hop  Pop  \\\n",
      "0          0      0           0           0         0         0        0    1   \n",
      "1          0      0           0           0         0         0        0    1   \n",
      "2          0      0           0           0         0         0        0    1   \n",
      "3          0      0           0           0         0         0        0    1   \n",
      "4          0      0           0           0         0         0        0    1   \n",
      "\n",
      "   Pop_Rock  R&B  Rap  Soul  Synthpop  Trap  \n",
      "0         0    1    0     0         0     0  \n",
      "1         0    1    0     0         0     0  \n",
      "2         0    1    0     0         0     0  \n",
      "3         0    1    0     0         0     0  \n",
      "4         0    1    0     0         0     0  \n",
      "\n",
      "Genre distribution:\n",
      "Alternative: 145 songs\n",
      "Alternative_Rock: 333 songs\n",
      "Country: 477 songs\n",
      "Dance: 641 songs\n",
      "Dance_Pop: 174 songs\n",
      "Dancehall: 397 songs\n",
      "Disco: 246 songs\n",
      "Electronic: 395 songs\n",
      "Electropop: 145 songs\n",
      "Folk_Pop: 294 songs\n",
      "Funk_Pop: 197 songs\n",
      "Hip_Hop: 1933 songs\n",
      "Pop: 4121 songs\n",
      "Pop_Rock: 530 songs\n",
      "R&B: 2060 songs\n",
      "Rap: 1379 songs\n",
      "Soul: 64 songs\n",
      "Synthpop: 477 songs\n",
      "Trap: 148 songs\n",
      "\n",
      "All columns in filtered_df: ['Artist', 'Title', 'Lyric', 'Misspelled_Words', 'Lyric_Filtered', 'Filtered_Misspelled_Words', 'Tokenized_Lyric', 'Joined_Lyric', 'Lemmatized_Tokens', 'Lemmatized_Text', 'Genre', 'Genre_List', 'Alternative', 'Alternative_Rock', 'Country', 'Dance', 'Dance_Pop', 'Dancehall', 'Disco', 'Electronic', 'Electropop', 'Folk_Pop', 'Funk_Pop', 'Hip_Hop', 'Pop', 'Pop_Rock', 'R&B', 'Rap', 'Soul', 'Synthpop', 'Trap']\n",
      "filtered_df\n"
     ]
    }
   ],
   "source": [
    "# Step 2: Handle any artists not in the mapping\n",
    "missing_genres = filtered_df['Genre'].isnull().sum()\n",
    "print(f\"Artists without genre mapping: {missing_genres}\")\n",
    "\n",
    "if missing_genres > 0:\n",
    "    print(\"Artists missing genres:\")\n",
    "    print(filtered_df[filtered_df['Genre'].isnull()]['Artist'].unique())\n",
    "    # Fill missing genres with 'Unknown'\n",
    "    filtered_df['Genre'] = filtered_df['Genre'].fillna('Unknown')\n",
    "\n",
    "# Step 3: Split genres into lists for one-hot encoding\n",
    "filtered_df['Genre_List'] = filtered_df['Genre'].apply(\n",
    "    lambda x: [genre.strip() for genre in x.split('/')] if x != 'Unknown' else ['Unknown']\n",
    ")\n",
    "\n",
    "# Step 4: Perform one-hot encoding using MultiLabelBinarizer\n",
    "mlb = MultiLabelBinarizer()\n",
    "genre_encoded = mlb.fit_transform(filtered_df['Genre_List'])\n",
    "\n",
    "# Step 5: Create a DataFrame with the one-hot encoded genres (no prefix)\n",
    "genre_df = pd.DataFrame(genre_encoded, columns=mlb.classes_, index=filtered_df.index)\n",
    "\n",
    "# Step 6: Clean column names (replace spaces and slashes with underscores, but no prefix)\n",
    "genre_df.columns = [col.replace(' ', '_').replace('/', '_') for col in genre_df.columns]\n",
    "\n",
    "# Step 7: Add the one-hot encoded columns directly to filtered_df\n",
    "for col in genre_df.columns:\n",
    "    filtered_df[col] = genre_df[col]\n",
    "\n",
    "# Display the results\n",
    "print(\"\\nDataFrame with genres added:\")\n",
    "print(filtered_df[['Artist', 'Genre', 'Genre_List']].head())\n",
    "\n",
    "print(f\"\\nShape of updated filtered_df: {filtered_df.shape}\")\n",
    "\n",
    "print(f\"\\nGenre columns added to filtered_df: {list(genre_df.columns)}\")\n",
    "\n",
    "print(\"\\nSample of one-hot encoded genres:\")\n",
    "print(filtered_df[['Artist'] + list(genre_df.columns)].head())\n",
    "\n",
    "# Check the distribution of genres\n",
    "print(\"\\nGenre distribution:\")\n",
    "for col in genre_df.columns:\n",
    "    count = filtered_df[col].sum()\n",
    "    print(f\"{col}: {count} songs\")\n",
    "\n",
    "# Verify the columns are now in filtered_df\n",
    "print(f\"\\nAll columns in filtered_df: {filtered_df.columns.tolist()}\")\n",
    "\n",
    "# Created/Modified files during execution:\n",
    "print(\"filtered_df\") # Modified original dataframe with genres and one-hot encoding"
   ]
  },
  {
   "cell_type": "code",
   "execution_count": 166,
   "metadata": {},
   "outputs": [
    {
     "data": {
      "text/plain": [
       "['Artist',\n",
       " 'Title',\n",
       " 'Lyric',\n",
       " 'Misspelled_Words',\n",
       " 'Lyric_Filtered',\n",
       " 'Filtered_Misspelled_Words',\n",
       " 'Tokenized_Lyric',\n",
       " 'Joined_Lyric',\n",
       " 'Lemmatized_Tokens',\n",
       " 'Lemmatized_Text',\n",
       " 'Genre',\n",
       " 'Genre_List',\n",
       " 'Alternative',\n",
       " 'Alternative_Rock',\n",
       " 'Country',\n",
       " 'Dance',\n",
       " 'Dance_Pop',\n",
       " 'Dancehall',\n",
       " 'Disco',\n",
       " 'Electronic',\n",
       " 'Electropop',\n",
       " 'Folk_Pop',\n",
       " 'Funk_Pop',\n",
       " 'Hip_Hop',\n",
       " 'Pop',\n",
       " 'Pop_Rock',\n",
       " 'R&B',\n",
       " 'Rap',\n",
       " 'Soul',\n",
       " 'Synthpop',\n",
       " 'Trap']"
      ]
     },
     "execution_count": 166,
     "metadata": {},
     "output_type": "execute_result"
    }
   ],
   "source": [
    "filtered_df.columns.to_list()"
   ]
  }
 ],
 "metadata": {
  "kernelspec": {
   "display_name": "base",
   "language": "python",
   "name": "python3"
  },
  "language_info": {
   "codemirror_mode": {
    "name": "ipython",
    "version": 3
   },
   "file_extension": ".py",
   "mimetype": "text/x-python",
   "name": "python",
   "nbconvert_exporter": "python",
   "pygments_lexer": "ipython3",
   "version": "3.12.7"
  }
 },
 "nbformat": 4,
 "nbformat_minor": 4
}
