{
 "cells": [
  {
   "cell_type": "markdown",
   "id": "470fb2cf-ae9f-47ea-a55b-700b158a0984",
   "metadata": {},
   "source": [
    "# Lyrics Generator\n"
   ]
  },
  {
   "cell_type": "code",
   "execution_count": 10,
   "id": "b52e3b80-3bad-48ce-af7f-2c2a39ec6d2f",
   "metadata": {},
   "outputs": [],
   "source": [
    "import os\n",
    "import pandas as pd"
   ]
  },
  {
   "cell_type": "code",
   "execution_count": 14,
   "id": "525a0c3d-36ce-44df-937a-aca357091448",
   "metadata": {},
   "outputs": [
    {
     "name": "stdout",
     "output_type": "stream",
     "text": [
      "Merged 21 CSV files into 'E:\\Lyrics_Generator\\Data_Sets\\merged_songs.csv' successfully!\n"
     ]
    }
   ],
   "source": [
    "\n",
    "\n",
    "# Define input and output paths\n",
    "folder_path = r\"E:\\Lyrics_Generator\\Data_Sets\\Songs\"\n",
    "output_folder = r\"E:\\Lyrics_Generator\\Data_Sets\"\n",
    "output_file = os.path.join(output_folder, \"merged_songs.csv\")\n",
    "\n",
    "# Ensure output folder exists\n",
    "os.makedirs(output_folder, exist_ok=True)\n",
    "\n",
    "# Get all CSV files in the folder\n",
    "csv_files = [file for file in os.listdir(folder_path) if file.endswith(\".csv\")]\n",
    "\n",
    "# Read and merge\n",
    "dfs = [pd.read_csv(os.path.join(folder_path, file)) for file in csv_files]\n",
    "merged_df = pd.concat(dfs, ignore_index=True)\n",
    "\n",
    "# Save to CSV\n",
    "merged_df.to_csv(output_file, index=False)\n",
    "print(f\"Merged {len(csv_files)} CSV files into '{output_file}' successfully!\")\n"
   ]
  },
  {
   "cell_type": "markdown",
   "id": "5aaffb19-d69c-4fe1-935e-f5f90174f5e1",
   "metadata": {},
   "source": [
    "# Loading the Dataset"
   ]
  },
  {
   "cell_type": "code",
   "execution_count": 19,
   "id": "76bc6806-8240-4ea5-98ae-e684b84fa511",
   "metadata": {},
   "outputs": [],
   "source": [
    "df = pd.read_csv(r\"E:\\Lyrics_Generator\\Data_Sets\\merged_songs.csv\")"
   ]
  },
  {
   "cell_type": "code",
   "execution_count": 21,
   "id": "b8e4fa71-876d-4852-b630-a2ea4048ce2a",
   "metadata": {},
   "outputs": [
    {
     "data": {
      "text/html": [
       "<div>\n",
       "<style scoped>\n",
       "    .dataframe tbody tr th:only-of-type {\n",
       "        vertical-align: middle;\n",
       "    }\n",
       "\n",
       "    .dataframe tbody tr th {\n",
       "        vertical-align: top;\n",
       "    }\n",
       "\n",
       "    .dataframe thead th {\n",
       "        text-align: right;\n",
       "    }\n",
       "</style>\n",
       "<table border=\"1\" class=\"dataframe\">\n",
       "  <thead>\n",
       "    <tr style=\"text-align: right;\">\n",
       "      <th></th>\n",
       "      <th>Artist</th>\n",
       "      <th>Title</th>\n",
       "      <th>Album</th>\n",
       "      <th>Date</th>\n",
       "      <th>Lyric</th>\n",
       "      <th>Year</th>\n",
       "      <th>Unnamed: 0</th>\n",
       "    </tr>\n",
       "  </thead>\n",
       "  <tbody>\n",
       "    <tr>\n",
       "      <th>0</th>\n",
       "      <td>Ariana Grande</td>\n",
       "      <td>​thank u, next</td>\n",
       "      <td>thank u, next</td>\n",
       "      <td>2018-11-03</td>\n",
       "      <td>thought i'd end up with sean but he wasn't a m...</td>\n",
       "      <td>2018.0</td>\n",
       "      <td>NaN</td>\n",
       "    </tr>\n",
       "    <tr>\n",
       "      <th>1</th>\n",
       "      <td>Ariana Grande</td>\n",
       "      <td>7 rings</td>\n",
       "      <td>thank u, next</td>\n",
       "      <td>2019-01-18</td>\n",
       "      <td>yeah breakfast at tiffany's and bottles of bub...</td>\n",
       "      <td>2019.0</td>\n",
       "      <td>NaN</td>\n",
       "    </tr>\n",
       "    <tr>\n",
       "      <th>2</th>\n",
       "      <td>Ariana Grande</td>\n",
       "      <td>​God is a woman</td>\n",
       "      <td>Sweetener</td>\n",
       "      <td>2018-07-13</td>\n",
       "      <td>you you love it how i move you you love it how...</td>\n",
       "      <td>2018.0</td>\n",
       "      <td>NaN</td>\n",
       "    </tr>\n",
       "    <tr>\n",
       "      <th>3</th>\n",
       "      <td>Ariana Grande</td>\n",
       "      <td>Side To Side</td>\n",
       "      <td>Dangerous Woman</td>\n",
       "      <td>2016-05-20</td>\n",
       "      <td>ariana grande  nicki minaj i've been here all ...</td>\n",
       "      <td>2016.0</td>\n",
       "      <td>NaN</td>\n",
       "    </tr>\n",
       "    <tr>\n",
       "      <th>4</th>\n",
       "      <td>Ariana Grande</td>\n",
       "      <td>​​no tears left to cry</td>\n",
       "      <td>Sweetener</td>\n",
       "      <td>2018-04-20</td>\n",
       "      <td>right now i'm in a state of mind i wanna be in...</td>\n",
       "      <td>2018.0</td>\n",
       "      <td>NaN</td>\n",
       "    </tr>\n",
       "  </tbody>\n",
       "</table>\n",
       "</div>"
      ],
      "text/plain": [
       "          Artist                   Title            Album        Date  \\\n",
       "0  Ariana Grande          ​thank u, next    thank u, next  2018-11-03   \n",
       "1  Ariana Grande                 7 rings    thank u, next  2019-01-18   \n",
       "2  Ariana Grande         ​God is a woman        Sweetener  2018-07-13   \n",
       "3  Ariana Grande            Side To Side  Dangerous Woman  2016-05-20   \n",
       "4  Ariana Grande  ​​no tears left to cry        Sweetener  2018-04-20   \n",
       "\n",
       "                                               Lyric    Year  Unnamed: 0  \n",
       "0  thought i'd end up with sean but he wasn't a m...  2018.0         NaN  \n",
       "1  yeah breakfast at tiffany's and bottles of bub...  2019.0         NaN  \n",
       "2  you you love it how i move you you love it how...  2018.0         NaN  \n",
       "3  ariana grande  nicki minaj i've been here all ...  2016.0         NaN  \n",
       "4  right now i'm in a state of mind i wanna be in...  2018.0         NaN  "
      ]
     },
     "execution_count": 21,
     "metadata": {},
     "output_type": "execute_result"
    }
   ],
   "source": [
    "df.head()"
   ]
  },
  {
   "cell_type": "markdown",
   "id": "ea9a905f-e554-45d2-9e83-ea10f86674eb",
   "metadata": {},
   "source": [
    "# Exploring the data"
   ]
  },
  {
   "cell_type": "code",
   "execution_count": 24,
   "id": "3f581490-d1ed-42f7-a92e-676a11d63428",
   "metadata": {},
   "outputs": [
    {
     "data": {
      "text/plain": [
       "(6027, 7)"
      ]
     },
     "execution_count": 24,
     "metadata": {},
     "output_type": "execute_result"
    }
   ],
   "source": [
    "df.shape"
   ]
  },
  {
   "cell_type": "code",
   "execution_count": 26,
   "id": "88685a09-181d-4cbe-aa17-e230a6b55787",
   "metadata": {},
   "outputs": [
    {
     "data": {
      "text/plain": [
       "Artist\n",
       "Eminem           521\n",
       "Taylor Swift     479\n",
       "Drake            466\n",
       "Beyoncé          406\n",
       "Rihanna          405\n",
       "Lady Gaga        402\n",
       "Justin Bieber    348\n",
       "Coldplay         344\n",
       "Katy Perry       325\n",
       "Nicki Minaj      323\n",
       "Ariana Grande    308\n",
       "Ed Sheeran       296\n",
       "BTS (방탄소년단)      278\n",
       "Dua Lipa         247\n",
       "Maroon 5         197\n",
       "Selena Gomez     175\n",
       "Post Malone      148\n",
       "Billie Eilish    145\n",
       "Charlie Puth      75\n",
       "Cardi B           75\n",
       "Khalid            64\n",
       "Name: count, dtype: int64"
      ]
     },
     "execution_count": 26,
     "metadata": {},
     "output_type": "execute_result"
    }
   ],
   "source": [
    "df['Artist'].value_counts()"
   ]
  },
  {
   "cell_type": "code",
   "execution_count": 28,
   "id": "bf7f3a1e-b354-497b-882a-324d030f86e8",
   "metadata": {},
   "outputs": [
    {
     "data": {
      "text/plain": [
       "21"
      ]
     },
     "execution_count": 28,
     "metadata": {},
     "output_type": "execute_result"
    }
   ],
   "source": [
    "df['Artist'].nunique()"
   ]
  },
  {
   "cell_type": "code",
   "execution_count": 30,
   "id": "211baa4a-b1d4-4f4c-87a1-32d4102d95e7",
   "metadata": {},
   "outputs": [
    {
     "name": "stdout",
     "output_type": "stream",
     "text": [
      "<class 'pandas.core.frame.DataFrame'>\n",
      "RangeIndex: 6027 entries, 0 to 6026\n",
      "Data columns (total 7 columns):\n",
      " #   Column      Non-Null Count  Dtype  \n",
      "---  ------      --------------  -----  \n",
      " 0   Artist      6027 non-null   object \n",
      " 1   Title       6027 non-null   object \n",
      " 2   Album       4453 non-null   object \n",
      " 3   Date        4278 non-null   object \n",
      " 4   Lyric       5981 non-null   object \n",
      " 5   Year        4278 non-null   float64\n",
      " 6   Unnamed: 0  5719 non-null   float64\n",
      "dtypes: float64(2), object(5)\n",
      "memory usage: 329.7+ KB\n"
     ]
    }
   ],
   "source": [
    "df.info()"
   ]
  },
  {
   "cell_type": "code",
   "execution_count": 32,
   "id": "6a48a200-b53b-4112-ba7c-4cc7ed924683",
   "metadata": {},
   "outputs": [
    {
     "data": {
      "text/html": [
       "<div>\n",
       "<style scoped>\n",
       "    .dataframe tbody tr th:only-of-type {\n",
       "        vertical-align: middle;\n",
       "    }\n",
       "\n",
       "    .dataframe tbody tr th {\n",
       "        vertical-align: top;\n",
       "    }\n",
       "\n",
       "    .dataframe thead th {\n",
       "        text-align: right;\n",
       "    }\n",
       "</style>\n",
       "<table border=\"1\" class=\"dataframe\">\n",
       "  <thead>\n",
       "    <tr style=\"text-align: right;\">\n",
       "      <th></th>\n",
       "      <th>Year</th>\n",
       "      <th>Unnamed: 0</th>\n",
       "    </tr>\n",
       "  </thead>\n",
       "  <tbody>\n",
       "    <tr>\n",
       "      <th>count</th>\n",
       "      <td>4278.000000</td>\n",
       "      <td>5719.000000</td>\n",
       "    </tr>\n",
       "    <tr>\n",
       "      <th>mean</th>\n",
       "      <td>2011.837775</td>\n",
       "      <td>175.362476</td>\n",
       "    </tr>\n",
       "    <tr>\n",
       "      <th>std</th>\n",
       "      <td>53.725459</td>\n",
       "      <td>121.678762</td>\n",
       "    </tr>\n",
       "    <tr>\n",
       "      <th>min</th>\n",
       "      <td>1.000000</td>\n",
       "      <td>0.000000</td>\n",
       "    </tr>\n",
       "    <tr>\n",
       "      <th>25%</th>\n",
       "      <td>2010.000000</td>\n",
       "      <td>71.000000</td>\n",
       "    </tr>\n",
       "    <tr>\n",
       "      <th>50%</th>\n",
       "      <td>2014.000000</td>\n",
       "      <td>156.000000</td>\n",
       "    </tr>\n",
       "    <tr>\n",
       "      <th>75%</th>\n",
       "      <td>2018.000000</td>\n",
       "      <td>263.000000</td>\n",
       "    </tr>\n",
       "    <tr>\n",
       "      <th>max</th>\n",
       "      <td>2022.000000</td>\n",
       "      <td>520.000000</td>\n",
       "    </tr>\n",
       "  </tbody>\n",
       "</table>\n",
       "</div>"
      ],
      "text/plain": [
       "              Year   Unnamed: 0\n",
       "count  4278.000000  5719.000000\n",
       "mean   2011.837775   175.362476\n",
       "std      53.725459   121.678762\n",
       "min       1.000000     0.000000\n",
       "25%    2010.000000    71.000000\n",
       "50%    2014.000000   156.000000\n",
       "75%    2018.000000   263.000000\n",
       "max    2022.000000   520.000000"
      ]
     },
     "execution_count": 32,
     "metadata": {},
     "output_type": "execute_result"
    }
   ],
   "source": [
    "df.describe()"
   ]
  },
  {
   "cell_type": "markdown",
   "id": "4e00b9bf-669e-43bc-9125-803f19861691",
   "metadata": {},
   "source": [
    "# Data CLeaning and Preprocessing"
   ]
  },
  {
   "cell_type": "code",
   "execution_count": null,
   "id": "4e147106-7cae-43aa-bda6-fe267ba8b6b8",
   "metadata": {},
   "outputs": [],
   "source": []
  }
 ],
 "metadata": {
  "kernelspec": {
   "display_name": "Python 3 (ipykernel)",
   "language": "python",
   "name": "python3"
  },
  "language_info": {
   "codemirror_mode": {
    "name": "ipython",
    "version": 3
   },
   "file_extension": ".py",
   "mimetype": "text/x-python",
   "name": "python",
   "nbconvert_exporter": "python",
   "pygments_lexer": "ipython3",
   "version": "3.12.7"
  }
 },
 "nbformat": 4,
 "nbformat_minor": 5
}
