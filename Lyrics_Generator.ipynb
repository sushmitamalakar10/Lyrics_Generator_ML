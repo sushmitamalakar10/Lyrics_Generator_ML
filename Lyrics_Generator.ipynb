{
 "cells": [
  {
   "cell_type": "markdown",
   "id": "470fb2cf-ae9f-47ea-a55b-700b158a0984",
   "metadata": {},
   "source": [
    "# Lyrics Generator\n"
   ]
  },
  {
   "cell_type": "code",
   "execution_count": 10,
   "id": "b52e3b80-3bad-48ce-af7f-2c2a39ec6d2f",
   "metadata": {},
   "outputs": [],
   "source": [
    "import os\n",
    "import pandas as pd"
   ]
  },
  {
   "cell_type": "code",
   "execution_count": 14,
   "id": "525a0c3d-36ce-44df-937a-aca357091448",
   "metadata": {},
   "outputs": [
    {
     "name": "stdout",
     "output_type": "stream",
     "text": [
      "Merged 21 CSV files into 'E:\\Lyrics_Generator\\Data_Sets\\merged_songs.csv' successfully!\n"
     ]
    }
   ],
   "source": [
    "\n",
    "\n",
    "# Define input and output paths\n",
    "folder_path = r\"E:\\Lyrics_Generator\\Data_Sets\\Songs\"\n",
    "output_folder = r\"E:\\Lyrics_Generator\\Data_Sets\"\n",
    "output_file = os.path.join(output_folder, \"merged_songs.csv\")\n",
    "\n",
    "# Ensure output folder exists\n",
    "os.makedirs(output_folder, exist_ok=True)\n",
    "\n",
    "# Get all CSV files in the folder\n",
    "csv_files = [file for file in os.listdir(folder_path) if file.endswith(\".csv\")]\n",
    "\n",
    "# Read and merge\n",
    "dfs = [pd.read_csv(os.path.join(folder_path, file)) for file in csv_files]\n",
    "merged_df = pd.concat(dfs, ignore_index=True)\n",
    "\n",
    "# Save to CSV\n",
    "merged_df.to_csv(output_file, index=False)\n",
    "print(f\"Merged {len(csv_files)} CSV files into '{output_file}' successfully!\")\n"
   ]
  },
  {
   "cell_type": "markdown",
   "id": "5aaffb19-d69c-4fe1-935e-f5f90174f5e1",
   "metadata": {},
   "source": [
    "# Loading the Dataset"
   ]
  },
  {
   "cell_type": "code",
   "execution_count": 19,
   "id": "76bc6806-8240-4ea5-98ae-e684b84fa511",
   "metadata": {},
   "outputs": [],
   "source": [
    "df = pd.read_csv(r\"E:\\Lyrics_Generator\\Data_Sets\\merged_songs.csv\")"
   ]
  },
  {
   "cell_type": "code",
   "execution_count": 21,
   "id": "b8e4fa71-876d-4852-b630-a2ea4048ce2a",
   "metadata": {},
   "outputs": [
    {
     "data": {
      "text/html": [
       "<div>\n",
       "<style scoped>\n",
       "    .dataframe tbody tr th:only-of-type {\n",
       "        vertical-align: middle;\n",
       "    }\n",
       "\n",
       "    .dataframe tbody tr th {\n",
       "        vertical-align: top;\n",
       "    }\n",
       "\n",
       "    .dataframe thead th {\n",
       "        text-align: right;\n",
       "    }\n",
       "</style>\n",
       "<table border=\"1\" class=\"dataframe\">\n",
       "  <thead>\n",
       "    <tr style=\"text-align: right;\">\n",
       "      <th></th>\n",
       "      <th>Artist</th>\n",
       "      <th>Title</th>\n",
       "      <th>Album</th>\n",
       "      <th>Date</th>\n",
       "      <th>Lyric</th>\n",
       "      <th>Year</th>\n",
       "      <th>Unnamed: 0</th>\n",
       "    </tr>\n",
       "  </thead>\n",
       "  <tbody>\n",
       "    <tr>\n",
       "      <th>0</th>\n",
       "      <td>Ariana Grande</td>\n",
       "      <td>​thank u, next</td>\n",
       "      <td>thank u, next</td>\n",
       "      <td>2018-11-03</td>\n",
       "      <td>thought i'd end up with sean but he wasn't a m...</td>\n",
       "      <td>2018.0</td>\n",
       "      <td>NaN</td>\n",
       "    </tr>\n",
       "    <tr>\n",
       "      <th>1</th>\n",
       "      <td>Ariana Grande</td>\n",
       "      <td>7 rings</td>\n",
       "      <td>thank u, next</td>\n",
       "      <td>2019-01-18</td>\n",
       "      <td>yeah breakfast at tiffany's and bottles of bub...</td>\n",
       "      <td>2019.0</td>\n",
       "      <td>NaN</td>\n",
       "    </tr>\n",
       "    <tr>\n",
       "      <th>2</th>\n",
       "      <td>Ariana Grande</td>\n",
       "      <td>​God is a woman</td>\n",
       "      <td>Sweetener</td>\n",
       "      <td>2018-07-13</td>\n",
       "      <td>you you love it how i move you you love it how...</td>\n",
       "      <td>2018.0</td>\n",
       "      <td>NaN</td>\n",
       "    </tr>\n",
       "    <tr>\n",
       "      <th>3</th>\n",
       "      <td>Ariana Grande</td>\n",
       "      <td>Side To Side</td>\n",
       "      <td>Dangerous Woman</td>\n",
       "      <td>2016-05-20</td>\n",
       "      <td>ariana grande  nicki minaj i've been here all ...</td>\n",
       "      <td>2016.0</td>\n",
       "      <td>NaN</td>\n",
       "    </tr>\n",
       "    <tr>\n",
       "      <th>4</th>\n",
       "      <td>Ariana Grande</td>\n",
       "      <td>​​no tears left to cry</td>\n",
       "      <td>Sweetener</td>\n",
       "      <td>2018-04-20</td>\n",
       "      <td>right now i'm in a state of mind i wanna be in...</td>\n",
       "      <td>2018.0</td>\n",
       "      <td>NaN</td>\n",
       "    </tr>\n",
       "  </tbody>\n",
       "</table>\n",
       "</div>"
      ],
      "text/plain": [
       "          Artist                   Title            Album        Date  \\\n",
       "0  Ariana Grande          ​thank u, next    thank u, next  2018-11-03   \n",
       "1  Ariana Grande                 7 rings    thank u, next  2019-01-18   \n",
       "2  Ariana Grande         ​God is a woman        Sweetener  2018-07-13   \n",
       "3  Ariana Grande            Side To Side  Dangerous Woman  2016-05-20   \n",
       "4  Ariana Grande  ​​no tears left to cry        Sweetener  2018-04-20   \n",
       "\n",
       "                                               Lyric    Year  Unnamed: 0  \n",
       "0  thought i'd end up with sean but he wasn't a m...  2018.0         NaN  \n",
       "1  yeah breakfast at tiffany's and bottles of bub...  2019.0         NaN  \n",
       "2  you you love it how i move you you love it how...  2018.0         NaN  \n",
       "3  ariana grande  nicki minaj i've been here all ...  2016.0         NaN  \n",
       "4  right now i'm in a state of mind i wanna be in...  2018.0         NaN  "
      ]
     },
     "execution_count": 21,
     "metadata": {},
     "output_type": "execute_result"
    }
   ],
   "source": [
    "df.head()"
   ]
  },
  {
   "cell_type": "code",
   "execution_count": null,
   "id": "2c71b382-20ab-41f8-9354-640491c489e4",
   "metadata": {},
   "outputs": [],
   "source": []
  }
 ],
 "metadata": {
  "kernelspec": {
   "display_name": "Python 3 (ipykernel)",
   "language": "python",
   "name": "python3"
  },
  "language_info": {
   "codemirror_mode": {
    "name": "ipython",
    "version": 3
   },
   "file_extension": ".py",
   "mimetype": "text/x-python",
   "name": "python",
   "nbconvert_exporter": "python",
   "pygments_lexer": "ipython3",
   "version": "3.12.7"
  }
 },
 "nbformat": 4,
 "nbformat_minor": 5
}
