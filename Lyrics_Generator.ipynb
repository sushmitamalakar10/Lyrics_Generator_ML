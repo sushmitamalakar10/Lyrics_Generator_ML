{
 "cells": [
  {
   "cell_type": "markdown",
   "metadata": {},
   "source": [
    "# Lyrics Generator"
   ]
  },
  {
   "cell_type": "code",
   "execution_count": 2,
   "metadata": {},
   "outputs": [],
   "source": [
    "import os\n",
    "import pandas as pd"
   ]
  },
  {
   "cell_type": "code",
   "execution_count": 3,
   "metadata": {},
   "outputs": [
    {
     "name": "stdout",
     "output_type": "stream",
     "text": [
      "Merged 20 CSV files into 'E:\\Lyrics_Generator\\Data_Sets\\merged_songs.csv' successfully!\n"
     ]
    }
   ],
   "source": [
    "\n",
    "# Define input and output paths\n",
    "folder_path = r\"E:\\Lyrics_Generator\\Data_Sets\\Songs\"\n",
    "output_folder = r\"E:\\Lyrics_Generator\\Data_Sets\"\n",
    "output_file = os.path.join(output_folder, \"merged_songs.csv\")\n",
    "\n",
    "# Ensure output folder exists\n",
    "os.makedirs(output_folder, exist_ok=True)\n",
    "\n",
    "# Get all CSV files in the folder\n",
    "csv_files = [file for file in os.listdir(folder_path) if file.endswith(\".csv\")]\n",
    "\n",
    "# Read and merge\n",
    "dfs = [pd.read_csv(os.path.join(folder_path, file)) for file in csv_files]\n",
    "merged_df = pd.concat(dfs, ignore_index=True)\n",
    "\n",
    "# Save to CSV\n",
    "merged_df.to_csv(output_file, index=False)\n",
    "print(f\"Merged {len(csv_files)} CSV files into '{output_file}' successfully!\")\n",
    "\n",
    "# folder_path = \"E:\\AI\\Lyrics_Generator_RNN\\Song_dataset\"\n",
    "\n",
    "# csv_files = [file for file in os.listdir(folder_path) if file.endswith(\".csv\")]\n",
    "\n",
    "# dfs = [pd.read_csv(os.path.join(folder_path, file)) for file in csv_files]\n",
    "# merged_df = pd.concat(dfs, ignore_index=True)\n",
    "\n",
    "# merged_df.to_csv(r\"E:\\AI\\Lyrics_Generator_RNN\\Data_sets\\merged_songs.csv\", index=False)\n",
    "\n",
    "# print(f\"Merged {len(csv_files)} CSV files into 'merged_songs.csv' successfully!\")\n"
   ]
  },
  {
   "cell_type": "markdown",
   "metadata": {},
   "source": [
    "## Loading the DataSets"
   ]
  },
  {
   "cell_type": "code",
   "execution_count": 4,
   "metadata": {},
   "outputs": [],
   "source": [
    "df = pd.read_csv(r\"E:\\Lyrics_Generator\\Data_sets\\merged_songs.csv\")"
   ]
  },
  {
   "cell_type": "code",
   "execution_count": 5,
   "metadata": {},
   "outputs": [
    {
     "data": {
      "text/html": [
       "<div>\n",
       "<style scoped>\n",
       "    .dataframe tbody tr th:only-of-type {\n",
       "        vertical-align: middle;\n",
       "    }\n",
       "\n",
       "    .dataframe tbody tr th {\n",
       "        vertical-align: top;\n",
       "    }\n",
       "\n",
       "    .dataframe thead th {\n",
       "        text-align: right;\n",
       "    }\n",
       "</style>\n",
       "<table border=\"1\" class=\"dataframe\">\n",
       "  <thead>\n",
       "    <tr style=\"text-align: right;\">\n",
       "      <th></th>\n",
       "      <th>Artist</th>\n",
       "      <th>Title</th>\n",
       "      <th>Album</th>\n",
       "      <th>Date</th>\n",
       "      <th>Lyric</th>\n",
       "      <th>Year</th>\n",
       "      <th>Unnamed: 0</th>\n",
       "    </tr>\n",
       "  </thead>\n",
       "  <tbody>\n",
       "    <tr>\n",
       "      <th>0</th>\n",
       "      <td>Ariana Grande</td>\n",
       "      <td>​thank u, next</td>\n",
       "      <td>thank u, next</td>\n",
       "      <td>2018-11-03</td>\n",
       "      <td>thought i'd end up with sean but he wasn't a m...</td>\n",
       "      <td>2018.0</td>\n",
       "      <td>NaN</td>\n",
       "    </tr>\n",
       "    <tr>\n",
       "      <th>1</th>\n",
       "      <td>Ariana Grande</td>\n",
       "      <td>7 rings</td>\n",
       "      <td>thank u, next</td>\n",
       "      <td>2019-01-18</td>\n",
       "      <td>yeah breakfast at tiffany's and bottles of bub...</td>\n",
       "      <td>2019.0</td>\n",
       "      <td>NaN</td>\n",
       "    </tr>\n",
       "    <tr>\n",
       "      <th>2</th>\n",
       "      <td>Ariana Grande</td>\n",
       "      <td>​God is a woman</td>\n",
       "      <td>Sweetener</td>\n",
       "      <td>2018-07-13</td>\n",
       "      <td>you you love it how i move you you love it how...</td>\n",
       "      <td>2018.0</td>\n",
       "      <td>NaN</td>\n",
       "    </tr>\n",
       "  </tbody>\n",
       "</table>\n",
       "</div>"
      ],
      "text/plain": [
       "          Artist            Title          Album        Date  \\\n",
       "0  Ariana Grande   ​thank u, next  thank u, next  2018-11-03   \n",
       "1  Ariana Grande          7 rings  thank u, next  2019-01-18   \n",
       "2  Ariana Grande  ​God is a woman      Sweetener  2018-07-13   \n",
       "\n",
       "                                               Lyric    Year  Unnamed: 0  \n",
       "0  thought i'd end up with sean but he wasn't a m...  2018.0         NaN  \n",
       "1  yeah breakfast at tiffany's and bottles of bub...  2019.0         NaN  \n",
       "2  you you love it how i move you you love it how...  2018.0         NaN  "
      ]
     },
     "execution_count": 5,
     "metadata": {},
     "output_type": "execute_result"
    }
   ],
   "source": [
    "df.head(3)"
   ]
  },
  {
   "cell_type": "markdown",
   "metadata": {},
   "source": [
    "## Exploring the data"
   ]
  },
  {
   "cell_type": "code",
   "execution_count": 6,
   "metadata": {},
   "outputs": [
    {
     "data": {
      "text/plain": [
       "Artist\n",
       "Eminem           521\n",
       "Taylor Swift     479\n",
       "Drake            466\n",
       "Beyoncé          406\n",
       "Rihanna          405\n",
       "Lady Gaga        402\n",
       "Justin Bieber    348\n",
       "Coldplay         344\n",
       "Katy Perry       325\n",
       "Nicki Minaj      323\n",
       "Ariana Grande    308\n",
       "Ed Sheeran       296\n",
       "Dua Lipa         247\n",
       "Maroon 5         197\n",
       "Selena Gomez     175\n",
       "Post Malone      148\n",
       "Billie Eilish    145\n",
       "Charlie Puth      75\n",
       "Cardi B           75\n",
       "Khalid            64\n",
       "Name: count, dtype: int64"
      ]
     },
     "execution_count": 6,
     "metadata": {},
     "output_type": "execute_result"
    }
   ],
   "source": [
    "df['Artist'].value_counts()"
   ]
  },
  {
   "cell_type": "code",
   "execution_count": 7,
   "metadata": {},
   "outputs": [
    {
     "data": {
      "text/plain": [
       "(5749, 7)"
      ]
     },
     "execution_count": 7,
     "metadata": {},
     "output_type": "execute_result"
    }
   ],
   "source": [
    "df.shape"
   ]
  },
  {
   "cell_type": "markdown",
   "metadata": {},
   "source": [
    "## Checking for the missing data"
   ]
  },
  {
   "cell_type": "code",
   "execution_count": 8,
   "metadata": {},
   "outputs": [
    {
     "data": {
      "text/plain": [
       "Artist           0\n",
       "Title            0\n",
       "Album         1552\n",
       "Date          1744\n",
       "Lyric           38\n",
       "Year          1744\n",
       "Unnamed: 0     308\n",
       "dtype: int64"
      ]
     },
     "execution_count": 8,
     "metadata": {},
     "output_type": "execute_result"
    }
   ],
   "source": [
    "df.isnull().sum()"
   ]
  },
  {
   "cell_type": "code",
   "execution_count": 9,
   "metadata": {},
   "outputs": [],
   "source": [
    "df = df.drop(columns=['Album', 'Date', 'Year', 'Unnamed: 0'])"
   ]
  },
  {
   "cell_type": "code",
   "execution_count": 10,
   "metadata": {},
   "outputs": [
    {
     "data": {
      "text/plain": [
       "Artist     0\n",
       "Title      0\n",
       "Lyric     38\n",
       "dtype: int64"
      ]
     },
     "execution_count": 10,
     "metadata": {},
     "output_type": "execute_result"
    }
   ],
   "source": [
    "df.isnull().sum()"
   ]
  },
  {
   "cell_type": "code",
   "execution_count": 11,
   "metadata": {},
   "outputs": [],
   "source": [
    "df = df.dropna(subset=['Lyric'])  # Remove rows with missing lyrics\n",
    "df = df.drop_duplicates()  # Remove duplicate lyrics"
   ]
  },
  {
   "cell_type": "code",
   "execution_count": 12,
   "metadata": {},
   "outputs": [
    {
     "data": {
      "text/plain": [
       "Artist    0\n",
       "Title     0\n",
       "Lyric     0\n",
       "dtype: int64"
      ]
     },
     "execution_count": 12,
     "metadata": {},
     "output_type": "execute_result"
    }
   ],
   "source": [
    "df.isnull().sum()"
   ]
  },
  {
   "cell_type": "code",
   "execution_count": 13,
   "metadata": {},
   "outputs": [
    {
     "data": {
      "text/plain": [
       "(5711, 3)"
      ]
     },
     "execution_count": 13,
     "metadata": {},
     "output_type": "execute_result"
    }
   ],
   "source": [
    "df.shape"
   ]
  },
  {
   "cell_type": "raw",
   "metadata": {
    "vscode": {
     "languageId": "raw"
    }
   },
   "source": [
    "df.head(3)"
   ]
  },
  {
   "cell_type": "code",
   "execution_count": 14,
   "metadata": {},
   "outputs": [
    {
     "data": {
      "text/plain": [
       "Artist\n",
       "Eminem           521\n",
       "Taylor Swift     477\n",
       "Drake            464\n",
       "Beyoncé          406\n",
       "Rihanna          397\n",
       "Lady Gaga        395\n",
       "Justin Bieber    347\n",
       "Coldplay         333\n",
       "Katy Perry       324\n",
       "Nicki Minaj      321\n",
       "Ariana Grande    308\n",
       "Ed Sheeran       294\n",
       "Dua Lipa         246\n",
       "Maroon 5         197\n",
       "Selena Gomez     174\n",
       "Post Malone      148\n",
       "Billie Eilish    145\n",
       "Charlie Puth      75\n",
       "Cardi B           75\n",
       "Khalid            64\n",
       "Name: count, dtype: int64"
      ]
     },
     "execution_count": 14,
     "metadata": {},
     "output_type": "execute_result"
    }
   ],
   "source": [
    "df['Artist'].value_counts()"
   ]
  },
  {
   "cell_type": "markdown",
   "metadata": {},
   "source": [
    "## Text Preprocessing"
   ]
  },
  {
   "cell_type": "code",
   "execution_count": 15,
   "metadata": {},
   "outputs": [],
   "source": [
    "new_df = df.copy()"
   ]
  },
  {
   "cell_type": "code",
   "execution_count": 16,
   "metadata": {},
   "outputs": [
    {
     "data": {
      "text/html": [
       "<div>\n",
       "<style scoped>\n",
       "    .dataframe tbody tr th:only-of-type {\n",
       "        vertical-align: middle;\n",
       "    }\n",
       "\n",
       "    .dataframe tbody tr th {\n",
       "        vertical-align: top;\n",
       "    }\n",
       "\n",
       "    .dataframe thead th {\n",
       "        text-align: right;\n",
       "    }\n",
       "</style>\n",
       "<table border=\"1\" class=\"dataframe\">\n",
       "  <thead>\n",
       "    <tr style=\"text-align: right;\">\n",
       "      <th></th>\n",
       "      <th>Artist</th>\n",
       "      <th>Title</th>\n",
       "      <th>Lyric</th>\n",
       "    </tr>\n",
       "  </thead>\n",
       "  <tbody>\n",
       "    <tr>\n",
       "      <th>0</th>\n",
       "      <td>Ariana Grande</td>\n",
       "      <td>​thank u, next</td>\n",
       "      <td>thought i'd end up with sean but he wasn't a m...</td>\n",
       "    </tr>\n",
       "    <tr>\n",
       "      <th>1</th>\n",
       "      <td>Ariana Grande</td>\n",
       "      <td>7 rings</td>\n",
       "      <td>yeah breakfast at tiffany's and bottles of bub...</td>\n",
       "    </tr>\n",
       "    <tr>\n",
       "      <th>2</th>\n",
       "      <td>Ariana Grande</td>\n",
       "      <td>​God is a woman</td>\n",
       "      <td>you you love it how i move you you love it how...</td>\n",
       "    </tr>\n",
       "    <tr>\n",
       "      <th>3</th>\n",
       "      <td>Ariana Grande</td>\n",
       "      <td>Side To Side</td>\n",
       "      <td>ariana grande  nicki minaj i've been here all ...</td>\n",
       "    </tr>\n",
       "    <tr>\n",
       "      <th>4</th>\n",
       "      <td>Ariana Grande</td>\n",
       "      <td>​​no tears left to cry</td>\n",
       "      <td>right now i'm in a state of mind i wanna be in...</td>\n",
       "    </tr>\n",
       "    <tr>\n",
       "      <th>...</th>\n",
       "      <td>...</td>\n",
       "      <td>...</td>\n",
       "      <td>...</td>\n",
       "    </tr>\n",
       "    <tr>\n",
       "      <th>5744</th>\n",
       "      <td>Taylor Swift</td>\n",
       "      <td>Teardrops on my Guitar (Live from Clear Channe...</td>\n",
       "      <td>drew looks at me i fake a smile so he won't se...</td>\n",
       "    </tr>\n",
       "    <tr>\n",
       "      <th>5745</th>\n",
       "      <td>Taylor Swift</td>\n",
       "      <td>Evermore [Forward]</td>\n",
       "      <td>to put it plainly we just couldnt stop writing...</td>\n",
       "    </tr>\n",
       "    <tr>\n",
       "      <th>5746</th>\n",
       "      <td>Taylor Swift</td>\n",
       "      <td>Welcome Back Grunwald</td>\n",
       "      <td>turn wycd on you're on your grunwald back from...</td>\n",
       "    </tr>\n",
       "    <tr>\n",
       "      <th>5747</th>\n",
       "      <td>Taylor Swift</td>\n",
       "      <td>Tolerate it (Polskie Tłumaczenie)</td>\n",
       "      <td>zwrotka  siedzę i patrzę jak czytasz z głową p...</td>\n",
       "    </tr>\n",
       "    <tr>\n",
       "      <th>5748</th>\n",
       "      <td>Taylor Swift</td>\n",
       "      <td>Find you</td>\n",
       "      <td>trying just like they say just taking the step...</td>\n",
       "    </tr>\n",
       "  </tbody>\n",
       "</table>\n",
       "<p>5711 rows × 3 columns</p>\n",
       "</div>"
      ],
      "text/plain": [
       "             Artist                                              Title  \\\n",
       "0     Ariana Grande                                     ​thank u, next   \n",
       "1     Ariana Grande                                            7 rings   \n",
       "2     Ariana Grande                                    ​God is a woman   \n",
       "3     Ariana Grande                                       Side To Side   \n",
       "4     Ariana Grande                             ​​no tears left to cry   \n",
       "...             ...                                                ...   \n",
       "5744   Taylor Swift  Teardrops on my Guitar (Live from Clear Channe...   \n",
       "5745   Taylor Swift                                 Evermore [Forward]   \n",
       "5746   Taylor Swift                              Welcome Back Grunwald   \n",
       "5747   Taylor Swift                  Tolerate it (Polskie Tłumaczenie)   \n",
       "5748   Taylor Swift                                           Find you   \n",
       "\n",
       "                                                  Lyric  \n",
       "0     thought i'd end up with sean but he wasn't a m...  \n",
       "1     yeah breakfast at tiffany's and bottles of bub...  \n",
       "2     you you love it how i move you you love it how...  \n",
       "3     ariana grande  nicki minaj i've been here all ...  \n",
       "4     right now i'm in a state of mind i wanna be in...  \n",
       "...                                                 ...  \n",
       "5744  drew looks at me i fake a smile so he won't se...  \n",
       "5745  to put it plainly we just couldnt stop writing...  \n",
       "5746  turn wycd on you're on your grunwald back from...  \n",
       "5747  zwrotka  siedzę i patrzę jak czytasz z głową p...  \n",
       "5748  trying just like they say just taking the step...  \n",
       "\n",
       "[5711 rows x 3 columns]"
      ]
     },
     "execution_count": 16,
     "metadata": {},
     "output_type": "execute_result"
    }
   ],
   "source": [
    "new_df"
   ]
  },
  {
   "cell_type": "markdown",
   "metadata": {},
   "source": [
    "### Lowercasing"
   ]
  },
  {
   "cell_type": "code",
   "execution_count": 17,
   "metadata": {},
   "outputs": [],
   "source": [
    "new_df['Title'] = new_df['Title'].str.lower()\n",
    "new_df['Lyric'] = new_df['Lyric'].str.lower()"
   ]
  },
  {
   "cell_type": "code",
   "execution_count": 18,
   "metadata": {},
   "outputs": [
    {
     "data": {
      "text/html": [
       "<div>\n",
       "<style scoped>\n",
       "    .dataframe tbody tr th:only-of-type {\n",
       "        vertical-align: middle;\n",
       "    }\n",
       "\n",
       "    .dataframe tbody tr th {\n",
       "        vertical-align: top;\n",
       "    }\n",
       "\n",
       "    .dataframe thead th {\n",
       "        text-align: right;\n",
       "    }\n",
       "</style>\n",
       "<table border=\"1\" class=\"dataframe\">\n",
       "  <thead>\n",
       "    <tr style=\"text-align: right;\">\n",
       "      <th></th>\n",
       "      <th>Artist</th>\n",
       "      <th>Title</th>\n",
       "      <th>Lyric</th>\n",
       "    </tr>\n",
       "  </thead>\n",
       "  <tbody>\n",
       "    <tr>\n",
       "      <th>0</th>\n",
       "      <td>Ariana Grande</td>\n",
       "      <td>​thank u, next</td>\n",
       "      <td>thought i'd end up with sean but he wasn't a m...</td>\n",
       "    </tr>\n",
       "    <tr>\n",
       "      <th>1</th>\n",
       "      <td>Ariana Grande</td>\n",
       "      <td>7 rings</td>\n",
       "      <td>yeah breakfast at tiffany's and bottles of bub...</td>\n",
       "    </tr>\n",
       "    <tr>\n",
       "      <th>2</th>\n",
       "      <td>Ariana Grande</td>\n",
       "      <td>​god is a woman</td>\n",
       "      <td>you you love it how i move you you love it how...</td>\n",
       "    </tr>\n",
       "  </tbody>\n",
       "</table>\n",
       "</div>"
      ],
      "text/plain": [
       "          Artist            Title  \\\n",
       "0  Ariana Grande   ​thank u, next   \n",
       "1  Ariana Grande          7 rings   \n",
       "2  Ariana Grande  ​god is a woman   \n",
       "\n",
       "                                               Lyric  \n",
       "0  thought i'd end up with sean but he wasn't a m...  \n",
       "1  yeah breakfast at tiffany's and bottles of bub...  \n",
       "2  you you love it how i move you you love it how...  "
      ]
     },
     "execution_count": 18,
     "metadata": {},
     "output_type": "execute_result"
    }
   ],
   "source": [
    "new_df.head(3)"
   ]
  },
  {
   "cell_type": "markdown",
   "metadata": {},
   "source": [
    "#### Cleaning functions"
   ]
  },
  {
   "cell_type": "code",
   "execution_count": 19,
   "metadata": {},
   "outputs": [],
   "source": [
    "import re"
   ]
  },
  {
   "cell_type": "code",
   "execution_count": 20,
   "metadata": {},
   "outputs": [],
   "source": [
    "# Pre-checking the lyrics\n",
    "def has_html_tags(text):\n",
    "    \"\"\"Check if text contains HTML tags.\"\"\"\n",
    "    if not isinstance(text, str):\n",
    "        return False\n",
    "    return bool(re.search(r'<[^>]+>', text))\n",
    "\n",
    "def has_urls(text):\n",
    "    \"\"\"Check if text contains URLs.\"\"\"\n",
    "    if not isinstance(text, str):\n",
    "        return False\n",
    "    url_pattern = r'https?://\\S+|www\\.\\S+|\\S+\\.\\S+/\\S+'\n",
    "    return bool(re.search(url_pattern, text))\n",
    "\n",
    "# def has_punctuation(text):\n",
    "#     \"\"\"Check if text contains punctuation.\"\"\"\n",
    "#     if not isinstance(text, str):\n",
    "#         return False\n",
    "#     return any(c in string.punctuation for c in text)"
   ]
  },
  {
   "cell_type": "code",
   "execution_count": 21,
   "metadata": {},
   "outputs": [],
   "source": [
    "# Function to remove html tags and urls\n",
    "def remove_html_tags(text):\n",
    "    \"\"\"Remove HTML tags from text.\"\"\"\n",
    "    if not isinstance(text, str):\n",
    "        return text\n",
    "    pattern = re.compile(r'<.*?>')\n",
    "    return pattern.sub('', text).strip()\n",
    "\n",
    "def remove_urls(text):\n",
    "    \"\"\"Remove URLs from text.\"\"\"\n",
    "    if not isinstance(text, str):\n",
    "        return text\n",
    "    url_pattern = re.compile(r'https?://\\S+|www\\.\\S+')\n",
    "    return url_pattern.sub('', text).strip()\n",
    "\n",
    "# def remove_punctuation(text):\n",
    "#     \"\"\"Remove punctuation from text.\"\"\"\n",
    "#     if not isinstance(text, str):\n",
    "#         return text\n",
    "#     return text.translate(str.maketrans('', '', string.punctuation))"
   ]
  },
  {
   "cell_type": "code",
   "execution_count": 22,
   "metadata": {},
   "outputs": [
    {
     "name": "stdout",
     "output_type": "stream",
     "text": [
      "Precheck Summary:\n",
      "Lyrics with HTML tags: 0 (0.00%)\n",
      "Lyrics with URLs: 0 (0.00%)\n"
     ]
    }
   ],
   "source": [
    "lyric_html_count = new_df['Lyric'].apply(has_html_tags).sum()\n",
    "lyric_url_count = new_df['Lyric'].apply(has_urls).sum()\n",
    "# lyric_punctuation_count = new_df['Lyric'].apply(has_punctuation).sum()\n",
    "\n",
    "# title_html_count = new_df['Title'].apply(has_html_tags).sum()\n",
    "# title_url_count = new_df['Title'].apply(has_urls).sum()\n",
    "# title_punctuation_count = new_df['Title'].apply(has_punctuation).sum()\n",
    "\n",
    "total_rows = len(new_df)\n",
    "print(\"Precheck Summary:\")\n",
    "print(f\"Lyrics with HTML tags: {lyric_html_count} ({(lyric_html_count/total_rows)*100:.2f}%)\")\n",
    "print(f\"Lyrics with URLs: {lyric_url_count} ({(lyric_url_count/total_rows)*100:.2f}%)\")\n",
    "# print(f\"Lyrics with punctuation: {lyric_punctuation_count} ({(lyric_punctuation_count/total_rows)*100:.2f}%)\")\n",
    "\n",
    "# print(f\"Titles with HTML tags: {title_html_count} ({(title_html_count/total_rows)*100:.2f}%)\")\n",
    "# print(f\"Titles with URLs: {title_url_count} ({(title_url_count/total_rows)*100:.2f}%)\")\n",
    "# print(f\"Titles with punctuation: {title_punctuation_count} ({(title_punctuation_count/total_rows)*100:.2f}%)\")"
   ]
  },
  {
   "cell_type": "code",
   "execution_count": 23,
   "metadata": {},
   "outputs": [],
   "source": [
    "# Cleaning based on pre-check results\n",
    "\n",
    "if lyric_html_count > 0:\n",
    "    new_df['Lyric'] = new_df['Lyric'].apply(remove_html_tags)\n",
    "\n",
    "if lyric_url_count > 0:\n",
    "    new_df['Lyric'] = new_df['Lyric'].apply(remove_urls)\n",
    "    \n",
    "# if lyric_punctuation_count > 0:\n",
    "#     new_df['Lyric'] = new_df['Lyric'].apply(remove_punctuation)"
   ]
  },
  {
   "cell_type": "code",
   "execution_count": 24,
   "metadata": {},
   "outputs": [
    {
     "name": "stdout",
     "output_type": "stream",
     "text": [
      "\n",
      "Post-cleaning Result:\n",
      "Lyrics with HTML tags: 0 (0.00%)\n",
      "Lyrics with URLs: 0 (0.00%)\n"
     ]
    }
   ],
   "source": [
    "# Recalculate after cleaning\n",
    "lyric_html_count_after = new_df['Lyric'].apply(has_html_tags).sum()\n",
    "lyric_url_count_after = new_df['Lyric'].apply(has_urls).sum()\n",
    "# lyric_punctuation_count_after = new_df['Lyric'].apply(has_punctuation).sum()\n",
    "\n",
    "print(\"\\nPost-cleaning Result:\")\n",
    "print(f\"Lyrics with HTML tags: {lyric_html_count_after} ({(lyric_html_count_after/total_rows)*100:.2f}%)\")\n",
    "print(f\"Lyrics with URLs: {lyric_url_count_after} ({(lyric_url_count_after/total_rows)*100:.2f}%)\")\n",
    "# print(f\"Lyrics with punctuation: {lyric_punctuation_count_after} ({(lyric_punctuation_count_after/total_rows)*100:.2f}%)\")\n"
   ]
  },
  {
   "cell_type": "code",
   "execution_count": 25,
   "metadata": {},
   "outputs": [
    {
     "data": {
      "text/plain": [
       "0    thought i'd end up with sean but he wasn't a m...\n",
       "1    yeah breakfast at tiffany's and bottles of bub...\n",
       "2    you you love it how i move you you love it how...\n",
       "3    ariana grande  nicki minaj i've been here all ...\n",
       "4    right now i'm in a state of mind i wanna be in...\n",
       "Name: Lyric, dtype: object"
      ]
     },
     "execution_count": 25,
     "metadata": {},
     "output_type": "execute_result"
    }
   ],
   "source": [
    "new_df['Lyric'].head()"
   ]
  },
  {
   "cell_type": "markdown",
   "metadata": {},
   "source": [
    "## Chat Words Treatment"
   ]
  },
  {
   "cell_type": "code",
   "execution_count": 26,
   "metadata": {},
   "outputs": [
    {
     "name": "stdout",
     "output_type": "stream",
     "text": [
      "Number of lyrics containing chat words: 3374\n",
      "Number of lyrics containing chat words: 0\n"
     ]
    }
   ],
   "source": [
    "chat_words ={\n",
    "    \"u\": \"you\",\n",
    "    \"ur\": \"your\",\n",
    "    \"r\": \"are\",\n",
    "    \"ya\": \"you\",\n",
    "    \"luv\": \"love\",\n",
    "    \"b4\": \"before\",\n",
    "    \"gonna\": \"going to\",\n",
    "    \"wanna\": \"want to\",\n",
    "    \"gotta\": \"got to\",\n",
    "    \"lemme\": \"let me\",\n",
    "    \"gimme\": \"give me\",\n",
    "    \"im\": \"i am\",\n",
    "    \"dont\": \"don't\",\n",
    "    \"idk\": \"i don't know\",\n",
    "    \"brb\": \"be right back\",\n",
    "    \"lol\": \"laughing out loud\",\n",
    "    \"omg\": \"oh my god\",\n",
    "    \"ttyl\": \"talk to you later\",\n",
    "    \"lmao\": \"laughing my ass off\",\n",
    "    \"rofl\": \"rolling on the floor laughing\",\n",
    "    \"bff\": \"best friends forever\",\n",
    "    \"ily\": \"i love you\",\n",
    "    \"jk\": \"just kidding\",\n",
    "    \"bday\": \"birthday\",\n",
    "    \"cuz\": \"because\",\n",
    "    \"coz\": \"because\",\n",
    "    \"thx\": \"thanks\",\n",
    "    \"pls\": \"please\",\n",
    "    \"plz\": \"please\",\n",
    "    \"bae\": \"before anyone else\",\n",
    "    \"dm\": \"direct message\",\n",
    "    \"noob\": \"beginner\",\n",
    "    \"sk8\": \"skate\",\n",
    "    \"gr8\": \"great\",\n",
    "    \"np\": \"no problem\",\n",
    "    \"l8r\": \"later\",\n",
    "    \"idc\": \"i don't care\",\n",
    "    \"zzz\": \"sleeping\",\n",
    "    \"omw\": \"on my way\"\n",
    "}\n",
    "\n",
    "# Checking the number of lyrics containing the chat words\n",
    "\n",
    "def contains_chat_words(text):\n",
    "    if not isinstance(text, str):\n",
    "        return False\n",
    "    words = text.split()\n",
    "    return any(word in chat_words for word in words)\n",
    "\n",
    "# Check how many lyrics contain chat words\n",
    "chat_word_count = new_df['Lyric'].apply(contains_chat_words).sum()\n",
    "print(f\"Number of lyrics containing chat words: {chat_word_count}\")\n",
    "\n",
    "# Removing the chat words from the lyrics\n",
    "\n",
    "def chat_word_treatment(text):\n",
    "    if not isinstance(text, str):\n",
    "        return text\n",
    "    words = text.split()\n",
    "    normalized_words = [chat_words.get(w.lower(), w) for w in words]\n",
    "    return ' '.join(normalized_words)\n",
    "\n",
    "# Apply to the lyric column\n",
    "new_df['Lyric'] = new_df['Lyric'].apply(chat_word_treatment)\n",
    "\n",
    "chat_word_count_after = new_df['Lyric'].apply(contains_chat_words).sum()\n",
    "print(f\"Number of lyrics containing chat words: {chat_word_count_after}\")"
   ]
  },
  {
   "cell_type": "markdown",
   "metadata": {},
   "source": [
    "## Spelling Correction"
   ]
  },
  {
   "cell_type": "code",
   "execution_count": 27,
   "metadata": {},
   "outputs": [
    {
     "name": "stdout",
     "output_type": "stream",
     "text": [
      "Requirement already satisfied: pyspellchecker in c:\\users\\lenovo\\anaconda3\\lib\\site-packages (0.8.3)\n",
      "Note: you may need to restart the kernel to use updated packages.\n"
     ]
    }
   ],
   "source": [
    "pip install pyspellchecker"
   ]
  },
  {
   "cell_type": "code",
   "execution_count": 38,
   "metadata": {},
   "outputs": [
    {
     "name": "stdout",
     "output_type": "stream",
     "text": [
      "Total misspelled words: 59049\n",
      "Unique misspelled words (19201):\n",
      "{'corso', 'miseducation', 'impalis', 'juga', 'mungojerrie', 'nnashville', '888cutsomething', 'može', 'pióra', 'alejandrx', 'cada', 'rosado', 'امامنهمونطور', 'dropswhat', 'nezůstane', \"tremblin'\", 'bedava', 'dziecko', 'lbc', \"jigglin'\", 'royale', 'baisley', 'καρδία', 'ssame', 'tcf', 'paixão', 'paigon', \"stealin'\", 'conversating', 'escuchar', \"'tll\", 'jespère', 'scally', 'trut', 'leshurr', 'kaşar', 'dugni', 'crabtree', 'earings', \"tweakin'\", 'sixtythousand', 'ruh', 'eenie', 'nickelette', 'onehunnid', '你真該看看我戴上后冠', 'adlib', 'trampa', 'هام', 'aaagain', 'voicemail', \"comin'\", \"shot'll\", 'dnice', 'chingy', \"huffin'\", 'miuccia', \"samplin'\", 'tampoco', 'hunh', 'unleveled', 'saklıcam', 'upadło', \"hoggin'\", \"travellin'\", 'duyduğumuz', 'alt', 'курю', '一個接一個', 'esham', 'bunji', 'pompompompom', 'rrraahhhhhh', 'yerlerde', 'matress', 'appétit', 'neumann', 'rzuciłbym', 'ble', \"doubtin'\", \"quelqu'un\", \"cru's\", \"evenin'\", 'fouryearold', 'çeviririm', 'میخوایم', 'ibneler', 'plán', 'tenido', \"hen'\", 'egymást', 'werе', 'bbbitches', 'okurrrt', 'oooooooooo', 'kenard', 'headsup', 'nineinch', 'fulham', 'crip', 'többé', 'mmmmmm', \"'em\", 'tele', 'mctherf', 'miejsca', 'synclaire', 'ol', \"gunnin'\", 'riverer', \"fresh'd\", 'drinked', 'curiousity', 'jibba', 'chune', 'antibalas', 'backspins', 'vivendo', 'oooh', 'maxamus', 'anythang', 'porizontal', 'geazy', \"anticipatin'\", 'butbut', \"blamin'\", 'clappin', 'steeler', 'neiked', 'coproduced', 'στο', \"kai's\", 'топ', 'eyyo', 'wasser', \"endin'\", \"dyingit's\", 'گرفتن', 'lword', 'outtie', 'sheoheheh', 'tinky', \"restrainin'\", 'haymon', 'avión', \"ac'\", 'caprisun', 'estás', 'paga', 'finneas', 'payai', 'dogg', 'cnotes', '沉睡在靈柩裡', 'thisyou', 'puthy', 'tracę', 'menyentuh', 'missin', 'kamikamikaze', 'zitrone', 'youu', 'emociona', 'duhdahduhdahduhduh', 'arra', 'nena', 'rhymesayer', 'alrededor', \"shit''\", 'scheibe', 'phatness', 'darimu', 'دەکات', \"deliverin'\", 'forfor', \"icegrillin'\", 'knknow', \"owners'\", 'aaint', 'watereddown', \"t'\", '6speed', 'naquele', 'mclaran', 'abu', \"makin'\", 'solána', 'tus', 'sixtynine', 'shshsh', 'franca', 'aaahh', 'bobought', 'effin', 'pimper', 'bcther', '就像矛盾', \"multitaskin'\", 'نیکی', 'enamórame', 'nowjesus', \"chattin'\", 'mimibella', 'flexin', 'حسی', \"suit'll\", 'departеd', 'juré', 'putas', 'taser', '0yearold', 'atlamayı', 'alka', 'پێتە', 'zwycięzcę', 'giggs', 'daya', 'sabar', 'comе', 'regarde', \"youcan'tcatch\", 'opi', 'gastarme', 'dođi', 'renta', \"would''\", \"puffin'\", 'mitzubeeshy', 'throwed', 'mischa', \"adrian's\", \"pre'\", 'měli', 'interuppted', 'carajo', \"sobbin'\", 'kafanı', 'piru', 'béketeremtő', 'everyones', \"fizzuckin'\", 'johny', 'ahguh', 'ohohohi', 'youooh', 'kand', 'ferragamo', 'oor', 'cizzy', 'وازم', 'gustaría', 'mothas', 'oneeyed', 'babamın', \"f'd\", 'scoota', 'cityfrom', 'yoldan', 'walkie', 'gwinnett', 'wickwith', 'blaknąć', 'szégyen', 'ئێستا', 'credda', 'lauryn', 'años', 'bizim', 'araçlarını', 'tanışmak', '妖異の魔女だと', \"people'll\", \"her'd\", 'tearsome', 'guegueguess', 'reacharound', 'fanno', \"smearin'\", 'amato', 'dvd', \"broke's\", 'olduğunu', 'stato', \"forecastin'\", \"can'tbelievethatniggasaidthatshit\", 'acción', 'showohohoh', 'cigcrettes', \"stinkin'ass\", 'beyonceing', 'oublié', 'ahahahahah', 'azért', 'blicky', 'mossberg', 'jezelf', 'کەمانچە', 'asics', 'összetörött', 'cowriter', 'abcdefghijklmnopqrstuvwxy', 'yee', 'hittas', 'أبي', 'bajans', 'billboardcom', 'lameo', 'manilow', 'skibbedybebop', 'enendo', \"illin'\", 'iisland', 'nosotras', \"asses'll\", 'abababsolutely', 'rreplay', 'rasheed', \"ballin'\", 'arrivé', 'scotts', 'κρατησε', 'و', 'lookin', 'tackyana', 'streetrunner', 'unk', 'paraparaparadise', \"leggin'\", 'glacadh', 'allway', 'chophouze', 'toodles', 'chillling', \"servin'\", \"u'z\", 'fcked', 'передоз', 'lllook', 'babx', 'overthink', 'merde', 'myseself', 'darabjaiból', 'laffût', 'buddybuddy', \"if'n\", 'ppick', 'οπως', \"hollerin'\", 'overcomplicate', '事實是你一刻技癢', 'crushin', 'oneofakind', 'uturns', \"think's\", \"l'alcool\", 'química', 'altas', 'gaa', 'γιατρέψει', \"backpackin'\", 'allformat', 'uskutečnit', 'braggin', 'fiú', 'sveglia', 'sixpoint', \"cluckin'\", 'yachty', 'vinnvinn', 'tak', \"d'amour\", 'bellarang', 'whywhywhy', 'cockwhen', 'bebe', \"firin'\", 'basqui', 'frega', 'à', 'όχι', 'batshit', 'maree', 'baow', \"meit's\", 'kryptonno', 'porteños', 'při', 'wackyana', 'yayyayyay', 'barbillions', 'eeedge', 'preparationh', 'yeux', 'camo', 'duhnuhmuhnuh', 'veux', 'dodada', 'runz', 'kesmeni', 'sülni', 'migolife', 'jetset', \"yankin'\", \"'very'\", 'gulani', '都被困在', 'روی', 'www', 'extracurriculum', \"plotin'\", 'rodrigues', 'looseyand', 'nagyon', 'coasttocoast', 'zanny', 'posdnuos', 'smilemake', 'aphrodishy', 'marylin', 'bei', 'zonda', 'blesser', 'zucker', 'грозят', 'lanetolane', \"waynema'\", 'ohso', 'jen', 'amí', 'mammi', 'fadeaway', 'pěst', \"enchantin'\", 'bobbet', \"guessin'\", 'habillezmoi', 'shabada', 'nc', 'onna', 'aquafina', 'honour', 'realise', 'понятно', 'než', 'culkin', \"o'shea\", 'awsè', 'grę', 'deez', 'olman', \"jackwho's\", 'kellz', 'amadu', 'rrrapper', \"limit'\", 'vap', 'buraya', 'hahahahahahahahahahaha', 'janson', 'relievin', 'quedas', 'puntuale', 'vroomvroom', 'superé', 'outie', 'ramblas', 'mieux', 'sandi', 'ouuuuu', \"iiiii'm\", 'selfloathing', 'siby', 'şimdi', 'usain', \"contemplatin'\", \"washin'\", 'upa', 'somthin', 'donavan', 'bannona', \"wag'\", 'yamo', 'uhuhuh', 'twinsized', 'keshia', 'makaveli', 'yella', 'seafoam', \"trackie'\", 'folklorian', 'romanskeeza', 'eesta', 'boof', 'stromae', 'soundbwoy', 'bas', 'yonce', \"profilin'\", 'bakıyorum', 'offishall', 'woodgrain', \"barbie's\", 'vadergo', 'tsu', 'concives', 'میتونستی', 'balllicker', 'tamia', 'vkročím', \"besarno'\", 'carheartless', 'sikliyor', 'osetim', 'woawoah', 'فیوچر', 'scifi', 'refilles', 'looaded', 'snowden', \"escapin'\", 'damlıyor', 'ooooohh', 'jeday', \"shooters'll\", \"codeine'll\", 'flatscreen', 'نژادی', 'دەستپێکە', 'tweety', 'kennys', 'yüz', 'دوباره', 'dere', 'hollerin', 'lyor', 'goodshow', 'yasss', 'dhat', 'میزان', 'ole', \"'til\", \"collapsin'\", 'teisha', 'woahoh', \"matchin'\", 'milkbone', 'smackdab', \"vma's\", 'hari', 'edimminem', 'merasakannya', 'droughtpart', 'parola', 'vicodins', 'meani', 'şişme', 'jourdan', 'texted', 'tuttifrutti', 'realpeace', 'hh', 'giochiamo', 'overprepare', 'feiceáil', 'wizkid', 'sile', 'indictive', \"kiddin'\", 'blonded', 'nevaljali', 'goyer', 'musiques', 'aaaayo', 'birkin', 'twoways', 'bryans', 'kellsattempt', 'nuziali', 'tudom', 'liddift', 'еverybody', 'sexxx', 'bredes', 'irs', 'mcrried', \"focusin'\", 'lex', 'jellyana', \"young'n\", 'midler', \"milhouse's\", 'warnin', 'stół', 'whеn', \"niggas'll\", \"mathers'\", \"brothers'\", 'klonopins', 'هیشکی', 'csapatunkat', 'hersheypark', 'protože', 'sackreligious', 'neighbours', \"mo'fuckin\", \"'pew'\", 'yadadadadadada', \"fillin'\", 'inschool', 'oversaturated', 'etmicem', \"missing's\", 'fantasticoh', 'oonesided', 'unh', 'blackin', 'fugazi', 'cardi', \"cansao'\", 'queso', '4th', \"don't'chyea\", 'sonman', 'mrefu', 'siente', \"aficia'o\", 'lahmlahlah', 'دەفرم', 'calimeros', 'yerba', 'lololo', \"careerin'\", 'las', 'kon', \"mackin'\", \"dumbin'\", \"playin'\", '6am', 'wetwet', 'bam', 'koyarım', 'yk', 'untoppable', 'berb', 'guetta', 'everclear', 'bumpandgrind', 'کردنه', 'tshirts', 'manziel', 'nasıl', 'stepdad', \"forcin'\", 'macking', 'lub', 'andandandand', 'azon', 'maskati', 'mjh', 'eşleşemediğin', 'нажат', 'munmunmuny', 'midthirties', 'thisa', 'plottin', 'loooohan', \"hawkin'\", 'goyard', 'ogs', 'موزیک', 'boinked', 'musica', \"facethat's\", 'sonhos', 'softlyso', 'ticktickticktick', 'wawawawawaterfall', \"'what's\", 'alfie', 'tourettes', 'doldururken', 'ohhhh', 'pornos', 'ginuwine', 'rahhnnn', 'olarak', 'bassline', \"jimmy'yi\", 'بدرد', 'پاڵم', 'imaginé', 'neeson', 'zabierałam', 'synthroid', \"sparks'll\", 'خونده', \"weighin'\", 'χτύπους', 'juego', 'chumpions', 'chaching', 'любовь', 'lewinksy', 'odstín', 'sza', 'پێنجدا', 'año', 'artis', 'pushеd', \"drake'll\", 'indo', 'njomza', 'vincentst', 'こいつが', 'ڕوحەکان', 'нассу', 'mymy', 'foxx', 'pontius', 'tomlinson', 'nicknackpaddywack', 'methe', 'jahvon', 'dadadumdumdum', 'jewelery', \"things'll\", 'yapabileceğin', \"tossin'\", 'monicalewinsky', 'podporuje', 'youbut', 'termina', 'bandcamp', 'maejor', 'hahahahahahahahahahahaha', 'لعنتشکی', 'fois', 'séduits', 'unias', \"troublemakin'\", 'bajista', 'yemi', 'lеtter', \"that''\", 'anni', 'haa', \"tourin'\", \"prenda'\", 'erdi', 'causin', \"'case\", 'miiri', 'ganovenehre', 'amg', 'gabbana', 'destino', \"harassin'\", 'kurwa', 'aaaaayyyyooooo', 'wszystkie', 'всё', 'doufám', 'roncho', 'bein', 'witchu', 'wth', 'estce', 'elogio', 'bg', 'sont', 'salida', 'reminesin', 'dugarees', 'pastipod', 'hawaiii', 'loyalität', 'sevřenou', 'assholeee', 'tac', 'cumy', 'fasta', 'دار', 'قبل', 'margiela', 'bebebe', 'nem', 'canino', \"d'office\", 'int', 'písku', 'quando', 'maggy', \"enemigo'\", 'icet', 'huggers', 'pissin', 'gl', \"respondin'\", 'deracs', 'chucky', 'kolye', 'fractioned', 'mano', 'chingching', 'icloud', 'kapak', 'bbbaka', 'andahalf', 'بیرم', 'backbe', 'freaka', 'everythings', 'loca', 'kentae', \"devisin'\", 'şeyleri', 'cruzando', 'dalje', \"men's\", 'hurd', 'onetwothree', 'dingue', 'hawn', 'mightve', 'olayda', 'fosho', 'ɲi', 'dre', 'نیست', 'δακρυζω', 'بالاو', 'kylie', 'hamburgular', \"kissin'kissin'\", 'flipflops', \"pattycakin'\", 'mothaf', 'rosalía', 'fivi', 'savour', 'ahhhaha', \"bangin'\", 'lovehate', 'supernerdy', \"ole'\", 'rada', 'gerçeği', 'perché', 'dеfense', 'visalia', 'noohnoohohohoh', 'iwan', \"brainstormin'\", 'toothandnail', \"tellin'\", 'sonra', 'thats', 'hhtowntown', 'زیادی', 'diventato', 'tiraron', 'ged', 'deeby', 'towy', 'điha', 'recieved', 'carbone', \"i'on't\", 'dundun', \"pacin'\", 'pacewon', 'llllet', 'jaydees', 'kegel', 'çıkması', \"flamin'\", 'wifing', 'smaoineamh', 'cashonly', 'bhrionglóidí', 'beggin', 'pectations', 'etrangers', 'ferigno', 'jit', 'hables', 'dooby', 'lbs', 'dooski', 'katına', \"splurgin'\", \"pumin'\", 'necesito', 'offlimits', \"'this\", 'پێشووتر', 'cię', 'saidshe', 'ey', 'dracs', 'silverlake', 'επουλώσει', 'allstar', 'vieja', 'judgе', 'sıçrıyor', 'yaparken', 'fel', 'poletotem', 'دوما', 'vágom', \"moldin'\", 'opusti', 'ovoxo', 'woahohohoh', 'benihana', 'yeehaw', 'еver', 'puros', 'minime', 'sеque', 'unеaten', \"plankin'\", 'как', 'hatata', 'çıkış', 'probar', 'sixfour', \"hustlin'\", \"consolin'\", 'syml', 'supersiiize', 'boyamak', 'treba', 'hе', 'milano', 'kaybеtmek', \"schwarz'\", 'marito', 'jepsen', 'stuckup', 'ئەلبوومێکی', 'andrò', 'c5', 'tetris', 'skirtchasing', 'مەزنترین', \"oz's\", 'های', 'punked', 'نوازندگی', 'ayayayayay', 'bbbang', 'rana', 'harleys', 'porque', \"hilton's\", 'doğru', \"celebratin'\", 'jetts', 'eby', 'lagerfeld', \"styilin'\", 'hijas', 'trunked', 'taşşaklarına', 'pickens', 'cielo', 'پیچ', 'chapstick', 'highdive', 'sé', 'dropsstimulate', 'tranter', 'alanis', 'ohhhhh', 'quitte', 'peasy', \"whos'\", 'pon', 'vielma', 'durk', 'obe', 'oye', 'negligah', \"countin'\", 'cumwad', 'ganado', 'mudarla', 'suddy', 'comingofage', \"injectin'\", 'dadadadadadada', 'münchausen', 'ngami', \"crashin'\", 'aşkı', 'mądrzejszy', 'feasty', 'στιγμές', \"punchin'\", 'тебе', 'missoni', 'illenium', \"humpin'\", 'وتن', 'chauffers', 'musta', 'rrrrrchkitchkitguess', '50fuck', '하는', 'yüreyecek', 'aku', 'chiminey', 'uyanıyorsun', 'کسی', 'kış', 'oooooooooooh', 'cuttin', 'losed', \"'no\", 'fеlt', 'dadoodoodoo', 'symbiote', 'steinfeld', 'σκοτεινιαζει', 'letra', 'oseille', \"benzino's\", 'unleakedunreleased', \"hoppin'\", 'ó', 'seans', 'fubba', 'fanbases', 'mayback', 'sto', 'rempy', 'acheter', 'pourrait', 'banghands', 'nenes', \"plowin'\", 'peuvent', 'shockin', 'sucess', 'gelip', 'داوە', 'flocka', 'woahoah', 'bitchwar', \"camcordin'\", 'عمه', 'rajta', 'bbetter', \"flushin'\", 'dops', 'menjadi', 'nunca', 'ahohahohah', 'weght', 'frrkit', 'pov', \"sittin'\", 'müzik', 'rso', 'söylememen', 'crackbag', 'berman', 'زۆۆر', 'roading', 'goines', 'dremgirls', 'cedusing', 'recours', 'voli', 'usah', 'odda', \"vomitin'\", 'واژنی', 'platit', 'pirzolalarımı', 'yarby', 'ahhahhahh', 'uma', 'spen', 'miattad', 'fuckthemboys', 'kes', 'diiiiiiie', 'cet', 'babyalchemist', 'elecelectric', 'hahahaha', 'español', 'rashid', 'ئێمینێم', 'dussé', 'ahaaha', 'castaki', 'talibani', 'iş', 'alejandrxooooh', 'krueger', 'söyleyecek', 'voiceovers', 'kissin', 'یاریە', 'por', 'glistenin', 'yakaladı', 'دەنگم', \"scopin'\", 'paparrazi', 'göz', 'значит', 'hoohoh', 'nway', 'enfrentando', 'abban', 'decalp', \"noticin'\", 'electracute', 'morе', \"place'll\", \"tradin'\", 'controlla', 'hemen', 'verbsyou', 'yeahwoo', 'amores', 'awwww', 'kumbaya', '輪七指', 'cède', \"cuppin'\", 'cccome', 'agh', 'knockin', 'refren', 'oolong', 'tripledog', \"waitin'\", 'melihatnya', 'bys', 'jip', 'بوین', \"gazin'\", \"wylin'\", 'kole', 'sididdy', 'کلاب', 'isto', \"oj's\", 'allout', 'křičí', 'werent', 'tipo', 'bbring', 'nsont', \"rearrangin'\", 'gggoes', 'zipzip', 'outok', 'belaire', 'mnie', 'بی', 'sampha', 'anninihilate', 'childishlike', 'ateş', 'threepiece', \"handholdin'\", 'alimentarnos', 'nevernever', 'conversate', 'ninetythird', 'bts', 'louboutins', 'zannotti', 'spotify', 'vitákat', \"wired's\", 'ohwhoahohoh', 'pablito', 'strugglin', 'casi', 'ladadada', 'kaçır', 'unnhh', 'pretapes', 'bermy', 'doubleg', 'sitdown', 'syllalable', 'recordando', 'thwizy', 'chestribsbacksamuel', 'نکن', 'thethethethethethe', 'makka', 'ganarás', 'schifato', 'aldridge', 'canção', 'yeahheah', 'ouston', 'escribirle', 'hackup', 'lickity', 'κάποιες', 'forka', \"hipócrita'\", 'phresh', \"solet's\", 'ooo', 'anybodys', 'cooool', 'swann', 'ix', 'montremoi', 'rcmance', \"bbustin'\", 'heartshaped', 'agosto', 'cuatro', 'doobee', 'bonethugs', 'mfalme', 'ποιητες', 'faggy', 'rihrih', 'maledominated', 'dropdropped', 'ohohohoohooh', 'βαθύα', 'потеряла', 'adamın', \"nicki's\", 'juelz', 'شعرەکانم', 'batmobile', 'داخە', 'rethis', 'x5', 'songz', 'evеry', 'ز', 'klinkt', 'stammerin', \"shady'm\", 'jeepeta', 'rosai', 'lmfao', 'bylo', 'kaldık', 'мамок', 'gameking', 'ضد', 'stimulante', 'ravee', 'offthehook', 'jediná', 'nombre', \"ev'rything\", 'osbourne', 'makebelieve', 'souffle', 'ajá', \"asskissin'\", 'naber', \"dan'\", 'jetskis', \"'said\", 'aarrest', 'urie', \"fulfillin'\", 'spor', 'ors', 'canam', 'californication', 'colonoscopy', 'reinsulate', 'fastforward', 'benzfull', 'fue', 'steph', 'motherful', 'پەسەندی', 'spendspend', \"dumpin'\", \"still''\", 'insta', 'benzs', 'εαν', 'wjlb', 'elevatedcelebrated', \"rockstar's\", '90th', 'llegué', 'alles', 'deepfried', \"spazzin'\", 'eeeeeeee', 'meningen', 'mise', 'wacker', 'murciélago', 'kno', 'aztán', \"producers'\", 'laquifa', 'gogetter', 'inteligente', 'errchickerr', 'meeeeh', 'hoohoohoohoohoo', \"ho'll\", 'swanging', 'nononononono', 'jde', 'jhené', 'afterhours', 'miałem', 'gratеful', 'şovu', 'zaytoven', 'fixin', 'knknknow', 'bjorn', 'llamo', 'kkk', 'psychoparanoia', 'mumsy', 'kaydı', 'stronę', 'stüdyosundan', \"reapin'\", 'familiarlooking', 'çekerken', 'shacklеd', 'davranma', 'iver', 'atcha', 'этим', 'nevеr', 'bulduğumdan', 'halfcrazy', 'tres', 'radder', \"plat'\", 'lalo', 'allnew', 'uck', 'cornbreads', 'crossbody', 'jj', 'guac', 'risperdal', 'yapamayacağımı', 'εαύτο', \"rainman's\", \"hesitation'll\", 'rhymein', 'meyou', \"copkillin'\", 'skrrr', \"mindin'\", 'yor', 'oyeyoyyoy', 'swizzy', \"war'n\", 'whoagiuseppe', 'breakbreakdown', 'gdod', 'exclimate', 'találkozunk', 'curryyeah', \"got's\", 'ئاستە', 'bilmek', 'nik', 'yeezys', 'biggitybally', 'ovp', 'bagnasciuga', \"asperger's\", 'reconize', 'pussywhipped', 'stiemsma', 'mathеrs', 'mennyire', 'rotisseried', 'زنجیرەکەت', 'barbone', 'innie', 'keeyaga', \"turnin'\", \"reachin'\", \"'86\", 'время', 'yeaheheh', 'tryyy', 'yarma', 'legpeacock', 'adni', 'bririririring', 'weg', 'pissedofferson', 'eses', 'threeway', \"bomb'\", 'moyens', \"shorties'd\", 'εσύ', 'honnan', '城市被我毀壞殆盡的畫面', 'nows', 'btch', 'θυμόμαστε', 'wenchy', 'ooover', 'punkpussy', 'dehors', 'shotcallers', 'ağırdır', 'amilyennek', 'öncesi', 'megírva', 'romama', 'judaahah', 'چیە', 'dodgin', 'yarın', 'merülni', 'baterista', 'просто', 'suttin', 'εσυ', 'tryina', \"disfuckin'combobulation\", 'teairra', 'uhunk', 'jizz', \"dillydallyin'\", \"l'assemblage\", 'bastade', 'mmlp', 'tıkadı', \"erodin'\", 'motherfreaking', 'gardes', 'threeyear', 'mâché', 'supongo', 'dooroo', 'ölen', 'tititlerinin', 'haaaaaaaaa', 'dididididadadey', 'захочу', 'seventysomeyearsold', 'ligera', 'wagen', \"sbarro's\", 'yoo', 'saiyan', 'bcby', 'nanananananananananananana', 'emoji', 'hightop', \"5'6\", 'götüme', 'elmondom', 'lk', 'foreva', 'ganked', '已種在我身上', 'builtin', 'hiçbirşeysin', 'selftitled', 'uhn', 'problack', 'спел', 'halhal', 'olanın', 'lptha', \"vacant's\", 'dripdrip', 'twoninetyfive', 'nnniggas', 'przy', 'lgbtq', 'izzy', 'furiosa', 'ọkàn', 'debarge', \"stampin'\", \"nwa's\", 'össze', \"grandmama's\", 'majmuni', 'redding', 'nossos', 'خاصی', 'hunnidfiftyinch', 'terminaremos', 'tupack', 'arde', 'kisskiss', '80proof', \"stylin'\", 'خودش', 'ترسا', 'бош', 'lolol', 'shshshshake', 'miraval', 'membuatmu', 'breakbeats', 'ewoks', 'ahahah', 'azt', 'ناسازگاریمobnoxious', 'honoray', 'sureños', \"explainin'\", \"he'\", \"perk'd\", \"boxin'\", 'boilin', 'počkat', 'yeahusher', 'hohhhohh', 'suelta', 'eightysome', 'nanaboo', 'aynaya', 'mówią', 'těm', 'cartoonalien', \"upthat's\", 'pshh', 'nenish', 'mikky', \"'gonna\", 'haahah', 'topuh', 'himeros', 'nahh', 'nickiménage', 'unloyal', \"pullin'\", 'youngass', 'fedaisinden', 'mengubah', \"milli'\", 'onun', \"vag'\", 'actoryou', 'milujeme', 'hustla', 'wewewe', 'tysięcy', 'eeelliott', 'bboys', 'этой', 'outofdate', 'بە', 'foreverholdagrudge', 'midoc', 'crackin', 'superfly', 'yumurtulamaya', 'zorla', 'tıpkı', 'cœur', 'gyspy', 'نەکردوە', 'myou', 'shontelle', 'cansé', 'beychella', 'üsünden', 'bu', 'tusa', 'glo', 'saidhaha', 'sende', \"shootin'\", 'speedom', 'jocking', 'ڕیڤیڤاڵ', 'bartobar', 'ruhuhun', 'drivethru', 'dandance', 'thousanddollar', 'somedaydaydayday', 'fivio', 'taichi', 'terribles', 'shih', 'sɔgɔma', 'sarkyor', 'hershe', 'alealejandro', 'bama', \"lеt's\", \"managin'\", 'cte', 'آوری', 'jamais', 'qrsshady', \"rakin'\", 'perdones', 'uniaway', 'haah', \"scratchin'\", 'zonin', 'desechaste', 'dishwash', 'seavers', 'cokehead', 'shaheed', 'c4', 'gerbers', 'blblow', 'duhbuhbuh', \"clickclackin'\", 'نکنم', 'kızların', 'cubeatz', \"stompin'\", 'کنمهمونطورم', 'percocet', 'iso', 'cuanto', \"anthony's\", \"concernin'\", \"niyayibon'\", 'busser', 'placemat', 'fixins', 'этого', 'lorde', 'dileniyonuz', \"winnin'\", 'oohoh', 'moshpit', 'halfpast', 'mcvay', 'ikinci', 'pegity', 'banksy', 'tanıt', 'swingset', \"scoffin'\", \"stinkin'\", 'ehhişteydi', 'biebеr', 'orderin', 'seco', 'wellmannered', 'brenden', 'llllike', \"bendin'\", 'kevorkians', 'sesi', 'cornrowspopping', 'fleisch', 'mofo', \"stand'em\", 'bbbring', 'لێتە', 'vehetett', 'pendejo', 'youcouldneverbethis', 'anasını', 'tteardrops', 'shithole', \"airin'\", 'frim', 'lastall', 'wizzle', 'gunah', \"cottonpickin'\", \"else's\", 'lawabiding', 'conyou', 'thugga', 'blaq', 'rugrats', 'lieiie', 'τις', 'repromise', 'discuter', 'nie', 'knowknow', 'shabba', 'matchin', 'ds', 'blendin', 'chugh', 'tooey', \"leanin'\", 'seventhirteen', 'slushes', 'dadidadaddadadida', '80k', \"buttkissin'\", 'konichiwa', 'piña', 'retardbe', \"lam'\", 'seachtó', 'ima', 'writin', 'btw', \"cappin'\", 'hbic', \"ruinin'\", \"did'nt\", 'faygo', \"slingin'\", 'swangas', 'ihop', 'میگه', 'incredibles', \"'zurp\", 'vissza', 'lipa', \"amigo'\", 'commited', '我覺得你好美', 'hcgh', 'hooh', \"ripken's\", 'lawdy', 'dizleri', 'ohhhhhh', 'esto', 'beatz', \"alize'in\", 'breedlove', 'çünkü', 'badababa', 'acompañarme', 'kllet', 'acılıyım', \"bruisin'\", 'confiaba', 'meech', 'blahbadibooblah', 'eens', \"'99\", 'pourquoi', 'motrins', \"facin'\", 'duced', 'sahneye', 'lеt', 'ایهام', 'tudu', 'lalalalalala', \"smashing'\", 'kennyfagkaniffsta', 'storyyou', 'denemesi', 'saquen', 'havnt', \"pastin'\", 'dupri', \"still'll\", \"'being\", 'rozptýlit', 'eazy', 'jaevon', 'ladedahdah', 'spesh', 'oohwoo', \"'faction\", \"dispensin'\", \"lata'\", 'nic', 'ausbe', 'vavavavavanity', \"shit'\", 'coursecompliments', 'rheon', 'lauriana', 'juiiiiice', 'thisthisthisthisthis', 'openshut', 'یه', 'fieldbut', 'mclovin', 'dodododa', 'hakaret', 'pottorff', 'samo', \"forgin'\", 'hihighhihigh', 'une', 'rt', 'quo', 'faulks', 'joyish', 'داخلش', 'haaaa', 'lv', 'screaam', 'vvss', 'roethlissplurge', 'blakey', \"ma'fuckin'\", 'mohli', 'afedersiniz', 'mengenalku', 'cooloffcool', 'kd', 'bahbadiblooblah', 'trickortreat', 'diamanten', 'dikembe', 'shitwhy', 'barenaked', 'karnını', 'perminator', \"'bitches'hoes'\", 'sanging', 'پانچ', 'duyguları', 'ricki', \"slittin'\", 'bőrébe', \"94'8\", 'ironon', 'kimmel', 'něj', \"wil'ins\", 'baik', 'widout', \"tapin'\", \"'resha\", 'vowe', 'awooawooooo', 'hiçbiri', 'chingaling', 'diorah', \"moanin'\", 'hellraiser', 'blisko', 'istiyor', 'travie', 'kariyerimin', 'callar', 'caer', \"this'\", 'preggo', 'qs', 'selfcontrol', \"welch's\", 'ladidididadadadidi', 'muggsy', 'jó', 'bbbbbut', \"hadon't\", 'stacji', 'ayeayeaye', 'simons', 'chubbachubbachubbachubbachubbachubbachubby', 'woooohoohoohooh', 'trueblue', 'freakazoid', \"asphyxiatin'\", 'xy', 'fourleafclover', 'evеrything', 'wonderwall', 'chun', 'croke', 'boogying', 'breyers', 'boooooooooooohoo', 'timе', \"80's\", 'momonmontana', 'enur', '들킨걸', 'siklemiyorum', 'unholstered', 'kaldırıyor', 'companyquite', 'лучший', 'zabs', 'salut', \"i'maget\", 'paak', 'ساله', 'vibing', \"slimi'm\", 'firstround', \"'57\", 'walki', 'hamar', 'ryders', 'iohhaha', 'dblock', 'hatayı', 'reino', 'watersand', 'شتە', 'hilo', 'caping', 'manever', 'dundundundun', 'drugfueled', \"groovin'\", 'insomma', 'yapmak', 'fedexforum', \"benji's\", 'hablado', 'prázdným', 'scarn', 'derse', 'bdp', \"coastin'\", \"fearin'\", 'bajun', 'ποτε', \"proceedin'\", 'soustředí', \"'i\", '5g', 'اونطرفشونو', \"politicin'\", 'تۆ', 'میوزیکە', 'woooooooowoo', 'pleeza', 'prendo', 'carterfinley', 'oneoff', \"me's\", 'allwheeldrive', \"som's\", 'dilaudid', 'برام', 'ریشه', 'accountabilityext', 'marv', 'dahmer', 'celly', \"rebuildin'\", 'enfermé', 'hk', 'durmam', 'roste', 'aidsinfested', 'paperchaer', 'ortaya', 'πληγή', 'boida', 'giù', 'factz', 'jól', 'alarmpound', 'muthafck', 'deaky', 'tru', \"'head\", 'longass', 'snížit', 'feeheeheel', 'holocaustedsee', 'tangeray', 'oigo', 'dawgs', 'bmi', 'masterpièce', 'realy', 'downish', \"backstabbin'\", 'dripdripdripped', \"tanny's\", 'thatibe', 'albumie', 'caminar', 'crocs', 'tener', 'جمیما', \"me''\", 'keyz', \"cons'\", 'thiswhat', 'delevingne', 'φορές', \"bit'\", 'klas', 'głupot', 'carbi', \"blackin'\", \"bitchlet's\", 'lcver', 'gether', '44d', 'bomba', 'dadibbadick', 'sabía', 'ποναει', 'vocalschimamanda', 'rodinou', 'togetherthink', 'دەکرێ', 'cristian', 'ringringring', 'yall', 'косметика', 'прыгает', 'lllooking', 'marineland', \"shady'd\", 'popopoker', 'fantasic', 'bbg', 'نشاید', \"thickenin'\", 'ganking', 'dodoubleg', 'gdyby', 'قۆڕە', 'extendo', 'هوایی', 'جندهتو', 'jöttek', 'problеm', 'lumiere', 'carryons', 'podía', 'breana', 'cyaan', 'armandleg', \"tuckin'\", 'dese', 'kasesine', 'bir', 'niceklus', 'izquierda', 'σβησει', \"another's\", 'gunovich', \"'sup\", 'منظورش', 'chxla', 'permettra', 'až', 'dazu', 'balck', 'casuto', 'lep', 'ralphi', 'یکدیگرند', 'suckas', 'mondják', 'oranžova', 'zorunda', 'در', 'hacerte', 'bangbang', 'seeandsay', 'σελίδες', 'oluwa', 'σαν', 'bych', 'dyin', 'annonation', 'arguement', 'riiider', 'λαμπτήρα', \"twirlin'\", 'نکنی', 'passoff', 'micstand', 'yadayada', \"doublin'\", 'battlery', 'froggish', 'üzgünüm', 'ludzi', 'biddybyebye', 'oooohooohooo', \"mimickin'\", 'annesine', 'tragédie', 'ج', \"sinkin'\", 'طولانیه', 'sadwhat', 'juega', 'przypisywać', 'bbbreak', 'showpopping', 'feet848', \"bookin'\", 'petits', 'chika', 'tradtion', 'ayye', 'kendim', 'uhooh', 'seconddegree', 'nach', \"bub'\", 'qualcomm', '너', 'şeylerden', 'její', 'nanana', 'aaah', 'georgiporgi', 'e40', 'goooo', 'mmh', 'šálek', 'gdragon', 'držte', '9s', 'rxmance', 'pizzaria', 'کثافت', 'ganstress', 'anbolehdoas', 'çalışıyorum', 'tonka', 'icu', 'عضوی', 'girlirlirl', 'vardı', 'bodyyeaheh', 'hacky', 'snakeonly', 'vivica', 'avuç', 'awaawchaaw', 'cnn', 'bluntblunt', 'tristate', 'hesaidshesaid', 'duerme', 'isten', 'behati', 'kiki', 'manurehell', 'trickin', 'взлетаю', 'shola', \"daydreamin'\", 'rasismus', 'ringading', 'ayyuh', 'černé', 'hívtuk', 'kaybettiğim', 'گەڕامەوە', \"let'em\", 'steppin', \"harrowin'\", 'bbbbbitch', \"peekin'\", 'coś', 'yatmak', 'zolanski', 'świątynię', 'lameos', 'مایل_های', 'ramieniu', 'était', 'chrous', 'boğdum', 'lovy', 'twtwist', 'kávy', 'چقدر', 'دەفرۆشم', 'cristo', 'royales', 'brócoli', 'bookey', 'unmoored', 'bbbbeat', 'yeh', 'wooooooo', 'çocuk', 'perc', 'guerrera', 'ririch', \"gushin'\", 'mías', 'tona', 'doubleedge', 'نابینەوە', 'cheah', \"crankin'\", 'irreplaceableeee', \"restin'\", \"reloadin'\", 'valójában', 'demet', 'مبارزه', \"prayin'\", 'duydun', 'trophied', 'checkin', 'túl', 'užívá', \"my'cause\", 'sıkışana', 'пьяной', \"grabbin'\", \"big's\", 'nads', 'likе', 'cenizas', 'plugg', 'lítat', 'whiteboy', 'bushwick', 'بزنن', 'sooshka', 'trochę', 'nstasia', \"sayin'\", 'lloraré', 'место', 'ingin', 'jiwaku', 'qaeda', 'söyledi', 'wishheart', 'fulltime', '6th', 'sadity', 'tourné', 'mansoni', 'halleluhallehallelujah', 'heyhey', 'offence', 'trannies', 'nacht', 'presas', 'qui', 'rosegold', 'thgin', \"extendin'\", 'mundo', 'abuhbuhbuhbuhbuh', \"bummin'\", 'v05', 'mebeyoncé', \"grinnin'\", 'beckham', \"payin'\", 'dubplate', 'summ', 'być', 'چشمای', 'viviendo', 'niiight', 'jjerk', 'reon', \"thinkin'\", \"loopin'\", 'rringing', 'chicka', 'twoyearold', 'revolución', 'aimes', \"na'\", 'geniusness', \"redoin'\", 'کی', 'llove', 'stupidi', 'goodwillwill', 'chinups', 'amistad', 'bruddas', 'agaain', \"bustin'\", 'danışmanına', 'loverloverman', 'caindo', 'selener', 'لێدانێک', \"nuttin'\", \"huggin'\", 'payless', 'fourfour', 'smallass', 'teyana', 'wheeley', 'lui', 'capochino', '둘이', 'rappin', \"ponderin'll\", 'sí', 'listеn', 'mulai', 'twoja', 'вотт', 'lahey', 'ricin', \"ejaculatin'\", 'ramboing', 'mmwha', \"kissin'\", 'teenie', 'každého', 'thurston', 'anywho', 'dtwizzy', 'willin', 'uhoh', 'fondeled', 'mancow', 'umpfh', 'боюсь', \"weepin'\", 'shadys', 'kao', 'wumble', 'atf', \"crossin'\", 'sizilethile', \"stpatty's\", 'festékpatronokkal', 'muthafuckers', \"rock'n'roll\", 'bunları', \"cacklin'\", 'ebt', 'tolerence', \"includin'\", 'c0', \"sectioneight'd\", \"boardin'\", 'تیکم', 'ew', 'nandos', 'mmmmmmmmmms', 'نامت', 'brbrbreak', \"drivin'\", 'mowti', 'получу', 'αγάπη', 'alalbert', \"tryna'\", 'youa', 'çalışma', 'parkolójában', 'aways', 'geeking', 'doo', 'denn', 'maclaren', \"dna'll\", 'm6', 'elantra', 'gots', \"iiii'ma\", 'topm', 'reks', \"crammin'\", 'd0tion', 'آهنگ', 'creer', 'pubalic', 'thumper', 'mindannyiótokat', 'چوونکە', \"s'accorde\", 'pelear', 'selingenile', 'ερωτευμενοι', 'hihat', 'çocuklar', 'pilati', 'ohoh', \"dishin'\", 'galifianakis', 'pasado', 'música', 'biomorphic', 'muthafucka', 'montón', \"peelin'\", 'dresick', 'napadá', 'στα', 'vrinn', 'scheiße', 'corless', 'chickenhawk', \"'yes'\", 'sprecare', 'impressin', 'googoogaga', 'یا', 'zijn', 'hahahahaha', 'westheimer', 'افتاده', 'zoë', \"sidetrackin'\", 'alfabetycznie', 'byłam', 'ilyen', 'riskers', 'fourinch', \"flickerin'\", 'afu', 'packin', 'estado', 'neked', 'liiight', 'somethin', 'buttonups', 'szembe', 'theshaderoom', \"whinin'\", 'ninetysome', 'közé', \"weathergettin'\", 'boma', 'cortne', 'nostra', 'کردنهمه', 'ticktickticktickticktick', 'grammys', 'tartaruga', 'guala', 'leway', 'layed', \"william's\", 'maldecías', 'armádu', '4x', 'portant', \"aspergers'\", 'é', \"comprehendin'\", \"times'\", 'karena', \"'sleep\", 'kamu', 'bgd', 'بەردەوامبین', 'boomin', 'alcjandro', 'assholeeeeeeeeeeeeeeeeeeeeeeeeeeeee', 'dupdupdupdup', 'selfrestoration', 'dědka', \"balancin'\", 'sabe', 'duckin', 'wetta', \"bus'\", 'tomo', 'αλλα', \"'cept\", 'eeeeyes', \"t'as\", 'yisrael', 'patra', 'nekem', 'breastses', 'blige', 'milanoya', 'ئەوە', 'adet', 'czasu', 'olyan', 'ültünk', 'odamda', 'toegther', 'tyme', 'extravagantní', 'پارە', 'muhfucker', 'przeczucie', \"boomin'\", 'swswswswinging', 'spunned', \"ki'\", 'labeouf', 'fring', 'pnd', \"remainin'\", 'channelin', 'aquaman', 'röhögtünk', 'gwyneth', 'bitchslapped', \"timei'm\", 'που', 'stimulators', \"shouldn't've\", 'quartercentury', 'thirtyfive', 'бензо', 'memail', 'llevo', 'faggotuh', 'برابری', 'sloppiana', 'fightweight', 'rr', \"fahr'n\", 'tn', 'brrrrr', 'landover', \"chartin'\", \"massagin'\", 'exgirls', 'μωρο', 'dinlemeye', 'cinayet', 'σταθερές', 'uyandım', 'fiiiight', 'استعداد', 'jayz', 'زده', \"me'\", 'meechy', 'autopsyeminem', 'roddy', 'invisalign', 'bzzbzzbzzbzzbzzbzzwop', 'soundz', 'marbury', 'evilevil', 'boğucam', 'pobre', 'karacter', \"committin'\", 'شد', 'woohoohoo', 'érzünk', 'wwwwhy', 'rasistickýho', 'amarte', 'zcp', 'cuando', \"pillowtalkin'\", 'theo', 'céanna', 'acuerdo', 'soundscan', 'oturma', 'weknowthedjcom', 'siktir', 'despedimos', 'kash', 'yucka', 'queenstreet', 'twentytwo', \"bathin'\", 'upgive', 'hermione', 'riiight', 'jh', \"dirtymotherfuckin'dozen\", 'yine', \"gigglin'\", 'potom', 'nigdy', 'hahahahaaa', \"truth'll\", 'zu', 'graining', 'hickie', 'neef', 'ohoohooh', 'glocks', 'opp', 'wölfe', 'yadadadadadadada', 'gotoh', 'lupeoohm', \"'roids\", 'herhangi', 'ohuhuhuhuh', 'بعد', 'gabriella', 'twotime', 'posthook', 'çocuğunu', 'haoohooh', 'veya', 'beatbeatbeat', 'isexasperated', 'uniand', 'دگر', 'youwhat', 'patpatpat', 'فلاش', 'refind', 'ragadott', 'aaaa', \"gun'\", 'forreal', 'être', 'bitchass', 'goodnplenty', 'paro', 'πράγμα', 'prostituía', 'whippin', 'atm', 'andreana', 'αύτο', \"girli'm\", 'میده', 'önceydi', 'soltarte', 'ves', 'personne', \"vemo'\", 'تو', 'syksense', 'riddick', 'upgradeyou', 'politе', \"strappin'\", \"coughi'm\", 'perro', 'jd', 'tellerini', \"scramblin'\", 'amwin', 'hooome', 'bottomend', 'gayass', 'palpitar', 'bouger', 'pickerin', 'wasteman', 'bish', 'upup', \"pleadin'\", 'tonk', 'до', \"skydivin'\", 'gösteriden', 'suç', \"spwashin'\", 'ittt', 'camoly', 'olvide', 'holla', 'uhhoh', 'necesita', \"babysittin'\", 'başka', 'aerosmith', 'farby', \"degradin'\", \"goofin'\", \"jusqu'à\", \"'97\", 'ambiens', 'enviaré', 'baldi', 'resteras', 'nananails', 'rakim', 'دارمەیتی', 'pregúntale', \"bearin'\", 'σφιχτά', 'ceesays', 'followin', 'rembe', 'danyèl', 'εκεί', 'hithithit', 'تركتني', \"repeatin'\", 'دیگران', 'blaow', 'youupup', \"hibernatin'\", 'chalant', 'perfеct', '算計著手中的王牌', \"smokin'\", 'vlive', 'blowback', \"clubbin'\", 'minogue', 'hbcu', 'waybeforethedeal', \"maintainin'\", 'یازده', 'cellában', 'کنیم', 'وە', 'floyds', 'pegao', 'arrête', 'myyy', 'whoaoa', 'situ', 'halla', \"jottin'\", 'masta', 'poupons', 'ahahh', 'vururum', 'quikclot', \"buddies'\", 'снова', \"providin'\", 'sọ', 'мама', 'kažeš', 'früher', \"cha'ya\", 'bridetobe', 'freifick', 'hooo', 'لگد', 'بەوەی', 'kerwin', \"ali's\", \"d'espace\", 'gloriest', 'currensy', 'ezt', 'runnerup', 'rockrock', 'بێڕێزیکردن', 'ssober', 'psikiyatristlere', 'kalot', 'رسوند', 'bumstickitty', 'peta', 'aynı', 'voo', 'façade', 'wintour', 'gunnaz', 'reing', 'wasi', 'ach', 'jocked', 'sneakdiss', 'mourir', 'greystone', 'قبلا', 'dernière', 'firstlast', 'getirilmeyen', 'eightyyearold', \"sniffin'\", 'thinkthink', 'jarrell', 'fеmale', 'kneehighs', 'ő', 'rolfe', 'üzereyim', 'taketakeoff', 'demek', 'nonono', 'seeee', 'pricelessness', 'driz', 'zatracenej', 'sketel', 'déanta', '我未能拋得開痛著醉倒', 'bons', 'smartass', \"'causе\", 'bonnaroo', 'hccker', 'rêve', 'esco', 'znepokojujících', 'görünüyor', 'mothafucka', 'şuna', 'dj', 'mejust', 'امانه', 'rha', \"carvin'\", 'drunkdrunk', \"'you\", 'feens', 'aprendendo', 'kunta', 'feliz', 'beidh', 'olan', 'ooooo', 'tcuch', 'millz', 'hghumdaylilaaaaaaaaaaaaaaaahaah', 'swirlin', 'slumdog', 'gyah', 'créeme', 'götünden', 'bonda', \"placin'\", \"applebee's\", 'cc', 'bandwagoners', 'doorcome', \"hookin'\", 'pezzo', 'jackolanterns', 'nudecolored', 'otros', 'eeeats', 'cosmo', \"wreckin'\", 'exll', \"somebody'll\", \"foldin'\", 'sám', 'pierdolił', \"overreactin'\", \"e'\", 'uhaul', 'borrowin', 'muthafcking', 'jaffe', 'chimamanda', '5to9', 'lololove', 'comp', 'کردەوە', 'paparis', 'docdoc', 'kesinlikle', 'thingthing', 'yeen', 'montano', \"'leave\", 'مسخره', 'uhdj', 'gdybym', 'bublé', 'socksock', 'mıydın', 'بوایە', 'izm', 'mymymyself', 'schováš', 'falam', 'janky', 'deebo', 'fanouška', '大概這點心意', 'gwanin', 'herringbones', 'drowing', 'naunie', 'نمیتونستم', 'mmm', 'hailee', 'caddycornered', 'ameliyata', 'ancora', 'mefuck', 'youuu', \"hackin'\", '50k', 'پێوویستە', 'benben', 'def', 'juste', \"tickin'\", 'nos', 'doooooog', 'mennie', 'talmbout', 'damb', 'starrah', \"slayin'\", 'rács', 'pppeter', '后冠', 'mengatakan', 'hmhmm', 'mondom', 'dejas', 'بیرون', 'yitadel', \"posse'd\", 'jihadist', \"wakin'\", 'συναντιώνται', 'diyor', 'upandcomer', 'çekiyor', 'ترم', \"'au\", \"slidin'\", 'heartstopping', 'thisss', \"amountin'\", 'هووک', 'σκιμένο', 'šta', 'melly', 'avenuebreak', \"oj'den\", 'og', '統治著這個荒蕪的城鎮', 'cureoh', 'prcstitcte', 'chulo', 'kez', 'youme', 'jlb', 'maybach', 'nyafogok', 'durmuş', \"'neath\", 'ponětí', 'mientras', 'jakartaaa', 'باشی', 'تاکە', 'exman', 'diggitydog', 'mente', \"'dentsdents\", 'terrio', 'ari', 'azzure', \"m'exciter\", 'jsuis', 'ڕاکەن', 'neosporin', \"mauri's\", 'bburrrrat', 'iheartradio', 'دەوڵەمەند', 'roadmap', 'diferente', 'comeup', 'espys', 'μερος', 'dnce', 'história', 'برای', 'babababababanner', 'alsina', 'yebba', 'urtano', \"''get\", 'woooooooooooooh', 'کردی', 'kickin', 'walkietalkies', \"palmin'\", 'shshake', 'monson', \"wantin'\", 'forchezy', 'dickety', 'crеdit', 'whowho', 'liiii', 'estáis', 'owa', 'demektir', 'staplestitch', 'ibuprofens', 'woohoo', 'bloodclot', 'freaknik', 'داد', 'nininininininininight', 'killa', 'bergdorf', \"santa's\", 'redundance', 'voluntad', 'tivation', '공간에서', 'dobtuk', 'leveszed', 'getgo', 'izzask', 'startin', 'dropdrop', \"bargainin'\", \"strippin'\", 'conséquence', 'whoaa', \"'stop'\", \"game'\", 'tippytoe', 'iggy', 'cose', 'wifi', 'istiyorsun', 'bathedin', 'jcrois', 'البته', 'tech', 'odkładam', 'zagraj', 'mescado', 'basse', 'chinny', 'تبدیل', 'muhfas', 'ganglias', 'hasthis', 'egymás', \"others'\", 'pecar', 'shotty', 'baldingers', \"napkin'll\", 'sanırım', 'terius', 'girlll', 'poouhhbitch', 'heures', 'sinslooks', \"make'em\", 'διπλα', \"lamb'\", 'πραγματι', 'باری', \"lo'\", 'vagy', 'kyeah', 'partie', 'patrzę', 'gira', 'sheesh', 'shooby', 'browz', 'iphones', 'hoog', 'rideordies', 'bedstuy', 'noshows', 'terrifyingand', 'mensonges', 'weh', \"espn's\", 'meah', 'hypewriter', \"paddlin'\", 'düştüğü', \"aujourd'hui\", 'playwithmypussy', 'voltron', 'pořádným', \"revvin'\", 'youuuuuu', 'estações', 'roborebe', 'handmedowns', 'competiton', \"'6\", 'tohohle', 'hahahahahahahaha', 'علاقش', 'zuzu', 'winestained', \"songs'll\", 'دەربارەی', 'gattis', 'likeyou', 'promisеs', 'jellee', 'mache', 'gcses', 'scooby', 'çatlak', \"'telly\", 'wyjęła', 'себе', 'cehennemden', 'ramadánu', \"overseein'\", 'bunnybunny', 'ئێلئێل', 'ezért', 'bizkit', 'oohwhoa', 'sizzy', 'sammeln', 'σαγαπαω', 'aahs', 'shitface', 'hahahahahaaaaa', 'liquer', '分かってても', 'itrabbit', 'coasta', \"'number\", 'stil', 'konshens', 'tommorow', 'diggin', 'wewewewe', 'oppers', 'schweigen', 'lali', 'ürpertici', 'hbo', 'eieieieiei', 'ohohohohohohohohohohohoh', '無法遺失的擁抱', 'mhmmm', 'addy', 'areba', 'elses', 'truely', \"empezamo'\", \"how'd\", 'trampas', \"sewin'\", 'ticky', 'exlovers', 'qrremember', \"carti'ac\", 'juans', 'burnin', \"seeing'\", \"ro'\", 'banna', \"d'ussã\", 'psychoyeah', 'πληγώσει', \"marchin'\", \"conjurin'\", 'nonalbum', \"c'est\", 'mercs', 'همه', 'opovrhování', 'skrip', 'dungaroos', 'bassmint', \"bashin'\", 'jefé', 'takedown', 'çok', 'whoooohooh', \"lieb'\", 'footz', 'hxlland', 'lookie', 'bibia', \"cringin'\", 'gilla', 'whitetrash', 'otkopčaj', \"sprayin'\", 'tata', 'carradine', 'railiza', 'klopt', 'pretaped', 'zales', 'amarás', 'sеcret', 'papapaparazzi', 'ciebie', \"bowin'\", 'tylе', 'howhow', 'felli', 'looove', 'batata', \"o'\", 'pippitykakapoopoo', 'stabinthebacks', 'certifiiied', 'jux', 'bigbabigbig', 'bağırdım', 'aanwezigheid', 'wraper', 'kap', 'plcyboy', 'uykusuna', 'profundo', \"ss's\", 'wordi', 'loder', 'aphrodisy', \"sneakin'\", 'badipas', \"cuddlin'\", 'dadadumdum', 'acil', 'دەنێن', 'eeeeooowwww', 'lifelove', 'urrp', 'bboomshady', 'hejterzy', 'oynamaya', \"jus'\", 'bеllyache', 'jlo', 'ishing', 'modlit', 'jackboy', 'overdosage', 'choos', \"slicin'\", \"counselin'\", 'dahi', 'lightyears', \"t'intéresses\", 'mammalswell', 'لەوانەی', 'paxils', 'wordword', \"copyin'\", 'donehere', 'mikrofon', 'poczekaj', 'fffocus', 'sirve', 'hhhhell', 'veo', 'chkword', 'kokain', 'wawawawa', 'tyres', 'everybodys', '서로의', 'majd', \"thankin'\", 'brixton', 'propre', 'ile', \"myself''\", 'schofield', \"'baby\", 'lámh', 'clit', 'metrolyrics', 'kahrolası', 'bllala', 'dustyass', 'bahsederken', 'commerzbank', 'romantical', 'yelle', 'houden', 'nino', 'следы', 'headress', 'ψύχη', 'slatt', 'rihmeek', 'gally', 'sixnine', \"birkin'd\", 'ku', 'рискни', 'fingerbang', 'ohohwaoh', \"'dem\", 'faggotass', 'yeaaaaaaaaaaaaaaah', 'jedynie', 'bbbut', 'podríamos', 'skepta', \"what'll\", 'lambo', 'tennekey', 'stopresponse', 'sikeyim', 'acerca', 'huggin', 'theythey', 'lolololololololololove', \"retards'll\", 'brbreaker', 'πληγώνεται', 'pora', 'srácaidnak', \"crushin'\", \"you'\", 'growop', 'meoh', 'ahlololololo', 'basementhow', 'gottafind', 'hagas', 'grandmama', \"mc's\", 'rerate', 'yok', 'حیزەت', 'sitzt', \"blurrin'\", 'paparazzis', 'tartşmamı', 'zamkniętymi', 'anseo', 'havenot', 'dukwey', 'suwoop', 'fidinger', 'آتاتیاناریشاردو', 'entendre', 'babababacontrollably', 'seeeat', 'mucho', 'mufasa', 'pinesol', \"ma'\", 'puedes', 'neyse', 'weezy', 'meezy', 'bruck', \"stackin'\", 'clickbait', \"plannin'\", 'voudrais', 'فلان', 'wanya', 'da', 'auditionin', 'silverstein', 'gaz', \"seekin'\", 'yastıkla', 'selfreflections', 'fufuck', '美麗的咒語', 'جوانەکان', \"hon'\", 'polepopping', 'looky', 'tes', 'gdy', 'blazak', 'dresta', 'ohhohohoh', 'highfive', 'он', 'dups', 'nwa', 'wydaję', 'ρυθμο', \"exhaustin'\", 'klid', 'blet', 'iceicles', 'röhögsz', 'princе', 'eeheh', 'یکی', 'gabana', 'bisbal', 'postoji', 'utánad', 'driveby', \"j'ai\", 'fivefifty', 'jewelerjeweler', 'europe6808', 'menerima', 'mcewan', 'makinesinde', 'approx', 'henn', \"'your\", 'wycd', 'robi', 'kdots', 'sígueme', \"officers'\", 'workin', 'popcaan', 'fendi', 'xenadrine', 'yapar', 'generación', 'ciężar', 'dickesten', 'ゴージャスな美貌で', 'ебл', 'handmedown', 'miente', \"fadin'\", 'asi', 'sikim', 'deepthroat', \"dadlet's\", 'dylann', 'cvs', \"name'll\", 'woioiwoioiwoioiwoioiwoioi', 'ninetofive', 'chickback', '흘러가고', 'brea', 'aiaiaiaight', 'aunque', 'haces', 'boneit', 'yeaheaheaheah', 'isen', 'نیو', \"famil'y\", 'sempre', 'kikikiss', 'babba', 'yaaaaaaah', 'notalent', \"risin'\", 'ئەم', 'madeintyo', 'uncasville', 'iv', 'momomomonster', 'straped', 'clityou', 'lcve', 'سوزشفوت', 'moola', 'doodoodoodoo', 'olacağım', \"twistin'\", 'berenstein', 'halfempty', \"funkin'\", 'adınız', 'fortnite', 'nokio', 'concierto', 'واقعا', 'wara', 'fki', 'hmmhmm', 'holliday', 'autotuned', 'telegramslimshadyfanpage', 'parçaladım', 'silahlar', 'تاکاشی', \"'erything\", 'pts', 'nenever', 'hennessey', \"ravin'\", 'ansari', 'agam', 'sube', \"clickin'\", 'şiddeti', 'tanıyorum', 'doin', 'shakur', 'هەستەکەم', 'tebow', 'negril', 'reason4', 'yoluna', \"rapino's\", 'walder', 'everever', 'μπόρει', 'satın', 'bassiness', 'blowjob', 'dès', \"sue's\", \"chubb's\", 'von', 'قبضارو', 'dua', 'lerden', 'elmondjam', 'yorulmadan', \"bein'\", \"tryyyinnn'\", 'puente', 'nickster', 'bitchroseanne', 'acepta', 'xfiles', 'artravee', \"forgettin'\", 'meins', 'biweek', 'gunna', 'ppop', 'musics', \"gloverin'\", \"starin'\", 'allá', 'tlc', 'aime', 'harderbreathinneedyfake', 'milltown', \"smartin'\", 'dadadadadada', 'verdrietig', 'اونا', 'nananananananananananana', 'etz', 'navaliti', 'lowend', 'δω', 'yeahhh', 'lépj', \"mars'\", 'duction', 'kas', 'banyoda', 'okaaaaaay', 'هست', 'usein', 'februarys', 'gifford', 'girli', 'whatchu', 'lizardskin', 'blázinci', 'aee', 'wooh', 'suh', 'leben', 'jeepfull', 'bumpin', \"d'usse\", 'gettin', 'mamy', 'guapguap', \"stuff'\", \"winehouse's\", 'bhíodh', 'prеtend', 'meyeah', 'ohohoh', 'derogatives', 'targaryens', 'vocoder', 'nooh', 'trainwrecks', 'dropswhether', 'glengrove', \"promotin'\", 'uuh', 'overblaow', 'horkej', 'életet', 'ponys', 'davaughn', 'dropsfuck', 'lauer', 'reytingi', \"muh'fuckers\", 'blackandwhite', 'corazones', \"denyin'\", 'dressup', 'tuffest', 'blocka', 'noninjectable', \"shawty's\", 'trytrytry', 'так', 'aaha', 'goshdamn', 'footies', 'otrice', 'cállate', 'rechid', 'بوده', 'مث', 'köthettél', 'ninonono', 'lеad', 'whachu', 'xclan', 'noohoh', \"shavin'\", 'tempestad', 'nienawidzi', 'وێستگەی', 'dziwnego', 'narerration', 'swalla', \"wavin'\", \"eyes'll\", 'snad', 'hellbound', 'rockinsane', 'yoohooooh', 'ohyeahyeahyeah', '005mockingbird', 'wilderbeast', 'phresher', 'youngun', \"assumin'\", 'wellbehaved', \"'54\", \"stone'de\", \"8am's\", \"fiendin'\", 'più', 'screenshotted', 'perri', 'technologic', 'öyle', 'canseco', 'muthafucker', 'preciso', \"evolvin'\", 'eglinton', 'whatifs', 'nuit', 'youyouyou', \"y'alls\", 'pegg', 'اسنوپ', \"enterin'\", 'gün', 'demonen', 'abcs', 'wantеd', 'cartey', \"hov'\", 'bombit', 'tmi', 'electronica', 'sssshockshockwaves', 'ville', 'kweb', 'situace', \"tre'\", 'gacy', 'katika', \"ddon't\", 'esküvőmön', 'arbeit', 'nom', 'fashionista', 'unthaw', \"'dick''s\", 'γυρίσα', 'kesik', \"guzzlin'\", 'snowcone', 'hhow', 'اشاره', 'vowhy', \"ignorin'\", \"boy'll\", 'aimin', 'achava', 'bronny', 'chigga', 'hmmhmmhmmmhmm', 'deshaun', 'courtside', \"ringin'\", \"explain'\", 'aber', 'orospuyu', 'northside', 'подруг', 'beddybye', \"drownin'\", 'anda', 'baliff', 'tududu', 'automare', 'pitchin', 'metta', \"pokin'\", \"splashin'\", 'bem', '40somethings', 'ventsit', 'sürtüğün', 'garantis', \"crackin'\", 'ohi', 'خواننده', 'andreja', 'bs', 'atmaya', 'dic', 'küvette', 'weewee', 'firmati', 'fogod', 'спит', 'trae', 'everevereverever', 'esta', 'nothin', 'espectáculo', 'eachother', 'který', 'retweet', 'ddead', 'bria', 'quante', 'kako', 'griddlebone', 'eith', 'klasse', 'fargodome', 'inbetweens', '富士山芸者も脱帽', 'chicas', 'havent', 'saddledome', 'bro', 'sucka', 'knifepoint', 'dukies', 'dadarada', 'kfed', 'peleamos', 'ruggish', 'bello', 'maaco', 'اینکهاشتباه', 'кинул', 'rell', 'میدونم', 'dreamin', 'menitku', 'kaybettim', 'tinie', 'sclass', 'rapstress', \"snortin'\", 'substitue', 'söylediğimi', 'frontman', 'került', \"molestin'\", 'keine', 'shesus', \"sluggin'\", 'lonq', 'mencair', 'covеr', 'amaqhawe', 'seau', 'purplepink', 'dudey', \"polamalu's\", 'dollaz', 'headmic', 'aventadors', 'coucou', 'hohhh', 'rolly', 'της', 'waitehehehehay', 'offensed', 'preemo', 'bellyflop', \"sinnin'\", 'oohooh', 'chicos', 'recuerdo', \"'tween\", 'estas', 'tthe', 'cussin', 'αίωνiαις', 'broadshouldered', 'jabberjaw', 'piç', \"'set\", \"i'mi'm\", 'cyphering', 'يا', 'ruxpin', 'áll', 'riffy', 'kapsüllerle', 'wooo', 'ricu', 'naw', 'ابرهاس', 'rund', \"rippin'\", 'prostu', \"i'ma\", 'locs', 'مەبەستم', 'buscar', 'ohhhx', \"choos'\", 'içine', 'nasedne', 'fuh', 'digne', 'hitboy', 'precoro', 'خۆشیاندەوێم', 'serca', 'folloohow', 'speaka', \"manhandlin'\", 'stayin', \"cain't\", 'dokie', 'πιο', 'firme', 'nadie', 'scower', 'kanarken', 'letartoztattak', 'dadadooda', 'privado', \"lickin'\", 'میکنم', 'janyelle', 'roppo', 'dropsjealousy', 'skimask', \"talking'\", 'boppers', 'masterbate', 'asslicks', 'endzone', 'woohoohahahahaha', 'ποτέ', 'teesdale', 'mendapat', 'دشان', 'vwwait', 'webcam', 'cady', 'donde', 'kere', 'tyga', 'pippy', 'گروهادامه', 'boosie', 'katt', \"'n'\", 'brabbit', 'mighta', 'bentely', 'sait', 'ouuu', 'rec', \"abidin'\", \"'lotta\", 'bfat', \"smellin'\", 'baplayıp', \"luvin'\", 'پشت', 'müdüründen', 'basinger', 'آهنگی', 'yanında', \"50's\", 'forseen', 'duhduhduh', 'because06', 'nightcredits', 'strapon', 'luomo', 'toastin', 'manohman', 'fubbaucubbakubba', 'ciągną', 'catastrophy', 'influencer', 'fiftyfifty', 'aksyndicat', 'chtěl', 'heyeh', 'ciroc', 'beatchild', 'tanface', 'bombdiggedy', 'kasları', 'obvi', \"recuer'os\", \"linkin'\", 'kesha', 'paarts', 'ohhhoooooooooooooooooooooowww', 'öldürücem', 'beatbreak', 'nakarat', 'nekai', 'dopeman', 'adta', 'troooooooouble', 'próbáltam', 'αναμνηση', 'baybababy', \"raggin'\", \"nodon't\", 'deeping', 'récolte', 'کردییه', 'thottie', \"spoofin'\", 'terbiasa', \"jerkin'\", 'powiedz', \"dealin'\", 'flacko', 'beatmaker', 'prérefrain', 'ymca', 'armdancing', 'joes', 'bağırıyor', 'stratch', 'forse', 'qujaime', 'حضورت', \"5'9s\", 'debout', 'ставлю', \"murkin'\", 'wonderin', 'kommt', 'ovo40', 'ohho', \"durrn'\", 'dla', 'seguro', 'bleibt', 'μου', 'nonobody', 'maino', 'sheeeit', 'dwade', 'stanky', 'dejarte', 'yeller', \"slappin'\", 'متاسفمری', 'pariis', 'bırakmaya', 'oneoneone', 'muito', 'mancuso', 'itand', 'دڵم', 'یەک', 'dechino', 'hakeem', 'marky', 'sl', \"outrhymin'\", 'esudd', 'uber', 'ostatnio', 'sich', 'سیراپمن', 'uzaktayım', 'zaddy', 'afeni', 'cuenta', 'hehheh', 'aalegra', 'spraycan', 'stapleton', 'drei', 'trapjumper', 'entendido', 'mariska', 'jungkook', 'dudеs', 'gartens', 'jigga', 'exwife', \"gr's\", 'babxy', 'gabbanibani', 'bozack', 'moshpits', 'norah', \"grammy's\", 'mamagic', \"squeezin'\", 'toptop', 'spitta', 'balhéra', 'dingalang', 'yaaaaah', 'burna', \"wally's\", 'intacts', 'recordlabel', 'almaz', 'életem', 'selfpossessed', 'pohromu', 'کمتر', 'بەم', 'escobar', 'jah', 'afterparty', 'αυτο', 'ching', 'caffè', 'zawsze', 'oldass', 'ahahaha', 'fingersdamn', 'grrragagagaga', 'preferencеs', \"''hey\", 'contar', 'beenie', 'neeky', 'pital', 'surviing', 'rarace', \"creatin'\", 'topselling', 'dejar', 'présent', 'budu', 'pense', 'هیچی', \"t'aimes\", 'stormzy', 'fortyday', 'nitti', \"twosteppin'\", \"toda'\", 'dayold', 'loosies', 'bobblehead', 'reformationext', \"processin'\", 'kravitz', 'gcrlfriend', 'beesyay', 'wittle', 'axl', \"manix's\", 'butta', \"mic's\", 'wuk', 'malware', 'kterýho', 'multi', 'spaz', 'todas', 'ddddo', 'muhfuckers', 'updatebazzi', 'haglercoproduced', 'itty', 'beautye', \"'s\", 'aaaalalalalalchemist', 'tonkas', 'gnote', 'kikapcsoltuk', 'hstry', 'αγαπη', 'bada', 'fofo', \"ggg's\", 'yanıma', 'revoir', 'gunnas', 'rastafari', 'thornbush', 'satışları', 'olmak', 'ganimetin', 'steelo', 'shalalala', 'tankyeah', 'garde', 'duele', 'breitling', 'jaxon', 'balla', 'mafro', 'hmmhmmhmmmmm', 'beatle', 'فەشەلەی', 'cavalli', 'rosay', 'sevmiyorum', 'wiggin', \"f'ing\", 'عاشق', 'myślę', 'dahdah', 'walliams', \"'lizabeth\", 'μέσα', 'buscas', 'wonderstruck', 'aiko', 'sillay', 'blazin', 'bbugs', \"'posed\", \"there'\", \"hoein'\", 'menipu', \"way'\", \"hova's\", 'thiscaca', 'wooooorld', 'könnycseppem', 'dokázal', \"don'tcha\", 'londons', 'htown', 'camoflague', 'ubba', 'рэкс', \"m'fait\", \"feingold's\", 'کە', 'yeahyeahah', \"d'amato\", 'croire', 'mais', 'biligerent', 'dobkin', 'برند', 'soca', 'vengo', 'cabellas', \"leapin'\", \"uh'uh\", 'uishi', 'teets', 'bibig', 'über', \"recognizin'\", \"5's\", 'haaah', \"'tize'\", 'ungh', 'ανάμεσα', 'kinte', 'pootpoot', 'buehl', 'umba', \"claimin'\", 'jmenování', 'nasdaq', 'andandand', \"'hand\", 'pictureperfect', 'oni', 'ahhhhh', \"fortyfo'\", 'traww', 'qm', 'onefifty', 'moreestablished', 'vmas', 'knickerbock', 'mamá', 'audé', 'chalmers', 'uhmmm', 'بهتون', \"smugglin'\", \"baballin'\", 'pasttense', 'champaagne', 'azuka', 'nosso', 'enioma', 'vanvonderen', 'yummyyum', 'middleclass', \"every'\", \"slackin'\", 'amped', 'soons', 'estava', 'danananana', 'ces', 'bih', 'bibihoping', \"budden's\", 'laquan', 'alamıyor', 'giv', 'squarecut', 'mmmurda', 'phyphyphyphysical', 'loyale', 'où', 'micaiah', 'assalam', 'hands56', 'ik', 'lèvre', 'ballaz', 'familia', 'wanegbt', 'negra', 'eah', \"losin'\", 'lalalala', 'yowe', 'στιγμες', \"hort's\", 'ihtiyacımız', 'cl6', 'harharhard', 'gunit', 'clickclack', \"bailin'\", 'inanmıyorum', 'tariq', '009we', 'hagyatékod', 'switchin', '4car', \"bullyin'\", 'داگ', 'nincs', 'bumpsthe', 'thiessen', 'sprzedaję', 'valahogy', \"jag'\", 'ohwoahoh', 'caribana', 'reat', 'پێشوو', 'alaikum', 'chewbacca', 'moderfucking', 'gençleştim', 'scadattle', 'دادی', \"royce's\", 'donnez', \"eyebrowraisin'\", 'roblox', 'پێم', 'μπορείς', 'girlsgirlsgirls', 'lubriderm', 'kökledim', 'mei', 'samesame', 'اما', 'εγω', 'çık', 'allpoints', 'looka', 'unabomber', 'ئەلفوبێیــە', \"spreadin'\", 'whooaaaaaaa', 'playin', 'foreverandaday', 'draculas', \"clownin'\", 'lightskinned', 'deaddead', 'busca', \"overtextin'\", 'idi', \"been's\", \"i'mma'\", 'upsidedown', 'eyesdem', 'μαζι', 'nsync', 'ese', 'mmy', 'swswinging', \"flakin'\", 'futtatni', 'spose', 'dingaling', 'sarpong', 'entrepopo', 'iets', 'με', 'raygun', 'felch', 'chainsmokers', 'smartaleck', 'blowoo', 'ببریزودتر', 'cp', 'melyssa', 'whe', 'liqs', 'oneah', 'everymotherfuckingbody', 'پوشیدم', 'contrat', 'sssorry', 'frío', 'thateh', 'missta', 'чувств', \"boo'd\", 'augh', \"entramo'\", 'booo', 'depositando', 'carrey', 'výlety', 'milla', 'presale', 'oldschool', 'leatherface', 'crotchless', 'zooted', 'briston', 'riri', 'ayo', 'tarde', 'uk', 'geniuselizabeth', 'غول', \"askin'\", \"photoshootin'\", 'arent', 'quererte', \"immaturin'\", 'haute', 'γνωριζουμε', 'passati', 'eyekyu', 'seee', 'هستمسر', 'botox', 'fisted', 'collegy', \"underafuckin'chiever\", 'firstglance', 'autobot', 'ndiyininja', 'seps', 'głową', 'schottenheimer', 'jugaría', 'woadies', 'bcbg', 'salivawhat', 'dippin', 'máshogyan', 'speakin', \"wagin'\", 'sho', 'indir', \"l'eggo\", 'unlv', 'bеtter', 'trí', 'günlerdi', 'うたいましょう', \"gat'll\", \"horsin'\", 'swzup', 'lolook', 'mcig', \"'lil\", 'sólo', 'allnight', 'نگه', 'niż', 'برینم', 'özellikle', 'kuti', 'looey', \"kickin'\", \"girls'\", 'llevame', 'کلی', 'kloss', \"m'i\", 'lalalolololo', 'foreigns', \"pipin'\", \"mournin'\", 'sevendisc', 'quien', \"you''gon\", 'streetwear', 'mababu', 'lyckety', 'کیر', 'geto', 'ancientcity', 'grito', 'corazón', \"sexin'\", 'tec9', 'herkesin', 'láthassunk', 'meus', 'singsing', 'khloe', 'powpow', \"'96\", 'oooaa', 'boyboyboy', '7am', 'mmade', 'smcke', 'kells', 'scullies', 'qtip', 'oblivions', \"wearin'\", 'marys', 'saudy', 'dropspublic', 'mets', 'frizzench', 'nevét', 'rollingstone', 'vemos', 'thc', 'stansfield', 'sheshe', 'tity', 'را', 'flippin', 'spacedressbad', 'ειμαι', 'aaaaaaack', 'eins', 'mamamagic', 'woh', 'munroe', 'overdramatic', 'hurtsbrace', 'kissandtell', 'cuchi', \"saidnothin'\", 'πεθαίνουμε', 'cheddars', 'horan', 'محدودیت', 'بکننپس', 'wantwant', 'balenciagas', 'yi', \"bloggin'\", 'swoll', 'havada', 'turboboost', \"kidnappin'\", 'sickamore', 'yoyo', \"fuckin'\", 'vers', 'x8', 'mally', 'apeshit', 'mrmr', 'دادناز', 'dancez', 'yaptırdım', 'وەک', 'ggget', 'jerkey', 'gt', 'radiš', 'μάτια', 'sslim', \"hellmann's\", 'pacquiana', 'allwhite', 'слайдер', \"pa'\", 'onenight', 'tonedeaf', \"that'll\", 'badd', 'خەبەری', 'bibitches', 'allnighters', 'saçma', 'paraît', 'intinn', 'نفره', \"d'autre\", 'mindez', 'eyore', \"i'l\", 'tswizzle', 'veriyoruz', \"j'balance\", 'مورد', 'niña', 'mutumbo', 'superdope', 'oldow', 'yoooo', 'oohoohoohooh', 'favourites', 'tsx', 'aon', 'dreamgirl', 'ekwu', \"cadilac's\", 'frutas', 'stata', 'diga', 'prend', 'cigerette', 'fretta', \"coolin'\", 'highstrung', '44s', \"tramp'll\", 'respirar', 'aduba', 'après', 'scambiarci', '你的指尖擦過臉龐', 'lebria', 'θελω', \"beatin'\", \"stu'\", 'ththicka', 'rde', 'dboy', \"'mani\", \"smckin'\", 'прощай', 'idioma', \"kuniva's\", 'kupa', 'cribo', \"'focus'\", 'capleton', 'niceonice', 'rolexes', 'dirtbag', \"holdin'\", 'pochodní', 'dddddollardollar', \"l'étrangle\", 'babyface', 'nas', 'lll', 'gidiyor', 'marvclous', \"asswhoopin'\", 'špičkách', 'boujour', 'tongueincheek', 'allblack', 'véarsa', \"you'r\", 'بەرزترین', 'žádné', 'shahallow', 'lindo', 'topiana', 'everyevery', '你說', 'tacy', 'gfulls', 'sssshit', 'jevo', 'labadore', 'ڕایانپەڕاندم', \"'n\", 'culd', 'aspinning', 'parce', 'bagsss', \"soothin'\", 'naah', 'benim', \"patronizin'\", 'kendimle', 'heshe', 'rien', 'enfoncer', 'shidit', \"attractin'\", 'toc', 'dehydratin', 'hailies', 'aint', 'gggg', \"hummin'\", 'bbt', 'gerekse', 'amikor', 'nessman', 'prosac', 'detestez', 'thesex', 'lockdown', 'بدم', \"saucin'\", 'yeaheh', 'sevilles', 'titeket', 'leana', 'flaugen', 'shooin', 'winey', \"'scuse\", 'butthole', \"danglin'\", \"tat'\", \"triptrippin'\", 'tshirt', 'ahora', 'sus', 'özür', 'actavis', 'dahhdum', 'azealia', 'lalalalalalala', 'euthanized', 'thirtyfour', 'listo', 'bombbombs', 'pleasе', 'fansnot', 'febreze', \"bouncin'\", \"you'rе\", 'fayann', 'ohohoooh', \"mami's\", 'nooit', \"fistin'\", \"andamo'\", 'bluecollared', \"crap'll\", 'unbothered', \"e'rybody\", \"c'qu'elle\", 'hazmat', 'میکنه', 'koniec', 'βλεπουμε', 'reparesent', 'lense', 'godknowswhere', 'iyaz', 'leavewhy', \"'dud'\", 'mepending', 'overcorrecting', 'imi', 'göremeyeceğimi', '0k', 'leeyar', 'eeve', 'cúrfa', 'ouais', 'oop', 'boyhtown', 'بازی', 'rihannagate', 'mumumurda', 'skummy', \"c4in'\", 'nt', 'grandi', 'شێوەی', \"braun's\", 'forwardint', 'badabing', 'asswhipping', \"don'ts\", 'rebirebi', 'twé', 'whitetrashy', \"strummin'\", 'doen', 'tictoc', \"'sposed\", 'dancefloor', 'ayayayay', 'fcc', 'дела', 'finca', 'untill', 'curr', \"missin'\", 'champú', 'womans', '告訴我哪個選擇比較糟', 'reviendrai', 'wij', \"fleem's\", 'doodooroo', \"stace'\", '0s', 'fiduck', 'بهشون', \"hearin'\", '言われても', 'donjae', 'amiért', 'ayyy', 'sprawi', 'lovе', 'aaate', 'pointin', 'всем', 'simma', 'ghetts', 'ağzıma', 'ciągu', 'eq', 'streetmuscle', 'a6', 'hepsinin', 'meghalnának', \"clutchin'\", 'آگاهآره', 'reposer', \"y'knahmsayin\", 'certies', 'πάγος', 'bloodorange', \"destroyin'\", 'mac0', 'analyse', 'maricón', \"cacacan't\", 'bеtty', 'shoty', \"weird's\", 'شدمن', 'eska', 'starspangled', 'tranq', \"tumblin'\", 'kapanış', 'pedig', \"percoce's\", 'haaaaaaaa', 'suwoo', \"trashtalkin'\", 'rossi', 'sonhando', 'bo', \"much'll\", 'sidebyside', 'eyepopping', \"sia's\", 'aprendí', 'waka', \"shoutin'\", 'rockstarlife', 'oumou', 'smokecooked', 'olvidar', 'resurrectionext', 'laughin', 'mp', \"mil'\", 'ránk', 'oooo', 'zoner', 'chopchop', 'adquirir', 'perce', 'هستم', 'menschkeit', 'rocc', 'empezamos', 'shaddy', 'brillant', 'sexin', \"follie's\", '0space', \"l'un\", 'swagart', 'ormanı', 'pensylavania', 'قلبم', 'cmere', 'pięć', 'vannak', 'víc', 'yearolds', 'darvocet', 'alade', 'shmoney', 'soohoh', 'ateam', 'biatch', 'pinnedup', 'rrride', 'meck', 'рот', 'yyyou', 'babababylon', 'clockin', 'nija', 'neenyo', 'narcos', 'agus', 'stog', 'terminó', 'hiçbir', 'gеt', \"actin'\", 'savez', 'thang', \"yeah'\", \"haltin'\", \"'90s\", 'ththat', 'soulja', 'didick', 'gizler', 'یاکجار', \"'ox'\", 'fingaz', 'spiaggia', 'میرفتن', 'ohoohoohoohooh', 'guh', 'happenеd', \"imposin'\", '009present', 'ewww', 'cardibissoproblematic', 'newlyreleased', 'maren', 'devilles', 'edgеs', 'manos', \"ah's\", '00not', 'نبود', 'fiiight', 'dk', \"skrip's\", 'ακομη', 'spoonie', 'wann', 'soñarla', 'downa', 'قادر', 'malheur', 'rosenburg', 'freakshow', 'rubrubbing', 'سیمفۆنی', 'hova', 'katycats', 'muggs', 'buzzcut', \"buddin'\", 'beefin', 'blaringi', \"j'veux\", 'burrowеd', 'pree', 'artrve', '0somethings', 'brees', 'blackcovered', 'exmen', 'متحرک', 'ponieważ', 'rrrrr', 'kita', \"glancin'\", 'popeyes', 'celie', 'guessguess', 'servе', 'fitteds', 'schoolly', 'fabolous', 'itgo', \"eagles'll\", 'haynie', 'sceptical', 'کهتو', \"'member\", 'plasticware', \"'move\", 'vanson', 'againoff', \"lurkin'\", 'ballin', 'flooryou', 'bipopulars', 'mamakossa', 'chromatica', 'دەکەون', 'nedokáže', 'hiney', 'zamknij', 'jaden', 'kılıçtan', \"mo'fuckers\", 'стабильнее', 'whenif', 'uturn', 'dontcha', 'fivestar', 'puerto', 'judgin', 'comin', 'tryed', 'datsun', 'shner', 'ceelo', 'semiglock', 'hydrochloroquine', 'souhaité', 'iverson', 'moanin', 'regine', \"'80s\", 'elevenyearold', \"chimpanz'\", 'hercie', 'klosman', \"lives'\", 'cinderellaella', 'nonrelevance', 'slauson', 'db40', 'grandaddy', 'youknowwho', 'wristwear', \"niggas'd\", 'дима', 'rosas', 'dibiase', 'sokacağım', 'ام', 'diggs', \"d'un\", 'تاکو', 'ovo', 'awesomer', 'poooaaoooaaoooaaoooaaaooaooasssseeee', 'brotha', 'kala', 'yeni', 'kkkkkisses', 'facetoface', 'féadfaidh', 'unu', 'sikişmek', 'goozer', \"spiralin'\", \"'bis\", \"mumblin'\", 'tych', 'strongbow', 'sayfasıyla', 'منظور', 'vanmi', 'postdrop', 'falala', 'αλλου', 'financials', 'şaplakla', 'stunna', 'стены', 'destin', 'doué', 'winwindow', 'elárulta', 'swishers', 'grizzy', 'screensaver', 'samecall', 'koy', 'eyeyes', 'eyeington', 'się', 'haooh', 'typea', 'makin', 'luchando', 'ott', 'rikirobo', 'courvoisier', \"an'\", 'bеing', 'baddiebey', 'πορτοφολί', 'wszystkiego', 'pickpickpick', 'canekane', 'trapmoneybenny', 'whoaahoh', \"must've\", 'upsee', 'looseygoosey', 'jheeze', 'lasto', 'bitcoin', '007present', 'yerde', 'grambling', 'construímos', 'dopda', 'mylę', 'teraz', 'olmayan', 'menunggu', 'throught', 'daba', 'yolo', \"m'\", 'lohan', \"beans'a\", 'citi', 'sie', 'comiclike', 'ablo', 'mohikans', \"beginnin'\", 'keanu', 'jeremih', 'sevenseries', 'repente', 'solange', 'gggunit', 'shagshagged', 'coogi', \"nervewrackin'\", 'amo', 'sikiyor', 'halftwisted', 'irratic', \"paintin'\", 'akkor', 'gagaaaaa', 'ak', 'leb', 'fbg', 'بیف', 'digga', 'mudda', 'killah', 'gören', \"tokin'\", \"jer'\", 'nuestra', 'dónde', 'hushhush', 'crazyjust', 'spz', 'sheckler', \"obie's\", 'فلاپ', 'kaffee', 'fireflycatching', 'tiens', 'dejaste', 'hoodie', 'jeezy', 'tunechi', 'mathers', \"tusslin'\", 'الله', 'servin', 'húzódni', 'hmmm', 'oaky', 'ödeme', \"'deceiving'\", 'trippy', 'ohyeah', 'backnasagoodnight', 'cahis', 'aidsli', 'firebeatz', 'powracającego', 'shitstirrer', 'hardwell', \"revoltin'\", 'murda', 'nanu', 'ling', 'oohoohooh', 'pasé', 'jiggajjigga', 'palacio', 'noname', 'forgothow', 'bgrown', 'γνωρίζω', 'pnk', \"moppin'\", 'ebk', 'inear', 'moncler', 'también', 'cafelotted', 'londra', 'washedup', \"cashmethat's\", 'اریک', 'αγαπή', 'stamby', 'saaaaved', \"controlla's\", \"prob'ly\", 'chyeah', 'gritando', 'preign', 'sizin', 'zaroo', 'lebron', 'cheeze', 'gims', 'poignets', 'remi', 'خاص', 'stayho', 'buh', 'superfood', 'cappa', 'reposts', 'preme', \"shaking'\", \"ya'\", 'toho', \"conkin'\", \"interceptin'\", \"mornin'\", 'teena', 'mulala', 'memudar', 'bom', 'levez', 'lan', 'gooder', 'choppa', 'rеnovation', 'bilmiyorum', 'charttopping', 'آدمی', 'mj', \"'gratulation\", 'mgk', 'lairlair', 'yarım', \"l'oréal\", 'beatzz', 'mixtapes', 'fortythreeohone', 'georgie', 'afura', 'bloodthirst', 'biebs', 'bucktown', 'glistеn', 'summersummerboy', 'mayweather', \"faygo's\", 'uhnn', 'heheh', 'iiii', 'tay', 'jít', 'bloodpop', 'punkass', 'sensei', \"thisit's\", 'gidelim', 'hpnotiq', \"nnnnicki's\", 'بال', 'muszę', \"muh'fucka\", 'scaryen', 'tel', 'gsc', 'brightside', 'reloadedloaded', 'paxil', \"wrap'\", 'mèt', 'angeles', \"topplin'\", \"stimpy's\", \"what'sherface\", 'kırıldığımı', 'incog', 'clearoh', 'dudecan', 'dangerom', 'fooding', 'uskebe', 'fuuun', 'tienes', 'içeri', 'prt', 'maná', 'wzbogacam', 'trinis', 'whatcho', 'roeper', 'huxtable', 'sok', 'hitlist', 'bıraktı', 'skinnyass', 'wideeyed', 'tuckerso', 'mrthrow', 'nemo', 'whatcha', \"fugaz'\", 'bio', \"tyin'\", 'شێتت', 'sauteed', \"mystikal's\", 'chickachick', 'heyehey', \"heff'\", 'hhhands', \"fussin'\", \"og's\", 'wha', 'genasis', 'مۆسیقای', 'cette', 'twentynine', 'michelangclo', 'storys', 'upandcoming', 'openair', \"cancelin'\", 'nurofens', \"breath'cause\", 'opinon', 'derriere', 'mesaj', \"biggin'\", 'ressemble', 'amc', 'eğer', 'física', \"breathin'\", 'lityum', \"'gram\", 'spokenword', 'dancehall', \"l'activité\", 'σταματαει', 'tx', 'yllaer', \"soundin'\", 'mothasuckas', 'resight', 'ziplocked', 'vrais', 'ht', 'gdzie', 'zrobiłam', 'ići', 'tatyana', 'chong', 'survivе', 'dollas', 'godbey', 'yarrağı', 'lifе', 'compañera', 'flightuh', 'pada', \"stampedin'\", 'screensetting', 'olmam', 'yayyayyayyayyayya', 'flyy', 'meateating', 'delong', 'habibis', 'nineto', \"54''s\", \"eruptin'\", 'quadrupledog', 'goodluck', 'brrapt', 'yabadibadibadada', 'кокос', 'ohsotrue', 'صبحونه', 'outpetty', \"reactin'\", 'shht', \"somefuckin'one\", 'michto', 'baf', \"asswhippin'\", 'polina', 'alainas', 'dabadadadida', 'choppin', 'romaromama', 'unrecognised', 'hasselhoff', 'charlamagne', 'اولا', 'aget', 'finchy', \"shit'd\", 'fraggle', 'şirketindeki', '80gs', \"l'dise\", 'runn', \"masturbatin'\", 'petras', 'haaaby', 'eastland', 'neverneverland', 'twoandatwo', 'haremos', \"inspirin'\", 'interscope', 'daoine', \"snoopin'\", 'راحت', 'vcr', 'oldfashioned', 'şehvetlendirirsin', 'llenos', \"'droid\", 'okreni', 'mis', 'fi', 'blcst', 'mya', 'پرداخت', 'raptopaythebills', 'minie', 'meetis', 'yapıyorum', 'dafrican', 'trynna', \"shaqtin'\", 'entretiene', 'mylanta', 'transavest', \"embarrassin'\", 'rcket', 'worldclass', 'düşündüğünü', 'nickename', 'rarahhh', 'snipsnip', 'dokola', 'kudsi', 'idéaux', 'dolu', 'skrillex', \"dirtyin'\", 'ohhhhhhh', 'hágase', 'silklined', 'dyro', 'я', \"chirpin'\", 'comicbook', \"speedin'\", 'közel', 'tipsed', 'itthen', \"weddin'\", 'глазах', 'припев', 'baw', \"weed'll\", 'monstar', 'sadece', 'hou', 'chola', 'playhigh', 'ivanka', 'bx', 'jaz', 'murcielago', 'flybytheseatofhispants', 'karıştıran', 'hoilday', 'bulleting', 'spellavotu', 'curé', 'dddown', \"amusin'\", 'org', 'pc', 'önnakarat', 'μόνος', 'iç', 'fortyforty', 'hoope', 'mothafucker', 'kimmy', 'livenew', 'polkadotted', \"cc's\", 'και', 'suu', 'جەیمس', 'psh', 'rapera', 'twonight', 'öldürdüm', 'woooh', 'qué', \"ol'\", 'mandem', 'شدهمن', 'bcbe', 'boomboom', 'pudor', \"houndin'\", 'shitcuz', 'foward', 'cityy', \"wondering'\", 'leguizamo', 'états', 'oto', \"'cause\", 'habibiz', 'istediği', 'urkel', 'lado', \"promisin'\", 'strummin', 'maxamillieon', 'ahold', 'merch', 'subbabick', 'recibo', \"dogg's\", 'درێژ', \"hace'\", 'ئەڕۆن', 'هاپی', 'stat', 'gloutlékzo', 'tribeca', \"yappin'\", \"skewin'\", 'قەحبە', 'calp', \"y'know\", 'capple', 'iwhen', \"sh's\", 'aventura', 'közben', 'manyana', 'outsidaz', 'lolololololo', 'carlile', 'نه', 'goldshouldered', 'facíl', 'rrroll', 'yay', 'medellín', 'quem', 'faszok', 'corté', 'jeffree', 'lineofsight', 'dolcezza', 'semé', 'dearmad', \"flowin'\", 'ucci', \"leadin'\", 'miseducated', 'rajtad', \"to'\", \"'dark\", 'řečeno', 'everpresent', 'rosemarys', '000s', 'rak', 'تنها', 'kwamé', \"fo'\", \"6'\", 'giacca', \"backhandin'\", 'není', 'meno', 'źle', \"'will\", 'kiner', 'benji', 'checkachickycheckachickycheckacheckachicka', 'مک', \"pretendin'\", 'rendre', 'yearold', 'bookoo', 'bazı', 'cuffin', 'zzzzzone', 'iwoahwoahwoah', 'arrivo', 'havuzları', 'sajátjaidért', 'plexico', \"breaking'\", 'hublot', 'coulda', 'novacaine', \"marijuan'\", \"bucklin'\", 'két', 'kekuatan', 'tym', '이', \"someone'd\", 'llegando', 'hissedebilseydin', 'izlemesini', 'pickerupper', 'cuestión', 'heenan', \"'mor\", 'drexler', 'sento', 'allez', 'hunnidthousand', 'louganis', \"don'\", 'jerrys', \"tippin'\", 'selfies', 'había', 'kickass', 'izze', 'benza', 'musun', 'شروعارو', 'postaví', '6foot', \"returnin'\", 'handrolled', 'oneofone', \"dippin'\", 'sixstar', 'بیغمی', 'antwoord', \"mo'fucka\", 'hydroxycut', 'conoce', 'karını', 'amex', 'dientes', 'customkitted', 'хочет', 'майбах', \"n'ai\", 'پاش', 'vidle', 'maxell', 'sista', 'oszalejesz', 'celebrando', 'szobában', \"n'estce\", 'جیاتی', 'ellerini', 'gevrek', 'από', 'быть', \"d'ussé\", 'gotcomeback', 'oli', \"how'm\", 'justjust', 'bulundum', \"winkin'\", 'socal', 'bendel', \"mcs'll\", 'onlara', 'bırakırım', 'leales', 'rapoj', 'budeš', 'boulangerie', 'sremm', 'yodelodelayheehoo', 'resetter', 'skeeted', \"recruitin'\", 'بک', 'champange', 'sıçan', 'primera', 'cn', \"skipskippin'\", 'puits', 'amar', 'demain', 'suivre', 'retarted', 'sse', 'chonkyfire', 'اسم', 'słucham', 'slizzle', 'šlic', 'ohmamama', 'iconstat', 'hd', 'powinienem', 'whateva', 'yealive', \"seng'hleli\", 'cullinan', 'válečné', 'برنمیگردن', 'espiritu', 'miyagi', 'watchin', \"lightin'\", '²', 'woahhh', 'śmiać', 'ginobili', \"til'\", 'arounds', '最恨世上', 'coldcocked', 'namebut', 'hile', 'λαμπει', 'زمانیه', 'madting', 'pway', 'bottomfeeder', 'mamasay', 'aacting', 'sei', 'wouldnt', 'mmark', 'atá', 'alexa', 'alıcam', 'massoccur', 'mcv', 'destra', 'strzał', 'viver', 'آدم', 'peacockcock', \"head'll\", \"'a\", 'doodoo', 'journada', 'youday', 'rusha', 'lb', 'skelter', 'carribean', 'reclamón', 'wansel', \"drizzy's\", \"qu'j'te\", 'normani', 'vert', 'fanacht', 'forcillin', 'demdem', 'alot', 'chocha', 'seye', \"try'na\", 'selfdiscover', 'moscato', 'tuvalet', 'καρδιας', 'alalalollipop', \"trollin'\", 'gatman', 'suvs', 'prisión', 'hollowman', 'mahal', \"buggin''\", 'breal', 'suge', 'dadax', 'odrodzenie', \"killin'\", 'sano', 'mumbojumbo', 'terribletasting', 'بڕۆم', 'izbrišite', 'shrinked', 'kyoko', 'unda', 'gott', 'khloé', 'courtordered', 'repierced', '서만', 'muthafuckaaaa', 'macmahon', 'bunkie', 'estos', \"soberin'\", 'belkis', 'g4s', 'kitkat', 'damdum', 'fronters', 'darte', \"pitchin'\", 'fagen', 'howto', 'divo', \"'hello'\", 'ebeveynler', 'moneygram', 'pensaré', 'rrrow', 'muchísimas', 'branson', \"jusqu'au\", 'nunchukuh', 'ekg', 'daré', 'acappella', 'erykah', \"zinati's\", 'poppopping', 'wavin', \"grimmin'\", 'whеre', 'eskiyor', \"blunt's\", 'rueger', 'spf', 'gggotta', \"gassin'\", 'bırakacaksın', '8th', 'assback', 'sipi', 'corden', \"0's\", 'skinfolk', '넌', \"preparin'\", 'yıkamadan', 'buscemis', 'laters', 'evitar', 'zanottis', 'marajfuck', 'yoncé', 'hubba', 'mindezt', 'alle', 'caylen', \"pop'cause\", 'babydoll', \"durin'\", 'pago', 'whoaoaoa', \"deepthroatin'\", 'tbagged', \"waterloggin'\", 'vuruyor', 'déjàvu', 'thankyou', 'repart', 'hunnid', 'dumma', 'mashallah', \"mani's\", 'umwhere', 'melook', 'ooon', 'wawanted', 'hogy', \"stayin'\", 'چطوری', 'highroller', 'olum', 'worldand', 'wszędzie', '아는걸', 'nm4', 'versprechen', \"insha'allah\", 'ηλικία', 'frikkifrikkifrik', 'prawda', 'estão', \"'minus'\", 'tierra', 'eyalette', 'fortyeighted', 'tőlem', 'tymer', 'hlas', 'uppaup', 'věc', 'był', 'alessia', 'llévamelo', 'kenza', 'misproduction', '七輪', 'ninehundredthousand', 'rosaleem', \"hits'll\", 'wasit', \"rov'\", 'آنال', 'membeku', 'sweepy', 'prerefrein', 'féministes', 'kontra', 'fergoob', 'سطل', 'nunchucks', 'kkinda', 'ωχ', 'può', 'merci', 'یک', '나의', \"'roundme\", 'huggy', \"chillaxin'\", 'shanahnahnah', 'arındım', 'gıdıklayan', 'twentyfive', 'ignorança', 'pepé', 'هواپیمای', 'görmek', \"taking'\", 'juveneer', 'vyšší', \"irkin'\", 'richview', 'vrin', 'lowlow', 'deala', \"damien's\", 'jamesem', 'هەموو', 'kızdırmak', \"t'enfuis\", 'muschi', 'repsup', 'heheadshot', '忘掉這麼想最傷', 'bitchslap', 'emhow', 'perdonar', 'اینو', 'ragdoll', 'dddominoes', 'martinezs', 'glaad', 'ret', 'snowflow', \"basquiat's\", 'octomom', 'menyukai', 'heyeyeyey', 'پێشوتر', 'unisom', 'stoge', 'goride', 'radidididididididididada', 'ddark', \"'rari\", 'ifififififififif', \"joso's\", 'indawo', 'intheparty', 'eiht', 'přišel', 'czują', 'dakle', 'almightylike', \"drac'\", \"bleachin'\", 'ttop', 'pplus', 'iğrenç', 'céili', 'heared', 'wahlberg', \"steamin'\", 'stoupá', 'jiminy', \"9's\", 'drakkar', 'woooaaah', \"lookin'\", 'هوای', 'uğraşıyorum', 'lil', 'wifen', 'meglio', 'favour', \"slippin'\", 'promis', 'eetlust', 'rád', 'vestiría', 'titriyor', \"'red\", 'byour', 'má', \"catchin'\", 'swimmin', 'abercrombie', 'bowout', 'fuckinyouupshit', 'belki', \"88'\", 'scaff', 'halfbrother', \"'fo'\", 'cauet', 'húsvétkor', 'libre', 'poppyfields', 'wikepidia', 'fini', 'bling', 'cyattie', \"'09\", 'نەمان', 'ighile', 'hali', 'matic', 'jak', 'wantwantwant', 'próbuję', 'thethe', 'aleshia', \"releasin'\", 'rattrapons', 'haterade', 'queenahh', 'fyi', 'ahhahhahahhh', 'bieber', \"snowin'\", 'hidding', 'blijkbaar', 'συναίσθημα', 'skillaholic', 'hablas', 'careerdefining', 'ggg', 'cockiana', 'chikachika', 'llave', 'coldhearted', 'feets', 'فروش', 'thulani', 'odio', 'strongarm', 'nickelus', \"gapin'\", 'fencelike', 'otro', 'gini', 'leadoff', 'legbutterflies', 'skatin', 'meine', 'هیوای', 'roleplay', 'dramatical', \"'50s\", 'ooooh', 'stille', 'winnin', 'všechny', 'prowings', 'olanlar', 'yakında', 'molesto', 'megittunk', 'dowhat', 'burqa', \"s'engourdit\", \"stranglin'\", 'hissi', 'mamamamanicure', 'shead', 'više', 'rückgrat', 'wayhey', 'że', \"loud'\", 'ağzı', 'thirtyfivе', 'redet', 'drycleaned', 'tigg', 'geri', 'dziesiątki', 'tellin', \"pluggin'\", 'wich', 'westwood', 'het', 'morningand', 'stać', 'bogarted', 'bouří', \"'ill\", 'redtinting', 'lambos', 'outtro', 'merked', 'prеssure', 'benzinodie', 'ninjaman', 'yoohoo', 'ohohohohohohohoh', 'olma', \"gropin'\", 'prinsloo', 'razy', 'günde', '把錯誤都給遺忘', 'cddo', \"ari's\", 'toogoodformyowngood', \"'guilty\", 'sneakersexy', 'uniondale', 'encontrar', 'awwright', \"considerin'\", 'alisters', 'aguilera', 'problema', 'frappe', 'něčím', 'sami', 'saltand', 'ekledim', 'makinene', 'robisz', \"get'cha\", 'vereceğim', 'tyle', 'bdsbased', 'eyеs', 'raahahah', 'therethe', 'rumpleteazer', \"abusin'\", 'lololololo', 'regresar', 'میناج', 'hoooohoo', 'coacha', 'rround', 'beggining', 'abdominals', 'oooooooh', 'lect', 'oldo', \"messing'\", 'schneidet', 'ohohohohohohohohohoh', 'bbbеating', 'fack', 'apanhei', 'contries', 'labio', 'psychiatrics', 'whooo', 'dinda', 'devraisje', \"them's\", 'yaya', 'culdesac', 'ficción', 'tracklist', 'ruce', 'playermy', 'dra', 'fufufufuture', 'pokеd', 'upandcomers', 'vezes', 'dumbass', 'dawkins', 'دەکەمەوە', 'siklemiyoruz', 'sixspeed', 'questo', 'extacy', 'whyre', \"punkin'\", 'countrys', 'almodovar', 'doody', 'explota', 'sheeran', 'بڵێم', 'idonotknowwhatthefuckyouthoughtitwas', \"mindbogglin'\", 'arreglé', 'musicland', \"wildin'\", 'wenn', 'krauss', \"et's\", 'blaqnmild', 'chkitchkitchkitchkit', \"wifi's\", 'niptuck', 'زنده', \"liftin'\", \"selfinducin'\", 'yaptık', 'troye', 'salva', 'ig', 'canlı', 'kingking', \"acceptin'\", 'rasta', 'niko', 'فنایی', 'oofa', 'cokio', 'acariciarte', 'culo', 'oczyma', 'smilin', 'screwfaced', 'kesikler', \"fizzlin'\", 'nasa', 'megatron', 'puto', 'obieval', 'nrg', 'pringles', 'livs', \"s'apprendre\", 'hoppin', 'skream', 'aaass', 'oakwoods', \"7's\", \"memory'll\", 'exgirlfriend', 'ymb', 'slcp', 'személyhívónkat', \"travelin'\", 'bondo', 'didnt', 'sixtrey', 'aldık', 'couped', \"'cedes\", 'solemnfaced', 'longlong', 'bouteilles', 'öldürdüklerinde', 'üstünde', 'trex', 'abrazan', 'lifes', 'cala', 'kreviazuk', 'diseasecovered', 'gèl', 'passées', 'chéri', \"doc'\", 'uckin', 'oughta', 'uhh', \"koppin'\", 'ahhh', 'sifilis', 'mamama', 'yute', 'lenn', \"handlin'\", 'ooooohhhhhhhhhhh', \"thinking'\", 'bumpertobumper', 'مسئولیت', 'sf', \"siphonin'\", 'tha', 'rininse', 'dilediğin', \"woll'n\", 'iceblue', 'shanked', 'igh', 'selfrespect', 'tocarme', 'jid', 'prerolls', \"blingin'\", 'morningsiders', \"accordin'\", 'upsetget', \"dom's\", 'platinim', \"skinnin'\", 'tayshaun', 'kinko', 'rivières', 'blup', 'gass', \"pace'\", 'меня', \"shinin'\", 'cowabunga', 'ashesdust', 'longforgotten', 'ggoddang', \"ain'tyou\", 'maintanin', 'این', 'bitmedi', 'nefret', 'alıp', 'aux', 'poppington', 'mamamakes', 'hightops', \"'nelly\", 'andare', 'likörleri', 'lehetett', \"cookin'\", \"lewinsky'd\", 'eyy', 'me45558', \"harmin'\", 'amerikan', 'oppiana', 'vo5', 'rapperlara', 'joell', 'shshshocked', 'acti', 'هماونا', \"bloodsuckin'\", 'xannys', 'serie', 'staters', 'nickinickinicki', 'chka', 'cuervo', 'lolo', 'çalışmayana', 'hülye', 'eventhough', 'بڵاودەکەم', \"rcmancin'\", 'didee', 'okul', 'lozengers', 'xannies', 'assdicks', \"'net\", 'ahyea', 'reprendre', 'flatayour', 'حرية', 'gcups', 'canibitch', 'chapo', 'nuvo', 'kindawait', 'toptier', 'anywhereanywhere', 'bakeoff', 'lavo', \"ya's\", 'modo', 'flav', 'woi', 'söyleme', 'gioco', 'bicchiere', 'partyin', 'cigcrette', 'scrapin', 'impossiblefeeling', 'افتاد', 'cyar', 'kafam', 'vicodin', 'skeezer', \"workin'\", 'dreamscapes', 'ئەگەر', 'neden', 'yapmış', 'کشته', \"disgustin'\", \"dunkin'\", 'moby', 'radiohead', 'zeesa', 'çıkmadığını', 'swangin', 'bellissima', 'missionless', 'pupuput', 'jahač', 'alguien', 'tetikledin', 'reallife', \"wе're\", 'diggler', 'howisha', \"around''\", 'prain', 'ندارم', \"grievin'\", 'knowi', 'imagino', 'asmr', 'billis', 'diedie', 'crunked', 'parlotte', 'ackees', \"chucklin'\", 'flatts', 'zerpa', 'looooooolove', \"jill's\", 'adunanane', 'aroundyea', 'dadadadance', 'dentro', \"'tards\", 'hilson', 'slimed', 'fogom', 'ağrı', 'پێویستم', 'بهم', 'ipnay', 'homosapien', 'kahan', 'lookyou', '6yearold', \"glowin'\", 'doggay', 'childs', 'wrabel', 'κραταμε', 'ncwman', 'канистру', 'abc', 'mercedesbenz', 'twista', 'facce', 'dorag', 'gunproof', \"rem'\", 'tove', 'fing', 'boynundan', \"scarin'\", \"attackin'\", 'من', 'yores', \"ak's\", 'rveee', 'zbytek', 'goonna', 'ladadooladadada', 'bíróságon', 'naa', 'chchchainsasaw', 'ggggg', \"bugin'\", \"drummin'\", 'vienes', \"each'd\", 'klikte', 'kafanın', 'sorryext', 'hacha', \"your's\", 'pissy', 'bibir', 'lapd', 'sundried', 'nenávidíme', 'oohoo', 'yar', 'bigging', 'alls', \"mothafuckin'\", \"reasonin'\", 'plcybcy', 'zub', 'deje', 'شروع', 'terk', 'skrillę', 'startshititis', 'mould', 'raye', 'benzino', 'threeinch', 'marnie', 'ڤێرس', 'bleh', 'mojej', 'blowin', 'бензой', 'onesright', 'osorio', 'fumoir', 'oooooh', 'ooohh', \"violatin'\", 'پا', 'rythm', \"guidin'\", 'üzerine', \"vvs'\", 'nibabuzile', \"dozin'\", 'survivin', 'veight', 'bzz', 'lessawake', 'winwin', 'tweakin', 'rudeboy', 'nickis', \"mummra's\", 'coughin', 'bicurious', \"'venchy\", 'piguet', 'wego', 'çalış', 'sorrywhat', \"boolin'\", 'разных', \"uniit'll\", 'dddaddy', 'kimbo', 'rêves', 'assholeeeeeeeeeeeee', 'uba', 'ight', \"wild'n\", 'arkaya', '便自動勾起我幻想', 'yıkıyorum', 'doobies', 'facetime', 'sikiyim', 'fingy', 'dwam', 'وقتی', 'nailpolish', 'xcellent', 'ohohohoh', 'igotta', 'zz', \"achin'\", 'ambalajı', 'waaant', 'cds', 'stratford', 'yaowa', 'snl', 'ψυχή', 'thugged', 'tickytock', \"hidin'\", 'mancha', 'cheques', 'lámha', 'rapi', 'lautner', \"sufferin'\", 'nüksetmek', 'günlük', 'jatuh', 'swang', 'stefano', 'κλείνουν', 'discutimos', 'buille', 'نابغه', 'strippening', 'halfnaked', \"stankin'\", 'lejonhjärta', 'klepto', 'gunz', 'freeee', 'shiddit', 'ateeasily', 'womenthey', 'frings', 'everythingjust', 'meski', 'tyra', 'threefooteleven', 'gotchu', \"stingin'\", \"trickin'\", \"cubpoard's\", 'هەست', 'lawsons', \"semimac's\", \"racin'\", 'cabrón', 'lyft', 'кредо', 'dumdahdeda', 'boudoin', 'mcclaren', \"mudslingin'\", 'nōdōz', 'amore', 'knowget', 'dadadom', 'kiálltál', 'justbecause', 'sanelly', 'deşiyor', 'birdcrazy', 'madе', 'titim', 'todays', 'vuole', 'untouch', 'outsiderz', 'wayayayay', 'reair', 'mami', \"mouthwaterin'\", 'stockinqs', 'shottas', 'ahba', '80yearold', 'dollardollardollar', 'doinkdoinkdoink', 'nnemá', 'zorgen', 'triddash', 'gaffle', 'waps', 'elzhi', \"escape'in\", '4rd', 'roethlisberger', \"that'sthat's\", 'retient', 'qute', 'kardinal', \"'pon\", 'iba', \"becomin'\", 'semana', 'itll', 'mtv', 'igualar', 'klum', 'lah', 'boogy', 'میخورممردرپر', 'öğrenci', 'mugler', 'franky', 'swissel', 'doublestandards', 'pppopping', 'frontdoor', \"burstin'\", 'kkid', 'là', 'wastin', 'leggo', \"a'gwaan\", 'sungarood', 'sharonda', 'darkchild', 'saweetie', 'ninefivefour', \"stallin'\", 'cossom', 'crossfit', 'a4', 'åhlund', 'itd', \"coachin'\", 'cariño', 'عالی', 'reflito', 'footoh', 'میکنیayy', 'lucious', 'saqué', 'aventador', 'toma', 'youwho', 'coparent', 'sommet', 'lxves', 'φωτογραφία', 'importa', 'glock', 'rescuе', 'yapılmış', 'nèt', 'خفن', 'grigio', 'overrespected', 'ikiye', 'arf', 'دوو', 'hermès', \"corta'\", 'voicе', 'weeooh', 'saltar', 'otha', 'gelo', 'woahohohohoh', 'sosem', 'nightmareanyone', 'hashtag', 'gggggirlfriend', 'careyes', '보지만', 'теми', 'dolaba', 'چەنە', 'klonopin', \"panelin'\", 'ماشین', 'çalıştığım', \"'quil\", 'ation', 'cappella', 'drgs', 'dropshate', 'cırcırla', 'getti', 'uhhhhhhhh', 'fourteenhundredsixty', \"'pagne\", \"l'chaim\", 'twostep', 'prooffer', 'biscuts', 'faut', 'schoolbell', \"squirtin'\", 'elle', 'amityville', 'reand', 'ajhani', 'diddy', 'virgen', 'gibsy', 'éramos', 'brazy', 'déjà', 'marlbcro', 'összehoztad', 'cagee', 'balta', 'centurylink', \"quotin'\", 'everythang', 'moonrocks', 'hittin', 'οχι', 'اینه', 'gevşetici', 'bababad', \"bieber's\", 'tiskit', 'bymark', 'soundtrakk', 'canımı', 'rerediscover', \"expandin'\", 'bizzels', 'kissses', 'tttext', 'chaka', 'scène', 'baratheon', 'illest', 'doomalumma', 'yayo', \"typin'\", 'érzelmeskedés', 'lele', 'smurf', 'během', \"pourin'\", 'guárdalo', 'powiedzieć', 'demonand', 'justa', 'rorschachs', 'lolos', 'idő', '消失智商', \"muthafuckin'\", \"kangol's\", 'hookerwhore', 'drunkanese', 'دەیانوت', 'jste', 'feefifum', 'behindy', 'بەسەر', 'bouche', 'ohohi', 'overtown', 'właściwie', 'eliantte', 'sweetnsour', 'ctm', 'candyland', 'meu', 'vibreer', 'jxm', 'boyardee', 'booin', \"thereyou'll\", 'vin', 'orderwhat', 'arod', 'motherfreakin', 'fucken', 'تهیه', 'thirtysomething', 'tj', 'ooohoohoh', 'rivington', 'intelude', \"'87\", 'twotwo', 'doingmeandonlygodcanjudge', 'seethrough', 'ratatat', 'ladadooladada', 'çıkıyor', 'chkchk', \"eavesdroppin'\", 'احتمالا', \"backit's\", 'brrrbrrr', 'hahahahahahahahaha', 'isnt', 'oluyorsun', 'pierres', \"wilin'\", 'palos', 'barclays', 'ringaroundtherosie', 'waa', 'cointel', 'gitme', 'munchie', 'felching', 'gagaaaahhh', 'inchafter', \"vicodin's\", 'nisa', \"forgivin'\", 'desperté', 'scrufizzer', 'unevadable', '我很好', 'domesticarme', 'durag', \"cashin'\", 'kamikazе', 'pockon', 'nini', 'whuh', 'lastand', '006shake', 'buticcian', 'einfach', 'goldplated', 'minе', 'voicеs', 'coheadlining', 'jammie', \"clearin'\", 'dickheaded', 'tatuaż', \"grindin'\", 'seagal', 'skindanu', \"fizzin'\", 'هستن', 'earlywait', 'نەفرەت', 'sincero', 'outcho', \"j'adore\", 'guarda', 'phrephresh', 'megtalálta', 'dokud', 'cockin', \"gt's\", \"coppin'\", 'qdawg', 'ببینمآره', 'adanunana', 'سوم', 'stilleto', 'mkto', \"50let's\", 'chúis', 'makk', 'uninew', 'میبینم', 'yalvardığınızı', 'fashionistis', 'insykeable', 'gül', 'criados', 'timeبهترین', 'sremmurd', 'insteadyeah', 'cihel', 'zmrda', 'ngizogobisa', \"n'\", 'redbull', 'нельзя', \"'malis\", 'ccutcut', 'badadadada', 'rumpumpumpum', 'unimust', 'perignon', 'nevében', 'murdazagga', 'چونکە', 'hornyass', 'carring', 'wheelying', \"meijer's\", 'mm', 'msfts', 'emi', 'dolla', 'sufrir', 'bastardi', 'вроде', \"seasonin'\", \"motherfuck's\", \"itchin'\", 'plex', 'teşekkür', 'gitana', 'jimi', 'bibirku', 'cockhave', 'álmaitokat', 'häagendazs', 'ozuna', \"perplexin'\", 'dd', \"mushrooms'\", 'mouthtomouth', 'jongun', 'ona', 'çekil', \"tankin'\", \"wristin'\", 'layin', 'bleachblond', 'remyremy', 'ruinach', 'skylar', 'rexx', \"loving's\", \"yao'\", '7th', 'samauri', 'ehhy', 'treway', 'hai', \"wigglin'\", 'způsobí', 'dev', \"back''\", 'yaaahhhhhhhhhhhhhhh', 'freddo', 'singlehanded', 'rexha', '0th', 'walken', 'weeknd', 'burada', 'eames', 'yakıyor', 'doubletime', 'wooooo', 'caulkin', 'negligée', 'oynamalıyım', 'gwiazdy', 'welldone', 'دارمچی', 'بوو', 'rrrr', 'ڕێگای', 'suprised', 'sitio', 'upto', 'fiftyone', 'taşaklarıyla', 'pube', 'fatass', 'carlie', 'neyo', 'creamofthecrop', 'striptopaythebills', 'ferraris', 'feetprints', 'پەڕەموچەکان', 'donatella', 'sensimilla', 'nikolaj', \"e'r'r'body\", 'yaad', 'تنهایی', 'neek', \"stockin'\", \"blisterin'\", 'yooo', \"stashin'\", 'erierierick', 'wróciło', 'seater', 'hasizzle', 'mili', 'desalvo', 'yooou', 'vii', 'astronomyy', 'fuckastripperontheminkrug', 'pussin', 'evel', 'είσαι', 'lifeaholic', 'ağzımdan', 'sviđa', \"usin'\", 'supplya', \"sentencin'\", 'señorita', 'dickshit', 'flingy', 'pero', \"rainin'\", \"luckin'\", \"'ass\", 'uhuhhh', \"frontearle'\", 'foo', 'ellos', 'wearme', 'sed', 'neckangel', 'criedgod', 'arama', 'riccardo', 'crum', 'plateeradicate', 'tgif', 'roundme', 'madd', \"jugglin'\", 'amerigo', 'bbj', 'sim', 'ohhohh', 'uvwxyyou', \"happenin'\", \"idon'trememberwhoiwas\", 'melle', 'blockiana', 'soyeaaah', 'hoodtars', 'gelenk', 'dro', 'loohohove', 'bassturd', 'munmunmunmunmuny', 'ترینم', 'ammmm', 'phraayayase', 'mindfuck', 'skeletor', 'tah', 'زودتر', \"naggin'\", \"crazygluin'\", \"talki'll\", 'strech', 'هەڵبگرم', 'yapıldım', 'kapaktan', 'oups', 'lamby', 'walkietalkie', 'لاین', 'soo', 'whan', 'maxx', 'dek', \"werеn't\", 'profemale', 'gallies', 'quesque', \"moonwalkin'\", 'museumscale', 'aanything', 'lordy', 'mekanına', 'fauxdisco', 'кликклик', 'couldnt', 'babadum', 'toute', 'hmmmmm', 'houten', 'middleaged', \"jessica'yı\", 'dcup', 'darkwing', 'wastemen', 'hankins', 'afriky', 'menzel', 'rihanna', 'kunst', 'moc', 'nicorette', \"morphin'\", 'mcnabbin', 'bhrí', 'prenups', 'ymoe', 'trato', 'vittem', 'bulletproofwrote', 'reh', 'postafiókjaink', '000the', \"will'll\", 'rockshitbitch', 'raz', 'обгоняю', \"hills'\", 'komodo', 'zıpladım', 'doja', \"'swiss\", \"'dome\", 'rhymin', 'dingding', 'оценила', \"'tis\", 'diz', 'propofol', 'causa', 'скинь', 'vám', 'fecking', 'kosu', 'ebayers', 'untuk', 'sonofabitches', 'evinin', 'kocsiba', \"observin'\", 'louohud', \"hedgetrimmin'\", 'geget', 'لەوانەیە', \"freshin'\", 'estaba', 'adióspor', 'laissemoi', 'prawdopodobnie', 'ttrick', '輕咬我的舌頭', 'ameen', 'singin', 'énjeinket', 'milly', 'basslines', \"swervin'swervin'\", \"somethin's\", \"practicin'\", 'whipass', 'دومنیک', 'doublee', 'wagyu', \"'s'\", 'whooptywoo', 'oferra', 'nowhow', 'bеnt', 'pfffft', 'laisse', 'httpsbangkokplaymatescom', 'lumières', 'né', 'iti', 'thatimmersive', \"j'aime\", 'pacquiao', \"mezz'ora\", 'bowbow', 'shish', 'ricken', \"hatnin'\", 'rethe', 'dddduck', 'netnetnet', 'grunwald', 'weezyana', 'wishywashy', 'backback', 'chinnychinchin', 'youve', \"who'da\", 'zzzero', 'alors', 'dets', 'andrelli', 'vivo', 'fairlane', 'akikre', 'sajak', 'seriesshow', 'どうにも止まらんぞ', 'hasta', 'acobardarme', 'bbabe', 'cheguei', 'shaina', 'lickety', 'notnice', 'pyt', 'bailar', \"raisin'\", \"lights'll\", 'byhrb', 'rockstars', 'companyand', \"l'homme\", 'tila', 'чувствую', 'kallman', 'loselose', 'insideout', 'aan', \"hopin'\", 'domina', 'babе', 'heartbreakers', 'fuckthemboysforever', 'ners', \"mutterin'\", \"fanning's\", 'whoawhoa', 'oxygenother', 'برعکس', 'pizzelle', 'selfie', '總是在親吻中善忘', 'bellytommy', \"po'\", 'rekerekereverse', 'mnoppuzzle', 'locness', 'liomsa', 'psychopapathic', 'پوستا', 'signo', 'everlast', \"inhalin'\", \"effin'\", 'contestar', 'pitterpatter', 'starterdrake', 'catya', 'gallardo', 'nigella', 'boudin', 'osirus', 'voulait', \"disrespectin'\", 'farkettim', 'reven', 'aç', 'seperate', 'lcvegame', 'sixsixsix', 'daps', 'tá', 'blablabla', 'ooou', 'yapyap', \"slimin'\", 'mappelles', 'evili', 'shrody', 'söylemiş', 'rey', 'brille', 'teetertotter', 'uğaraşmak', 'rappping', 'میزنه', 'cheeba', 'amagwala', 'mata', \"somthin'\", 'üç', 'istemiyorsun', 'bosseses', 'verán', 'kneedeep', 'piliç', 'elphaba', 'sétáltunk', 'grammer', 'plap', 'madiba', 'czytasz', 'ochocinco', '의미없어', \"righti'm\", 'quelque', \"n'aurais\", 'dopest', 'honestlyly', \"switchin'\", 'steelus', 'entrar', 'niet', 'będziemy', 'superfreak', 'deréon', 'kidnappin', \"pleasin'\", 'hhhhhhheartbeat', 'thatroger', 'toetotoe', 'mhéid', \"wrestlin'\", 'dziwko', 'theyd', 'amazingmusic', 'ahahohohoh', 'myx', 'nahmean', \"'septic\", \"unravellin'\", \"m'amuses\", 'entero', 'sweetscented', 'assez', 'seeeeeeeeee', \"moshin'\", 'youll', 'liberaté', 'rollie', \"hov's\", \"dwarfin'\", 'stadio', 'kourtney', 'whoaohoh', 'selbst', 'jacksonwho', 'rubix', \"bumpin'\", 'youngen', 'dosido', 'selfempowerment', \"swearin'\", 'zúdult', 'ní', 'powey', 'vom', 'emptinessext', '6lack', 'madmagical', 'dollarz', 'heyohohoh', \"sense'\", 'gucc', 'pensent', 'skantless', 'currentsounding', \"flirtin'\", 'golddiggers', 'sina', 'траву', 'coração', 'jus', 'wappaaa', 'pleaser', \"gainin'\", 'shadybitch', 'agua', 'siyamthanda', 'mamita', 'fansif', 'ι', 'megszagoltam', 'dancе', \"semi'll\", 'mojitos', \"'ville\", '我開心因見到', 'knocc', 'droid', \"zonin'\", 'hacerlo', 'холоден', 'themself', 'trainless', 'herstory', 'fufufucking', 'escalatedit', 'zabarví', 'studi', 'kandi', 'freestyleno', 'basszus', 'thangs', 'tobą', 'insanları', 'dökün', 'halen', 'roowsie', 'mataku', 'softso', 'gsxr', 'lennox', 'chunes', \"j'aurais\", 'jabronis', 'haaaaan', 'gue', '實在你也知道', 'nevuary', 'dpgc', 'بزنه', \"care'n\", 'helder', \"qu'estce\", 'twomile', 'bangin', \"brandin'\", 'اروپا', 'twitpic', \"hailin'\", \"excludin'\", 'چرا', 'عشق', \"discouragin'\", 'serato', 'dilerim', 'motherfck', 'playdoh', \"rest'll\", 'raraahahah', 'swipeclub', 'korkacaksın', 'lemmi', \"durin's\", 'trappin', \"50'll\", 'gorzko', 'juro', 'splyt', 'primadonna', 'oynuyorum', 'trappy', 'exmanic', 'littlе', \"barkin'\", \"runnin'\", 'whoah', 'poopoo', 'cruisin', 'méxico', 'infeliz', 'playerhating', 'bakteriler', 'whi', 'rrrrrrrr', 'moyen', 'δύσκολη', 'woeing', 'lateuh', 'laine', \"duff'b\", 'uniso', 'تی_مینوس', 'chchromatica', 'cartera', 'maraj', 'sotomayar', 'همون', 'yeahhey', 'rockfest', 'blahbadeeblahdablahblahstop', 'ii', 'guantlet', 'şekilde', \"pam'\", 'tascam', 'vuelvas', 'whowhowho', 'idina', 'eheeheeheeheeheeheeheehe', 'gitmeliyim', 'aftermizath', 'нравится', 'érdeklem', 'yeahwe', 'formationuptown', \"fif'\", 'fortyeight', 'pre', 'softcore', 'olsun', \"hiphoprappin'\", \"wafflin'\", \"mixin'\", 'leopardskin', 'triyn', 'hyp', 'demar', 'vamos', 'jeane', 'strongwilled', 'ڕاستە', 'whewhewhen', 'chloraseptic', 'δύναμη', 'scadattles', 'koi', 'suga', \"grippin'\", 'vading', 'aaliens', 'باشم', 'popo', 'öldürecek', 'asabe', 'wwwhat', 'mmmmmmm', 'nicknicknamed', 'thirtytwo', 'onerepublic', 'uhuh', 'reías', 'boastin', \"'villians\", 'داشتم', 'supiste', 'walgreens', 'quoi', 'youry', 'mothafckin', 'vienen', 'oneing', 'monsé', 'ağzına', 'ей', 'nyári', 'vips', 'taha', 'pricetag', 'discrimina', 'wonderman', 'handson', 'inne', 'cockblock', 'terrordome', 'ecoute', 'soowoo', 'moodymann', 'midnovember', \"'where\", \"'burb\", 'mondod', 'pussys', 'شتێکم', 'оставлю', 'erfolg', 'rendu', \"critiquin'\", 'postyah', 'کنین', \"studyin'\", 'hielpen', 'ladum', 'hangin', 'lithiumion', \"iti'm\", 'mischkas', 'abrafuckingcadabra', 'میره', 'bobounce', 'quisiste', 'stingsting', 'konfrontációkat', 'lambouton', 'hustlas', 'hepsini', 'rav', 'alliana', 'vzy', 'shawty', 'bizarres', 'tae', 'baccarats', 'thorlike', 'fotoğraflarını', \"bodyin'\", 'merhaba', \"d'you\", \"neglectin'\", 'vez', 'wolly', 'lez', 'muslanne', 'انجامش', 'wzięła', 'única', 'douchebags', 'duymak', 'αυτος', 'pourtant', \"'caiah\", 'yacketyyack', \"grunwald's\", 'dierdorf', 'bloodfor', 'loveee', \"dripdrippin'\", 'massimo', 'backbreak', 'všechno', 'dumdumdum', \"dodon't\", 'biliyorsun', 'مواد', 'sonsuza', 'iii', 'reali', 'querer', \"'melo\", 'ayeahyeahyeah', \"looking'\", \"impressin'\", 'dadada', 'todavía', 'andoyiki', 'tridip', 'seducción', 'dostum', 'aşağıya', 'leanin', 'onemay', 'içinden', 'seent', 'który', 'hablo', 'domhan', 'hoooh', 'drivego', 'trátame', 'ritorne', 'bigabigcock', 'marchar', 'jackers', 'nowow', 'cokecola', 'sideeffects', 'plivou', 'mranticipation', 'offcool', \"bizarre's\", \"a'ight\", 'bamba', \"parecemo'\", 'tttoweltowel', \"frizzin'\", 'érjek', 'chooooked', '7eleven', 'rothstein', 'vencemos', 'ritmo', 'guidos', \"doors'\", \"slaughterin'\", 'maloney', 'andré', 'pitino', 'youknowwhat', 'preops', 'درمان', 'dehogy', 'handcuffin', 'candyman', 'kutcher', 'eeneemeeneemeinimo', 'sharica', 'pantaleo', \"times've\", 'καθως', 'eryn', 'ooverstayed', 'ismy', \"foolin'\", 'dlaczego', 'yeeeah', 'visualise', 'jxmmi', 'middlebrook', 'olacak', 'twój', 'herethen', 'baptise', 'bildiğin', 'illprepared', 'én', 'freedia', 'keet', 'hellraise', 'hola', 'creeped', 'autographsigners', 'wszystko', 'franda', 'dreamt', \"backin'\", 'sagrada', 'pparty', 'gaohah', 'desiigner', 'miri', 'waynes', 'bleachella', 'tę', 'obubba', 'تا', 'لێکردۆتەوە', 'musicbased', 'moneymoney', 'tek', 'szóba', 'heebie', 'shippy', 'karşılarına', 'oxy', 'threelegged', \"fittin'\", 'miscommunications', 'cheesesteak', 'soyilungisa', 'nananananana', \"m'étendre\", 'دهه', 'mejor', 'szóval', 'üzerinden', 'serayah', 'notce', 'toney', 'str8', 'rootiful', \"breakin'\", 'remy', 'tetley', 'dojde', 'chicachicachica', 'tonininight', 'بنی', 'mentiras', \"disc'll\", 'kiedy', 'peregrino', 'kah', \"connor's\", 'خراپ', 'stache', 'bandz', 'خودم', \"expectin'\", 'ooop', \"'ron'\", 'vous', 'ambien', 'uhahem', 'vermedim', \"onein'\", \"gen'\", 'overdddose', 'میخوامریانا', 'قرار', 'uunderneath', \"lackin'\", 'fenty', 'superbass', 'alonestar', 'tutmaya', 'saouler', 'radim', 'watermellon', 'jc', 'sixteenthcentury', 'cahill', \"'mountin'\", 'niedyskrecje', 'seperation', 'demasiado', 'xzibit', 'lì', 'filetofish', 'chu', 'naši', 'selfempower', 'yung', 'florido', \"snoozin'\", 'ders', \"ysl's\", 'gunnin', 'تربووم', 'selfhating', 'másik', '6ix9ine', \"'wrong'\", \"0yearold's\", '속이려', 'acuestas', 'fivehour', 'چەندین', '00present', 'έχουμε', 'scotiabank', 'ot', \"diff'\", 'fcking', 'sleepin', \"ambidex'\", 'mag', 'vámonos', 'kapının', 'çalışmak', 'riesen', 'adoras', 'youuuuuuuu', 'testifythe', 'pickney', 'هەزەلی', 'starszy', 'côtés', 'hechizo', 'بودی', 'cesspoolers', 'öldürürüm', 'chihiro', \"flo'\", 'riring', 'ما', 'kyuhh', 'coja', 'یاد', 'blinkedsold', 'whered', 'syllalables', 'tippy', 'gaohohoh', \"y'allyea\", 'swt', 'campanas', 'cherrycherryboomboom', 'griffey', 'mixpak', 'rayful', 'houstatlanta', \"ya'llake\", 'blicka', 'صادق', 'słyszę', 'mommys', 'runin', 'hcsh', 'dreamgirls', 'gizzle', 'qualcosa', 'haddie', 'venga', 'couric', 'karan', 'daduhduhdada', 'gpass', 'souviens', 'nfing', 'spookay', 'tingaling', 'afection', 'daha', \"tearin'\", 'willikers', \"driving'\", 'tober', \"explodin'\", 'ninetyfive', \"obsessin'\", 'están', 'thugging', 'ménage', 'raptopayyourbills', 'motorhomes', 'berettas', 'chkka', 'chemistries', \"imaginin'\", 'migo', 'celou', 'marlow', 'nevermetmyself', 'twobyfours', 'swanepoel', 'dadadadadadadadadadadadada', \"'ready\", 'chigachiggachigchigjerchigjer', 'hickorydickory', 'دەکەم', 'głośno', 'filme', 'amicizia', \"excitin'\", 'standin', 'othеr', 'agárrame', 'εισαι', 'asia008', 'arrastrándote', 'selfconscious', \"n'sync's\", 'zor', 'preachin', '自問我討厭這份遐想', \"'preciate\", 'oohhhh', \"hurtin'\", 'bussin', 'artık', 'milliondollar', 'پوشیدن', 'brethrens', 'csak', 'calipari', 'ahould', 'cellay', 'vreme', 'sevengrams', 'él', 'g450', 'iguodala', \"payayyin'\", 'ducatis', 'potrzebuję', 'mamasibo', 'ohohooh', 'beyoncè', 'cojones', 'fricassed', 'blastin', 'serrés', \"cheerin'\", 'aswangin', '9yearold', 'backwhat', 'x4', 'footlong', '0inch', 'egyfolytában', 'egész', \"ggail's\", 'fuerte', 'selfindulgent', 'dumbin', 'daoibh', 'αυτές', 'tingz', 'imaan', 'shoutouts', 'duhdadadada', 'shebib', 'zombieieie', 'ocupada', 'tiksinç', 'walkthrough', 'grano', 'aman', 'دری', 'پرنده', 'outgrind', 'lövést', 'loonely', 'kidkid', 'bunun', 'yazzzzz', 'crâner', 'laguardia', 'twoyear', 'chéile', 'bodyshocking', 'outsings', \"s'est\", 'mmhm', 'mediumrare', 'expedia', 'oshun', 'buckbuck', 'دست', 'bandaids', 'heys', 'il', 'cheesehead', 'ooooooh', \"slammin'\", 'pensiez', 'shitgive', 'blugh', 'ο', 'giderken', 'bartending', 'toolook', 'sonuna', \"golddiggin'\", 'свой', \"that'sthat'sthat's\", 'fuelband', 'morirme', 'partout', \"nos'\", 'condiciones', '別叫我歡暢', 'cus', 'summеr', 'burla', 'okurrr', 'uspokojení', 'adorent', 'boombababoom', 'degular', 'messi', 'popopopoker', 'smartwater', 'greeco', 'acreeping', 'roce', 'ssault', \"fukin'\", 'loro', 'nyc', 'faggoty', 'frodo', \"chillwhat's\", 'metham', 'hurted', 'babii', 'jealo', 'saucey', 'historii', 'wineinеine', 'olası', 'har', \"preein'\", 'debe', 'hobag', 'voi', 'thistell', 'trajediler', 'képeidet', 'اعضای', 'ονείρευομαι', 'pesadelos', 'chunli', 'millitant', 'lenox', 'kindergartner', 'biçimsiz', 'anns', 'wifey', 'ariana', 'matzahball', 'corte', 'میگمکی', 'yrc', 'dans', 'بمونن', 'brrrr', 'mook', 'millón', 'knowlescarter', 'nia', 'doremifaso', 'fiveyearold', 'drzwiach', 'καρδια', 'hitmen', 'saludes', 'dropspooh', 'melrose', 'badaboom', 'pritty', 'bing', 'seventysome', 'possbility', 'fuimos', 'hawiti', 'shiiiiiiit', 'siktiklerim', 'niente', 'soundbombing', \"nic'\", \"swisher's\", 'growed', \"'send'\", 'nonmogul', \"ghetti'\", 'bep', 'spratek', 'کاشتم', 'taschen', 'wetass', 'bizzurp', 'istiyorlar', \"lootin'\", 'angelettis', 'dancin', 'santificado', 'gegegegeget', \"stakin'\", 'anyám', 'paulie', '我的思想', 'azul', 'punani', '4carat', 'sırtında', 'pharrell', 'cornyass', 'nevaljao', 'twothousandthird', 'rih', 'más', 'enhh', 'mids', 'λεξεις', \"yayo's\", 'gudda', 'ξερω', 'kahvaltı', \"'z'\", \"shopaholic's\", 'toetagged', 'spreaded', 'calor', 'toi', \"insertin'\", 'ullman', 'ninetytwo', 'whyd', 'otni', 'gyptian', 'nayhood', 'pensais', 'suiza', 'tipdrill', 'hned', 'exboyfriend', 'caillat', 'iq', 'шалаву', 'bőrszíne', 'njeri', 'eyeku', 'زیرزمینی', 'fiz', 'pperfect', \"after's\", 'thingstime', 'دەبیستم', 'ffaded', \"gogo'n\", 'powerslamming', 'mikkel', 'andreena', 'xans', \"pair'll\", \"'osix\", 'hayır', 'nejspíš', 'remmix', 'soontobespouses', 'ballerini', 'dreamsenchanted', 'chevaune', \"perry's\", 'brige', 'runned', 'bersyukur', 'charlemange', 'trippin', 'ils', \"'lac\", \"buddenl's\", 'popopo', 'vaccum', 'mazel', 'dejarme', \"withholdin'\", \"tun'\", 'mavi', 'niebo', \"kushin'\", 'nj', 'relievedmy', 'rcssian', 'ladeeda', 'getbizzy', 'teeさん', 'eighteenwheeler', 'disist', 'tonguelashing', 'nobodynobody', 'sumn', \"waxin'\", 'youba', 'chalker', 'derulo', 'hatties', 'sawedoff', 'pentup', 'haheheh', 'jrj', \"posin'\", 'déjanté', 'biriyle', 'بهت', 'arkadaşım', 'gahhlee', 'eheheheh', \"enamora'o\", 'fourletter', \"'clusion\", 'welllit', 'odzyskuję', \"'bows\", 'lolololololololololololololololove', 'ماینرز', 'entonces', 'ysl', 'ccaught', 'dabbs', 'benét', 'jcmeson', 'αντιο', \"residin'\", 'irv', 'tesó', 'hеy', 'sustituirte', 'thicke', 'mеn', 'tooken', 'temblando', 'delle', 'llorar', 'quello', 'blondehaired', 'jeanpaul', 'fraeulein', 'noches', \"bitchin'\", 'activité', \"spittin'\", \"'f'\", 'pepepeter', 'toosie', 'kaya', 'cpr', 'getcha', 've', 'cataracs', 'funyuns', \"magnifyin'\", \"'ye\", 'bizi', 'блик', 'starships', \"complicatin'\", 'chubbateletubby', 'shiiit', 'renny', 'meantbut', 'doubletap', 'angelinas', 'mothefucker', 'jumanji', 'couldve', 'shitstained', 'goldish', 'visine', 'posty', 'holyfield', 'wwwhen', 'thethen', \"girls'll\", 'skratch', 'aiiight', \"eatin'\", 'indominus', 'estated', 'arichan', 'nanananana', 'redenbach', 'ffashion', 'bodak', 'freefalling', 'escapar', 'dookie', 'playdate', 'dělá', \"''merhaba\", 'anonoknows', 'eurgh', 'bball', 'thе', \"ev'i\", 'هایی', 'pcnty', 'camrys', 'canibus', 'offrirà', 'optimus', 'поводу', 'kuniva', 'lohner', 'mutherfucking', '4door', \"launchin'\", 'fekete', 'escenario', 'ebts', 'wwith', 'spiritalyou', \"wor'\", 'ohuh', 'prémisses', \"dismemberin'\", 'surprends', 'hadnt', 'wwhen', 'dinleyemem', 'προσπαθουν', 'youaim', 'pólóddal', 'walkingdead', \"s'quitter\", 'neego', \"cheap''\", 'currys', 'myranda', \"kids'll\", 'podporu', 'antonoff', 'reens', 'írva', 'neeba', 'راکس', 'kellett', \"'gether\", 'rémy', 'mehki', 'nebby', \"sneezin'\", 'lunchmoney', 'yeaaaah', 'رد', 'around_', \"'nd\", 'trumtrumtrum', 'что', 'horseses', 'mcees', 'volver', 'brioni', 'sweepyhead', \"strangers'\", 'radši', \"cheatin'\", 'głowie', 'barzini', \"i'mmanna\", 'marlbxoro', 'chittychatty', 'melhor', 'lethals', 'teď', 'whathype', 'دێم', 'puffpuff', 'kyla', \"'te\", 'drumline', 'dünyayı', 'oohho', 'olyanokat', \"drankin'\", 'میخوان', 'liryczny', 'brendon', 'hba', 'hollowtips', 'cooch', 'midy', \"pickin'\", \"'magic\", 'amandla', \"nonrappin'\", 'φως', 'bbbbang', 'حست', 'deadend', 'commin', 'قەحپە', 'neredeyse', 'lowoh', 'iohiohi', 'meee', \"postin'\", 'ترین', 'dddddddddd', 'stylo', 'mortis', 'mulah', 'bibibay', \"glistenin'\", \"poisonin'\", \"satan'll\", 'mah', 'veriyor', 'napaliću', 'yüzünden', '講相知', 'darrion', 'hisz', 'meksa', 'mondogatom', 'whwhen', 'toppy', \"lockin'\", 'hearttoheart', \"conscience'\", 'schnozzes', 'jcole', 'buttuh', 'entré', 'hasbeen', 'rem', 'doublefisted', 'dtiteann', 'بشینم', 'phatter', 'spinz', 'chinky', \"peepin'\", 'godsent', 'xacto', 'upput', 'sia', 'yeezy', 'manbun', 'cherryred', 'caicos', 'problemo', 'passiveaggression', 'sabría', 'ehh', 'michaels', 'rocka', 'logics', 'hangzik', 'ocupabas', 'ohiohiohiohi', \"jestin'\", 'تەماشای', \"brady'ego\", \"ditchin'\", 'offandon', 'promisе', 'گذشتهآره', 'currencys', \"crawlin'\", 'سەرئاو', \"igg'\", 'lcving', 'themdorney', 'fortytwo', 'makingofalegend', 'sixer', \"tittyfuckin'\", 'şu', 'jeśli', 'bhasker', 'capenese', \"pennin'\", \"preachin'\", 'yaki', \"jabbin'\", 'čí', 'toniiiiiight', \"wayne'\", 'judaaaaaass', 'std', 'victorias', 'tobacca', 'oakwood', \"reppin'\", \"told'em\", 'asswhooah', 'doesnt', 'rida', 'blankie', 'carin', 'flyed', 'nekfeu', 'misschien', \"waterin'\", 'wornout', 'nances', 'říká', 'brbring', 'pasar', \"fin'\", 'leakin', 'tongueincheekness', 'jibberish', 'gogo', 'strecth', 'tocar', \"misleadin'\", 'ironique', \"fairies'\", 'vermek', 'repurposed', 'yoou', \"roamin'\", 'olhos', 'telefonda', \"timbaland's\", \"gossipin'\", 'podnieś', 'thunk', 'minch', 'peur', 'knightley', 'گان', 'چیآره', \"buckin'\", 'woooah', 'fallar', \"byou're\", 'dessie', 'underprepared', 'bettergun', 'eyelidsaha', 'őket', 'aalright', 'میگم', 'kross', 'reevesten', 'colde', \"you'da\", 'rousey', 'panino', 'poptart', \"'cid\", 'voorhies', \"satisfyin'\", 'savaşacağım', 'goodfellas', 'playerhaters', 'suerte', 'ignoras', 'ayou', \"pic'\", 'بەڵام', 'animales', 'brеaking', 'rayshard', \"overdoin'\", \"90's\", 'zwrotka', \"moby's\", 'postmate', 'bleu', 'keeks', 'beamer', \"flossin'\", 'okurr', 'chapeando', 'yeaheaheah', 'ohhhhooohhhhoooo', 'última', 'narcisse', 'oww', 'bluffin', 'wassy', 'late6x', 'rawls', 'ряд', \"stuffin'\", 'onehundred', 'quica', 'babygirl', 'aki', 'ooooooooooooooooooh', 'anitta', 'kényelembe', 'lembrei', 'её', 'stillborns', 'steviewonderyouwillneverseethiseither', 'noir', \"chateau's\", '等待著整個世界都屬於我', 'hooah', 'seventythree', 'macadamian', '4d', \"hit'em\", 'yayyayyayya', 'bassjackers', 'youand', \"shuttin'\", \"skatin'\", 'lọ', 'podría', 'fingerlicking', 'fakest', \"gaspin'\", 'wi', 'اون', 'demdemdemdem', 'بۆسەر', 'vavavavanity', 'hacer', 'llmind', 'macavity', 'dalí', 'g6', \"'stan\", 'تاریک', 'xo', \"benihana's\", 'whyy', 'istiyorsan', 'gratiot', 'wе', 'keser', 'parar', 'freethrow', 'نزیکت', 'fuckas', 'aún', \"patrón's\", 'vrinnvrinnmotor', 'csapkodsz', 'pocko', \"'ish\", 'قراره', 'zantac', 'calma', 'mе', 'ستۆن', 'prix', 'nicotinepatch', 'proprio', 'arе', 'زخم', 'bana', \"a'bang\", 'smking', 'yu', 'covid', 'جای', \"might've\", 'eso', 'tempah', 'των', 'nflsoustředíme', 'coro', 'anders', 'laaaaaaaaammmmmmmmmmeeee', 'themba', 'onların', 'yout', 'swineee', 'kreis', 'bbobby', 'ahyeah', 'fearin', 'sisqó', 'درێژبێت', 'app', 'knowowow', 'uhuhuhuhuhuhuh', 'mmhmm', 'besando', 'backi', 'toothpain', 'enloquece', 'rigg', 'ronan', 'psychologic', 'mindtwist', 'hollygrove', 'solita', '00superman', 'razu', 'tiwa', 'satelite', 'yaptığı', 'voor', \"critics'll\", 'driiive', 'kellyanne', 'auquel', 'hmmhmmhmmhmm', 'strada', \"freakin'\", 'فک', \"irv's\", 'pernah', 'roskilde', \"'45\", 'fweeka', 'lissa', 'wishlish', 'fiftytwo', 'megtaláltam', 'fernández', 'gras', 'cookin', \"knockoffme's\", 'naruba', \"hass'\", 'derecha', 'uhyeah', \"winin'\", 'frontrow', 'kötü', 'pervasızca', 'peppersprayed', 'küfler', \"coladain'\", 'waterpark', 'bready', 'klla', 'espalda', \"dreamin'\", 'bilet', 'carrotcake', 'περίμενε', \"'do'\", 'laaaa', \"pinchin'\", 'espe', 'vma', 'lárgate', 'owwww', \"kriss'\", 'jeho', 'mybitch', 'leandra', 'pnb', \"sum'n\", 'unfadable', 'hopsins', \"'nead\", 'ruoy', 'еight', 'vivarin', 'degreenify', 'весь', \"profitin'\", 'pag', 'butterpecan', 'donalda', 'ekko', 'meapple', 'careyoke', 'gyűrűket', 'lazboy', 'večeras', \"botherin'\", 'oshkoshes', 'biditch', 'targaryen', 'postchours', 'hago', \"fightin'\", 'تصور', 'kisshisasscrack', 'jodemos', 'hornyand', \"'bove\", 'hoohoo', 'même', 'dio', 'قوی', 'rrrah', 'thatthat', 'hacemos', 'siht', 'oohoohoohoohoohoohoohoohoohooh', 'slowow', 'skina', 'tiene', \"whoever's\", 'tttime', 'finna', 'ringsooh', 'blblblblblblblb', 'nuevo', \"tan'\", \"interruptin'\", 'biliyor', 'cahahan', 'ika', 'fuckthis', 'hooahevery', 'powiedzenia', 'dresdenben', 'desafío', 'حرفای', 'technikailag', 'breaeeek', 'اطلاعات', 'ismim', \"enjoyin'\", \"fundin'\", 'fitz', 'fuckfuck', 'mexiko', \"movin'the\", 'passei', 'highlow', 'realo', \"intertwinin'\", 'percayalah', 'doux', 'drummond', 'zeigt', 'neverland', 'rogaine', 'jetpack', 'applauseplause', \"filmin'\", 'pootie', 'nene', 'solite', 'uppour', 'spottieottiedopaliscious', 'songsbopschunes', 'ابرها', 'diguise', 'mantrapped', 'prehook', 'tomayto', 'byyye', 'crep', 'bitchi', 'prechrous', 'bе', 'nosotros', 'plein', \"receivin'\", \"cumin'\", 'قاقای', 'системе', 'sorryinabox', 'capelloni', 'htowntown', 'trapstar', \"dreams'\", 'wellspoken', 'chaud', 'فقط', 'europeaugust', 'rara', 'minaj', 'ttouch', 'onika', 'szn', 'siklemeyeceğim', 'przepadałem', 'awww', 'spikerine', 'برینه', 'slitho', 'partyed', 'dabel', 'verano', 'safesafe', 'pookie', 'makeawish', \"wishin'\", 'whitehaven', \"liberation'\", 'απο', 'مثل', 'sheshesheshe', 'warnerchappell', 'hurtin', \"choppin'\", 'rel', \"retreatin'\", 'prometh', \"'pendent\", 'używam', 'grande', 'escuchado', 'uyuyor', \"sharin'\", 'هیچوقت', 'göre', 'børns', 'gelmeye', 'اینجا', 'jojo', \"wiggin'\", 'قبض', 'já', 'pharoahe', \"world'll\", \"'lujah\", 'kapatacağımı', 'کۆتایی', \"j'avais\", 'hehehe', 'worstdressed', 'dusze', 'valaminek', 'gotdam', 'boonk', 'nico', 'tbone', 'rozhodnout', 'ayy', 'blahnik', 'rysując', 'europeako', 'gv', 'jergens', 'mehr', 'scarlett', 'headtop', 'monta', 'beastmode', 'melee', \"waithe's\", 'sauron', 'mueve', \"swervin'\", 'refrén', 'wyprzedza', 'orospuları', 'ohohahh', 'ohohwhoa', 'forté', 'baaaaaack', 'fuckboy', 'в', 'batphone', 'hrdiny', '네', 'fasolatida', \"m'auras\", 'ridewhen', 'instores', 'mcadams', 'بەسە', \"thirstin'\", 'olvida', 'bobo', 'kisseth', 'jackboys', '抑えられない衝動', 'görüşürüz', 'μπορεί', 'wayyeah', 'herehereherehere', 'piensan', 'soflo', 'شیمان', 'کەس', \"cavin'\", 'fuckinga', 'automobills', 'px', \"birthin'\", 'fistfighting', 'mavado', 'bblades', 'rightlike', 'ballinger', 'fuego', \"fif'll\", 'chch', 'acreditar', 'eightynine', 'cilmi', 'πληγώσεις', 'utslay', \"halfsteppin'\", 'blanco', 'backstory', 'connais', 'الانم', 'stoneman', 'pappadeaux', 'heure', \"own's\", 'تلاش', '6carat', 'daghaidh', 'rawkus', 'papastay', 'supersiize', 'hq', 'shutup', 'detroitarea', 'بیدار', 'μας', 'mundial', \"lobbyin'\", 'memy', 'copperwood', 'manyeah', \"barfin'\", 'clooney', 'pourin', 'hellier', 'keşke', 'winehouse', 'пульс', 'comnig', 'fromunda', 'ohooohooh', 'rikers', 'ouuuu', 'stingaling', 'twirk', 'mindig', 'limiya', \"sco'\", 'κάνει', 'musique', 'ands', 'sanıyor', 'untake', 'iiiiohohoh', \"knockin'\", \"ma'fucker\", 'بکوژە', 'hendersonville', 'mymyy', 'drumdrum', 'ovamo', \"j'étais\", 'ilaçlarımızdan', 'raine', 'fous', 'sooo', 'greenlantern', 'rainshine', 'queenin', 'ini', \"chukwu'\", \"pi'erre\", 'llif', 'thirstay', 'uuuh', 'everythingeverything', 'chickachchchill', 'vatreno', 'loc', 'mindenki', 'ttossed', 'ئەمە', 'booyah', \"it'\", 'helly', 'toplarım', \"cos'hai\", 'tas', 'luđa', 'singlehandedly', 'pofán', 'ceilin', \"carryin'\", 'zenlike', 'punchend', 'yeaaaeeah', 'dozadu', 'alongsidenow', \"l'autre\", 'rrrh', 'onehere', 'besar', 'yellowishorange', \"overflowin'\", 'ellellelle', 'ignorování', 'hookrihanna', 'ohsoeasy', 'oasises', 'nananananananana', 'multiplatinum', 'haaan', 'haahahah', 'balmains', 'fearne', 'jakoś', '如果你覺得我很美', 'imaš', \"jammin'\", 'جون', 'wawanna', 'spect', 'deaded', 'تحقیق', 'ayymalone', 'keşfettim', 'wallahi', 'cardiae', 'το', \"helpin'\", \"paintballin'\", 'فهمید', 'propia', 'عادت', 'familie', \"'teen\", \"sippin's\", 'dışında', 'oohohoohoh', 'onetell', 'budzić', 'mamagaga', 'rrrrrroaw', 'mond', 'treach', 'fghhigher', 'olor', 'ummm', 'eejit', 'małe', \"survivin'\", '900msminaj', 'να', 'dropsdrastic', 'grâce', 'meses', 'domazz', 'owww', 'mmhmhm', 'چوار', 'meilleure', 'ko', 'drewsome', 'imaginarynot', 'muhfuckas', 'kendimi', 'spillin', 'emostions', 'atau', 'bbbody', 'oso', 'zuboomboom', \"somebody'd\", 'yellowygreen', 'kırdım', 'wishlist', 'slizzel', 'gingеr', 'judaas', 'finte', 'rosemont', 'prolly', 'rra', 'hablan', 'jansport', 'errores', 'еstow', 'ocasiocapo', 'nno', \"michael's\", 'دەبێ', 'tátongva', 'fim', 'niggasll', 'motorpoint', 'vraiment', 'becau', 'queda', 'ohnine', \"modelin'\", \"textin'\", \"performin'\", 'legsunidentified', 'felgyulladok', 'letlet', 'yaşarsan', 'genеs', 'fogsz', 'flavour', 'kiedyś', \"whippin'\", 'είχες', 'elsétálhattunk', 'jjjessica', 'noogie', 'ying', 'renée', 'drivebys', \"mannin'\", 'soleil', \"96'\", 'πορτόφολι', 'wooohohoh', 'moreore', 'oldtimey', 'lykke', 'válečný', \"'hardly'\", 'söylediğin', 'uoy', \"motherfuckers'\", \"yank'\", \"he've\", 'lehet', \"sonnin'\", \"'tán\", 'shmoe', 'گارنر', 'boogieoogieoogie', 'fudgepackers', 'intentar', 'alatt', 'anlaşmak', 'trigga', \"doin'\", 'stiffarm', 'maledriven', 'baybaybaybayuh', 'hgher', 'kamenů', 'stepsis', \"peggin'\", 'imprescindible', 'hhhhhell', 'bozar', 'mba', 'fourtosix', 'jealousi', 'hihi', 'oir', 'apagao', 'aiight', 'virgina', \"caressin'\", 'nula', 'brbribribribring', 'subterreanean', \"prob'\", 'thay', 'lalalalalalalalalala', 'کنه', \"trayvon's\", 'tylko', \"'cause'\", 'iku', 'sherran', \"motherfreakin'\", 'wriwriwriwri', 'rekcufrehtom', 'diliyorum', 'identidad', 'throop', 'ghrá', 'testaroasa', 'cevap', 'baskin', 'recieve', 'hamptons', 'anlatmaktan', 'cowell', 'nonhumble', 'spinks', \"keepa'\", 'spalding', 'moja', 'monsterererererer', 'kulağına', 'openingshutting', 'intenzioni', 'fadedfaded', '40s', 'aretha', \"'jects\", 'theon', 'bercé', 'biggs', 'metalongtheway', 'poso', 'kxng', 'hoeee', 'jumpman', 'شدنه', \"dj's\", \"dre'll\", 'phetamines', \"dddon't\", 'sido', 'twentysixyearold', 'ڕوبدات', 'fedup', 'quiere', 'muzik', 'kеpt', 'mía', 'ccandy', 'oohee', 'supe', 'fastidio', 'sağla', 'بعضی', 'dropsnumb', 'cryinchristopher', 'dided', \"haremo'\", 'changin', \"j'pourrais\", 'hardon', 'shedded', 'hayıt', 'kweeb', 'cococopy', 'ymcmb', 'δυσκολευομαστε', 'vibranium', 'aight', 'hitandrun', 'برگردونن', 'شەیدی', 'προσπαθουμε', 'یەکدی', 'gant', 'recognise', \"puttin'\", 'hmmmm', 'ακομή', \"pussyfootin'\", \"sho'\", 'taşşaklarım', 'hermano', \"hıçkıran'a\", 'illa', 'غذاهای', 'میام', 'inyourback', 'queste', \"siblin'\", 'diggity', 'temiz', 'maskoo', 'دووڕویانە', '是生還是死', 'négligée', 'bla', 'shrinkwrapped', 'atención', \"buddha'd\", 'oczywiste', 'nautica', 'radiooh', 'eurostep', 'kxxs', 'axel', 'toottoot', 'quella', 'lugar', 'disapear', \"snorin'\", 'wineo', 'disturbia', 'berryman', 'preocupo', 'ihh', 'periódico', \"'98\", 'rewhen', 'rott', 'killshot', 'darle', 'khalil', \"buggin'\", 'hookin', 'fai', \"'iatch\", \"streamin'\", 'هێنابوو', 'estoy', 'aitana', 'machetteif', \"tutt'altro\", \"addressin'\", 'shoodoodoodumdoo', 'wnew', 'winans', \"lexus'\", 'еxpect', 'oohwoah', 'rerock', 'badonkadonk', 'ئەوان', 'دو', 'fide', 'craftmatic', 'ausserkontrolle', 'années', 'limotinted', \"clinkin'\", '寶貝', 'gratefu', 'pernell', 'daddys', 'talkand', 'goodback', 'cityscapes', 'scammer', 'tettem', 'mcdonalds', 'rockabye', 'vato', 'öğretmem', 'keyshia', 'girbaud', 'μεσα', 'calmaneur', 'düşünmüyorum', 'ooooooooh', 'ju', \"severin'\", 'camaro', 'jamma', 'meglátom', 'simz', 'pretendin', 'lipgloss', 'backeven', 'ngozi', 'οποιο', 'thethese', 'reír', 'copout', 'ign', 'exfan', 'jedną', 'whowhowhowho', 'outhustle', 'freezin', 'oooff', 'prebreak', 'letadla', 'ifif', \"went's\", 'پاچه', 'llet', 'teasin', 'cucaracha', 'mywhere', 'dwyane', 'ithought', 'penali', 'triumphent', 'projects996infinite', 'crunk', 'taya', 'doy', 'kolczasty', \"n'sync\", 'skitbackground', 'سیاه', 'vuittons', 'cubana', 'aleves', 'uhuhuhi', 'بدون', \"deceivin'\", 'خۆتان', 'doodooroorooroo', \"tweaking'\", 'místo', \"searchin'\", 'dohicky', 'tomber', 'havaya', 'dissin', 'badu', 'spoile', 'mawingu', 'polos', 'dingen', 'devrais', \"m6's\", 'donenails', 'hhalfway', 'justo', 'hearsee', 'bumstickitybum', 'basehead', 'خورد', 'نهما', 'ortizrivera', 'etc', 'moviéndome', 'melman', \"wit'\", 'şarkıyı', 'nemáš', 'tnt', 'malachai', 'restaraunt', \"beyonce'\", \"repo'd\", 'kıracak', 'caiyan', 'еxpecting', 'etkiliyor', 'rippedoff', \"could've\", 'hooooooooo', 'ищешь', 'tonguetied', 'demeyi', 'sunray', \"dad'\", 'hayatlar', 'thirstin', 'achingchongchongchongching', 'blinging', 'چید', 'cyatties', 'dinklage', \"t'es\", 'seh', 'machuga', \"'i'm\", 'jelen', 'frenchises', 'testet', \"overachievin'\", 'hoodtarz', 'birinden', 'nadhouse', 'raccroche', 'enchantée', 'caímos', 'aeroplane', 'mewhich', 'söylüyor', 'bimi', 'elen', 'mewant', 'diré', \"children's\", \"handin'\", 'clairo', 'neverwas', \"reminiscin'\", 'iiiiiiiiihiii', \"meltin'\", 'sigo', \"spotifyin'\", 'zamiast', 'végre', 'flatlines', 'obamovi', 'capitan', 'eheh', 'chacha', 'jelenléted', 'смотри', 'دەبێت', 'tingalingaling', 'tpizzle', 'isorry', 'anand', \"writin'\", 'rocinante', 'sny', 'drinkawineand', 'تاریخ', 'flatline', 'babadoms', 'amel', 'shovenest', 'giddyup', 'davul', \"showin'\", 'frenchys', 'oohahh', 'svého', \"'bron\", 'wah', 'bbbbye', 'thereyou', 'solamente', \"noddin'\", 'shehulk', 'ith', 'happeniing', 'ayobi', 'enfadas', 'hiho', 'máme', 'circumflexion', 'diriku', 'navíc', 'pleno', \"keke's\", 'kemiğinide', 'gezellig', 'اسمش', 'bumass', 'blap', 'xx', 'hipokrytów', 'doubleaught', 'ozzy', 'korupci', \"unitin'\", 'rosszkedvű', 'capi', \"treatin'\", 'headrush', 'mij', 'bbbeing', 'ناتوانم', 'swineahyaihihih', '___s', '8x', 'sandcastlespart', 'égbe', 'morewe', 'punchdrunk', 'dealin', \"chompin'\", 'goodhouse', \"whoopin'\", \"ho'in\", 'timberlake', 'boppas', 'فکر', '숨기려고', 'pornstar', 'salame', 'ahí', 'hcg', \"'cccause\", 'umarım', \"'rarri\", 'songblank', \"withdrawin'\", 'ahha', 'drcgs', 'kittenkaboodle', 'nací', \"daddy'll\", 'это', \"overdosin'\", 'luar', 'trenchcoat', 'nyte', 'harcos', 'ڕوبەڕووی', 'toccara', 'lessonsmusic', 'تیم', 'hree6ix5ive', 'twentyone', \"tech'em\", 'sexo', \"buryin'\", \"nick'i\", 'puttin', 'cils', 'dadadoodootn', 'райдер', 'woodwoodwoodwoodwoooood', \"maxin'\", 'grandview', 'iiiiii', 'tábornokunk', 'vzdát', \"pop'\", 'biggy', 'waitin', '닫고', \"any's\", \"'quille\", 'youngyoung', 'موقعیت', 'سلاخی', 'pimms', 'hemşire', 'souououououl', 'ehehehehendlessly', 'süngü', \"'round\", 'latifah', 'ertert', 'taptap', 'déposer', \"''i\", 'dilla', 'baseses', 'takebacks', 'sekarang', 'henny', \"smackin'\", 'کیز', 'bombest', 'fortysome', \"ricochetin'\", '69گوش', \"complainin'\", 'membuatku', \"ghostwritin'\", 'thatt', 'accroc', 'nemůžeš', 'زانوشو', 'száma', 'dierks', \"j'ressens\", '你能透視的目光', 'tttaste', '9th', 'sremmlife', 'oceania0908', 'conciertos', 'heinekens', \"k9's\", 'yahooohhh', 'brrrat', 'oceanianovember', \"featurin'\", 'plais', 'rundmc', 'mmmhmm', 'dużo', 'bd', 'friеnd', 'chukwu', 'reny', 'emzy', 'specialise', 'pssh', 'dermot', \"playa'\", 'nochmal', 'więcej', 'hort', 'phillipe', 'užívat', 'dansı', 'málaga', 'kabillion', 'toooo', \"'lamb\", 'showow', 'lessonscut', 'یدامێ', 'baggett', 'شما', 'zeed', 'dadun', 'skinover', 'wściekłość', 'eieieiei', 'میلیۆن', 'threemonth', 'hana', 'cnote', 'oğlanlara', \"ya'll\", 'nigganerve', 'encontrarme', 'daño', 'snoh', 'nejsi', 'enzos', \"exposin'\", 'dormire', 'backmasked', 'bonsoir', \"ja's\", 'fuhuhuck', 'freiheit', 'هەزەلیە', 'détendre', 'witcher', 'ohnonono', 'bbblow', 'twelveyearold', 'inchext', 'sneakapeek', 'conin', 'داری', 'savin', 'vwwhy', 'muny', \"you's'\", 'tp', 'shadymania', \"blendin'\", \"dre's\", 'nienawidzę', 'beyoncé', 'ohhoo', 'deux', 'joc', 'weinstein', 'kurupt', \"rott'\", 'gause', 'plcce', \"dolla'\", \"wipin'\", 'elbisenin', 'regiert', 'bestie', \"vvs's\", \"scorchin'\", 'overthinking', 'oohoohoohoohooh', 'aloohohone', 'gogoing', 'chеst', 'mamamama', \"suttin'\", 'ke', \"iit's\", 'uzo', 'voteorg', \"rrunnin'\", 'threefour', 'خطاب', 'powiedzieli', 'dostać', 'tierod', 'هستمآرهووسر', 'yеah', 'kagome', 'delorean', 'bltses', 'halle', 'yeeeeeah', 'dillingers', 'welb', 'dinero', 'پنکیک', 'breakdance', 'nottz', 'teamplaying', 'poopookaka', 'هاندەران', 'ڕێگا', 'sanó', 'oohhh', 'tapi', \"'94\", \"'ta\", \"plottin'\", 'میدم', 'دورمآره', 'mutombo', 'fourwheeler', 'brujas', 'mcnew', 'peachtree', 'sippy', 'selfsabotage', \"treadin'\", 'rothy', 'powiedziano', 'belsoğukluğu', 'cafe', 'trumpa', 'bhéalín', \"storin'\", 'deh', 'buyin', 'graspin', 'das', 'vi', 'tuo', 'chkchkword', 'milehigh', 'którą', 'mám', 'beatch', 'لاینر', 'bejust', 'africanamerican', 'frankensteined', 'timmins', 'aaliyahı', 'speaketh', 'gówno', 'istediğin', 'آره', 'liu', 'bboom', \"provin'\", 'grabbin', 'shee', \"'gnac\", 'onsite', 'gdamn', 'sss', 'junko', \"o'donis\", \"iii'm\", 'ekstra', \"datin'\", \"anythin'\", 'trixie', 'thеy', 'bakın', 'οτι', 'pudo', 'firey', 'queef', \"rapin'\", 'ww', 'copiana', 'ingerült', 'vendettata', \"darlin'\", 'hoooo', 'everytime', \"''it's\", 'تیکه', 'helyezzem', 'mě', \"''talk\", 'vespas', 'sıkmam', \"jodeci's\", 'repping', 'tys', 'هیولا', 'thereyeah', 'motohead', 'promessa', 'lifeee', 'asuntos', 'berkant', 'apathyint', 'mamamaterial', 'dres', 'bomboclaats', 'unfunk', 'nowcan', 'ماوەیەکی', 'diznick', 'tapout', 'dengem', 'heheheh', 'zastavte', \"perc'\", \"flarin'\", 'aklına', 'jabbar', 'nra', 'howevermanyiputonhere', \"nurse'\", 'veterán', 'féin', 'ballsack', 'dutches', 'nutbag', 'pont', 'seulement', \"conectao'\", 'estrella', 'rosé', 'miley', 'sli', 'dadadum', 'taebo', 'koule', 'tov', \"pills'll\", 'emzirirken', 'upsay', 'abychom', 'vanglorious', 'philando', 'mada', 'ladidadi', 'seré', 'gromitt', 'wonka', 'döndüm', 'ruger', 'cigam', 'grindin', 'quadra', 'unfollow', 'glisin', 'ezeket', 'knowoh', 'sak', 'sе', 'ciudad', 'voy', 'geldiğiniz', 'اسلیم', 'thatsweepstakes', 'dododododododo', 'smcking', 'کوول', 'windsay', 'cavewomen', 'greazy', \"they'da\", 'nerede', 'viaggi', 'convay', \"witnessin'\", 'buglars', 'canción', 'nananananananananana', 'bulletriddled', 'افزایش', 'pez', 'pół', 'funnymoney', \"mic'\", 'tímhle', 'miłość', 'stormz', 'mondanád', 'cheatwhy', 'moetter', 'topright', 'seatererer', 'گفته', 'badipsa', 'bilinguist', 'tutkal', 'sah', 'siliyorum', \"5'9\", 'póki', \"congregatin'\", 'yeaheah', \"lelelet's\", 'wwwaves', 'گرفته', \"kamp's\", 'andor', '都與我們的未來無關', 'házet', 'aquilo', 'buttnaked', 'chkk', 'attacktacktacking', 'woop', 'giornata', 'tailormade', 'по', 'shanell', 'manny', 'guegueguegueguess', 'hardons', 'poxy', 'scissorhands', 'yayyayyayyayya', 'beaucoup', \"revivin'\", \"yearfuckin'\", 'dziewięćdziesięciu', 'η', 'buio', 'ئێمە', \"frenchy's\", '감정을', 'micmicmicmicrophone', 'yyyyou', 'stickety', 'بکەیت', 'لێبدە', 'cudi', 'mio', 'cheech', 'komiczne', 'dolo', 'tadas', 'assbackwards', 'veliki', 'sientes', 'janejane', 'لماذا', \"polyps'll\", 'poziomie', \"i'dliehere\", 'partynauses', 'pac', 'roxette', 'dasani', 'wwworth', 'fenchurch', 'homex', 'hine', 'epills', 'βραδυαζει', 'ars', 'redeye', 'احیا', 'blitzen', 'temetésedre', 'comprender', 'stoner', 'occhi', 'instagramstancrew_', 'geçtim', 'ménages', 'edgeee', 'nahnahnahnahnah', \"hacemo'\", 'jetzt', 'liiiiife', 'dirtyass', \"misbehavin'\", 'gotgot', 'agradecidos', 'ayrılır', 'nooooo', 'rucker', 'ej', 'atinlay', 'bottomleft', 'دارم', 'tecavüz', 'ڕقم', 'peyton', 'satmak', 'fuhrman', \"'lü\", 'twistedass', 'inem', \"f'ed\", 'baboomboom', 'utat', 'bvlgari', 'dusseldorf', 'stainbitch', \"skank's\", 'amante', 'cuello', 'pisztoly', 'tapdancing', 'компот', 'astros', 'želim', 'sickaz', 'duine', 'thuuug', 'gitano', \"qu'on\", 'minzo', 'bisquit', \"'no'\", 'outcha', 'توی', 'aringaling', 'pacman', 'haddaway', 'már', 'جوری', 'chemlelelenemiahnufniah', 'soooooh', 'oddali', 'bebek', 'buscaré', 'yana', 'attackin', \"ed'\", 'cztery', 'weet', 'mansplained', 'vuoi', \"d'angelo\", '0berzerk', 'túlteszem', 'هەیلی', 'isyou', 'dollardollar', 'lexapro', 'آرزوشه', 'tooplus', 'biggz', 'cholo', 'söyle', 'mmine', 'yeahh', 'mentals', 'runitniggafast', 'dododo', \"zach's\", 'parlezvous', 'vamanos', 'amigable', 'cosas', 'wayoh', '像咒語玩意', 'kahlo', 'számára', 'spacetime', 'blahblahblah', 'هم', 'onunla', 'kkind', 'hayley', 'europejune', 'llc', 'asalamalakum', '00without', 'aall', 'gyaldem', 'mccauley', 'lakim', 'pomprrrum', 'uzmi', 'murdermurder', 'söyledim', 'motha', 'drummound', \"shiteatin'\", 'brrt', 'twoliter', 'totales', \"warnin'\", 'leanann', 'jers', 'dondada', 'bufords', \"o'donnell's\", 'lightbody', 'allons', \"hun'\", 'ennyi', '可惜親吻你', \"downplayin'\", 'maakt', 'hoodcelebrityy', 'piensas', 'immer', 'giohrl', 'motorsport', 'shizzel', 'geriye', 'trop', 'oonika', 'bby', 'flirtin', 'contigo', 'overnighters', 'kranium', 'fuckedother', 'juvie', 'highgrade', 'pronunciate', 'معنی', 'gcrden', 'gardеn', 'πληγώνουν', 'futhi', 'funkbeyonce', 'chingchingching', 'mmmmmmmmm', 'bootay', \"rape'\", \"rappin'\", 'baja', 'gusten', 'szemét', 'arie', 'stairlift', \"freezin'\", 'hallhatod', 'bırakmak', 'grimpé', 'دەکاتەوە', 'girlcleancut', 'wewe', 'desi', 'threehundredfifty', 'dodododo', 'midjuly', 'talеrze', 'sigue', 'barshall', 'hadid', 'larnell', 'thatll', \"chewin'\", \"mashin'\", 'ththrow', 'selfaware', 'errday', 'gracias', 'beakartad', \"worshippin'\", 'maliah', \"naunie's\", 'bokun', 'feketék', 'vete', 'ohhoh', 'samé', 'ita', 'wellaware', 'crosseyed', 'needa', \"don'tchu\", 'collabo', 'jjjust', 'lеarn', 'controlar', 'indiaarie', 'sonmai', 'procent', 'bicoastal', 'palewait', 'yamalak', 'niggas', 'ahaaaah', 'mmommy', \"'otuto\", 'audemars', 'divorceses', 'nathen', 'izin', 'hiyaah', 'escapa', 'acaríciame', 'bocsillo', 'jne', 'بزنین', 'blowed', \"riggin'\", 'لەسەر', 'zbyt', \"flashin'\", 'masa', 'παντα', 'iyanla', 'mildrid', 'wanye', 'anyday', 'işte', 'جەیزی', \"scrollin'\", \"shufflin'\", 'muthafucking', 'llamaba', 'dopeboy', 'yellin', 'suis', 'compris', 'decir', 'söylüyorsun', 'shouldve', 'pişirmeyi', 'morningside', 'playlist', 'tayla', 'ahh', 'tightlyworn', 'geliyorsun', 'boğabilecek', 'macklemore', 'quequeen', 'gstring', 'rahhh', \"blastin'\", 'eam', 'thugger', 'блть', 'مشروبات', 'pumpum', 'dropsfirecracker', \"minaj's\", 'ladainian', 'fordeverlast', 'agyness', \"whatever's\", 'clickin', 'stargate', 'z9', \"münchausen's\", 'shaha', 'درستو', 'forps', 'ladyya', 'starchild', 'ná', 'screenshots', 'cookwear', 'byłem', 'liqour', 'sada', 'yeahyeahyeah', 'ohnananana', 'ahahahahahah', 'shcdow', 'xyyou', 'não', 'bbeat', 'ext', 'zod', 'tebe', 'která', 'kardashian', 'αν', 'czekam', 'buzzin', 'guessin', \"relaxin'\", 'سقوط', 'منداڵە', 'frooby', 'incidentials', \"de'angelo\", 'всех', 'espero', 'oohoohoohohoohoohoh', 'хочешь', 'olúwa', 'raaaaaaggggedy', 'ibaka', 'úřadě', \"atown's\", \"roundtrippin'\", 'jäger', 'queria', 'yeha', 'trini', 'snowpants', \"hatchin'\", 'dropstake', \"rollie's\", 'canyou', 'nuhuh', 'yosb', 'awoah', 'kurevsky', 'pitfield', 'shhhh', 'vídeos', 'caddal', 'csinálom', 'doble', 'سیاره', 'swole', 'marshalls', \"wifin'\", 'brisé', \"hurlin'\", 'voltunk', 'desse', 'pacqui', 'rüyalarında', 'onu', 'fivefinger', 'aldığı', 'francaaaa', 'prob', 'گرینۆکێکم', 'silverscreen', 'jikelele', 'tika', 'porshes', 'منم', 'مخاطبش', 'ladadeeladadada', 'snaží', 'pppress', \"miniyou's\", 'сроков', 'philpot', 'twentysix', 'dígame', 'bitties', 'miqht', 'kızdırıyor', 'mmmore', 'milli', \"know'\", 'doooh', 'válečným', 'mwah', 'hassadiddy', \"quizno's\", '70s', '把我推向那雙如海洋般藍色的眼', 'bbbbet', 'charla', 'kikikikikiki', 'ferg', 'gajas', 'dovrei', 'ock', 'contemplatin', 'noseplugs', \"represent's\", 'آب', 'szabadon', 'benteley', 'ikramiye', 'duffle', \"em'\", 'tüm', 'bajo', 'kediyle', 'chllin', \"ppprocessin'\", 'mencintai', 'glizzy', 'bullseye', 'ick', 'thigpen', \"flauntin'\", 'üresen', 'foglalom', 'shootin', 'icey', 'vrille', 'بووم', 'tohle', \"bigger's\", 'lograr', 'ouhoh', 'huto', 'atrapa', 'expresser', 'leftpanning', 'vvs', 'clb', 'eyewear', 'deathmatch', 'crabit', 'touchin', 'fourty', 'sentimento', 'fastpaced', \"jackin'\", 'weighin', \"c'mon\", 'κρατησεις', 'eazye', \"di'que\", 'bıçaklar', 'henney', 'hei', 'blaka', 'rentfree', 'feening', 'sheika', \"beiber's\", 'geeked', 'hee', \"bowlin'\", 'aaaghh', \"submittin'\", 'meds', 'بۆ', \"lil'\", \"m'ainm\", \"icin'\", \"punk'll\", 'muitas', \"pimpin'\", 'beaky', 'michie', 'taj', 'pthug', 'ganstera', 'spitshine', \"try'\", 'dougie', 'quintana', 'başlamak', 'pearce', 'zapp', 'buzzarre', 'weathergirl', \"bussin'\", 'iovine', 'oohmymymy', 'dejo', \"seh'\", 'ov', 'brokеn', 'zamordowany', 'hussaine', \"yawnin'\", \"bitches'll\", \"livin'\", 'flickflick', 'wundaland', 'waynebusta', 'retrosexual', 'ruiner', 'не', 'togetherthis', 'harajuku', 'fahişe', 'eightbytens', 'liiiiberateeh', 'popstar', 'vágjak', 'doublecheek', 'sobre', 'kyrie', 'koolaid', \"hol'\", 'mockaveli', 'jiggajijust', 'pořádných', 'jeopardation', 'vão', 'еh', 'purty', 'capisse', 'φορα', 'peaguts', 'kendji', \"worth'\", 'asskicking', 'excita', 'beezy', \"'cool\", '我喜歡他們同時', 'siz', \"niall's\", 'boldoge', \"''hold\", \"supplyin'\", 'pizzle', 'اینجوری', 'scottrade', 'linkin', \"ridin'ridin'\", 'gloray', 'ohahohah', \"'gon\", 'iyinkinga', 'promets', '一目で招く', 'gouttes', \"blessin's\", 'rearending', 'jungs', 'fantasise', \"panickin'\", 'starburst', 'looooooooong', 'palavras', 'jammies', 'rupaul', 'ladykiller', 'puerta', 'خدافظ', 'susustaining', 'شستچی', \"'nuff\", 'tok', 'streetdown', 'dumpin', 'hastalık', 'differentferentferentferent', 'blud', 'nepřestane', 'mmmake', 'yastıklar', 'unkickable', 'ئینتڕۆ', 'traw', 'magamat', 'dé', 'struttin', \"curá'\", 'auscanbe', 'assalaamalaikum', 'ooooohuuu', 'violencecomplete', 'codenames', 'eyelevel', 'iiiim', 'پاهامتعجب', 'kızın', 'getlovequickschemes', 'popsomefuckingchampagneinthetub', 'rightwing', 'zase', 'preconcieved', 'otra', \"visitin'\", 'lookup', 'vickory', 'kapetan', 'tiffani', 'بڵاو', 'goverment', 'gerek', 'legalább', 'guiseppe', 'knicks', 'doublecup', 'czego', 'vehetsz', 'wooaah', \"'less\", 'demeanour', 'رکاب', \"bridgin'\", 'akartak', \"'cuse\", 'vient', \"won'\", \"leavin'\", 'slomo', 'cubba', \"thinnin'\", 'boku', 'treo', 'fiveo', 'onlarla', 'بیتی', 'wata', 'peux', 'bağlamadım', 'redshirted', \"denaun's\", 'agriculturals', 'oneyear', 'vle', 'grl', 'vaaaaaaliummmm', 'policz', 'sechzehn', 'zeit', 'fogtam', \"depressin'\", 'çekilişi', 'realtime', \"beside's\", \"cc'd\", 'وقت', 'decisión', 'waddup', 'bfhéidir', 'knockknock', 'توش', 'conecsa', 'böl', 'dadadadada', 'ndamukong', 'muhfuckin', 'youpull', 'mistakefree', 'yemaya', \"gallenson's\", 'prospekt', 'ебал', 'hoho', \"shakin'\", 'badbitch', 'blеssed', 'sparxxx', 'rockabybaby', 'keds', 'doorbrengen', 'eighteenmonthold', 'summertiiime', 'rolledup', 'problemrun', 'قسم', 'thethethe', 'metell', 'fenkell', \"pumpin'\", 'قورس', 'olmasını', 'vybz', 'buel', 'cama', \"sellin'\", 'breathin', 'sa', 'uhuhhey', 'whoaooh', 'jetsetta', 'twentythree', 'oinkoinkoink', \"emptyin'\", 'chkachkaonyx', 'kicsit', 'پێش', 'daaamn', 'pokaži', 'hehe', 'eever', 'villanova', 'airconditioning', 'pepto', 'seri', 'sned', 'بازیو', 'fasz', 'champxne', 'devlin', 'llewinsky', \"what'd\", 'jumpshot', 'freekaleak', 'haza', \"m'sortait\", 'mothafuckin', 'hasnt', \"closin'\", '더는', \"colorin'\", 'dialadis', 'ataques', 'nighters', \"rushin'\", 'hoodrat', \"chewbaca's\", 'negligar', 'bluzunun', \"continuin'\", 'üçlü', 'ragazzo', \"our's\", 'aristo', \"soppin'\", 'lightskin', 'deniro', 'radiowej', 'hunnit', 'tylenols', 'neanche', 'yyu', 'lalala', 'gitmemi', \"mariah's\", 'rrrrrrroaw', 'mindstate', 'kimora', \"'cuz'\", 'حتی', \"soakin'\", 'brewski', \"wan't\", 'lp460', 'mentre', 'grrratatatata', 'sheek', \"haulin'\", 'stungun', 'bagaimana', 'gregor', 'tattattat', 'cherrycherrycherry', 'yeahyeahyeahyeah', 'tickno', 'timeif', 'nobodys', 'specialer', 'luni', 'sini', \"mays's\", 'noreaga', 'chkit', 'اره', 'boğazını', 'jp', 'kemba', 'danaa', 'slo', \"cause'\", 'cctv', 'flesheating', 'siyabona', 'muriendo', 'viv', 'bently', 'leve', 'blanka', 'grandbabies', 'değiş', 'thizz', 'برگردم', 'kaching', 'eardrummers', '5η', 'clearport', 'baises', '50cent', 'faoin', 'zamanı', 'fightin', 'shadia', \"d'attendre\", 'sonned', 'glowstick', 'bunda', 'mindboggle', 'tch', 'esrar', \"sparkin'\", 'aguanto', 'باید', \"behavin'\", 'wetty', 'genießen', 'ماینرزگروه', 'wes', 'ıkı', 'oneone', 'اشتباه', \"groundbreakin'\", 'asalaamalaikum', 'darkdarkdarkdark', 'ciara', 'ندارن', 'podcastlerine', 'natheniel', \"'ca'ca'ca'ca'ca'cause\", 'needin', 'mcconnells', 'kdy', 'kekeep', \"cherryi'm\", 'mxnicure', 'tijd', 'هامو', 'düşünüyor', 'hgkmo', 'cum', 'champtown', 'zihinlerimizden', \"unsettlin'\", 'bizzare', 'pieprzenie', 'kırk', 'headturning', \"thumbin'\", 'своих', 'veut', \"i'on\", 'mannie', 'pasa', 'plat', 'changó', 'yoksa', 'chours', \"stereotypin'\", 'dmv', 'pipty', 'killest', 'pissydrunk', 'ddown', \"mayweather's\", \"spewin'\", 'badababadabada', 'بەردەوام', 'dipset', \"'least\", 'تخفیف', 'yamazaki', '恨自己一邊愛一邊忍受', 'chample', 'nooma', 'froid', \"measurin'\", \"'hood\", 'قبلیت', 'clashings', 'tugofwar', 'límites', 'vnecks', 'rocafella', 'overproof', 'babyreah', 'wifin', 'pienso', 'balanceo', 'jonbenét', 'دانلدترایوونو', 'empieza', 'macknupid', \"bitch'\", 'motherfuckin', 'moneyoverbitches', 'sikimi', 'iin', 'thotthot', \"o'pry\", 'harderbreathin', 'gq', 'avi', 'effall', 'timmed', 'fuera', \"fans'\", 'resmi', 'swiftondemand', 'kutzle', 'aap', 'evig', 'slipslide', 'gooding', 'cirkel', 'gli', 'muyum', 'cheapass', 'coldplay', 'čekání', 'gaspin', 'whut', 'zaga', 'grandes', 'mouseketeers', 'těch', 'fakt', 'nellaf', 'paddywagon', 'tatuajes', 'paddywhack', 'muhfucking', 'beynini', 'nbc', 'arcom', 'ghrisam', 'anywhеre', 'norbit', 'alkaseltzer', 'siro', 'yidder', 'любому', 'youyouyouyou', 'idimoni', \"biddin'\", '我不是在做夢', 'donc', 'dropsfuckin', 'hagyott', 'simpatizar', 'ck', 'itt', 'błagam', 'mégane', \"mean'\", 'supercalafragilisticexpealidocious', 'ئازار', 'klar', \"skippin'\", 'imba', 'cocaina', 'saltfish', '視你如偶像', \"gefahr'n\", 'ayaklarını', 'mims', 'dzieje', 'tubetop', 'hamtramck', 'büyük', 'chcheck', \"stuntin'\", 'maradonna', 'exel', 'hátat', 'daja', 'orospular', 'slurpees', 'kayraktan', \"frostin'\", 'seis', 'culliton', 'fizzench', 'کلمه', 'губы', 'kungfu', 'travi', 'daću', 'knknkneel', \"ii'm\", 'eyo', 'zárověň', 'daenerys', 'annemin', 'luego', '808s', 'اگه', '相好那麼短', 'faceplants', 'smithele', 'gurl', 'trix', 'kaniff', 'anbesol', 'fatherandson', \"strokin'\", \"swingin'\", 'kookay', 'میدن', 'escrito', 'bbw', 'playas', \"hattenin'\", 'blowblow', 'smidoke', 'holton', 'beastie', 'alá', 'برگردوند', 'rеmodeled', 'imposible', \"j'écarterai\", 'northsouth', 'destinys', \"y'allselves\", 'خودمو', 'molliwopped', 'коржа', 'quatsch', 'تۆیە', 'itfs', 'cliffside', \"dryin'\", 'kkc', 'μια', 'lativia', 'peki', \"'gators\", 'worldworldworld', 'jager', \"startin's\", 'twitteru', 'kiyoko', 'lannisters', 'heartdelicate', 'typeo', 'kırgın', 'boğamayacağımı', \"mclovin'\", 'witam', 'youd', 'dogfall', 'stüdyoda', 'selfpromoters', 'husher', 'xcx', 'sidebloodline', 'yazıyorum', 'söze', 'obserde', 'cabxret', 'vieler', 'frente', 'thеn', 'مرگ', 'significa', 'tеst', \"jigga's\", \"'taba\", \"adat's\", 'foolness', 'pornstars', 'شدن', 'halim', 'geçiricem', 'snottynose', 'oow', 'mamamad', 'kapri', 'ginóbili', 'faceneckhand', 'bumpa', 'hipsyou', 'tryin', 'shade45', 'oti', 'partir', \"bet'cha\", 'delala', 'att', 'ضربه', \"gleamin'\", 'sshh', 'reformě', \"minaji'm\", 'dizlerini', 'ڕەشەبادا', 'blblblblblb', 'eightzerozero', \"t'aime\", 'qerim', 'goesit', 'badum', 'vothe', 'هێندەی', \"spinnin'\", 'ddont', 'flyest', 'noro', 'desistir', 'starsky', 'beatdowns', 'cuffer', 'rábukkanni', 'dadadababadabada', 'evde', 'monstars', 'butthurt', 'fx', '해도', \"settlin'\", 'ahhahh', \"l'argent\", 'nba', 'boydem', \"44's\", 'timewe', 'с', \"gaybashin'\", 'hiddenpaw', 'dura', \"a'int\", 'beastiality', 'mereda', \"flow'll\", 'thaiweed', 'momče', 'chromazz', 'latinamerican', 'scratchandwin', 'hace', 'nás', 'peut', 'rodillas', 'derpa', \"rhymin'\", 'g5همون', 'countryass', \"overthinkin'\", 'hermansen', 'embereket', 'çıplak', 'wuchoo', 'damplified', 'posición', 'dat', 'melalui', 'creía', \"unravelin'\", 'gm', 'letourneau', 'toujours', 'keester', 'riaf', 'atan', 'hadouken', 'fulills', 'ronaldo', 'chyba', 'bağırırken', 'صحبت', 'autorze', 'toliver', 'sarı', \"savin'\", 'lonsdale', 'capiche', 'sikik', 'nizzle', 'همین', \"water'\", 'makе', 'appé', 'rapapampampampampampam', \"dehydratin'\", 'içiçi', 'oooohhh', 'jett', 'leadtam', \"loving'\", 'есть', 'rasputia', 'frontin', 'oooooooooooooo', 'quand', 'γνωριζεις', \"failin'\", 'caca', \"drinking's\", 'دیس', 'balalalalalalalalalala', \"yodellin'\", \"earthshatterin'\", 'ناحەزانیش', 'new6x', 'runrunrun', 'داره', 'prives', 'whoadie', 'چیهبه', 'porteñas', 'mı', \"bent'\", 'ohahahahah', 'dumdadeda', \"halt'\", 'zpátky', 'drame', 'ists', 'ostatnim', 'morissette', 'hiltons', 'harhard', \"'cise\", 'lewinskyed', 'oompaloompa', 'texting', \"muh'fuckas\", \"poppin'\", 'paintballs', 'بذارugh', 'halfcock', 'pinscher', 'bağırsaklar', 'πρώτη', 'thembi', 'iráku', 'mebaby', 'kell', 'tomtoms', 'apa', 'lifealtering', 'محنت', 'smokin', 'myon', 'anomhm', 'triplewhite', 'teh', \"bih'\", 'wowzers', 'radi', 'nonhigh', 'sellin', 'この国の宝と並ぶほど', 'nightynighty', 'goulding', \"caretakin'\", 'umursamıyoruz', 'halfassed', 'sor', 'singles988', 'krills', \"levitatin'\", 'дать', \"don'tgiveafuck\", 'apb', 'heute', 'oohwee', 'kardashians', 'florecen', 'killin', 'mikill', 'mérget', \"sickenin'\", 'littles', 'simones', 'mahalo', \"od'in'\", \"vamo'\", 'alaina', 'برگردونن_', 'allnighter', 'billups', 'ronto', '看著他們倒下來', 'holyfeel', 'lovestricken', 'curiouspause', 'sonradan', 'grillie', 'shinoda', 'i95', 'redbottoms', 'cartiers', 'stinka', 'doute', 'и', 'tremendo', 'shshshow', 'prekane', 'chechechechecherry', 'tiedso', 'rrrrrrrrrrrrrrrrr', \"approachin'\", 'لێرە', 'cockadoodledoo', 'waan', 'sealey', \"trackin'\", 'пососусь', 'santo', 'zbaví', 'ncbraska', 'handies', \"roughin'\", 'jacksons', \"sentences'll\", 'ζωντανος', 'чтобы', 'milikku', 'lhuna', \"hafuckin'ha\", 'inlove', 'groundbreakin', 'se7400', 'mogwai', 'expressar', 'kakunk', 'öz', \"c'mere\", \"'76\", \"dodgin'\", 'szeretlek', \"or's\", '8v', \"'asshole'\", \"wrappin'\", 'choosin', 'storyblack', 'madda', \"bringin'\", 'upclose', \"jumpin'\", 'biçme', 'giftwrapped', 'getgetgetgetget', 'capaz', 'emts', 'kung', 'آشغال', 'amiket', '視線の先の', 'soulmate', 'buckbucker', '7up', '40automatic', 'predigital', 'oon', 'milkin', \"your'one\", 'hideandseek', 'poohie', 'koji', 'hhtown', 'bitcheshoes', 'shhh', 'monmonmoney', 'mamaturn', 'ggggotgot', 'merky', \"l'a\", 'clicquot', 'raybans', \"perpin'\", 'swineeee', \"inkin'\", 'пару', 'اجناس', 'rasclaats', 'deyn', \"'cos\", 'targa', 'vylít', \"mistakin'\", 'takıldığım', 'počká', 'wooii', 'turnaway', 'redbottom', 'звезда', \"l'esprit\", \"optionfailure's\", 'infucktion', 'dolcegabbana', 'frego', 'داشتن', 'nenenever', 'chainlink', 'curvalicious', 'badro', 'xanax', 'louboutin', 'κρατήσε', 'quelle', 'malano', 'nubes', 'theromostat', 'natureyoung', 'mimimimind', 'bbbbarbie', 'پیدا', 'op', \"relayin'\", 'fnny', \"creepin'\", \"salimo'\", 'comcast', 'versce', \"les'\", 'thrownout', \"shafy'nin\", 'müfredat', \"headin'\", \"threatenin'\", 'muid', 'entree', 'tictactoe', 'lastplace', 'zar', 'imma', \"mc'ing\", \"'cuz\", \"'turnt'\", \"'preme\", 'shanahnahnahnahnah', 'chillin', 'muy', 'tuya', 'fanta', 'yala', \"burnin'\", 'cadillacs', 'louper', 'acabar', 'ceiline', 'még', 'ppparty', 'deelishis', 'ikumkani', 'arrêter', 'outgrowed', 'cottonelle', \"life'd\", 'keychains', 'brrrrrrr', 'wassup', 'بودم', 'kalmamalıyım', 'کرد', 'interupting', 'masas', 'ertesi', \"i'mtoogoodtocallorwritemyfans\", 'lowrider', \"swerveswervin'\", 'asitin', 'mvp', 'tadadadadadadadadadadadada', 'inshallah', \"d'ed\", \"wifey's\", 'twodoor', 'benar', \"churpin'\", 'ayet', 'staaaay', 'پخش', \"ridin'\", 'allfuck', 'blackowned', 'quitate', 'lxveoh', 'krippy', 'crodie', 'hemdelaylalala', 'gaguilera', 'rrrahh', '男どもを', 'wooahh', 'hedouble', \"''poo\", 'leizure', 'zedeledim', 'powrotem', 'trugoy', 'دارن', 'badadadadada', \"hhw's\", \"blazin'\", 'braden', 'besta', 'σπίτι', 'kız', 'ammunish', 'outrap', 'quelques', \"weakenin'\", 'nananana', 'ap', \"gaylookin'\", 'thunthun', 'istemedim', 'contradictionary', 'varsovienne', 'olması', \"s'posed\", 'streetball', 'vidaparadiseadventure', 'boyboys', 'matterfact', 'vos', 'coolthe', 'waitwewewewewewait', 'soros', 'tonica', 'пол', 'topí', \"cakin'\", 'mamacita', \"scrapin'\", 'zarar', 'ahhahhahahh', 'deangelo', 'lumos', 'černý', 'hachu', 'hahahahahahahahhahahah', 'ortadan', 'drivin', 'yutes', 'استن', 'dimelo', 'lovegame', \"vickin'\", 'llora', 'selfdestructing', \"wobblin'\", 'chkwordword', \"let'\", 'gwan', 'oktober', 'heyoooooo', 'manoeuvre', 'پێی', 'oohoohoohohoh', \"collectin'\", \"blushin'\", 'چیبدم', \"reasonable'll\", 'crocker', 'wizzel', 'زبان', 'pushin', 'saucelord', 'bagz', 'lg', '灑在牆上的血跡', 'cyah', \"blarin'\", 'percussioner', 'spazz', 'bback', '5minutes', 'bentayga', 'sonrada', 'hastayım', 'comprar', 'brratatata', 'itthis', 'gehgehgeh', 'patrón', 'isley', 'ravale', 'جدیدت', 'epmd', 'noila', \"l'heure\", 'hyperdrive', 'breakbeat', 'chwyć', 'rám', 'vestes', 'هرچی', 'selivukile', 'vaat', \"'dreena\", \"'male'\", 'uzak', 'serlo', \"t'endors\", 'tezz', 'benzo', 'ak47', \"carin'\", \"this'll\", 'icp', 'ohhhhhhho', 'oooooo', 'juuddaas', 'acura', 'openminded', 'vvenomous', 'whoaohohoh', 'nowiow', 'mogę', 'upcutuh', 'db9', \"lovin'\", 'comehome', 'etmeliyim', 'calle', 'downall', \"havin'\", \"zippin'\", 'oohoohoohoohoohoohooh', 'poonpoon', 'aleve', 'benjis', 'stefflon', 'valahogyan', 'adunnadundundun', 'zou', 'تۆنە', \"sswag's\", 'wacked', 'wigger', 'tabii', 'backflip', 'çocuğu', 'strangé', 'kickflip', 'macgregors', 'chantal', 'clowners', 'bootyful', 'giusuppes', '06er', 'nevermettheplugbutirapabouttheplug', 'رادنی', 'whatwhatwhat', 'motherfuck', 'womanvogue', 'jaykae', 'بکەن', \"m'a\", 'κραταμέ', 'αναμεσα', 'ttrue', \"low'\", 'cetera', 'puissante', 'diye', 'hypnotised', 'katana', 'braveheart', 'fullclip', 'dios', 'whwhwhat', 'è', '0for', 'najlepsze', \"macavity's\", 'mert', 'ie', 'pss', \"''talking\", \"protrudin'\", 'swv', 'garcelle', 'aahah', 'ancesters', 'nana', 'پذیری', 'seviyorum', 'hiçbirşeysiniz', 'chеck', \"cipherin'\", 'liscense', 'latenight', 'mijn', 'deja', 'keke', \"sec'\", \"'xam\", 'thischeck', 'elbowayo', 'tesók', 'serré', 'freakum', 'diy', \"blowin'\", \"wan'\", 'pourrais', \"gon'\", \"bulgin'\", 'chauvin', 'τα', 'passando', 'ruido', 'anuel', 'jewellery', 'نظر', 'ecstasied', 'با', 'ای', 'jizo', \"pointin'\", 'mmhmmh', 'guardo', 'gotdamn', 'andas', 'tryna', \"gram'\", 'mazin', 'عضوها', \"crist'\", 'cambiar', 'mcdreamy', 'thhbbpp', 'separateus', \"'when\", \"dwellin'\", 'cocksuckas', 'extrañas', 'senle', 'dnia', 'childrens', 'barz', \"cuttin'\", 'زمینه', 'digas', \"list'ning\", 'sikerken', 'annen', 'angerext', 'nám', \"frickin'\", 'viajaría', 'توڕەن', 'midtwenties', 'somebodys', 'squirter', 'heeheeheeheeheehee', 'woowap', 'craycray', 'adichie', \"b'day\", 'ly', 'assfucking', 'eightysix', 'zur', 'simmon', 'vertigem', 'squier', 'choo', 'grier', 'menyembunyikan', 'böyle', \"'gainst\", 'میتونم', 'walkin', 'efggood', 'warzone', 'instagrammed', 'beatminerz', 'pbbt', \"exaltin'\", 'tagliati', 'yessir', \"'leven\", \"'boom'\", 'chappelle', 'punchin', 'infact', \"mockin'\", 'historie', 'kada', 'perdus', 'harambe', 'ouncers', 'eoheoh', 'doodoodooroo', 'sweeterman', \"bettin'\", 'aziz', \"m'arrêter\", 'siduck', \"stunnin'\", \"'renegade'\", 'wá', 'redstate', \"wait'n\", 'perdonarte', 'باشتربوو', 'screamin', 'sexe', 'mó', 'راجبه', 'febreeze', \"elektra's\", \"youngin's\", 'گوگل', 'diyorum', 'pos', 'grr', 'parasail', 'beetz', 'revisitation', 'rímekbe', 'tweece', 'postions', \"antein'\", \"costing'\", \"d'avoir\", 'ioh', 'تویی', 'yao', 'cappadonna', 'selfproclaimed', 'daytrip', 'pensar', 'zeď', \"bitches'\", \"goin'\", 'shoops', 'fizzer', 'backshots', 'hellspawn', \"ve'et\", '69ed', 'dolph', 'grimey', 'naší', 'molon', 'faaaaaar', 'داگی', 'draymond', 'hmmhmmhmmmhmmmm', 'üstüne', 'ronaldinho', 'sídlech', 'nickelplated', 'lovings', 'muah', 'rarri', 'kızım', 'swoleup', \"sponsorin'\", \"rattlin'\", 'خەریکە', 'für', 'clampett', 'gp', 'herve', 'píči', 'truthteller', \"whiplashin'\", \"interferin'\", \"snitchin'\", 'butbair', 'arguament', 'wassa', 'acabó', 'readytouse', 'přes', 'ohhhhhhhh', \"'70s\", 'imaj', 'bhlaiseadh', \"tiltin'\", 'hitta', \"reid'n\", 'beamen', 'apenas', \"bickerin'\", 'goed', 'nokicked', '함께', 'coachella', 'bian', 'ettiğini', 'arıyorum', 'hollas', 'sobreentendido', 'cueste', 'resto', 'everynight', 'μονο', \"shatterin'\", 'mc', 'wuv', 'giriş', \"children'\", 'kingthey', 'stopop', 'serseri', 'bankulli', 'mee', 'sstation', 'traktuję', \"i'mi'mi'mi'm\", 'terminado', 'reeboks', 'nout', 'chyna', 'fluck', \"wanna'\", 'پێبکەم', \"we'rе\", 'veszteség', \"eiffel's\", 'voodonnana', 'nypd', 'rejuved', 'پرواز', 'ολα', 'breh', 'heybottle', 'kissy', 'bernsteins', 'olur', 'homeslice', \"slashin'\", 'doney', \"o'neal\", 'snuffleupagus', 'oou', 'etmeye', 'daoheyoheyohey', 'wrektime', 'salla', 'syruped', 'buenos', 'sheezy', 'barechested', 'هارو', 'tumblr', 'ise', 'gidip', 'vocalistically', 'şey', 'jameela', 'korb', 'megkellett', 'ladys', 'fusari', 'کنسل', 'kanes', 'powinna', 'hazırım', 'sonyatv', 'uguali', \"clashin'\", 'quel', 'galdem', 'akademiks', \"gan'\", \"tyga's\", 'toandfro', 'hepinize', 'strawberrybanana', 'düşünürsün', 'tengas', 'brrapbrrapbrrapbrrapbrrapbrrapbrrap', \"t'accroches\", 'دائما', 'firmato', 'ballsdeep', \"qu'aujourd'hui\", 'vuelves', 'havalı', \"nothin's\", 'سراغت', 'neiman', 'almam', \"publishin'\", 'vea', 'quil', 'nastyass', 'bbaby', 'pooky', \"xxl's\", 'mcry', 'allallall', 'iohohoh', 'baretta', 'moiss', 'روزی', 'capito', 'použiju', 'hatin', 'ψίθυρο', \"'nurse\", 'pushback', 'splishsplash', \"movin'\", 'bunbunbun', 'cehennem', 'arsehole', 'boca', 'everchanging', 'nebojíme', 'yeaah', 'fourdoor', 'nani', 'windbox', 'mexrdique', 'tatho', \"quackin'\", \"writtin'\", 'remifaso', 'posie', 'zapomněl', 'bezos', 'sayang', 'aynen', \"mill'\", 'wicwick', 'lovee', 'binderella', 'nienawidzą', 'pellegrino', 'warreen', 'ahhahhh', 'cj', 'fufufuck', 'gücendin', 'drogato', 'yahhhh', \"tweetin'\", 'fuckyou', 'znieść', \"ecs'\", 'hydrocodone', 'niggie', 'özgüvenini', 'thógáil', 'soso', 'hermaph', 'pussyhole', 'نمیکنممن', 'rockstar', 'berret', 'lauguage', \"xann'd\", 'wreckingball', '80s', 'twopiecing', 'awayget', 'muthaphuckkin', 'wheewheewheewheewheewheewheelers', 'там', 'dadadaay', 'loosey', 'twelvenoon', 'scarface', 'له', \"meetin'\", 'pochwała', 'katona', '全身散發警示的氣息', 'от', 'ilaç', 'differenze', \"lookin'ass\", \"twitchin'\", 'sitowuation', 'الکلی', 'jalapeno', \"attemptin'\", 'поднимаюсь', 'şaka', \"shells'll\", 'boynunu', 'phair', 'sabroso', 'hesaid', \"'cross\", 'vindata', 'highsiddity', '40bottles', '속마음', 'ribbit', 'ohow', 'finnan', 'skeelo', 'eheheh', 'tomé', 'highkey', 'honeylike', 'todos', 'beatbox', \"borin'\", 'richshamed', 'prewarn', \"detroit'\", 'گذشته', 'youngins', \"magazines'll\", \"ssswag's\", 'çeneni', \"yo'\", 'τζιν', 'corito', 'nomore', 'ohuhuhuhuhuhuhuh', 'solas', 'gach', 'hmmmmmmhmm', 'smilies', \"bleedin'\", 'افراد', 'melet', 'wydałem', 'mostest', 'tsa', 'thot', 'شکست', 'توسط', \"mo'fuckin'\", 'ishwhen', 'padawan', 'zabijanie', \"is'\", \"prospekt's\", 'disciplinedwhat', 'ccup', \"drinkin'\", 'und', 'likeda', 'gâché', \"puddin'\", 'nós', 'shelltops', 'applau', 'ohh', 'azokat', 'mhmm', 'abre', 'oxys', 'ribancok', \"nightmares'll\", 'chonky', 'khryst', 'daygetaway', 'maroney', 'storе', 'kupředu', 'vertėjas', 'doooooll', 'ئەوەنەی', 'vado', '為我設想', \"keepin'\", \"up's\", 'theyself', \"morn'\", 'bagley', 'innn', 'wickwack', 'őt', 'texter', 'زیاترم', 'snitchall', 'هەمووشت', 'woahoooowe', 'hablar', \"capisc'\", 'mcdaid', 'twonovember', 'rushin', 'dmp', 'érint', '0year', 'rearview', 'yyou', \"rootin'\", 'رفتی', 'maaan', 'zoveel', 'ناخۆش', 'ohooh', 'hunderttausendeuroschecks', 'escucha', 'architectured', 'ityup', 'należy', 'dupnout', 'bagges', 'flyington', 'nicе', 'péter', 'آینده', \"sippin'\", 'jakl', 'wristes', 'duyduğunu', \"o'lakes\", 'ftype', \"'longside\", 'hunnids', 'fbi', 'نمیکنه', 'supermalts', 'cocacola', 'grrr', \"seein'\", 'اذیتم', 'foxxy', 'simplement', 'bramalea', 'larmes', 'ediyor', 'g5', 'voicemails', 'hidewhoops', 'быстро', 'recordbreaking', 'smileall', 'bardi', 'а', 'моя', 'megfogsz', 'papi', 'rexall', 'tickitytock', 'zvedněte', \"cleanin'\", 'woza', 'ehever', 'saca', \"yelawolf's\", 'نهنه', 'countin', 'fucka', 'lunchline', 'silahı', 'nonlyrical', \"rockin'\", 'awaaaay', 'litera', \"ggettin'\", 'anow', 'recuerdas', \"nathan's\", 'm5', 'demitour', \"tiene'\", 'cintura', 'devam', 'ladadeeladada', 'myśli', 'skank', \"slurpin'\", 'maines', 'igual', 'emmitt', \"'drew's\", 'lofi', 'hemos', 'fräulein', 'çim', 'piffin', 'skeppy', 'motherfriggen', 'tightadd', \"''wish\", 'xan', 'vite', \"invitin'\", \"driveby's\", 'whewhewhewhewhe', 'socalled', 'peepee', 'bflat', 'drizzy', 'loced', 'harbour', 'destructiveass', 'eeeeeeen', 'voulez', 'birky', 'lugz', 'řekne', 'dwele', \"billi'\", 'edosure', 'eller', 'خدا', 'cuppie', 'treyeight', 'lovestruck', 'فعالیت', 'cookup', 'oy', 'aaahhh', 'pecho', 'umoriću', 'symfonii', 'omgno', 'lipsyncs', 'cashe', 'shanté', 'nigga', 'decidí', \"qu'il\", 'unabiding', 'tou', 'φύγεις', \"jayz's\", 'ولی', 'chea', 'sudut', 'pimpin', 'adoro', 'benimle', 'vivia', 'clipclack', 'geliyor', \"tubby's\", 'hookx', 'coppin', 'دەرەوەی', 'uhum', 'wuh', 'perd', 'gravedigging', \"dartin'\", 'pèt', 'negli', 'tisci', 'kalıptan', 'ohhhohhh', 'hooooh', 'ichat', 'aholes', 'kkeep', 'knightmare', 'searchin', 'heyeah', 'reit', 'overtooken', \"mu'fucka\", 'sixsix', 'stuntdevil', \"hesi'\", 'bonjour', \"thuggin'\", 'attlas', 'budzę', 'hopelessnesses', 'sargeant', 'κρατήσεις', \"ro'oh\", 'onceuponatime', 'thandie', 'мой', 'καταλληλες', 'weedyeah', 'jolie', 'wwwait', 'motivo', 'toppoptimisttoppoptimist', 'vivir', 'jeru', 'ahohahoh', \"'vict'd\", \"'un\", 'dari', 'millionnaire', 'chestout', \"nappin'\", 'herre', 'whawhawhat', 'shotget', 'garlin', \"jockin'\", 'worstcase', \"'plex\", 'platten', 'rocko', 'promiscuité', 'wblk', 'fantôme', 'pesci', 'malling', 'jelani', 'cocome', 'jackin', 'keeeep', \"'kiss\", 'ou', 'you4', 'minza', 'błyszczą', 'yummyyummy', 'ei', \"surgin'\", 'benle', 'elli', 'obie', 'dddddamn', 'benard', 'thirddegree', 'ric', 'interessante', 'allumées', \"pursuin'\", 'mudhole', 'swaggie', 'dickriding', 'jodye', 'favorte', 'fazla', 'skrzypiec', 'kangol', 'igazság', 'ayyayy', 'gps', 'bussdowns', 'handedly', 'crackas', 'readywe', 'dropscrackers', 'disa', 'sportovec', 'hesney', 'voila', 'elas', 'grcss', 'owwwwww', 'skoolys', 'rescratched', '狂喜の愛ほど', 'tienen', 'teo', 'italt', 'jesús', 'onetrack', 'mío', '6s', 'sogging', 'gunline', 'boonepickens', '0percent', 'ocurr', \"campin'\", 'madand', \"battin'\", 'rockshow', 'malignaggi', 'roi', 'kaosa', 'freedompart', 'atrás', \"squealin'\", 'دوستت', 'handprints', 'splitta', 'kouyate', 'thanos', '5k', 'rockit', 'çalışırken', 'teorias', 'vieh', 'tmz', 'loservictim', 'انجام', \"rubrubbin'\", 'vvn', 'orta', \"smashin'\", 'porscha', 'tiempo', \"boppin'\", \"trappin'\", 'simples', 'hagytál', 'grandmom', \"screamin'\", \"6's\", \"mraz's\", 'jme', 'tamam', 'chissà', 'tient', 'auch', 'kanyes', 'yz', 'blaowblaow', 'وقتیه', 'elmentem', 'grisham', 'delf', 'suyu', 'yardie', \"applyin'\", 'szarság', 'fufuture', \"doggin'\", 'medom', \"fo'five\", 'shahrzad', 'krispies', \"l'ora\", 'توڕەم', \"thing'll\", 'blingbling', 'ciggarete', 'yearsgo', 'invisibl', 'crcrazy', 'alchy', 'zack', 'cеnt', 'люблю', 'saldría', 'ڕۆڵینگ', 'conchords', 'uniwhen', 'bomboclat', 'rta', 'kalẹ', 'appearwadlibs', \"appealin'\", 'biance', 'fitbit', 'karrine', 'zabawne', 'dooka', 'porsches', 'losin', 'adamım', 'doldurduğu', 'miliony', 'greatgreatgrandchildren', 'thithis', 'tiemblan', \"'do\", 'konstantinov', 'probablemente', 'rocketship', \"surroundin'\", 'holdagrudge', 'cuh', 'thirtythree', 'zamordować', 'suplexing', 'دلار', 'safaree', 'آدما', 'fboy', 'offyour', \"cryin'\", 'apač', 'tanış', 'jí', 'fliehen', 'faktorů', \"''we\", 'heathuh', 'ediyorsunuz', 'pawg', 'backtoback', 'truamp', 'oohhoohoo', 'üstündeki', 'galiana', 'twojego', 'گایش', 'almaya', 'hlalani', 'isss', 'ththis', 'mmkay', 'přitom', 'sangaré', 'atrapó', 'pappap', 'ft', 'hasbeens', 'prez', 'beliebers', 'dopustiću', 'آخرین', 'yai', 'ingles', 'ilaçlar', \"fishermans'\", 'blings', 'woooo', 'شه', 'siempre', 'freezed', 'uyaziwa', 'rashiki', 'rxmancee', 'tatort', 'jordache', 'téged', 'yeeeahhh', 'awayay', 'ohohohohohohohohohohohohohohohoh', \"redman's\", 'jv', 'nineteen85', 'chikachikachika', 'timetime', 'oohhoo', \"backstabbin'ass\", 'skeptos', 'iller', \"thesis'll\", '8yearold', 'fanpage', 'flix', 'sayohohoh', 'unessx', 'percodans', 'ied', 'diamant', 'armádou', 'leelow', 'emailin', 'hailie', 'camabons', \"chubbs'll\", 'gogogo', 'semblant', 'gle', \"gohe's\", 'viajo', 'هێشتا', \"vackee's\", 'bedenine', 'stika', 'reakce', 'yyyyyou', 'ballers', 'خوکمن', 'nеver', 'אלד', \"developin'\", 'awahlangani', 'eoooow', 'sidetoside', 'juicey', 'دید', 'collina', \"'boutta\", 'ayoow', 'οι', 'abanenkani', 'folyosóra', 'wakanda', 'muhfucka', 'monroes', 'minket', 'nigganigga', 'peine', 'ستارس', 'nano', 'woulda', 'isyes', 'secreto', 'atl', 'coronavirus', 'womanbad', 'broskies', \"lcve's\", \"chiquitico'\", \"convo's\", 'tudo', \"'magine\", 'göster', \"tastin'\", 'mardi', 'monét', 'развиваясь', 'istemiyorum', 'methanine', \"'pac\", 'filas', \"detonatin'\", 'pierdołami', 'şişelenebilseydi', 'performedlady', 'mea', 'قفلشو', \"slitherin'\", \"smucker's\", \"wit'cha\", 'sharapova', 'frenchies', 'tez', \"trippin'\", 'ohwoooh', 'winslow', 'breakdowndrop', \"that'd\", \"biz'\", 'haha', 'laiqwan', 'gasto', 'beszálltunk', 'doublestandard', 'voom', 'bastic', 'stereotypetypetypetype', 'garzón', 'tyco', \"shiverin'\", 'زندگی', 'mizzy', \"sizin'\", 'wineanddine', 'snakebitten', 'lmnowinsky', 'bullcrap', 'uhohuhoh', 'weener', 'گەورە', '케미', 'érzem', \"finessin'\", 'dołączać', 'eeheeheeh', 'achei', 'gdk', 'vey', 'lightbulb', 'olimpic', 'fourthdre', 'وابزانم', 'eastside', 'streeteminem', 'dropsarmaggedon', 'entiende', 'woooohoohooh', 'ject', 'akzel', \"beamin'\", 'fais', 'dile', 'anahtar', 'n9', \"mcdonalds's\", 'señora', 'alyx', 'asist', 'trl', 'shoutout', 'browneyed', 'szemétbe', 'yngdmnd', 'その魔法にヤられる', 'nuuh', 'fleeko', 'goatgreatest', 'pressa', 'eightnine', 'examed', 'سگ', 'yediler', 'eltávozik', \"'chella\", 'پیس', 'nuestro', 'subliminals', 'intentas', 'fedi', 'nuff', \"scweamin'\", 'ri', 'rrarrrrh', 'nininininininini', 'categor', 'responsibilty', 'ner', 'barbiana', \"thou'\", 'uhuhuhuhuhuh', \"piercin'\", 'ahhhh', 'viejo', \"joinin'\", 'dodododadaday', 'dadadadadadome', 'reclaman', 'dickless', 'benzy', 'laiceps', 'istediğim', 'nke', 'partna', 'hwasa', 'konvict', \"pen'll\", 'νυχτα', 'camoing', \"highness'\", 'ئەوەی', 'mahrum', 'خوک', 'floodsfor', 'ahhhaaa', 'tâche', 'andals', 'kibaszott', 'hannukah', 'chkitguess', 'duyacaksın', 'siklemek', 'botellas', 'demandé', 'حب', 'ketamine', 'aare', 'butterand', 'slideshows', \"amoxicillin's\", 'weeble', 'massa', 'brooknam', 'hct', \"'yonce\", 'duval', 'bedazzler', \"teenagers'\", 'fourtothefloor', \"strikin'\", 'numaranı', 'memorys', 'ninetynine', 'powerbottom', 'süzmem', \"nielsen's\", 'smushed', \"piense'\", 'parler', 'princesscut', 'rapbot', 'jjjjust', 'screwface', 'onlyfans', 'kissé', \"'yoncé\", 'duppied', 'djcom', 'congorock', 'dubstep', 'parttime', \"slim's\", 'alejandrxooh', \"dyin'\", 'زیاتریش', 'fiveseater', \"chokin'\", 'وجود', 'caramu', 'kingsize', 'medos', 'fatt', \"undeservin'\", 'μόνο', 'sasame', 'seninkine', \"bcyfriend's\", 'cheung', 'czuję', 'seul', 'dirtydirty', 'weezys', 'saniye', 'layzie', 'صمیم', 'cddaddy', \"repentin'\", 'kiana', 'felched', 'fonz', 'verze', 'gambe', 'bidness', 'erre', 'estou', 'rrrrroll', \"caninini'\", 'spokesmodel', 'jockget', '就忘了爭吵的損傷', 'rememba', 'sssame', 'weezing', 'sorteé', 'jugg', 'belair', 'tous', 'blackbear', 'görürsen', 'dus', 'brum', 'yuh', 'backin', 'degrassi', 'time069', 'deet', \"patrollin'\", 'ahoh', 'hazzard', 'ive', 'custie', 'julkeyz', \"nick'\", 'girac', 'misión', 'alealejandrx', 'ışıkla', 'jawdropping', 'eles', 'nnnow', 'meeee', 'paperthin', 'bunu', 'deadass', 'orospularsınız', 'napětí', \"grazin'\", 'hawaiiii', \"women's\", 'soldout', 'brongers', 'kaopectate', 'calabasas', 'powppppow', 'intenciones', 'wintercold', 'nme', 'تبعیض', 'stracić', 'yooter', \"jc's\", 'comentarle', 'charli', 'highheeled', 'creekwater', 'charactersi', 'vandross', 'widescreen', 'favourite', 'lamma', 'کنار', \"rewindin'\", 'honosných', 'nz', \"needin'\", \"'sonny'\", 'nono', 'fiftyeleven', 'después', \"then'll\", 'rollup', 'último', 'lawsuitsfuck', 'woooorld', 'videogame', 'peachpink', 'estilo', \"fuckin'oh\", 'εγώ', 'rugers', 'hollister', 'badbad', 'شێوەیەم', 'lovesong', 'veste', 'boobjob', 'način', 'φίλησες', 'آمریکایی', 'ritches', \"nothavin'it\", \"surmisin'\", \"decemberapologizeyou're\", 'estmaos', 'skys', 'nummana', 'faots', 'milhouse', \"watchin'\", 'víctima', 'theyre', 'przygotuj', 'teslim', 'نزیکە', 'curtsi', 'sierota', 'día', \"knives're\", 'feefifidideeyay', 'anocht', '69ing', 'öldürsen', 'queenie', 'dabodabababadabo', 'idiota', 'yey', \"singin'\", 'بار', \"walkin'\", 'wreckless', \"steppin'\", 'az', 'insaneness', \"'they\", 'ddoing', 'érted', 'doortodoor', 'weitzman', 'unsweet', 'lintfree', 'hella', 'bossass', 'نەوت', 'playby', \"laughin'\", 'fofor', 'lvs', 'evanescene', 'کامل', 'کمپ', 'konuşurken', 'etmek', 'gshock', 'dlow', 'vais', 'affi', 'skido', 'نذاشتم', 'دوای', 'jem', 'bellion', 'starvin', 'vids', 'parles', 'vo', 'whhhooo', \"navigatin'\", 'mythe', 'swingin', 'hahahahah', 'servirai', 'shoulda', 'paso', 'твоя', 'gwinnin', 'serseriyi', 'zakładasz', 'şeytan', 'koşuyorum', 'heeeey', 'mphazes', 'wimpers', 'volna', 'frenchise', 'oooooooooh', 'farruko', \"buildin'\", 'fuckgive', 'ballscrotum', 'twentythousand', 'lyricols', 'yetuh', 'رسیدم', 'fela', 'woahwoahwoah', '見てみろ', \"m'ucht\", 'furied', 'shinin', 'aleady', 'dei', 'worldstarhiphop', 'stayathome', 'بەرهەمداریمان', 'millzy', 'yiy', 'mumumust', \"representin'\", \"8's\", '等待我的時機', 'bj', 'clickclackblaow', 'macaiah', 'potblood', 'imigrantů', 'dadadababadadada', 'jangalang', 'ctv', 'bok', 'lov', 'rov', 'tomahto', 'evet', 'chasin', \"concealin'\", 'podemos', 'toda', \"fa'sho\", 'stojaković', \"dismantlin'\", 'embala', \"'umph'\", 'την', 'burqaa', 'vd', 'lovin', 'kutusunu', 'sainttropez', 'dna', \"flyin'\", 'freekey', \"timb'\", 'kuk', 'کینگ', \"buzzin'\", 'diggedydocdiggedy', 'ehoh', 'hippity', 'digroup', 'régner', 'kawasakis', 'dvds', 'ουρανος', 'litty', 'besties', 'lolololo', 'lighty', \"'tas\", 'poppoppop', 'mielőtt', 'migos', 'omi', 'uhhahh', 'dadum', 'sizzla', 'knowitall', \"smilin'\", 'serio', \"spellin'\", 'guechkit', 'fernandx', 'takut', 'rightright', 'scorchin', 'jetson', 'rheoon', 'avril', 'handinhand', 'yearwho', 'söylüyorum', 'bbbefore', 'egy', 'unlight', 'pullin', 'stiched', \"expressin'\", 'preverse', 'gooo', 'potentiali', 'بیت', 'vurmak', 'chchchromatica', 'mid007', 'femi', \"selfesteem's\", 'balvin', 'biraz', 'fantastico', 'mh', 'nikes', 'hammerin', \"schoolin'\", \"slowin'\", 'pput', \"pon'\", 'drumrolls', 'reretarded', 'zayn', 'wahmwahmwahm', 'denialtitle', 'میترسم', 'cracccccrazy', \"changin'\", 'innere', 'qoqa', 'ariii', 'svýho', 'whoawhoawhoawhoawhoa', 'pleadin', 'вызвал', 'aaaaah', 'ist', 'prawie', 'oclock', \"teasin'\", 'cliqua', 'tehát', 'گاد', 'wеar', 'rista', 'ها', 'yeahyeah', 'oswojony', 'handsfree', \"ahoy'\", 'içkilerden', 'youyou', 'noi', 'quickwitted', 'قلبممعذرت', 'rapporte', 'eart', 'azycray', 'jizzle', \"hef'\", 'ورژن', 'statt', \"c'était\", 'εμείς', 'oneway', 'whyyoulovethesestrippers', 'intriganti', 'givenchy', 'ahaah', 'zobaczymy', 'których', 'talkingadlibing', 'نیستیمن', 'opps', \"chilin'\", '把弄我的遐想', 'ferva', 'frontfacing', 'switcharoo', '4am', 'millwall', 'davinci', \"shiftin'\", 'سەوتم', \"'roc\", 'mixalot', \"pistolwhippin'\", 'cadenas', 'viszont', 'deams', 'σε', 'mayfield', 'příšerný', 'moda', 'palo', 'sixyearold', 'مردم', 'moët', 'bloodred', 'basta', 'wawake', 'irl', \"graspin'\", 'pointynosed', \"'aight\", 'ohoooh', \"gaggin'\", 'thickory', 'finetuned', 'comprende', \"jm'habille\", 'voulu', 'selfabsorption', 'fanabitch', 'molotovs', 'valizin', 'muhtemelen', 'alealcjandro', 'kneehigh', 'orospu', \"sweatin'\", 'toolong', 'hermés', 'ekam', 'babadabada', 'hehehehe', 'başı', 'readyready', 'voltál', 'tenton', 'checkless', 'haihai', 'és', 'outi', 'onefourth', 'highfives', 'lunghilunghilunghilunghilunghilù', 'saukrates', 'adıma', 'ohohohhh', 'crouton', 'modernday', 'scammers', 'pooperscooper', 'dragões', 'chodziłoby', 'amdam', 'quence', \"gotta'\", 'leute', 'motherinlaws', 'bool', 'etchasketch', 'manifiestan', 'cambiado', \"suckin'\", \"impact'll\", 'ncck', 'eether', \"freestylin'\", 'chickenchicken', 'repeller', 'machen', 'میزنم', 'cliche', 'orospunun', 'vois', 'hagyva', 'égünk', 'sisiside', \"solvin'\", 'suv', 'nuh', 'ocho', 'marykate', 'itmy', 'sht', 'vlone', 'morder', 'به', \"'caiah's\", 'seanapaul', 'drakeezzy', 'نەوەدی', \"chillin'\", 'servent', \"choochoo's\", 'prolude', 'کن', \"mach'\", 'pmsing', 'هەیە', 'appellent', \"feedin'\", 'maniped', 'sepertimu', 'ohayo', \"intent'n\", 'sztylet', 'nehw', 'voll', \"'caine\", 'bbblundering', 'umbreller', 'alla', 'uglyomarosa', 'playboi', 'increíble', 'algún', 'spanky', '你明白你擅長', 'seule', 'singersongwriter', 'upext', 'kucak', 'badbadbadbadbadbad', 'polow', 'halooooo', 'n5', 'npr', \"crappin'\", 'éme', 'whassap', 'secondguessing', \"buskin'\", 'energysolutions', 'trife', 's550', 'perder', 'dhabi', 'πιασω', 'setlist', 'selfhatred', 'پلیس', 'trapaholics', 'دیپلماتیکم', 'hhhim', 'bakin', 'yvp', 'homme', 'exheroin', \"into's\", \"uz'\", \"arby's\", \"crusin'\", \"pizzelle's\", 'ça', \"would'a\", 'madeo', 'görüp', 'quavo', 'dboys', 'venta', 'coogis', 'rollies', 'middecember', \"messin'\", 'asssssss', 'adhd', 'inglés', 'woooooo', 'brushin', \"wastin'\", 'twojuly', 'huhhuh', 'akh', 'uff', 'telo', 'sononous', \"me'd\", \"spikin'\", 'کاتێک', 'trois', 'tutte', 'harderall', 'hgih', 'chica', 'manicdepressed', 'swaggy', 'vu', 'offwhite', 'benzodiazepines', 'johansson', 'فقر', \"feelin'\", 'goonies', 'więc', 'haklısın', 'meurice', 'fugazy', 'chestbackin', \"tryin'\", 'rebi', 'kaca', \"swarmin'\", 'percs', 'outoftown', 'menait', 'tryif', \"buttfuckin'\", 'hundredyard', 'romanek', 'محبة', 'nala', \"shoppin'\", \"murderin'\", 'bexr', 'ارزش', 'benzes', 'bombargo', 'fritos', \"peakin'\", 'میان', 'buring', \"dad'll\", 'mamí', 'matan', 'beckiana', 'jaleel', 'sona', 'rrrecord', 'atrox', 'números', 'timbaland', 'openingclosing', 'countertop', 'bundy', 'mec', 'viset', 'photoshoot', 'çantası', 'ggot', 'níos', \"totin'\", \"youngin'\", 'wiffle', 'olursan', 'youoh', 'پشتش', 'raemiah', 'hothothot', 'soandso', 'üvegvitrinbe', 'uklidní', 'plplastic', 'woaoaoaoaoaoaoaoh', \"vacationin'\", 'tekrarlıyor', 'بکەمەوە', 'derty', \"sawin'\", 'evеr', 'moonchild', 'seeying', \"readin'\", 'bbutterscotch', 'iceyo', 'preif', 'caskoww', 'plantiff', 'jött', 'abitch', \"'fuck\", 'نهند', 'bp', 'dennetdennetdennetdennet', 'uçtu', 'раз', 'fantasmo', \"oliver's\", \"ironin'\", 'pattycake', 'playboyos', 'pssy', 'majid', 'epps', 'grownass', 'snowmangroundup', \"snakin'\", 'yaptığımı', 'pak', 'denzel', 'cutiful', 'bxbe', 'شده', 'еach', 'doodoommm', 'cucka', 'inglish', 'auraaaa', 'yapılan', 'asla', 'aswe', 'highschool', 'بخاطر', 'meryl', 'occupée', 'tanıdık', 'fatale', 'hottie', 'agrc', 'insync', 'گۆرانیەکانم', 'mazarati', 'heehee', 'siyavuma', 'politik', 'بیشترم', 'meinen', 'brodiesangster', 'bando', 'disfunction', 'így', 'muhfka', \"mcs'\", 'padalock', 'mahorn', 'peau', 'mešity', 'alf', 'knick', 'idris', 'kérdezik', 'tba', \"mo'\", 'banco', 'fucklike', 'southside', 'قیمت', 'stanibus', 'لەگەڵ', 'ahhmm', \"annoyin'\", 'konusuna', 'builtup', '但我不是你的寶貝', \"dropping'\", 'shizzle', 'cleanin', 'keşfetmeye', 'توڕەیم', 'será', \"neck'll\", 'gstrings', 'bxkini', 'nnnonstop', 'jhee', 'feelin', 'dippityhippity', 'drut', 'riche', 'فن', 'jsi', 'wadley', \"bakin'\", 'cartunes', \"'fits\", 'theoh', 'camino', 'هەروەکو', '5th', 'filles', 'confidеnt', \"kno'\", 'pppass', \"bottomin'\", 'vrinvrin', 'چون', 'astupid', \"dottin'\", 'callaway', 'líberate', 'buju', 'soohohooh', \"'88\", 'interludeupgrade', '없어', 'respuesta', 'dvsn', 'tuilleadh', 'flawlessladies', 'facking', \"discussin'\", 'drophead', 'forgеt', 'instagram', 'piff', 'éve', 'runneth', 'submachine', \"'eyo\", 'için', 'هیچ', 'válku', 'dphuzion', 'semnou', 'mulsanne', 'skanks', 'percaya', 'theyll', \"'nessed\", 'skully', 'abouuut', 'lecter', \"abc's\", 'déballerai', 'fortyfive', \"'89\", 'remonter', 'przestraszyłem', 'ackey', 'dity', 'mof', 'jiletten', 'bestest', 'miałbym', 'parkеd', 'manolo', 'feledésbe', 'fuckafuckoff', \"bell'n\", 'liste', 'minha', 'zaczyna', 'истериках', 'eevery', 'keysh', 'ahhahaowww', 'broll', 'tunk', 'sativa', 'hagase', \"outstandin'\", 'esposo', 'εχουμε', 'hapı', 'shenseea', 'sürtüğü', 'rejoinsmoi', 'syndicat', 'boutta', 'jongani', 'openended', 'ahhhhhhhhh', 'whatwhat', 'weedpuffin', 'nutella', 'unitoo', 'iing', 'děvka', 'slugga', \"friggin'\", \"standin'\", \"laborin'\", 'paraparadise', 'kshh', 'connectthedots', 'میدیدم', 'شێوەیە', 'vrrunn', \"'ow\", 'geico', '6km', 'yungstaz', 'nute', 'harpo', 'fcrnando', 'uhhuh', 'ματια', 'uhup', 'hrr', 'tko', \"4'o\", 'beckton', 'upsetcrycry', 'jingleball', 'bentleys', 'zien', 'lavigne', 'queriendo', 'marrant', 'krylon', \"im'a\", 'gesichter', 'ish', 'infierno', 'ahahahhhow', 'wiem', 'llevarme', \"cccravin'\", 'بهترین', 'мы', 'millimizzy', 'enredarme', 'iiiiiiiiihii', 'gget', \"with's\", 'southernplayalisticadillacmuzik', 'rcveeeee', 'storie', \"crippin'\", 'smackin', 'krazy', 'fuckbutter', 'hundredfifty', 'είναι', 'backshot', 'kombat', 'bribribring', 'lovelolove', \"m'vleou\", 'nighter', 'dck', \"tupee's\", 'mierda', 'oír', 'khaleesi', \"blockswitchin'\", 'technomarine', 'holeinthewall', 'spittin', 'obus', 'твой', 'wifebeaters', 'instalove', \"channelin'\", 'τον', 'whiiite', \"pics'\", 'eres', 'nanananananana', 'gente', 'segway', 'madnesses', 'dumdumdumdumdum', 'gusta', 'littlebitty', 'laci', 'certy', 'ohwhoa', \"ventin'\", 'сделал', 'ghandi', 'terbuat', 'backwood', 'meninos', \"resortin'\", 'nikt', 'phife', 'sixpack', \"swapin'\", 'andsmoke', 'bweb', 'kyuh', 'kkkkiss', 'degreez', 'yoar', 'ubered', 'ڕادیۆکان', 'vayas', 'toocry', 'که', 'wearyeyed', 'wrеstling', 'ddddirty', 'bangdrip', 'میاره', 'zro', \"'gangsta\", 'chiling', 'tendresse', 'asscheek', 'deberías', \"earnin'\", 'blem', \"'07\", \"challengin'\", 'jstatus', 'buba', \"swellin'\", 'görüyorsun', 'سەدا', \"curlin'\", 'hydroxycuts', 'vuoto', 'cuerpo', \"should've\", 'unutmadan', 'rizzle', 'replonge', 'κοιτας', 'whawhat', 'tiwwchnt', 'derinliklerinde', \"joggin'\", \"shippin'\", \"ramblin'\", 'asscheeks', \"''cause\", \"traffickin'\", \"surfin'\", \"referencin'\", 'حس', 'hundredmileanhour', 'unesli', 'phatbeats', \"storytellin'\", 'valent', 'sırt', 'freeforall', 'intuitionext', 'alist', 'yg', 'tentlike', 'mala', 'myy', \"hailie'll\", \"propane'\", 'whalberg', 'cazan', 'twofaced', \"rog'\", 'heeey', 'shabazz', 'swеat', 'raah', 'halfbuzzed', 'uncrackable', 'blousa', 'bzzz', 'weebey', 'کێشی', 'paulo', 'bup', 'foie', \"stutterin'\", 'kudrow', 'woahohohohohoh', 'itwit', 'rovinano', 'pozbyć', 'vučeš', 'utfo', 'hesitators', 'باشه', 'wawatch', 'ver', 'unico', 'bitchs', 'hitman', 'naturelle', 'fait', 'adderall', \"a'lante\", 'videoya', 'lamlamborghini', 'jorja', \"reviewin'\", \"fiyaa''\", 'boktan', 'dennin', \"l'existence\", \"dinin'\", 'dente', 'baduf', 'голосом', 'pussyholes', 'sware', 'coocoo', 'dennetdennetdennet', \"iiii'm\", 'runnin', 'mijne', 'wankstas', 'mistakebreak', 'keepin', 'tite', 'windmiller', \"lettin'\", 'cowdy', 'ببینمayy', 'fugaly', 'foxborough', 'armhennessy', 'haim', 'bc', \"itit's\", 'skrt', 'acuestan', 'fechados', 'dissleyeceğim', 'naaaaahh', 'phoneix', 'calogero', 'thottery', 'grizz', 'goodgood', 'söylendi', 'voix', 'tayk', 'recordin', 'slapandcry', 'hailey', \"other's\", 'tims', 'dreamhouse', \"cornylookin'\", 'بوومەوە', 'ohah', 'eyein', 'moné', 'hahahah', 'wawa', 'pfeiffer', \"droolin'\", 'سراغ', 'cabeza', 'fortyfouryearold', 'ediyorum', \"landin'\", 'fyiii', 'unášejí', 'bidi', 'şakası', 'yeeah', '看看他們為我彎腰稱臣', 'onemarch', 'watchu', 'airfair', \"taggin'\", \"4's\", 'optomistic', 'upperclass', \"chalkin'\", 'kumpent', 'они', \"lypo'd\", 'velká', 'merrygoround', 'sacrafices', 'yeaea', \"bimmer's\", '94letýho', 'selfrighteous', 'namehey', 'starstudded', 'messin', 'myaya', 'utrzymać', 'jammin', 'lightleggedness', 'stoppington', 'kdo', 'homosex', 'youre', 'nahnahnah', \"timin'\", 'beş', \"realizin'\", 'alarmalarmalarm', \"conditionin'\", '8track', 'mentir', \"neighbors'\", 'pammy', \"say'll\", 'suena', 'yahyah', 'vrátili', 'yeeaaaah', \"'zombie'\", 'nada', 'sealy', 'hypnotiser', 'trutv', 'weil', 'sauga', 'facetimes', 'carti', 'godخدای', \"filling'\", 'tú', 'zolofts', 'drk', 'behaviour', \"seemin'\", 'cleancut', \"openin'\", 'beyaz', 'vlastně', 'seru', 'brothas', 'napaljenija', \"remixin'\", 'labios', 'uunder', 'purp', \"callin'\", 'دەیگرم', 'melby', \"nicky's\", 'دوران', 'deo', \"buntin'\", 'hennesey', 'buttersworth', 'boi', 'لکان', 'gcpsy', 'unuh', 'gooda', 'hulu', 'outlaughing', 'prends', 'bbbbible', 'nonnnono', \"dvd's\", 'wuf', 'japanesey', 'cootmore', 'partynextdoor', 'greaze', 'یان', 'faccio', 'trippie', 'vakti', 'badoom', 'پێویستە', 'brah', 'thickle', 'σου', 'adios', \"hangin'\", 'yeow', 'cinderfella', 'naninaninani', 'zyskać', 'artista', 'nipsey', 'zanotti', 'doobiest', \"resurrectin'\", 'edosior', 'thurr', 'abys', 'theeth', 'postin', 'dağılma', \"nigga'\", 'bıçağın', \"bingewatchin'\", \"j'appartiens\", \"cummin'\", 'lifethe', \"swappin'\", 'ئەلبوومی', 'بڕۆین', 'breonna', 'frogg', 'لوگو', 'lamborghinis', 'ať', \"abracadab'\", 'noche', 'ohohohohohoh', 'wakin', 'atatiana', \"diddy's\", 'comerica', 'saydırıyorum', 'uważano', \"'46\", 'vurdum', 'ڤیـ', 'richside', 'triedest', 'alakazam', 'jordans', 'rroger', 'mencintaiku', 'izikhali', 'بۆت', 'heezy', \"grainin'grainin'\", 'khalifa', 'wellread', 'skyrim', 'zeg', 'ddddddday', 'oldu', 'bangbangbang', 'pctrified', 'pumpedup', 'bırakıyorum', 'turucu', 'je', 'yettobeconfirmed', 'youfuck', \"jabbin'christ\", \"heyit's\", 'fonseca', 'womp', 'lukey', 'freakin', 'naïve', 'machel', 'wildass', 'wray', 'bêtement', 'ahehaheh', 'gway', \"feelin's\", 'appe', \"'massage'\", 'zaleze', 'daytoday', \"causin'\", 'brcan', 'smidget', 'παρολο', 'silverado', \"womens'\", 'rezil', 'před', 'fica', 'میگنگوگل', 'افکار', 'reir', 'wantwantwantwant', \"arguin'\", 'mickeyds', 'sittin', 'kıçımı', 'drezy', 'eds', 'tête', \"ain'ti\", 'semicartermatic', 'mcs', 'temor', 'pillies', 'jonesa', \"lcvers'\", 'faithforgotten', 'نیە', 'inbetween', 'gg', 'prie', 'donnel', 'ortenberg', 'tdot', 'été', 'milewhat', \"starvin'\", 'ses', 'likeoh', 'gеtting', 'zonday', 'mempercayaiku', 'nextofkin', \"dismissin'\", 'çocuklara', 'rainman', 'inkas', 'yelawolf', 'gaye', 'shitfaceted', \"free's\", \"l'air\", 'ohohhhhhhohhhohohoh', \"promoters'll\", \"tovább'\", 'whoadies', 'ακολουθησω', 'bkatbboomkat', \"unforgivin'\", 'teeheehee', 'brap', \"billin'\", 'undees', 'vierzehn', 'chuckee', 'skywalker', 'rcve', 'φορες', 'oohwoooohoohooh', 'nolongtalker', 'beyhive', 'estamos', \"deservin'\", 'hahahahahahaha', 'možemo', 'bystands', 'tracе', 'shoppin', \"cccan't\", 'nfl', 'rozciąga', 'ναι', 'puba', \"minewhat's\", 'quisiera', 'wellprepped', 'deportes', 'tttalk', 'vivía', 'příšerně', 'فهمیده', 'но', 'rogarme', 'пиздах', 'felvettem', 'hahahahaheart', 'spacebound', 'pursuin', 'calibur', \"soarin'\", 'riddim', 'assed', 'droptop', 'pleaseyeah', 'yubba', 'edumacator', 'twoinch', 'ibomb', 'ritmine', 'değiştirmek', 'ماوەی', 'ugk', \"'mommy'\", 'alizé', 'sekerkou', 'downsouth', 'luí', '危険なシグナル', 'salope', 'cherrythongcom', 'arís', 'tbe', \"e'rryday\", \"eyein'\", 'tantos', 'yapmayacağımı', 'farrah', \"fishin'\", 'billi', 'shúil', 'hardtoget', \"son'll\", 'assyou', 'insanlar', 'piklz', 'melihat', 'mencintaimu', 'witherspoon', 'stanie', 'söylemedi', 'dimo', '0x', 'mmmmmaybach', 'rozdělit', \"surprisin'\", 'boygirl', 'stuntin', 'setlistlady', 'horyn', 'dylon', 'homi', 'θυμαμαι', \"'zilla\", 'hooptyhooptyhoop', 'buffabuffalo', \"dollaz'\", \"admittin'\", 'reremember', \"trowin'\", 'گلوله', 'honeylook', 'navoho', 'میومدن', 'goto', 'jackolantern', 'skechers', \"beaver'\", \"glo'ed\", 'f50', 'dadom', 'imzalamak', '_____es', 'animalsmals', 'maann', 'colour', 'بیایم', \"'64\", 'fortythousand', 'cammino', 'youuuuu', 'cameltoe', 'liebe', 'shityeah', '시간', \"'bae\", 'hustlin', 'niall', 'eilsh', \"'em's\", 'm80', 'buttdial', 'beğeneceğinizi', 'çocukken', 'amole', 'pauls', 'újra', 'probationfight', 'allamerican', \"swimmin'\", \"gibberin'\", 'εμεις', 'benzinoshit', '___', \"'profile'\", 'یکبار', 'معروف', 'hoochie', \"transformin'\", 'latenigh', 'briseadh', 'jesteś', 'buuutt', 'fck', 'trainor', 'izz', 'dreson', 'rapup', 'grandkids', 'becasue', \"'slut'\", 'droc', 'لەم', 't4', 'نمیتونیم', \"rollin'\", 'نفهمیدی', 'bombbomb', 'hedefine', 'قول', 'mucht', 'oliendo', 'سفید', 'vinz', 'sommes', 'ganas', 'ridaz', 'chosa', 'ihtimal', 'chchchcherries', \"ducin'\", 'dangdang', 'rkelly', 'taxbrack', 'vence', \"everythin'\", 'luci', \"mappin'\", 'hearin', 'jestem', 'zürafayı', 'daviddaviddaviddaviddaviddavid', 'unemploying', 'tygatyga', 'téren', 'unlyrical', 'creepin', 'magnavox', \"monsta's\", 'tadahda', 'mcclarens', 'hahah', 'alltime', 'protege', 'der', 'hakkında', 'penser', 'twerk', \"flickin'\", 'fisker', 'annak', \"there'ssomething\", \"circlin'\", 'customfitted', \"5'\", 'darkdarkdark', 'unmisunderstood', 'dimed', 'shoulderstrap', 'emzee', 'uckfay', 'calze', 'tekisiniz', 'دریا', 'ohoohooahhahh', 'ustedes', 'buillí', 'shakira', \"yackin'\", 'pérignon', 'havе', 'nelissa', 'veled', 'freestyling', 'chroí', 'καθε', \"'dam\", \"declinin'\", 'subtweets', 'esophogus', \"shadyfuckin'aftermath\", 'markie', 'jelentek', 'lxve', 'psycodrama', 'budden', \"puffy's\", 'booggz', 'ón', 'xl', 'magát', \"aimin'\", 'houstatlantavegas', 'conoces', 'naeco', \"findin'\", 'cockadoodle', 'oturup', 'تورو', \"muh'fuckin'\", 'highpowered', \"'so\", 'گرامر', 'artrave', 'garantizado', 'mhm', 'fronteras', 'su', 'sayall', 'photoshop', 'ohhh', 'ofortwo', 'licky', 'frontfront', 'velemjézusom', 'které', 'lowkey', 'میخورممن', 'قسانە', \"er'body\", 'escucho', 'musa', 'rigth', 'ttell', 'جایی', 'jonny', 'adel', 'inceptiontype', 'brrrt', 'denuan', 'biohazard', 'numbnumbnumb', \"y'all'll\", 'ehey', 'ballz', 'dimetapp', 'acapella', 'drinkin', 'waydat', 'φορά', 'fullsplit', 'huncho', 'oohh', 'parx', 'adjátok', 'takhle', 'elsadig', 'tarafından', 'xanaxes', 'een', \"lambo'\", 'vámanos', 'administerer', 'gwaan', 'brung', \"snorkelin'\", 'cena', \"understandin'\", 'salvaje', 'wunderbar', 'steez', 'tekken', 'tonite', 'maximus', 'beltword', 'wamables', 'youselfint', 'acabamos', 'fortyseven', 'lеtti', 'οδο', 'jeapordy', 'ohwas', 'favre', 'سەرسام', 'منی', 'wackass', \"isolatin'\", 'rud', 'macskának', \"lovers'\", 'quotables', 'housegots', 'goldlink', 'indianstyle', 'mýa', \"wanderin'\", \"guzzlei'm\", 'سرم', 'بدی', 'limitwhat', 'będę', \"whinnin'\", 'refrein', 'ewan', 'sdemandait', 'intubated', 'kristofferson', 'dirà', 'thedream', 'کمد', 'askin', 'alqaeda', 'izzad', 'mamamamarry', \"partyin'\", \"ownin'\", 'conozco', 'andale', 'tv', \"medicine'll\", 'πότε', 'aires', 'هیپ', 'edgeeh', 'bbbbitch', '8ball', 'lipo', 'lovedrunk', 'είμαι', \"s'thginot\", 'kiera', 'townmoving', 'بێزارم', 'tengo', 'şarkıları', 'pensé', 'lifetimebruno', 'fani', 'depois', 'pazzo', 'buttando', 'paduan', 'mmmmmmohhhh', 'hemm', 'einhundert', 'zazie', 'itmug', 'globaly', 'aheady', \"cruisin'\", 'lany', 'hunna', 'jours', 'tasers', 'cahh', 'indio', \"thunderin'\", 'batalhas', 'checka', 'shadyaftermath', 'peacockcockcock', 'joffrey', 'ahhaha', 'turnt', \"cursin'\", 'snackpack', \"amazin'\", 'cpt', 'dougthepug', 'poder', 'baleed', 'serta', 'steig', 'blehh', 'biterphobia', 'schleiban', 'dólar', 'threeee', 'کەڕ', \"wmd's\", 'aw', 'سەرو', 'noohohohoh', 'emoción', 'tanktop', 'halfdead', 'korkuyor', 'وتراوە', 'kuts', 'mothafuck', 'jojon', 'siento', 'finsta', 'phifer', 'rippedskkkrr', 'rosacea', 'skinnies', 'seperti', 'chitown', 'sacario', 'danica', 'motola', \"everlastin'\", 'بوەستە', 'wwwwwwrong', 'zedd', 'rattattap', 'somе', 'eyeahyeahyeah', 'ocd', 'twoply', 'dadadada', \"'germaine\", 'woahooh', 'scottheron', 'bеfore', '得你能透視至此', 'stutiful', \"teamin'\", 'placks', 'brrp', 'neeks', 'za', 'wa', 'breakin', 'inyaface', '50somethings', 'آبکی', 'اونارو', 'espera', 'zmieniła', 'nininight', \"coca'\", 'utáltad', 'دی', 'arrêtons', 'بزرگ', \"frightenin'\", 'susam', 'yeeyeah', 'tattletelling', 'rockout', 'kształtu', 'μπορούσα', 'fógairt', \"purchasin'\", 'rm', 'üzücü', \"competin'\", 'ناخود', 'jsem', 'uyuşturucu', 'whatah', \"never'd\", 'rhab', 'uploadbanks', 'yeaa', \"g'd\", 'fourteenday', 'punany', \"poundin'\", \"mo'fucker\", 'тебя', 'sissor', 'ناین', 'pues', \"maybachin'\", 'خوبه', 'illnois', 'adlibs', 'poohy', 'lifelife', '愛恨都是種挑逗', 'habitación', 'threehundred', 'brakin', 'وەکو', 'meska', 'bueller', 'pensylvania', 'gohruh', 'bootalk', 'yaow', 'yays', 'tapdance', \"swallowin'\", 'selektah', 'iim', 'aahooh', 'załatwić', \"judgin'\", 'sıçıyorum', 'poppin', 'bardzo', 'tantas', 'slutokay', 'allages', 'آفرینش', 'maddas', \"'burg\", 'jeebies', 'dufflebag', 'glasto', \"superstardom's\", 'chemlelelelelelele', 'alonе', 'juul', 'nias', 'hablemos', 'sacha', 'dankanter', \"happy's\", 'bebewould', 'eightyearold', 'strasburg', 'блестит', 'volim', 'photoshopped', '8am', 'да', 'multianother', 'fallouts', 'rrunrun', 'loustar', 'ékszereid', 'stejně', 'mts', 'lequel', 'selalu', 'k9', 'ahaahaahaahaahhafhaa', 'umdadahdadahda', 'dissledin', 'هات', 'دەڕوانن', 'fbombs', 'bia', 'vagyok', 'sugarboo', 'проводе', 'reyez', 'سکس', 'دەکوژم', 'cllg', 'oooon', 'για', 'itchbay', 'upnorth', \"jokin'\", \"rememberin'\", \"gafflin'\", 'lipsyncing', 'thizzle', 'pinkett', 'soliders', 'acá', 'noohohoh', 'ritchie', 'improv', 'intenzita', \"panellin'\", 'اونو', \"'round's\", 'secondincommand', 'właśnie', \"what'cha\", \"targettin'\", 'stripclub', 'mijnе', 'chanté', \"better'\", 'kpaka', 'achar', 'teezy', 'trayvon', 'uğğğ', \"ceilin'\", \"'bob'\", 'saltando', 'bebé', 'soyiqeda', 'listenin', \"envisionin'\", 'linndrum', 'bármikor', 'rithimis', \"ragin'\", 'beavis', \"itwhy's\", 'halfpint', 'puta', 'kian', \"'self\", \"muh'fucker\", 'pico', \"open'\", 'zacari', \"70's\", \"spellings'\", 'loudy', 'crossdressed', 'başaramayacak', 'alrightx', 'dostává', 'easе', '수', 'ziele', 'lami', 'gueguegue', 'bheidh', 'numberone', 'vassata', 'impregenate', 'aleck', 'denaun', 'پایین', 'exlove', 'mirrorball', 'oddychasz', 'dungrares', 'ringachong', 'ucksay', 'patek', 'ciğerinizde', 'jamberay', 'iew', 'lluminati', 'brigante', 'slimshut', 'dýky', 'bm', \"vibin'\", 'skam', 'livin', 'suara', 'shangela', 'onegreat', 'mottola', 'وحشتناکی', 'housie', 'dez', 'خیلی', 'austa', 'makinayı', \"ccomin'\", 'aucun', 'bluray', 'felder', 'motherfukin', 'neverending', \"curdlin'\", \"nothin'\", \"speakin'\", \"choosin'\", 'rappelle', \"nas's\", 'akon', 'bigbibibaby', 'rassemblent', 'şeylerin', 'aboarded', 'shakeshake', 'whacamole', 'excitan', 'monkeylooking', 'haux', 'alloffensiveonpurpose', 'halfalive', 'fullblown', 'shemar', 'olds', 'yeahsound', 'ratas', 'bareknuckles', 'madre', \"bombin'\", 'gona', 'bitchin', \"bossin'\", 'soakin', \"babblin'\", 'stormless', 'teacha', 'برئونا', 'ferrigno', 'marcarme', 'troooooooah', 'bomboclaat', 'mula', 'eilish', 'eyetoeye', 'x9', 'shortlived', 'bodys', 'themsome', 'valorar', 'xiii', 'nogo', 'ako', 'što', \"swaggin'\", 'délivre', 'titrеyemiyorum', \"40's\", 'gimmie', 'dahasını', 'wifed', 'rollohohoh', 'mortem', 'ohwoahohohyeahey', 'donnezmoi', 'gigigive', 'میکنن', 'γύρισω', 'hillman', \"queen'll\", 'westside', 'mosely', 'buggish', 'eğlenceliydi', \"romancin'\", 'plexing', 'fumando', 'shе', 'prevoked', \"l'aperçois\", 'ws', 'tamposi', 'dropsradio', 'halfeaten', \"buncha'\", 'tzu', 'kis', 'žil', 'blingabling', 'escada', \"chainsawin'\", 'deuxième', 'ئامادە', 'времени', 'fleiss', \"mm's\", 'anywayyeah', 'stststole', 'oblongata', 'beso', 'ughh', 'bedingfield', 'daydays', 'birkaç', 'querias', 'averiguar', \"qu'un\", \"cccomin'\", 'spiderman', 'rollercoasting', 'acabado', 'vater', 'coretta', 'بخوازن', 'dando', 'somedays', \"applaudin'\", 'liom', 'brzmię', 'duela', 'favorito', \"splittin'\", 'grinnin', 'vil', \"lcver's\", 'uberx', 'toutes', 'iiiiiii', 'doodoodoo', 'blk', 'doremi', \"toastin'\", 'találniuk', \"cocksuckin'\", 'spendin', 'yumyum', 'efx', 'alrightalright', 'jacy', 'jеt', 'дарю', 'todrick', 'ratatattat', 'chce', 'seni', 'moje', 'rufio', \"''your\", 'dropshit', 'со', 'καλιφορνιας', 'ideabreak', \"pannin'\", 'prises', 'mlk', \"lightnin'\", 'yapmıyorum', \"cocktails'll\", 'amúgy', 'piękno', 'eatin', 'dirrty', 'dirirt', 'ummmmm', 'teacht', 'dodododododo', \"whatdaddy's\", 'glutes', 'shaquille', 'jorza', 'jazeera', 'cosa', 'lipschitz', 'pongo', 'paupières', 'ڕوون', 'joyest', 'portret', 'تشبیه', 'coït', 'ein', 'небесах', 'uppersanddowners', 'рук', 'uninow', 'migopersona', 'inna', 'cueros', 'demarcus', \"4'\", 'میتونین', 'lanzar', 'lanco', 'taciz', 'ketahuilah', 'nahah', \"gasta'\", 'nnew', '5s', 'bizzle', 'afeeling', \"kimmy's\", 'umuyoruz', \"'burbs\", 'deucedeuce', 'sitch', 'redman', 'uhuhuhuhuh', 'todo', 'сукам', \"frontin'\", \"supportin'\", 'seasann', 'manix', 'üske', 'athis', \"dawnin'\", 'robo', 'lekesi', \"i'da\", 'już', 'singerwriter', 'ducing', 'jadakiss', 'blueandred', 'ahaaaaha', 'kişi', 'budowałeś', 'godmama', 'povich', 'krijgen', 'knooooooow', 'chkkchkchk', 'pergi', 'lewinski', 'olsaydı', 'yesso', 'hifi', 'spraypainted', 'propiamente', \"easin'\", 'ynlka', 'vorhees', 'میدونستم', 'rzucałby', 'لعنت', 'alrightsweetenersuccessful', 'gah', 'aerospit', \"anna's\", 'cmoon', 'ccan', 'manevolent', 'screenshot', 'hypest', 'پەیوەندی', 'mtbmb', 'bangable', 'ekali', 'brignac', \"cuero'\", 'bryson', 'lolove', 'mazi', 'fk', 'breasteses', 'quédate', 'presidental', \"bear''\", \"bloodshould've\", 'sotto', 'namesand', 'smallzcom', 'آسیب', 'dumbing', \"bet'\", \"'itis\", 'durmió', 'bromo', 'hoopti', 'formationclick', 'momother', 'cantar', 'menyimpang', 'dweet', 'wutang', 'letzigrund', 'offtime', \"room'll\", 'infront', 'queremos', 'biliyorum', \"muhfuckas'\", 'aplin', 'laywers', 'betterum', 'multiverse', \"pressin'\", 'lilys', 'toppa', 'ssstutter', 'als', 'babydrizzy', 'lp', 'triky', 'looloo', 'mattressss', 'zły', 'comecome', 'viele', 'shitlist', 'lllets', 'blackedout', \"este's\", 'مردن', 'zrovna', 'parro', 'estive', \"suffocatin'\", \"d'argent\", \"see'\", 'busta', 'lleca', 'epsa', \"linen'd\", 'matinee', 'offa', 'motel8', 'movin', 'lleva', 'diggy', 'шикшик', 'heartbroke', 'dxohpe', 'shadyyo', 'danana', 'روشونو', 'měl', 'noshow', 'altura', 'uzun', 'szacunku', 'hadi', \"'otic\", 'confuso', \"scorin'\", 'nunchuck', 'flyeyeeye', 'ent', 'bloomberg', 'raab', 'megvolt', 'pipin', 'сесть', \"pa'l\", 'zo', 'soit', 'labelle', 'didn', 'furán', 'przypisy', 'ahhhhhh', 'αυτην', 'hurn', 'motherf', 'cmb', 'nesbitt', 'bababa', 'cockboy', 'molde', 'diablo', 'valóban', 'scuola', 'dickory', 'meijers', 'redemptionint', 'damnit', \"floatin'\", 'sembri', 'içi', \"chron'\", 'لێدەدرێت', 'gyal', 'οταν', 'senin', 'salonunda', 'lanez', 'connor', 'marvellous', \"'rassle\", 'pólódat', 'iiliked', 'huhuh', 'quieren', 'ririck', 'tabancanın', 'دەسووڕایەوە', 'dimebag', 'tiptronic', 'dolar', 'دیسی', 'ты', 'توهم', 'retill', 'youstay', \"naturally's\", \"spendin'\", \"one'll\", 'hoohohoh', 'hoеs', 'mbeidh', 'qc', 'januaryfebruary', 'garrix', 'tswift', 'ny', \"sleepwalkin'\", \"fox'll\", \"yellin'\", 'πάντα', 'chuid', 'rerespected', 'tre', 'shshshshsh', 'butto', 'sleeze', 'بود', 'truhunk', 'conmigo', 'statik', 'تێک', 'marshmello', 'fefifofum', \"to's\", 'ameriky', 'maaaa', 'uğraş', 'koştum', 'cymphonique', \"finnickin'\", \"blitzin'\", 'continente', 'akeem', 'とろけそうなkiss', 'tvoje', 'wasnt', 'fasho', 'نیم', 'birini', 'syn', 'najimy', 'drakke', 'palin', 'sizzurp', 'harga', 'selfassured', 'mothermother', 'fiúnak', 'streep', 'légy', 'straně', 'mmmaybach', 'gogogadget', 'sundayim', 'dependo', 'آرهاونا', \"gangbangin'\", \"fastin'\", 'shouldnt', 'دەمە', 'muppets', 'ڕیڤیڤاڵم', 'mewhy', \"gaythat's\", 'gwagon', 'tehetném', 'piana', 'yadder', 'vics', 'ost', 'bidibombidibombidibay', 'chumchummy', 'donedone', 'hxrt', 'kompai', 'eachand', 'sígame', 'keburukanku', 'dej', 'történnie', 'hihigh', 'leatherstudded', 'aroundooh', 'facendo', 'dangly', \"decomposin'\", \"dees'\", 'تاتۆکەی', 'usthat', \"u're\", \"columbus'\", 'woahho', 'payé', 'mords', 'lakers', 'összekaparni', \"rent'\", 'reda', 'کردن', \"perfectin'\", 'sırf', 'shеlf', 'mothafucking', \"inc's\", 'whooptydo', \"dumplin'\", 'blahblahblahblah', 'gct', 'testeresi', 'باشبومایە', 'brigde', 'rvup', \"'focus\", 'blaaaow', 'ennuí', 'güzel', 'nistelrooy', 'giussepe', 'stuffi', 'stylings', 'этот', 'tsh', 'cyfer', 'throwin', \"heartbreakin'\", 'számunkra', 'uhm', \"lovegluegunnin'\", 'dolusu', 'mau', 'minithin', 'skyrise', 'haaaah', 'ruffio', \"'what\", 'desde', 'razorbalades', 'نیستم', 'veía', \"bimb'\", 'زیان', 'pppecking', 'uhdudu', 'prefiere', 'bezzy', 'vajon', 'skeeza', 'chokin', \"feudin'\", 'guap', 'wertvoll', 'whooooh', 'tagline', \"hoes'\", 'elfelejtettem', 'ragedy', 'イチコロ', 'naoi', 'appetitetite', 'poom', 'woowoo', 'copa', 'treinta', \"satanworshippin'\", 'rayray', 'kwеb', 'dwane', 'bb', 'coppington', 'feminay', 'beteszem', \"bird'seye\", 'ipods', 'swervin', 'bomaye', 'timeleggo', 'dadz', 'čáru', 'nananananaohnanananananana', 'piel', '你真該看看我看看我', 'heyo', 'monch', \"gamblin'\", 'itlady', 'thisll', 'taz', 'tsk', 'suin', 'sposób', 'ladygagafierce', 'śmierć', 'هستمآرهسر', 'rogando', 'aokay', 'strugglers', 'pickin', 'suficiente', 'salda', 'babynot', 'debes', 'biorę', 'pokračuj', 'swinefest', 'damagеd', 'dragraces', \"invadin'\", 'było', \"tell'em\", 'wyclef', \"gettin'\", 'vahse', 'cocino', 'fam', 'verkaufen', 'lovelove', 'chantez', 'chapard', 'eeyoeeyoeeyoeeyeah', \"votin'\", \"hirin'\", 'levittem', 'uhuhuhoh', 'parle', 'mrchows', 'mughlai', 'sondern', 'dipshits', 'likea', 'στους', 'thinkinnnnnn', 'chorexo', \"exgirlfriend's\", 'unicall', 'ookay', 'fourfive', 'hypno', 'tonguesalright', 'somehwere', 'manbreasts', 'porshe', 'gardy', 'babada', \"í've\", 'two6008', 'kiedykolwiek', 'mmanyway', 'sesh', \"mc'd\", 'acceptedit', 'bangers', 'eminemdoh', 'viví', 'všech', \"mu'fuckas\", 'یم', 'rispondo', 'babyback', 'shadyslim', 'sibirobo', 'összehajtottam', 'necesitas', 'keyser', 'grammerin', \"s'aimer\", 'unpoppable', 'ohohno', 'demoları', 'shashake', 'wietrze', 'edecek', 'bekliyor', 'دادم', 'margielas', 'meereen', 'δίνεις', 'dal', 'wishin', 'niro', 'کار', 'dzsekit', 'cerear', 'situationships', '過來吧', 'mclarence', 'بهتر', 'ηταν', \"checkin'\", \"death'll\", 'healin', 'ανακαλυψες', 'climbin', \"brushin'\", 'kufi', 'dérive', 'peli', 'igpay', 'dique', 'walczę', 'creación', 'oohohoohohoh', 'shiznik', 'détestent', 'perf', 'rockstarrockstarrockstarrockstarrockstarrockstar', \"stressin'\", 'perhue', 'creías', 'yackin', 'señor', \"shovin'\", 'köprücük', 'bude', 'papito', 'yiyen', 'tenmillion', \"peoples'\", 'gheal', 'factulty', 'sstreets', 'využít', 'choochoo', 'forma', 'dappadon', 'gerekmiyor', 'кто', \"tell'\", 'rippin', 'odmah', 'closercloser', 'yooptictock', 'googoo', 'jizzes', 'brrrrat', 'clapclap', 'přesně', \"activ'\", 'loveydovey', \"'roid\", 'reste', \"canoodlin'\", 'smallz', 'karrueche', 'esoht', 'hoodies', 'θυμίσου', 'nyu', 'whoo', \"outweighin'\", 'ü', 'rincón', 'oldfashioneds', 'jabari', 'nepřijdu', 'songcome', 'tsweezy', 'bizzench', 'katrin', 'warne', 'timbs', \"signin'\", '너와', 'chesimard', 'lpmy', 'nicky', 'takuti', 'přehnaný', 'whowhat', 'milds', 'κρατάς', 'jako', 'tihs', 'swae', \"meanin'\", 'seventeenyearold', 'vanl', 'iiilove', 'vinessa', \"ho'\", 'ilya', 'pussyass', 'superill', 'ادامه', 'sneezy', \"pawlin'\", 'lizzo', \"comparin'\", 'doops', 'viens', 'jazmine', 'eeniemeeniemineymo', 'gonzalezcruz', 'likelikelike', 'excitar', 'hopeint', 'drawed', 'geah', 'badadadadadadadada', 'dui', 'devenu', 'bileğindeki', 'tingalangalang', 'gggggimme', 'bitchhhhhhhhhh', 'doigts', 'fleek', 'ppink', 'forths', 'اندازه', 'kelsea', 'haon', 'ddddash', 'reprised', 'chérie', 'buicks', 'flyin', '9am', 'mendes', 'chigchiggaretret', 'anlaşmalı', 'حرکت', 'goldmember', 'uness', 'osama', 'woahuhwoah', 'lеave', 'baisser', 'ohohohohoh', 'بیشتر', 'ggm', \"his'es\", 'nevitt', 'perla', 'deau', 'huhuhu', 'igazából', \"stormin'\", 'nanananananananananana', \"together's\", 'fırlatmak', 'nicnicki', 'olivers', 'هەرگیز', 'rightpanning', 'apps', \"breit'\", 'sve', 'neglection', 'drcnk', 'garbageass', 'shittick', 'excusezmoi', 'flushin', 'twentyyear', 'robirebi', 'meanin', 'üste', 'pensaba', 'corcia', 'zamek', 'mmmmurda', 'داکتر', 'badass', 'starar', 'dmx', '999my', 'lelket', 'bébés', \"selfloathin'\", 'louhove', 'amén', 'pppull', 'mcffin', 'giorgio', 'payton', 'maintenant', 'brraaattt', 'mamasa', 'domal', 'iyi', 'vaaliuum', 'bcrqa', 'ghostface', 'phys', 'wellbeing', 'quiera', \"likin'\", 'بزندر', 'heyah', \"t'écouter\", 'saybihdihbih', 'chickachicka', 'برگشت', 'radioeat', 'باکمال', \"ev'ry\", \"'chips\", 'خوبرفیق', 'fós', \"misplacin'\", 'guegueguegueitchkit', 'gönder', 'hururt', \"tourette's\", 'misma', 'kötelességed', 'jodas', 'anises', 'jumbotron', 'ahhah', 'próbálja', 'zemi', 'chrissy', 'samuels', \"skyzoo's\", '4chick', 'boge', 'spirical', '忘掉在溫馨中帶涼', 'fredro', 'ολοκληρος', \"conversatin'\", 'uhohohnono', 'beatboxer', 'blessin', 'boş', 'webstar', 'cantas', 'mal', 'puedas', 'keepz', \"choo's\", \"jeal'\", 'saml', 'egyszer', \"buttersworth's\", \"ghostin'\", \"'8\", 'amigas', 'woahwoah', 'شیدی', 'youuh', 'extrañándote', 'باشترم', 'ticketytocktickety', 'segal', 'bogues', \"parasailin'\", 'dira', 'şişe', 'bellys', 'списке', 'lloré', \"inga's\", 'grrratatata', 'one5808', 'attendsmoi', 'cack', 'pokud', 'nouveau', \"heiny's\", 'dih', 'pancho', 'kai', 'welli', 'wristpect', 'youkikilla', 'freeko', 'aquel', 'teste', 'provenant', 'suckerpunch', 'عقب', 'writtens', 'posso', \"worryin'\", 'vrummvrumm', 'shoreditch', 'vilatle', 'thots', \"droppin'\", 'bboy', \"d'avis\", 'strally', 'massengill', \"muhfuckin'\", 'mcing', 'wouldas', 'nizlopi', \"mothafckin'\", 'tigolebitties', 'shrooms', 'kruegar', 'codirect', 'knowbreak', 'elrendeltetve', 'stuy', 'falschheit', 'devant', 'acethegenius', 'goddamit', 'tiran', 'perlahan', 'hmmoh', 'derado', 'backroads', 'انگار', 'lifesize', 'rumours', 'سمت', \"manifestin'\", 'shotter', 'jamil', 'ddduck', 'çeviren', 'siday', 'déformées', \"rams'\", 'bootylicious', 'everythin', 'sicky', 'mygirlkissedanothergirl', 'tock', 'sokakta', 'polkadot', 'lve', 'yeeaaaaahhhh', 'atown', 'pppellets', \"snappin'\", 'nutsack', 'smallminded', \"'oh\", 'şişman', 'redbone', 'yani', 'esa', 'میکشن', '你的沉默是我最愛的聲音', 'wyginają', 'tt', \"'9\", 'outkast', \"m'en\", 'ziplock', 'katil', 'wearin', 'peu', 'yeeeeeeah', \"leakin'\", 'ninguno', \"lyricsmugglin'\", 'estuve', \"baggin'\", 'squeezy', 'پس', 'mutha', 'çılgın', 'extraño', 'damngive', 'نمیکنم', 'koce', 'hackensack', 'ohayeohaye', 'büyüdüm', 'callin', 'puttputt', 'ballerines', 'byś', 'proche', \"clubhoppin'\", 'poleruję', 'você', '驚聲尖叫', 'alarma', 'poutine', 'لی', 'beyoncés', 'bbbbbb', 'resapi', \"bobbin'\", 'buď', 'زمانه', 'likkle', 'raleys', 'alante', 'idgaf', 'cersei', 'tahhdum', \"'pendin'\", 'eveytime', 'زیاد', 'bilmeden', 'lcpstick', 'miraclespiritual', 'мной', 'sikerler', 'deliyim', 'scxy', 'libs', 'sota', 'minahh', 'potem', 'pepe', \"coughin'\", 'κράτησε', 'ninas', 'ihe', \"get'em\", 'دیارە', 'prenup', 'kkiss', 'promethazine', 'klansmena', 'değilsin', 'بیگرم', 'krayzie', 'hooptie', 'spazzing', \"where'd\", \"fa'\", 'bayside', 'megváltozott', 'نماند', 'ropeadope', 'نجات', 'bornana', \"fallin'\", 'weekendmaybe', 'evi', 'rathering', 'erra', 'ngrá', 'shaq', 'physed', 'вовсе', \"tiffany's\", 'kiiara', 'monie', 'fifofum', 'spasmatic', 'gcrl', 'phlean', 'gcode', \"somethin'\", \"'specially\", 'succeedceedceed', 'cakecake', 'şeyi', 'gyllenhaal', 'est', 'αφήσω', \"niggas'\", 'xxl', 'tilapias', \"befo'\", 'ارزشگفتی', 'accelerants', 'دیدم', \"lotta'\", 'accentcentcentcent', 'iggs', 'aggy', 'néhány', 'buttchin', 'moonvibe', 'jealousridden', 'lorrel', 'لعنتیتو', 'tellement', 'rainass', 'hashtags', 'oneonone', 'αριζονας', 'amalfi', 'gönderme', \"comcomcomin'\", 'слишком', 'uhhu', 'eriksen', 'کنی', 'thinkin', 'چەوتن', 'gunthrie', 'gibbo', 'شدم', 'tocando', 'değil', 'caidos', \"hoopin'\", 'dms', 'faszba', 'apartup', 'pillé', 'fibias', 'deterior', 'waro', 'scurred', \"avoidin'\", 'فوقالعاده', 'willkommen', 'cowsa', 'convo', 'getget', 'cy', 'yaaaaaaasssss', 'handstanding', 'hopin', 'tenspeed', 'backfade', \"'hold\", \"'06\", 'corazon', 'oluyor', '_____', 'tttell', 'whatchya', 'legeye', 'xyz688', 'whitestrip', 'whoaho', '80year', 'κομάτι', 'td', 'punchliner', 'nig', 'roscoes', 'sprayz', \"'nother\", 'dooooooves', 'makonnen', \"waiti'm\", 'istiyorum', 'escapin', 'dalai', 'dicen', 'wishеs', 'swayze', \"chasin'\", 'duking', 'rodman', 'honeybunches', 'jumpin', \"ladies'\", \"horseplayin'\", 'monsta', 'dicksucking', 'bwoydem', 'berp', 'parmakları', 'remsen', 'rátudjak', \"packin'\", 'rumprump', 'caliente', 'obaa', 'verme', 'whitepac', 'vandalous', 'shitthat', 'ڕقاوی', \"i'mma\", \"petey's\", 'ohohayo', 'imaginação', 'никаких', 'anis0', 'trilla', 'estow', \"lipo'd\", 'fefe', 'سعی', 'briggite', 'aaaahh', 'tutumum', 'rerespect', 'کز', 'dxpe', 'stanko', 'woahohohohohohoh', 'juug', 'cavallari', 'nawmean', 'تی_مینوسپرودیوسر', 'twoseaters', 'heyy', \"fella's\", 'ooohhhh', 'خۆیان', 'baso', \"'er\", 'hoopdies', 'silvercity', 'bidibidibidibidibombidibay', 'odpływają', 'tryeyyyeyyyeyyy', 'workline', 'napa', 'aringing', 'sepertinya', \"revolvin'\", 'sais', 'bahdadadat', 'κλειστα', 'nooo', 'skag', 'puth', 'začít', \"functionin'\", 'rubberband', 'causе', 'fuckedbitch', 'coldblood', 'شاتاشاره', 'ночь', \"nuthin'\", 'doch', 'nicopanda', 'bathingroom', 'americaworldhow', 'goin', 'lada', 'shihtzu', \"rhyming's\", 'همیشه', 'grrrrrah', 'cabello', \"infinit'\", 'hickorydickorydock', 'συνθεσουν', 'cortó', 'bumbums', 'saveaho', 'کنم', 'эдика', 'thrillin', 'jеzelf', 'faire', 'danno', \"'my\", 'μουσικη', 'pj', 'sltotheim', 'buhlieve', 'başlaması', 'kanye', 'cashis', 'fok', 'mput', 'çift', 'lanet', 'fuair', 'putash', 'dyo', 'sisco', 'shesaid', 'iki', 'undercovers', 'hottersexy', 'sublims', 'bolca', 'cah', 'aparasite', 'elephantitis', 'jae', \"dicklickin'\", \"ocd's\", 'buncha', \"throwin'\", 'pickler', 'zostać', 'icedout', 'mothafuckers', 'amiri', 'toesies', \"enablin'\", 'új', 'macgyver', 'predominantlywhite', 'چرامن', 'خیابونا', 'دا', 'tinka', 'photog', 'لعنتیمتو', \"do'\", \"change'\", 'fuckin', '4pm', 'threadning', 'saville', 'lieber', 'tnaw', 'aaaaaaah', \"the'\", 'meth', 'seeseeseesee', '平和地相處的美好', 'nakrywam', \"d'ongles\", 'annem', 'huhuhuhuhuhuhuhuh', 'pippen', 'sil', 'mujer', 'chinga', 'gondolataikon', 'uzaktayken', 'durdurmaya', 'hiv', \"on's\", 'onceinalifetime', 'thithithithi', 'ゴージャスなそのlips', 'mineymotoeeniemeenie', 'fruto', 'peckerwood', 'chunway', 'nickihndrxx', 'taketake', 'sketels', 'cowriters', 'malo', 'faceass', 'fieri', 'patronun', 'شاد', 'watcha', 'braku', 'elhinni', 'niggahz', 'yeaheheheh', 'wayans', 'jt', 'sugarland', 'oscuro', 'éist', 'waistdeep', \"beefin'\", 'criticado', 'pumba', \"rentin'\", 'darkdark', 'colouring', 'φωνής', 'gibi', 'aquella', \"innocentlookin'\", 'receiptsthe', 'dropspurple', 'está', 'моей', 'réparer', \"y'allfellas\", 'suyla', 'χρυσος', '____', \"thereain't\", 'broadcastin', 'ayi', 'partynauseous', 'incazzato', 'shotta', 'flflfly', 'swallowin', 'camila', \"'08\", 'nuair', 'çıkan', \"quittin'\", 'yedin', 'proto', 'steadyspeakin', 'looki', \"'the\", 'topfloor', \"musn't\", 'geht', \"stoppin'\", 'pokaždé', 'meeeee', 'dururken', \"growlin'\", 'ебу', 'heh', 'voashes', 'meilleur', 'celine', 'n9ne', 'topdown', \"'long\", 'holdin', '50s', 'nwainkinden', 'ren', 'troppo', \"wanted's\", 'miccheck', 'iceskating', 'actuallyand', 'eevee', \"iti've\", 'selfinflicted', 'broov', 'masasına', 'hitech', 'حال', 'fallin', 'bustin', 'yorkville', 'tváře', 'kool', \"'whats\", 'breezin', 'aquí', \"affectin'\", 'selfpreservation', 'collisionspoken', 'yüzden', 'ڕقیان', 'woofwoof', 'gaultier', 'álmok', 'ahahahah', 'chickenheads', 'lainie', 'allthistime', 'giyin', 'aiyyo', 'wouldve', 'courtnee', 'shing', \"phonin'\", \"truth'd\", 'حالا', 'haffi', 'dejé', 'wasup', 'chrisstiffer', 'leastsa', 'misfortunate', \"llet's\", 'closedminded', 'niesamowicie', 'pms', 'mayn', 'bedum', 'verdad', 'obuzmeš', 'évre', 'hortons', \"'spose\", 'selfimposed', 'جی5', 'puuuh', 'wrld', 'خرابی', \"stonin'\", 'juss', 'stórín', 'ablibs', 'небеса', 'dababy', \"ocb's\", 'crème', \"bygones'll\", 'pierdas', 'rire', 'yabadabadoo', 'mmmmm', 'mixtape', \"wheelin'\", 'demolarını', 'noop', 'dissapoint', 'arayacağız', 'forgivenessext', 'airplaysalesstreamingbased', 'quos', 'rells', 'že', 'tripp', 'boyboyfriend', 'szívvel', 'itayedo', 'ama', \"cravin'\", 'anydamnwhere', 'calledlove', 'borat', 'jjada', 'redant', 'eckrich', 'chapmans', 'jawa', 'rhy', 'definitewait', \"not've\", 'sprawiło', 'dutty', \"protectin'\", 'لعنتیو', 'bebanku', '04headlights', 'blundy', \"coldplay's\", 'داک', 'trás', 'sagteenagers', 'θα', 'skrrt', \"mobbin'\", 'cuento', 'mamasaymamasamamacosa', 'pisarz', 'jdeme', 'obvio', 'bbk', 'subie', 'brrr', 'rálőttünk', \"d'essayer\", 'carwe', \"tat's\", 'bonsam', 'oíche', 'ozzfest', 'nai', 'protegé', 'mhmmhm', 'sabes', 'elitär', 'nightnight', \"won'twon't\", 'giveon', 'onetwo', 'ganzen', 'δεν', 'druha', 'umi', 'وتیان', 'میکردن', 'onе', 'atomovou', 'baila', 'ahahahahahahahahahah', 'unrecupable', '逃れようとしても', \"'sex\", 'lalalalala', 'rozay', 'formalde', 'stade', 'giuseppes', \"rubik'sa\", 'troyer', 'umh', 'ventes', 'aldım', '49er', 'phonte', 'fuckedup', 'взял', \"peers'\", 'twopiece', 'stylin', \"dt's\", 'blueface', 'dico', 'eugh', 'maybelline', \"reelin'\", \"met'cha\", 'dobodom', \"minglin'\", 'bodybag', \"fantasizin'\", 'dicksnots', 'rainbowlooking', 'куплет', \"headbangin'\", 'sabadore', 'biću', 'rothschilds', 'nur', 'echosmith', \"breezy's\", 'hargitay', \"tony's\", \"'on\", \"getting'\", 'ajándékot', 'abaziyo', \"ibamb'umthetho\", 'modellerin', 'aaand', 'supa', \"il'\", 'твою', 'barbarachic', 'firebrigade', 'cien', \"rubbin'\", 'murdercedes', 'shotsno', 'دەنێم', 'popofuck', 'دەست', 'zamn', 'thenand', \"cockin'\", 'explorador', '7yearold', 'kanepenin', 'inspectah', 'shshshut', \"teteteteacher's\", 'cymphoniqueyou', 'loudies', 'presiddead', \"masterin'\", 'taşşak', 'johb', 'goode', 'femmes', 'dorags', 'دخترتو', 'cryin', 'summerboy', 'moooo', 'φωτογράφια', \"spillin'\", 'feefididideeyay', 'fofours', 'veteránům', 'ooooooohhh', \"hittin'\", 'igaz', 'pusha', 'hipta', '6ix', 'plegic', 'memiliki', 'yeahhee', 'aller', 'قدیمی', 'ji', 'danza', 'sms', 'mestab', 'میرم', 'αναμνήσεις', 'trafford', 'fo', 'condit', 'پچووک', 'drdrdrdragged', 'llamando', 'yayya', \"i'manna\", 'xanny', 'offdancing', 'chuckie', 'leakers', 'lameass', \"'04\", 'napon', 'offseason', 'wannna', 'флаг', 'pinkprint', 'jodeci', 'sinceré', 'mikiyah', \"motionin'\", 'pingpong', 'tano', 'll', 'wwwwwwork', 'shoutnow', \"ain't'\", 'villans', 'jb', \"pipipickin'\", 'ghostride', \"rantin'\", 'bbs', 'wakingup', 'نیاز', 'lomb', 'fakeass', 'geekn', 'hairtriggers', \"to'as\", 'malik', 'onları', 'pembe', 'هەندێک', 'vere', 'identicalbut', 'ppeared', 'gggo', 'mile_high', \"robbin'\", 'chicachicachicachicachicachicachica', 'satabilmeyi', 'quicky', \"nigga's\", \"qu'à\", 'devs', \"bun'crum\", 'gunbutt', 'kişiyi', 'ją', 'frisbees', 'kaepernick', 'chikka', 'topy', 'duckuh', 'nownow', 'alleyoop', 'odb', 'youngdell', 'oko', 'جنگجو', \"roastin'\", 'puedo', 'scissorleg', 'rrrrrrrrrr', 'ahahahaaah', 'nashawn', 'merain', \"mornin'now\", 'вайбах', 'yoluydu', '在我的國度裡的一股惡寒', \"up'\", 'bxre', 'nicht', 'puro', 'whos', 'forcefed', 'lickwood', 'signingbonus', 'morias', \"consultin'\", 'gurls', 'givest', 'هەمان', 'cranbrook', 'monstère', 'pennys', 'bifteği', 'ï', 'kryptonite', 'belvee', 'mère', 'remixeminem', 'basano', 'sourcetaki', 'pf', 'trouver', 'pppush', 'zatím', 'yeshua', 'niyetimiz', 'ojos', 'بیاره', 'thirtyseater', 'spriing', 'nextselection', 'pra', 'llévame', 'dengan', 'tryy', 'chachanging', 'boğazındaki', 'wooooah', \"shoulda'\", 'rised', 'makemakemake', 'beyes', 'dingied', 'ból', \"caput'cha\", \"let'sgo\", 'mí', 'pornhub', 'stushing', 'pothose', \"mentionin'\", 'nother', 'justwhat', \"hustlin'backwards\", \"kardashian's\", \"sani'\", 'ajan', 'dolabına', 'trillionwatt', 'اینترنت', \"divorcin'\", 'bmz', 'terminamos', \"cooch'\", 'highgate', 'بڵاوی', \"yy'dig\", \"riker's\", 'quieras', 'gisselle', 'weve', 'fonsi', 'así', 'jeder', 'rvssian', 'fuckfuckfuck', 'فراموش', 'higgyél', 'mmmmia', 'wir', \"'is\", 'gigigiving', 'ohwe', 'zehirli', 'ohwoah', 'shalalalalow', 'ladrón', 'fourfifth', 'screwup', 'rrun', 'ψυχη', 'esé', 'highbury', 'rahmel', \"buyin'\", 'blubland', 'vinylz', 'charmagne', 'illmatic', 'cacher', 'prr', 'med', 'leavе', \"flexin'\", 'gluesticks', 'bisa', \"qu'être\", 'xoxo', 'vrátí', 'olvidé', \"listеnin'\", \"kuti's\", 'chachachachanging', 'ooouuu', 'haaa', 'champa', 'daj', 'knowingness', 'sırtını', 'mmoney', \"i'llliehere\", 'irte', \"ahswag's\", 'demartino', 'unifloats', 'nevermind', 'flowowowow', 'copian', 'm6s', 'aplus', 'versace', 'رپر', 'pla', 'onehand', 'mackie', 'draino', \"instru's\", 'handbasket', 'köter', \"swangin'\", \"relatin'\", 'buenas', '방의', 'iu', 'rrrrrr', 'worldworld', 'celebrowana', 'leftwich', 'etiuq', 'babys', 'sesini', \"adjustin'\", 'stephon', 'pеrfect', 'bitchmade', \"aringin'\", 'moto', 'zuse', 'nevadě', 'skinneded', 'chokehold', \"umpirin'\", 'solunum', \"reclinin'\", 'ahu', 'regalo', 'pido', 'chedda', 'vinn', 'muthafuckas', 'coexecutive', 'cowtip', 'unsere', \"dead'em\", 'twosided', 'noooooh', 'longside', 'yaşları', 'ahah', 'vick', 'coi', 'eljön', \"mousei'm\", 'thisin', 'tekashi', 'killas', 'μπορω', 'ym', 'ohohohohohohohohohohoh', 'rapçi', 'liiiie', 'digo', 'aa', 'estar', 'arrepiento', 'hiciste', \"bout'\", 'dividir', 'colours', 'dansel', 'stretcha', 'ناوازەن', \"o'reilly\", 'propio', 'yé', 'flashin', 'screwups', 'dundddundundddundun', 'colbie', 'compro', 'lyin', 'izzon', 'همینطور', 'izgalmak', 'چو', 'brakeline', 'wowowoworried', \"rall'\", \"rapmobilelet's\", \"'84\", \"braggin'\", 'گوهرند', 'mingaling', 'کل', 'połowy', 'inekleri', 'motherfuckas', \"lashin'\", 'unii', 'hererer', '我也失望', 'shinе', 'soir', 'melodię', 'dessus', 'görünüşe', 'presidentsdents', 'skio', 'faits', 'milf', '77th', 'دیگه', 'cert', 'porche', 'selfdestruct', 'úgy', 'wykwintnymi', 'wrispect', 'nastwhy', 'thugz', 'sortes', 'sperial', 'stefani', \"'cram\", 'دریک', 'politice', 'onehanded', 'γυρίσω', 'boop', 'upkathy', \"ending'\", 'dunham', \"pissin'\", \"member'\", 'سوراخ', 'espn', 'levántate', 'ayyayyayy', 'roxx', \"trucetrucedon't\", 'bettеr', 'tenemos', \"'lo\", 'boasy', 'lcshes', \"vacuumin'\", 'daně', 'از', \"ndim'\", 'canta', 'koons', 'nappyheaded', 'bruk', 'danse', 'tablero', 'furniturе', 'youse', 'suckasucka', 'arada', 'quatschen', 'ευκολό', 'nemají', 'nonow', 'arriba', 'raton', 'unsuck', 'hyperextend', 'setinin', 'wie', 'grzesiul_g', 'sopayla', 'robią', 'kayış', 'könnyítsek', 'şekerleme', 'あの日から感じてる', 'ahole', 'iuhfive', \"snatchin'\", 'wеre', 'nickiminajwikiacom', 'già', \"stalkin'\", 'پێکەنین', 'restent', 'mindmind', 'آوردم', 'együtt', 'redrum', 'depuis', \"icet's\", 'beißen', 'prizm', \"shaq's\", 'whattup', 'teeball', 'pierdes', 'denynynyny', '998just', 'costerwaldau', 'octobersveryownblogspotcom', \"dressin'\", \"motherfuckin'\", 'flyness', \"lyin'\", 'bwoy', 'bobbly', 'fittin', 'sebebim', 'vojáky', 'znosisz', \"boys'\", 'annyira', 'bellyana', 'afta', 'compra', 'ajr', 'هەوڵدەدەن', \"undressin'\", 'üçüncü', 'pompompom', 'purell', 'amcur', \"d'wayne\", 'doobie', 'oroboskibo', 'seguir', 'λεμε', 'boink', 'مثلا', 'golddig', 'woahh', \"''stay\", 'ehehaheh', \"placere'\", 'shoody', 'jawns', 'lunesta', 'herpen', 'woahoooo', \"knowin'\", 'shaqur', 'vor', \"kardash'\", 'çıkıyorum', 'ggggggg', 'assim', \"gettin'shmoney\", 'ruthly', \"cleansin'\", \"'after\", 'voit', \"appeasin'\", 'وامکرد', 'лоурайдер', 'vvvalvevalve', \"climbin'\", 'runins', 'rrrat', 'iriscience', 'alkalmam', 'teşekkürler', 'egymással', 'بکنم', 'mögé', \"gabanna's\", 'bossssss', 'dolezal', \"huntin'\", 'wowwow', 'goso', 'destruyó', 'huthut', 'dananadana', 'youwe', \"round'\", 'suelo', 'popatrz', 'asszem', 'twothirty', 'manolos', \"playerhatin'\", \"therе's\", 'brainiac', 'vape', 'blowblowblows', 'holtont', 'گرایەر', 'voglio', 'amava', 'js', 'showin', 'berzerk', 'mariah', 'etherealooooh', 'gebruiken', 'quon', 'mé', 'swagu', 'egal', \"saggin'\", 'ccccrazy', 'puuuuuuuke', 'twoje', 'θυμάμαι', 'sceemin', 'jjupiter', 'fudgesicles', 'noo', 'doubledog', 'neamh', 'shaked', 'tstreets', \"stabbin'\", \"costin'\", 'tenyearold', 'stickin', 'mamine', 'kecantikanku', 'tropez', 'بهمان', 'λέξεις', 'thererock', 'پێشووم', 'popz', \"gurglin'\", 'chuckacord', 'فروشگاه', 'whoaoh', 'damme', 'mulino', 'kabab', 'momento', 'bape', \"divin'\", 'haffa', 'sicide', 'rampapapampam', 'em60', 'friggen', 'skidin', 'sonando', 'hov', 'spreee', 'motherfucka', 'djs', 'un', 'když', 'awayayay', 'hayatıma', 'hastalıklıydın', 'спиною', 'sayfalar', 'istemediğinizi', 'ickday', 'aroundouououound', 'neurofens', 'iam', 'liiie', \"cussin'\", 'hiányolni', 'ohhha', 'calaphawar', 'gerekiyordu', \"there'll\", 'تامەزرۆم', \"hijackin'\", 'látom', 'akclip', 'sueltes', 'mintha', \"'79\", 'wondagurl', 'x6', 'gogogogoddamn', \"tannin'\", 'weeklong', 'jayrain', 'وایسامنظورم', 'hardwork', 'ningangabazi', 'buga', 'freefall', 'likelike', 'headgo', 'canadabis', 'oooohhoooo', \"scrappin'\", 'mudholes', 'tigger', 'τροπο', 'n9na', 'amil', 'caiga', 'jiggy', 'arse', 'на', 'καλα', 'popiana', 'oté', 'rolleys', 'encontré', \"'causes\", 'máš', 'radość', 'champagnetattooed', 'dadadadaohhhh', 'eljött', 'نەخێر', 'prisón', 'candypainted', 'applegate', 'spellin', 'rajtam', 'megtanított', 'seatbelts', 'historia', 'jabba', \"ghetto'\", \"time'\", 'knowed', 'kawhi', 'gra', 'mandt', \"dancin'\", \"clappin'\", 'روحتون', 'nifler', 'bebut', 'içide', 'addies', 'facism', 'brandnew', \"bloodflingin'\", 'hijab', 'teetee', \"mi'\", 'emack', 'való', 'dul', 'autotune', 'shshock', 'freako', \"bitin'\", 'rappity', 'tpain', 'néha', 'dogshit', 'لە', 'johan', \"'bach\", 'crackskin', 'overstand', 'διαβάζεις', 'autre', 'stało', 'yapıyor', 'vit', 'sephora', 'besos', 'hed', \"snugglin'\", 'manischewitz', 'controverse', 'vurulduğun', 'nagyrészében', 'achtzehn', 'meester', 'busiswa', 'nwo', \"'shrooms\", 'pissedoff', 'perdeyi', 'جنده', 'whinin', 'panamera', 'byliśmy', 'pasó', 'molé', 'crackho', 'cómo', 'oj', \"floodin'\", 'neighbourhood', 'intergalactical', 'alcoholistic', \"mm'\", 'rapapumpum', 'onda', 'lalalalalalalay', \"ye'\", 'swaggerswagger', 'tőled', 'walkonwatergate', 'αισθάνεσαι', 'ryu', 'moją', \"'ne\", 'bowtie', '거부할', \"joe's\", 'outlawz', 'hoohohohoh', 'buckland', \"laggin'\", 'theres', \"her'\", 'banghit', 'égtem', \"targets'll\", 'boostin', 'babanın', 'dibujarte', 'kony', \"seatin'\", 'mamamatter', 'kehlani', 'souououound', 'میگنتو', \"toyin'\", 'ksr', 'çivili', \"'05\", \"j'suis\", 'lśnią', 'kadınları', \"fakin'\", 'nuuuuuuuuutz', 'undoubtably', 'bckini', \"testin'\", 'khaled', 'fif', 'ddisco', \"'cuh\", 'leat', 'tapin', \"chuckin'\", 'bleahh', 'ohohhhohhhohhhohohoh', 'hoodrich', 'egh', \"healin'\", 'باز', 'maloley', 'soundin', 'kırdı', 'jękiem', \"a'\", \"eminem'll\", 'sro', 'waitfixate', 'tivo', 'φυλαχτό', 'jauh', 'anheuserbusch', 'közt', 'halfpinters', 'oléoléolé', 'whoopsathatafuckingdaisy', 'όταν', 'mého', 'karar', 'inperson', 'mms', \"'sta\", 'zooshit', 'wooski', 'hooder', 'cheeto', \"duckin'\", 'parisien', 'manje', 'skrr', 'کاریشونو', 'vacseal', 'dicking', \"menacin'\", \"800i'madicksuckeri'dlovetosuckadick\", 'بەرامبەر', \"motherfin'\", 'backflips', 'tagteam', 'aroundcomes', 'آورد', 'dodiruješ', 'flatlined', 'نارحت', 'raris', 'cobrando', \"kisskissin'\", 'maseratis', 'badmind', 'doubledup', 'woahohoh', 'meenie', 'phillies', 'karim', 'cuida', 'aza', 'sha', 'quizzestion', \"whilin'\", 'sentir', 'starah', 'trizi', 'weiner', 'haskell', \"spashin'\", 'πίσω', \"noman's\", 'dieand', \"michaels'\", 'bolsillo', 'seferden', 'fictitional', 'breastes', 'enko', 'melania', \"who'm\", 'rocknroll', 'bimmer', \"'stead\", 'monewhy', 'اینکارو', 'fabo', \"gangsta's\", \"grainin'\", 'bmg', 'x7', 'hoahoowoahoowoah', 'эстетика', 'andand', 'gyönyörű', \"i'vе\", 'muri', \"replayin'\", 'moines', 'subtweet', 'tekrar', 'hardboiled', \"stickin'\", 'pretvaram', 'canciones', 'خەڵاتەکانم', 'jblack', 'شتیان', 'cheque', 'morrisette', 'larararilarara', 'за', 'skeeby', 'frais', 'tintzo', \"offerin'\", 'hilowitz', 'languagono', 'dissledim', 'deformative', 'frass', 'vanno', 'quiero', 'azooka', 'multiplatinumselling', \"heatin'\", 'qujle', 'beepbeep', 'özel', 'justi', 'jheri', 'looksammy', 'avísame', 'danceomatic', 'ducati', 'myvenom', \"whisperin'\", 'sixinch', 'fufufufufuture', 'youtubeslim', \"bankin'\", 'zostawiła', 'adım', 'دیسم', 'bienvenue', 'charleyhorse', \"cloudin'\", 'prenupt', 'nondescripts', 'muchísimo', 'urážel', 'bubb', 'schoolin', \"grammys'\", 'doif', 'mindenkit', 'herro', \"willin'\", \"gal'd\", 'woohoooohoo', 'ovako', 'galf', 'doublecrossed', 'خوب', \"hissin'\", 'stou', 'cancion', 'pnc', 'blaw', 'aussi', 'beyonce', 'mothafuckas', 'ninetypercent', 'qrrain', 'snaz', 'nenja', 'kıpırdanma', 'aperol', 'hotová', \"foamin'\", 'talkin', \"shockin'\", \"'ine\", 'alay', \"strugglin'\", 'wap', 'sufjan', \"o'clocktails\", \"sendin'\", \"wetherspoon's\", 'mille', 'swindell', 'mcbanarobooabano', 'kurşuna', 'preganat', 'میگوس', 'dışarı', 'hcllnd', 'megfújt', 'iiiii', 'entre', \"ave's\", 'santigold', 'stüssy', 'numero', 'armloyalty', 'oohoohoohoohoohoohoohooh', 'fu', 'cartman', 'promluví', 'gösteriyi', 'compliquées', \"mans'\", 'yeahah', \"settin'\", 'gahu', 'fantano', 'sì', \"sixwhippin'\", 'rahibeler', 'muerte', \"glo'd\", 'ruess', \"smarteyein'\", 'bien', 'ohohover', 'givin', 'thirteenyearolds', 'dropdropping', 'slimandtrim', 'dennys', 'gelmez', \"believin'\", 'gülüşmeler', 'kocha', \"lampin'\", 'taskit', 'lepszy', \"'95\", 'pucci', 'exgirl', \"years'\", 'بودماگه', 'mobbin', \"j'avance\", 'prima', \"cadillac's\", 'mclaren', 'timbo', \"confusin'\", 'noooo', 'pimplikeness', 'crosslegged', 'только', 'roadpopping', 'onstar', \"l'ultimo\", \"flockin'\", 'مغازه', \"dropin'\", 'ειναι', 'butterrock', 'آشغالمولی', 'без', 'لێیە', 'enought', \"reala'\", \"amiga'\", 'sahne', 'تمام', \"toppin'\", 'quickthis', \"sk's\", 'keytar', 'yellowviva', \"touchin'\", \"tightenin'\", \"sweepin'\", 'بالا', 'acrossed', 'gravitys', 'kulture', 'penetrator', 'gon', 'αναμνησεις', 'busey', 'taşşaklarını', 'küçük', 'outdrink', 'nationwidethats', 'pişirecek', 'trasparenti', \"'oversharing'\", 'ridin', 'rihannakah', 'shopban', 'ahaha', 'siebener', 'kilosuna', 'rumplestilskin', 'avlanıyorum', 'abuhbuhbuh', 'reup', 'raaaah', 'alalalalalalala', 'mase', \"hating'\", 'dawg', 'голову', \"rover'll\", 'orangeoh', 'geç', 'kekekeeper', 'بەرز', 'laidback', 'adonde', 'waypink', 'pandangmu', 'منو', 'lefteye', \"wheezin'\", 'cuarenta', 'privilège', \"diggin'\", 'unabomb', 'judaahs', 'reloader', 'pogrzeb', 'clapclapclap', 'honeybun', 'touche', 'seroquel', 'errythang', 'yırtılmış', 'мне', 'bside', 'parkfivethousand', 'sippin', \"'fore\", 'rari', 'adı', \"answerin'\", 'outslick', 'bestsum', 'besándote', 'fivesix', 'voz', 'rrr', 'gigi', 'ohohahah', 'llevas', 'binded', 'ببینم', 'xmen', 'yayayaya', 'búsqueda', 'freinds', 'pior', 'thousandaires', 'nézek', 'illiterature', 'بکوژرێیت', 'ayırdım', 'wynds', 'رو', 'ohohhohh', 'opovrhoval', 'redlight', 'fetty', 'baller', 'woosh', 'donnerai', 'ayay', 'beddirectly', 'bugz', 'emo', 'mmmm', \"stark's\", \"sleepin'\", 'looooove', \"'u'\", 'tetas', 'sono', 'ayoa', \"struttin'\", 'vertaback', \"deev'n\", 'ich', 'lgbt', 'ئیفلاس', 'ohohohiii', 'embriagante', 'existen', 'skibbidy', 'beerbong', \"comfortin'\", 'pinchin', 'proč', 'youhoo', 'a8', \"hottin'\", 'paviliontype', 'wrassle', 'aightuhslim', 'meeko', 'πληγωνει', \"screwin'\", 'blownout', 'rá', 'neyin', 'zajatec', 'üşüyor', \"fixin'\", 'زیاترە', 'kennedys', 'secondfloor', 'yeheheheh', 'gotti', \"'0\", 'llena', 'pemberton', 'certamente', 'shoobydedoowop', 'mmmaterial', 'wahh', 'ittybitty', 'skinwe', 'selfexpression', 'تغییر', 'spinnin', 'umm', 'feeny', 'thеre', 'aww', 'ufo', 'stanps', 'خب', 'нет', 'overexpressing', 'incents', 'gambino', 'climbaaa', 'terlalu', 'onlar', 'knowow', \"crazy'\", \"'buts\", 'trainwreck', 'fiending', \"passin'\", 'padii', 'daaark', 'pyd', \"followin'\", 'sociali', 'dable', 'nuprins', 'belajar', 'acaso', 'yüzme', 'wallabees', \"dtwizzy's\", \"stephanie'nin\", 'zaman', 'biotch', \"'son\", \"kanye's\", \"beyoncé's\", 'скользит', 'klux', 'bassy', 'ringtone', 'd0', 'dita', 'ccoming', \"layin'\", 'jeva', 'pickedonchristopherreevesjustfornoreason', 'tminus', 'capelli', 'suger', 'feirce', 'nehéz', 'razona', 'quieres', 'ciegamente', 'už', \"'fine\", \"growin'\", 'fiftiеs', 'putaash', 'ackes', 'sayyou', 'smithe', \"rit'\", 'penisi', 'oone', 'oochie', \"dyin'you\", 'شادی', 'cest', 'میگن', 'wciągają', 'jamás', 'crewslim', 'deneyimleyemedin', 'consigo', 'заткнись', \"chicken'd\", 'goddamnit', \"80g'ler\", 'masam', 'lau', 'haciendo', 'sendiri', 'gadsen', 'declina', 'dialin', 'braindead', 'şekli', 'beautifullest', 'csi', \"within'\", 'tecnine', 'wọnú', 'kidsgrown', 'tatatake', 'kyu', 'چەنز', \"tho'\", 'annonoying', 'herc', 'yeugh', 'coutures', 'زئوس', 'kibaszottul', 'ttteach', \"finishin'\", \"pilin'\", \"'7\", 'pervertedest', 'heyey', 'stoppin', 'ساڵ', 'ودریکاونا', 'baitandswitch', 'fontana', 'подожги', 'piensa', \"e'ry\", 'asco', \"haf'\", 'craaaazy', 'haloti', 'tane', 'transfcrm', 'همونطور', 'steeze', 'cavando', 'zoet', \"d'âme\", \"parents'\", 'cujo', \"collaboratin'\", 'korver', 'pensando', 'chinchin', 'flatbush', 'brudda', 'mannot', 'jjust', 'neskeem', 'poza', 'eightpage', 'childrеn', 'tökezleyen', \"blessin'\", 'mumblin', 'p0', 'ynk', 'puis', 'ruisseaux', 'dadadadadadodo', 'semua', 'pollo', 'onthespot', 'ela', 'bebeğim', 'życia', 'snapchat', \"rankin'\", \"takin'\", 'sizi', 'sherane', 'galliano', 'fui', 'yahah', 'seance', 'oohah', 'ohohwoah', 'wanksta', 'whatev', 'fuis', 'countryand', 'daly', 'ashleys', \"dividin'\", 'bloodclaat', 'niia', 'sunkissed', 'youn', 'flippity', \"spiderman's\", 'dövmem', 'jigajigjijijanean', 'nou', 'url', 'vacay', 'لم', 'bahbadadodedadaday', \"suin'\", \"mothafreakin'\", 'indoscented', 'chequier', 'chocula', 'kanyeezy', 'دەهەزار', \"rcligion's\", 'jin', \"behav'\", \"shittin'\", 'pxnot', \"rari'\", 'érdekelt', 'selfmade', 'anlamına', 'witcha', \"emceein'\", 'jai', 'skooly', 'بودولی', 'bonafidehit', 'byebye', \"city'\", 'proti', 'nefes', 'tapeguess', 'روزگار', 'bumsee', \"ja'll\", 'gonnuh', 'dooky', 'muzyka', 'želiš', 'yeawe', 'nowso', 'dwa', 'louhuhuhove', 'posto', 'ohhuh', 'chkachka', 'ze', 'nawet', 'yeeeeah', 'algo', 'pcek', 'earnin', 'uguale', 'nein', \"t'en\", 'udělám', 'ezee', 'delirum', 'pobłażliwie', 'lnow', 'leavin', \"s'aime\", 'każdej', 'dumplin', 'jingalingaling', 'wooooh', 'neo', 'lonelyness', \"k'an\", 'avoir', 'bí', \"coz'\", 'ناحەزم', 'summersummer', 'fari', 'oro', 'yapması', 'microchipped', 'hanes', 'faders', 'therell', 'gwagen', 'membiarkannya', 'x80', 'pum', 'sayin', 'doa', 'gibsons', 'mapleflavored', 'olurdu', 'além', 'συναντιωνται', 'mmmumbling', \"youthoughti'dcry\", 'światy', 'tanzaku', 'los', 'twizzy', 'cooter', 'encantan', 'ttc', 'داشته', 'twistin', 'doublequad', 'realised', 'paleass', \"down''\", 'marí', 'towa', 'αυτον', \"addin'\", 'artpp', 'sеnse', 'hmhmhmoohoohoohooooh', 'dereon', 'denik', 'bacdafucup', 'κοσμος', 'eeoow', 'dije', 'rbx', 'saltnpepa', 'düştü', 'atilla', 'jeera', \"slurrin'\", 'съезд', 'itthrow', 'paketten', 'крест', 'ئێوە', 'masika', 'kontrol', 'kotex', 'lebih', 'lazer', \"pigs'll\", 'addi', 'możesz', 'fn', \"fo'sho\", \"blinkin'\", 'zrobić', 'tidak', \"battlin'\", 'suckerfree', 'carona', 'nword', 'offences', 'چەنیز', 'ορκιζομαι', 'confusão', 'onami', 'vystát', \"'vette\", 'prayin', \"anywaythat's\", 'oul', 'quququestion', 'ahaahh', 'muchisimas', 'f5', 'fortynine', 'oochiewallawalla', 'dippi', \"anyit's\", \"hatin'\", 'pyper', \"lainieuncle's\", 'lachey', 'mellettem', 'brang', 'всю', 'ئاستتدا', 'anlaşma', 'pendergrass', 'reggo', \"wonderin'\", 'rosecolored', 'nutt', 'relaxin', \"don'tyou'll\", \"commin'\", 'telemundo', 'eightyseven', 'hommes', \"recordin'\", 'esküszöm', 'vocial', 'atışları', 'indepth', 'pintando', \"some'\", 'woadie', \"'da\", 'sik', \"papi's\", 'callcallcall', 'huhuhuh', \"startin'\", \"won'twon'twon't\", 'aidonia', 'souffrance', 'khliad', 'پە', 'poljubi', 'پشیمون', 'defenceless', 'fedine', 'چه', \"40'ları\", 'buzzled', 'musiciens', 'getback', \"would'd\", 'céline', 'mudas', 'کرده', 'abajo', \"ohnowthat'sjustridiculous\", 'aks', 'bajan', \"'bout\", 'eightytwo', \"downtalkin'\", \"hannenin'\", 'میرسن', 'bredesen', 'férfi', 'benden', 'mmmh', 'مردمن', 'percocets', 'знаешь', 'bombardování', 'headshot', 'slakah', 'harington', 'woahvery', 'vallet', 'posttraumatic', 'fricking', 'stayfree', 'dadadoe', \"displayin'\", 'nobu', 'hereneed', 'beez', 'centre', 'feh', \"'finna\", \"thought'll\", \"azae'\", 'λυγίζει', 'brody', 'faaading', 'bruh', 'bbad', 'woioi', \"scissorin'\", 'armaggedon', 'wciąż', 'çarpıyor', 'shyne', 'finninina', 'thicka', 'namedropped', 'trillest', 'hayran', 'مردداگتو', 'karlie', \"budgin'\", 'tooohit', 'pedalsalll', \"should'a\", 'triaminic', 'comme', 'radiofriendly', 'liv', 'aisiesday', 'rethat', 'uniburp', \"ll's\", 'mucha', 'uwierz', 'noone', 'strooong', 'thеm', \"defyin'\", 'slowmo', 'gfunk', 'wwwwwwwwwwwrong', \"champagnepoppin'\", 'hedgemaze', 'çıkıp', 'sebep', 'heyheyheyhey', 'contemplarte', 'bbback', 'توو', 'badda', 'mmmy', 'هیچم', 'barstool', 'tudurudururu', 'старт', 'huddy', '004mosh', 'ακούγωντας', 'zauważam', \"d'phuzion\", 'aand', \"n'ihi\", 'wdrake', 'regali', \"wayne's\", \"n'a\", 'nace', \"yonk'\", 'kendi', 'crossfaded', 'phrephrephresh', 'pusti', 'chubbs', 'tanıtmama', 'amtraks', 'floaties', 'dum', 'bankhead', 'readthrough', 'bahwa', 'zrobił', \"wouldn'ta\", 'fullon', 'haftada', 'havayı', \"lang'\", 'زمان', 'herbo', 'lavoro', 'długowieczność', 'mrrogers', 'rosey', 'oxis', \"'love\", 'letcha', 'tellem', 'wasssup', \"underlyin'\", 'lacroix', 'mindannyian', 'thingso', \"ecstasyit's\", 'noch', 'tomba', 'africanamericans', \"drawin'\", 'vroom', 'twothree', 'somos', \"eggin'\", 'perba', 'μπορει', 'cmon', 'icecream', 'odrzucisz', 'stroker', 'věci', \"there'd\", 'theyve', 'kermain', 'گۆڕا', \"debatin'\", 'твоих', 'raekwon', 'shite', 'twhy', 'karılar', 'pariiisah', 'hohh', 'ohcome', 'havin', 'fanbase', 'azza', 'oraciones', 'oneofaone', \"'cau'cau'cause\", 'fararar', 'dimepiece', 'muggin', 'nato', 'youngin', 'pewgabby', 'higherups', 'dyna', 'nézni', 'azok', 'kapalı', 'irie', 'woah', 'söylerdi', 'theirselves', 'fuckoffs', 'bailando', \"throbbin'\", 'halffull', 'benzetta', 'glowinthedark', 'ththese', 'uchain', 'theget', 'پیجمترجمطاها', 'tec', 'balmain', 'léir', 'تکراری', 'ghop', 'burntdown', 'hazelton', 'poupon', 'siddity', 'رپ', 'playtimes', 'πληγώνει', 'nyla', \"limited's\", 'conwith', 'teufel', 'نەبوو', 'morf', 'daripada', \"correctin'\", 'beatkilling', 'yeahhhh', 'kobalt', 'cristhian', 'bizzy', '從苦痛變換成狂歡', \"beggin'\", 'puede', 'streetthis', 'panky', 'dadadadum', 'chiali', 'chození', 'sıkı', 'stepdada', 'pka', \"squashin'\", 'eww', 'ضرر', 'dwie', 'designin', 'gabi', 'míg', 'frida', 'loverlover', 'predrop', 'skyyy', 'fordítva', 'neka', \"followers'\", 'ando', \"no'\", 'ricch', 'fughesi', 'dareyoubitch', 'ماجرایی', 'discostick', 'asscrack', \"wedding'\", \"ooh's\", 'twentyfour', 'akarom', 'mučili', '문을', 'steepy', 'bavili', 'odiato', 'starks', 'αναμέσα', 'mayne', 'rightand', \"must'a\", \"chikachikachikachikachikachikachika''\", 'هەبوو', 'chaayyayyange', 'winless', 'nich', 'mtown', 'usa', 'kardinall', 'dulu', 'luthor', 'mustve', \"bluffin'\", 'threeday', 'lyte', \"dialin'\", 'nicki', 'spel', '눈치만', 'فارسی', 'mepart', 'nézegetem', 'önce', 'hedi', 'ahooh', 'aż', 'luccello', 'tendrement', 'τηλέφωνο', 'tturn', \"parkin'\", \"magnif'\", 'gottagotta', 'llegar', 'bummy', \"apologizin'\", 'verted', 'kocsikat', 'swishahouse', 'gggames', 'crcrcrazier', 'hahaha', 'arrowsmith', 'flexer', 'wers', 'engañar', 'broski', 'paradis', \"horse'\", 'заварю', 'dadida', \"wheeliein'\", 'pelearemos', 'besarte', 'basszameg', 'hunnie', \"man'll\", \"retirin'\", 'heterophobic', 'glamophonic', 'vavanity', 'mansa', 'eeeeever', 'esso', \"'spitals\", 'extidended', \"vancouv'\", 'antibackstreet', 'musím', 'beemer', \"deterioratin'\", 'motherdaughter', \"afuckin'gain\", 'موفقیت', 'kteří', 'amíg', 'unser', 'yapacak', 'piernas', 'مجبور', \"drippin'\", 'ser', 'bigdicked', \"cam'ron\", 'lifestory', 'kreslím', \"'walk\", 'خشک', 'vumani', 'zbraní', 'disorted', 'крушит', 'soltar', 'سوەی', 'phonephone', 'gelatins', \"'80\", 'obly', 'muda', 'outchea', 'مهماندارسرم', 'farakhan', 'shitwrecked', 'highsaditty', 'nuttin', 'sigues', 'pesmote', \"pushin'\", 'hoşgeldiniz', 'recommencer', 'siedzę', '相處那麼長', 'κατω', 'voosh', \"'till\", 'ccatch', 'backstabbed', 'ihn', 'jika', \"boyboyboy's\", 'drugą', 'マジbeautiful', 'σελιδές', \"entertainin'\", 'monstres', 'ras', 'ساتێ', 'radiothe', 'calentón', 'cheatin', 'kartel', \"shady's\", 'tecs', 'kapa', 'bazıları', 'stopp', 'długo', 'arrodillarte', \"full'a\", \"givin'\", 'brinx', 'лайвом', 'bbbback', 'avant', 'دستکش', 'mmmine', \"pistolpackin'\", 'yooh', 'oneman', 'kalonji', \"nowi'm\", 'chainz', 'seacrest', 'djws', 'waba', 'gyeah', 'versedrake', \"act'\", \"bonjouri'm\", 'spinrumpelstiltskin', 'yeaaah', 'mcgrady', 'sangría', \"schemin'\", 'yisa', 'badingham', '00yard', \"broke'\", 'رفتم', 'parken', 'تای', \"us'\", \"dereon's\", 'êtes', 'sas', \"n'est\", 'passa', 'beatin', 'gggggunit', 'sssend', 'dimea', 'baka', 'murked', 'slurr', \"rightin'\", 'yeeehawww', 'kızda', 'soundfanatic', 'coulent', 'nickle', \"money'll\", \"cris'\", 'antney', 'buttfuck', \"n'étais\", 'unkiss', 'pochyloną', 'omarion', 'lycketysplyt', 'drezie', \"learnin'\", 'drs', 'попытках', 'ludacris', \"twerkin'\", 'hahahahahoh', 'whwhere', 'στην', 'konartist', 'evry', 'dissle', 'exquestion', 'sintegrate', 'townover', 'bɛn', 'mek', 'cardio', 'alhol', 'avec', \"shit'll\", 'longleg', 'ttake', \"ep's\", 'lelelet', 'dulce', 'ڕێگایەکی', 'pathétique', \"teachin'\", 'βρω', 'götüreceğim', 'traidor', 'oglądam', 'codecode', 'greezy', 'huhand', 'dmc', 'puddy', 'wadlibs', 'postavení', 'generoso', 'přijde', \"diein'\", \"ema's\", 'superheroohoh', 'ceo', 'frikkifrikkifrikki', 'jada', 'coochie', 'washup', \"l'ai\", 'dürüst', 'raptorspaymybills', 'دەژمێرم', 'fims', 'minajwhy', 'brickwall', 'mistakе', 'karjaink', \"'tá\", 'tattedup', 'warhols', 'guapa', 'novio', 'sense8', 'hxre', 'mos', 'eminems', 'çekiç', 'skirtsy', 'lmh', 'kahlúa', 'lonley', 'embustero', 'sikmemi', 'busa', 'hohohoholy', 'andel', 'manera', 'cantando', 'miraak', \"n'as\", 'stupidass', \"surfsurfin'\", 'unsee', 'luncha', 'avacado', \"violence'll\", 'رفتن', 'youngings', 'dododobahbahbah', 'lövöldöztük', 'эй', \"g5's\", 'trumpe', 'iza', 'candids', 'nordictrack', 'hutt', 'ohiohiohi', 'postcoro', 'sheeheh', 'ohohhh', \"lou'\", 'chiraq', \"draggin'\", 'chikfila', 'nalick', 'audemar', \"through's\", 'agro', 'cruella', 'asswhooping', \"'tron\", 'haan', 'ohohohohohohoh', 'storch', 'wid', 'kızdırmaya', 'artpop', 'هاها', 'prenne', \"listenin'\", \"'nillaf\", 'fiveanddime', \"dissin'\", 'bizzles', 'zurich', \"bentley's\", 'verseso', 'socialmedias', 'cavi', 'چیزی', 'hypnotise', 'przejdź', \"bubblin'\", 'beetlejuice', 'twarzą', 'everglow', 'mój', 'bxxre', \"beakin'\", 'meh', 'pitbull', 'travelin', 'agame', 'wic', 'toat', 'loch', 'yukmouth', 'wody', 'ininin', 'spyder', 'herida', 'cassidy', 'akik', 'selfesteem', 'discombobulatorboobulator', 'tego', 'amit', 'raf', 'pinga', 'خستە', 'براندی', 'لەبەر', 'eba', 'kkisses', 'ruke', 'interet', 'des', 'lllear', 'upupup', 'mmmoh', 'hahahahahaha', \"litterin'\", 'همکاری', 'français', 'hardaway', 'dareyoubitchass', 'sergent', 'bere', 'boyz', \"bafflin'\", 'może', 'watever', 'pejic', \"nando's\", 'uie', 'chincilla', 'goodso', 'uhuhuhuh', \"rappers'\", \"tappin'\", 'summalumma', 'spickety', 'scrunchin', 'میشه', 'معادل', 'еnd', \"'spital\", 'mekhi', 'najmniejszego', '밤은', 'mizkorona', 'fasolatidaso', 'frette', 'trippedout', 'سرعت', 'mcgraw', 'gnihtemos', 'shadea', 'kinm', 'bausch', 'didi', 'jayaz', 'echaste', 'catscans', 'inboxes', 'dadadadadadadada', 'skrrtskrrt', 'castamere', 'cyphers', 'seninle', 'assshots', 'quebrado', \"flippin'\", 'şyi', 'llevare', 'voyce', 'bethoven', 'catriona', 'هەڵیبێنم', 'berninger', 'ciężarów', 'jumpoff', 'againnot', 'twoseater', 'پێمان', 'ladadadadum', 'thefame', 'romo', 'brownnoser', 'dušo', 'wyzwoliła', 'yaşandı', 'lonewolf', 'thuga', 'frostsmack', 'burrrrat', 'haczyków', 'turnin', 'uno', 'verás', '¾', 'lacigam', 'kırık', 'keychain', 'rockin', 'nonman', \"e'rythang\", \"hailie's\", \"od'd\", 'dois', 'memoria', 'pójdę', 'hulahula', 'schémas', 'islandhopping', 'هیجان', 'swifty', 'zorunluluk', 'hotties', 'mismo', 'sadam', \"talkin'\", '討厭那快感', 'ltheanine', 'eldredge', 'nononobody', \"jazzy's\", 'mempercayai', 'dop', 'bychom', 'blizzy', 'lovehoneymoon', 'tojust', 'skrilla', \"fifty'leven\", 'sndoubleop', 'flightclub', 'kianna', 'εμάς', 'ganorreha', 'vip', \"seducin'\", 'tada', 'dumm', 'fák'}\n"
     ]
    }
   ],
   "source": [
    "# from spellchecker import SpellChecker\n",
    "\n",
    "# spell = SpellChecker()\n",
    "\n",
    "# def count_misspelled_words(text):\n",
    "#     if not isinstance(text, str):\n",
    "#         return 0\n",
    "#     words = text.split()\n",
    "#     misspelled = spell.unknown(words)\n",
    "#     return len(misspelled)\n",
    "\n",
    "# total_misspelled_words = new_df['Lyric'].apply(count_misspelled_words).sum()\n",
    "# print(f\"Total misspelled words: {total_misspelled_words}\")\n",
    "\n",
    "# # def correct_spelling(text):\n",
    "# #     if not isinstance(text, str):\n",
    "# #         return text\n",
    "# #     corrected_words = []\n",
    "# #     for word in text.split():\n",
    "# #         corrected = spell.correction(word)\n",
    "# #         corrected_words.append(corrected if corrected else word)\n",
    "# #     return ' '.join(corrected_words)\n",
    "\n",
    "from spellchecker import SpellChecker\n",
    "\n",
    "spell = SpellChecker()\n",
    "\n",
    "# Function to return misspelled words in a text\n",
    "def get_misspelled_words(text):\n",
    "    if not isinstance(text, str):\n",
    "        return []\n",
    "    words = text.split()\n",
    "    return list(spell.unknown(words))\n",
    "\n",
    "# # create a new column with misspelled words\n",
    "# new_df['Misspelled_Words'] = new_df['Lyric'].apply(get_misspelled_words)\n",
    "\n",
    "# # Total misspelled words count\n",
    "# total_misspelled_words = new_df['Misspelled_Words'].apply(len).sum()\n",
    "# print(f\"Total misspelled words: {total_misspelled_words}\")\n",
    "\n",
    "# # View the misspelled words only (unique across dataset)\n",
    "# from itertools import chain\n",
    "\n",
    "# all_misspelled = list(chain.from_iterable(new_df['Misspelled_Words']))\n",
    "# unique_misspelled = set(all_misspelled)\n",
    "\n",
    "# print(f\"Unique misspelled words ({len(unique_misspelled)}):\")\n",
    "# print(unique_misspelled)\n",
    "\n",
    "# # View the first 10 rows with their misspelled words\n",
    "# print(new_df[['Misspelled_Words']].head(10))\n",
    "\n",
    "misspelled_words = new_df['Lyric'].apply(get_misspelled_words)\n",
    "total_misspelled_words = misspelled_words.apply(len).sum()\n",
    "print(f\"Total misspelled words: {total_misspelled_words}\")\n",
    "\n",
    "# Unique misspelled words\n",
    "unique_misspelled = set(misspelled_words.explode().dropna().tolist())\n",
    "print(f\"Unique misspelled words ({len(unique_misspelled)}):\")\n",
    "print(unique_misspelled)  \n",
    "\n",
    "new_df['Misspelled_Words'] = new_df['Lyric'].apply(get_misspelled_words)\n",
    "  \n"
   ]
  },
  {
   "cell_type": "code",
   "execution_count": 39,
   "metadata": {},
   "outputs": [
    {
     "data": {
      "text/html": [
       "<div>\n",
       "<style scoped>\n",
       "    .dataframe tbody tr th:only-of-type {\n",
       "        vertical-align: middle;\n",
       "    }\n",
       "\n",
       "    .dataframe tbody tr th {\n",
       "        vertical-align: top;\n",
       "    }\n",
       "\n",
       "    .dataframe thead th {\n",
       "        text-align: right;\n",
       "    }\n",
       "</style>\n",
       "<table border=\"1\" class=\"dataframe\">\n",
       "  <thead>\n",
       "    <tr style=\"text-align: right;\">\n",
       "      <th></th>\n",
       "      <th>Artist</th>\n",
       "      <th>Title</th>\n",
       "      <th>Lyric</th>\n",
       "      <th>Misspelled_Words</th>\n",
       "    </tr>\n",
       "  </thead>\n",
       "  <tbody>\n",
       "    <tr>\n",
       "      <th>0</th>\n",
       "      <td>Ariana Grande</td>\n",
       "      <td>​thank u, next</td>\n",
       "      <td>thought i'd end up with sean but he wasn't a m...</td>\n",
       "      <td>[ari, 'cause, pre, fuckin', 'bout, gon', havin...</td>\n",
       "    </tr>\n",
       "    <tr>\n",
       "      <th>1</th>\n",
       "      <td>Ariana Grande</td>\n",
       "      <td>7 rings</td>\n",
       "      <td>yeah breakfast at tiffany's and bottles of bub...</td>\n",
       "      <td>[settin', atm, pre, redbottoms, lookin', gon',...</td>\n",
       "    </tr>\n",
       "    <tr>\n",
       "      <th>2</th>\n",
       "      <td>Ariana Grande</td>\n",
       "      <td>​god is a woman</td>\n",
       "      <td>you you love it how i move you you love it how...</td>\n",
       "      <td>[feelin', pre, tellin', onetrack, uniwhen]</td>\n",
       "    </tr>\n",
       "    <tr>\n",
       "      <th>3</th>\n",
       "      <td>Ariana Grande</td>\n",
       "      <td>side to side</td>\n",
       "      <td>ariana grande nicki minaj i've been here all n...</td>\n",
       "      <td>[grande, pre, 'bout, nothin', minime, feelin',...</td>\n",
       "    </tr>\n",
       "    <tr>\n",
       "      <th>4</th>\n",
       "      <td>Ariana Grande</td>\n",
       "      <td>​​no tears left to cry</td>\n",
       "      <td>right now i'm in a state of mind i want to be ...</td>\n",
       "      <td>[comin', ohyeah, pre, livin', turnin', lovin',...</td>\n",
       "    </tr>\n",
       "    <tr>\n",
       "      <th>...</th>\n",
       "      <td>...</td>\n",
       "      <td>...</td>\n",
       "      <td>...</td>\n",
       "      <td>...</td>\n",
       "    </tr>\n",
       "    <tr>\n",
       "      <th>5744</th>\n",
       "      <td>Taylor Swift</td>\n",
       "      <td>teardrops on my guitar (live from clear channe...</td>\n",
       "      <td>drew looks at me i fake a smile so he won't se...</td>\n",
       "      <td>[whos, pre, 'cause]</td>\n",
       "    </tr>\n",
       "    <tr>\n",
       "      <th>5745</th>\n",
       "      <td>Taylor Swift</td>\n",
       "      <td>evermore [forward]</td>\n",
       "      <td>to put it plainly we just couldnt stop writing...</td>\n",
       "      <td>[ive, oneoff, couldnt, folklorian, imaginaryno...</td>\n",
       "    </tr>\n",
       "    <tr>\n",
       "      <th>5746</th>\n",
       "      <td>Taylor Swift</td>\n",
       "      <td>welcome back grunwald</td>\n",
       "      <td>turn wycd on you're on your grunwald back from...</td>\n",
       "      <td>[grunwald's, wycd, grunwald]</td>\n",
       "    </tr>\n",
       "    <tr>\n",
       "      <th>5747</th>\n",
       "      <td>Taylor Swift</td>\n",
       "      <td>tolerate it (polskie tłumaczenie)</td>\n",
       "      <td>zwrotka siedzę i patrzę jak czytasz z głową po...</td>\n",
       "      <td>[cię, moje, jak, pobłażliwie, wszystko, błyszc...</td>\n",
       "    </tr>\n",
       "    <tr>\n",
       "      <th>5748</th>\n",
       "      <td>Taylor Swift</td>\n",
       "      <td>find you</td>\n",
       "      <td>trying just like they say just taking the step...</td>\n",
       "      <td>[]</td>\n",
       "    </tr>\n",
       "  </tbody>\n",
       "</table>\n",
       "<p>5711 rows × 4 columns</p>\n",
       "</div>"
      ],
      "text/plain": [
       "             Artist                                              Title  \\\n",
       "0     Ariana Grande                                     ​thank u, next   \n",
       "1     Ariana Grande                                            7 rings   \n",
       "2     Ariana Grande                                    ​god is a woman   \n",
       "3     Ariana Grande                                       side to side   \n",
       "4     Ariana Grande                             ​​no tears left to cry   \n",
       "...             ...                                                ...   \n",
       "5744   Taylor Swift  teardrops on my guitar (live from clear channe...   \n",
       "5745   Taylor Swift                                 evermore [forward]   \n",
       "5746   Taylor Swift                              welcome back grunwald   \n",
       "5747   Taylor Swift                  tolerate it (polskie tłumaczenie)   \n",
       "5748   Taylor Swift                                           find you   \n",
       "\n",
       "                                                  Lyric  \\\n",
       "0     thought i'd end up with sean but he wasn't a m...   \n",
       "1     yeah breakfast at tiffany's and bottles of bub...   \n",
       "2     you you love it how i move you you love it how...   \n",
       "3     ariana grande nicki minaj i've been here all n...   \n",
       "4     right now i'm in a state of mind i want to be ...   \n",
       "...                                                 ...   \n",
       "5744  drew looks at me i fake a smile so he won't se...   \n",
       "5745  to put it plainly we just couldnt stop writing...   \n",
       "5746  turn wycd on you're on your grunwald back from...   \n",
       "5747  zwrotka siedzę i patrzę jak czytasz z głową po...   \n",
       "5748  trying just like they say just taking the step...   \n",
       "\n",
       "                                       Misspelled_Words  \n",
       "0     [ari, 'cause, pre, fuckin', 'bout, gon', havin...  \n",
       "1     [settin', atm, pre, redbottoms, lookin', gon',...  \n",
       "2            [feelin', pre, tellin', onetrack, uniwhen]  \n",
       "3     [grande, pre, 'bout, nothin', minime, feelin',...  \n",
       "4     [comin', ohyeah, pre, livin', turnin', lovin',...  \n",
       "...                                                 ...  \n",
       "5744                                [whos, pre, 'cause]  \n",
       "5745  [ive, oneoff, couldnt, folklorian, imaginaryno...  \n",
       "5746                       [grunwald's, wycd, grunwald]  \n",
       "5747  [cię, moje, jak, pobłażliwie, wszystko, błyszc...  \n",
       "5748                                                 []  \n",
       "\n",
       "[5711 rows x 4 columns]"
      ]
     },
     "execution_count": 39,
     "metadata": {},
     "output_type": "execute_result"
    }
   ],
   "source": [
    "new_df"
   ]
  },
  {
   "cell_type": "code",
   "execution_count": null,
   "metadata": {},
   "outputs": [],
   "source": []
  },
  {
   "cell_type": "code",
   "execution_count": 40,
   "metadata": {},
   "outputs": [
    {
     "name": "stdout",
     "output_type": "stream",
     "text": [
      "Requirement already satisfied: nltk in c:\\users\\lenovo\\anaconda3\\lib\\site-packages (3.9.1)\n",
      "Requirement already satisfied: click in c:\\users\\lenovo\\anaconda3\\lib\\site-packages (from nltk) (8.1.7)\n",
      "Requirement already satisfied: joblib in c:\\users\\lenovo\\anaconda3\\lib\\site-packages (from nltk) (1.4.2)\n",
      "Requirement already satisfied: regex>=2021.8.3 in c:\\users\\lenovo\\anaconda3\\lib\\site-packages (from nltk) (2024.9.11)\n",
      "Requirement already satisfied: tqdm in c:\\users\\lenovo\\anaconda3\\lib\\site-packages (from nltk) (4.66.5)\n",
      "Requirement already satisfied: colorama in c:\\users\\lenovo\\anaconda3\\lib\\site-packages (from click->nltk) (0.4.6)\n",
      "Note: you may need to restart the kernel to use updated packages.\n"
     ]
    }
   ],
   "source": [
    "pip install nltk"
   ]
  },
  {
   "cell_type": "code",
   "execution_count": 41,
   "metadata": {},
   "outputs": [],
   "source": [
    "import re\n",
    "from spellchecker import SpellChecker\n",
    "from collections import Counter\n",
    "from nltk.corpus import words\n",
    "import nltk"
   ]
  },
  {
   "cell_type": "code",
   "execution_count": 42,
   "metadata": {},
   "outputs": [
    {
     "name": "stderr",
     "output_type": "stream",
     "text": [
      "[nltk_data] Downloading collection 'all'\n",
      "[nltk_data]    | \n",
      "[nltk_data]    | Downloading package abc to\n",
      "[nltk_data]    |     C:\\Users\\LENOVO\\AppData\\Roaming\\nltk_data...\n",
      "[nltk_data]    |   Package abc is already up-to-date!\n",
      "[nltk_data]    | Downloading package alpino to\n",
      "[nltk_data]    |     C:\\Users\\LENOVO\\AppData\\Roaming\\nltk_data...\n",
      "[nltk_data]    |   Package alpino is already up-to-date!\n",
      "[nltk_data]    | Downloading package averaged_perceptron_tagger to\n",
      "[nltk_data]    |     C:\\Users\\LENOVO\\AppData\\Roaming\\nltk_data...\n",
      "[nltk_data]    |   Package averaged_perceptron_tagger is already up-\n",
      "[nltk_data]    |       to-date!\n",
      "[nltk_data]    | Downloading package averaged_perceptron_tagger_eng to\n",
      "[nltk_data]    |     C:\\Users\\LENOVO\\AppData\\Roaming\\nltk_data...\n",
      "[nltk_data]    |   Package averaged_perceptron_tagger_eng is already\n",
      "[nltk_data]    |       up-to-date!\n",
      "[nltk_data]    | Downloading package averaged_perceptron_tagger_ru to\n",
      "[nltk_data]    |     C:\\Users\\LENOVO\\AppData\\Roaming\\nltk_data...\n",
      "[nltk_data]    |   Package averaged_perceptron_tagger_ru is already\n",
      "[nltk_data]    |       up-to-date!\n",
      "[nltk_data]    | Downloading package averaged_perceptron_tagger_rus to\n",
      "[nltk_data]    |     C:\\Users\\LENOVO\\AppData\\Roaming\\nltk_data...\n",
      "[nltk_data]    |   Package averaged_perceptron_tagger_rus is already\n",
      "[nltk_data]    |       up-to-date!\n",
      "[nltk_data]    | Downloading package basque_grammars to\n",
      "[nltk_data]    |     C:\\Users\\LENOVO\\AppData\\Roaming\\nltk_data...\n",
      "[nltk_data]    |   Package basque_grammars is already up-to-date!\n",
      "[nltk_data]    | Downloading package bcp47 to\n",
      "[nltk_data]    |     C:\\Users\\LENOVO\\AppData\\Roaming\\nltk_data...\n",
      "[nltk_data]    |   Package bcp47 is already up-to-date!\n",
      "[nltk_data]    | Downloading package biocreative_ppi to\n",
      "[nltk_data]    |     C:\\Users\\LENOVO\\AppData\\Roaming\\nltk_data...\n",
      "[nltk_data]    |   Package biocreative_ppi is already up-to-date!\n",
      "[nltk_data]    | Downloading package bllip_wsj_no_aux to\n",
      "[nltk_data]    |     C:\\Users\\LENOVO\\AppData\\Roaming\\nltk_data...\n",
      "[nltk_data]    |   Package bllip_wsj_no_aux is already up-to-date!\n",
      "[nltk_data]    | Downloading package book_grammars to\n",
      "[nltk_data]    |     C:\\Users\\LENOVO\\AppData\\Roaming\\nltk_data...\n",
      "[nltk_data]    |   Package book_grammars is already up-to-date!\n",
      "[nltk_data]    | Downloading package brown to\n",
      "[nltk_data]    |     C:\\Users\\LENOVO\\AppData\\Roaming\\nltk_data...\n",
      "[nltk_data]    |   Package brown is already up-to-date!\n",
      "[nltk_data]    | Downloading package brown_tei to\n",
      "[nltk_data]    |     C:\\Users\\LENOVO\\AppData\\Roaming\\nltk_data...\n",
      "[nltk_data]    |   Package brown_tei is already up-to-date!\n",
      "[nltk_data]    | Downloading package cess_cat to\n",
      "[nltk_data]    |     C:\\Users\\LENOVO\\AppData\\Roaming\\nltk_data...\n",
      "[nltk_data]    |   Package cess_cat is already up-to-date!\n",
      "[nltk_data]    | Downloading package cess_esp to\n",
      "[nltk_data]    |     C:\\Users\\LENOVO\\AppData\\Roaming\\nltk_data...\n",
      "[nltk_data]    |   Package cess_esp is already up-to-date!\n",
      "[nltk_data]    | Downloading package chat80 to\n",
      "[nltk_data]    |     C:\\Users\\LENOVO\\AppData\\Roaming\\nltk_data...\n",
      "[nltk_data]    |   Package chat80 is already up-to-date!\n",
      "[nltk_data]    | Downloading package city_database to\n",
      "[nltk_data]    |     C:\\Users\\LENOVO\\AppData\\Roaming\\nltk_data...\n",
      "[nltk_data]    |   Package city_database is already up-to-date!\n",
      "[nltk_data]    | Downloading package cmudict to\n",
      "[nltk_data]    |     C:\\Users\\LENOVO\\AppData\\Roaming\\nltk_data...\n",
      "[nltk_data]    |   Package cmudict is already up-to-date!\n",
      "[nltk_data]    | Downloading package comparative_sentences to\n",
      "[nltk_data]    |     C:\\Users\\LENOVO\\AppData\\Roaming\\nltk_data...\n",
      "[nltk_data]    |   Package comparative_sentences is already up-to-\n",
      "[nltk_data]    |       date!\n",
      "[nltk_data]    | Downloading package comtrans to\n",
      "[nltk_data]    |     C:\\Users\\LENOVO\\AppData\\Roaming\\nltk_data...\n",
      "[nltk_data]    |   Package comtrans is already up-to-date!\n",
      "[nltk_data]    | Downloading package conll2000 to\n",
      "[nltk_data]    |     C:\\Users\\LENOVO\\AppData\\Roaming\\nltk_data...\n",
      "[nltk_data]    |   Package conll2000 is already up-to-date!\n",
      "[nltk_data]    | Downloading package conll2002 to\n",
      "[nltk_data]    |     C:\\Users\\LENOVO\\AppData\\Roaming\\nltk_data...\n",
      "[nltk_data]    |   Package conll2002 is already up-to-date!\n",
      "[nltk_data]    | Downloading package conll2007 to\n",
      "[nltk_data]    |     C:\\Users\\LENOVO\\AppData\\Roaming\\nltk_data...\n",
      "[nltk_data]    |   Package conll2007 is already up-to-date!\n",
      "[nltk_data]    | Downloading package crubadan to\n",
      "[nltk_data]    |     C:\\Users\\LENOVO\\AppData\\Roaming\\nltk_data...\n",
      "[nltk_data]    |   Package crubadan is already up-to-date!\n",
      "[nltk_data]    | Downloading package dependency_treebank to\n",
      "[nltk_data]    |     C:\\Users\\LENOVO\\AppData\\Roaming\\nltk_data...\n",
      "[nltk_data]    |   Package dependency_treebank is already up-to-date!\n",
      "[nltk_data]    | Downloading package dolch to\n",
      "[nltk_data]    |     C:\\Users\\LENOVO\\AppData\\Roaming\\nltk_data...\n",
      "[nltk_data]    |   Package dolch is already up-to-date!\n",
      "[nltk_data]    | Downloading package english_wordnet to\n",
      "[nltk_data]    |     C:\\Users\\LENOVO\\AppData\\Roaming\\nltk_data...\n",
      "[nltk_data]    |   Package english_wordnet is already up-to-date!\n",
      "[nltk_data]    | Downloading package europarl_raw to\n",
      "[nltk_data]    |     C:\\Users\\LENOVO\\AppData\\Roaming\\nltk_data...\n",
      "[nltk_data]    |   Package europarl_raw is already up-to-date!\n",
      "[nltk_data]    | Downloading package extended_omw to\n",
      "[nltk_data]    |     C:\\Users\\LENOVO\\AppData\\Roaming\\nltk_data...\n",
      "[nltk_data]    |   Package extended_omw is already up-to-date!\n",
      "[nltk_data]    | Downloading package floresta to\n",
      "[nltk_data]    |     C:\\Users\\LENOVO\\AppData\\Roaming\\nltk_data...\n",
      "[nltk_data]    |   Package floresta is already up-to-date!\n",
      "[nltk_data]    | Downloading package framenet_v15 to\n",
      "[nltk_data]    |     C:\\Users\\LENOVO\\AppData\\Roaming\\nltk_data...\n",
      "[nltk_data]    |   Package framenet_v15 is already up-to-date!\n",
      "[nltk_data]    | Downloading package framenet_v17 to\n",
      "[nltk_data]    |     C:\\Users\\LENOVO\\AppData\\Roaming\\nltk_data...\n",
      "[nltk_data]    |   Package framenet_v17 is already up-to-date!\n",
      "[nltk_data]    | Downloading package gazetteers to\n",
      "[nltk_data]    |     C:\\Users\\LENOVO\\AppData\\Roaming\\nltk_data...\n",
      "[nltk_data]    |   Package gazetteers is already up-to-date!\n",
      "[nltk_data]    | Downloading package genesis to\n",
      "[nltk_data]    |     C:\\Users\\LENOVO\\AppData\\Roaming\\nltk_data...\n",
      "[nltk_data]    |   Package genesis is already up-to-date!\n",
      "[nltk_data]    | Downloading package gutenberg to\n",
      "[nltk_data]    |     C:\\Users\\LENOVO\\AppData\\Roaming\\nltk_data...\n",
      "[nltk_data]    |   Package gutenberg is already up-to-date!\n",
      "[nltk_data]    | Downloading package ieer to\n",
      "[nltk_data]    |     C:\\Users\\LENOVO\\AppData\\Roaming\\nltk_data...\n",
      "[nltk_data]    |   Package ieer is already up-to-date!\n",
      "[nltk_data]    | Downloading package inaugural to\n",
      "[nltk_data]    |     C:\\Users\\LENOVO\\AppData\\Roaming\\nltk_data...\n",
      "[nltk_data]    |   Package inaugural is already up-to-date!\n",
      "[nltk_data]    | Downloading package indian to\n",
      "[nltk_data]    |     C:\\Users\\LENOVO\\AppData\\Roaming\\nltk_data...\n",
      "[nltk_data]    |   Package indian is already up-to-date!\n",
      "[nltk_data]    | Downloading package jeita to\n",
      "[nltk_data]    |     C:\\Users\\LENOVO\\AppData\\Roaming\\nltk_data...\n",
      "[nltk_data]    |   Package jeita is already up-to-date!\n",
      "[nltk_data]    | Downloading package kimmo to\n",
      "[nltk_data]    |     C:\\Users\\LENOVO\\AppData\\Roaming\\nltk_data...\n",
      "[nltk_data]    |   Package kimmo is already up-to-date!\n",
      "[nltk_data]    | Downloading package knbc to\n",
      "[nltk_data]    |     C:\\Users\\LENOVO\\AppData\\Roaming\\nltk_data...\n",
      "[nltk_data]    |   Package knbc is already up-to-date!\n",
      "[nltk_data]    | Downloading package large_grammars to\n",
      "[nltk_data]    |     C:\\Users\\LENOVO\\AppData\\Roaming\\nltk_data...\n",
      "[nltk_data]    |   Package large_grammars is already up-to-date!\n",
      "[nltk_data]    | Downloading package lin_thesaurus to\n",
      "[nltk_data]    |     C:\\Users\\LENOVO\\AppData\\Roaming\\nltk_data...\n",
      "[nltk_data]    |   Package lin_thesaurus is already up-to-date!\n",
      "[nltk_data]    | Downloading package mac_morpho to\n",
      "[nltk_data]    |     C:\\Users\\LENOVO\\AppData\\Roaming\\nltk_data...\n",
      "[nltk_data]    |   Package mac_morpho is already up-to-date!\n",
      "[nltk_data]    | Downloading package machado to\n",
      "[nltk_data]    |     C:\\Users\\LENOVO\\AppData\\Roaming\\nltk_data...\n",
      "[nltk_data]    |   Package machado is already up-to-date!\n",
      "[nltk_data]    | Downloading package masc_tagged to\n",
      "[nltk_data]    |     C:\\Users\\LENOVO\\AppData\\Roaming\\nltk_data...\n",
      "[nltk_data]    |   Package masc_tagged is already up-to-date!\n",
      "[nltk_data]    | Downloading package maxent_ne_chunker to\n",
      "[nltk_data]    |     C:\\Users\\LENOVO\\AppData\\Roaming\\nltk_data...\n",
      "[nltk_data]    |   Package maxent_ne_chunker is already up-to-date!\n",
      "[nltk_data]    | Downloading package maxent_ne_chunker_tab to\n",
      "[nltk_data]    |     C:\\Users\\LENOVO\\AppData\\Roaming\\nltk_data...\n",
      "[nltk_data]    |   Package maxent_ne_chunker_tab is already up-to-\n",
      "[nltk_data]    |       date!\n",
      "[nltk_data]    | Downloading package maxent_treebank_pos_tagger to\n",
      "[nltk_data]    |     C:\\Users\\LENOVO\\AppData\\Roaming\\nltk_data...\n",
      "[nltk_data]    |   Package maxent_treebank_pos_tagger is already up-\n",
      "[nltk_data]    |       to-date!\n",
      "[nltk_data]    | Downloading package maxent_treebank_pos_tagger_tab to\n",
      "[nltk_data]    |     C:\\Users\\LENOVO\\AppData\\Roaming\\nltk_data...\n",
      "[nltk_data]    |   Package maxent_treebank_pos_tagger_tab is already\n",
      "[nltk_data]    |       up-to-date!\n",
      "[nltk_data]    | Downloading package moses_sample to\n",
      "[nltk_data]    |     C:\\Users\\LENOVO\\AppData\\Roaming\\nltk_data...\n",
      "[nltk_data]    |   Package moses_sample is already up-to-date!\n",
      "[nltk_data]    | Downloading package movie_reviews to\n",
      "[nltk_data]    |     C:\\Users\\LENOVO\\AppData\\Roaming\\nltk_data...\n",
      "[nltk_data]    |   Package movie_reviews is already up-to-date!\n",
      "[nltk_data]    | Downloading package mte_teip5 to\n",
      "[nltk_data]    |     C:\\Users\\LENOVO\\AppData\\Roaming\\nltk_data...\n",
      "[nltk_data]    |   Package mte_teip5 is already up-to-date!\n",
      "[nltk_data]    | Downloading package mwa_ppdb to\n",
      "[nltk_data]    |     C:\\Users\\LENOVO\\AppData\\Roaming\\nltk_data...\n",
      "[nltk_data]    |   Package mwa_ppdb is already up-to-date!\n",
      "[nltk_data]    | Downloading package names to\n",
      "[nltk_data]    |     C:\\Users\\LENOVO\\AppData\\Roaming\\nltk_data...\n",
      "[nltk_data]    |   Package names is already up-to-date!\n",
      "[nltk_data]    | Downloading package nombank.1.0 to\n",
      "[nltk_data]    |     C:\\Users\\LENOVO\\AppData\\Roaming\\nltk_data...\n",
      "[nltk_data]    |   Package nombank.1.0 is already up-to-date!\n",
      "[nltk_data]    | Downloading package nonbreaking_prefixes to\n",
      "[nltk_data]    |     C:\\Users\\LENOVO\\AppData\\Roaming\\nltk_data...\n",
      "[nltk_data]    |   Package nonbreaking_prefixes is already up-to-date!\n",
      "[nltk_data]    | Downloading package nps_chat to\n",
      "[nltk_data]    |     C:\\Users\\LENOVO\\AppData\\Roaming\\nltk_data...\n",
      "[nltk_data]    |   Package nps_chat is already up-to-date!\n",
      "[nltk_data]    | Downloading package omw to\n",
      "[nltk_data]    |     C:\\Users\\LENOVO\\AppData\\Roaming\\nltk_data...\n",
      "[nltk_data]    |   Package omw is already up-to-date!\n",
      "[nltk_data]    | Downloading package omw-1.4 to\n",
      "[nltk_data]    |     C:\\Users\\LENOVO\\AppData\\Roaming\\nltk_data...\n",
      "[nltk_data]    |   Package omw-1.4 is already up-to-date!\n",
      "[nltk_data]    | Downloading package opinion_lexicon to\n",
      "[nltk_data]    |     C:\\Users\\LENOVO\\AppData\\Roaming\\nltk_data...\n",
      "[nltk_data]    |   Package opinion_lexicon is already up-to-date!\n",
      "[nltk_data]    | Downloading package panlex_swadesh to\n",
      "[nltk_data]    |     C:\\Users\\LENOVO\\AppData\\Roaming\\nltk_data...\n",
      "[nltk_data]    |   Package panlex_swadesh is already up-to-date!\n",
      "[nltk_data]    | Downloading package paradigms to\n",
      "[nltk_data]    |     C:\\Users\\LENOVO\\AppData\\Roaming\\nltk_data...\n",
      "[nltk_data]    |   Package paradigms is already up-to-date!\n",
      "[nltk_data]    | Downloading package pe08 to\n",
      "[nltk_data]    |     C:\\Users\\LENOVO\\AppData\\Roaming\\nltk_data...\n",
      "[nltk_data]    |   Package pe08 is already up-to-date!\n",
      "[nltk_data]    | Downloading package perluniprops to\n",
      "[nltk_data]    |     C:\\Users\\LENOVO\\AppData\\Roaming\\nltk_data...\n",
      "[nltk_data]    |   Package perluniprops is already up-to-date!\n",
      "[nltk_data]    | Downloading package pil to\n",
      "[nltk_data]    |     C:\\Users\\LENOVO\\AppData\\Roaming\\nltk_data...\n",
      "[nltk_data]    |   Package pil is already up-to-date!\n",
      "[nltk_data]    | Downloading package pl196x to\n",
      "[nltk_data]    |     C:\\Users\\LENOVO\\AppData\\Roaming\\nltk_data...\n",
      "[nltk_data]    |   Package pl196x is already up-to-date!\n",
      "[nltk_data]    | Downloading package porter_test to\n",
      "[nltk_data]    |     C:\\Users\\LENOVO\\AppData\\Roaming\\nltk_data...\n",
      "[nltk_data]    |   Package porter_test is already up-to-date!\n",
      "[nltk_data]    | Downloading package ppattach to\n",
      "[nltk_data]    |     C:\\Users\\LENOVO\\AppData\\Roaming\\nltk_data...\n",
      "[nltk_data]    |   Package ppattach is already up-to-date!\n",
      "[nltk_data]    | Downloading package problem_reports to\n",
      "[nltk_data]    |     C:\\Users\\LENOVO\\AppData\\Roaming\\nltk_data...\n",
      "[nltk_data]    |   Package problem_reports is already up-to-date!\n",
      "[nltk_data]    | Downloading package product_reviews_1 to\n",
      "[nltk_data]    |     C:\\Users\\LENOVO\\AppData\\Roaming\\nltk_data...\n",
      "[nltk_data]    |   Package product_reviews_1 is already up-to-date!\n",
      "[nltk_data]    | Downloading package product_reviews_2 to\n",
      "[nltk_data]    |     C:\\Users\\LENOVO\\AppData\\Roaming\\nltk_data...\n",
      "[nltk_data]    |   Package product_reviews_2 is already up-to-date!\n",
      "[nltk_data]    | Downloading package propbank to\n",
      "[nltk_data]    |     C:\\Users\\LENOVO\\AppData\\Roaming\\nltk_data...\n",
      "[nltk_data]    |   Package propbank is already up-to-date!\n",
      "[nltk_data]    | Downloading package pros_cons to\n",
      "[nltk_data]    |     C:\\Users\\LENOVO\\AppData\\Roaming\\nltk_data...\n",
      "[nltk_data]    |   Package pros_cons is already up-to-date!\n",
      "[nltk_data]    | Downloading package ptb to\n",
      "[nltk_data]    |     C:\\Users\\LENOVO\\AppData\\Roaming\\nltk_data...\n",
      "[nltk_data]    |   Package ptb is already up-to-date!\n",
      "[nltk_data]    | Downloading package punkt to\n",
      "[nltk_data]    |     C:\\Users\\LENOVO\\AppData\\Roaming\\nltk_data...\n",
      "[nltk_data]    |   Package punkt is already up-to-date!\n",
      "[nltk_data]    | Downloading package punkt_tab to\n",
      "[nltk_data]    |     C:\\Users\\LENOVO\\AppData\\Roaming\\nltk_data...\n",
      "[nltk_data]    |   Package punkt_tab is already up-to-date!\n",
      "[nltk_data]    | Downloading package qc to\n",
      "[nltk_data]    |     C:\\Users\\LENOVO\\AppData\\Roaming\\nltk_data...\n",
      "[nltk_data]    |   Package qc is already up-to-date!\n",
      "[nltk_data]    | Downloading package reuters to\n",
      "[nltk_data]    |     C:\\Users\\LENOVO\\AppData\\Roaming\\nltk_data...\n",
      "[nltk_data]    |   Package reuters is already up-to-date!\n",
      "[nltk_data]    | Downloading package rslp to\n",
      "[nltk_data]    |     C:\\Users\\LENOVO\\AppData\\Roaming\\nltk_data...\n",
      "[nltk_data]    |   Package rslp is already up-to-date!\n",
      "[nltk_data]    | Downloading package rte to\n",
      "[nltk_data]    |     C:\\Users\\LENOVO\\AppData\\Roaming\\nltk_data...\n",
      "[nltk_data]    |   Package rte is already up-to-date!\n",
      "[nltk_data]    | Downloading package sample_grammars to\n",
      "[nltk_data]    |     C:\\Users\\LENOVO\\AppData\\Roaming\\nltk_data...\n",
      "[nltk_data]    |   Package sample_grammars is already up-to-date!\n",
      "[nltk_data]    | Downloading package semcor to\n",
      "[nltk_data]    |     C:\\Users\\LENOVO\\AppData\\Roaming\\nltk_data...\n",
      "[nltk_data]    |   Package semcor is already up-to-date!\n",
      "[nltk_data]    | Downloading package senseval to\n",
      "[nltk_data]    |     C:\\Users\\LENOVO\\AppData\\Roaming\\nltk_data...\n",
      "[nltk_data]    |   Package senseval is already up-to-date!\n",
      "[nltk_data]    | Downloading package sentence_polarity to\n",
      "[nltk_data]    |     C:\\Users\\LENOVO\\AppData\\Roaming\\nltk_data...\n",
      "[nltk_data]    |   Package sentence_polarity is already up-to-date!\n",
      "[nltk_data]    | Downloading package sentiwordnet to\n",
      "[nltk_data]    |     C:\\Users\\LENOVO\\AppData\\Roaming\\nltk_data...\n",
      "[nltk_data]    |   Package sentiwordnet is already up-to-date!\n",
      "[nltk_data]    | Downloading package shakespeare to\n",
      "[nltk_data]    |     C:\\Users\\LENOVO\\AppData\\Roaming\\nltk_data...\n",
      "[nltk_data]    |   Package shakespeare is already up-to-date!\n",
      "[nltk_data]    | Downloading package sinica_treebank to\n",
      "[nltk_data]    |     C:\\Users\\LENOVO\\AppData\\Roaming\\nltk_data...\n",
      "[nltk_data]    |   Package sinica_treebank is already up-to-date!\n",
      "[nltk_data]    | Downloading package smultron to\n",
      "[nltk_data]    |     C:\\Users\\LENOVO\\AppData\\Roaming\\nltk_data...\n",
      "[nltk_data]    |   Package smultron is already up-to-date!\n",
      "[nltk_data]    | Downloading package snowball_data to\n",
      "[nltk_data]    |     C:\\Users\\LENOVO\\AppData\\Roaming\\nltk_data...\n",
      "[nltk_data]    |   Package snowball_data is already up-to-date!\n",
      "[nltk_data]    | Downloading package spanish_grammars to\n",
      "[nltk_data]    |     C:\\Users\\LENOVO\\AppData\\Roaming\\nltk_data...\n",
      "[nltk_data]    |   Package spanish_grammars is already up-to-date!\n",
      "[nltk_data]    | Downloading package state_union to\n",
      "[nltk_data]    |     C:\\Users\\LENOVO\\AppData\\Roaming\\nltk_data...\n",
      "[nltk_data]    |   Package state_union is already up-to-date!\n",
      "[nltk_data]    | Downloading package stopwords to\n",
      "[nltk_data]    |     C:\\Users\\LENOVO\\AppData\\Roaming\\nltk_data...\n",
      "[nltk_data]    |   Package stopwords is already up-to-date!\n",
      "[nltk_data]    | Downloading package subjectivity to\n",
      "[nltk_data]    |     C:\\Users\\LENOVO\\AppData\\Roaming\\nltk_data...\n",
      "[nltk_data]    |   Package subjectivity is already up-to-date!\n",
      "[nltk_data]    | Downloading package swadesh to\n",
      "[nltk_data]    |     C:\\Users\\LENOVO\\AppData\\Roaming\\nltk_data...\n",
      "[nltk_data]    |   Package swadesh is already up-to-date!\n",
      "[nltk_data]    | Downloading package switchboard to\n",
      "[nltk_data]    |     C:\\Users\\LENOVO\\AppData\\Roaming\\nltk_data...\n",
      "[nltk_data]    |   Package switchboard is already up-to-date!\n",
      "[nltk_data]    | Downloading package tagsets to\n",
      "[nltk_data]    |     C:\\Users\\LENOVO\\AppData\\Roaming\\nltk_data...\n",
      "[nltk_data]    |   Package tagsets is already up-to-date!\n",
      "[nltk_data]    | Downloading package tagsets_json to\n",
      "[nltk_data]    |     C:\\Users\\LENOVO\\AppData\\Roaming\\nltk_data...\n",
      "[nltk_data]    |   Package tagsets_json is already up-to-date!\n",
      "[nltk_data]    | Downloading package timit to\n",
      "[nltk_data]    |     C:\\Users\\LENOVO\\AppData\\Roaming\\nltk_data...\n",
      "[nltk_data]    |   Package timit is already up-to-date!\n",
      "[nltk_data]    | Downloading package toolbox to\n",
      "[nltk_data]    |     C:\\Users\\LENOVO\\AppData\\Roaming\\nltk_data...\n",
      "[nltk_data]    |   Package toolbox is already up-to-date!\n",
      "[nltk_data]    | Downloading package treebank to\n",
      "[nltk_data]    |     C:\\Users\\LENOVO\\AppData\\Roaming\\nltk_data...\n",
      "[nltk_data]    |   Package treebank is already up-to-date!\n",
      "[nltk_data]    | Downloading package twitter_samples to\n",
      "[nltk_data]    |     C:\\Users\\LENOVO\\AppData\\Roaming\\nltk_data...\n",
      "[nltk_data]    |   Package twitter_samples is already up-to-date!\n",
      "[nltk_data]    | Downloading package udhr to\n",
      "[nltk_data]    |     C:\\Users\\LENOVO\\AppData\\Roaming\\nltk_data...\n",
      "[nltk_data]    |   Package udhr is already up-to-date!\n",
      "[nltk_data]    | Downloading package udhr2 to\n",
      "[nltk_data]    |     C:\\Users\\LENOVO\\AppData\\Roaming\\nltk_data...\n",
      "[nltk_data]    |   Package udhr2 is already up-to-date!\n",
      "[nltk_data]    | Downloading package unicode_samples to\n",
      "[nltk_data]    |     C:\\Users\\LENOVO\\AppData\\Roaming\\nltk_data...\n",
      "[nltk_data]    |   Package unicode_samples is already up-to-date!\n",
      "[nltk_data]    | Downloading package universal_tagset to\n",
      "[nltk_data]    |     C:\\Users\\LENOVO\\AppData\\Roaming\\nltk_data...\n",
      "[nltk_data]    |   Package universal_tagset is already up-to-date!\n",
      "[nltk_data]    | Downloading package universal_treebanks_v20 to\n",
      "[nltk_data]    |     C:\\Users\\LENOVO\\AppData\\Roaming\\nltk_data...\n",
      "[nltk_data]    |   Package universal_treebanks_v20 is already up-to-\n",
      "[nltk_data]    |       date!\n",
      "[nltk_data]    | Downloading package vader_lexicon to\n",
      "[nltk_data]    |     C:\\Users\\LENOVO\\AppData\\Roaming\\nltk_data...\n",
      "[nltk_data]    |   Package vader_lexicon is already up-to-date!\n",
      "[nltk_data]    | Downloading package verbnet to\n",
      "[nltk_data]    |     C:\\Users\\LENOVO\\AppData\\Roaming\\nltk_data...\n",
      "[nltk_data]    |   Package verbnet is already up-to-date!\n",
      "[nltk_data]    | Downloading package verbnet3 to\n",
      "[nltk_data]    |     C:\\Users\\LENOVO\\AppData\\Roaming\\nltk_data...\n",
      "[nltk_data]    |   Package verbnet3 is already up-to-date!\n",
      "[nltk_data]    | Downloading package webtext to\n",
      "[nltk_data]    |     C:\\Users\\LENOVO\\AppData\\Roaming\\nltk_data...\n",
      "[nltk_data]    |   Package webtext is already up-to-date!\n",
      "[nltk_data]    | Downloading package wmt15_eval to\n",
      "[nltk_data]    |     C:\\Users\\LENOVO\\AppData\\Roaming\\nltk_data...\n",
      "[nltk_data]    |   Package wmt15_eval is already up-to-date!\n",
      "[nltk_data]    | Downloading package word2vec_sample to\n",
      "[nltk_data]    |     C:\\Users\\LENOVO\\AppData\\Roaming\\nltk_data...\n",
      "[nltk_data]    |   Package word2vec_sample is already up-to-date!\n",
      "[nltk_data]    | Downloading package wordnet to\n",
      "[nltk_data]    |     C:\\Users\\LENOVO\\AppData\\Roaming\\nltk_data...\n",
      "[nltk_data]    |   Package wordnet is already up-to-date!\n",
      "[nltk_data]    | Downloading package wordnet2021 to\n",
      "[nltk_data]    |     C:\\Users\\LENOVO\\AppData\\Roaming\\nltk_data...\n",
      "[nltk_data]    |   Package wordnet2021 is already up-to-date!\n",
      "[nltk_data]    | Downloading package wordnet2022 to\n",
      "[nltk_data]    |     C:\\Users\\LENOVO\\AppData\\Roaming\\nltk_data...\n",
      "[nltk_data]    |   Package wordnet2022 is already up-to-date!\n",
      "[nltk_data]    | Downloading package wordnet31 to\n",
      "[nltk_data]    |     C:\\Users\\LENOVO\\AppData\\Roaming\\nltk_data...\n",
      "[nltk_data]    |   Package wordnet31 is already up-to-date!\n",
      "[nltk_data]    | Downloading package wordnet_ic to\n",
      "[nltk_data]    |     C:\\Users\\LENOVO\\AppData\\Roaming\\nltk_data...\n",
      "[nltk_data]    |   Package wordnet_ic is already up-to-date!\n",
      "[nltk_data]    | Downloading package words to\n",
      "[nltk_data]    |     C:\\Users\\LENOVO\\AppData\\Roaming\\nltk_data...\n",
      "[nltk_data]    |   Package words is already up-to-date!\n",
      "[nltk_data]    | Downloading package ycoe to\n",
      "[nltk_data]    |     C:\\Users\\LENOVO\\AppData\\Roaming\\nltk_data...\n",
      "[nltk_data]    |   Package ycoe is already up-to-date!\n",
      "[nltk_data]    | \n",
      "[nltk_data]  Done downloading collection all\n"
     ]
    }
   ],
   "source": [
    "nltk.download('all')\n",
    "spell = SpellChecker()\n",
    "english_words = set(words.words())\n",
    "\n",
    "def is_contraction(word):\n",
    "    patterns = [r\".*in'$\", r\".*n'$\", r\"^ain’t$\", r\".*’re$\", r\".*’ll$\", r\".*’t$\"]\n",
    "    return any(re.match(pattern, word.lower()) for pattern in patterns)\n",
    "\n",
    "def is_keep_word(word):\n",
    "    patterns = [\n",
    "        r\"^(yee|woo|ayy|ooh|uhh|ha|brr|skrrt|la|oh|woah)+$\",  # Ad-libs and repeated syllables\n",
    "        r\".*(.)\\1{2,}.*\",  # Repeated letters (e.g., skrrrt, yesss)\n",
    "        r\"^[a-z]+(z|s){2,}$\"  # Words ending in multiple z/s (e.g., buzzz)\n",
    "    ]\n",
    "    return any(re.match(pattern, word.lower()) for pattern in patterns)\n",
    "\n",
    "def is_non_english(word):\n",
    "    return bool(re.search(r'[^\\x00-\\x7F]', word))  # Non-ASCII characters\n",
    "\n",
    "def has_numbers(word):\n",
    "    return bool(re.search(r'\\d', word.lower())) \n",
    "\n",
    "def build_valid_words(texts, min_freq=5):\n",
    "    all_words = []\n",
    "    for text in texts:\n",
    "        if isinstance(text, str):\n",
    "            all_words.extend(text.split())\n",
    "    word_counts = Counter(all_words)\n",
    "    valid_words = set(word.lower() for word, count in word_counts.items()\n",
    "                      if count >= min_freq and not has_numbers(word) and\n",
    "                      (is_contraction(word) or is_keep_word(word)))\n",
    "    valid_words.update(word for word in english_words if not has_numbers(word))\n",
    "    return valid_words\n",
    "\n",
    "def build_valid_words(texts, min_freq=5):\n",
    "    all_words = []\n",
    "    for text in texts:\n",
    "        if isinstance(text, str):\n",
    "            all_words.extend(text.split())\n",
    "    word_counts = Counter(all_words)\n",
    "    valid_words = set(word.lower() for word, count in word_counts.items()\n",
    "                      if count >= min_freq and not has_numbers(word) and\n",
    "                      (is_contraction(word) or is_keep_word(word)))\n",
    "    valid_words.update(word for word in english_words if not has_numbers(word))\n",
    "    return valid_words\n",
    "\n",
    "def preprocess_text(text, valid_words):\n",
    "    if not isinstance(text, str):\n",
    "        return '', [], []\n",
    "    words = text.split()\n",
    "    processed_words = []\n",
    "    word_lengths = []\n",
    "    corrected_words = []\n",
    "    misspelled = (\n",
    "        'rumplestilskin', 'přijde', 'crunked', 'foreverholdagrudge', 'sneezin',\n",
    "        'seeeeat', 'boogieoogieoogie', 'therealyou', 'ventin',\n",
    "        'hahahah', 'mighta', 'mulsanne', 'chillin', 'buttdial', 'bimmer',\n",
    "        'flyest', 'bleh', 'puuuuuuuke', 'rollup', 'rosecolored'\n",
    "    )\n",
    "    for word in words:\n",
    "        word_lower = word.lower()\n",
    "        if has_numbers(word):\n",
    "            corrected_words.append(f\"{word}→Removed(Number)\")\n",
    "            continue\n",
    "        if word_lower in misspelled:\n",
    "            corrected_words.append(f\"{word}→Removed(Misspelled)\")\n",
    "            continue\n",
    "        if word_lower in valid_words or is_contraction(word) or is_keep_word(word):\n",
    "            processed_words.append(word)\n",
    "            corrected_words.append(f\"{word}→None\")\n",
    "        elif is_non_english(word):\n",
    "            corrected_words.append(f\"{word}→Removed(Non-English)\")\n",
    "            continue\n",
    "        else:\n",
    "            correction = spell.correction(word)\n",
    "            if correction and not has_numbers(correction) and correction in english_words:\n",
    "                processed_words.append(correction)\n",
    "                corrected_words.append(f\"{word}→{correction}\")\n",
    "            else:\n",
    "                processed_words.append(word)\n",
    "                corrected_words.append(f\"{word}→None\")\n",
    "    return ' '.join(processed_words), word_lengths, corrected_words\n"
   ]
  },
  {
   "cell_type": "code",
   "execution_count": 43,
   "metadata": {},
   "outputs": [
    {
     "name": "stdout",
     "output_type": "stream",
     "text": [
      "Cleaned Text: I'm playin' football in my simmer yesss sir\n",
      "Corrections: [\"I'm→None\", \"playin'→None\", 'feetball→football', 'स्क्रिप्ट→Removed(Non-English)', 'विशेषता→Removed(Non-English)', 'rumplestilskin→Removed(Misspelled)', 'chillin→Removed(Misspelled)', '6ty→Removed(Number)', 'in→None', 'my→None', 'bimmer,→simmer', 'yesss→None', 'sir!→sir']\n",
      "Cleaned Text: He interrupting the show like mispelled\n",
      "Corrections: ['He→None', 'interupting→interrupting', 'the→None', 'show→None', 'like→None', 'rumplestilskin→Removed(Misspelled)', 'mispelled→None']\n"
     ]
    }
   ],
   "source": [
    "texts = [\"I'm playin' feetball स्क्रिप्ट विशेषता rumplestilskin chillin 6ty in my bimmer, yesss sir!\", \"He interupting the show like rumplestilskin mispelled\"]\n",
    "valid_words = build_valid_words(texts)\n",
    "\n",
    "for text in texts:\n",
    "    cleaned,_, corrections = preprocess_text(text, valid_words)\n",
    "    print(\"Cleaned Text:\", cleaned)\n",
    "    print(\"Corrections:\", corrections)"
   ]
  },
  {
   "cell_type": "code",
   "execution_count": 44,
   "metadata": {},
   "outputs": [],
   "source": [
    "valid_words = build_valid_words(new_df['Lyric'], min_freq=5)\n"
   ]
  },
  {
   "cell_type": "code",
   "execution_count": 45,
   "metadata": {},
   "outputs": [
    {
     "name": "stdout",
     "output_type": "stream",
     "text": [
      "Requirement already satisfied: tqdm in c:\\users\\lenovo\\anaconda3\\lib\\site-packages (4.66.5)\n",
      "Requirement already satisfied: colorama in c:\\users\\lenovo\\anaconda3\\lib\\site-packages (from tqdm) (0.4.6)\n",
      "Note: you may need to restart the kernel to use updated packages.\n"
     ]
    }
   ],
   "source": [
    "pip install tqdm"
   ]
  },
  {
   "cell_type": "code",
   "execution_count": 46,
   "metadata": {},
   "outputs": [
    {
     "name": "stderr",
     "output_type": "stream",
     "text": [
      "  0%|          | 0/5711 [00:00<?, ?it/s]"
     ]
    },
    {
     "name": "stderr",
     "output_type": "stream",
     "text": [
      "100%|██████████| 5711/5711 [3:32:46<00:00,  2.24s/it]   \n"
     ]
    }
   ],
   "source": [
    "# from tqdm import tqdm\n",
    "# tqdm.pandas()\n",
    "\n",
    "# new_df['Lyric_Filtered'] = new_df['Lyric'].progress_apply(lambda x: preprocess_text(x, valid_words)[0])\n",
    "\n",
    "\n",
    "from tqdm import tqdm\n",
    "tqdm.pandas()  # for progress bar\n",
    "\n",
    "def process_if_misspelled(row):\n",
    "    if row['Misspelled_Words']:  # if not an empty list\n",
    "        return preprocess_text(row['Lyric'], valid_words)[0]  # filtered text only\n",
    "    else:\n",
    "        return row['Lyric']  # leave it unchanged\n",
    "\n",
    "# Apply with progress bar and axis=1 for row-wise operation\n",
    "new_df['Lyric_Filtered'] = new_df.progress_apply(process_if_misspelled, axis=1)\n"
   ]
  },
  {
   "cell_type": "code",
   "execution_count": 47,
   "metadata": {},
   "outputs": [
    {
     "name": "stdout",
     "output_type": "stream",
     "text": [
      "Index(['Artist', 'Title', 'Lyric', 'Misspelled_Words', 'Lyric_Filtered'], dtype='object')\n"
     ]
    }
   ],
   "source": [
    "print(new_df.columns)\n"
   ]
  },
  {
   "cell_type": "code",
   "execution_count": 81,
   "metadata": {},
   "outputs": [
    {
     "name": "stdout",
     "output_type": "stream",
     "text": [
      "Index(['Lyric', 'Lyric_Preprocessed', 'Lyric_Filtered', 'Word_Lengths',\n",
      "       'Corrections'],\n",
      "      dtype='object')\n"
     ]
    }
   ],
   "source": [
    "print(new_df.columns)"
   ]
  },
  {
   "cell_type": "markdown",
   "metadata": {},
   "source": [
    "### Export into new CSV file"
   ]
  },
  {
   "cell_type": "code",
   "execution_count": 48,
   "metadata": {},
   "outputs": [
    {
     "name": "stdout",
     "output_type": "stream",
     "text": [
      "Filtered lyrics saved to 'filtered_songs.csv' successfully!\n"
     ]
    }
   ],
   "source": [
    "new_df.to_csv(r\"E:\\Lyrics_Generator\\Data_Sets\\filtered_songs.csv\", index=False)\n",
    "\n",
    "print(\"Filtered lyrics saved to 'filtered_songs.csv' successfully!\")"
   ]
  },
  {
   "cell_type": "markdown",
   "metadata": {},
   "source": [
    "### Loading the filtered DataSet"
   ]
  },
  {
   "cell_type": "code",
   "execution_count": 50,
   "metadata": {},
   "outputs": [
    {
     "data": {
      "text/html": [
       "<div>\n",
       "<style scoped>\n",
       "    .dataframe tbody tr th:only-of-type {\n",
       "        vertical-align: middle;\n",
       "    }\n",
       "\n",
       "    .dataframe tbody tr th {\n",
       "        vertical-align: top;\n",
       "    }\n",
       "\n",
       "    .dataframe thead th {\n",
       "        text-align: right;\n",
       "    }\n",
       "</style>\n",
       "<table border=\"1\" class=\"dataframe\">\n",
       "  <thead>\n",
       "    <tr style=\"text-align: right;\">\n",
       "      <th></th>\n",
       "      <th>Artist</th>\n",
       "      <th>Title</th>\n",
       "      <th>Lyric</th>\n",
       "      <th>Misspelled_Words</th>\n",
       "      <th>Lyric_Filtered</th>\n",
       "    </tr>\n",
       "  </thead>\n",
       "  <tbody>\n",
       "    <tr>\n",
       "      <th>0</th>\n",
       "      <td>Ariana Grande</td>\n",
       "      <td>​thank u, next</td>\n",
       "      <td>thought i'd end up with sean but he wasn't a m...</td>\n",
       "      <td>['ari', \"'cause\", 'pre', \"fuckin'\", \"'bout\", \"...</td>\n",
       "      <td>thought i'd end up with sean but he wasn't a m...</td>\n",
       "    </tr>\n",
       "    <tr>\n",
       "      <th>1</th>\n",
       "      <td>Ariana Grande</td>\n",
       "      <td>7 rings</td>\n",
       "      <td>yeah breakfast at tiffany's and bottles of bub...</td>\n",
       "      <td>[\"settin'\", 'atm', 'pre', 'redbottoms', \"looki...</td>\n",
       "      <td>yeah breakfast at tiffany and bottles of bubbl...</td>\n",
       "    </tr>\n",
       "    <tr>\n",
       "      <th>2</th>\n",
       "      <td>Ariana Grande</td>\n",
       "      <td>​god is a woman</td>\n",
       "      <td>you you love it how i move you you love it how...</td>\n",
       "      <td>[\"feelin'\", 'pre', \"tellin'\", 'onetrack', 'uni...</td>\n",
       "      <td>you you love it how i move you you love it how...</td>\n",
       "    </tr>\n",
       "  </tbody>\n",
       "</table>\n",
       "</div>"
      ],
      "text/plain": [
       "          Artist            Title  \\\n",
       "0  Ariana Grande   ​thank u, next   \n",
       "1  Ariana Grande          7 rings   \n",
       "2  Ariana Grande  ​god is a woman   \n",
       "\n",
       "                                               Lyric  \\\n",
       "0  thought i'd end up with sean but he wasn't a m...   \n",
       "1  yeah breakfast at tiffany's and bottles of bub...   \n",
       "2  you you love it how i move you you love it how...   \n",
       "\n",
       "                                    Misspelled_Words  \\\n",
       "0  ['ari', \"'cause\", 'pre', \"fuckin'\", \"'bout\", \"...   \n",
       "1  [\"settin'\", 'atm', 'pre', 'redbottoms', \"looki...   \n",
       "2  [\"feelin'\", 'pre', \"tellin'\", 'onetrack', 'uni...   \n",
       "\n",
       "                                      Lyric_Filtered  \n",
       "0  thought i'd end up with sean but he wasn't a m...  \n",
       "1  yeah breakfast at tiffany and bottles of bubbl...  \n",
       "2  you you love it how i move you you love it how...  "
      ]
     },
     "execution_count": 50,
     "metadata": {},
     "output_type": "execute_result"
    }
   ],
   "source": [
    "filtered_df = pd.read_csv(r\"E:\\Lyrics_Generator\\Data_Sets\\filtered_songs.csv\")\n",
    "\n",
    "filtered_df.head(3)"
   ]
  },
  {
   "cell_type": "code",
   "execution_count": 52,
   "metadata": {},
   "outputs": [
    {
     "data": {
      "text/plain": [
       "(5711, 5)"
      ]
     },
     "execution_count": 52,
     "metadata": {},
     "output_type": "execute_result"
    }
   ],
   "source": [
    "filtered_df.shape"
   ]
  },
  {
   "cell_type": "code",
   "execution_count": 53,
   "metadata": {},
   "outputs": [
    {
     "data": {
      "text/plain": [
       "Artist              0\n",
       "Title               0\n",
       "Lyric               0\n",
       "Misspelled_Words    0\n",
       "Lyric_Filtered      1\n",
       "dtype: int64"
      ]
     },
     "execution_count": 53,
     "metadata": {},
     "output_type": "execute_result"
    }
   ],
   "source": [
    "filtered_df.isnull().sum()"
   ]
  },
  {
   "cell_type": "code",
   "execution_count": 54,
   "metadata": {},
   "outputs": [
    {
     "name": "stdout",
     "output_type": "stream",
     "text": [
      "      Artist                                   Title  \\\n",
      "2865  Eminem  premonition (intro) (kurdish subtitle)   \n",
      "\n",
      "                                                  Lyric  \\\n",
      "2865  ئینتڕۆ ئێمینێم هەڵیبێنم ئەمە چیە ها وابزانم ڕو...   \n",
      "\n",
      "                                       Misspelled_Words Lyric_Filtered  \n",
      "2865  ['ئینتڕۆ', 'نەمان', 'نیم', 'بەردەوامبین', 'شێو...            NaN  \n"
     ]
    }
   ],
   "source": [
    "null_row = filtered_df[filtered_df['Lyric_Filtered'].isnull()]\n",
    "print(null_row)\n"
   ]
  },
  {
   "cell_type": "code",
   "execution_count": 55,
   "metadata": {},
   "outputs": [
    {
     "data": {
      "text/plain": [
       "('',\n",
       " [],\n",
       " ['ئینتڕۆ→Removed(Non-English)',\n",
       "  'ئێمینێم→Removed(Non-English)',\n",
       "  'هەڵیبێنم→Removed(Non-English)',\n",
       "  'ئەمە→Removed(Non-English)',\n",
       "  'چیە→Removed(Non-English)',\n",
       "  'ها→Removed(Non-English)',\n",
       "  'وابزانم→Removed(Non-English)',\n",
       "  'ڕوون→Removed(Non-English)',\n",
       "  'دیارە→Removed(Non-English)',\n",
       "  'ئێمە→Removed(Non-English)',\n",
       "  'هەرگیز→Removed(Non-English)',\n",
       "  'ڕوبەڕووی→Removed(Non-English)',\n",
       "  'یەکدی→Removed(Non-English)',\n",
       "  'نابینەوە→Removed(Non-English)',\n",
       "  'بەڵام→Removed(Non-English)',\n",
       "  'ئەمە→Removed(Non-English)',\n",
       "  'هەزەلیە→Removed(Non-English)',\n",
       "  'چەنە→Removed(Non-English)',\n",
       "  'ڕقم→Removed(Non-English)',\n",
       "  'لێتە→Removed(Non-English)',\n",
       "  'پێویستم→Removed(Non-English)',\n",
       "  'پێتە→Removed(Non-English)',\n",
       "  'ئەمە→Removed(Non-English)',\n",
       "  'مۆسیقای→Removed(Non-English)',\n",
       "  'بکوژە→Removed(Non-English)',\n",
       "  'هووک→Removed(Non-English)',\n",
       "  'نیکی→Removed(Non-English)',\n",
       "  'گرایەر→Removed(Non-English)',\n",
       "  'دڵم→Removed(Non-English)',\n",
       "  'خەبەری→Removed(Non-English)',\n",
       "  'داوە→Removed(Non-English)',\n",
       "  'هەستەکەم→Removed(Non-English)',\n",
       "  'کۆتایی→Removed(Non-English)',\n",
       "  'نزیکە→Removed(Non-English)',\n",
       "  'دەستپێکە→Removed(Non-English)',\n",
       "  'جوانەکان→Removed(Non-English)',\n",
       "  'بۆ→Removed(Non-English)',\n",
       "  'نەمان→Removed(Non-English)',\n",
       "  'ئەڕۆن→Removed(Non-English)',\n",
       "  'شادی→Removed(Non-English)',\n",
       "  'گۆڕا→Removed(Non-English)',\n",
       "  'بۆ→Removed(Non-English)',\n",
       "  'ئازار→Removed(Non-English)',\n",
       "  'دەبیستم→Removed(Non-English)',\n",
       "  'سیمفۆنی→Removed(Non-English)',\n",
       "  'لێدەدرێت→Removed(Non-English)',\n",
       "  'دەهەزار→Removed(Non-English)',\n",
       "  'کەمانچە→Removed(Non-English)',\n",
       "  'ڕوحەکان→Removed(Non-English)',\n",
       "  'سەرئاو→Removed(Non-English)',\n",
       "  'دەکەون→Removed(Non-English)',\n",
       "  'وەک→Removed(Non-English)',\n",
       "  'پەڕەموچەکان→Removed(Non-English)',\n",
       "  'لە→Removed(Non-English)',\n",
       "  'ڕەشەبادا→Removed(Non-English)',\n",
       "  'ڤێرس→Removed(Non-English)',\n",
       "  'ئێمینێم→Removed(Non-English)',\n",
       "  'وتیان→Removed(Non-English)',\n",
       "  'لە→Removed(Non-English)',\n",
       "  'ئەلبوومی→Removed(Non-English)',\n",
       "  'پێشووم→Removed(Non-English)',\n",
       "  'دەنگم→Removed(Non-English)',\n",
       "  'باشتربوو→Removed(Non-English)',\n",
       "  'نەخێر→Removed(Non-English)',\n",
       "  'دەنگم→Removed(Non-English)',\n",
       "  'ڕقاوی→Removed(Non-English)',\n",
       "  'بوو→Removed(Non-English)',\n",
       "  'لە→Removed(Non-English)',\n",
       "  'سەدا→Removed(Non-English)',\n",
       "  'نەوەدی→Removed(Non-English)',\n",
       "  'ئەم→Removed(Non-English)',\n",
       "  'دووڕویانە→Removed(Non-English)',\n",
       "  'هەوڵدەدەن→Removed(Non-English)',\n",
       "  'ڕاکەن→Removed(Non-English)',\n",
       "  'بەڵام→Removed(Non-English)',\n",
       "  'بۆ→Removed(Non-English)',\n",
       "  'دەبێ→Removed(Non-English)',\n",
       "  'بێزارم→Removed(Non-English)',\n",
       "  'بکەن→Removed(Non-English)',\n",
       "  'بیرم→Removed(Non-English)',\n",
       "  'لێکردۆتەوە→Removed(Non-English)',\n",
       "  'یاکجار→Removed(Non-English)',\n",
       "  'زیاتریش→Removed(Non-English)',\n",
       "  'قەحبە→Removed(Non-English)',\n",
       "  'من→Removed(Non-English)',\n",
       "  'هێشتا→Removed(Non-English)',\n",
       "  'دەفرم→Removed(Non-English)',\n",
       "  'هەروەکو→Removed(Non-English)',\n",
       "  'زنجیرەکەت→Removed(Non-English)',\n",
       "  'ڕاستە→Removed(Non-English)',\n",
       "  'دەوڵەمەند→Removed(Non-English)',\n",
       "  'تربووم→Removed(Non-English)',\n",
       "  'بەڵام→Removed(Non-English)',\n",
       "  'ئەگەر→Removed(Non-English)',\n",
       "  'لەبەر→Removed(Non-English)',\n",
       "  'پارە→Removed(Non-English)',\n",
       "  'بوایە→Removed(Non-English)',\n",
       "  'چەندین→Removed(Non-English)',\n",
       "  'ساڵ→Removed(Non-English)',\n",
       "  'پێش→Removed(Non-English)',\n",
       "  'ئێستا→Removed(Non-English)',\n",
       "  'وازم→Removed(Non-English)',\n",
       "  'هێنابوو→Removed(Non-English)',\n",
       "  'قەحپە→Removed(Non-English)',\n",
       "  'دەمە→Removed(Non-English)',\n",
       "  'حیزەت→Removed(Non-English)',\n",
       "  'داخە→Removed(Non-English)',\n",
       "  'دەبێ→Removed(Non-English)',\n",
       "  'بڕۆم→Removed(Non-English)',\n",
       "  'ئەم→Removed(Non-English)',\n",
       "  'قسانە→Removed(Non-English)',\n",
       "  'بە→Removed(Non-English)',\n",
       "  'تێک→Removed(Non-English)',\n",
       "  'ناین→Removed(Non-English)',\n",
       "  'یان→Removed(Non-English)',\n",
       "  'جەیزی→Removed(Non-English)',\n",
       "  'بڵێم→Removed(Non-English)',\n",
       "  'کەس→Removed(Non-English)',\n",
       "  'هیچی→Removed(Non-English)',\n",
       "  'دەربارەی→Removed(Non-English)',\n",
       "  'تو→Removed(Non-English)',\n",
       "  'چەنیز→Removed(Non-English)',\n",
       "  'نەوت→Removed(Non-English)',\n",
       "  'ماوەیەکی→Removed(Non-English)',\n",
       "  'زۆۆر→Removed(Non-English)',\n",
       "  'لێرە→Removed(Non-English)',\n",
       "  'بوو→Removed(Non-English)',\n",
       "  'نەفرەت→Removed(Non-English)',\n",
       "  'سەرسام→Removed(Non-English)',\n",
       "  'نیم→Removed(Non-English)',\n",
       "  'ئێوە→Removed(Non-English)',\n",
       "  'توڕەن→Removed(Non-English)',\n",
       "  'ئێستا→Removed(Non-English)',\n",
       "  'من→Removed(Non-English)',\n",
       "  'تەماشای→Removed(Non-English)',\n",
       "  'دەکەم→Removed(Non-English)',\n",
       "  'و→Removed(Non-English)',\n",
       "  'خەڵاتەکانم→Removed(Non-English)',\n",
       "  'دەژمێرم→Removed(Non-English)',\n",
       "  'من→Removed(Non-English)',\n",
       "  'ئێلئێل→Removed(Non-English)',\n",
       "  'کوول→Removed(Non-English)',\n",
       "  'ج→Removed(Non-English)',\n",
       "  'یم→Removed(Non-English)',\n",
       "  'گەورە→Removed(Non-English)',\n",
       "  'و→Removed(Non-English)',\n",
       "  'کەڕ→Removed(Non-English)',\n",
       "  'بەم→Removed(Non-English)',\n",
       "  'شێوەیەم→Removed(Non-English)',\n",
       "  'چوار→Removed(Non-English)',\n",
       "  'میلیۆن→Removed(Non-English)',\n",
       "  'دەفرۆشم→Removed(Non-English)',\n",
       "  'کاتێک→Removed(Non-English)',\n",
       "  'ئەلبوومێکی→Removed(Non-English)',\n",
       "  'خراپ→Removed(Non-English)',\n",
       "  'بڵاودەکەم→Removed(Non-English)',\n",
       "  'فەشەلەی→Removed(Non-English)',\n",
       "  'ڕیڤیڤاڵ→Removed(Non-English)',\n",
       "  'دوای→Removed(Non-English)',\n",
       "  'گەڕامەوە→Removed(Non-English)',\n",
       "  'وامکرد→Removed(Non-English)',\n",
       "  'خۆتان→Removed(Non-English)',\n",
       "  'پیس→Removed(Non-English)',\n",
       "  'بکەن→Removed(Non-English)',\n",
       "  'لە→Removed(Non-English)',\n",
       "  'ترسا→Removed(Non-English)',\n",
       "  'بەڵام→Removed(Non-English)',\n",
       "  'ڕۆڵینگ→Removed(Non-English)',\n",
       "  'ستۆن→Removed(Non-English)',\n",
       "  'ستارس→Removed(Non-English)',\n",
       "  'دوو→Removed(Non-English)',\n",
       "  'نیو→Removed(Non-English)',\n",
       "  'یدامێ→Removed(Non-English)',\n",
       "  'لە→Removed(Non-English)',\n",
       "  'پێنجدا→Removed(Non-English)',\n",
       "  'منی→Removed(Non-English)',\n",
       "  'خستە→Removed(Non-English)',\n",
       "  'قاقای→Removed(Non-English)',\n",
       "  'پێکەنین→Removed(Non-English)',\n",
       "  'چونکە→Removed(Non-English)',\n",
       "  'بەم→Removed(Non-English)',\n",
       "  'شێوەیە→Removed(Non-English)',\n",
       "  'لە→Removed(Non-English)',\n",
       "  'خراپ→Removed(Non-English)',\n",
       "  'دەڕوانن→Removed(Non-English)',\n",
       "  'پێشوتر→Removed(Non-English)',\n",
       "  'هێندەی→Removed(Non-English)',\n",
       "  'ئێستا→Removed(Non-English)',\n",
       "  'پێم→Removed(Non-English)',\n",
       "  'ناخۆش→Removed(Non-English)',\n",
       "  'نەبوو→Removed(Non-English)',\n",
       "  'چونکە→Removed(Non-English)',\n",
       "  'ئەوە→Removed(Non-English)',\n",
       "  'بەسەر→Removed(Non-English)',\n",
       "  'جەیمس→Removed(Non-English)',\n",
       "  'هات→Removed(Non-English)',\n",
       "  'دەکرێ→Removed(Non-English)',\n",
       "  'بەسە→Removed(Non-English)',\n",
       "  'شەیدی→Removed(Non-English)',\n",
       "  'دا→Removed(Non-English)',\n",
       "  'ڕوبدات→Removed(Non-English)',\n",
       "  'کە→Removed(Non-English)',\n",
       "  'هەمان→Removed(Non-English)',\n",
       "  'شتیان→Removed(Non-English)',\n",
       "  'بەرامبەر→Removed(Non-English)',\n",
       "  'براندی→Removed(Non-English)',\n",
       "  'کرد→Removed(Non-English)',\n",
       "  'ناحەزم→Removed(Non-English)',\n",
       "  'زیاترە→Removed(Non-English)',\n",
       "  'لەوانەی→Removed(Non-English)',\n",
       "  'خۆشیاندەوێم→Removed(Non-English)',\n",
       "  'ئەم→Removed(Non-English)',\n",
       "  'یاریە→Removed(Non-English)',\n",
       "  'شێتت→Removed(Non-English)',\n",
       "  'دەکات→Removed(Non-English)',\n",
       "  'نزیکت→Removed(Non-English)',\n",
       "  'دەکاتەوە→Removed(Non-English)',\n",
       "  'لە→Removed(Non-English)',\n",
       "  'ئیفلاس→Removed(Non-English)',\n",
       "  'من→Removed(Non-English)',\n",
       "  'مەزنترین→Removed(Non-English)',\n",
       "  'بووم→Removed(Non-English)',\n",
       "  'ساتێ→Removed(Non-English)',\n",
       "  'گۆرانیەکانم→Removed(Non-English)',\n",
       "  'لە→Removed(Non-English)',\n",
       "  'هەموو→Removed(Non-English)',\n",
       "  'وێستگەی→Removed(Non-English)',\n",
       "  'ڕادیۆکان→Removed(Non-English)',\n",
       "  'دەسووڕایەوە→Removed(Non-English)',\n",
       "  'دەیانوت→Removed(Non-English)',\n",
       "  'من→Removed(Non-English)',\n",
       "  'شعرەکانم→Removed(Non-English)',\n",
       "  'ناوازەن→Removed(Non-English)',\n",
       "  'بەڵام→Removed(Non-English)',\n",
       "  'هیچم→Removed(Non-English)',\n",
       "  'نیە→Removed(Non-English)',\n",
       "  'بۆ→Removed(Non-English)',\n",
       "  'وتن→Removed(Non-English)',\n",
       "  'بەڵام→Removed(Non-English)',\n",
       "  'کاتێک→Removed(Non-English)',\n",
       "  'ڕیڤیڤاڵم→Removed(Non-English)',\n",
       "  'بڵاو→Removed(Non-English)',\n",
       "  'کردەوە→Removed(Non-English)',\n",
       "  'شتێکم→Removed(Non-English)',\n",
       "  'هەبوو→Removed(Non-English)',\n",
       "  'بۆ→Removed(Non-English)',\n",
       "  'وتن→Removed(Non-English)',\n",
       "  'وتیان→Removed(Non-English)',\n",
       "  'ڕقیان→Removed(Non-English)',\n",
       "  'لێیە→Removed(Non-English)',\n",
       "  'ڕایانپەڕاندم→Removed(Non-English)',\n",
       "  'توڕەیم→Removed(Non-English)',\n",
       "  'لە→Removed(Non-English)',\n",
       "  'دەست→Removed(Non-English)',\n",
       "  'دا→Removed(Non-English)',\n",
       "  'زۆۆر→Removed(Non-English)',\n",
       "  'تامەزرۆم→Removed(Non-English)',\n",
       "  'پە→Removed(Non-English)',\n",
       "  'شیمان→Removed(Non-English)',\n",
       "  'بوومەوە→Removed(Non-English)',\n",
       "  'وتیان→Removed(Non-English)',\n",
       "  'زۆۆر→Removed(Non-English)',\n",
       "  'توڕەم→Removed(Non-English)',\n",
       "  'پێویستم→Removed(Non-English)',\n",
       "  'بە→Removed(Non-English)',\n",
       "  'هەندێک→Removed(Non-English)',\n",
       "  'بیتی→Removed(Non-English)',\n",
       "  'دری→Removed(Non-English)',\n",
       "  'هەیە→Removed(Non-English)',\n",
       "  'نەخێر→Removed(Non-English)',\n",
       "  'پێویستە→Removed(Non-English)',\n",
       "  'من→Removed(Non-English)',\n",
       "  'لەگەڵ→Removed(Non-English)',\n",
       "  'تای→Removed(Non-English)',\n",
       "  'کیز→Removed(Non-English)',\n",
       "  'دەست→Removed(Non-English)',\n",
       "  'پێبکەم→Removed(Non-English)',\n",
       "  'هاندەران→Removed(Non-English)',\n",
       "  'بەردەوام→Removed(Non-English)',\n",
       "  'پاڵم→Removed(Non-English)',\n",
       "  'دەنێن→Removed(Non-English)',\n",
       "  'لەسەر→Removed(Non-English)',\n",
       "  'یەک→Removed(Non-English)',\n",
       "  'ڕێگا→Removed(Non-English)',\n",
       "  'ناحەزانیش→Removed(Non-English)',\n",
       "  'پاڵم→Removed(Non-English)',\n",
       "  'دەنێم→Removed(Non-English)',\n",
       "  'بۆسەر→Removed(Non-English)',\n",
       "  'ڕێگایەکی→Removed(Non-English)',\n",
       "  'دی→Removed(Non-English)',\n",
       "  'پەیوەندی→Removed(Non-English)',\n",
       "  'زیاترم→Removed(Non-English)',\n",
       "  'هەیە→Removed(Non-English)',\n",
       "  'زیاد→Removed(Non-English)',\n",
       "  'لە→Removed(Non-English)',\n",
       "  'سوەی→Removed(Non-English)',\n",
       "  'لی→Removed(Non-English)',\n",
       "  'پێوویستە→Removed(Non-English)',\n",
       "  'هەندێک→Removed(Non-English)',\n",
       "  'کێشی→Removed(Non-English)',\n",
       "  'قورس→Removed(Non-English)',\n",
       "  'هەڵبگرم→Removed(Non-English)',\n",
       "  'تاکو→Removed(Non-English)',\n",
       "  'تاتۆکەی→Removed(Non-English)',\n",
       "  'هەیلی→Removed(Non-English)',\n",
       "  'درێژبێت→Removed(Non-English)',\n",
       "  'وتیان→Removed(Non-English)',\n",
       "  'گرینۆکێکم→Removed(Non-English)',\n",
       "  'کە→Removed(Non-English)',\n",
       "  'سەوتم→Removed(Non-English)',\n",
       "  'وەکو→Removed(Non-English)',\n",
       "  'منداڵە→Removed(Non-English)',\n",
       "  'بڵاوی→Removed(Non-English)',\n",
       "  'دەکەمەوە→Removed(Non-English)',\n",
       "  'بەڵام→Removed(Non-English)',\n",
       "  'ناتوانم→Removed(Non-English)',\n",
       "  'بیگرم→Removed(Non-English)',\n",
       "  'دەیگرم→Removed(Non-English)',\n",
       "  'بەڵام→Removed(Non-English)',\n",
       "  'ناتوانم→Removed(Non-English)',\n",
       "  'بڵاوی→Removed(Non-English)',\n",
       "  'بکەمەوە→Removed(Non-English)',\n",
       "  'وە→Removed(Non-English)',\n",
       "  'هەموو→Removed(Non-English)',\n",
       "  'چەوتن→Removed(Non-English)',\n",
       "  'لە→Removed(Non-English)',\n",
       "  'دەرەوەی→Removed(Non-English)',\n",
       "  'شێوەی→Removed(Non-English)',\n",
       "  'خۆیان→Removed(Non-English)',\n",
       "  'شتە→Removed(Non-English)',\n",
       "  'قۆڕە→Removed(Non-English)',\n",
       "  'خەریکە→Removed(Non-English)',\n",
       "  'هەزەلی→Removed(Non-English)',\n",
       "  'دەبێت→Removed(Non-English)',\n",
       "  'بوەستە→Removed(Non-English)',\n",
       "  'مەبەستم→Removed(Non-English)',\n",
       "  'بێڕێزیکردن→Removed(Non-English)',\n",
       "  'نەبوو→Removed(Non-English)',\n",
       "  'من→Removed(Non-English)',\n",
       "  'دیسی→Removed(Non-English)',\n",
       "  'تیکم→Removed(Non-English)',\n",
       "  'نەکردوە→Removed(Non-English)',\n",
       "  'و→Removed(Non-English)',\n",
       "  'ئەمە→Removed(Non-English)',\n",
       "  'لێدانێک→Removed(Non-English)',\n",
       "  'نەبوو→Removed(Non-English)',\n",
       "  'لە→Removed(Non-English)',\n",
       "  'توو→Removed(Non-English)',\n",
       "  'چەنز→Removed(Non-English)',\n",
       "  'یان→Removed(Non-English)',\n",
       "  'لە→Removed(Non-English)',\n",
       "  'جەیزی→Removed(Non-English)',\n",
       "  'ئەوان→Removed(Non-English)',\n",
       "  'لەوانەیە→Removed(Non-English)',\n",
       "  'هەست→Removed(Non-English)',\n",
       "  'بە→Removed(Non-English)',\n",
       "  'هەمان→Removed(Non-English)',\n",
       "  'ڕێگای→Removed(Non-English)',\n",
       "  'من→Removed(Non-English)',\n",
       "  'بکەن→Removed(Non-English)',\n",
       "  'چونکە→Removed(Non-English)',\n",
       "  'لە→Removed(Non-English)',\n",
       "  'جیاتی→Removed(Non-English)',\n",
       "  'ئەوەی→Removed(Non-English)',\n",
       "  'هیوای→Removed(Non-English)',\n",
       "  'بەرهەمداریمان→Removed(Non-English)',\n",
       "  'بۆ→Removed(Non-English)',\n",
       "  'ماوەی→Removed(Non-English)',\n",
       "  'درێژ→Removed(Non-English)',\n",
       "  'بخوازن→Removed(Non-English)',\n",
       "  'وە→Removed(Non-English)',\n",
       "  'بەردەوامبین→Removed(Non-English)',\n",
       "  'بەرز→Removed(Non-English)',\n",
       "  'بڕۆین→Removed(Non-English)',\n",
       "  'بۆ→Removed(Non-English)',\n",
       "  'ماوەیەکی→Removed(Non-English)',\n",
       "  'زۆۆر→Removed(Non-English)',\n",
       "  'تا→Removed(Non-English)',\n",
       "  'لەم→Removed(Non-English)',\n",
       "  'ئاستە→Removed(Non-English)',\n",
       "  'پێمان→Removed(Non-English)',\n",
       "  'وتراوە→Removed(Non-English)',\n",
       "  'کە→Removed(Non-English)',\n",
       "  'هەرگیز→Removed(Non-English)',\n",
       "  'نابینەوە→Removed(Non-English)',\n",
       "  'بەوەی→Removed(Non-English)',\n",
       "  'کە→Removed(Non-English)',\n",
       "  'پێشووتر→Removed(Non-English)',\n",
       "  'بوین→Removed(Non-English)',\n",
       "  'قەحپە→Removed(Non-English)',\n",
       "  'ئەگەر→Removed(Non-English)',\n",
       "  'نیو→Removed(Non-English)',\n",
       "  'ئەوەنەی→Removed(Non-English)',\n",
       "  'پێشوو→Removed(Non-English)',\n",
       "  'باشبومایە→Removed(Non-English)',\n",
       "  'من→Removed(Non-English)',\n",
       "  'هێشتا→Removed(Non-English)',\n",
       "  'دوو→Removed(Non-English)',\n",
       "  'هێندەی→Removed(Non-English)',\n",
       "  'تۆ→Removed(Non-English)',\n",
       "  'باشترم→Removed(Non-English)',\n",
       "  'لە→Removed(Non-English)',\n",
       "  'بەرزترین→Removed(Non-English)',\n",
       "  'ئاستتدا→Removed(Non-English)',\n",
       "  'تاکە→Removed(Non-English)',\n",
       "  'ڕێگا→Removed(Non-English)',\n",
       "  'کە→Removed(Non-English)',\n",
       "  'لە→Removed(Non-English)',\n",
       "  'سەرو→Removed(Non-English)',\n",
       "  'من→Removed(Non-English)',\n",
       "  'بیت→Removed(Non-English)',\n",
       "  'بە→Removed(Non-English)',\n",
       "  'ئەلفوبێیــە→Removed(Non-English)',\n",
       "  'چوونکە→Removed(Non-English)',\n",
       "  'ئەگەر→Removed(Non-English)',\n",
       "  'دیسم→Removed(Non-English)',\n",
       "  'بکەیت→Removed(Non-English)',\n",
       "  'من→Removed(Non-English)',\n",
       "  'بۆت→Removed(Non-English)',\n",
       "  'دێم→Removed(Non-English)',\n",
       "  'وەکو→Removed(Non-English)',\n",
       "  'ڤیـ→Removed(Non-English)',\n",
       "  'پچووک→Removed(Non-English)',\n",
       "  'هەمووشت→Removed(Non-English)',\n",
       "  'دەکوژم→Removed(Non-English)',\n",
       "  'ئەم→Removed(Non-English)',\n",
       "  'تۆنە→Removed(Non-English)',\n",
       "  'لێبدە→Removed(Non-English)',\n",
       "  'پەسەندی→Removed(Non-English)',\n",
       "  'تۆیە→Removed(Non-English)',\n",
       "  'ئەمە→Removed(Non-English)',\n",
       "  'دارمەیتی→Removed(Non-English)',\n",
       "  'تۆیە→Removed(Non-English)',\n",
       "  'ئامادە→Removed(Non-English)',\n",
       "  'بە→Removed(Non-English)',\n",
       "  'بۆ→Removed(Non-English)',\n",
       "  'مردن→Removed(Non-English)',\n",
       "  'ئەم→Removed(Non-English)',\n",
       "  'میوزیکە→Removed(Non-English)',\n",
       "  'بۆ→Removed(Non-English)',\n",
       "  'تۆیە→Removed(Non-English)',\n",
       "  'تا→Removed(Non-English)',\n",
       "  'پێی→Removed(Non-English)',\n",
       "  'بکوژرێیت→Removed(Non-English)'])"
      ]
     },
     "execution_count": 55,
     "metadata": {},
     "output_type": "execute_result"
    }
   ],
   "source": [
    "preprocess_text(filtered_df.loc[2865, 'Lyric'], valid_words)\n"
   ]
  },
  {
   "cell_type": "code",
   "execution_count": 62,
   "metadata": {},
   "outputs": [
    {
     "data": {
      "text/plain": [
       "Artist              0\n",
       "Title               0\n",
       "Lyric               0\n",
       "Misspelled_Words    0\n",
       "Lyric_Filtered      1\n",
       "dtype: int64"
      ]
     },
     "execution_count": 62,
     "metadata": {},
     "output_type": "execute_result"
    }
   ],
   "source": [
    "filtered_df.isnull().sum()"
   ]
  },
  {
   "cell_type": "code",
   "execution_count": 63,
   "metadata": {},
   "outputs": [],
   "source": [
    "filtered_df = filtered_df.dropna(subset=['Lyric_Filtered'])\n"
   ]
  },
  {
   "cell_type": "code",
   "execution_count": 64,
   "metadata": {},
   "outputs": [
    {
     "data": {
      "text/plain": [
       "Artist              0\n",
       "Title               0\n",
       "Lyric               0\n",
       "Misspelled_Words    0\n",
       "Lyric_Filtered      0\n",
       "dtype: int64"
      ]
     },
     "execution_count": 64,
     "metadata": {},
     "output_type": "execute_result"
    }
   ],
   "source": [
    "filtered_df.isnull().sum()"
   ]
  },
  {
   "cell_type": "code",
   "execution_count": 66,
   "metadata": {},
   "outputs": [
    {
     "data": {
      "text/plain": [
       "(5710, 5)"
      ]
     },
     "execution_count": 66,
     "metadata": {},
     "output_type": "execute_result"
    }
   ],
   "source": [
    "filtered_df.shape"
   ]
  },
  {
   "cell_type": "markdown",
   "metadata": {},
   "source": [
    "## Feature Engineering"
   ]
  },
  {
   "cell_type": "code",
   "execution_count": null,
   "metadata": {},
   "outputs": [],
   "source": [
    "# # Creating a mapping dictionary from artist to genre\n",
    "# genre_map = {\n",
    "#     'Eminem': 'Hip Hop / Rap',\n",
    "#     'Taylor Swift': 'Pop / Country / Synthpop',\n",
    "#     'Drake': 'Hip Hop / Rap / R&B',\n",
    "#     'Beyoncé': 'R&B / Pop / Hip Hop',\n",
    "#     'Rihanna': 'Pop / R&B / Dancehall',\n",
    "#     'Lady Gaga': 'Pop / Dance / Electronic',\n",
    "#     'Justin Bieber': 'Pop / R&B',\n",
    "#     'Coldplay': 'Alternative Rock / Pop Rock',\n",
    "#     'Katy Perry': 'Pop',\n",
    "#     'Nicki Minaj': 'Hip Hop / Rap / Pop',\n",
    "#     'Ariana Grande': 'Pop / R&B',\n",
    "#     'Ed Sheeran': 'Pop / Folk Pop',\n",
    "#     'BTS (방탄소년단)': 'K-pop / Pop / Hip Hop',\n",
    "#     'Dua Lipa': 'Pop / Dance / Disco',\n",
    "#     'Maroon 5': 'Pop Rock / Funk Pop',\n",
    "#     'Selena Gomez': 'Pop / Dance Pop',\n",
    "#     'Post Malone': 'Hip Hop / Pop / Trap',\n",
    "#     'Billie Eilish': 'Alternative / Pop / Electropop',\n",
    "#     'Charlie Puth': 'Pop / R&B',\n",
    "#     'Cardi B': 'Hip Hop / Rap',\n",
    "#     'Khalid': 'R&B / Pop / Soul'\n",
    "# }"
   ]
  },
  {
   "cell_type": "code",
   "execution_count": null,
   "metadata": {},
   "outputs": [],
   "source": [
    "# Adding the new 'Genre' column based on the mapping\n",
    "\n",
    "# df['Genre'] = df['Artist'].map(genre_map)"
   ]
  },
  {
   "cell_type": "code",
   "execution_count": null,
   "metadata": {},
   "outputs": [
    {
     "data": {
      "text/html": [
       "<div>\n",
       "<style scoped>\n",
       "    .dataframe tbody tr th:only-of-type {\n",
       "        vertical-align: middle;\n",
       "    }\n",
       "\n",
       "    .dataframe tbody tr th {\n",
       "        vertical-align: top;\n",
       "    }\n",
       "\n",
       "    .dataframe thead th {\n",
       "        text-align: right;\n",
       "    }\n",
       "</style>\n",
       "<table border=\"1\" class=\"dataframe\">\n",
       "  <thead>\n",
       "    <tr style=\"text-align: right;\">\n",
       "      <th></th>\n",
       "      <th>Artist</th>\n",
       "      <th>Title</th>\n",
       "      <th>Lyric</th>\n",
       "      <th>Genre</th>\n",
       "    </tr>\n",
       "  </thead>\n",
       "  <tbody>\n",
       "    <tr>\n",
       "      <th>0</th>\n",
       "      <td>Ariana Grande</td>\n",
       "      <td>​thank u, next</td>\n",
       "      <td>thought i'd end up with sean but he wasn't a m...</td>\n",
       "      <td>Pop / R&amp;B</td>\n",
       "    </tr>\n",
       "    <tr>\n",
       "      <th>1</th>\n",
       "      <td>Ariana Grande</td>\n",
       "      <td>7 rings</td>\n",
       "      <td>yeah breakfast at tiffany's and bottles of bub...</td>\n",
       "      <td>Pop / R&amp;B</td>\n",
       "    </tr>\n",
       "    <tr>\n",
       "      <th>2</th>\n",
       "      <td>Ariana Grande</td>\n",
       "      <td>​God is a woman</td>\n",
       "      <td>you you love it how i move you you love it how...</td>\n",
       "      <td>Pop / R&amp;B</td>\n",
       "    </tr>\n",
       "    <tr>\n",
       "      <th>3</th>\n",
       "      <td>Ariana Grande</td>\n",
       "      <td>Side To Side</td>\n",
       "      <td>ariana grande  nicki minaj i've been here all ...</td>\n",
       "      <td>Pop / R&amp;B</td>\n",
       "    </tr>\n",
       "    <tr>\n",
       "      <th>4</th>\n",
       "      <td>Ariana Grande</td>\n",
       "      <td>​​no tears left to cry</td>\n",
       "      <td>right now i'm in a state of mind i wanna be in...</td>\n",
       "      <td>Pop / R&amp;B</td>\n",
       "    </tr>\n",
       "  </tbody>\n",
       "</table>\n",
       "</div>"
      ],
      "text/plain": [
       "          Artist                   Title  \\\n",
       "0  Ariana Grande          ​thank u, next   \n",
       "1  Ariana Grande                 7 rings   \n",
       "2  Ariana Grande         ​God is a woman   \n",
       "3  Ariana Grande            Side To Side   \n",
       "4  Ariana Grande  ​​no tears left to cry   \n",
       "\n",
       "                                               Lyric      Genre  \n",
       "0  thought i'd end up with sean but he wasn't a m...  Pop / R&B  \n",
       "1  yeah breakfast at tiffany's and bottles of bub...  Pop / R&B  \n",
       "2  you you love it how i move you you love it how...  Pop / R&B  \n",
       "3  ariana grande  nicki minaj i've been here all ...  Pop / R&B  \n",
       "4  right now i'm in a state of mind i wanna be in...  Pop / R&B  "
      ]
     },
     "execution_count": 20,
     "metadata": {},
     "output_type": "execute_result"
    }
   ],
   "source": [
    "# df.head()"
   ]
  },
  {
   "cell_type": "code",
   "execution_count": null,
   "metadata": {},
   "outputs": [
    {
     "data": {
      "text/plain": [
       "0"
      ]
     },
     "execution_count": 22,
     "metadata": {},
     "output_type": "execute_result"
    }
   ],
   "source": [
    "# df['Genre'].isnull().sum()"
   ]
  },
  {
   "cell_type": "code",
   "execution_count": null,
   "metadata": {},
   "outputs": [
    {
     "data": {
      "text/plain": [
       "Genre\n",
       "Pop / R&B                         730\n",
       "Hip Hop / Rap                     596\n",
       "Pop / Country / Synthpop          477\n",
       "Hip Hop / Rap / R&B               464\n",
       "R&B / Pop / Hip Hop               406\n",
       "Pop / R&B / Dancehall             397\n",
       "Pop / Dance / Electronic          395\n",
       "Alternative Rock / Pop Rock       333\n",
       "Pop                               324\n",
       "Hip Hop / Rap / Pop               321\n",
       "Pop / Folk Pop                    294\n",
       "K-pop / Pop / Hip Hop             270\n",
       "Pop / Dance / Disco               246\n",
       "Pop Rock / Funk Pop               197\n",
       "Pop / Dance Pop                   174\n",
       "Hip Hop / Pop / Trap              148\n",
       "Alternative / Pop / Electropop    145\n",
       "R&B / Pop / Soul                   64\n",
       "Name: count, dtype: int64"
      ]
     },
     "execution_count": 23,
     "metadata": {},
     "output_type": "execute_result"
    }
   ],
   "source": [
    "# df['Genre'].value_counts()"
   ]
  },
  {
   "cell_type": "code",
   "execution_count": null,
   "metadata": {},
   "outputs": [
    {
     "data": {
      "text/plain": [
       "array(['Pop / R&B', 'R&B / Pop / Hip Hop',\n",
       "       'Alternative / Pop / Electropop', 'K-pop / Pop / Hip Hop',\n",
       "       'Hip Hop / Rap', 'Alternative Rock / Pop Rock',\n",
       "       'Hip Hop / Rap / R&B', 'Pop / Dance / Disco', 'Pop / Folk Pop',\n",
       "       'Pop', 'R&B / Pop / Soul', 'Pop / Dance / Electronic',\n",
       "       'Pop Rock / Funk Pop', 'Hip Hop / Rap / Pop',\n",
       "       'Hip Hop / Pop / Trap', 'Pop / R&B / Dancehall', 'Pop / Dance Pop',\n",
       "       'Pop / Country / Synthpop'], dtype=object)"
      ]
     },
     "execution_count": 24,
     "metadata": {},
     "output_type": "execute_result"
    }
   ],
   "source": [
    "# df['Genre'].unique()"
   ]
  },
  {
   "cell_type": "code",
   "execution_count": null,
   "metadata": {},
   "outputs": [],
   "source": []
  }
 ],
 "metadata": {
  "kernelspec": {
   "display_name": "base",
   "language": "python",
   "name": "python3"
  },
  "language_info": {
   "codemirror_mode": {
    "name": "ipython",
    "version": 3
   },
   "file_extension": ".py",
   "mimetype": "text/x-python",
   "name": "python",
   "nbconvert_exporter": "python",
   "pygments_lexer": "ipython3",
   "version": "3.12.7"
  }
 },
 "nbformat": 4,
 "nbformat_minor": 2
}
